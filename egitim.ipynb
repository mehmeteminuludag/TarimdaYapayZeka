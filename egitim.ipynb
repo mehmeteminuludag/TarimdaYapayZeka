{
 "cells": [
  {
   "cell_type": "code",
   "execution_count": 1,
   "id": "cfd33f1f-5e7c-42cb-8abd-7316f6088f05",
   "metadata": {},
   "outputs": [
    {
     "name": "stdout",
     "output_type": "stream",
     "text": [
      "cuda\n"
     ]
    }
   ],
   "source": [
    "import os\n",
    "import gc\n",
    "import torch\n",
    "import yaml\n",
    "import shutil\n",
    "import numpy as np\n",
    "from ultralytics import YOLO\n",
    "from sklearn.model_selection import KFold\n",
    "\n",
    "device = 'cuda' if torch.cuda.is_available() else 'cpu'\n",
    "print(device)"
   ]
  },
  {
   "cell_type": "markdown",
   "id": "88036cdc",
   "metadata": {},
   "source": [
    "CROSS VALİDATİON İÇİN YAML DOSYALARI DİNAMİK OLARAK DEĞİŞTİRİLİYOR VE EĞİTİM YAPILIYOR"
   ]
  },
  {
   "cell_type": "code",
   "execution_count": 2,
   "id": "7572e5e0",
   "metadata": {},
   "outputs": [
    {
     "name": "stdout",
     "output_type": "stream",
     "text": [
      "1.Eğitim başlıyor\n",
      "New https://pypi.org/project/ultralytics/8.3.40 available  Update with 'pip install -U ultralytics'\n",
      "Ultralytics 8.3.5  Python-3.9.20 torch-2.4.1+cu121 CUDA:0 (NVIDIA GeForce RTX 3050 Laptop GPU, 4096MiB)\n",
      "\u001b[34m\u001b[1mengine\\trainer: \u001b[0mtask=detect, mode=train, model=D:\\tarimda_yapay_zeka\\yolo11n.pt, data=C:\\Users\\Mehmet\\Desktop\\splited_wheat_dataset\\wheat_dataset_yaml.yaml, epochs=20, time=None, patience=100, batch=4, imgsz=640, save=True, save_period=-1, cache=False, device=None, workers=8, project=C:\\Users\\Mehmet\\Desktop\\whead_dataset\\results, name=train6, exist_ok=False, pretrained=True, optimizer=auto, verbose=True, seed=0, deterministic=True, single_cls=False, rect=False, cos_lr=False, close_mosaic=10, resume=False, amp=True, fraction=1.0, profile=False, freeze=None, multi_scale=False, overlap_mask=True, mask_ratio=4, dropout=0.0, val=True, split=val, save_json=False, save_hybrid=False, conf=None, iou=0.7, max_det=300, half=False, dnn=False, plots=True, source=None, vid_stride=1, stream_buffer=False, visualize=False, augment=False, agnostic_nms=False, classes=None, retina_masks=False, embed=None, show=False, save_frames=False, save_txt=False, save_conf=False, save_crop=False, show_labels=True, show_conf=True, show_boxes=True, line_width=None, format=torchscript, keras=False, optimize=False, int8=False, dynamic=False, simplify=True, opset=None, workspace=4, nms=False, lr0=0.01, lrf=0.01, momentum=0.937, weight_decay=0.0005, warmup_epochs=3.0, warmup_momentum=0.8, warmup_bias_lr=0.1, box=7.5, cls=0.5, dfl=1.5, pose=12.0, kobj=1.0, label_smoothing=0.0, nbs=64, hsv_h=0.015, hsv_s=0.7, hsv_v=0.4, degrees=0.0, translate=0.1, scale=0.5, shear=0.0, perspective=0.0, flipud=0.0, fliplr=0.5, bgr=0.0, mosaic=1.0, mixup=0.0, copy_paste=0.0, copy_paste_mode=flip, auto_augment=randaugment, erasing=0.4, crop_fraction=1.0, cfg=None, tracker=botsort.yaml, save_dir=C:\\Users\\Mehmet\\Desktop\\whead_dataset\\results\\train6\n",
      "Overriding model.yaml nc=80 with nc=10\n",
      "\n",
      "                   from  n    params  module                                       arguments                     \n",
      "  0                  -1  1       464  ultralytics.nn.modules.conv.Conv             [3, 16, 3, 2]                 \n",
      "  1                  -1  1      4672  ultralytics.nn.modules.conv.Conv             [16, 32, 3, 2]                \n",
      "  2                  -1  1      6640  ultralytics.nn.modules.block.C3k2            [32, 64, 1, False, 0.25]      \n",
      "  3                  -1  1     36992  ultralytics.nn.modules.conv.Conv             [64, 64, 3, 2]                \n",
      "  4                  -1  1     26080  ultralytics.nn.modules.block.C3k2            [64, 128, 1, False, 0.25]     \n",
      "  5                  -1  1    147712  ultralytics.nn.modules.conv.Conv             [128, 128, 3, 2]              \n",
      "  6                  -1  1     87040  ultralytics.nn.modules.block.C3k2            [128, 128, 1, True]           \n",
      "  7                  -1  1    295424  ultralytics.nn.modules.conv.Conv             [128, 256, 3, 2]              \n",
      "  8                  -1  1    346112  ultralytics.nn.modules.block.C3k2            [256, 256, 1, True]           \n",
      "  9                  -1  1    164608  ultralytics.nn.modules.block.SPPF            [256, 256, 5]                 \n",
      " 10                  -1  1    249728  ultralytics.nn.modules.block.C2PSA           [256, 256, 1]                 \n",
      " 11                  -1  1         0  torch.nn.modules.upsampling.Upsample         [None, 2, 'nearest']          \n",
      " 12             [-1, 6]  1         0  ultralytics.nn.modules.conv.Concat           [1]                           \n",
      " 13                  -1  1    111296  ultralytics.nn.modules.block.C3k2            [384, 128, 1, False]          \n",
      " 14                  -1  1         0  torch.nn.modules.upsampling.Upsample         [None, 2, 'nearest']          \n",
      " 15             [-1, 4]  1         0  ultralytics.nn.modules.conv.Concat           [1]                           \n",
      " 16                  -1  1     32096  ultralytics.nn.modules.block.C3k2            [256, 64, 1, False]           \n",
      " 17                  -1  1     36992  ultralytics.nn.modules.conv.Conv             [64, 64, 3, 2]                \n",
      " 18            [-1, 13]  1         0  ultralytics.nn.modules.conv.Concat           [1]                           \n",
      " 19                  -1  1     86720  ultralytics.nn.modules.block.C3k2            [192, 128, 1, False]          \n",
      " 20                  -1  1    147712  ultralytics.nn.modules.conv.Conv             [128, 128, 3, 2]              \n",
      " 21            [-1, 10]  1         0  ultralytics.nn.modules.conv.Concat           [1]                           \n",
      " 22                  -1  1    378880  ultralytics.nn.modules.block.C3k2            [384, 256, 1, True]           \n",
      " 23        [16, 19, 22]  1    432622  ultralytics.nn.modules.head.Detect           [10, [64, 128, 256]]          \n",
      "YOLO11n summary: 319 layers, 2,591,790 parameters, 2,591,774 gradients, 6.5 GFLOPs\n",
      "\n",
      "Transferred 448/499 items from pretrained weights\n",
      "Freezing layer 'model.23.dfl.conv.weight'\n",
      "\u001b[34m\u001b[1mAMP: \u001b[0mrunning Automatic Mixed Precision (AMP) checks with YOLO11n...\n",
      "\u001b[34m\u001b[1mAMP: \u001b[0mchecks passed \n"
     ]
    },
    {
     "name": "stderr",
     "output_type": "stream",
     "text": [
      "\u001b[34m\u001b[1mtrain: \u001b[0mScanning C:\\Users\\Mehmet\\Desktop\\new_splited_wheat_dataset\\tmp_train\\labels\\Bayraktar2000Vitreous... 845 images, 0 backgrounds, 0 corrupt: 100%|██████████| 845/845 [00:58<00:00, 14.37it/s]"
     ]
    },
    {
     "name": "stdout",
     "output_type": "stream",
     "text": [
      "\u001b[34m\u001b[1mtrain: \u001b[0mWARNING  C:\\Users\\Mehmet\\Desktop\\new_splited_wheat_dataset\\tmp_train\\images\\Bayraktar2000Vitreous\\20220426_144726.jpg: corrupt JPEG restored and saved\n",
      "\u001b[34m\u001b[1mtrain: \u001b[0mWARNING  C:\\Users\\Mehmet\\Desktop\\new_splited_wheat_dataset\\tmp_train\\images\\Bayraktar2000Vitreous\\20220426_144729.jpg: corrupt JPEG restored and saved\n",
      "\u001b[34m\u001b[1mtrain: \u001b[0mWARNING  C:\\Users\\Mehmet\\Desktop\\new_splited_wheat_dataset\\tmp_train\\images\\Bayraktar2000Vitreous\\20220426_144737.jpg: corrupt JPEG restored and saved\n",
      "\u001b[34m\u001b[1mtrain: \u001b[0mWARNING  C:\\Users\\Mehmet\\Desktop\\new_splited_wheat_dataset\\tmp_train\\images\\Bayraktar2000Vitreous\\20220426_144740.jpg: corrupt JPEG restored and saved\n",
      "\u001b[34m\u001b[1mtrain: \u001b[0mWARNING  C:\\Users\\Mehmet\\Desktop\\new_splited_wheat_dataset\\tmp_train\\images\\Bayraktar2000Vitreous\\20220426_144746.jpg: corrupt JPEG restored and saved\n",
      "\u001b[34m\u001b[1mtrain: \u001b[0mWARNING  C:\\Users\\Mehmet\\Desktop\\new_splited_wheat_dataset\\tmp_train\\images\\Bayraktar2000Vitreous\\20220426_144753.jpg: corrupt JPEG restored and saved\n",
      "\u001b[34m\u001b[1mtrain: \u001b[0mWARNING  C:\\Users\\Mehmet\\Desktop\\new_splited_wheat_dataset\\tmp_train\\images\\Bayraktar2000Vitreous\\20220426_144759.jpg: corrupt JPEG restored and saved\n",
      "\u001b[34m\u001b[1mtrain: \u001b[0mWARNING  C:\\Users\\Mehmet\\Desktop\\new_splited_wheat_dataset\\tmp_train\\images\\Bayraktar2000Vitreous\\20220426_144804.jpg: corrupt JPEG restored and saved\n",
      "\u001b[34m\u001b[1mtrain: \u001b[0mWARNING  C:\\Users\\Mehmet\\Desktop\\new_splited_wheat_dataset\\tmp_train\\images\\Bayraktar2000Vitreous\\20220426_144806.jpg: corrupt JPEG restored and saved\n",
      "\u001b[34m\u001b[1mtrain: \u001b[0mWARNING  C:\\Users\\Mehmet\\Desktop\\new_splited_wheat_dataset\\tmp_train\\images\\Bayraktar2000Vitreous\\20220426_144809.jpg: corrupt JPEG restored and saved\n",
      "\u001b[34m\u001b[1mtrain: \u001b[0mWARNING  C:\\Users\\Mehmet\\Desktop\\new_splited_wheat_dataset\\tmp_train\\images\\Bayraktar2000Vitreous\\20220426_144811.jpg: corrupt JPEG restored and saved\n",
      "\u001b[34m\u001b[1mtrain: \u001b[0mWARNING  C:\\Users\\Mehmet\\Desktop\\new_splited_wheat_dataset\\tmp_train\\images\\Bayraktar2000Vitreous\\20220426_144814.jpg: corrupt JPEG restored and saved\n",
      "\u001b[34m\u001b[1mtrain: \u001b[0mWARNING  C:\\Users\\Mehmet\\Desktop\\new_splited_wheat_dataset\\tmp_train\\images\\Bayraktar2000Vitreous\\20220426_144824.jpg: corrupt JPEG restored and saved\n",
      "\u001b[34m\u001b[1mtrain: \u001b[0mWARNING  C:\\Users\\Mehmet\\Desktop\\new_splited_wheat_dataset\\tmp_train\\images\\Bayraktar2000Vitreous\\20220426_144826.jpg: corrupt JPEG restored and saved\n",
      "\u001b[34m\u001b[1mtrain: \u001b[0mWARNING  C:\\Users\\Mehmet\\Desktop\\new_splited_wheat_dataset\\tmp_train\\images\\Bayraktar2000Vitreous\\20220426_144828.jpg: corrupt JPEG restored and saved\n",
      "\u001b[34m\u001b[1mtrain: \u001b[0mWARNING  C:\\Users\\Mehmet\\Desktop\\new_splited_wheat_dataset\\tmp_train\\images\\Bayraktar2000Vitreous\\20220426_144834.jpg: corrupt JPEG restored and saved\n",
      "\u001b[34m\u001b[1mtrain: \u001b[0mWARNING  C:\\Users\\Mehmet\\Desktop\\new_splited_wheat_dataset\\tmp_train\\images\\Bayraktar2000Vitreous\\20220426_144838.jpg: corrupt JPEG restored and saved\n",
      "\u001b[34m\u001b[1mtrain: \u001b[0mWARNING  C:\\Users\\Mehmet\\Desktop\\new_splited_wheat_dataset\\tmp_train\\images\\Bayraktar2000Vitreous\\20220426_144841.jpg: corrupt JPEG restored and saved\n",
      "\u001b[34m\u001b[1mtrain: \u001b[0mWARNING  C:\\Users\\Mehmet\\Desktop\\new_splited_wheat_dataset\\tmp_train\\images\\Bayraktar2000Vitreous\\20220426_144844.jpg: corrupt JPEG restored and saved\n",
      "\u001b[34m\u001b[1mtrain: \u001b[0mWARNING  C:\\Users\\Mehmet\\Desktop\\new_splited_wheat_dataset\\tmp_train\\images\\Bayraktar2000Vitreous\\20220426_144853.jpg: corrupt JPEG restored and saved\n",
      "\u001b[34m\u001b[1mtrain: \u001b[0mWARNING  C:\\Users\\Mehmet\\Desktop\\new_splited_wheat_dataset\\tmp_train\\images\\Bayraktar2000Vitreous\\20220426_144856.jpg: corrupt JPEG restored and saved\n",
      "\u001b[34m\u001b[1mtrain: \u001b[0mWARNING  C:\\Users\\Mehmet\\Desktop\\new_splited_wheat_dataset\\tmp_train\\images\\Bayraktar2000Vitreous\\20220426_144858.jpg: corrupt JPEG restored and saved\n",
      "\u001b[34m\u001b[1mtrain: \u001b[0mWARNING  C:\\Users\\Mehmet\\Desktop\\new_splited_wheat_dataset\\tmp_train\\images\\Bayraktar2000Vitreous\\20220426_144900.jpg: corrupt JPEG restored and saved\n",
      "\u001b[34m\u001b[1mtrain: \u001b[0mWARNING  C:\\Users\\Mehmet\\Desktop\\new_splited_wheat_dataset\\tmp_train\\images\\Bayraktar2000Vitreous\\20220426_144902.jpg: corrupt JPEG restored and saved\n",
      "\u001b[34m\u001b[1mtrain: \u001b[0mWARNING  C:\\Users\\Mehmet\\Desktop\\new_splited_wheat_dataset\\tmp_train\\images\\Bayraktar2000Vitreous\\20220426_144937.jpg: corrupt JPEG restored and saved\n",
      "\u001b[34m\u001b[1mtrain: \u001b[0mWARNING  C:\\Users\\Mehmet\\Desktop\\new_splited_wheat_dataset\\tmp_train\\images\\Bayraktar2000Vitreous\\20220426_144956.jpg: corrupt JPEG restored and saved\n",
      "\u001b[34m\u001b[1mtrain: \u001b[0mWARNING  C:\\Users\\Mehmet\\Desktop\\new_splited_wheat_dataset\\tmp_train\\images\\Bayraktar2000Vitreous\\20220426_145001.jpg: corrupt JPEG restored and saved\n",
      "\u001b[34m\u001b[1mtrain: \u001b[0mWARNING  C:\\Users\\Mehmet\\Desktop\\new_splited_wheat_dataset\\tmp_train\\images\\Bayraktar2000Vitreous\\20220426_145003.jpg: corrupt JPEG restored and saved\n",
      "\u001b[34m\u001b[1mtrain: \u001b[0mWARNING  C:\\Users\\Mehmet\\Desktop\\new_splited_wheat_dataset\\tmp_train\\images\\Bayraktar2000Vitreous\\20220426_145005.jpg: corrupt JPEG restored and saved\n",
      "\u001b[34m\u001b[1mtrain: \u001b[0mWARNING  C:\\Users\\Mehmet\\Desktop\\new_splited_wheat_dataset\\tmp_train\\images\\Bayraktar2000Vitreous\\20220426_145008.jpg: corrupt JPEG restored and saved\n",
      "\u001b[34m\u001b[1mtrain: \u001b[0mWARNING  C:\\Users\\Mehmet\\Desktop\\new_splited_wheat_dataset\\tmp_train\\images\\Bayraktar2000Vitreous\\20220426_145032.jpg: corrupt JPEG restored and saved\n",
      "\u001b[34m\u001b[1mtrain: \u001b[0mWARNING  C:\\Users\\Mehmet\\Desktop\\new_splited_wheat_dataset\\tmp_train\\images\\Bayraktar2000Vitreous\\20220426_145034.jpg: corrupt JPEG restored and saved\n",
      "\u001b[34m\u001b[1mtrain: \u001b[0mWARNING  C:\\Users\\Mehmet\\Desktop\\new_splited_wheat_dataset\\tmp_train\\images\\Bayraktar2000Vitreous\\20220426_145037.jpg: corrupt JPEG restored and saved\n",
      "\u001b[34m\u001b[1mtrain: \u001b[0mWARNING  C:\\Users\\Mehmet\\Desktop\\new_splited_wheat_dataset\\tmp_train\\images\\Bayraktar2000Vitreous\\20220426_145055.jpg: corrupt JPEG restored and saved\n",
      "\u001b[34m\u001b[1mtrain: \u001b[0mWARNING  C:\\Users\\Mehmet\\Desktop\\new_splited_wheat_dataset\\tmp_train\\images\\Bayraktar2000Vitreous\\20220426_145058.jpg: corrupt JPEG restored and saved\n",
      "\u001b[34m\u001b[1mtrain: \u001b[0mWARNING  C:\\Users\\Mehmet\\Desktop\\new_splited_wheat_dataset\\tmp_train\\images\\Bayraktar2000Vitreous\\20220426_145115.jpg: corrupt JPEG restored and saved\n",
      "\u001b[34m\u001b[1mtrain: \u001b[0mWARNING  C:\\Users\\Mehmet\\Desktop\\new_splited_wheat_dataset\\tmp_train\\images\\Bayraktar2000Vitreous\\20220426_145119.jpg: corrupt JPEG restored and saved\n",
      "\u001b[34m\u001b[1mtrain: \u001b[0mWARNING  C:\\Users\\Mehmet\\Desktop\\new_splited_wheat_dataset\\tmp_train\\images\\Bayraktar2000Vitreous\\20220426_145122.jpg: corrupt JPEG restored and saved\n",
      "\u001b[34m\u001b[1mtrain: \u001b[0mWARNING  C:\\Users\\Mehmet\\Desktop\\new_splited_wheat_dataset\\tmp_train\\images\\Bayraktar2000Vitreous\\20220426_145127.jpg: corrupt JPEG restored and saved\n",
      "\u001b[34m\u001b[1mtrain: \u001b[0mWARNING  C:\\Users\\Mehmet\\Desktop\\new_splited_wheat_dataset\\tmp_train\\images\\Bayraktar2000Vitreous\\20220426_145137.jpg: corrupt JPEG restored and saved\n",
      "\u001b[34m\u001b[1mtrain: \u001b[0mWARNING  C:\\Users\\Mehmet\\Desktop\\new_splited_wheat_dataset\\tmp_train\\images\\Bayraktar2000Vitreous\\20220426_145140.jpg: corrupt JPEG restored and saved\n",
      "\u001b[34m\u001b[1mtrain: \u001b[0mWARNING  C:\\Users\\Mehmet\\Desktop\\new_splited_wheat_dataset\\tmp_train\\images\\Bayraktar2000Vitreous\\20220426_145151.jpg: corrupt JPEG restored and saved\n",
      "\u001b[34m\u001b[1mtrain: \u001b[0mWARNING  C:\\Users\\Mehmet\\Desktop\\new_splited_wheat_dataset\\tmp_train\\images\\Bayraktar2000Vitreous\\20220426_145157.jpg: corrupt JPEG restored and saved\n",
      "\u001b[34m\u001b[1mtrain: \u001b[0mWARNING  C:\\Users\\Mehmet\\Desktop\\new_splited_wheat_dataset\\tmp_train\\images\\Bayraktar2000Vitreous\\20220426_145203.jpg: corrupt JPEG restored and saved\n",
      "\u001b[34m\u001b[1mtrain: \u001b[0mWARNING  C:\\Users\\Mehmet\\Desktop\\new_splited_wheat_dataset\\tmp_train\\images\\Bayraktar2000Vitreous\\20220426_145209.jpg: corrupt JPEG restored and saved\n",
      "\u001b[34m\u001b[1mtrain: \u001b[0mWARNING  C:\\Users\\Mehmet\\Desktop\\new_splited_wheat_dataset\\tmp_train\\images\\Bayraktar2000Vitreous\\20220426_145215.jpg: corrupt JPEG restored and saved\n",
      "\u001b[34m\u001b[1mtrain: \u001b[0mWARNING  C:\\Users\\Mehmet\\Desktop\\new_splited_wheat_dataset\\tmp_train\\images\\Bayraktar2000Vitreous\\20220426_145234.jpg: corrupt JPEG restored and saved\n",
      "\u001b[34m\u001b[1mtrain: \u001b[0mWARNING  C:\\Users\\Mehmet\\Desktop\\new_splited_wheat_dataset\\tmp_train\\images\\Bayraktar2000Vitreous\\20220426_145237.jpg: corrupt JPEG restored and saved\n",
      "\u001b[34m\u001b[1mtrain: \u001b[0mWARNING  C:\\Users\\Mehmet\\Desktop\\new_splited_wheat_dataset\\tmp_train\\images\\Bayraktar2000Vitreous\\20220426_145239.jpg: corrupt JPEG restored and saved\n",
      "\u001b[34m\u001b[1mtrain: \u001b[0mWARNING  C:\\Users\\Mehmet\\Desktop\\new_splited_wheat_dataset\\tmp_train\\images\\Bayraktar2000Vitreous\\20220426_145244.jpg: corrupt JPEG restored and saved\n",
      "\u001b[34m\u001b[1mtrain: \u001b[0mWARNING  C:\\Users\\Mehmet\\Desktop\\new_splited_wheat_dataset\\tmp_train\\images\\Bayraktar2000Vitreous\\20220426_145246.jpg: corrupt JPEG restored and saved\n",
      "\u001b[34m\u001b[1mtrain: \u001b[0mWARNING  C:\\Users\\Mehmet\\Desktop\\new_splited_wheat_dataset\\tmp_train\\images\\Bayraktar2000Vitreous\\20220426_145256.jpg: corrupt JPEG restored and saved\n",
      "\u001b[34m\u001b[1mtrain: \u001b[0mWARNING  C:\\Users\\Mehmet\\Desktop\\new_splited_wheat_dataset\\tmp_train\\images\\Bayraktar2000Vitreous\\20220426_145306.jpg: corrupt JPEG restored and saved\n",
      "\u001b[34m\u001b[1mtrain: \u001b[0mWARNING  C:\\Users\\Mehmet\\Desktop\\new_splited_wheat_dataset\\tmp_train\\images\\Bayraktar2000Vitreous\\20220426_145309.jpg: corrupt JPEG restored and saved\n",
      "\u001b[34m\u001b[1mtrain: \u001b[0mWARNING  C:\\Users\\Mehmet\\Desktop\\new_splited_wheat_dataset\\tmp_train\\images\\Bayraktar2000Vitreous\\20220426_145312.jpg: corrupt JPEG restored and saved\n",
      "\u001b[34m\u001b[1mtrain: \u001b[0mWARNING  C:\\Users\\Mehmet\\Desktop\\new_splited_wheat_dataset\\tmp_train\\images\\Bayraktar2000Vitreous\\20220426_145317.jpg: corrupt JPEG restored and saved\n",
      "\u001b[34m\u001b[1mtrain: \u001b[0mWARNING  C:\\Users\\Mehmet\\Desktop\\new_splited_wheat_dataset\\tmp_train\\images\\Bayraktar2000Vitreous\\20220426_145324.jpg: corrupt JPEG restored and saved\n",
      "\u001b[34m\u001b[1mtrain: \u001b[0mWARNING  C:\\Users\\Mehmet\\Desktop\\new_splited_wheat_dataset\\tmp_train\\images\\Bayraktar2000Vitreous\\20220426_145348.jpg: corrupt JPEG restored and saved\n",
      "\u001b[34m\u001b[1mtrain: \u001b[0mWARNING  C:\\Users\\Mehmet\\Desktop\\new_splited_wheat_dataset\\tmp_train\\images\\Bayraktar2000Vitreous\\20220426_145353.jpg: corrupt JPEG restored and saved\n",
      "\u001b[34m\u001b[1mtrain: \u001b[0mWARNING  C:\\Users\\Mehmet\\Desktop\\new_splited_wheat_dataset\\tmp_train\\images\\Bezostaja1Vitreous\\20220425_152239.jpg: corrupt JPEG restored and saved\n",
      "\u001b[34m\u001b[1mtrain: \u001b[0mWARNING  C:\\Users\\Mehmet\\Desktop\\new_splited_wheat_dataset\\tmp_train\\images\\Bezostaja1Vitreous\\20220425_152244.jpg: corrupt JPEG restored and saved\n",
      "\u001b[34m\u001b[1mtrain: \u001b[0mWARNING  C:\\Users\\Mehmet\\Desktop\\new_splited_wheat_dataset\\tmp_train\\images\\Bezostaja1Vitreous\\20220425_152301.jpg: corrupt JPEG restored and saved\n",
      "\u001b[34m\u001b[1mtrain: \u001b[0mWARNING  C:\\Users\\Mehmet\\Desktop\\new_splited_wheat_dataset\\tmp_train\\images\\Bezostaja1Vitreous\\20220425_152305.jpg: corrupt JPEG restored and saved\n",
      "\u001b[34m\u001b[1mtrain: \u001b[0mWARNING  C:\\Users\\Mehmet\\Desktop\\new_splited_wheat_dataset\\tmp_train\\images\\Bezostaja1Vitreous\\20220425_152313.jpg: corrupt JPEG restored and saved\n",
      "\u001b[34m\u001b[1mtrain: \u001b[0mWARNING  C:\\Users\\Mehmet\\Desktop\\new_splited_wheat_dataset\\tmp_train\\images\\Bezostaja1Vitreous\\20220425_152334.jpg: corrupt JPEG restored and saved\n",
      "\u001b[34m\u001b[1mtrain: \u001b[0mWARNING  C:\\Users\\Mehmet\\Desktop\\new_splited_wheat_dataset\\tmp_train\\images\\Bezostaja1Vitreous\\20220425_152340.jpg: corrupt JPEG restored and saved\n",
      "\u001b[34m\u001b[1mtrain: \u001b[0mWARNING  C:\\Users\\Mehmet\\Desktop\\new_splited_wheat_dataset\\tmp_train\\images\\Bezostaja1Vitreous\\20220425_152343.jpg: corrupt JPEG restored and saved\n",
      "\u001b[34m\u001b[1mtrain: \u001b[0mWARNING  C:\\Users\\Mehmet\\Desktop\\new_splited_wheat_dataset\\tmp_train\\images\\Bezostaja1Vitreous\\20220425_152346.jpg: corrupt JPEG restored and saved\n",
      "\u001b[34m\u001b[1mtrain: \u001b[0mWARNING  C:\\Users\\Mehmet\\Desktop\\new_splited_wheat_dataset\\tmp_train\\images\\Bezostaja1Vitreous\\20220425_152358.jpg: corrupt JPEG restored and saved\n",
      "\u001b[34m\u001b[1mtrain: \u001b[0mWARNING  C:\\Users\\Mehmet\\Desktop\\new_splited_wheat_dataset\\tmp_train\\images\\Bezostaja1Vitreous\\20220425_152404.jpg: corrupt JPEG restored and saved\n",
      "\u001b[34m\u001b[1mtrain: \u001b[0mWARNING  C:\\Users\\Mehmet\\Desktop\\new_splited_wheat_dataset\\tmp_train\\images\\Bezostaja1Vitreous\\20220425_152407.jpg: corrupt JPEG restored and saved\n",
      "\u001b[34m\u001b[1mtrain: \u001b[0mWARNING  C:\\Users\\Mehmet\\Desktop\\new_splited_wheat_dataset\\tmp_train\\images\\Bezostaja1Vitreous\\20220425_152409.jpg: corrupt JPEG restored and saved\n",
      "\u001b[34m\u001b[1mtrain: \u001b[0mWARNING  C:\\Users\\Mehmet\\Desktop\\new_splited_wheat_dataset\\tmp_train\\images\\Bezostaja1Vitreous\\20220425_152414.jpg: corrupt JPEG restored and saved\n",
      "\u001b[34m\u001b[1mtrain: \u001b[0mWARNING  C:\\Users\\Mehmet\\Desktop\\new_splited_wheat_dataset\\tmp_train\\images\\Bezostaja1Vitreous\\20220425_152423.jpg: corrupt JPEG restored and saved\n",
      "\u001b[34m\u001b[1mtrain: \u001b[0mWARNING  C:\\Users\\Mehmet\\Desktop\\new_splited_wheat_dataset\\tmp_train\\images\\Bezostaja1Vitreous\\20220425_152426.jpg: corrupt JPEG restored and saved\n",
      "\u001b[34m\u001b[1mtrain: \u001b[0mWARNING  C:\\Users\\Mehmet\\Desktop\\new_splited_wheat_dataset\\tmp_train\\images\\Bezostaja1Vitreous\\20220425_152429.jpg: corrupt JPEG restored and saved\n",
      "\u001b[34m\u001b[1mtrain: \u001b[0mWARNING  C:\\Users\\Mehmet\\Desktop\\new_splited_wheat_dataset\\tmp_train\\images\\Bezostaja1Vitreous\\20220425_152446.jpg: corrupt JPEG restored and saved\n",
      "\u001b[34m\u001b[1mtrain: \u001b[0mWARNING  C:\\Users\\Mehmet\\Desktop\\new_splited_wheat_dataset\\tmp_train\\images\\Bezostaja1Vitreous\\20220425_152449.jpg: corrupt JPEG restored and saved\n",
      "\u001b[34m\u001b[1mtrain: \u001b[0mWARNING  C:\\Users\\Mehmet\\Desktop\\new_splited_wheat_dataset\\tmp_train\\images\\Bezostaja1Vitreous\\20220425_152502.jpg: corrupt JPEG restored and saved\n",
      "\u001b[34m\u001b[1mtrain: \u001b[0mWARNING  C:\\Users\\Mehmet\\Desktop\\new_splited_wheat_dataset\\tmp_train\\images\\Bezostaja1Vitreous\\20220425_152509.jpg: corrupt JPEG restored and saved\n",
      "\u001b[34m\u001b[1mtrain: \u001b[0mWARNING  C:\\Users\\Mehmet\\Desktop\\new_splited_wheat_dataset\\tmp_train\\images\\Bezostaja1Vitreous\\20220425_152522.jpg: corrupt JPEG restored and saved\n",
      "\u001b[34m\u001b[1mtrain: \u001b[0mWARNING  C:\\Users\\Mehmet\\Desktop\\new_splited_wheat_dataset\\tmp_train\\images\\Bezostaja1Vitreous\\20220425_152531.jpg: corrupt JPEG restored and saved\n",
      "\u001b[34m\u001b[1mtrain: \u001b[0mWARNING  C:\\Users\\Mehmet\\Desktop\\new_splited_wheat_dataset\\tmp_train\\images\\Bezostaja1Vitreous\\20220425_152541.jpg: corrupt JPEG restored and saved\n",
      "\u001b[34m\u001b[1mtrain: \u001b[0mWARNING  C:\\Users\\Mehmet\\Desktop\\new_splited_wheat_dataset\\tmp_train\\images\\Bezostaja1Vitreous\\20220425_152545.jpg: corrupt JPEG restored and saved\n",
      "\u001b[34m\u001b[1mtrain: \u001b[0mWARNING  C:\\Users\\Mehmet\\Desktop\\new_splited_wheat_dataset\\tmp_train\\images\\Bezostaja1Vitreous\\20220425_152548.jpg: corrupt JPEG restored and saved\n",
      "\u001b[34m\u001b[1mtrain: \u001b[0mWARNING  C:\\Users\\Mehmet\\Desktop\\new_splited_wheat_dataset\\tmp_train\\images\\Bezostaja1Vitreous\\20220425_152551.jpg: corrupt JPEG restored and saved\n",
      "\u001b[34m\u001b[1mtrain: \u001b[0mWARNING  C:\\Users\\Mehmet\\Desktop\\new_splited_wheat_dataset\\tmp_train\\images\\Bezostaja1Vitreous\\20220425_152553.jpg: corrupt JPEG restored and saved\n",
      "\u001b[34m\u001b[1mtrain: \u001b[0mWARNING  C:\\Users\\Mehmet\\Desktop\\new_splited_wheat_dataset\\tmp_train\\images\\Bezostaja1Vitreous\\20220425_152557.jpg: corrupt JPEG restored and saved\n",
      "\u001b[34m\u001b[1mtrain: \u001b[0mWARNING  C:\\Users\\Mehmet\\Desktop\\new_splited_wheat_dataset\\tmp_train\\images\\Bezostaja1Vitreous\\20220425_152601.jpg: corrupt JPEG restored and saved\n",
      "\u001b[34m\u001b[1mtrain: \u001b[0mWARNING  C:\\Users\\Mehmet\\Desktop\\new_splited_wheat_dataset\\tmp_train\\images\\Bezostaja1Vitreous\\20220425_152623.jpg: corrupt JPEG restored and saved\n",
      "\u001b[34m\u001b[1mtrain: \u001b[0mWARNING  C:\\Users\\Mehmet\\Desktop\\new_splited_wheat_dataset\\tmp_train\\images\\Bezostaja1Vitreous\\20220425_152632.jpg: corrupt JPEG restored and saved\n",
      "\u001b[34m\u001b[1mtrain: \u001b[0mWARNING  C:\\Users\\Mehmet\\Desktop\\new_splited_wheat_dataset\\tmp_train\\images\\Bezostaja1Vitreous\\20220425_152638.jpg: corrupt JPEG restored and saved\n",
      "\u001b[34m\u001b[1mtrain: \u001b[0mWARNING  C:\\Users\\Mehmet\\Desktop\\new_splited_wheat_dataset\\tmp_train\\images\\Bezostaja1Vitreous\\20220425_152641.jpg: corrupt JPEG restored and saved\n",
      "\u001b[34m\u001b[1mtrain: \u001b[0mWARNING  C:\\Users\\Mehmet\\Desktop\\new_splited_wheat_dataset\\tmp_train\\images\\Bezostaja1Vitreous\\20220425_152645.jpg: corrupt JPEG restored and saved\n",
      "\u001b[34m\u001b[1mtrain: \u001b[0mWARNING  C:\\Users\\Mehmet\\Desktop\\new_splited_wheat_dataset\\tmp_train\\images\\Bezostaja1Vitreous\\20220425_152647.jpg: corrupt JPEG restored and saved\n",
      "\u001b[34m\u001b[1mtrain: \u001b[0mWARNING  C:\\Users\\Mehmet\\Desktop\\new_splited_wheat_dataset\\tmp_train\\images\\Bezostaja1Vitreous\\20220425_152650.jpg: corrupt JPEG restored and saved\n",
      "\u001b[34m\u001b[1mtrain: \u001b[0mWARNING  C:\\Users\\Mehmet\\Desktop\\new_splited_wheat_dataset\\tmp_train\\images\\Bezostaja1Vitreous\\20220425_154529.jpg: corrupt JPEG restored and saved\n",
      "\u001b[34m\u001b[1mtrain: \u001b[0mWARNING  C:\\Users\\Mehmet\\Desktop\\new_splited_wheat_dataset\\tmp_train\\images\\Bezostaja1Vitreous\\20220425_154532.jpg: corrupt JPEG restored and saved\n",
      "\u001b[34m\u001b[1mtrain: \u001b[0mWARNING  C:\\Users\\Mehmet\\Desktop\\new_splited_wheat_dataset\\tmp_train\\images\\Bezostaja1Vitreous\\20220425_154534.jpg: corrupt JPEG restored and saved\n",
      "\u001b[34m\u001b[1mtrain: \u001b[0mWARNING  C:\\Users\\Mehmet\\Desktop\\new_splited_wheat_dataset\\tmp_train\\images\\Bezostaja1Vitreous\\20220425_154536.jpg: corrupt JPEG restored and saved\n",
      "\u001b[34m\u001b[1mtrain: \u001b[0mWARNING  C:\\Users\\Mehmet\\Desktop\\new_splited_wheat_dataset\\tmp_train\\images\\Bezostaja1Vitreous\\20220425_154540.jpg: corrupt JPEG restored and saved\n",
      "\u001b[34m\u001b[1mtrain: \u001b[0mWARNING  C:\\Users\\Mehmet\\Desktop\\new_splited_wheat_dataset\\tmp_train\\images\\Bezostaja1Vitreous\\20220425_154542.jpg: corrupt JPEG restored and saved\n",
      "\u001b[34m\u001b[1mtrain: \u001b[0mWARNING  C:\\Users\\Mehmet\\Desktop\\new_splited_wheat_dataset\\tmp_train\\images\\Bezostaja1Vitreous\\20220425_154544.jpg: corrupt JPEG restored and saved\n",
      "\u001b[34m\u001b[1mtrain: \u001b[0mWARNING  C:\\Users\\Mehmet\\Desktop\\new_splited_wheat_dataset\\tmp_train\\images\\Bezostaja1Vitreous\\20220425_154546.jpg: corrupt JPEG restored and saved\n",
      "\u001b[34m\u001b[1mtrain: \u001b[0mWARNING  C:\\Users\\Mehmet\\Desktop\\new_splited_wheat_dataset\\tmp_train\\images\\Bezostaja1Vitreous\\20220425_154548.jpg: corrupt JPEG restored and saved\n",
      "\u001b[34m\u001b[1mtrain: \u001b[0mWARNING  C:\\Users\\Mehmet\\Desktop\\new_splited_wheat_dataset\\tmp_train\\images\\Bezostaja1Vitreous\\20220425_154552.jpg: corrupt JPEG restored and saved\n",
      "\u001b[34m\u001b[1mtrain: \u001b[0mWARNING  C:\\Users\\Mehmet\\Desktop\\new_splited_wheat_dataset\\tmp_train\\images\\Bezostaja1Vitreous\\20220425_154558.jpg: corrupt JPEG restored and saved\n",
      "\u001b[34m\u001b[1mtrain: \u001b[0mWARNING  C:\\Users\\Mehmet\\Desktop\\new_splited_wheat_dataset\\tmp_train\\images\\Bezostaja1Vitreous\\20220425_154604.jpg: corrupt JPEG restored and saved\n",
      "\u001b[34m\u001b[1mtrain: \u001b[0mWARNING  C:\\Users\\Mehmet\\Desktop\\new_splited_wheat_dataset\\tmp_train\\images\\Bezostaja1Vitreous\\20220425_154606.jpg: corrupt JPEG restored and saved\n",
      "\u001b[34m\u001b[1mtrain: \u001b[0mWARNING  C:\\Users\\Mehmet\\Desktop\\new_splited_wheat_dataset\\tmp_train\\images\\Bezostaja1Vitreous\\20220425_154612.jpg: corrupt JPEG restored and saved\n",
      "\u001b[34m\u001b[1mtrain: \u001b[0mWARNING  C:\\Users\\Mehmet\\Desktop\\new_splited_wheat_dataset\\tmp_train\\images\\Bezostaja1Vitreous\\20220425_154622.jpg: corrupt JPEG restored and saved\n",
      "\u001b[34m\u001b[1mtrain: \u001b[0mWARNING  C:\\Users\\Mehmet\\Desktop\\new_splited_wheat_dataset\\tmp_train\\images\\Bezostaja1Vitreous\\20220425_154628.jpg: corrupt JPEG restored and saved\n",
      "\u001b[34m\u001b[1mtrain: \u001b[0mWARNING  C:\\Users\\Mehmet\\Desktop\\new_splited_wheat_dataset\\tmp_train\\images\\Bezostaja1Vitreous\\20220425_154630.jpg: corrupt JPEG restored and saved\n",
      "\u001b[34m\u001b[1mtrain: \u001b[0mWARNING  C:\\Users\\Mehmet\\Desktop\\new_splited_wheat_dataset\\tmp_train\\images\\Bezostaja1Vitreous\\20220425_154632.jpg: corrupt JPEG restored and saved\n",
      "\u001b[34m\u001b[1mtrain: \u001b[0mWARNING  C:\\Users\\Mehmet\\Desktop\\new_splited_wheat_dataset\\tmp_train\\images\\Bezostaja1Vitreous\\20220425_154635.jpg: corrupt JPEG restored and saved\n",
      "\u001b[34m\u001b[1mtrain: \u001b[0mWARNING  C:\\Users\\Mehmet\\Desktop\\new_splited_wheat_dataset\\tmp_train\\images\\Bezostaja1Vitreous\\20220425_154637.jpg: corrupt JPEG restored and saved\n",
      "\u001b[34m\u001b[1mtrain: \u001b[0mWARNING  C:\\Users\\Mehmet\\Desktop\\new_splited_wheat_dataset\\tmp_train\\images\\Bezostaja1Vitreous\\20220425_154640.jpg: corrupt JPEG restored and saved\n",
      "\u001b[34m\u001b[1mtrain: \u001b[0mWARNING  C:\\Users\\Mehmet\\Desktop\\new_splited_wheat_dataset\\tmp_train\\images\\Bezostaja1Vitreous\\20220425_154642.jpg: corrupt JPEG restored and saved\n",
      "\u001b[34m\u001b[1mtrain: \u001b[0mWARNING  C:\\Users\\Mehmet\\Desktop\\new_splited_wheat_dataset\\tmp_train\\images\\Bezostaja1Vitreous\\20220425_154647.jpg: corrupt JPEG restored and saved\n",
      "\u001b[34m\u001b[1mtrain: \u001b[0mWARNING  C:\\Users\\Mehmet\\Desktop\\new_splited_wheat_dataset\\tmp_train\\images\\Bezostaja1Vitreous\\20220425_154649.jpg: corrupt JPEG restored and saved\n",
      "\u001b[34m\u001b[1mtrain: \u001b[0mWARNING  C:\\Users\\Mehmet\\Desktop\\new_splited_wheat_dataset\\tmp_train\\images\\Bezostaja1Vitreous\\20220425_154652.jpg: corrupt JPEG restored and saved\n",
      "\u001b[34m\u001b[1mtrain: \u001b[0mWARNING  C:\\Users\\Mehmet\\Desktop\\new_splited_wheat_dataset\\tmp_train\\images\\Bezostaja1Vitreous\\20220425_154654.jpg: corrupt JPEG restored and saved\n",
      "\u001b[34m\u001b[1mtrain: \u001b[0mWARNING  C:\\Users\\Mehmet\\Desktop\\new_splited_wheat_dataset\\tmp_train\\images\\Bezostaja1Vitreous\\20220425_154705.jpg: corrupt JPEG restored and saved\n",
      "\u001b[34m\u001b[1mtrain: \u001b[0mWARNING  C:\\Users\\Mehmet\\Desktop\\new_splited_wheat_dataset\\tmp_train\\images\\Bezostaja1Vitreous\\20220425_154707.jpg: corrupt JPEG restored and saved\n",
      "\u001b[34m\u001b[1mtrain: \u001b[0mWARNING  C:\\Users\\Mehmet\\Desktop\\new_splited_wheat_dataset\\tmp_train\\images\\Bezostaja1Vitreous\\20220425_154709.jpg: corrupt JPEG restored and saved\n",
      "\u001b[34m\u001b[1mtrain: \u001b[0mWARNING  C:\\Users\\Mehmet\\Desktop\\new_splited_wheat_dataset\\tmp_train\\images\\Bezostaja1Vitreous\\20220425_154711.jpg: corrupt JPEG restored and saved\n",
      "\u001b[34m\u001b[1mtrain: \u001b[0mWARNING  C:\\Users\\Mehmet\\Desktop\\new_splited_wheat_dataset\\tmp_train\\images\\Bezostaja1Vitreous\\20220425_154713.jpg: corrupt JPEG restored and saved\n",
      "\u001b[34m\u001b[1mtrain: \u001b[0mWARNING  C:\\Users\\Mehmet\\Desktop\\new_splited_wheat_dataset\\tmp_train\\images\\Bezostaja1Vitreous\\20220425_154716.jpg: corrupt JPEG restored and saved\n",
      "\u001b[34m\u001b[1mtrain: \u001b[0mWARNING  C:\\Users\\Mehmet\\Desktop\\new_splited_wheat_dataset\\tmp_train\\images\\Bezostaja1Vitreous\\20220425_154718.jpg: corrupt JPEG restored and saved\n",
      "\u001b[34m\u001b[1mtrain: \u001b[0mWARNING  C:\\Users\\Mehmet\\Desktop\\new_splited_wheat_dataset\\tmp_train\\images\\Bezostaja1Vitreous\\20220425_154720.jpg: corrupt JPEG restored and saved\n",
      "\u001b[34m\u001b[1mtrain: \u001b[0mWARNING  C:\\Users\\Mehmet\\Desktop\\new_splited_wheat_dataset\\tmp_train\\images\\Bezostaja1Vitreous\\20220425_154724.jpg: corrupt JPEG restored and saved\n",
      "\u001b[34m\u001b[1mtrain: \u001b[0mWARNING  C:\\Users\\Mehmet\\Desktop\\new_splited_wheat_dataset\\tmp_train\\images\\Bezostaja1Vitreous\\20220425_154728.jpg: corrupt JPEG restored and saved\n",
      "\u001b[34m\u001b[1mtrain: \u001b[0mWARNING  C:\\Users\\Mehmet\\Desktop\\new_splited_wheat_dataset\\tmp_train\\images\\Bezostaja1Vitreous\\20220425_154730.jpg: corrupt JPEG restored and saved\n",
      "\u001b[34m\u001b[1mtrain: \u001b[0mWARNING  C:\\Users\\Mehmet\\Desktop\\new_splited_wheat_dataset\\tmp_train\\images\\Bezostaja1Vitreous\\Bezostaja V.jpg: corrupt JPEG restored and saved\n",
      "\u001b[34m\u001b[1mtrain: \u001b[0mWARNING  C:\\Users\\Mehmet\\Desktop\\new_splited_wheat_dataset\\tmp_train\\images\\Delabrad2Vitreous\\20220427_122116.jpg: corrupt JPEG restored and saved\n",
      "\u001b[34m\u001b[1mtrain: \u001b[0mWARNING  C:\\Users\\Mehmet\\Desktop\\new_splited_wheat_dataset\\tmp_train\\images\\Delabrad2Vitreous\\20220427_122125.jpg: corrupt JPEG restored and saved\n",
      "\u001b[34m\u001b[1mtrain: \u001b[0mWARNING  C:\\Users\\Mehmet\\Desktop\\new_splited_wheat_dataset\\tmp_train\\images\\Delabrad2Vitreous\\20220427_122127.jpg: corrupt JPEG restored and saved\n",
      "\u001b[34m\u001b[1mtrain: \u001b[0mWARNING  C:\\Users\\Mehmet\\Desktop\\new_splited_wheat_dataset\\tmp_train\\images\\Delabrad2Vitreous\\20220427_122129.jpg: corrupt JPEG restored and saved\n",
      "\u001b[34m\u001b[1mtrain: \u001b[0mWARNING  C:\\Users\\Mehmet\\Desktop\\new_splited_wheat_dataset\\tmp_train\\images\\Delabrad2Vitreous\\20220427_122201.jpg: corrupt JPEG restored and saved\n",
      "\u001b[34m\u001b[1mtrain: \u001b[0mWARNING  C:\\Users\\Mehmet\\Desktop\\new_splited_wheat_dataset\\tmp_train\\images\\Delabrad2Vitreous\\20220427_122206.jpg: corrupt JPEG restored and saved\n",
      "\u001b[34m\u001b[1mtrain: \u001b[0mWARNING  C:\\Users\\Mehmet\\Desktop\\new_splited_wheat_dataset\\tmp_train\\images\\Delabrad2Vitreous\\20220427_122209.jpg: corrupt JPEG restored and saved\n",
      "\u001b[34m\u001b[1mtrain: \u001b[0mWARNING  C:\\Users\\Mehmet\\Desktop\\new_splited_wheat_dataset\\tmp_train\\images\\Delabrad2Vitreous\\20220427_122212.jpg: corrupt JPEG restored and saved\n",
      "\u001b[34m\u001b[1mtrain: \u001b[0mWARNING  C:\\Users\\Mehmet\\Desktop\\new_splited_wheat_dataset\\tmp_train\\images\\Delabrad2Vitreous\\20220427_122214.jpg: corrupt JPEG restored and saved\n",
      "\u001b[34m\u001b[1mtrain: \u001b[0mWARNING  C:\\Users\\Mehmet\\Desktop\\new_splited_wheat_dataset\\tmp_train\\images\\Delabrad2Vitreous\\20220427_122216.jpg: corrupt JPEG restored and saved\n",
      "\u001b[34m\u001b[1mtrain: \u001b[0mWARNING  C:\\Users\\Mehmet\\Desktop\\new_splited_wheat_dataset\\tmp_train\\images\\Delabrad2Vitreous\\20220427_122229.jpg: corrupt JPEG restored and saved\n",
      "\u001b[34m\u001b[1mtrain: \u001b[0mWARNING  C:\\Users\\Mehmet\\Desktop\\new_splited_wheat_dataset\\tmp_train\\images\\Delabrad2Vitreous\\20220427_122232.jpg: corrupt JPEG restored and saved\n",
      "\u001b[34m\u001b[1mtrain: \u001b[0mWARNING  C:\\Users\\Mehmet\\Desktop\\new_splited_wheat_dataset\\tmp_train\\images\\Delabrad2Vitreous\\20220427_122242.jpg: corrupt JPEG restored and saved\n",
      "\u001b[34m\u001b[1mtrain: \u001b[0mWARNING  C:\\Users\\Mehmet\\Desktop\\new_splited_wheat_dataset\\tmp_train\\images\\Delabrad2Vitreous\\20220427_122245.jpg: corrupt JPEG restored and saved\n",
      "\u001b[34m\u001b[1mtrain: \u001b[0mWARNING  C:\\Users\\Mehmet\\Desktop\\new_splited_wheat_dataset\\tmp_train\\images\\Delabrad2Vitreous\\20220427_122251.jpg: corrupt JPEG restored and saved\n",
      "\u001b[34m\u001b[1mtrain: \u001b[0mWARNING  C:\\Users\\Mehmet\\Desktop\\new_splited_wheat_dataset\\tmp_train\\images\\Delabrad2Vitreous\\20220427_122311.jpg: corrupt JPEG restored and saved\n",
      "\u001b[34m\u001b[1mtrain: \u001b[0mWARNING  C:\\Users\\Mehmet\\Desktop\\new_splited_wheat_dataset\\tmp_train\\images\\Delabrad2Vitreous\\20220427_122315.jpg: corrupt JPEG restored and saved\n",
      "\u001b[34m\u001b[1mtrain: \u001b[0mWARNING  C:\\Users\\Mehmet\\Desktop\\new_splited_wheat_dataset\\tmp_train\\images\\Delabrad2Vitreous\\20220427_122317.jpg: corrupt JPEG restored and saved\n",
      "\u001b[34m\u001b[1mtrain: \u001b[0mWARNING  C:\\Users\\Mehmet\\Desktop\\new_splited_wheat_dataset\\tmp_train\\images\\Delabrad2Vitreous\\20220427_122319.jpg: corrupt JPEG restored and saved\n",
      "\u001b[34m\u001b[1mtrain: \u001b[0mWARNING  C:\\Users\\Mehmet\\Desktop\\new_splited_wheat_dataset\\tmp_train\\images\\Delabrad2Vitreous\\20220427_122323.jpg: corrupt JPEG restored and saved\n",
      "\u001b[34m\u001b[1mtrain: \u001b[0mWARNING  C:\\Users\\Mehmet\\Desktop\\new_splited_wheat_dataset\\tmp_train\\images\\Delabrad2Vitreous\\20220427_122326.jpg: corrupt JPEG restored and saved\n",
      "\u001b[34m\u001b[1mtrain: \u001b[0mWARNING  C:\\Users\\Mehmet\\Desktop\\new_splited_wheat_dataset\\tmp_train\\images\\Delabrad2Vitreous\\20220427_122330.jpg: corrupt JPEG restored and saved\n",
      "\u001b[34m\u001b[1mtrain: \u001b[0mWARNING  C:\\Users\\Mehmet\\Desktop\\new_splited_wheat_dataset\\tmp_train\\images\\Delabrad2Vitreous\\20220427_122340.jpg: corrupt JPEG restored and saved\n",
      "\u001b[34m\u001b[1mtrain: \u001b[0mWARNING  C:\\Users\\Mehmet\\Desktop\\new_splited_wheat_dataset\\tmp_train\\images\\Delabrad2Vitreous\\20220427_122342.jpg: corrupt JPEG restored and saved\n",
      "\u001b[34m\u001b[1mtrain: \u001b[0mWARNING  C:\\Users\\Mehmet\\Desktop\\new_splited_wheat_dataset\\tmp_train\\images\\Delabrad2Vitreous\\20220427_122346.jpg: corrupt JPEG restored and saved\n",
      "\u001b[34m\u001b[1mtrain: \u001b[0mWARNING  C:\\Users\\Mehmet\\Desktop\\new_splited_wheat_dataset\\tmp_train\\images\\Delabrad2Vitreous\\20220427_122350.jpg: corrupt JPEG restored and saved\n",
      "\u001b[34m\u001b[1mtrain: \u001b[0mWARNING  C:\\Users\\Mehmet\\Desktop\\new_splited_wheat_dataset\\tmp_train\\images\\Delabrad2Vitreous\\20220427_122400.jpg: corrupt JPEG restored and saved\n",
      "\u001b[34m\u001b[1mtrain: \u001b[0mWARNING  C:\\Users\\Mehmet\\Desktop\\new_splited_wheat_dataset\\tmp_train\\images\\Delabrad2Vitreous\\20220427_122403.jpg: corrupt JPEG restored and saved\n",
      "\u001b[34m\u001b[1mtrain: \u001b[0mWARNING  C:\\Users\\Mehmet\\Desktop\\new_splited_wheat_dataset\\tmp_train\\images\\Delabrad2Vitreous\\20220427_122407.jpg: corrupt JPEG restored and saved\n",
      "\u001b[34m\u001b[1mtrain: \u001b[0mWARNING  C:\\Users\\Mehmet\\Desktop\\new_splited_wheat_dataset\\tmp_train\\images\\Delabrad2Vitreous\\20220427_122415.jpg: corrupt JPEG restored and saved\n",
      "\u001b[34m\u001b[1mtrain: \u001b[0mWARNING  C:\\Users\\Mehmet\\Desktop\\new_splited_wheat_dataset\\tmp_train\\images\\Delabrad2Vitreous\\20220427_122420.jpg: corrupt JPEG restored and saved\n",
      "\u001b[34m\u001b[1mtrain: \u001b[0mWARNING  C:\\Users\\Mehmet\\Desktop\\new_splited_wheat_dataset\\tmp_train\\images\\Delabrad2Vitreous\\20220427_122424.jpg: corrupt JPEG restored and saved\n",
      "\u001b[34m\u001b[1mtrain: \u001b[0mWARNING  C:\\Users\\Mehmet\\Desktop\\new_splited_wheat_dataset\\tmp_train\\images\\Delabrad2Vitreous\\20220427_122428.jpg: corrupt JPEG restored and saved\n",
      "\u001b[34m\u001b[1mtrain: \u001b[0mWARNING  C:\\Users\\Mehmet\\Desktop\\new_splited_wheat_dataset\\tmp_train\\images\\Delabrad2Vitreous\\20220427_122431.jpg: corrupt JPEG restored and saved\n",
      "\u001b[34m\u001b[1mtrain: \u001b[0mWARNING  C:\\Users\\Mehmet\\Desktop\\new_splited_wheat_dataset\\tmp_train\\images\\Delabrad2Vitreous\\20220427_122433.jpg: corrupt JPEG restored and saved\n",
      "\u001b[34m\u001b[1mtrain: \u001b[0mWARNING  C:\\Users\\Mehmet\\Desktop\\new_splited_wheat_dataset\\tmp_train\\images\\Delabrad2Vitreous\\20220427_122439.jpg: corrupt JPEG restored and saved\n",
      "\u001b[34m\u001b[1mtrain: \u001b[0mWARNING  C:\\Users\\Mehmet\\Desktop\\new_splited_wheat_dataset\\tmp_train\\images\\Delabrad2Vitreous\\20220427_122453.jpg: corrupt JPEG restored and saved\n",
      "\u001b[34m\u001b[1mtrain: \u001b[0mWARNING  C:\\Users\\Mehmet\\Desktop\\new_splited_wheat_dataset\\tmp_train\\images\\Delabrad2Vitreous\\20220427_122458.jpg: corrupt JPEG restored and saved\n",
      "\u001b[34m\u001b[1mtrain: \u001b[0mWARNING  C:\\Users\\Mehmet\\Desktop\\new_splited_wheat_dataset\\tmp_train\\images\\Delabrad2Vitreous\\20220427_122500.jpg: corrupt JPEG restored and saved\n",
      "\u001b[34m\u001b[1mtrain: \u001b[0mWARNING  C:\\Users\\Mehmet\\Desktop\\new_splited_wheat_dataset\\tmp_train\\images\\Delabrad2Vitreous\\20220427_122511.jpg: corrupt JPEG restored and saved\n",
      "\u001b[34m\u001b[1mtrain: \u001b[0mWARNING  C:\\Users\\Mehmet\\Desktop\\new_splited_wheat_dataset\\tmp_train\\images\\Delabrad2Vitreous\\20220427_122514.jpg: corrupt JPEG restored and saved\n",
      "\u001b[34m\u001b[1mtrain: \u001b[0mWARNING  C:\\Users\\Mehmet\\Desktop\\new_splited_wheat_dataset\\tmp_train\\images\\Delabrad2Vitreous\\20220427_122517.jpg: corrupt JPEG restored and saved\n",
      "\u001b[34m\u001b[1mtrain: \u001b[0mWARNING  C:\\Users\\Mehmet\\Desktop\\new_splited_wheat_dataset\\tmp_train\\images\\Delabrad2Vitreous\\20220427_122521.jpg: corrupt JPEG restored and saved\n",
      "\u001b[34m\u001b[1mtrain: \u001b[0mWARNING  C:\\Users\\Mehmet\\Desktop\\new_splited_wheat_dataset\\tmp_train\\images\\Delabrad2Vitreous\\20220427_122527.jpg: corrupt JPEG restored and saved\n",
      "\u001b[34m\u001b[1mtrain: \u001b[0mWARNING  C:\\Users\\Mehmet\\Desktop\\new_splited_wheat_dataset\\tmp_train\\images\\Delabrad2Vitreous\\20220427_122529.jpg: corrupt JPEG restored and saved\n",
      "\u001b[34m\u001b[1mtrain: \u001b[0mWARNING  C:\\Users\\Mehmet\\Desktop\\new_splited_wheat_dataset\\tmp_train\\images\\Delabrad2Vitreous\\20220427_122534.jpg: corrupt JPEG restored and saved\n",
      "\u001b[34m\u001b[1mtrain: \u001b[0mWARNING  C:\\Users\\Mehmet\\Desktop\\new_splited_wheat_dataset\\tmp_train\\images\\Delabrad2Vitreous\\20220427_122538.jpg: corrupt JPEG restored and saved\n",
      "\u001b[34m\u001b[1mtrain: \u001b[0mWARNING  C:\\Users\\Mehmet\\Desktop\\new_splited_wheat_dataset\\tmp_train\\images\\Delabrad2Vitreous\\20220427_122545.jpg: corrupt JPEG restored and saved\n",
      "\u001b[34m\u001b[1mtrain: \u001b[0mWARNING  C:\\Users\\Mehmet\\Desktop\\new_splited_wheat_dataset\\tmp_train\\images\\Delabrad2Vitreous\\20220427_122551.jpg: corrupt JPEG restored and saved\n",
      "\u001b[34m\u001b[1mtrain: \u001b[0mWARNING  C:\\Users\\Mehmet\\Desktop\\new_splited_wheat_dataset\\tmp_train\\images\\Delabrad2Vitreous\\20220427_122555.jpg: corrupt JPEG restored and saved\n",
      "\u001b[34m\u001b[1mtrain: \u001b[0mWARNING  C:\\Users\\Mehmet\\Desktop\\new_splited_wheat_dataset\\tmp_train\\images\\Delabrad2Vitreous\\20220427_122613.jpg: corrupt JPEG restored and saved\n",
      "\u001b[34m\u001b[1mtrain: \u001b[0mWARNING  C:\\Users\\Mehmet\\Desktop\\new_splited_wheat_dataset\\tmp_train\\images\\Delabrad2Vitreous\\20220427_122615.jpg: corrupt JPEG restored and saved\n",
      "\u001b[34m\u001b[1mtrain: \u001b[0mWARNING  C:\\Users\\Mehmet\\Desktop\\new_splited_wheat_dataset\\tmp_train\\images\\Delabrad2Vitreous\\20220427_122619.jpg: corrupt JPEG restored and saved\n",
      "\u001b[34m\u001b[1mtrain: \u001b[0mWARNING  C:\\Users\\Mehmet\\Desktop\\new_splited_wheat_dataset\\tmp_train\\images\\Delabrad2Vitreous\\20220427_122621.jpg: corrupt JPEG restored and saved\n",
      "\u001b[34m\u001b[1mtrain: \u001b[0mWARNING  C:\\Users\\Mehmet\\Desktop\\new_splited_wheat_dataset\\tmp_train\\images\\Delabrad2Vitreous\\20220427_122623.jpg: corrupt JPEG restored and saved\n",
      "\u001b[34m\u001b[1mtrain: \u001b[0mWARNING  C:\\Users\\Mehmet\\Desktop\\new_splited_wheat_dataset\\tmp_train\\images\\Delabrad2Vitreous\\20220427_122625.jpg: corrupt JPEG restored and saved\n",
      "\u001b[34m\u001b[1mtrain: \u001b[0mWARNING  C:\\Users\\Mehmet\\Desktop\\new_splited_wheat_dataset\\tmp_train\\images\\Delabrad2Vitreous\\20220427_122627.jpg: corrupt JPEG restored and saved\n",
      "\u001b[34m\u001b[1mtrain: \u001b[0mWARNING  C:\\Users\\Mehmet\\Desktop\\new_splited_wheat_dataset\\tmp_train\\images\\Delabrad2Vitreous\\20220427_122644.jpg: corrupt JPEG restored and saved\n",
      "\u001b[34m\u001b[1mtrain: \u001b[0mWARNING  C:\\Users\\Mehmet\\Desktop\\new_splited_wheat_dataset\\tmp_train\\images\\Delabrad2Vitreous\\20220427_122648.jpg: corrupt JPEG restored and saved\n",
      "\u001b[34m\u001b[1mtrain: \u001b[0mWARNING  C:\\Users\\Mehmet\\Desktop\\new_splited_wheat_dataset\\tmp_train\\images\\Delabrad2Vitreous\\20220427_122651.jpg: corrupt JPEG restored and saved\n",
      "\u001b[34m\u001b[1mtrain: \u001b[0mWARNING  C:\\Users\\Mehmet\\Desktop\\new_splited_wheat_dataset\\tmp_train\\images\\Delabrad2Vitreous\\20220427_122658.jpg: corrupt JPEG restored and saved\n",
      "\u001b[34m\u001b[1mtrain: \u001b[0mWARNING  C:\\Users\\Mehmet\\Desktop\\new_splited_wheat_dataset\\tmp_train\\images\\Delabrad2Vitreous\\20220427_122704.jpg: corrupt JPEG restored and saved\n",
      "\u001b[34m\u001b[1mtrain: \u001b[0mWARNING  C:\\Users\\Mehmet\\Desktop\\new_splited_wheat_dataset\\tmp_train\\images\\EkizVitreous\\20220426_163544.jpg: corrupt JPEG restored and saved\n",
      "\u001b[34m\u001b[1mtrain: \u001b[0mWARNING  C:\\Users\\Mehmet\\Desktop\\new_splited_wheat_dataset\\tmp_train\\images\\EkizVitreous\\20220426_163552.jpg: corrupt JPEG restored and saved\n",
      "\u001b[34m\u001b[1mtrain: \u001b[0mWARNING  C:\\Users\\Mehmet\\Desktop\\new_splited_wheat_dataset\\tmp_train\\images\\EkizVitreous\\20220426_163555.jpg: corrupt JPEG restored and saved\n",
      "\u001b[34m\u001b[1mtrain: \u001b[0mWARNING  C:\\Users\\Mehmet\\Desktop\\new_splited_wheat_dataset\\tmp_train\\images\\EkizVitreous\\20220426_163602.jpg: corrupt JPEG restored and saved\n",
      "\u001b[34m\u001b[1mtrain: \u001b[0mWARNING  C:\\Users\\Mehmet\\Desktop\\new_splited_wheat_dataset\\tmp_train\\images\\EkizVitreous\\20220426_163605.jpg: corrupt JPEG restored and saved\n",
      "\u001b[34m\u001b[1mtrain: \u001b[0mWARNING  C:\\Users\\Mehmet\\Desktop\\new_splited_wheat_dataset\\tmp_train\\images\\EkizVitreous\\20220426_163607.jpg: corrupt JPEG restored and saved\n",
      "\u001b[34m\u001b[1mtrain: \u001b[0mWARNING  C:\\Users\\Mehmet\\Desktop\\new_splited_wheat_dataset\\tmp_train\\images\\EkizVitreous\\20220426_163613.jpg: corrupt JPEG restored and saved\n",
      "\u001b[34m\u001b[1mtrain: \u001b[0mWARNING  C:\\Users\\Mehmet\\Desktop\\new_splited_wheat_dataset\\tmp_train\\images\\EkizVitreous\\20220426_163631.jpg: corrupt JPEG restored and saved\n",
      "\u001b[34m\u001b[1mtrain: \u001b[0mWARNING  C:\\Users\\Mehmet\\Desktop\\new_splited_wheat_dataset\\tmp_train\\images\\EkizVitreous\\20220426_163634.jpg: corrupt JPEG restored and saved\n",
      "\u001b[34m\u001b[1mtrain: \u001b[0mWARNING  C:\\Users\\Mehmet\\Desktop\\new_splited_wheat_dataset\\tmp_train\\images\\EkizVitreous\\20220426_163637.jpg: corrupt JPEG restored and saved\n",
      "\u001b[34m\u001b[1mtrain: \u001b[0mWARNING  C:\\Users\\Mehmet\\Desktop\\new_splited_wheat_dataset\\tmp_train\\images\\EkizVitreous\\20220426_163658.jpg: corrupt JPEG restored and saved\n",
      "\u001b[34m\u001b[1mtrain: \u001b[0mWARNING  C:\\Users\\Mehmet\\Desktop\\new_splited_wheat_dataset\\tmp_train\\images\\EkizVitreous\\20220426_163700.jpg: corrupt JPEG restored and saved\n",
      "\u001b[34m\u001b[1mtrain: \u001b[0mWARNING  C:\\Users\\Mehmet\\Desktop\\new_splited_wheat_dataset\\tmp_train\\images\\EkizVitreous\\20220426_163703.jpg: corrupt JPEG restored and saved\n",
      "\u001b[34m\u001b[1mtrain: \u001b[0mWARNING  C:\\Users\\Mehmet\\Desktop\\new_splited_wheat_dataset\\tmp_train\\images\\EkizVitreous\\20220426_163705.jpg: corrupt JPEG restored and saved\n",
      "\u001b[34m\u001b[1mtrain: \u001b[0mWARNING  C:\\Users\\Mehmet\\Desktop\\new_splited_wheat_dataset\\tmp_train\\images\\EkizVitreous\\20220426_163744.jpg: corrupt JPEG restored and saved\n",
      "\u001b[34m\u001b[1mtrain: \u001b[0mWARNING  C:\\Users\\Mehmet\\Desktop\\new_splited_wheat_dataset\\tmp_train\\images\\EkizVitreous\\20220426_163748.jpg: corrupt JPEG restored and saved\n",
      "\u001b[34m\u001b[1mtrain: \u001b[0mWARNING  C:\\Users\\Mehmet\\Desktop\\new_splited_wheat_dataset\\tmp_train\\images\\EkizVitreous\\20220426_163751.jpg: corrupt JPEG restored and saved\n",
      "\u001b[34m\u001b[1mtrain: \u001b[0mWARNING  C:\\Users\\Mehmet\\Desktop\\new_splited_wheat_dataset\\tmp_train\\images\\EkizVitreous\\20220426_163801.jpg: corrupt JPEG restored and saved\n",
      "\u001b[34m\u001b[1mtrain: \u001b[0mWARNING  C:\\Users\\Mehmet\\Desktop\\new_splited_wheat_dataset\\tmp_train\\images\\EkizVitreous\\20220426_163804.jpg: corrupt JPEG restored and saved\n",
      "\u001b[34m\u001b[1mtrain: \u001b[0mWARNING  C:\\Users\\Mehmet\\Desktop\\new_splited_wheat_dataset\\tmp_train\\images\\EkizVitreous\\20220426_163813.jpg: corrupt JPEG restored and saved\n",
      "\u001b[34m\u001b[1mtrain: \u001b[0mWARNING  C:\\Users\\Mehmet\\Desktop\\new_splited_wheat_dataset\\tmp_train\\images\\EkizVitreous\\20220426_163818.jpg: corrupt JPEG restored and saved\n",
      "\u001b[34m\u001b[1mtrain: \u001b[0mWARNING  C:\\Users\\Mehmet\\Desktop\\new_splited_wheat_dataset\\tmp_train\\images\\EkizVitreous\\20220426_163821.jpg: corrupt JPEG restored and saved\n",
      "\u001b[34m\u001b[1mtrain: \u001b[0mWARNING  C:\\Users\\Mehmet\\Desktop\\new_splited_wheat_dataset\\tmp_train\\images\\EkizVitreous\\20220426_163832.jpg: corrupt JPEG restored and saved\n",
      "\u001b[34m\u001b[1mtrain: \u001b[0mWARNING  C:\\Users\\Mehmet\\Desktop\\new_splited_wheat_dataset\\tmp_train\\images\\EkizVitreous\\20220426_163839.jpg: corrupt JPEG restored and saved\n",
      "\u001b[34m\u001b[1mtrain: \u001b[0mWARNING  C:\\Users\\Mehmet\\Desktop\\new_splited_wheat_dataset\\tmp_train\\images\\EkizVitreous\\20220426_163841.jpg: corrupt JPEG restored and saved\n",
      "\u001b[34m\u001b[1mtrain: \u001b[0mWARNING  C:\\Users\\Mehmet\\Desktop\\new_splited_wheat_dataset\\tmp_train\\images\\EkizVitreous\\20220426_163844.jpg: corrupt JPEG restored and saved\n",
      "\u001b[34m\u001b[1mtrain: \u001b[0mWARNING  C:\\Users\\Mehmet\\Desktop\\new_splited_wheat_dataset\\tmp_train\\images\\EkizVitreous\\20220426_163847.jpg: corrupt JPEG restored and saved\n",
      "\u001b[34m\u001b[1mtrain: \u001b[0mWARNING  C:\\Users\\Mehmet\\Desktop\\new_splited_wheat_dataset\\tmp_train\\images\\EkizVitreous\\20220426_163851.jpg: corrupt JPEG restored and saved\n",
      "\u001b[34m\u001b[1mtrain: \u001b[0mWARNING  C:\\Users\\Mehmet\\Desktop\\new_splited_wheat_dataset\\tmp_train\\images\\EkizVitreous\\20220426_163854.jpg: corrupt JPEG restored and saved\n",
      "\u001b[34m\u001b[1mtrain: \u001b[0mWARNING  C:\\Users\\Mehmet\\Desktop\\new_splited_wheat_dataset\\tmp_train\\images\\EkizVitreous\\20220426_163856.jpg: corrupt JPEG restored and saved\n",
      "\u001b[34m\u001b[1mtrain: \u001b[0mWARNING  C:\\Users\\Mehmet\\Desktop\\new_splited_wheat_dataset\\tmp_train\\images\\EkizVitreous\\20220426_163909.jpg: corrupt JPEG restored and saved\n",
      "\u001b[34m\u001b[1mtrain: \u001b[0mWARNING  C:\\Users\\Mehmet\\Desktop\\new_splited_wheat_dataset\\tmp_train\\images\\EkizVitreous\\20220426_163912.jpg: corrupt JPEG restored and saved\n",
      "\u001b[34m\u001b[1mtrain: \u001b[0mWARNING  C:\\Users\\Mehmet\\Desktop\\new_splited_wheat_dataset\\tmp_train\\images\\EkizVitreous\\20220426_163915.jpg: corrupt JPEG restored and saved\n",
      "\u001b[34m\u001b[1mtrain: \u001b[0mWARNING  C:\\Users\\Mehmet\\Desktop\\new_splited_wheat_dataset\\tmp_train\\images\\EkizVitreous\\20220426_163921.jpg: corrupt JPEG restored and saved\n",
      "\u001b[34m\u001b[1mtrain: \u001b[0mWARNING  C:\\Users\\Mehmet\\Desktop\\new_splited_wheat_dataset\\tmp_train\\images\\EkizVitreous\\20220426_163924.jpg: corrupt JPEG restored and saved\n",
      "\u001b[34m\u001b[1mtrain: \u001b[0mWARNING  C:\\Users\\Mehmet\\Desktop\\new_splited_wheat_dataset\\tmp_train\\images\\EkizVitreous\\20220426_163926.jpg: corrupt JPEG restored and saved\n",
      "\u001b[34m\u001b[1mtrain: \u001b[0mWARNING  C:\\Users\\Mehmet\\Desktop\\new_splited_wheat_dataset\\tmp_train\\images\\EkizVitreous\\20220426_163939.jpg: corrupt JPEG restored and saved\n",
      "\u001b[34m\u001b[1mtrain: \u001b[0mWARNING  C:\\Users\\Mehmet\\Desktop\\new_splited_wheat_dataset\\tmp_train\\images\\EkizVitreous\\20220426_163941.jpg: corrupt JPEG restored and saved\n",
      "\u001b[34m\u001b[1mtrain: \u001b[0mWARNING  C:\\Users\\Mehmet\\Desktop\\new_splited_wheat_dataset\\tmp_train\\images\\EkizVitreous\\20220426_163943.jpg: corrupt JPEG restored and saved\n",
      "\u001b[34m\u001b[1mtrain: \u001b[0mWARNING  C:\\Users\\Mehmet\\Desktop\\new_splited_wheat_dataset\\tmp_train\\images\\EkizVitreous\\20220426_163948.jpg: corrupt JPEG restored and saved\n",
      "\u001b[34m\u001b[1mtrain: \u001b[0mWARNING  C:\\Users\\Mehmet\\Desktop\\new_splited_wheat_dataset\\tmp_train\\images\\EkizVitreous\\20220426_163950.jpg: corrupt JPEG restored and saved\n",
      "\u001b[34m\u001b[1mtrain: \u001b[0mWARNING  C:\\Users\\Mehmet\\Desktop\\new_splited_wheat_dataset\\tmp_train\\images\\EkizVitreous\\20220426_163953.jpg: corrupt JPEG restored and saved\n",
      "\u001b[34m\u001b[1mtrain: \u001b[0mWARNING  C:\\Users\\Mehmet\\Desktop\\new_splited_wheat_dataset\\tmp_train\\images\\EkizVitreous\\20220426_163955.jpg: corrupt JPEG restored and saved\n",
      "\u001b[34m\u001b[1mtrain: \u001b[0mWARNING  C:\\Users\\Mehmet\\Desktop\\new_splited_wheat_dataset\\tmp_train\\images\\EkizVitreous\\20220426_163957.jpg: corrupt JPEG restored and saved\n",
      "\u001b[34m\u001b[1mtrain: \u001b[0mWARNING  C:\\Users\\Mehmet\\Desktop\\new_splited_wheat_dataset\\tmp_train\\images\\EkizVitreous\\20220426_164001.jpg: corrupt JPEG restored and saved\n",
      "\u001b[34m\u001b[1mtrain: \u001b[0mWARNING  C:\\Users\\Mehmet\\Desktop\\new_splited_wheat_dataset\\tmp_train\\images\\EkizVitreous\\20220426_164004.jpg: corrupt JPEG restored and saved\n",
      "\u001b[34m\u001b[1mtrain: \u001b[0mWARNING  C:\\Users\\Mehmet\\Desktop\\new_splited_wheat_dataset\\tmp_train\\images\\EkizVitreous\\20220426_164009.jpg: corrupt JPEG restored and saved\n",
      "\u001b[34m\u001b[1mtrain: \u001b[0mWARNING  C:\\Users\\Mehmet\\Desktop\\new_splited_wheat_dataset\\tmp_train\\images\\EkizVitreous\\20220426_164011.jpg: corrupt JPEG restored and saved\n",
      "\u001b[34m\u001b[1mtrain: \u001b[0mWARNING  C:\\Users\\Mehmet\\Desktop\\new_splited_wheat_dataset\\tmp_train\\images\\EkizVitreous\\20220426_164013.jpg: corrupt JPEG restored and saved\n",
      "\u001b[34m\u001b[1mtrain: \u001b[0mWARNING  C:\\Users\\Mehmet\\Desktop\\new_splited_wheat_dataset\\tmp_train\\images\\EkizVitreous\\20220426_164016.jpg: corrupt JPEG restored and saved\n",
      "\u001b[34m\u001b[1mtrain: \u001b[0mWARNING  C:\\Users\\Mehmet\\Desktop\\new_splited_wheat_dataset\\tmp_train\\images\\EkizVitreous\\20220426_164019.jpg: corrupt JPEG restored and saved\n",
      "\u001b[34m\u001b[1mtrain: \u001b[0mWARNING  C:\\Users\\Mehmet\\Desktop\\new_splited_wheat_dataset\\tmp_train\\images\\EkizVitreous\\20220426_164023.jpg: corrupt JPEG restored and saved\n",
      "\u001b[34m\u001b[1mtrain: \u001b[0mWARNING  C:\\Users\\Mehmet\\Desktop\\new_splited_wheat_dataset\\tmp_train\\images\\EkizVitreous\\20220426_164038.jpg: corrupt JPEG restored and saved\n",
      "\u001b[34m\u001b[1mtrain: \u001b[0mWARNING  C:\\Users\\Mehmet\\Desktop\\new_splited_wheat_dataset\\tmp_train\\images\\EkizVitreous\\20220426_164040.jpg: corrupt JPEG restored and saved\n",
      "\u001b[34m\u001b[1mtrain: \u001b[0mWARNING  C:\\Users\\Mehmet\\Desktop\\new_splited_wheat_dataset\\tmp_train\\images\\EkizVitreous\\20220426_164049.jpg: corrupt JPEG restored and saved\n",
      "\u001b[34m\u001b[1mtrain: \u001b[0mWARNING  C:\\Users\\Mehmet\\Desktop\\new_splited_wheat_dataset\\tmp_train\\images\\EkizVitreous\\20220426_164052.jpg: corrupt JPEG restored and saved\n",
      "\u001b[34m\u001b[1mtrain: \u001b[0mWARNING  C:\\Users\\Mehmet\\Desktop\\new_splited_wheat_dataset\\tmp_train\\images\\EkizVitreous\\20220426_164058.jpg: corrupt JPEG restored and saved\n",
      "\u001b[34m\u001b[1mtrain: \u001b[0mWARNING  C:\\Users\\Mehmet\\Desktop\\new_splited_wheat_dataset\\tmp_train\\images\\EkizVitreous\\20220426_164100.jpg: corrupt JPEG restored and saved\n",
      "\u001b[34m\u001b[1mtrain: \u001b[0mWARNING  C:\\Users\\Mehmet\\Desktop\\new_splited_wheat_dataset\\tmp_train\\images\\EkizVitreous\\20220426_164103.jpg: corrupt JPEG restored and saved\n",
      "\u001b[34m\u001b[1mtrain: \u001b[0mWARNING  C:\\Users\\Mehmet\\Desktop\\new_splited_wheat_dataset\\tmp_train\\images\\EkizVitreous\\20220426_164111.jpg: corrupt JPEG restored and saved\n",
      "\u001b[34m\u001b[1mtrain: \u001b[0mWARNING  C:\\Users\\Mehmet\\Desktop\\new_splited_wheat_dataset\\tmp_train\\images\\EkizVitreous\\20220426_164123.jpg: corrupt JPEG restored and saved\n",
      "\u001b[34m\u001b[1mtrain: \u001b[0mWARNING  C:\\Users\\Mehmet\\Desktop\\new_splited_wheat_dataset\\tmp_train\\images\\EkizVitreous\\20220426_164126.jpg: corrupt JPEG restored and saved\n",
      "\u001b[34m\u001b[1mtrain: \u001b[0mWARNING  C:\\Users\\Mehmet\\Desktop\\new_splited_wheat_dataset\\tmp_train\\images\\EkizVitreous\\20220426_164128.jpg: corrupt JPEG restored and saved\n",
      "\u001b[34m\u001b[1mtrain: \u001b[0mWARNING  C:\\Users\\Mehmet\\Desktop\\new_splited_wheat_dataset\\tmp_train\\images\\EkizVitreous\\20220426_164135.jpg: corrupt JPEG restored and saved\n",
      "\u001b[34m\u001b[1mtrain: \u001b[0mWARNING  C:\\Users\\Mehmet\\Desktop\\new_splited_wheat_dataset\\tmp_train\\images\\EkizVitreous\\20220426_164137.jpg: corrupt JPEG restored and saved\n",
      "\u001b[34m\u001b[1mtrain: \u001b[0mWARNING  C:\\Users\\Mehmet\\Desktop\\new_splited_wheat_dataset\\tmp_train\\images\\EkizVitreous\\20220426_164158.jpg: corrupt JPEG restored and saved\n",
      "\u001b[34m\u001b[1mtrain: \u001b[0mWARNING  C:\\Users\\Mehmet\\Desktop\\new_splited_wheat_dataset\\tmp_train\\images\\EsperiaVitreous\\20220425_170955.jpg: corrupt JPEG restored and saved\n",
      "\u001b[34m\u001b[1mtrain: \u001b[0mWARNING  C:\\Users\\Mehmet\\Desktop\\new_splited_wheat_dataset\\tmp_train\\images\\EsperiaVitreous\\20220425_171011.jpg: corrupt JPEG restored and saved\n",
      "\u001b[34m\u001b[1mtrain: \u001b[0mWARNING  C:\\Users\\Mehmet\\Desktop\\new_splited_wheat_dataset\\tmp_train\\images\\EsperiaVitreous\\20220425_171015.jpg: corrupt JPEG restored and saved\n",
      "\u001b[34m\u001b[1mtrain: \u001b[0mWARNING  C:\\Users\\Mehmet\\Desktop\\new_splited_wheat_dataset\\tmp_train\\images\\EsperiaVitreous\\20220425_171017.jpg: corrupt JPEG restored and saved\n",
      "\u001b[34m\u001b[1mtrain: \u001b[0mWARNING  C:\\Users\\Mehmet\\Desktop\\new_splited_wheat_dataset\\tmp_train\\images\\EsperiaVitreous\\20220425_171020.jpg: corrupt JPEG restored and saved\n",
      "\u001b[34m\u001b[1mtrain: \u001b[0mWARNING  C:\\Users\\Mehmet\\Desktop\\new_splited_wheat_dataset\\tmp_train\\images\\EsperiaVitreous\\20220425_171023.jpg: corrupt JPEG restored and saved\n",
      "\u001b[34m\u001b[1mtrain: \u001b[0mWARNING  C:\\Users\\Mehmet\\Desktop\\new_splited_wheat_dataset\\tmp_train\\images\\EsperiaVitreous\\20220425_171030.jpg: corrupt JPEG restored and saved\n",
      "\u001b[34m\u001b[1mtrain: \u001b[0mWARNING  C:\\Users\\Mehmet\\Desktop\\new_splited_wheat_dataset\\tmp_train\\images\\EsperiaVitreous\\20220425_171033.jpg: corrupt JPEG restored and saved\n",
      "\u001b[34m\u001b[1mtrain: \u001b[0mWARNING  C:\\Users\\Mehmet\\Desktop\\new_splited_wheat_dataset\\tmp_train\\images\\EsperiaVitreous\\20220425_171038.jpg: corrupt JPEG restored and saved\n",
      "\u001b[34m\u001b[1mtrain: \u001b[0mWARNING  C:\\Users\\Mehmet\\Desktop\\new_splited_wheat_dataset\\tmp_train\\images\\EsperiaVitreous\\20220425_171041.jpg: corrupt JPEG restored and saved\n",
      "\u001b[34m\u001b[1mtrain: \u001b[0mWARNING  C:\\Users\\Mehmet\\Desktop\\new_splited_wheat_dataset\\tmp_train\\images\\EsperiaVitreous\\20220425_171043.jpg: corrupt JPEG restored and saved\n",
      "\u001b[34m\u001b[1mtrain: \u001b[0mWARNING  C:\\Users\\Mehmet\\Desktop\\new_splited_wheat_dataset\\tmp_train\\images\\EsperiaVitreous\\20220425_171051.jpg: corrupt JPEG restored and saved\n",
      "\u001b[34m\u001b[1mtrain: \u001b[0mWARNING  C:\\Users\\Mehmet\\Desktop\\new_splited_wheat_dataset\\tmp_train\\images\\EsperiaVitreous\\20220425_171100.jpg: corrupt JPEG restored and saved\n",
      "\u001b[34m\u001b[1mtrain: \u001b[0mWARNING  C:\\Users\\Mehmet\\Desktop\\new_splited_wheat_dataset\\tmp_train\\images\\EsperiaVitreous\\20220425_171113.jpg: corrupt JPEG restored and saved\n",
      "\u001b[34m\u001b[1mtrain: \u001b[0mWARNING  C:\\Users\\Mehmet\\Desktop\\new_splited_wheat_dataset\\tmp_train\\images\\EsperiaVitreous\\20220425_171117.jpg: corrupt JPEG restored and saved\n",
      "\u001b[34m\u001b[1mtrain: \u001b[0mWARNING  C:\\Users\\Mehmet\\Desktop\\new_splited_wheat_dataset\\tmp_train\\images\\EsperiaVitreous\\20220425_171120.jpg: corrupt JPEG restored and saved\n",
      "\u001b[34m\u001b[1mtrain: \u001b[0mWARNING  C:\\Users\\Mehmet\\Desktop\\new_splited_wheat_dataset\\tmp_train\\images\\EsperiaVitreous\\20220425_171144.jpg: corrupt JPEG restored and saved\n",
      "\u001b[34m\u001b[1mtrain: \u001b[0mWARNING  C:\\Users\\Mehmet\\Desktop\\new_splited_wheat_dataset\\tmp_train\\images\\EsperiaVitreous\\20220425_171146.jpg: corrupt JPEG restored and saved\n",
      "\u001b[34m\u001b[1mtrain: \u001b[0mWARNING  C:\\Users\\Mehmet\\Desktop\\new_splited_wheat_dataset\\tmp_train\\images\\EsperiaVitreous\\20220425_171149.jpg: corrupt JPEG restored and saved\n",
      "\u001b[34m\u001b[1mtrain: \u001b[0mWARNING  C:\\Users\\Mehmet\\Desktop\\new_splited_wheat_dataset\\tmp_train\\images\\EsperiaVitreous\\20220425_171155.jpg: corrupt JPEG restored and saved\n",
      "\u001b[34m\u001b[1mtrain: \u001b[0mWARNING  C:\\Users\\Mehmet\\Desktop\\new_splited_wheat_dataset\\tmp_train\\images\\EsperiaVitreous\\20220425_171157.jpg: corrupt JPEG restored and saved\n",
      "\u001b[34m\u001b[1mtrain: \u001b[0mWARNING  C:\\Users\\Mehmet\\Desktop\\new_splited_wheat_dataset\\tmp_train\\images\\EsperiaVitreous\\20220425_171201.jpg: corrupt JPEG restored and saved\n",
      "\u001b[34m\u001b[1mtrain: \u001b[0mWARNING  C:\\Users\\Mehmet\\Desktop\\new_splited_wheat_dataset\\tmp_train\\images\\EsperiaVitreous\\20220425_171208.jpg: corrupt JPEG restored and saved\n",
      "\u001b[34m\u001b[1mtrain: \u001b[0mWARNING  C:\\Users\\Mehmet\\Desktop\\new_splited_wheat_dataset\\tmp_train\\images\\EsperiaVitreous\\20220425_171225.jpg: corrupt JPEG restored and saved\n",
      "\u001b[34m\u001b[1mtrain: \u001b[0mWARNING  C:\\Users\\Mehmet\\Desktop\\new_splited_wheat_dataset\\tmp_train\\images\\EsperiaVitreous\\20220425_171227.jpg: corrupt JPEG restored and saved\n",
      "\u001b[34m\u001b[1mtrain: \u001b[0mWARNING  C:\\Users\\Mehmet\\Desktop\\new_splited_wheat_dataset\\tmp_train\\images\\EsperiaVitreous\\20220425_171232.jpg: corrupt JPEG restored and saved\n",
      "\u001b[34m\u001b[1mtrain: \u001b[0mWARNING  C:\\Users\\Mehmet\\Desktop\\new_splited_wheat_dataset\\tmp_train\\images\\EsperiaVitreous\\20220425_171234.jpg: corrupt JPEG restored and saved\n",
      "\u001b[34m\u001b[1mtrain: \u001b[0mWARNING  C:\\Users\\Mehmet\\Desktop\\new_splited_wheat_dataset\\tmp_train\\images\\EsperiaVitreous\\20220425_171236.jpg: corrupt JPEG restored and saved\n",
      "\u001b[34m\u001b[1mtrain: \u001b[0mWARNING  C:\\Users\\Mehmet\\Desktop\\new_splited_wheat_dataset\\tmp_train\\images\\EsperiaVitreous\\20220425_171239.jpg: corrupt JPEG restored and saved\n",
      "\u001b[34m\u001b[1mtrain: \u001b[0mWARNING  C:\\Users\\Mehmet\\Desktop\\new_splited_wheat_dataset\\tmp_train\\images\\EsperiaVitreous\\20220425_171258.jpg: corrupt JPEG restored and saved\n",
      "\u001b[34m\u001b[1mtrain: \u001b[0mWARNING  C:\\Users\\Mehmet\\Desktop\\new_splited_wheat_dataset\\tmp_train\\images\\EsperiaVitreous\\20220425_171301.jpg: corrupt JPEG restored and saved\n",
      "\u001b[34m\u001b[1mtrain: \u001b[0mWARNING  C:\\Users\\Mehmet\\Desktop\\new_splited_wheat_dataset\\tmp_train\\images\\EsperiaVitreous\\20220425_171303.jpg: corrupt JPEG restored and saved\n",
      "\u001b[34m\u001b[1mtrain: \u001b[0mWARNING  C:\\Users\\Mehmet\\Desktop\\new_splited_wheat_dataset\\tmp_train\\images\\EsperiaVitreous\\20220425_171309.jpg: corrupt JPEG restored and saved\n",
      "\u001b[34m\u001b[1mtrain: \u001b[0mWARNING  C:\\Users\\Mehmet\\Desktop\\new_splited_wheat_dataset\\tmp_train\\images\\EsperiaVitreous\\20220425_171314.jpg: corrupt JPEG restored and saved\n",
      "\u001b[34m\u001b[1mtrain: \u001b[0mWARNING  C:\\Users\\Mehmet\\Desktop\\new_splited_wheat_dataset\\tmp_train\\images\\EsperiaVitreous\\20220425_171317.jpg: corrupt JPEG restored and saved\n",
      "\u001b[34m\u001b[1mtrain: \u001b[0mWARNING  C:\\Users\\Mehmet\\Desktop\\new_splited_wheat_dataset\\tmp_train\\images\\EsperiaVitreous\\20220425_171329.jpg: corrupt JPEG restored and saved\n",
      "\u001b[34m\u001b[1mtrain: \u001b[0mWARNING  C:\\Users\\Mehmet\\Desktop\\new_splited_wheat_dataset\\tmp_train\\images\\EsperiaVitreous\\20220425_171332.jpg: corrupt JPEG restored and saved\n",
      "\u001b[34m\u001b[1mtrain: \u001b[0mWARNING  C:\\Users\\Mehmet\\Desktop\\new_splited_wheat_dataset\\tmp_train\\images\\EsperiaVitreous\\20220425_171335.jpg: corrupt JPEG restored and saved\n",
      "\u001b[34m\u001b[1mtrain: \u001b[0mWARNING  C:\\Users\\Mehmet\\Desktop\\new_splited_wheat_dataset\\tmp_train\\images\\EsperiaVitreous\\20220425_171337.jpg: corrupt JPEG restored and saved\n",
      "\u001b[34m\u001b[1mtrain: \u001b[0mWARNING  C:\\Users\\Mehmet\\Desktop\\new_splited_wheat_dataset\\tmp_train\\images\\EsperiaVitreous\\20220425_171339.jpg: corrupt JPEG restored and saved\n",
      "\u001b[34m\u001b[1mtrain: \u001b[0mWARNING  C:\\Users\\Mehmet\\Desktop\\new_splited_wheat_dataset\\tmp_train\\images\\EsperiaVitreous\\20220425_171342.jpg: corrupt JPEG restored and saved\n",
      "\u001b[34m\u001b[1mtrain: \u001b[0mWARNING  C:\\Users\\Mehmet\\Desktop\\new_splited_wheat_dataset\\tmp_train\\images\\EsperiaVitreous\\20220425_171347.jpg: corrupt JPEG restored and saved\n",
      "\u001b[34m\u001b[1mtrain: \u001b[0mWARNING  C:\\Users\\Mehmet\\Desktop\\new_splited_wheat_dataset\\tmp_train\\images\\EsperiaVitreous\\20220425_171354.jpg: corrupt JPEG restored and saved\n",
      "\u001b[34m\u001b[1mtrain: \u001b[0mWARNING  C:\\Users\\Mehmet\\Desktop\\new_splited_wheat_dataset\\tmp_train\\images\\EsperiaVitreous\\20220425_171356.jpg: corrupt JPEG restored and saved\n",
      "\u001b[34m\u001b[1mtrain: \u001b[0mWARNING  C:\\Users\\Mehmet\\Desktop\\new_splited_wheat_dataset\\tmp_train\\images\\EsperiaVitreous\\20220425_171359.jpg: corrupt JPEG restored and saved\n",
      "\u001b[34m\u001b[1mtrain: \u001b[0mWARNING  C:\\Users\\Mehmet\\Desktop\\new_splited_wheat_dataset\\tmp_train\\images\\EsperiaVitreous\\20220425_171402.jpg: corrupt JPEG restored and saved\n",
      "\u001b[34m\u001b[1mtrain: \u001b[0mWARNING  C:\\Users\\Mehmet\\Desktop\\new_splited_wheat_dataset\\tmp_train\\images\\EsperiaVitreous\\20220425_171404.jpg: corrupt JPEG restored and saved\n",
      "\u001b[34m\u001b[1mtrain: \u001b[0mWARNING  C:\\Users\\Mehmet\\Desktop\\new_splited_wheat_dataset\\tmp_train\\images\\EsperiaVitreous\\20220425_171407.jpg: corrupt JPEG restored and saved\n",
      "\u001b[34m\u001b[1mtrain: \u001b[0mWARNING  C:\\Users\\Mehmet\\Desktop\\new_splited_wheat_dataset\\tmp_train\\images\\EsperiaVitreous\\20220425_171411.jpg: corrupt JPEG restored and saved\n",
      "\u001b[34m\u001b[1mtrain: \u001b[0mWARNING  C:\\Users\\Mehmet\\Desktop\\new_splited_wheat_dataset\\tmp_train\\images\\EsperiaVitreous\\20220425_171414.jpg: corrupt JPEG restored and saved\n",
      "\u001b[34m\u001b[1mtrain: \u001b[0mWARNING  C:\\Users\\Mehmet\\Desktop\\new_splited_wheat_dataset\\tmp_train\\images\\EsperiaVitreous\\20220425_171416.jpg: corrupt JPEG restored and saved\n",
      "\u001b[34m\u001b[1mtrain: \u001b[0mWARNING  C:\\Users\\Mehmet\\Desktop\\new_splited_wheat_dataset\\tmp_train\\images\\EsperiaVitreous\\20220425_171427.jpg: corrupt JPEG restored and saved\n",
      "\u001b[34m\u001b[1mtrain: \u001b[0mWARNING  C:\\Users\\Mehmet\\Desktop\\new_splited_wheat_dataset\\tmp_train\\images\\EsperiaVitreous\\20220425_171433.jpg: corrupt JPEG restored and saved\n",
      "\u001b[34m\u001b[1mtrain: \u001b[0mWARNING  C:\\Users\\Mehmet\\Desktop\\new_splited_wheat_dataset\\tmp_train\\images\\EsperiaVitreous\\20220425_171436.jpg: corrupt JPEG restored and saved\n",
      "\u001b[34m\u001b[1mtrain: \u001b[0mWARNING  C:\\Users\\Mehmet\\Desktop\\new_splited_wheat_dataset\\tmp_train\\images\\EsperiaVitreous\\20220425_171438.jpg: corrupt JPEG restored and saved\n",
      "\u001b[34m\u001b[1mtrain: \u001b[0mWARNING  C:\\Users\\Mehmet\\Desktop\\new_splited_wheat_dataset\\tmp_train\\images\\EsperiaVitreous\\20220425_171440.jpg: corrupt JPEG restored and saved\n",
      "\u001b[34m\u001b[1mtrain: \u001b[0mWARNING  C:\\Users\\Mehmet\\Desktop\\new_splited_wheat_dataset\\tmp_train\\images\\EsperiaVitreous\\20220425_171443.jpg: corrupt JPEG restored and saved\n",
      "\u001b[34m\u001b[1mtrain: \u001b[0mWARNING  C:\\Users\\Mehmet\\Desktop\\new_splited_wheat_dataset\\tmp_train\\images\\EsperiaVitreous\\20220425_171445.jpg: corrupt JPEG restored and saved\n",
      "\u001b[34m\u001b[1mtrain: \u001b[0mWARNING  C:\\Users\\Mehmet\\Desktop\\new_splited_wheat_dataset\\tmp_train\\images\\EsperiaVitreous\\20220425_171450.jpg: corrupt JPEG restored and saved\n",
      "\u001b[34m\u001b[1mtrain: \u001b[0mWARNING  C:\\Users\\Mehmet\\Desktop\\new_splited_wheat_dataset\\tmp_train\\images\\EsperiaVitreous\\20220425_171455.jpg: corrupt JPEG restored and saved\n",
      "\u001b[34m\u001b[1mtrain: \u001b[0mWARNING  C:\\Users\\Mehmet\\Desktop\\new_splited_wheat_dataset\\tmp_train\\images\\EsperiaVitreous\\20220425_171502.jpg: corrupt JPEG restored and saved\n",
      "\u001b[34m\u001b[1mtrain: \u001b[0mWARNING  C:\\Users\\Mehmet\\Desktop\\new_splited_wheat_dataset\\tmp_train\\images\\EsperiaVitreous\\20220425_171504.jpg: corrupt JPEG restored and saved\n",
      "\u001b[34m\u001b[1mtrain: \u001b[0mWARNING  C:\\Users\\Mehmet\\Desktop\\new_splited_wheat_dataset\\tmp_train\\images\\EsperiaVitreous\\20220425_171507.jpg: corrupt JPEG restored and saved\n",
      "\u001b[34m\u001b[1mtrain: \u001b[0mWARNING  C:\\Users\\Mehmet\\Desktop\\new_splited_wheat_dataset\\tmp_train\\images\\EsperiaVitreous\\20220425_171510.jpg: corrupt JPEG restored and saved\n",
      "\u001b[34m\u001b[1mtrain: \u001b[0mWARNING  C:\\Users\\Mehmet\\Desktop\\new_splited_wheat_dataset\\tmp_train\\images\\EsperiaVitreous\\20220425_171513.jpg: corrupt JPEG restored and saved\n",
      "\u001b[34m\u001b[1mtrain: \u001b[0mWARNING  C:\\Users\\Mehmet\\Desktop\\new_splited_wheat_dataset\\tmp_train\\images\\EsperiaVitreous\\20220425_171520.jpg: corrupt JPEG restored and saved\n",
      "\u001b[34m\u001b[1mtrain: \u001b[0mWARNING  C:\\Users\\Mehmet\\Desktop\\new_splited_wheat_dataset\\tmp_train\\images\\EsperiaVitreous\\20220425_171531.jpg: corrupt JPEG restored and saved\n",
      "\u001b[34m\u001b[1mtrain: \u001b[0mWARNING  C:\\Users\\Mehmet\\Desktop\\new_splited_wheat_dataset\\tmp_train\\images\\KiziltanVitreous\\20220426_154719.jpg: corrupt JPEG restored and saved\n",
      "\u001b[34m\u001b[1mtrain: \u001b[0mWARNING  C:\\Users\\Mehmet\\Desktop\\new_splited_wheat_dataset\\tmp_train\\images\\KiziltanVitreous\\20220426_154724.jpg: corrupt JPEG restored and saved\n",
      "\u001b[34m\u001b[1mtrain: \u001b[0mWARNING  C:\\Users\\Mehmet\\Desktop\\new_splited_wheat_dataset\\tmp_train\\images\\KiziltanVitreous\\20220426_154726.jpg: corrupt JPEG restored and saved\n",
      "\u001b[34m\u001b[1mtrain: \u001b[0mWARNING  C:\\Users\\Mehmet\\Desktop\\new_splited_wheat_dataset\\tmp_train\\images\\KiziltanVitreous\\20220426_154735.jpg: corrupt JPEG restored and saved\n",
      "\u001b[34m\u001b[1mtrain: \u001b[0mWARNING  C:\\Users\\Mehmet\\Desktop\\new_splited_wheat_dataset\\tmp_train\\images\\KiziltanVitreous\\20220426_154738.jpg: corrupt JPEG restored and saved\n",
      "\u001b[34m\u001b[1mtrain: \u001b[0mWARNING  C:\\Users\\Mehmet\\Desktop\\new_splited_wheat_dataset\\tmp_train\\images\\KiziltanVitreous\\20220426_154740.jpg: corrupt JPEG restored and saved\n",
      "\u001b[34m\u001b[1mtrain: \u001b[0mWARNING  C:\\Users\\Mehmet\\Desktop\\new_splited_wheat_dataset\\tmp_train\\images\\KiziltanVitreous\\20220426_154743.jpg: corrupt JPEG restored and saved\n",
      "\u001b[34m\u001b[1mtrain: \u001b[0mWARNING  C:\\Users\\Mehmet\\Desktop\\new_splited_wheat_dataset\\tmp_train\\images\\KiziltanVitreous\\20220426_154746.jpg: corrupt JPEG restored and saved\n",
      "\u001b[34m\u001b[1mtrain: \u001b[0mWARNING  C:\\Users\\Mehmet\\Desktop\\new_splited_wheat_dataset\\tmp_train\\images\\KiziltanVitreous\\20220426_154751.jpg: corrupt JPEG restored and saved\n",
      "\u001b[34m\u001b[1mtrain: \u001b[0mWARNING  C:\\Users\\Mehmet\\Desktop\\new_splited_wheat_dataset\\tmp_train\\images\\KiziltanVitreous\\20220426_154753.jpg: corrupt JPEG restored and saved\n",
      "\u001b[34m\u001b[1mtrain: \u001b[0mWARNING  C:\\Users\\Mehmet\\Desktop\\new_splited_wheat_dataset\\tmp_train\\images\\KiziltanVitreous\\20220426_154758.jpg: corrupt JPEG restored and saved\n",
      "\u001b[34m\u001b[1mtrain: \u001b[0mWARNING  C:\\Users\\Mehmet\\Desktop\\new_splited_wheat_dataset\\tmp_train\\images\\KiziltanVitreous\\20220426_154804.jpg: corrupt JPEG restored and saved\n",
      "\u001b[34m\u001b[1mtrain: \u001b[0mWARNING  C:\\Users\\Mehmet\\Desktop\\new_splited_wheat_dataset\\tmp_train\\images\\KiziltanVitreous\\20220426_154806.jpg: corrupt JPEG restored and saved\n",
      "\u001b[34m\u001b[1mtrain: \u001b[0mWARNING  C:\\Users\\Mehmet\\Desktop\\new_splited_wheat_dataset\\tmp_train\\images\\KiziltanVitreous\\20220426_154846.jpg: corrupt JPEG restored and saved\n",
      "\u001b[34m\u001b[1mtrain: \u001b[0mWARNING  C:\\Users\\Mehmet\\Desktop\\new_splited_wheat_dataset\\tmp_train\\images\\KiziltanVitreous\\20220426_154854.jpg: corrupt JPEG restored and saved\n",
      "\u001b[34m\u001b[1mtrain: \u001b[0mWARNING  C:\\Users\\Mehmet\\Desktop\\new_splited_wheat_dataset\\tmp_train\\images\\KiziltanVitreous\\20220426_154857.jpg: corrupt JPEG restored and saved\n",
      "\u001b[34m\u001b[1mtrain: \u001b[0mWARNING  C:\\Users\\Mehmet\\Desktop\\new_splited_wheat_dataset\\tmp_train\\images\\KiziltanVitreous\\20220426_154904.jpg: corrupt JPEG restored and saved\n",
      "\u001b[34m\u001b[1mtrain: \u001b[0mWARNING  C:\\Users\\Mehmet\\Desktop\\new_splited_wheat_dataset\\tmp_train\\images\\KiziltanVitreous\\20220426_154909.jpg: corrupt JPEG restored and saved\n",
      "\u001b[34m\u001b[1mtrain: \u001b[0mWARNING  C:\\Users\\Mehmet\\Desktop\\new_splited_wheat_dataset\\tmp_train\\images\\KiziltanVitreous\\20220426_154911.jpg: corrupt JPEG restored and saved\n",
      "\u001b[34m\u001b[1mtrain: \u001b[0mWARNING  C:\\Users\\Mehmet\\Desktop\\new_splited_wheat_dataset\\tmp_train\\images\\KiziltanVitreous\\20220426_154920.jpg: corrupt JPEG restored and saved\n",
      "\u001b[34m\u001b[1mtrain: \u001b[0mWARNING  C:\\Users\\Mehmet\\Desktop\\new_splited_wheat_dataset\\tmp_train\\images\\KiziltanVitreous\\20220426_154929.jpg: corrupt JPEG restored and saved\n",
      "\u001b[34m\u001b[1mtrain: \u001b[0mWARNING  C:\\Users\\Mehmet\\Desktop\\new_splited_wheat_dataset\\tmp_train\\images\\KiziltanVitreous\\20220426_154932.jpg: corrupt JPEG restored and saved\n",
      "\u001b[34m\u001b[1mtrain: \u001b[0mWARNING  C:\\Users\\Mehmet\\Desktop\\new_splited_wheat_dataset\\tmp_train\\images\\KiziltanVitreous\\20220426_154937.jpg: corrupt JPEG restored and saved\n",
      "\u001b[34m\u001b[1mtrain: \u001b[0mWARNING  C:\\Users\\Mehmet\\Desktop\\new_splited_wheat_dataset\\tmp_train\\images\\KiziltanVitreous\\20220426_154940.jpg: corrupt JPEG restored and saved\n",
      "\u001b[34m\u001b[1mtrain: \u001b[0mWARNING  C:\\Users\\Mehmet\\Desktop\\new_splited_wheat_dataset\\tmp_train\\images\\KiziltanVitreous\\20220426_154942.jpg: corrupt JPEG restored and saved\n",
      "\u001b[34m\u001b[1mtrain: \u001b[0mWARNING  C:\\Users\\Mehmet\\Desktop\\new_splited_wheat_dataset\\tmp_train\\images\\KiziltanVitreous\\20220426_154946.jpg: corrupt JPEG restored and saved\n",
      "\u001b[34m\u001b[1mtrain: \u001b[0mWARNING  C:\\Users\\Mehmet\\Desktop\\new_splited_wheat_dataset\\tmp_train\\images\\KiziltanVitreous\\20220426_155000.jpg: corrupt JPEG restored and saved\n",
      "\u001b[34m\u001b[1mtrain: \u001b[0mWARNING  C:\\Users\\Mehmet\\Desktop\\new_splited_wheat_dataset\\tmp_train\\images\\KiziltanVitreous\\20220426_155010.jpg: corrupt JPEG restored and saved\n",
      "\u001b[34m\u001b[1mtrain: \u001b[0mWARNING  C:\\Users\\Mehmet\\Desktop\\new_splited_wheat_dataset\\tmp_train\\images\\KiziltanVitreous\\20220426_155015.jpg: corrupt JPEG restored and saved\n",
      "\u001b[34m\u001b[1mtrain: \u001b[0mWARNING  C:\\Users\\Mehmet\\Desktop\\new_splited_wheat_dataset\\tmp_train\\images\\KiziltanVitreous\\20220426_155018.jpg: corrupt JPEG restored and saved\n",
      "\u001b[34m\u001b[1mtrain: \u001b[0mWARNING  C:\\Users\\Mehmet\\Desktop\\new_splited_wheat_dataset\\tmp_train\\images\\KiziltanVitreous\\20220426_155020.jpg: corrupt JPEG restored and saved\n",
      "\u001b[34m\u001b[1mtrain: \u001b[0mWARNING  C:\\Users\\Mehmet\\Desktop\\new_splited_wheat_dataset\\tmp_train\\images\\KiziltanVitreous\\20220426_155025.jpg: corrupt JPEG restored and saved\n",
      "\u001b[34m\u001b[1mtrain: \u001b[0mWARNING  C:\\Users\\Mehmet\\Desktop\\new_splited_wheat_dataset\\tmp_train\\images\\KiziltanVitreous\\20220426_155028.jpg: corrupt JPEG restored and saved\n",
      "\u001b[34m\u001b[1mtrain: \u001b[0mWARNING  C:\\Users\\Mehmet\\Desktop\\new_splited_wheat_dataset\\tmp_train\\images\\KiziltanVitreous\\20220426_155031.jpg: corrupt JPEG restored and saved\n",
      "\u001b[34m\u001b[1mtrain: \u001b[0mWARNING  C:\\Users\\Mehmet\\Desktop\\new_splited_wheat_dataset\\tmp_train\\images\\KiziltanVitreous\\20220426_155038.jpg: corrupt JPEG restored and saved\n",
      "\u001b[34m\u001b[1mtrain: \u001b[0mWARNING  C:\\Users\\Mehmet\\Desktop\\new_splited_wheat_dataset\\tmp_train\\images\\KiziltanVitreous\\20220426_155040.jpg: corrupt JPEG restored and saved\n",
      "\u001b[34m\u001b[1mtrain: \u001b[0mWARNING  C:\\Users\\Mehmet\\Desktop\\new_splited_wheat_dataset\\tmp_train\\images\\KiziltanVitreous\\20220426_155046.jpg: corrupt JPEG restored and saved\n",
      "\u001b[34m\u001b[1mtrain: \u001b[0mWARNING  C:\\Users\\Mehmet\\Desktop\\new_splited_wheat_dataset\\tmp_train\\images\\KiziltanVitreous\\20220426_155048.jpg: corrupt JPEG restored and saved\n",
      "\u001b[34m\u001b[1mtrain: \u001b[0mWARNING  C:\\Users\\Mehmet\\Desktop\\new_splited_wheat_dataset\\tmp_train\\images\\KiziltanVitreous\\20220426_155051.jpg: corrupt JPEG restored and saved\n",
      "\u001b[34m\u001b[1mtrain: \u001b[0mWARNING  C:\\Users\\Mehmet\\Desktop\\new_splited_wheat_dataset\\tmp_train\\images\\KiziltanVitreous\\20220426_160323.jpg: corrupt JPEG restored and saved\n",
      "\u001b[34m\u001b[1mtrain: \u001b[0mWARNING  C:\\Users\\Mehmet\\Desktop\\new_splited_wheat_dataset\\tmp_train\\images\\KiziltanVitreous\\20220426_160330.jpg: corrupt JPEG restored and saved\n",
      "\u001b[34m\u001b[1mtrain: \u001b[0mWARNING  C:\\Users\\Mehmet\\Desktop\\new_splited_wheat_dataset\\tmp_train\\images\\KiziltanVitreous\\20220426_160333.jpg: corrupt JPEG restored and saved\n",
      "\u001b[34m\u001b[1mtrain: \u001b[0mWARNING  C:\\Users\\Mehmet\\Desktop\\new_splited_wheat_dataset\\tmp_train\\images\\KiziltanVitreous\\20220426_160335.jpg: corrupt JPEG restored and saved\n",
      "\u001b[34m\u001b[1mtrain: \u001b[0mWARNING  C:\\Users\\Mehmet\\Desktop\\new_splited_wheat_dataset\\tmp_train\\images\\KiziltanVitreous\\20220426_160338.jpg: corrupt JPEG restored and saved\n",
      "\u001b[34m\u001b[1mtrain: \u001b[0mWARNING  C:\\Users\\Mehmet\\Desktop\\new_splited_wheat_dataset\\tmp_train\\images\\KiziltanVitreous\\20220426_160340.jpg: corrupt JPEG restored and saved\n",
      "\u001b[34m\u001b[1mtrain: \u001b[0mWARNING  C:\\Users\\Mehmet\\Desktop\\new_splited_wheat_dataset\\tmp_train\\images\\KiziltanVitreous\\20220426_160343.jpg: corrupt JPEG restored and saved\n",
      "\u001b[34m\u001b[1mtrain: \u001b[0mWARNING  C:\\Users\\Mehmet\\Desktop\\new_splited_wheat_dataset\\tmp_train\\images\\KiziltanVitreous\\20220426_160349.jpg: corrupt JPEG restored and saved\n",
      "\u001b[34m\u001b[1mtrain: \u001b[0mWARNING  C:\\Users\\Mehmet\\Desktop\\new_splited_wheat_dataset\\tmp_train\\images\\KiziltanVitreous\\20220426_160352.jpg: corrupt JPEG restored and saved\n",
      "\u001b[34m\u001b[1mtrain: \u001b[0mWARNING  C:\\Users\\Mehmet\\Desktop\\new_splited_wheat_dataset\\tmp_train\\images\\KiziltanVitreous\\20220426_160354.jpg: corrupt JPEG restored and saved\n",
      "\u001b[34m\u001b[1mtrain: \u001b[0mWARNING  C:\\Users\\Mehmet\\Desktop\\new_splited_wheat_dataset\\tmp_train\\images\\KiziltanVitreous\\20220426_160356.jpg: corrupt JPEG restored and saved\n",
      "\u001b[34m\u001b[1mtrain: \u001b[0mWARNING  C:\\Users\\Mehmet\\Desktop\\new_splited_wheat_dataset\\tmp_train\\images\\KiziltanVitreous\\20220426_160358.jpg: corrupt JPEG restored and saved\n",
      "\u001b[34m\u001b[1mtrain: \u001b[0mWARNING  C:\\Users\\Mehmet\\Desktop\\new_splited_wheat_dataset\\tmp_train\\images\\KiziltanVitreous\\20220426_160429.jpg: corrupt JPEG restored and saved\n",
      "\u001b[34m\u001b[1mtrain: \u001b[0mWARNING  C:\\Users\\Mehmet\\Desktop\\new_splited_wheat_dataset\\tmp_train\\images\\KiziltanVitreous\\20220426_160433.jpg: corrupt JPEG restored and saved\n",
      "\u001b[34m\u001b[1mtrain: \u001b[0mWARNING  C:\\Users\\Mehmet\\Desktop\\new_splited_wheat_dataset\\tmp_train\\images\\KiziltanVitreous\\20220426_160437.jpg: corrupt JPEG restored and saved\n",
      "\u001b[34m\u001b[1mtrain: \u001b[0mWARNING  C:\\Users\\Mehmet\\Desktop\\new_splited_wheat_dataset\\tmp_train\\images\\KiziltanVitreous\\20220426_160448.jpg: corrupt JPEG restored and saved\n",
      "\u001b[34m\u001b[1mtrain: \u001b[0mWARNING  C:\\Users\\Mehmet\\Desktop\\new_splited_wheat_dataset\\tmp_train\\images\\KiziltanVitreous\\20220426_160459.jpg: corrupt JPEG restored and saved\n",
      "\u001b[34m\u001b[1mtrain: \u001b[0mWARNING  C:\\Users\\Mehmet\\Desktop\\new_splited_wheat_dataset\\tmp_train\\images\\KiziltanVitreous\\20220426_160501.jpg: corrupt JPEG restored and saved\n",
      "\u001b[34m\u001b[1mtrain: \u001b[0mWARNING  C:\\Users\\Mehmet\\Desktop\\new_splited_wheat_dataset\\tmp_train\\images\\KiziltanVitreous\\20220426_160503.jpg: corrupt JPEG restored and saved\n",
      "\u001b[34m\u001b[1mtrain: \u001b[0mWARNING  C:\\Users\\Mehmet\\Desktop\\new_splited_wheat_dataset\\tmp_train\\images\\KiziltanVitreous\\20220426_160507.jpg: corrupt JPEG restored and saved\n",
      "\u001b[34m\u001b[1mtrain: \u001b[0mWARNING  C:\\Users\\Mehmet\\Desktop\\new_splited_wheat_dataset\\tmp_train\\images\\KiziltanVitreous\\20220426_160512.jpg: corrupt JPEG restored and saved\n",
      "\u001b[34m\u001b[1mtrain: \u001b[0mWARNING  C:\\Users\\Mehmet\\Desktop\\new_splited_wheat_dataset\\tmp_train\\images\\KiziltanVitreous\\20220426_160516.jpg: corrupt JPEG restored and saved\n",
      "\u001b[34m\u001b[1mtrain: \u001b[0mWARNING  C:\\Users\\Mehmet\\Desktop\\new_splited_wheat_dataset\\tmp_train\\images\\KiziltanVitreous\\20220426_160518.jpg: corrupt JPEG restored and saved\n",
      "\u001b[34m\u001b[1mtrain: \u001b[0mWARNING  C:\\Users\\Mehmet\\Desktop\\new_splited_wheat_dataset\\tmp_train\\images\\KiziltanVitreous\\20220426_160523.jpg: corrupt JPEG restored and saved\n",
      "\u001b[34m\u001b[1mtrain: \u001b[0mWARNING  C:\\Users\\Mehmet\\Desktop\\new_splited_wheat_dataset\\tmp_train\\images\\KiziltanVitreous\\20220426_160525.jpg: corrupt JPEG restored and saved\n",
      "\u001b[34m\u001b[1mtrain: \u001b[0mWARNING  C:\\Users\\Mehmet\\Desktop\\new_splited_wheat_dataset\\tmp_train\\images\\KiziltanVitreous\\20220426_160528.jpg: corrupt JPEG restored and saved\n",
      "\u001b[34m\u001b[1mtrain: \u001b[0mWARNING  C:\\Users\\Mehmet\\Desktop\\new_splited_wheat_dataset\\tmp_train\\images\\KiziltanVitreous\\20220426_160531.jpg: corrupt JPEG restored and saved\n",
      "\u001b[34m\u001b[1mtrain: \u001b[0mWARNING  C:\\Users\\Mehmet\\Desktop\\new_splited_wheat_dataset\\tmp_train\\images\\KiziltanVitreous\\20220426_160539.jpg: corrupt JPEG restored and saved\n",
      "\u001b[34m\u001b[1mtrain: \u001b[0mWARNING  C:\\Users\\Mehmet\\Desktop\\new_splited_wheat_dataset\\tmp_train\\images\\KiziltanVitreous\\20220426_160542.jpg: corrupt JPEG restored and saved\n",
      "\u001b[34m\u001b[1mtrain: \u001b[0mWARNING  C:\\Users\\Mehmet\\Desktop\\new_splited_wheat_dataset\\tmp_train\\images\\KiziltanVitreous\\20220426_160547.jpg: corrupt JPEG restored and saved\n",
      "\u001b[34m\u001b[1mtrain: \u001b[0mWARNING  C:\\Users\\Mehmet\\Desktop\\new_splited_wheat_dataset\\tmp_train\\images\\KiziltanVitreous\\20220426_160600.jpg: corrupt JPEG restored and saved\n",
      "\u001b[34m\u001b[1mtrain: \u001b[0mWARNING  C:\\Users\\Mehmet\\Desktop\\new_splited_wheat_dataset\\tmp_train\\images\\KiziltanVitreous\\20220426_160606.jpg: corrupt JPEG restored and saved\n",
      "\u001b[34m\u001b[1mtrain: \u001b[0mWARNING  C:\\Users\\Mehmet\\Desktop\\new_splited_wheat_dataset\\tmp_train\\images\\KiziltanVitreous\\20220426_160613.jpg: corrupt JPEG restored and saved\n",
      "\u001b[34m\u001b[1mtrain: \u001b[0mWARNING  C:\\Users\\Mehmet\\Desktop\\new_splited_wheat_dataset\\tmp_train\\images\\KiziltanVitreous\\20220426_160617.jpg: corrupt JPEG restored and saved\n",
      "\u001b[34m\u001b[1mtrain: \u001b[0mWARNING  C:\\Users\\Mehmet\\Desktop\\new_splited_wheat_dataset\\tmp_train\\images\\LucillaVitreous\\20220426_175132.jpg: corrupt JPEG restored and saved\n",
      "\u001b[34m\u001b[1mtrain: \u001b[0mWARNING  C:\\Users\\Mehmet\\Desktop\\new_splited_wheat_dataset\\tmp_train\\images\\LucillaVitreous\\20220426_175137.jpg: corrupt JPEG restored and saved\n",
      "\u001b[34m\u001b[1mtrain: \u001b[0mWARNING  C:\\Users\\Mehmet\\Desktop\\new_splited_wheat_dataset\\tmp_train\\images\\LucillaVitreous\\20220426_175139.jpg: corrupt JPEG restored and saved\n",
      "\u001b[34m\u001b[1mtrain: \u001b[0mWARNING  C:\\Users\\Mehmet\\Desktop\\new_splited_wheat_dataset\\tmp_train\\images\\LucillaVitreous\\20220426_175141.jpg: corrupt JPEG restored and saved\n",
      "\u001b[34m\u001b[1mtrain: \u001b[0mWARNING  C:\\Users\\Mehmet\\Desktop\\new_splited_wheat_dataset\\tmp_train\\images\\LucillaVitreous\\20220426_175143.jpg: corrupt JPEG restored and saved\n",
      "\u001b[34m\u001b[1mtrain: \u001b[0mWARNING  C:\\Users\\Mehmet\\Desktop\\new_splited_wheat_dataset\\tmp_train\\images\\LucillaVitreous\\20220426_175145.jpg: corrupt JPEG restored and saved\n",
      "\u001b[34m\u001b[1mtrain: \u001b[0mWARNING  C:\\Users\\Mehmet\\Desktop\\new_splited_wheat_dataset\\tmp_train\\images\\LucillaVitreous\\20220426_175147.jpg: corrupt JPEG restored and saved\n",
      "\u001b[34m\u001b[1mtrain: \u001b[0mWARNING  C:\\Users\\Mehmet\\Desktop\\new_splited_wheat_dataset\\tmp_train\\images\\LucillaVitreous\\20220426_175149.jpg: corrupt JPEG restored and saved\n",
      "\u001b[34m\u001b[1mtrain: \u001b[0mWARNING  C:\\Users\\Mehmet\\Desktop\\new_splited_wheat_dataset\\tmp_train\\images\\LucillaVitreous\\20220426_175154.jpg: corrupt JPEG restored and saved\n",
      "\u001b[34m\u001b[1mtrain: \u001b[0mWARNING  C:\\Users\\Mehmet\\Desktop\\new_splited_wheat_dataset\\tmp_train\\images\\LucillaVitreous\\20220426_175156.jpg: corrupt JPEG restored and saved\n",
      "\u001b[34m\u001b[1mtrain: \u001b[0mWARNING  C:\\Users\\Mehmet\\Desktop\\new_splited_wheat_dataset\\tmp_train\\images\\LucillaVitreous\\20220426_175158.jpg: corrupt JPEG restored and saved\n",
      "\u001b[34m\u001b[1mtrain: \u001b[0mWARNING  C:\\Users\\Mehmet\\Desktop\\new_splited_wheat_dataset\\tmp_train\\images\\LucillaVitreous\\20220426_175200.jpg: corrupt JPEG restored and saved\n",
      "\u001b[34m\u001b[1mtrain: \u001b[0mWARNING  C:\\Users\\Mehmet\\Desktop\\new_splited_wheat_dataset\\tmp_train\\images\\LucillaVitreous\\20220426_175206.jpg: corrupt JPEG restored and saved\n",
      "\u001b[34m\u001b[1mtrain: \u001b[0mWARNING  C:\\Users\\Mehmet\\Desktop\\new_splited_wheat_dataset\\tmp_train\\images\\LucillaVitreous\\20220426_175216.jpg: corrupt JPEG restored and saved\n",
      "\u001b[34m\u001b[1mtrain: \u001b[0mWARNING  C:\\Users\\Mehmet\\Desktop\\new_splited_wheat_dataset\\tmp_train\\images\\LucillaVitreous\\20220426_175224.jpg: corrupt JPEG restored and saved\n",
      "\u001b[34m\u001b[1mtrain: \u001b[0mWARNING  C:\\Users\\Mehmet\\Desktop\\new_splited_wheat_dataset\\tmp_train\\images\\LucillaVitreous\\20220426_175231.jpg: corrupt JPEG restored and saved\n",
      "\u001b[34m\u001b[1mtrain: \u001b[0mWARNING  C:\\Users\\Mehmet\\Desktop\\new_splited_wheat_dataset\\tmp_train\\images\\LucillaVitreous\\20220426_175233.jpg: corrupt JPEG restored and saved\n",
      "\u001b[34m\u001b[1mtrain: \u001b[0mWARNING  C:\\Users\\Mehmet\\Desktop\\new_splited_wheat_dataset\\tmp_train\\images\\LucillaVitreous\\20220426_175236.jpg: corrupt JPEG restored and saved\n",
      "\u001b[34m\u001b[1mtrain: \u001b[0mWARNING  C:\\Users\\Mehmet\\Desktop\\new_splited_wheat_dataset\\tmp_train\\images\\LucillaVitreous\\20220426_175244.jpg: corrupt JPEG restored and saved\n",
      "\u001b[34m\u001b[1mtrain: \u001b[0mWARNING  C:\\Users\\Mehmet\\Desktop\\new_splited_wheat_dataset\\tmp_train\\images\\LucillaVitreous\\20220426_175246.jpg: corrupt JPEG restored and saved\n",
      "\u001b[34m\u001b[1mtrain: \u001b[0mWARNING  C:\\Users\\Mehmet\\Desktop\\new_splited_wheat_dataset\\tmp_train\\images\\LucillaVitreous\\20220426_175254.jpg: corrupt JPEG restored and saved\n",
      "\u001b[34m\u001b[1mtrain: \u001b[0mWARNING  C:\\Users\\Mehmet\\Desktop\\new_splited_wheat_dataset\\tmp_train\\images\\LucillaVitreous\\20220426_175257.jpg: corrupt JPEG restored and saved\n",
      "\u001b[34m\u001b[1mtrain: \u001b[0mWARNING  C:\\Users\\Mehmet\\Desktop\\new_splited_wheat_dataset\\tmp_train\\images\\LucillaVitreous\\20220426_175259.jpg: corrupt JPEG restored and saved\n",
      "\u001b[34m\u001b[1mtrain: \u001b[0mWARNING  C:\\Users\\Mehmet\\Desktop\\new_splited_wheat_dataset\\tmp_train\\images\\LucillaVitreous\\20220426_175302.jpg: corrupt JPEG restored and saved\n",
      "\u001b[34m\u001b[1mtrain: \u001b[0mWARNING  C:\\Users\\Mehmet\\Desktop\\new_splited_wheat_dataset\\tmp_train\\images\\LucillaVitreous\\20220426_175304.jpg: corrupt JPEG restored and saved\n",
      "\u001b[34m\u001b[1mtrain: \u001b[0mWARNING  C:\\Users\\Mehmet\\Desktop\\new_splited_wheat_dataset\\tmp_train\\images\\LucillaVitreous\\20220426_175306.jpg: corrupt JPEG restored and saved\n",
      "\u001b[34m\u001b[1mtrain: \u001b[0mWARNING  C:\\Users\\Mehmet\\Desktop\\new_splited_wheat_dataset\\tmp_train\\images\\LucillaVitreous\\20220426_175308.jpg: corrupt JPEG restored and saved\n",
      "\u001b[34m\u001b[1mtrain: \u001b[0mWARNING  C:\\Users\\Mehmet\\Desktop\\new_splited_wheat_dataset\\tmp_train\\images\\LucillaVitreous\\20220426_175316.jpg: corrupt JPEG restored and saved\n",
      "\u001b[34m\u001b[1mtrain: \u001b[0mWARNING  C:\\Users\\Mehmet\\Desktop\\new_splited_wheat_dataset\\tmp_train\\images\\LucillaVitreous\\20220426_175319.jpg: corrupt JPEG restored and saved\n",
      "\u001b[34m\u001b[1mtrain: \u001b[0mWARNING  C:\\Users\\Mehmet\\Desktop\\new_splited_wheat_dataset\\tmp_train\\images\\LucillaVitreous\\20220426_175325.jpg: corrupt JPEG restored and saved\n",
      "\u001b[34m\u001b[1mtrain: \u001b[0mWARNING  C:\\Users\\Mehmet\\Desktop\\new_splited_wheat_dataset\\tmp_train\\images\\LucillaVitreous\\20220426_175333.jpg: corrupt JPEG restored and saved\n",
      "\u001b[34m\u001b[1mtrain: \u001b[0mWARNING  C:\\Users\\Mehmet\\Desktop\\new_splited_wheat_dataset\\tmp_train\\images\\LucillaVitreous\\20220426_175335.jpg: corrupt JPEG restored and saved\n",
      "\u001b[34m\u001b[1mtrain: \u001b[0mWARNING  C:\\Users\\Mehmet\\Desktop\\new_splited_wheat_dataset\\tmp_train\\images\\LucillaVitreous\\20220426_175338.jpg: corrupt JPEG restored and saved\n",
      "\u001b[34m\u001b[1mtrain: \u001b[0mWARNING  C:\\Users\\Mehmet\\Desktop\\new_splited_wheat_dataset\\tmp_train\\images\\LucillaVitreous\\20220426_175341.jpg: corrupt JPEG restored and saved\n",
      "\u001b[34m\u001b[1mtrain: \u001b[0mWARNING  C:\\Users\\Mehmet\\Desktop\\new_splited_wheat_dataset\\tmp_train\\images\\LucillaVitreous\\20220426_175342.jpg: corrupt JPEG restored and saved\n",
      "\u001b[34m\u001b[1mtrain: \u001b[0mWARNING  C:\\Users\\Mehmet\\Desktop\\new_splited_wheat_dataset\\tmp_train\\images\\LucillaVitreous\\20220426_175348.jpg: corrupt JPEG restored and saved\n",
      "\u001b[34m\u001b[1mtrain: \u001b[0mWARNING  C:\\Users\\Mehmet\\Desktop\\new_splited_wheat_dataset\\tmp_train\\images\\LucillaVitreous\\20220426_175353.jpg: corrupt JPEG restored and saved\n",
      "\u001b[34m\u001b[1mtrain: \u001b[0mWARNING  C:\\Users\\Mehmet\\Desktop\\new_splited_wheat_dataset\\tmp_train\\images\\LucillaVitreous\\20220426_175401.jpg: corrupt JPEG restored and saved\n",
      "\u001b[34m\u001b[1mtrain: \u001b[0mWARNING  C:\\Users\\Mehmet\\Desktop\\new_splited_wheat_dataset\\tmp_train\\images\\LucillaVitreous\\20220426_175403.jpg: corrupt JPEG restored and saved\n",
      "\u001b[34m\u001b[1mtrain: \u001b[0mWARNING  C:\\Users\\Mehmet\\Desktop\\new_splited_wheat_dataset\\tmp_train\\images\\LucillaVitreous\\20220426_175415.jpg: corrupt JPEG restored and saved\n",
      "\u001b[34m\u001b[1mtrain: \u001b[0mWARNING  C:\\Users\\Mehmet\\Desktop\\new_splited_wheat_dataset\\tmp_train\\images\\LucillaVitreous\\20220426_175417.jpg: corrupt JPEG restored and saved\n",
      "\u001b[34m\u001b[1mtrain: \u001b[0mWARNING  C:\\Users\\Mehmet\\Desktop\\new_splited_wheat_dataset\\tmp_train\\images\\LucillaVitreous\\20220426_175419.jpg: corrupt JPEG restored and saved\n",
      "\u001b[34m\u001b[1mtrain: \u001b[0mWARNING  C:\\Users\\Mehmet\\Desktop\\new_splited_wheat_dataset\\tmp_train\\images\\LucillaVitreous\\20220426_175424.jpg: corrupt JPEG restored and saved\n",
      "\u001b[34m\u001b[1mtrain: \u001b[0mWARNING  C:\\Users\\Mehmet\\Desktop\\new_splited_wheat_dataset\\tmp_train\\images\\LucillaVitreous\\20220426_175427.jpg: corrupt JPEG restored and saved\n",
      "\u001b[34m\u001b[1mtrain: \u001b[0mWARNING  C:\\Users\\Mehmet\\Desktop\\new_splited_wheat_dataset\\tmp_train\\images\\LucillaVitreous\\20220426_175430.jpg: corrupt JPEG restored and saved\n",
      "\u001b[34m\u001b[1mtrain: \u001b[0mWARNING  C:\\Users\\Mehmet\\Desktop\\new_splited_wheat_dataset\\tmp_train\\images\\LucillaVitreous\\20220426_175435.jpg: corrupt JPEG restored and saved\n",
      "\u001b[34m\u001b[1mtrain: \u001b[0mWARNING  C:\\Users\\Mehmet\\Desktop\\new_splited_wheat_dataset\\tmp_train\\images\\LucillaVitreous\\20220426_175441.jpg: corrupt JPEG restored and saved\n",
      "\u001b[34m\u001b[1mtrain: \u001b[0mWARNING  C:\\Users\\Mehmet\\Desktop\\new_splited_wheat_dataset\\tmp_train\\images\\LucillaVitreous\\20220426_175449.jpg: corrupt JPEG restored and saved\n",
      "\u001b[34m\u001b[1mtrain: \u001b[0mWARNING  C:\\Users\\Mehmet\\Desktop\\new_splited_wheat_dataset\\tmp_train\\images\\LucillaVitreous\\20220426_175451.jpg: corrupt JPEG restored and saved\n",
      "\u001b[34m\u001b[1mtrain: \u001b[0mWARNING  C:\\Users\\Mehmet\\Desktop\\new_splited_wheat_dataset\\tmp_train\\images\\LucillaVitreous\\20220426_175458.jpg: corrupt JPEG restored and saved\n",
      "\u001b[34m\u001b[1mtrain: \u001b[0mWARNING  C:\\Users\\Mehmet\\Desktop\\new_splited_wheat_dataset\\tmp_train\\images\\LucillaVitreous\\20220426_175500.jpg: corrupt JPEG restored and saved\n",
      "\u001b[34m\u001b[1mtrain: \u001b[0mWARNING  C:\\Users\\Mehmet\\Desktop\\new_splited_wheat_dataset\\tmp_train\\images\\LucillaVitreous\\20220426_175502.jpg: corrupt JPEG restored and saved\n",
      "\u001b[34m\u001b[1mtrain: \u001b[0mWARNING  C:\\Users\\Mehmet\\Desktop\\new_splited_wheat_dataset\\tmp_train\\images\\LucillaVitreous\\20220426_175508.jpg: corrupt JPEG restored and saved\n",
      "\u001b[34m\u001b[1mtrain: \u001b[0mWARNING  C:\\Users\\Mehmet\\Desktop\\new_splited_wheat_dataset\\tmp_train\\images\\LucillaVitreous\\20220426_175510.jpg: corrupt JPEG restored and saved\n",
      "\u001b[34m\u001b[1mtrain: \u001b[0mWARNING  C:\\Users\\Mehmet\\Desktop\\new_splited_wheat_dataset\\tmp_train\\images\\LucillaVitreous\\20220426_175514.jpg: corrupt JPEG restored and saved\n",
      "\u001b[34m\u001b[1mtrain: \u001b[0mWARNING  C:\\Users\\Mehmet\\Desktop\\new_splited_wheat_dataset\\tmp_train\\images\\LucillaVitreous\\20220426_175516.jpg: corrupt JPEG restored and saved\n",
      "\u001b[34m\u001b[1mtrain: \u001b[0mWARNING  C:\\Users\\Mehmet\\Desktop\\new_splited_wheat_dataset\\tmp_train\\images\\LucillaVitreous\\20220426_175524.jpg: corrupt JPEG restored and saved\n",
      "\u001b[34m\u001b[1mtrain: \u001b[0mWARNING  C:\\Users\\Mehmet\\Desktop\\new_splited_wheat_dataset\\tmp_train\\images\\LucillaVitreous\\20220426_175526.jpg: corrupt JPEG restored and saved\n",
      "\u001b[34m\u001b[1mtrain: \u001b[0mWARNING  C:\\Users\\Mehmet\\Desktop\\new_splited_wheat_dataset\\tmp_train\\images\\LucillaVitreous\\20220426_175529.jpg: corrupt JPEG restored and saved\n",
      "\u001b[34m\u001b[1mtrain: \u001b[0mWARNING  C:\\Users\\Mehmet\\Desktop\\new_splited_wheat_dataset\\tmp_train\\images\\LucillaVitreous\\20220426_175531.jpg: corrupt JPEG restored and saved\n",
      "\u001b[34m\u001b[1mtrain: \u001b[0mWARNING  C:\\Users\\Mehmet\\Desktop\\new_splited_wheat_dataset\\tmp_train\\images\\LucillaVitreous\\20220426_175535.jpg: corrupt JPEG restored and saved\n",
      "\u001b[34m\u001b[1mtrain: \u001b[0mWARNING  C:\\Users\\Mehmet\\Desktop\\new_splited_wheat_dataset\\tmp_train\\images\\LucillaVitreous\\20220426_175537.jpg: corrupt JPEG restored and saved\n",
      "\u001b[34m\u001b[1mtrain: \u001b[0mWARNING  C:\\Users\\Mehmet\\Desktop\\new_splited_wheat_dataset\\tmp_train\\images\\LucillaVitreous\\20220426_175541.jpg: corrupt JPEG restored and saved\n",
      "\u001b[34m\u001b[1mtrain: \u001b[0mWARNING  C:\\Users\\Mehmet\\Desktop\\new_splited_wheat_dataset\\tmp_train\\images\\LucillaVitreous\\20220426_175544.jpg: corrupt JPEG restored and saved\n",
      "\u001b[34m\u001b[1mtrain: \u001b[0mWARNING  C:\\Users\\Mehmet\\Desktop\\new_splited_wheat_dataset\\tmp_train\\images\\LucillaVitreous\\20220426_175546.jpg: corrupt JPEG restored and saved\n",
      "\u001b[34m\u001b[1mtrain: \u001b[0mWARNING  C:\\Users\\Mehmet\\Desktop\\new_splited_wheat_dataset\\tmp_train\\images\\LucillaVitreous\\20220426_175548.jpg: corrupt JPEG restored and saved\n",
      "\u001b[34m\u001b[1mtrain: \u001b[0mWARNING  C:\\Users\\Mehmet\\Desktop\\new_splited_wheat_dataset\\tmp_train\\images\\LucillaVitreous\\20220426_175557.jpg: corrupt JPEG restored and saved\n",
      "\u001b[34m\u001b[1mtrain: \u001b[0mWARNING  C:\\Users\\Mehmet\\Desktop\\new_splited_wheat_dataset\\tmp_train\\images\\LucillaVitreous\\20220426_175600.jpg: corrupt JPEG restored and saved\n",
      "\u001b[34m\u001b[1mtrain: \u001b[0mWARNING  C:\\Users\\Mehmet\\Desktop\\new_splited_wheat_dataset\\tmp_train\\images\\LucillaVitreous\\20220426_175603.jpg: corrupt JPEG restored and saved\n",
      "\u001b[34m\u001b[1mtrain: \u001b[0mWARNING  C:\\Users\\Mehmet\\Desktop\\new_splited_wheat_dataset\\tmp_train\\images\\OdeskaVitreous\\20220426_172201.jpg: corrupt JPEG restored and saved\n",
      "\u001b[34m\u001b[1mtrain: \u001b[0mWARNING  C:\\Users\\Mehmet\\Desktop\\new_splited_wheat_dataset\\tmp_train\\images\\OdeskaVitreous\\20220426_172203.jpg: corrupt JPEG restored and saved\n",
      "\u001b[34m\u001b[1mtrain: \u001b[0mWARNING  C:\\Users\\Mehmet\\Desktop\\new_splited_wheat_dataset\\tmp_train\\images\\OdeskaVitreous\\20220426_172206.jpg: corrupt JPEG restored and saved\n",
      "\u001b[34m\u001b[1mtrain: \u001b[0mWARNING  C:\\Users\\Mehmet\\Desktop\\new_splited_wheat_dataset\\tmp_train\\images\\OdeskaVitreous\\20220426_172208.jpg: corrupt JPEG restored and saved\n",
      "\u001b[34m\u001b[1mtrain: \u001b[0mWARNING  C:\\Users\\Mehmet\\Desktop\\new_splited_wheat_dataset\\tmp_train\\images\\OdeskaVitreous\\20220426_172211.jpg: corrupt JPEG restored and saved\n",
      "\u001b[34m\u001b[1mtrain: \u001b[0mWARNING  C:\\Users\\Mehmet\\Desktop\\new_splited_wheat_dataset\\tmp_train\\images\\OdeskaVitreous\\20220426_172227.jpg: corrupt JPEG restored and saved\n",
      "\u001b[34m\u001b[1mtrain: \u001b[0mWARNING  C:\\Users\\Mehmet\\Desktop\\new_splited_wheat_dataset\\tmp_train\\images\\OdeskaVitreous\\20220426_172229.jpg: corrupt JPEG restored and saved\n",
      "\u001b[34m\u001b[1mtrain: \u001b[0mWARNING  C:\\Users\\Mehmet\\Desktop\\new_splited_wheat_dataset\\tmp_train\\images\\OdeskaVitreous\\20220426_172232.jpg: corrupt JPEG restored and saved\n",
      "\u001b[34m\u001b[1mtrain: \u001b[0mWARNING  C:\\Users\\Mehmet\\Desktop\\new_splited_wheat_dataset\\tmp_train\\images\\OdeskaVitreous\\20220426_172234.jpg: corrupt JPEG restored and saved\n",
      "\u001b[34m\u001b[1mtrain: \u001b[0mWARNING  C:\\Users\\Mehmet\\Desktop\\new_splited_wheat_dataset\\tmp_train\\images\\OdeskaVitreous\\20220426_172241.jpg: corrupt JPEG restored and saved\n",
      "\u001b[34m\u001b[1mtrain: \u001b[0mWARNING  C:\\Users\\Mehmet\\Desktop\\new_splited_wheat_dataset\\tmp_train\\images\\OdeskaVitreous\\20220426_172243.jpg: corrupt JPEG restored and saved\n",
      "\u001b[34m\u001b[1mtrain: \u001b[0mWARNING  C:\\Users\\Mehmet\\Desktop\\new_splited_wheat_dataset\\tmp_train\\images\\OdeskaVitreous\\20220426_172246.jpg: corrupt JPEG restored and saved\n",
      "\u001b[34m\u001b[1mtrain: \u001b[0mWARNING  C:\\Users\\Mehmet\\Desktop\\new_splited_wheat_dataset\\tmp_train\\images\\OdeskaVitreous\\20220426_172248.jpg: corrupt JPEG restored and saved\n",
      "\u001b[34m\u001b[1mtrain: \u001b[0mWARNING  C:\\Users\\Mehmet\\Desktop\\new_splited_wheat_dataset\\tmp_train\\images\\OdeskaVitreous\\20220426_172251.jpg: corrupt JPEG restored and saved\n",
      "\u001b[34m\u001b[1mtrain: \u001b[0mWARNING  C:\\Users\\Mehmet\\Desktop\\new_splited_wheat_dataset\\tmp_train\\images\\OdeskaVitreous\\20220426_172309.jpg: corrupt JPEG restored and saved\n",
      "\u001b[34m\u001b[1mtrain: \u001b[0mWARNING  C:\\Users\\Mehmet\\Desktop\\new_splited_wheat_dataset\\tmp_train\\images\\OdeskaVitreous\\20220426_172317.jpg: corrupt JPEG restored and saved\n",
      "\u001b[34m\u001b[1mtrain: \u001b[0mWARNING  C:\\Users\\Mehmet\\Desktop\\new_splited_wheat_dataset\\tmp_train\\images\\OdeskaVitreous\\20220426_172319.jpg: corrupt JPEG restored and saved\n",
      "\u001b[34m\u001b[1mtrain: \u001b[0mWARNING  C:\\Users\\Mehmet\\Desktop\\new_splited_wheat_dataset\\tmp_train\\images\\OdeskaVitreous\\20220426_172321.jpg: corrupt JPEG restored and saved\n",
      "\u001b[34m\u001b[1mtrain: \u001b[0mWARNING  C:\\Users\\Mehmet\\Desktop\\new_splited_wheat_dataset\\tmp_train\\images\\OdeskaVitreous\\20220426_172326.jpg: corrupt JPEG restored and saved\n",
      "\u001b[34m\u001b[1mtrain: \u001b[0mWARNING  C:\\Users\\Mehmet\\Desktop\\new_splited_wheat_dataset\\tmp_train\\images\\OdeskaVitreous\\20220426_172329.jpg: corrupt JPEG restored and saved\n",
      "\u001b[34m\u001b[1mtrain: \u001b[0mWARNING  C:\\Users\\Mehmet\\Desktop\\new_splited_wheat_dataset\\tmp_train\\images\\OdeskaVitreous\\20220426_172331.jpg: corrupt JPEG restored and saved\n",
      "\u001b[34m\u001b[1mtrain: \u001b[0mWARNING  C:\\Users\\Mehmet\\Desktop\\new_splited_wheat_dataset\\tmp_train\\images\\OdeskaVitreous\\20220426_172334.jpg: corrupt JPEG restored and saved\n",
      "\u001b[34m\u001b[1mtrain: \u001b[0mWARNING  C:\\Users\\Mehmet\\Desktop\\new_splited_wheat_dataset\\tmp_train\\images\\OdeskaVitreous\\20220426_172336.jpg: corrupt JPEG restored and saved\n",
      "\u001b[34m\u001b[1mtrain: \u001b[0mWARNING  C:\\Users\\Mehmet\\Desktop\\new_splited_wheat_dataset\\tmp_train\\images\\OdeskaVitreous\\20220426_172339.jpg: corrupt JPEG restored and saved\n",
      "\u001b[34m\u001b[1mtrain: \u001b[0mWARNING  C:\\Users\\Mehmet\\Desktop\\new_splited_wheat_dataset\\tmp_train\\images\\OdeskaVitreous\\20220426_172341.jpg: corrupt JPEG restored and saved\n",
      "\u001b[34m\u001b[1mtrain: \u001b[0mWARNING  C:\\Users\\Mehmet\\Desktop\\new_splited_wheat_dataset\\tmp_train\\images\\OdeskaVitreous\\20220426_172345.jpg: corrupt JPEG restored and saved\n",
      "\u001b[34m\u001b[1mtrain: \u001b[0mWARNING  C:\\Users\\Mehmet\\Desktop\\new_splited_wheat_dataset\\tmp_train\\images\\OdeskaVitreous\\20220426_172348.jpg: corrupt JPEG restored and saved\n",
      "\u001b[34m\u001b[1mtrain: \u001b[0mWARNING  C:\\Users\\Mehmet\\Desktop\\new_splited_wheat_dataset\\tmp_train\\images\\OdeskaVitreous\\20220426_172351.jpg: corrupt JPEG restored and saved\n",
      "\u001b[34m\u001b[1mtrain: \u001b[0mWARNING  C:\\Users\\Mehmet\\Desktop\\new_splited_wheat_dataset\\tmp_train\\images\\OdeskaVitreous\\20220426_172356.jpg: corrupt JPEG restored and saved\n",
      "\u001b[34m\u001b[1mtrain: \u001b[0mWARNING  C:\\Users\\Mehmet\\Desktop\\new_splited_wheat_dataset\\tmp_train\\images\\OdeskaVitreous\\20220426_172359.jpg: corrupt JPEG restored and saved\n",
      "\u001b[34m\u001b[1mtrain: \u001b[0mWARNING  C:\\Users\\Mehmet\\Desktop\\new_splited_wheat_dataset\\tmp_train\\images\\OdeskaVitreous\\20220426_172401.jpg: corrupt JPEG restored and saved\n",
      "\u001b[34m\u001b[1mtrain: \u001b[0mWARNING  C:\\Users\\Mehmet\\Desktop\\new_splited_wheat_dataset\\tmp_train\\images\\OdeskaVitreous\\20220426_172417.jpg: corrupt JPEG restored and saved\n",
      "\u001b[34m\u001b[1mtrain: \u001b[0mWARNING  C:\\Users\\Mehmet\\Desktop\\new_splited_wheat_dataset\\tmp_train\\images\\OdeskaVitreous\\20220426_172423.jpg: corrupt JPEG restored and saved\n",
      "\u001b[34m\u001b[1mtrain: \u001b[0mWARNING  C:\\Users\\Mehmet\\Desktop\\new_splited_wheat_dataset\\tmp_train\\images\\OdeskaVitreous\\20220426_172425.jpg: corrupt JPEG restored and saved\n",
      "\u001b[34m\u001b[1mtrain: \u001b[0mWARNING  C:\\Users\\Mehmet\\Desktop\\new_splited_wheat_dataset\\tmp_train\\images\\OdeskaVitreous\\20220426_172429.jpg: corrupt JPEG restored and saved\n",
      "\u001b[34m\u001b[1mtrain: \u001b[0mWARNING  C:\\Users\\Mehmet\\Desktop\\new_splited_wheat_dataset\\tmp_train\\images\\OdeskaVitreous\\20220426_172433.jpg: corrupt JPEG restored and saved\n",
      "\u001b[34m\u001b[1mtrain: \u001b[0mWARNING  C:\\Users\\Mehmet\\Desktop\\new_splited_wheat_dataset\\tmp_train\\images\\OdeskaVitreous\\20220426_172436.jpg: corrupt JPEG restored and saved\n",
      "\u001b[34m\u001b[1mtrain: \u001b[0mWARNING  C:\\Users\\Mehmet\\Desktop\\new_splited_wheat_dataset\\tmp_train\\images\\OdeskaVitreous\\20220426_172453.jpg: corrupt JPEG restored and saved\n",
      "\u001b[34m\u001b[1mtrain: \u001b[0mWARNING  C:\\Users\\Mehmet\\Desktop\\new_splited_wheat_dataset\\tmp_train\\images\\OdeskaVitreous\\20220426_172455.jpg: corrupt JPEG restored and saved\n",
      "\u001b[34m\u001b[1mtrain: \u001b[0mWARNING  C:\\Users\\Mehmet\\Desktop\\new_splited_wheat_dataset\\tmp_train\\images\\OdeskaVitreous\\20220426_172457.jpg: corrupt JPEG restored and saved\n",
      "\u001b[34m\u001b[1mtrain: \u001b[0mWARNING  C:\\Users\\Mehmet\\Desktop\\new_splited_wheat_dataset\\tmp_train\\images\\OdeskaVitreous\\20220426_172500.jpg: corrupt JPEG restored and saved\n",
      "\u001b[34m\u001b[1mtrain: \u001b[0mWARNING  C:\\Users\\Mehmet\\Desktop\\new_splited_wheat_dataset\\tmp_train\\images\\OdeskaVitreous\\20220426_172502.jpg: corrupt JPEG restored and saved\n",
      "\u001b[34m\u001b[1mtrain: \u001b[0mWARNING  C:\\Users\\Mehmet\\Desktop\\new_splited_wheat_dataset\\tmp_train\\images\\OdeskaVitreous\\20220426_172505.jpg: corrupt JPEG restored and saved\n",
      "\u001b[34m\u001b[1mtrain: \u001b[0mWARNING  C:\\Users\\Mehmet\\Desktop\\new_splited_wheat_dataset\\tmp_train\\images\\OdeskaVitreous\\20220426_172507.jpg: corrupt JPEG restored and saved\n",
      "\u001b[34m\u001b[1mtrain: \u001b[0mWARNING  C:\\Users\\Mehmet\\Desktop\\new_splited_wheat_dataset\\tmp_train\\images\\OdeskaVitreous\\20220426_172528.jpg: corrupt JPEG restored and saved\n",
      "\u001b[34m\u001b[1mtrain: \u001b[0mWARNING  C:\\Users\\Mehmet\\Desktop\\new_splited_wheat_dataset\\tmp_train\\images\\OdeskaVitreous\\20220426_172532.jpg: corrupt JPEG restored and saved\n",
      "\u001b[34m\u001b[1mtrain: \u001b[0mWARNING  C:\\Users\\Mehmet\\Desktop\\new_splited_wheat_dataset\\tmp_train\\images\\OdeskaVitreous\\20220426_172535.jpg: corrupt JPEG restored and saved\n",
      "\u001b[34m\u001b[1mtrain: \u001b[0mWARNING  C:\\Users\\Mehmet\\Desktop\\new_splited_wheat_dataset\\tmp_train\\images\\OdeskaVitreous\\20220426_172537.jpg: corrupt JPEG restored and saved\n",
      "\u001b[34m\u001b[1mtrain: \u001b[0mWARNING  C:\\Users\\Mehmet\\Desktop\\new_splited_wheat_dataset\\tmp_train\\images\\OdeskaVitreous\\20220426_172540.jpg: corrupt JPEG restored and saved\n",
      "\u001b[34m\u001b[1mtrain: \u001b[0mWARNING  C:\\Users\\Mehmet\\Desktop\\new_splited_wheat_dataset\\tmp_train\\images\\OdeskaVitreous\\20220426_172552.jpg: corrupt JPEG restored and saved\n",
      "\u001b[34m\u001b[1mtrain: \u001b[0mWARNING  C:\\Users\\Mehmet\\Desktop\\new_splited_wheat_dataset\\tmp_train\\images\\OdeskaVitreous\\20220426_172556.jpg: corrupt JPEG restored and saved\n",
      "\u001b[34m\u001b[1mtrain: \u001b[0mWARNING  C:\\Users\\Mehmet\\Desktop\\new_splited_wheat_dataset\\tmp_train\\images\\OdeskaVitreous\\20220426_172559.jpg: corrupt JPEG restored and saved\n",
      "\u001b[34m\u001b[1mtrain: \u001b[0mWARNING  C:\\Users\\Mehmet\\Desktop\\new_splited_wheat_dataset\\tmp_train\\images\\OdeskaVitreous\\20220426_172601.jpg: corrupt JPEG restored and saved\n",
      "\u001b[34m\u001b[1mtrain: \u001b[0mWARNING  C:\\Users\\Mehmet\\Desktop\\new_splited_wheat_dataset\\tmp_train\\images\\OdeskaVitreous\\20220426_172603.jpg: corrupt JPEG restored and saved\n",
      "\u001b[34m\u001b[1mtrain: \u001b[0mWARNING  C:\\Users\\Mehmet\\Desktop\\new_splited_wheat_dataset\\tmp_train\\images\\OdeskaVitreous\\20220426_172606.jpg: corrupt JPEG restored and saved\n",
      "\u001b[34m\u001b[1mtrain: \u001b[0mWARNING  C:\\Users\\Mehmet\\Desktop\\new_splited_wheat_dataset\\tmp_train\\images\\OdeskaVitreous\\20220426_172610.jpg: corrupt JPEG restored and saved\n",
      "\u001b[34m\u001b[1mtrain: \u001b[0mWARNING  C:\\Users\\Mehmet\\Desktop\\new_splited_wheat_dataset\\tmp_train\\images\\OdeskaVitreous\\20220426_172617.jpg: corrupt JPEG restored and saved\n",
      "\u001b[34m\u001b[1mtrain: \u001b[0mWARNING  C:\\Users\\Mehmet\\Desktop\\new_splited_wheat_dataset\\tmp_train\\images\\OdeskaVitreous\\20220426_172631.jpg: corrupt JPEG restored and saved\n",
      "\u001b[34m\u001b[1mtrain: \u001b[0mWARNING  C:\\Users\\Mehmet\\Desktop\\new_splited_wheat_dataset\\tmp_train\\images\\OdeskaVitreous\\20220426_172635.jpg: corrupt JPEG restored and saved\n",
      "\u001b[34m\u001b[1mtrain: \u001b[0mWARNING  C:\\Users\\Mehmet\\Desktop\\new_splited_wheat_dataset\\tmp_train\\images\\OdeskaVitreous\\20220426_172638.jpg: corrupt JPEG restored and saved\n",
      "\u001b[34m\u001b[1mtrain: \u001b[0mWARNING  C:\\Users\\Mehmet\\Desktop\\new_splited_wheat_dataset\\tmp_train\\images\\OdeskaVitreous\\20220426_172647.jpg: corrupt JPEG restored and saved\n",
      "\u001b[34m\u001b[1mtrain: \u001b[0mWARNING  C:\\Users\\Mehmet\\Desktop\\new_splited_wheat_dataset\\tmp_train\\images\\OdeskaVitreous\\20220426_172649.jpg: corrupt JPEG restored and saved\n",
      "\u001b[34m\u001b[1mtrain: \u001b[0mWARNING  C:\\Users\\Mehmet\\Desktop\\new_splited_wheat_dataset\\tmp_train\\images\\OdeskaVitreous\\20220426_172659.jpg: corrupt JPEG restored and saved\n",
      "\u001b[34m\u001b[1mtrain: \u001b[0mWARNING  C:\\Users\\Mehmet\\Desktop\\new_splited_wheat_dataset\\tmp_train\\images\\OdeskaVitreous\\20220426_172701.jpg: corrupt JPEG restored and saved\n",
      "\u001b[34m\u001b[1mtrain: \u001b[0mWARNING  C:\\Users\\Mehmet\\Desktop\\new_splited_wheat_dataset\\tmp_train\\images\\OdeskaVitreous\\20220426_172706.jpg: corrupt JPEG restored and saved\n",
      "\u001b[34m\u001b[1mtrain: \u001b[0mWARNING  C:\\Users\\Mehmet\\Desktop\\new_splited_wheat_dataset\\tmp_train\\images\\OdeskaVitreous\\20220426_172708.jpg: corrupt JPEG restored and saved\n",
      "\u001b[34m\u001b[1mtrain: \u001b[0mWARNING  C:\\Users\\Mehmet\\Desktop\\new_splited_wheat_dataset\\tmp_train\\images\\OdeskaVitreous\\20220426_172711.jpg: corrupt JPEG restored and saved\n",
      "\u001b[34m\u001b[1mtrain: \u001b[0mWARNING  C:\\Users\\Mehmet\\Desktop\\new_splited_wheat_dataset\\tmp_train\\images\\OdeskaVitreous\\20220426_172718.jpg: corrupt JPEG restored and saved\n",
      "\u001b[34m\u001b[1mtrain: \u001b[0mWARNING  C:\\Users\\Mehmet\\Desktop\\new_splited_wheat_dataset\\tmp_train\\images\\OdeskaVitreous\\20220426_172724.jpg: corrupt JPEG restored and saved\n",
      "\u001b[34m\u001b[1mtrain: \u001b[0mWARNING  C:\\Users\\Mehmet\\Desktop\\new_splited_wheat_dataset\\tmp_train\\images\\OdeskaVitreous\\20220426_172732.jpg: corrupt JPEG restored and saved\n",
      "\u001b[34m\u001b[1mtrain: \u001b[0mWARNING  C:\\Users\\Mehmet\\Desktop\\new_splited_wheat_dataset\\tmp_train\\images\\OdeskaVitreous\\20220426_172737.jpg: corrupt JPEG restored and saved\n",
      "\u001b[34m\u001b[1mtrain: \u001b[0mWARNING  C:\\Users\\Mehmet\\Desktop\\new_splited_wheat_dataset\\tmp_train\\images\\RumeliVitreous\\20220427_120143.jpg: corrupt JPEG restored and saved\n",
      "\u001b[34m\u001b[1mtrain: \u001b[0mWARNING  C:\\Users\\Mehmet\\Desktop\\new_splited_wheat_dataset\\tmp_train\\images\\RumeliVitreous\\20220427_120149.jpg: corrupt JPEG restored and saved\n",
      "\u001b[34m\u001b[1mtrain: \u001b[0mWARNING  C:\\Users\\Mehmet\\Desktop\\new_splited_wheat_dataset\\tmp_train\\images\\RumeliVitreous\\20220427_120151.jpg: corrupt JPEG restored and saved\n",
      "\u001b[34m\u001b[1mtrain: \u001b[0mWARNING  C:\\Users\\Mehmet\\Desktop\\new_splited_wheat_dataset\\tmp_train\\images\\RumeliVitreous\\20220427_120153.jpg: corrupt JPEG restored and saved\n",
      "\u001b[34m\u001b[1mtrain: \u001b[0mWARNING  C:\\Users\\Mehmet\\Desktop\\new_splited_wheat_dataset\\tmp_train\\images\\RumeliVitreous\\20220427_120159.jpg: corrupt JPEG restored and saved\n",
      "\u001b[34m\u001b[1mtrain: \u001b[0mWARNING  C:\\Users\\Mehmet\\Desktop\\new_splited_wheat_dataset\\tmp_train\\images\\RumeliVitreous\\20220427_120201.jpg: corrupt JPEG restored and saved\n",
      "\u001b[34m\u001b[1mtrain: \u001b[0mWARNING  C:\\Users\\Mehmet\\Desktop\\new_splited_wheat_dataset\\tmp_train\\images\\RumeliVitreous\\20220427_120203.jpg: corrupt JPEG restored and saved\n",
      "\u001b[34m\u001b[1mtrain: \u001b[0mWARNING  C:\\Users\\Mehmet\\Desktop\\new_splited_wheat_dataset\\tmp_train\\images\\RumeliVitreous\\20220427_120205.jpg: corrupt JPEG restored and saved\n",
      "\u001b[34m\u001b[1mtrain: \u001b[0mWARNING  C:\\Users\\Mehmet\\Desktop\\new_splited_wheat_dataset\\tmp_train\\images\\RumeliVitreous\\20220427_120207.jpg: corrupt JPEG restored and saved\n",
      "\u001b[34m\u001b[1mtrain: \u001b[0mWARNING  C:\\Users\\Mehmet\\Desktop\\new_splited_wheat_dataset\\tmp_train\\images\\RumeliVitreous\\20220427_120209.jpg: corrupt JPEG restored and saved\n",
      "\u001b[34m\u001b[1mtrain: \u001b[0mWARNING  C:\\Users\\Mehmet\\Desktop\\new_splited_wheat_dataset\\tmp_train\\images\\RumeliVitreous\\20220427_120214.jpg: corrupt JPEG restored and saved\n",
      "\u001b[34m\u001b[1mtrain: \u001b[0mWARNING  C:\\Users\\Mehmet\\Desktop\\new_splited_wheat_dataset\\tmp_train\\images\\RumeliVitreous\\20220427_120216.jpg: corrupt JPEG restored and saved\n",
      "\u001b[34m\u001b[1mtrain: \u001b[0mWARNING  C:\\Users\\Mehmet\\Desktop\\new_splited_wheat_dataset\\tmp_train\\images\\RumeliVitreous\\20220427_120218.jpg: corrupt JPEG restored and saved\n",
      "\u001b[34m\u001b[1mtrain: \u001b[0mWARNING  C:\\Users\\Mehmet\\Desktop\\new_splited_wheat_dataset\\tmp_train\\images\\RumeliVitreous\\20220427_120223.jpg: corrupt JPEG restored and saved\n",
      "\u001b[34m\u001b[1mtrain: \u001b[0mWARNING  C:\\Users\\Mehmet\\Desktop\\new_splited_wheat_dataset\\tmp_train\\images\\RumeliVitreous\\20220427_120233.jpg: corrupt JPEG restored and saved\n",
      "\u001b[34m\u001b[1mtrain: \u001b[0mWARNING  C:\\Users\\Mehmet\\Desktop\\new_splited_wheat_dataset\\tmp_train\\images\\RumeliVitreous\\20220427_120247.jpg: corrupt JPEG restored and saved\n",
      "\u001b[34m\u001b[1mtrain: \u001b[0mWARNING  C:\\Users\\Mehmet\\Desktop\\new_splited_wheat_dataset\\tmp_train\\images\\RumeliVitreous\\20220427_120254.jpg: corrupt JPEG restored and saved\n",
      "\u001b[34m\u001b[1mtrain: \u001b[0mWARNING  C:\\Users\\Mehmet\\Desktop\\new_splited_wheat_dataset\\tmp_train\\images\\RumeliVitreous\\20220427_120256.jpg: corrupt JPEG restored and saved\n",
      "\u001b[34m\u001b[1mtrain: \u001b[0mWARNING  C:\\Users\\Mehmet\\Desktop\\new_splited_wheat_dataset\\tmp_train\\images\\RumeliVitreous\\20220427_120258.jpg: corrupt JPEG restored and saved\n",
      "\u001b[34m\u001b[1mtrain: \u001b[0mWARNING  C:\\Users\\Mehmet\\Desktop\\new_splited_wheat_dataset\\tmp_train\\images\\RumeliVitreous\\20220427_120309.jpg: corrupt JPEG restored and saved\n",
      "\u001b[34m\u001b[1mtrain: \u001b[0mWARNING  C:\\Users\\Mehmet\\Desktop\\new_splited_wheat_dataset\\tmp_train\\images\\RumeliVitreous\\20220427_120314.jpg: corrupt JPEG restored and saved\n",
      "\u001b[34m\u001b[1mtrain: \u001b[0mWARNING  C:\\Users\\Mehmet\\Desktop\\new_splited_wheat_dataset\\tmp_train\\images\\RumeliVitreous\\20220427_120317.jpg: corrupt JPEG restored and saved\n",
      "\u001b[34m\u001b[1mtrain: \u001b[0mWARNING  C:\\Users\\Mehmet\\Desktop\\new_splited_wheat_dataset\\tmp_train\\images\\RumeliVitreous\\20220427_120329.jpg: corrupt JPEG restored and saved\n",
      "\u001b[34m\u001b[1mtrain: \u001b[0mWARNING  C:\\Users\\Mehmet\\Desktop\\new_splited_wheat_dataset\\tmp_train\\images\\RumeliVitreous\\20220427_120332.jpg: corrupt JPEG restored and saved\n",
      "\u001b[34m\u001b[1mtrain: \u001b[0mWARNING  C:\\Users\\Mehmet\\Desktop\\new_splited_wheat_dataset\\tmp_train\\images\\RumeliVitreous\\20220427_120336.jpg: corrupt JPEG restored and saved\n",
      "\u001b[34m\u001b[1mtrain: \u001b[0mWARNING  C:\\Users\\Mehmet\\Desktop\\new_splited_wheat_dataset\\tmp_train\\images\\RumeliVitreous\\20220427_120339.jpg: corrupt JPEG restored and saved\n",
      "\u001b[34m\u001b[1mtrain: \u001b[0mWARNING  C:\\Users\\Mehmet\\Desktop\\new_splited_wheat_dataset\\tmp_train\\images\\RumeliVitreous\\20220427_120341.jpg: corrupt JPEG restored and saved\n",
      "\u001b[34m\u001b[1mtrain: \u001b[0mWARNING  C:\\Users\\Mehmet\\Desktop\\new_splited_wheat_dataset\\tmp_train\\images\\RumeliVitreous\\20220427_120352.jpg: corrupt JPEG restored and saved\n",
      "\u001b[34m\u001b[1mtrain: \u001b[0mWARNING  C:\\Users\\Mehmet\\Desktop\\new_splited_wheat_dataset\\tmp_train\\images\\RumeliVitreous\\20220427_120359.jpg: corrupt JPEG restored and saved\n",
      "\u001b[34m\u001b[1mtrain: \u001b[0mWARNING  C:\\Users\\Mehmet\\Desktop\\new_splited_wheat_dataset\\tmp_train\\images\\RumeliVitreous\\20220427_120404.jpg: corrupt JPEG restored and saved\n",
      "\u001b[34m\u001b[1mtrain: \u001b[0mWARNING  C:\\Users\\Mehmet\\Desktop\\new_splited_wheat_dataset\\tmp_train\\images\\RumeliVitreous\\20220427_120407.jpg: corrupt JPEG restored and saved\n",
      "\u001b[34m\u001b[1mtrain: \u001b[0mWARNING  C:\\Users\\Mehmet\\Desktop\\new_splited_wheat_dataset\\tmp_train\\images\\RumeliVitreous\\20220427_120410.jpg: corrupt JPEG restored and saved\n",
      "\u001b[34m\u001b[1mtrain: \u001b[0mWARNING  C:\\Users\\Mehmet\\Desktop\\new_splited_wheat_dataset\\tmp_train\\images\\RumeliVitreous\\20220427_120417.jpg: corrupt JPEG restored and saved\n",
      "\u001b[34m\u001b[1mtrain: \u001b[0mWARNING  C:\\Users\\Mehmet\\Desktop\\new_splited_wheat_dataset\\tmp_train\\images\\RumeliVitreous\\20220427_120419.jpg: corrupt JPEG restored and saved\n",
      "\u001b[34m\u001b[1mtrain: \u001b[0mWARNING  C:\\Users\\Mehmet\\Desktop\\new_splited_wheat_dataset\\tmp_train\\images\\RumeliVitreous\\20220427_120421.jpg: corrupt JPEG restored and saved\n",
      "\u001b[34m\u001b[1mtrain: \u001b[0mWARNING  C:\\Users\\Mehmet\\Desktop\\new_splited_wheat_dataset\\tmp_train\\images\\RumeliVitreous\\20220427_120423.jpg: corrupt JPEG restored and saved\n",
      "\u001b[34m\u001b[1mtrain: \u001b[0mWARNING  C:\\Users\\Mehmet\\Desktop\\new_splited_wheat_dataset\\tmp_train\\images\\RumeliVitreous\\20220427_120425.jpg: corrupt JPEG restored and saved\n",
      "\u001b[34m\u001b[1mtrain: \u001b[0mWARNING  C:\\Users\\Mehmet\\Desktop\\new_splited_wheat_dataset\\tmp_train\\images\\RumeliVitreous\\20220427_120428.jpg: corrupt JPEG restored and saved\n",
      "\u001b[34m\u001b[1mtrain: \u001b[0mWARNING  C:\\Users\\Mehmet\\Desktop\\new_splited_wheat_dataset\\tmp_train\\images\\RumeliVitreous\\20220427_120430.jpg: corrupt JPEG restored and saved\n",
      "\u001b[34m\u001b[1mtrain: \u001b[0mWARNING  C:\\Users\\Mehmet\\Desktop\\new_splited_wheat_dataset\\tmp_train\\images\\RumeliVitreous\\20220427_120435.jpg: corrupt JPEG restored and saved\n",
      "\u001b[34m\u001b[1mtrain: \u001b[0mWARNING  C:\\Users\\Mehmet\\Desktop\\new_splited_wheat_dataset\\tmp_train\\images\\RumeliVitreous\\20220427_120437.jpg: corrupt JPEG restored and saved\n",
      "\u001b[34m\u001b[1mtrain: \u001b[0mWARNING  C:\\Users\\Mehmet\\Desktop\\new_splited_wheat_dataset\\tmp_train\\images\\RumeliVitreous\\20220427_120450.jpg: corrupt JPEG restored and saved\n",
      "\u001b[34m\u001b[1mtrain: \u001b[0mWARNING  C:\\Users\\Mehmet\\Desktop\\new_splited_wheat_dataset\\tmp_train\\images\\RumeliVitreous\\20220427_120452.jpg: corrupt JPEG restored and saved\n",
      "\u001b[34m\u001b[1mtrain: \u001b[0mWARNING  C:\\Users\\Mehmet\\Desktop\\new_splited_wheat_dataset\\tmp_train\\images\\RumeliVitreous\\20220427_120457.jpg: corrupt JPEG restored and saved\n",
      "\u001b[34m\u001b[1mtrain: \u001b[0mWARNING  C:\\Users\\Mehmet\\Desktop\\new_splited_wheat_dataset\\tmp_train\\images\\RumeliVitreous\\20220427_120504.jpg: corrupt JPEG restored and saved\n",
      "\u001b[34m\u001b[1mtrain: \u001b[0mWARNING  C:\\Users\\Mehmet\\Desktop\\new_splited_wheat_dataset\\tmp_train\\images\\RumeliVitreous\\20220427_120508.jpg: corrupt JPEG restored and saved\n",
      "\u001b[34m\u001b[1mtrain: \u001b[0mWARNING  C:\\Users\\Mehmet\\Desktop\\new_splited_wheat_dataset\\tmp_train\\images\\RumeliVitreous\\20220427_120513.jpg: corrupt JPEG restored and saved\n",
      "\u001b[34m\u001b[1mtrain: \u001b[0mWARNING  C:\\Users\\Mehmet\\Desktop\\new_splited_wheat_dataset\\tmp_train\\images\\RumeliVitreous\\20220427_120524.jpg: corrupt JPEG restored and saved\n",
      "\u001b[34m\u001b[1mtrain: \u001b[0mWARNING  C:\\Users\\Mehmet\\Desktop\\new_splited_wheat_dataset\\tmp_train\\images\\RumeliVitreous\\20220427_120526.jpg: corrupt JPEG restored and saved\n",
      "\u001b[34m\u001b[1mtrain: \u001b[0mWARNING  C:\\Users\\Mehmet\\Desktop\\new_splited_wheat_dataset\\tmp_train\\images\\RumeliVitreous\\20220427_120535.jpg: corrupt JPEG restored and saved\n",
      "\u001b[34m\u001b[1mtrain: \u001b[0mWARNING  C:\\Users\\Mehmet\\Desktop\\new_splited_wheat_dataset\\tmp_train\\images\\RumeliVitreous\\20220427_120539.jpg: corrupt JPEG restored and saved\n",
      "\u001b[34m\u001b[1mtrain: \u001b[0mWARNING  C:\\Users\\Mehmet\\Desktop\\new_splited_wheat_dataset\\tmp_train\\images\\RumeliVitreous\\20220427_120544.jpg: corrupt JPEG restored and saved\n",
      "\u001b[34m\u001b[1mtrain: \u001b[0mWARNING  C:\\Users\\Mehmet\\Desktop\\new_splited_wheat_dataset\\tmp_train\\images\\RumeliVitreous\\20220427_120555.jpg: corrupt JPEG restored and saved\n",
      "\u001b[34m\u001b[1mtrain: \u001b[0mWARNING  C:\\Users\\Mehmet\\Desktop\\new_splited_wheat_dataset\\tmp_train\\images\\RumeliVitreous\\20220427_120557.jpg: corrupt JPEG restored and saved\n",
      "\u001b[34m\u001b[1mtrain: \u001b[0mWARNING  C:\\Users\\Mehmet\\Desktop\\new_splited_wheat_dataset\\tmp_train\\images\\RumeliVitreous\\20220427_120606.jpg: corrupt JPEG restored and saved\n",
      "\u001b[34m\u001b[1mtrain: \u001b[0mWARNING  C:\\Users\\Mehmet\\Desktop\\new_splited_wheat_dataset\\tmp_train\\images\\RumeliVitreous\\20220427_120607.jpg: corrupt JPEG restored and saved\n",
      "\u001b[34m\u001b[1mtrain: \u001b[0mWARNING  C:\\Users\\Mehmet\\Desktop\\new_splited_wheat_dataset\\tmp_train\\images\\RumeliVitreous\\20220427_120613.jpg: corrupt JPEG restored and saved\n",
      "\u001b[34m\u001b[1mtrain: \u001b[0mWARNING  C:\\Users\\Mehmet\\Desktop\\new_splited_wheat_dataset\\tmp_train\\images\\RumeliVitreous\\20220427_120615.jpg: corrupt JPEG restored and saved\n",
      "\u001b[34m\u001b[1mtrain: \u001b[0mWARNING  C:\\Users\\Mehmet\\Desktop\\new_splited_wheat_dataset\\tmp_train\\images\\RumeliVitreous\\20220427_120617.jpg: corrupt JPEG restored and saved\n",
      "\u001b[34m\u001b[1mtrain: \u001b[0mWARNING  C:\\Users\\Mehmet\\Desktop\\new_splited_wheat_dataset\\tmp_train\\images\\RumeliVitreous\\20220427_120621.jpg: corrupt JPEG restored and saved\n",
      "\u001b[34m\u001b[1mtrain: \u001b[0mWARNING  C:\\Users\\Mehmet\\Desktop\\new_splited_wheat_dataset\\tmp_train\\images\\RumeliVitreous\\20220427_120626.jpg: corrupt JPEG restored and saved\n",
      "\u001b[34m\u001b[1mtrain: \u001b[0mWARNING  C:\\Users\\Mehmet\\Desktop\\new_splited_wheat_dataset\\tmp_train\\images\\RumeliVitreous\\20220427_120628.jpg: corrupt JPEG restored and saved\n",
      "\u001b[34m\u001b[1mtrain: \u001b[0mWARNING  C:\\Users\\Mehmet\\Desktop\\new_splited_wheat_dataset\\tmp_train\\images\\RumeliVitreous\\20220427_120630.jpg: corrupt JPEG restored and saved\n",
      "\u001b[34m\u001b[1mtrain: \u001b[0mWARNING  C:\\Users\\Mehmet\\Desktop\\new_splited_wheat_dataset\\tmp_train\\images\\RumeliVitreous\\20220427_120634.jpg: corrupt JPEG restored and saved\n",
      "\u001b[34m\u001b[1mtrain: \u001b[0mWARNING  C:\\Users\\Mehmet\\Desktop\\new_splited_wheat_dataset\\tmp_train\\images\\RumeliVitreous\\20220427_120645.jpg: corrupt JPEG restored and saved\n",
      "\u001b[34m\u001b[1mtrain: \u001b[0mWARNING  C:\\Users\\Mehmet\\Desktop\\new_splited_wheat_dataset\\tmp_train\\images\\SelimiyeVitreous\\20220425_165109.jpg: corrupt JPEG restored and saved\n",
      "\u001b[34m\u001b[1mtrain: \u001b[0mWARNING  C:\\Users\\Mehmet\\Desktop\\new_splited_wheat_dataset\\tmp_train\\images\\SelimiyeVitreous\\20220425_165111.jpg: corrupt JPEG restored and saved\n",
      "\u001b[34m\u001b[1mtrain: \u001b[0mWARNING  C:\\Users\\Mehmet\\Desktop\\new_splited_wheat_dataset\\tmp_train\\images\\SelimiyeVitreous\\20220425_165113.jpg: corrupt JPEG restored and saved\n",
      "\u001b[34m\u001b[1mtrain: \u001b[0mWARNING  C:\\Users\\Mehmet\\Desktop\\new_splited_wheat_dataset\\tmp_train\\images\\SelimiyeVitreous\\20220425_165115.jpg: corrupt JPEG restored and saved\n",
      "\u001b[34m\u001b[1mtrain: \u001b[0mWARNING  C:\\Users\\Mehmet\\Desktop\\new_splited_wheat_dataset\\tmp_train\\images\\SelimiyeVitreous\\20220425_165121.jpg: corrupt JPEG restored and saved\n",
      "\u001b[34m\u001b[1mtrain: \u001b[0mWARNING  C:\\Users\\Mehmet\\Desktop\\new_splited_wheat_dataset\\tmp_train\\images\\SelimiyeVitreous\\20220425_165126.jpg: corrupt JPEG restored and saved\n",
      "\u001b[34m\u001b[1mtrain: \u001b[0mWARNING  C:\\Users\\Mehmet\\Desktop\\new_splited_wheat_dataset\\tmp_train\\images\\SelimiyeVitreous\\20220425_165130.jpg: corrupt JPEG restored and saved\n",
      "\u001b[34m\u001b[1mtrain: \u001b[0mWARNING  C:\\Users\\Mehmet\\Desktop\\new_splited_wheat_dataset\\tmp_train\\images\\SelimiyeVitreous\\20220425_165133.jpg: corrupt JPEG restored and saved\n",
      "\u001b[34m\u001b[1mtrain: \u001b[0mWARNING  C:\\Users\\Mehmet\\Desktop\\new_splited_wheat_dataset\\tmp_train\\images\\SelimiyeVitreous\\20220425_165139.jpg: corrupt JPEG restored and saved\n",
      "\u001b[34m\u001b[1mtrain: \u001b[0mWARNING  C:\\Users\\Mehmet\\Desktop\\new_splited_wheat_dataset\\tmp_train\\images\\SelimiyeVitreous\\20220425_165141.jpg: corrupt JPEG restored and saved\n",
      "\u001b[34m\u001b[1mtrain: \u001b[0mWARNING  C:\\Users\\Mehmet\\Desktop\\new_splited_wheat_dataset\\tmp_train\\images\\SelimiyeVitreous\\20220425_165143.jpg: corrupt JPEG restored and saved\n",
      "\u001b[34m\u001b[1mtrain: \u001b[0mWARNING  C:\\Users\\Mehmet\\Desktop\\new_splited_wheat_dataset\\tmp_train\\images\\SelimiyeVitreous\\20220425_165145.jpg: corrupt JPEG restored and saved\n",
      "\u001b[34m\u001b[1mtrain: \u001b[0mWARNING  C:\\Users\\Mehmet\\Desktop\\new_splited_wheat_dataset\\tmp_train\\images\\SelimiyeVitreous\\20220425_165148.jpg: corrupt JPEG restored and saved\n",
      "\u001b[34m\u001b[1mtrain: \u001b[0mWARNING  C:\\Users\\Mehmet\\Desktop\\new_splited_wheat_dataset\\tmp_train\\images\\SelimiyeVitreous\\20220425_165202.jpg: corrupt JPEG restored and saved\n",
      "\u001b[34m\u001b[1mtrain: \u001b[0mWARNING  C:\\Users\\Mehmet\\Desktop\\new_splited_wheat_dataset\\tmp_train\\images\\SelimiyeVitreous\\20220425_165204.jpg: corrupt JPEG restored and saved\n",
      "\u001b[34m\u001b[1mtrain: \u001b[0mWARNING  C:\\Users\\Mehmet\\Desktop\\new_splited_wheat_dataset\\tmp_train\\images\\SelimiyeVitreous\\20220425_165208.jpg: corrupt JPEG restored and saved\n",
      "\u001b[34m\u001b[1mtrain: \u001b[0mWARNING  C:\\Users\\Mehmet\\Desktop\\new_splited_wheat_dataset\\tmp_train\\images\\SelimiyeVitreous\\20220425_165210.jpg: corrupt JPEG restored and saved\n",
      "\u001b[34m\u001b[1mtrain: \u001b[0mWARNING  C:\\Users\\Mehmet\\Desktop\\new_splited_wheat_dataset\\tmp_train\\images\\SelimiyeVitreous\\20220425_165216.jpg: corrupt JPEG restored and saved\n",
      "\u001b[34m\u001b[1mtrain: \u001b[0mWARNING  C:\\Users\\Mehmet\\Desktop\\new_splited_wheat_dataset\\tmp_train\\images\\SelimiyeVitreous\\20220425_165228.jpg: corrupt JPEG restored and saved\n",
      "\u001b[34m\u001b[1mtrain: \u001b[0mWARNING  C:\\Users\\Mehmet\\Desktop\\new_splited_wheat_dataset\\tmp_train\\images\\SelimiyeVitreous\\20220425_165238.jpg: corrupt JPEG restored and saved\n",
      "\u001b[34m\u001b[1mtrain: \u001b[0mWARNING  C:\\Users\\Mehmet\\Desktop\\new_splited_wheat_dataset\\tmp_train\\images\\SelimiyeVitreous\\20220425_165242.jpg: corrupt JPEG restored and saved\n",
      "\u001b[34m\u001b[1mtrain: \u001b[0mWARNING  C:\\Users\\Mehmet\\Desktop\\new_splited_wheat_dataset\\tmp_train\\images\\SelimiyeVitreous\\20220425_165245.jpg: corrupt JPEG restored and saved\n",
      "\u001b[34m\u001b[1mtrain: \u001b[0mWARNING  C:\\Users\\Mehmet\\Desktop\\new_splited_wheat_dataset\\tmp_train\\images\\SelimiyeVitreous\\20220425_165248.jpg: corrupt JPEG restored and saved\n",
      "\u001b[34m\u001b[1mtrain: \u001b[0mWARNING  C:\\Users\\Mehmet\\Desktop\\new_splited_wheat_dataset\\tmp_train\\images\\SelimiyeVitreous\\20220425_165305.jpg: corrupt JPEG restored and saved\n",
      "\u001b[34m\u001b[1mtrain: \u001b[0mWARNING  C:\\Users\\Mehmet\\Desktop\\new_splited_wheat_dataset\\tmp_train\\images\\SelimiyeVitreous\\20220425_165307.jpg: corrupt JPEG restored and saved\n",
      "\u001b[34m\u001b[1mtrain: \u001b[0mWARNING  C:\\Users\\Mehmet\\Desktop\\new_splited_wheat_dataset\\tmp_train\\images\\SelimiyeVitreous\\20220425_165309.jpg: corrupt JPEG restored and saved\n",
      "\u001b[34m\u001b[1mtrain: \u001b[0mWARNING  C:\\Users\\Mehmet\\Desktop\\new_splited_wheat_dataset\\tmp_train\\images\\SelimiyeVitreous\\20220425_165311.jpg: corrupt JPEG restored and saved\n",
      "\u001b[34m\u001b[1mtrain: \u001b[0mWARNING  C:\\Users\\Mehmet\\Desktop\\new_splited_wheat_dataset\\tmp_train\\images\\SelimiyeVitreous\\20220425_165313.jpg: corrupt JPEG restored and saved\n",
      "\u001b[34m\u001b[1mtrain: \u001b[0mWARNING  C:\\Users\\Mehmet\\Desktop\\new_splited_wheat_dataset\\tmp_train\\images\\SelimiyeVitreous\\20220425_165316.jpg: corrupt JPEG restored and saved\n",
      "\u001b[34m\u001b[1mtrain: \u001b[0mWARNING  C:\\Users\\Mehmet\\Desktop\\new_splited_wheat_dataset\\tmp_train\\images\\SelimiyeVitreous\\20220425_165321.jpg: corrupt JPEG restored and saved\n",
      "\u001b[34m\u001b[1mtrain: \u001b[0mWARNING  C:\\Users\\Mehmet\\Desktop\\new_splited_wheat_dataset\\tmp_train\\images\\SelimiyeVitreous\\20220425_165332.jpg: corrupt JPEG restored and saved\n",
      "\u001b[34m\u001b[1mtrain: \u001b[0mWARNING  C:\\Users\\Mehmet\\Desktop\\new_splited_wheat_dataset\\tmp_train\\images\\SelimiyeVitreous\\20220425_165340.jpg: corrupt JPEG restored and saved\n",
      "\u001b[34m\u001b[1mtrain: \u001b[0mWARNING  C:\\Users\\Mehmet\\Desktop\\new_splited_wheat_dataset\\tmp_train\\images\\SelimiyeVitreous\\20220425_165346.jpg: corrupt JPEG restored and saved\n",
      "\u001b[34m\u001b[1mtrain: \u001b[0mWARNING  C:\\Users\\Mehmet\\Desktop\\new_splited_wheat_dataset\\tmp_train\\images\\SelimiyeVitreous\\20220425_165348.jpg: corrupt JPEG restored and saved\n",
      "\u001b[34m\u001b[1mtrain: \u001b[0mWARNING  C:\\Users\\Mehmet\\Desktop\\new_splited_wheat_dataset\\tmp_train\\images\\SelimiyeVitreous\\20220425_165402.jpg: corrupt JPEG restored and saved\n",
      "\u001b[34m\u001b[1mtrain: \u001b[0mWARNING  C:\\Users\\Mehmet\\Desktop\\new_splited_wheat_dataset\\tmp_train\\images\\SelimiyeVitreous\\20220425_165416.jpg: corrupt JPEG restored and saved\n",
      "\u001b[34m\u001b[1mtrain: \u001b[0mWARNING  C:\\Users\\Mehmet\\Desktop\\new_splited_wheat_dataset\\tmp_train\\images\\SelimiyeVitreous\\20220425_165418.jpg: corrupt JPEG restored and saved\n",
      "\u001b[34m\u001b[1mtrain: \u001b[0mWARNING  C:\\Users\\Mehmet\\Desktop\\new_splited_wheat_dataset\\tmp_train\\images\\SelimiyeVitreous\\20220425_165427.jpg: corrupt JPEG restored and saved\n",
      "\u001b[34m\u001b[1mtrain: \u001b[0mWARNING  C:\\Users\\Mehmet\\Desktop\\new_splited_wheat_dataset\\tmp_train\\images\\SelimiyeVitreous\\20220425_165433.jpg: corrupt JPEG restored and saved\n",
      "\u001b[34m\u001b[1mtrain: \u001b[0mWARNING  C:\\Users\\Mehmet\\Desktop\\new_splited_wheat_dataset\\tmp_train\\images\\SelimiyeVitreous\\20220425_165438.jpg: corrupt JPEG restored and saved\n",
      "\u001b[34m\u001b[1mtrain: \u001b[0mWARNING  C:\\Users\\Mehmet\\Desktop\\new_splited_wheat_dataset\\tmp_train\\images\\SelimiyeVitreous\\20220425_165457.jpg: corrupt JPEG restored and saved\n",
      "\u001b[34m\u001b[1mtrain: \u001b[0mWARNING  C:\\Users\\Mehmet\\Desktop\\new_splited_wheat_dataset\\tmp_train\\images\\SelimiyeVitreous\\20220425_165500.jpg: corrupt JPEG restored and saved\n",
      "\u001b[34m\u001b[1mtrain: \u001b[0mWARNING  C:\\Users\\Mehmet\\Desktop\\new_splited_wheat_dataset\\tmp_train\\images\\SelimiyeVitreous\\20220425_165503.jpg: corrupt JPEG restored and saved\n",
      "\u001b[34m\u001b[1mtrain: \u001b[0mWARNING  C:\\Users\\Mehmet\\Desktop\\new_splited_wheat_dataset\\tmp_train\\images\\SelimiyeVitreous\\20220425_165505.jpg: corrupt JPEG restored and saved\n",
      "\u001b[34m\u001b[1mtrain: \u001b[0mWARNING  C:\\Users\\Mehmet\\Desktop\\new_splited_wheat_dataset\\tmp_train\\images\\SelimiyeVitreous\\20220425_165507.jpg: corrupt JPEG restored and saved\n",
      "\u001b[34m\u001b[1mtrain: \u001b[0mWARNING  C:\\Users\\Mehmet\\Desktop\\new_splited_wheat_dataset\\tmp_train\\images\\SelimiyeVitreous\\20220425_165510.jpg: corrupt JPEG restored and saved\n",
      "\u001b[34m\u001b[1mtrain: \u001b[0mWARNING  C:\\Users\\Mehmet\\Desktop\\new_splited_wheat_dataset\\tmp_train\\images\\SelimiyeVitreous\\20220425_165512.jpg: corrupt JPEG restored and saved\n",
      "\u001b[34m\u001b[1mtrain: \u001b[0mWARNING  C:\\Users\\Mehmet\\Desktop\\new_splited_wheat_dataset\\tmp_train\\images\\SelimiyeVitreous\\20220425_165514.jpg: corrupt JPEG restored and saved\n",
      "\u001b[34m\u001b[1mtrain: \u001b[0mWARNING  C:\\Users\\Mehmet\\Desktop\\new_splited_wheat_dataset\\tmp_train\\images\\SelimiyeVitreous\\20220425_165518.jpg: corrupt JPEG restored and saved\n",
      "\u001b[34m\u001b[1mtrain: \u001b[0mWARNING  C:\\Users\\Mehmet\\Desktop\\new_splited_wheat_dataset\\tmp_train\\images\\SelimiyeVitreous\\20220425_165522.jpg: corrupt JPEG restored and saved\n",
      "\u001b[34m\u001b[1mtrain: \u001b[0mWARNING  C:\\Users\\Mehmet\\Desktop\\new_splited_wheat_dataset\\tmp_train\\images\\SelimiyeVitreous\\20220425_165525.jpg: corrupt JPEG restored and saved\n",
      "\u001b[34m\u001b[1mtrain: \u001b[0mWARNING  C:\\Users\\Mehmet\\Desktop\\new_splited_wheat_dataset\\tmp_train\\images\\SelimiyeVitreous\\20220425_165544.jpg: corrupt JPEG restored and saved\n",
      "\u001b[34m\u001b[1mtrain: \u001b[0mWARNING  C:\\Users\\Mehmet\\Desktop\\new_splited_wheat_dataset\\tmp_train\\images\\SelimiyeVitreous\\20220425_165550.jpg: corrupt JPEG restored and saved\n",
      "\u001b[34m\u001b[1mtrain: \u001b[0mWARNING  C:\\Users\\Mehmet\\Desktop\\new_splited_wheat_dataset\\tmp_train\\images\\SelimiyeVitreous\\20220425_165553.jpg: corrupt JPEG restored and saved\n",
      "\u001b[34m\u001b[1mtrain: \u001b[0mWARNING  C:\\Users\\Mehmet\\Desktop\\new_splited_wheat_dataset\\tmp_train\\images\\SelimiyeVitreous\\20220425_165559.jpg: corrupt JPEG restored and saved\n",
      "\u001b[34m\u001b[1mtrain: \u001b[0mWARNING  C:\\Users\\Mehmet\\Desktop\\new_splited_wheat_dataset\\tmp_train\\images\\SelimiyeVitreous\\20220425_165602.jpg: corrupt JPEG restored and saved\n",
      "\u001b[34m\u001b[1mtrain: \u001b[0mWARNING  C:\\Users\\Mehmet\\Desktop\\new_splited_wheat_dataset\\tmp_train\\images\\SelimiyeVitreous\\20220425_165609.jpg: corrupt JPEG restored and saved\n",
      "\u001b[34m\u001b[1mtrain: \u001b[0mWARNING  C:\\Users\\Mehmet\\Desktop\\new_splited_wheat_dataset\\tmp_train\\images\\SelimiyeVitreous\\20220425_165612.jpg: corrupt JPEG restored and saved\n",
      "\u001b[34m\u001b[1mtrain: \u001b[0mWARNING  C:\\Users\\Mehmet\\Desktop\\new_splited_wheat_dataset\\tmp_train\\images\\SelimiyeVitreous\\20220425_165618.jpg: corrupt JPEG restored and saved\n",
      "\u001b[34m\u001b[1mtrain: \u001b[0mWARNING  C:\\Users\\Mehmet\\Desktop\\new_splited_wheat_dataset\\tmp_train\\images\\SelimiyeVitreous\\20220425_165635.jpg: corrupt JPEG restored and saved\n",
      "\u001b[34m\u001b[1mtrain: \u001b[0mWARNING  C:\\Users\\Mehmet\\Desktop\\new_splited_wheat_dataset\\tmp_train\\images\\SelimiyeVitreous\\20220425_165637.jpg: corrupt JPEG restored and saved\n",
      "\u001b[34m\u001b[1mtrain: \u001b[0mWARNING  C:\\Users\\Mehmet\\Desktop\\new_splited_wheat_dataset\\tmp_train\\images\\SelimiyeVitreous\\20220425_165639.jpg: corrupt JPEG restored and saved\n",
      "\u001b[34m\u001b[1mtrain: \u001b[0mWARNING  C:\\Users\\Mehmet\\Desktop\\new_splited_wheat_dataset\\tmp_train\\images\\SelimiyeVitreous\\20220425_165643.jpg: corrupt JPEG restored and saved\n",
      "\u001b[34m\u001b[1mtrain: \u001b[0mWARNING  C:\\Users\\Mehmet\\Desktop\\new_splited_wheat_dataset\\tmp_train\\images\\SelimiyeVitreous\\20220425_165649.jpg: corrupt JPEG restored and saved\n",
      "\u001b[34m\u001b[1mtrain: \u001b[0mWARNING  C:\\Users\\Mehmet\\Desktop\\new_splited_wheat_dataset\\tmp_train\\images\\SelimiyeVitreous\\20220425_165702.jpg: corrupt JPEG restored and saved\n",
      "\u001b[34m\u001b[1mtrain: \u001b[0mWARNING  C:\\Users\\Mehmet\\Desktop\\new_splited_wheat_dataset\\tmp_train\\images\\SelimiyeVitreous\\20220425_165705.jpg: corrupt JPEG restored and saved\n",
      "\u001b[34m\u001b[1mtrain: \u001b[0mWARNING  C:\\Users\\Mehmet\\Desktop\\new_splited_wheat_dataset\\tmp_train\\images\\SelimiyeVitreous\\20220425_165736.jpg: corrupt JPEG restored and saved\n",
      "\u001b[34m\u001b[1mtrain: \u001b[0mWARNING  C:\\Users\\Mehmet\\Desktop\\new_splited_wheat_dataset\\tmp_train\\images\\SelimiyeVitreous\\20220425_165759.jpg: corrupt JPEG restored and saved\n",
      "\u001b[34m\u001b[1mtrain: \u001b[0mNew cache created: C:\\Users\\Mehmet\\Desktop\\new_splited_wheat_dataset\\tmp_train\\labels\\Bayraktar2000Vitreous.cache\n"
     ]
    },
    {
     "name": "stderr",
     "output_type": "stream",
     "text": [
      "\n",
      "\u001b[34m\u001b[1mval: \u001b[0mScanning C:\\Users\\Mehmet\\Desktop\\new_splited_wheat_dataset\\tmp_val\\labels\\Bayraktar2000Vitreous... 338 images, 0 backgrounds, 0 corrupt: 100%|██████████| 338/338 [00:18<00:00, 18.39it/s]"
     ]
    },
    {
     "name": "stdout",
     "output_type": "stream",
     "text": [
      "\u001b[34m\u001b[1mval: \u001b[0mWARNING  C:\\Users\\Mehmet\\Desktop\\new_splited_wheat_dataset\\tmp_val\\images\\Bayraktar2000Vitreous\\20220426_144735.jpg: corrupt JPEG restored and saved\n",
      "\u001b[34m\u001b[1mval: \u001b[0mWARNING  C:\\Users\\Mehmet\\Desktop\\new_splited_wheat_dataset\\tmp_val\\images\\Bayraktar2000Vitreous\\20220426_144744.jpg: corrupt JPEG restored and saved\n",
      "\u001b[34m\u001b[1mval: \u001b[0mWARNING  C:\\Users\\Mehmet\\Desktop\\new_splited_wheat_dataset\\tmp_val\\images\\Bayraktar2000Vitreous\\20220426_144748.jpg: corrupt JPEG restored and saved\n",
      "\u001b[34m\u001b[1mval: \u001b[0mWARNING  C:\\Users\\Mehmet\\Desktop\\new_splited_wheat_dataset\\tmp_val\\images\\Bayraktar2000Vitreous\\20220426_144801.jpg: corrupt JPEG restored and saved\n",
      "\u001b[34m\u001b[1mval: \u001b[0mWARNING  C:\\Users\\Mehmet\\Desktop\\new_splited_wheat_dataset\\tmp_val\\images\\Bayraktar2000Vitreous\\20220426_144846.jpg: corrupt JPEG restored and saved\n",
      "\u001b[34m\u001b[1mval: \u001b[0mWARNING  C:\\Users\\Mehmet\\Desktop\\new_splited_wheat_dataset\\tmp_val\\images\\Bayraktar2000Vitreous\\20220426_144905.jpg: corrupt JPEG restored and saved\n",
      "\u001b[34m\u001b[1mval: \u001b[0mWARNING  C:\\Users\\Mehmet\\Desktop\\new_splited_wheat_dataset\\tmp_val\\images\\Bayraktar2000Vitreous\\20220426_144919.jpg: corrupt JPEG restored and saved\n",
      "\u001b[34m\u001b[1mval: \u001b[0mWARNING  C:\\Users\\Mehmet\\Desktop\\new_splited_wheat_dataset\\tmp_val\\images\\Bayraktar2000Vitreous\\20220426_144935.jpg: corrupt JPEG restored and saved\n",
      "\u001b[34m\u001b[1mval: \u001b[0mWARNING  C:\\Users\\Mehmet\\Desktop\\new_splited_wheat_dataset\\tmp_val\\images\\Bayraktar2000Vitreous\\20220426_144944.jpg: corrupt JPEG restored and saved\n",
      "\u001b[34m\u001b[1mval: \u001b[0mWARNING  C:\\Users\\Mehmet\\Desktop\\new_splited_wheat_dataset\\tmp_val\\images\\Bayraktar2000Vitreous\\20220426_145029.jpg: corrupt JPEG restored and saved\n",
      "\u001b[34m\u001b[1mval: \u001b[0mWARNING  C:\\Users\\Mehmet\\Desktop\\new_splited_wheat_dataset\\tmp_val\\images\\Bayraktar2000Vitreous\\20220426_145129.jpg: corrupt JPEG restored and saved\n",
      "\u001b[34m\u001b[1mval: \u001b[0mWARNING  C:\\Users\\Mehmet\\Desktop\\new_splited_wheat_dataset\\tmp_val\\images\\Bayraktar2000Vitreous\\20220426_145200.jpg: corrupt JPEG restored and saved\n",
      "\u001b[34m\u001b[1mval: \u001b[0mWARNING  C:\\Users\\Mehmet\\Desktop\\new_splited_wheat_dataset\\tmp_val\\images\\Bayraktar2000Vitreous\\20220426_145249.jpg: corrupt JPEG restored and saved\n",
      "\u001b[34m\u001b[1mval: \u001b[0mWARNING  C:\\Users\\Mehmet\\Desktop\\new_splited_wheat_dataset\\tmp_val\\images\\Bayraktar2000Vitreous\\20220426_145259.jpg: corrupt JPEG restored and saved\n",
      "\u001b[34m\u001b[1mval: \u001b[0mWARNING  C:\\Users\\Mehmet\\Desktop\\new_splited_wheat_dataset\\tmp_val\\images\\Bayraktar2000Vitreous\\20220426_145301.jpg: corrupt JPEG restored and saved\n",
      "\u001b[34m\u001b[1mval: \u001b[0mWARNING  C:\\Users\\Mehmet\\Desktop\\new_splited_wheat_dataset\\tmp_val\\images\\Bayraktar2000Vitreous\\20220426_145304.jpg: corrupt JPEG restored and saved\n",
      "\u001b[34m\u001b[1mval: \u001b[0mWARNING  C:\\Users\\Mehmet\\Desktop\\new_splited_wheat_dataset\\tmp_val\\images\\Bayraktar2000Vitreous\\20220426_145321.jpg: corrupt JPEG restored and saved\n",
      "\u001b[34m\u001b[1mval: \u001b[0mWARNING  C:\\Users\\Mehmet\\Desktop\\new_splited_wheat_dataset\\tmp_val\\images\\Bayraktar2000Vitreous\\20220426_145404.jpg: corrupt JPEG restored and saved\n",
      "\u001b[34m\u001b[1mval: \u001b[0mWARNING  C:\\Users\\Mehmet\\Desktop\\new_splited_wheat_dataset\\tmp_val\\images\\Bezostaja1Vitreous\\20220425_152222.jpg: corrupt JPEG restored and saved\n",
      "\u001b[34m\u001b[1mval: \u001b[0mWARNING  C:\\Users\\Mehmet\\Desktop\\new_splited_wheat_dataset\\tmp_val\\images\\Bezostaja1Vitreous\\20220425_152232.jpg: corrupt JPEG restored and saved\n",
      "\u001b[34m\u001b[1mval: \u001b[0mWARNING  C:\\Users\\Mehmet\\Desktop\\new_splited_wheat_dataset\\tmp_val\\images\\Bezostaja1Vitreous\\20220425_152247.jpg: corrupt JPEG restored and saved\n",
      "\u001b[34m\u001b[1mval: \u001b[0mWARNING  C:\\Users\\Mehmet\\Desktop\\new_splited_wheat_dataset\\tmp_val\\images\\Bezostaja1Vitreous\\20220425_152310.jpg: corrupt JPEG restored and saved\n",
      "\u001b[34m\u001b[1mval: \u001b[0mWARNING  C:\\Users\\Mehmet\\Desktop\\new_splited_wheat_dataset\\tmp_val\\images\\Bezostaja1Vitreous\\20220425_152330.jpg: corrupt JPEG restored and saved\n",
      "\u001b[34m\u001b[1mval: \u001b[0mWARNING  C:\\Users\\Mehmet\\Desktop\\new_splited_wheat_dataset\\tmp_val\\images\\Bezostaja1Vitreous\\20220425_152417.jpg: corrupt JPEG restored and saved\n",
      "\u001b[34m\u001b[1mval: \u001b[0mWARNING  C:\\Users\\Mehmet\\Desktop\\new_splited_wheat_dataset\\tmp_val\\images\\Bezostaja1Vitreous\\20220425_152420.jpg: corrupt JPEG restored and saved\n",
      "\u001b[34m\u001b[1mval: \u001b[0mWARNING  C:\\Users\\Mehmet\\Desktop\\new_splited_wheat_dataset\\tmp_val\\images\\Bezostaja1Vitreous\\20220425_152438.jpg: corrupt JPEG restored and saved\n",
      "\u001b[34m\u001b[1mval: \u001b[0mWARNING  C:\\Users\\Mehmet\\Desktop\\new_splited_wheat_dataset\\tmp_val\\images\\Bezostaja1Vitreous\\20220425_152534.jpg: corrupt JPEG restored and saved\n",
      "\u001b[34m\u001b[1mval: \u001b[0mWARNING  C:\\Users\\Mehmet\\Desktop\\new_splited_wheat_dataset\\tmp_val\\images\\Bezostaja1Vitreous\\20220425_152538.jpg: corrupt JPEG restored and saved\n",
      "\u001b[34m\u001b[1mval: \u001b[0mWARNING  C:\\Users\\Mehmet\\Desktop\\new_splited_wheat_dataset\\tmp_val\\images\\Bezostaja1Vitreous\\20220425_152619.jpg: corrupt JPEG restored and saved\n",
      "\u001b[34m\u001b[1mval: \u001b[0mWARNING  C:\\Users\\Mehmet\\Desktop\\new_splited_wheat_dataset\\tmp_val\\images\\Bezostaja1Vitreous\\20220425_152626.jpg: corrupt JPEG restored and saved\n",
      "\u001b[34m\u001b[1mval: \u001b[0mWARNING  C:\\Users\\Mehmet\\Desktop\\new_splited_wheat_dataset\\tmp_val\\images\\Bezostaja1Vitreous\\20220425_154554.jpg: corrupt JPEG restored and saved\n",
      "\u001b[34m\u001b[1mval: \u001b[0mWARNING  C:\\Users\\Mehmet\\Desktop\\new_splited_wheat_dataset\\tmp_val\\images\\Bezostaja1Vitreous\\20220425_154603.jpg: corrupt JPEG restored and saved\n",
      "\u001b[34m\u001b[1mval: \u001b[0mWARNING  C:\\Users\\Mehmet\\Desktop\\new_splited_wheat_dataset\\tmp_val\\images\\Bezostaja1Vitreous\\20220425_154656.jpg: corrupt JPEG restored and saved\n",
      "\u001b[34m\u001b[1mval: \u001b[0mWARNING  C:\\Users\\Mehmet\\Desktop\\new_splited_wheat_dataset\\tmp_val\\images\\Delabrad2Vitreous\\20220427_122113.jpg: corrupt JPEG restored and saved\n",
      "\u001b[34m\u001b[1mval: \u001b[0mWARNING  C:\\Users\\Mehmet\\Desktop\\new_splited_wheat_dataset\\tmp_val\\images\\Delabrad2Vitreous\\20220427_122204.jpg: corrupt JPEG restored and saved\n",
      "\u001b[34m\u001b[1mval: \u001b[0mWARNING  C:\\Users\\Mehmet\\Desktop\\new_splited_wheat_dataset\\tmp_val\\images\\Delabrad2Vitreous\\20220427_122334.jpg: corrupt JPEG restored and saved\n",
      "\u001b[34m\u001b[1mval: \u001b[0mWARNING  C:\\Users\\Mehmet\\Desktop\\new_splited_wheat_dataset\\tmp_val\\images\\Delabrad2Vitreous\\20220427_122348.jpg: corrupt JPEG restored and saved\n",
      "\u001b[34m\u001b[1mval: \u001b[0mWARNING  C:\\Users\\Mehmet\\Desktop\\new_splited_wheat_dataset\\tmp_val\\images\\Delabrad2Vitreous\\20220427_122357.jpg: corrupt JPEG restored and saved\n",
      "\u001b[34m\u001b[1mval: \u001b[0mWARNING  C:\\Users\\Mehmet\\Desktop\\new_splited_wheat_dataset\\tmp_val\\images\\Delabrad2Vitreous\\20220427_122422.jpg: corrupt JPEG restored and saved\n",
      "\u001b[34m\u001b[1mval: \u001b[0mWARNING  C:\\Users\\Mehmet\\Desktop\\new_splited_wheat_dataset\\tmp_val\\images\\Delabrad2Vitreous\\20220427_122435.jpg: corrupt JPEG restored and saved\n",
      "\u001b[34m\u001b[1mval: \u001b[0mWARNING  C:\\Users\\Mehmet\\Desktop\\new_splited_wheat_dataset\\tmp_val\\images\\Delabrad2Vitreous\\20220427_122442.jpg: corrupt JPEG restored and saved\n",
      "\u001b[34m\u001b[1mval: \u001b[0mWARNING  C:\\Users\\Mehmet\\Desktop\\new_splited_wheat_dataset\\tmp_val\\images\\Delabrad2Vitreous\\20220427_122444.jpg: corrupt JPEG restored and saved\n",
      "\u001b[34m\u001b[1mval: \u001b[0mWARNING  C:\\Users\\Mehmet\\Desktop\\new_splited_wheat_dataset\\tmp_val\\images\\Delabrad2Vitreous\\20220427_122449.jpg: corrupt JPEG restored and saved\n",
      "\u001b[34m\u001b[1mval: \u001b[0mWARNING  C:\\Users\\Mehmet\\Desktop\\new_splited_wheat_dataset\\tmp_val\\images\\Delabrad2Vitreous\\20220427_122455.jpg: corrupt JPEG restored and saved\n",
      "\u001b[34m\u001b[1mval: \u001b[0mWARNING  C:\\Users\\Mehmet\\Desktop\\new_splited_wheat_dataset\\tmp_val\\images\\Delabrad2Vitreous\\20220427_122503.jpg: corrupt JPEG restored and saved\n",
      "\u001b[34m\u001b[1mval: \u001b[0mWARNING  C:\\Users\\Mehmet\\Desktop\\new_splited_wheat_dataset\\tmp_val\\images\\Delabrad2Vitreous\\20220427_122543.jpg: corrupt JPEG restored and saved\n",
      "\u001b[34m\u001b[1mval: \u001b[0mWARNING  C:\\Users\\Mehmet\\Desktop\\new_splited_wheat_dataset\\tmp_val\\images\\Delabrad2Vitreous\\20220427_122608.jpg: corrupt JPEG restored and saved\n",
      "\u001b[34m\u001b[1mval: \u001b[0mWARNING  C:\\Users\\Mehmet\\Desktop\\new_splited_wheat_dataset\\tmp_val\\images\\Delabrad2Vitreous\\20220427_122642.jpg: corrupt JPEG restored and saved\n",
      "\u001b[34m\u001b[1mval: \u001b[0mWARNING  C:\\Users\\Mehmet\\Desktop\\new_splited_wheat_dataset\\tmp_val\\images\\Delabrad2Vitreous\\20220427_122702.jpg: corrupt JPEG restored and saved\n",
      "\u001b[34m\u001b[1mval: \u001b[0mWARNING  C:\\Users\\Mehmet\\Desktop\\new_splited_wheat_dataset\\tmp_val\\images\\EkizVitreous\\20220426_163549.jpg: corrupt JPEG restored and saved\n",
      "\u001b[34m\u001b[1mval: \u001b[0mWARNING  C:\\Users\\Mehmet\\Desktop\\new_splited_wheat_dataset\\tmp_val\\images\\EkizVitreous\\20220426_163558.jpg: corrupt JPEG restored and saved\n",
      "\u001b[34m\u001b[1mval: \u001b[0mWARNING  C:\\Users\\Mehmet\\Desktop\\new_splited_wheat_dataset\\tmp_val\\images\\EkizVitreous\\20220426_163611.jpg: corrupt JPEG restored and saved\n",
      "\u001b[34m\u001b[1mval: \u001b[0mWARNING  C:\\Users\\Mehmet\\Desktop\\new_splited_wheat_dataset\\tmp_val\\images\\EkizVitreous\\20220426_163640.jpg: corrupt JPEG restored and saved\n",
      "\u001b[34m\u001b[1mval: \u001b[0mWARNING  C:\\Users\\Mehmet\\Desktop\\new_splited_wheat_dataset\\tmp_val\\images\\EkizVitreous\\20220426_163646.jpg: corrupt JPEG restored and saved\n",
      "\u001b[34m\u001b[1mval: \u001b[0mWARNING  C:\\Users\\Mehmet\\Desktop\\new_splited_wheat_dataset\\tmp_val\\images\\EkizVitreous\\20220426_163724.jpg: corrupt JPEG restored and saved\n",
      "\u001b[34m\u001b[1mval: \u001b[0mWARNING  C:\\Users\\Mehmet\\Desktop\\new_splited_wheat_dataset\\tmp_val\\images\\EkizVitreous\\20220426_163836.jpg: corrupt JPEG restored and saved\n",
      "\u001b[34m\u001b[1mval: \u001b[0mWARNING  C:\\Users\\Mehmet\\Desktop\\new_splited_wheat_dataset\\tmp_val\\images\\EkizVitreous\\20220426_163918.jpg: corrupt JPEG restored and saved\n",
      "\u001b[34m\u001b[1mval: \u001b[0mWARNING  C:\\Users\\Mehmet\\Desktop\\new_splited_wheat_dataset\\tmp_val\\images\\EkizVitreous\\20220426_163930.jpg: corrupt JPEG restored and saved\n",
      "\u001b[34m\u001b[1mval: \u001b[0mWARNING  C:\\Users\\Mehmet\\Desktop\\new_splited_wheat_dataset\\tmp_val\\images\\EkizVitreous\\20220426_163945.jpg: corrupt JPEG restored and saved\n",
      "\u001b[34m\u001b[1mval: \u001b[0mWARNING  C:\\Users\\Mehmet\\Desktop\\new_splited_wheat_dataset\\tmp_val\\images\\EkizVitreous\\20220426_164006.jpg: corrupt JPEG restored and saved\n",
      "\u001b[34m\u001b[1mval: \u001b[0mWARNING  C:\\Users\\Mehmet\\Desktop\\new_splited_wheat_dataset\\tmp_val\\images\\EkizVitreous\\20220426_164031.jpg: corrupt JPEG restored and saved\n",
      "\u001b[34m\u001b[1mval: \u001b[0mWARNING  C:\\Users\\Mehmet\\Desktop\\new_splited_wheat_dataset\\tmp_val\\images\\EkizVitreous\\20220426_164054.jpg: corrupt JPEG restored and saved\n",
      "\u001b[34m\u001b[1mval: \u001b[0mWARNING  C:\\Users\\Mehmet\\Desktop\\new_splited_wheat_dataset\\tmp_val\\images\\EkizVitreous\\20220426_164121.jpg: corrupt JPEG restored and saved\n",
      "\u001b[34m\u001b[1mval: \u001b[0mWARNING  C:\\Users\\Mehmet\\Desktop\\new_splited_wheat_dataset\\tmp_val\\images\\EkizVitreous\\20220426_164131.jpg: corrupt JPEG restored and saved\n",
      "\u001b[34m\u001b[1mval: \u001b[0mWARNING  C:\\Users\\Mehmet\\Desktop\\new_splited_wheat_dataset\\tmp_val\\images\\EkizVitreous\\20220426_164140.jpg: corrupt JPEG restored and saved\n",
      "\u001b[34m\u001b[1mval: \u001b[0mWARNING  C:\\Users\\Mehmet\\Desktop\\new_splited_wheat_dataset\\tmp_val\\images\\EkizVitreous\\20220426_164148.jpg: corrupt JPEG restored and saved\n",
      "\u001b[34m\u001b[1mval: \u001b[0mWARNING  C:\\Users\\Mehmet\\Desktop\\new_splited_wheat_dataset\\tmp_val\\images\\EkizVitreous\\20220426_164154.jpg: corrupt JPEG restored and saved\n",
      "\u001b[34m\u001b[1mval: \u001b[0mWARNING  C:\\Users\\Mehmet\\Desktop\\new_splited_wheat_dataset\\tmp_val\\images\\EsperiaVitreous\\20220425_170958.jpg: corrupt JPEG restored and saved\n",
      "\u001b[34m\u001b[1mval: \u001b[0mWARNING  C:\\Users\\Mehmet\\Desktop\\new_splited_wheat_dataset\\tmp_val\\images\\EsperiaVitreous\\20220425_171001.jpg: corrupt JPEG restored and saved\n",
      "\u001b[34m\u001b[1mval: \u001b[0mWARNING  C:\\Users\\Mehmet\\Desktop\\new_splited_wheat_dataset\\tmp_val\\images\\EsperiaVitreous\\20220425_171027.jpg: corrupt JPEG restored and saved\n",
      "\u001b[34m\u001b[1mval: \u001b[0mWARNING  C:\\Users\\Mehmet\\Desktop\\new_splited_wheat_dataset\\tmp_val\\images\\EsperiaVitreous\\20220425_171103.jpg: corrupt JPEG restored and saved\n",
      "\u001b[34m\u001b[1mval: \u001b[0mWARNING  C:\\Users\\Mehmet\\Desktop\\new_splited_wheat_dataset\\tmp_val\\images\\EsperiaVitreous\\20220425_171122.jpg: corrupt JPEG restored and saved\n",
      "\u001b[34m\u001b[1mval: \u001b[0mWARNING  C:\\Users\\Mehmet\\Desktop\\new_splited_wheat_dataset\\tmp_val\\images\\EsperiaVitreous\\20220425_171135.jpg: corrupt JPEG restored and saved\n",
      "\u001b[34m\u001b[1mval: \u001b[0mWARNING  C:\\Users\\Mehmet\\Desktop\\new_splited_wheat_dataset\\tmp_val\\images\\EsperiaVitreous\\20220425_171159.jpg: corrupt JPEG restored and saved\n",
      "\u001b[34m\u001b[1mval: \u001b[0mWARNING  C:\\Users\\Mehmet\\Desktop\\new_splited_wheat_dataset\\tmp_val\\images\\EsperiaVitreous\\20220425_171230.jpg: corrupt JPEG restored and saved\n",
      "\u001b[34m\u001b[1mval: \u001b[0mWARNING  C:\\Users\\Mehmet\\Desktop\\new_splited_wheat_dataset\\tmp_val\\images\\EsperiaVitreous\\20220425_171241.jpg: corrupt JPEG restored and saved\n",
      "\u001b[34m\u001b[1mval: \u001b[0mWARNING  C:\\Users\\Mehmet\\Desktop\\new_splited_wheat_dataset\\tmp_val\\images\\EsperiaVitreous\\20220425_171244.jpg: corrupt JPEG restored and saved\n",
      "\u001b[34m\u001b[1mval: \u001b[0mWARNING  C:\\Users\\Mehmet\\Desktop\\new_splited_wheat_dataset\\tmp_val\\images\\EsperiaVitreous\\20220425_171320.jpg: corrupt JPEG restored and saved\n",
      "\u001b[34m\u001b[1mval: \u001b[0mWARNING  C:\\Users\\Mehmet\\Desktop\\new_splited_wheat_dataset\\tmp_val\\images\\EsperiaVitreous\\20220425_171350.jpg: corrupt JPEG restored and saved\n",
      "\u001b[34m\u001b[1mval: \u001b[0mWARNING  C:\\Users\\Mehmet\\Desktop\\new_splited_wheat_dataset\\tmp_val\\images\\EsperiaVitreous\\20220425_171418.jpg: corrupt JPEG restored and saved\n",
      "\u001b[34m\u001b[1mval: \u001b[0mWARNING  C:\\Users\\Mehmet\\Desktop\\new_splited_wheat_dataset\\tmp_val\\images\\EsperiaVitreous\\20220425_171421.jpg: corrupt JPEG restored and saved\n",
      "\u001b[34m\u001b[1mval: \u001b[0mWARNING  C:\\Users\\Mehmet\\Desktop\\new_splited_wheat_dataset\\tmp_val\\images\\EsperiaVitreous\\20220425_171429.jpg: corrupt JPEG restored and saved\n",
      "\u001b[34m\u001b[1mval: \u001b[0mWARNING  C:\\Users\\Mehmet\\Desktop\\new_splited_wheat_dataset\\tmp_val\\images\\EsperiaVitreous\\20220425_171457.jpg: corrupt JPEG restored and saved\n",
      "\u001b[34m\u001b[1mval: \u001b[0mWARNING  C:\\Users\\Mehmet\\Desktop\\new_splited_wheat_dataset\\tmp_val\\images\\EsperiaVitreous\\20220425_171524.jpg: corrupt JPEG restored and saved\n",
      "\u001b[34m\u001b[1mval: \u001b[0mWARNING  C:\\Users\\Mehmet\\Desktop\\new_splited_wheat_dataset\\tmp_val\\images\\KiziltanVitreous\\20220426_154748.jpg: corrupt JPEG restored and saved\n",
      "\u001b[34m\u001b[1mval: \u001b[0mWARNING  C:\\Users\\Mehmet\\Desktop\\new_splited_wheat_dataset\\tmp_val\\images\\KiziltanVitreous\\20220426_154833.jpg: corrupt JPEG restored and saved\n",
      "\u001b[34m\u001b[1mval: \u001b[0mWARNING  C:\\Users\\Mehmet\\Desktop\\new_splited_wheat_dataset\\tmp_val\\images\\KiziltanVitreous\\20220426_154902.jpg: corrupt JPEG restored and saved\n",
      "\u001b[34m\u001b[1mval: \u001b[0mWARNING  C:\\Users\\Mehmet\\Desktop\\new_splited_wheat_dataset\\tmp_val\\images\\KiziltanVitreous\\20220426_154906.jpg: corrupt JPEG restored and saved\n",
      "\u001b[34m\u001b[1mval: \u001b[0mWARNING  C:\\Users\\Mehmet\\Desktop\\new_splited_wheat_dataset\\tmp_val\\images\\KiziltanVitreous\\20220426_154935.jpg: corrupt JPEG restored and saved\n",
      "\u001b[34m\u001b[1mval: \u001b[0mWARNING  C:\\Users\\Mehmet\\Desktop\\new_splited_wheat_dataset\\tmp_val\\images\\KiziltanVitreous\\20220426_154950.jpg: corrupt JPEG restored and saved\n",
      "\u001b[34m\u001b[1mval: \u001b[0mWARNING  C:\\Users\\Mehmet\\Desktop\\new_splited_wheat_dataset\\tmp_val\\images\\KiziltanVitreous\\20220426_155008.jpg: corrupt JPEG restored and saved\n",
      "\u001b[34m\u001b[1mval: \u001b[0mWARNING  C:\\Users\\Mehmet\\Desktop\\new_splited_wheat_dataset\\tmp_val\\images\\KiziltanVitreous\\20220426_155043.jpg: corrupt JPEG restored and saved\n",
      "\u001b[34m\u001b[1mval: \u001b[0mWARNING  C:\\Users\\Mehmet\\Desktop\\new_splited_wheat_dataset\\tmp_val\\images\\KiziltanVitreous\\20220426_160328.jpg: corrupt JPEG restored and saved\n",
      "\u001b[34m\u001b[1mval: \u001b[0mWARNING  C:\\Users\\Mehmet\\Desktop\\new_splited_wheat_dataset\\tmp_val\\images\\KiziltanVitreous\\20220426_160456.jpg: corrupt JPEG restored and saved\n",
      "\u001b[34m\u001b[1mval: \u001b[0mWARNING  C:\\Users\\Mehmet\\Desktop\\new_splited_wheat_dataset\\tmp_val\\images\\KiziltanVitreous\\20220426_160520.jpg: corrupt JPEG restored and saved\n",
      "\u001b[34m\u001b[1mval: \u001b[0mWARNING  C:\\Users\\Mehmet\\Desktop\\new_splited_wheat_dataset\\tmp_val\\images\\KiziltanVitreous\\20220426_160545.jpg: corrupt JPEG restored and saved\n",
      "\u001b[34m\u001b[1mval: \u001b[0mWARNING  C:\\Users\\Mehmet\\Desktop\\new_splited_wheat_dataset\\tmp_val\\images\\KiziltanVitreous\\20220426_160550.jpg: corrupt JPEG restored and saved\n",
      "\u001b[34m\u001b[1mval: \u001b[0mWARNING  C:\\Users\\Mehmet\\Desktop\\new_splited_wheat_dataset\\tmp_val\\images\\LucillaVitreous\\20220426_175135.jpg: corrupt JPEG restored and saved\n",
      "\u001b[34m\u001b[1mval: \u001b[0mWARNING  C:\\Users\\Mehmet\\Desktop\\new_splited_wheat_dataset\\tmp_val\\images\\LucillaVitreous\\20220426_175202.jpg: corrupt JPEG restored and saved\n",
      "\u001b[34m\u001b[1mval: \u001b[0mWARNING  C:\\Users\\Mehmet\\Desktop\\new_splited_wheat_dataset\\tmp_val\\images\\LucillaVitreous\\20220426_175204.jpg: corrupt JPEG restored and saved\n",
      "\u001b[34m\u001b[1mval: \u001b[0mWARNING  C:\\Users\\Mehmet\\Desktop\\new_splited_wheat_dataset\\tmp_val\\images\\LucillaVitreous\\20220426_175208.jpg: corrupt JPEG restored and saved\n",
      "\u001b[34m\u001b[1mval: \u001b[0mWARNING  C:\\Users\\Mehmet\\Desktop\\new_splited_wheat_dataset\\tmp_val\\images\\LucillaVitreous\\20220426_175310.jpg: corrupt JPEG restored and saved\n",
      "\u001b[34m\u001b[1mval: \u001b[0mWARNING  C:\\Users\\Mehmet\\Desktop\\new_splited_wheat_dataset\\tmp_val\\images\\LucillaVitreous\\20220426_175327.jpg: corrupt JPEG restored and saved\n",
      "\u001b[34m\u001b[1mval: \u001b[0mWARNING  C:\\Users\\Mehmet\\Desktop\\new_splited_wheat_dataset\\tmp_val\\images\\LucillaVitreous\\20220426_175329.jpg: corrupt JPEG restored and saved\n",
      "\u001b[34m\u001b[1mval: \u001b[0mWARNING  C:\\Users\\Mehmet\\Desktop\\new_splited_wheat_dataset\\tmp_val\\images\\LucillaVitreous\\20220426_175344.jpg: corrupt JPEG restored and saved\n",
      "\u001b[34m\u001b[1mval: \u001b[0mWARNING  C:\\Users\\Mehmet\\Desktop\\new_splited_wheat_dataset\\tmp_val\\images\\LucillaVitreous\\20220426_175346.jpg: corrupt JPEG restored and saved\n",
      "\u001b[34m\u001b[1mval: \u001b[0mWARNING  C:\\Users\\Mehmet\\Desktop\\new_splited_wheat_dataset\\tmp_val\\images\\LucillaVitreous\\20220426_175350.jpg: corrupt JPEG restored and saved\n",
      "\u001b[34m\u001b[1mval: \u001b[0mWARNING  C:\\Users\\Mehmet\\Desktop\\new_splited_wheat_dataset\\tmp_val\\images\\LucillaVitreous\\20220426_175357.jpg: corrupt JPEG restored and saved\n",
      "\u001b[34m\u001b[1mval: \u001b[0mWARNING  C:\\Users\\Mehmet\\Desktop\\new_splited_wheat_dataset\\tmp_val\\images\\LucillaVitreous\\20220426_175359.jpg: corrupt JPEG restored and saved\n",
      "\u001b[34m\u001b[1mval: \u001b[0mWARNING  C:\\Users\\Mehmet\\Desktop\\new_splited_wheat_dataset\\tmp_val\\images\\LucillaVitreous\\20220426_175412.jpg: corrupt JPEG restored and saved\n",
      "\u001b[34m\u001b[1mval: \u001b[0mWARNING  C:\\Users\\Mehmet\\Desktop\\new_splited_wheat_dataset\\tmp_val\\images\\LucillaVitreous\\20220426_175414.jpg: corrupt JPEG restored and saved\n",
      "\u001b[34m\u001b[1mval: \u001b[0mWARNING  C:\\Users\\Mehmet\\Desktop\\new_splited_wheat_dataset\\tmp_val\\images\\LucillaVitreous\\20220426_175432.jpg: corrupt JPEG restored and saved\n",
      "\u001b[34m\u001b[1mval: \u001b[0mWARNING  C:\\Users\\Mehmet\\Desktop\\new_splited_wheat_dataset\\tmp_val\\images\\LucillaVitreous\\20220426_175533.jpg: corrupt JPEG restored and saved\n",
      "\u001b[34m\u001b[1mval: \u001b[0mWARNING  C:\\Users\\Mehmet\\Desktop\\new_splited_wheat_dataset\\tmp_val\\images\\LucillaVitreous\\20220426_175550.jpg: corrupt JPEG restored and saved\n",
      "\u001b[34m\u001b[1mval: \u001b[0mWARNING  C:\\Users\\Mehmet\\Desktop\\new_splited_wheat_dataset\\tmp_val\\images\\OdeskaVitreous\\20220426_172213.jpg: corrupt JPEG restored and saved\n",
      "\u001b[34m\u001b[1mval: \u001b[0mWARNING  C:\\Users\\Mehmet\\Desktop\\new_splited_wheat_dataset\\tmp_val\\images\\OdeskaVitreous\\20220426_172236.jpg: corrupt JPEG restored and saved\n",
      "\u001b[34m\u001b[1mval: \u001b[0mWARNING  C:\\Users\\Mehmet\\Desktop\\new_splited_wheat_dataset\\tmp_val\\images\\OdeskaVitreous\\20220426_172343.jpg: corrupt JPEG restored and saved\n",
      "\u001b[34m\u001b[1mval: \u001b[0mWARNING  C:\\Users\\Mehmet\\Desktop\\new_splited_wheat_dataset\\tmp_val\\images\\OdeskaVitreous\\20220426_172354.jpg: corrupt JPEG restored and saved\n",
      "\u001b[34m\u001b[1mval: \u001b[0mWARNING  C:\\Users\\Mehmet\\Desktop\\new_splited_wheat_dataset\\tmp_val\\images\\OdeskaVitreous\\20220426_172419.jpg: corrupt JPEG restored and saved\n",
      "\u001b[34m\u001b[1mval: \u001b[0mWARNING  C:\\Users\\Mehmet\\Desktop\\new_splited_wheat_dataset\\tmp_val\\images\\OdeskaVitreous\\20220426_172421.jpg: corrupt JPEG restored and saved\n",
      "\u001b[34m\u001b[1mval: \u001b[0mWARNING  C:\\Users\\Mehmet\\Desktop\\new_splited_wheat_dataset\\tmp_val\\images\\OdeskaVitreous\\20220426_172451.jpg: corrupt JPEG restored and saved\n",
      "\u001b[34m\u001b[1mval: \u001b[0mWARNING  C:\\Users\\Mehmet\\Desktop\\new_splited_wheat_dataset\\tmp_val\\images\\OdeskaVitreous\\20220426_172509.jpg: corrupt JPEG restored and saved\n",
      "\u001b[34m\u001b[1mval: \u001b[0mWARNING  C:\\Users\\Mehmet\\Desktop\\new_splited_wheat_dataset\\tmp_val\\images\\OdeskaVitreous\\20220426_172613.jpg: corrupt JPEG restored and saved\n",
      "\u001b[34m\u001b[1mval: \u001b[0mWARNING  C:\\Users\\Mehmet\\Desktop\\new_splited_wheat_dataset\\tmp_val\\images\\OdeskaVitreous\\20220426_172620.jpg: corrupt JPEG restored and saved\n",
      "\u001b[34m\u001b[1mval: \u001b[0mWARNING  C:\\Users\\Mehmet\\Desktop\\new_splited_wheat_dataset\\tmp_val\\images\\OdeskaVitreous\\20220426_172623.jpg: corrupt JPEG restored and saved\n",
      "\u001b[34m\u001b[1mval: \u001b[0mWARNING  C:\\Users\\Mehmet\\Desktop\\new_splited_wheat_dataset\\tmp_val\\images\\OdeskaVitreous\\20220426_172640.jpg: corrupt JPEG restored and saved\n",
      "\u001b[34m\u001b[1mval: \u001b[0mWARNING  C:\\Users\\Mehmet\\Desktop\\new_splited_wheat_dataset\\tmp_val\\images\\OdeskaVitreous\\20220426_172642.jpg: corrupt JPEG restored and saved\n",
      "\u001b[34m\u001b[1mval: \u001b[0mWARNING  C:\\Users\\Mehmet\\Desktop\\new_splited_wheat_dataset\\tmp_val\\images\\OdeskaVitreous\\20220426_172645.jpg: corrupt JPEG restored and saved\n",
      "\u001b[34m\u001b[1mval: \u001b[0mWARNING  C:\\Users\\Mehmet\\Desktop\\new_splited_wheat_dataset\\tmp_val\\images\\OdeskaVitreous\\20220426_172651.jpg: corrupt JPEG restored and saved\n",
      "\u001b[34m\u001b[1mval: \u001b[0mWARNING  C:\\Users\\Mehmet\\Desktop\\new_splited_wheat_dataset\\tmp_val\\images\\OdeskaVitreous\\20220426_172713.jpg: corrupt JPEG restored and saved\n",
      "\u001b[34m\u001b[1mval: \u001b[0mWARNING  C:\\Users\\Mehmet\\Desktop\\new_splited_wheat_dataset\\tmp_val\\images\\RumeliVitreous\\20220427_120155.jpg: corrupt JPEG restored and saved\n",
      "\u001b[34m\u001b[1mval: \u001b[0mWARNING  C:\\Users\\Mehmet\\Desktop\\new_splited_wheat_dataset\\tmp_val\\images\\RumeliVitreous\\20220427_120212.jpg: corrupt JPEG restored and saved\n",
      "\u001b[34m\u001b[1mval: \u001b[0mWARNING  C:\\Users\\Mehmet\\Desktop\\new_splited_wheat_dataset\\tmp_val\\images\\RumeliVitreous\\20220427_120229.jpg: corrupt JPEG restored and saved\n",
      "\u001b[34m\u001b[1mval: \u001b[0mWARNING  C:\\Users\\Mehmet\\Desktop\\new_splited_wheat_dataset\\tmp_val\\images\\RumeliVitreous\\20220427_120253.jpg: corrupt JPEG restored and saved\n",
      "\u001b[34m\u001b[1mval: \u001b[0mWARNING  C:\\Users\\Mehmet\\Desktop\\new_splited_wheat_dataset\\tmp_val\\images\\RumeliVitreous\\20220427_120307.jpg: corrupt JPEG restored and saved\n",
      "\u001b[34m\u001b[1mval: \u001b[0mWARNING  C:\\Users\\Mehmet\\Desktop\\new_splited_wheat_dataset\\tmp_val\\images\\RumeliVitreous\\20220427_120459.jpg: corrupt JPEG restored and saved\n",
      "\u001b[34m\u001b[1mval: \u001b[0mWARNING  C:\\Users\\Mehmet\\Desktop\\new_splited_wheat_dataset\\tmp_val\\images\\RumeliVitreous\\20220427_120511.jpg: corrupt JPEG restored and saved\n",
      "\u001b[34m\u001b[1mval: \u001b[0mWARNING  C:\\Users\\Mehmet\\Desktop\\new_splited_wheat_dataset\\tmp_val\\images\\RumeliVitreous\\20220427_120521.jpg: corrupt JPEG restored and saved\n",
      "\u001b[34m\u001b[1mval: \u001b[0mWARNING  C:\\Users\\Mehmet\\Desktop\\new_splited_wheat_dataset\\tmp_val\\images\\RumeliVitreous\\20220427_120532.jpg: corrupt JPEG restored and saved\n",
      "\u001b[34m\u001b[1mval: \u001b[0mWARNING  C:\\Users\\Mehmet\\Desktop\\new_splited_wheat_dataset\\tmp_val\\images\\RumeliVitreous\\20220427_120537.jpg: corrupt JPEG restored and saved\n",
      "\u001b[34m\u001b[1mval: \u001b[0mWARNING  C:\\Users\\Mehmet\\Desktop\\new_splited_wheat_dataset\\tmp_val\\images\\RumeliVitreous\\20220427_120601.jpg: corrupt JPEG restored and saved\n",
      "\u001b[34m\u001b[1mval: \u001b[0mWARNING  C:\\Users\\Mehmet\\Desktop\\new_splited_wheat_dataset\\tmp_val\\images\\RumeliVitreous\\20220427_120603.jpg: corrupt JPEG restored and saved\n",
      "\u001b[34m\u001b[1mval: \u001b[0mWARNING  C:\\Users\\Mehmet\\Desktop\\new_splited_wheat_dataset\\tmp_val\\images\\RumeliVitreous\\20220427_120610.jpg: corrupt JPEG restored and saved\n",
      "\u001b[34m\u001b[1mval: \u001b[0mWARNING  C:\\Users\\Mehmet\\Desktop\\new_splited_wheat_dataset\\tmp_val\\images\\RumeliVitreous\\20220427_120619.jpg: corrupt JPEG restored and saved\n",
      "\u001b[34m\u001b[1mval: \u001b[0mWARNING  C:\\Users\\Mehmet\\Desktop\\new_splited_wheat_dataset\\tmp_val\\images\\RumeliVitreous\\20220427_120650.jpg: corrupt JPEG restored and saved\n",
      "\u001b[34m\u001b[1mval: \u001b[0mWARNING  C:\\Users\\Mehmet\\Desktop\\new_splited_wheat_dataset\\tmp_val\\images\\RumeliVitreous\\20220427_120654.jpg: corrupt JPEG restored and saved\n",
      "\u001b[34m\u001b[1mval: \u001b[0mWARNING  C:\\Users\\Mehmet\\Desktop\\new_splited_wheat_dataset\\tmp_val\\images\\SelimiyeVitreous\\20220425_165106.jpg: corrupt JPEG restored and saved\n",
      "\u001b[34m\u001b[1mval: \u001b[0mWARNING  C:\\Users\\Mehmet\\Desktop\\new_splited_wheat_dataset\\tmp_val\\images\\SelimiyeVitreous\\20220425_165117.jpg: corrupt JPEG restored and saved\n",
      "\u001b[34m\u001b[1mval: \u001b[0mWARNING  C:\\Users\\Mehmet\\Desktop\\new_splited_wheat_dataset\\tmp_val\\images\\SelimiyeVitreous\\20220425_165124.jpg: corrupt JPEG restored and saved\n",
      "\u001b[34m\u001b[1mval: \u001b[0mWARNING  C:\\Users\\Mehmet\\Desktop\\new_splited_wheat_dataset\\tmp_val\\images\\SelimiyeVitreous\\20220425_165135.jpg: corrupt JPEG restored and saved\n",
      "\u001b[34m\u001b[1mval: \u001b[0mWARNING  C:\\Users\\Mehmet\\Desktop\\new_splited_wheat_dataset\\tmp_val\\images\\SelimiyeVitreous\\20220425_165157.jpg: corrupt JPEG restored and saved\n",
      "\u001b[34m\u001b[1mval: \u001b[0mWARNING  C:\\Users\\Mehmet\\Desktop\\new_splited_wheat_dataset\\tmp_val\\images\\SelimiyeVitreous\\20220425_165231.jpg: corrupt JPEG restored and saved\n",
      "\u001b[34m\u001b[1mval: \u001b[0mWARNING  C:\\Users\\Mehmet\\Desktop\\new_splited_wheat_dataset\\tmp_val\\images\\SelimiyeVitreous\\20220425_165233.jpg: corrupt JPEG restored and saved\n",
      "\u001b[34m\u001b[1mval: \u001b[0mWARNING  C:\\Users\\Mehmet\\Desktop\\new_splited_wheat_dataset\\tmp_val\\images\\SelimiyeVitreous\\20220425_165236.jpg: corrupt JPEG restored and saved\n",
      "\u001b[34m\u001b[1mval: \u001b[0mWARNING  C:\\Users\\Mehmet\\Desktop\\new_splited_wheat_dataset\\tmp_val\\images\\SelimiyeVitreous\\20220425_165319.jpg: corrupt JPEG restored and saved\n",
      "\u001b[34m\u001b[1mval: \u001b[0mWARNING  C:\\Users\\Mehmet\\Desktop\\new_splited_wheat_dataset\\tmp_val\\images\\SelimiyeVitreous\\20220425_165326.jpg: corrupt JPEG restored and saved\n",
      "\u001b[34m\u001b[1mval: \u001b[0mWARNING  C:\\Users\\Mehmet\\Desktop\\new_splited_wheat_dataset\\tmp_val\\images\\SelimiyeVitreous\\20220425_165353.jpg: corrupt JPEG restored and saved\n",
      "\u001b[34m\u001b[1mval: \u001b[0mWARNING  C:\\Users\\Mehmet\\Desktop\\new_splited_wheat_dataset\\tmp_val\\images\\SelimiyeVitreous\\20220425_165357.jpg: corrupt JPEG restored and saved\n",
      "\u001b[34m\u001b[1mval: \u001b[0mWARNING  C:\\Users\\Mehmet\\Desktop\\new_splited_wheat_dataset\\tmp_val\\images\\SelimiyeVitreous\\20220425_165407.jpg: corrupt JPEG restored and saved\n",
      "\u001b[34m\u001b[1mval: \u001b[0mWARNING  C:\\Users\\Mehmet\\Desktop\\new_splited_wheat_dataset\\tmp_val\\images\\SelimiyeVitreous\\20220425_165420.jpg: corrupt JPEG restored and saved\n",
      "\u001b[34m\u001b[1mval: \u001b[0mWARNING  C:\\Users\\Mehmet\\Desktop\\new_splited_wheat_dataset\\tmp_val\\images\\SelimiyeVitreous\\20220425_165441.jpg: corrupt JPEG restored and saved\n",
      "\u001b[34m\u001b[1mval: \u001b[0mWARNING  C:\\Users\\Mehmet\\Desktop\\new_splited_wheat_dataset\\tmp_val\\images\\SelimiyeVitreous\\20220425_165451.jpg: corrupt JPEG restored and saved\n",
      "\u001b[34m\u001b[1mval: \u001b[0mWARNING  C:\\Users\\Mehmet\\Desktop\\new_splited_wheat_dataset\\tmp_val\\images\\SelimiyeVitreous\\20220425_165454.jpg: corrupt JPEG restored and saved\n",
      "\u001b[34m\u001b[1mval: \u001b[0mWARNING  C:\\Users\\Mehmet\\Desktop\\new_splited_wheat_dataset\\tmp_val\\images\\SelimiyeVitreous\\20220425_165542.jpg: corrupt JPEG restored and saved\n",
      "\u001b[34m\u001b[1mval: \u001b[0mWARNING  C:\\Users\\Mehmet\\Desktop\\new_splited_wheat_dataset\\tmp_val\\images\\SelimiyeVitreous\\20220425_165631.jpg: corrupt JPEG restored and saved\n",
      "\u001b[34m\u001b[1mval: \u001b[0mWARNING  C:\\Users\\Mehmet\\Desktop\\new_splited_wheat_dataset\\tmp_val\\images\\SelimiyeVitreous\\20220425_165707.jpg: corrupt JPEG restored and saved\n",
      "\u001b[34m\u001b[1mval: \u001b[0mWARNING  C:\\Users\\Mehmet\\Desktop\\new_splited_wheat_dataset\\tmp_val\\images\\SelimiyeVitreous\\20220425_165730.jpg: corrupt JPEG restored and saved\n",
      "\u001b[34m\u001b[1mval: \u001b[0mWARNING  C:\\Users\\Mehmet\\Desktop\\new_splited_wheat_dataset\\tmp_val\\images\\SelimiyeVitreous\\20220425_165733.jpg: corrupt JPEG restored and saved\n",
      "\u001b[34m\u001b[1mval: \u001b[0mWARNING  C:\\Users\\Mehmet\\Desktop\\new_splited_wheat_dataset\\tmp_val\\images\\SelimiyeVitreous\\20220425_165742.jpg: corrupt JPEG restored and saved\n",
      "\u001b[34m\u001b[1mval: \u001b[0mNew cache created: C:\\Users\\Mehmet\\Desktop\\new_splited_wheat_dataset\\tmp_val\\labels\\Bayraktar2000Vitreous.cache\n"
     ]
    },
    {
     "name": "stderr",
     "output_type": "stream",
     "text": [
      "\n"
     ]
    },
    {
     "name": "stdout",
     "output_type": "stream",
     "text": [
      "Plotting labels to C:\\Users\\Mehmet\\Desktop\\whead_dataset\\results\\train6\\labels.jpg... \n",
      "\u001b[34m\u001b[1moptimizer:\u001b[0m 'optimizer=auto' found, ignoring 'lr0=0.01' and 'momentum=0.937' and determining best 'optimizer', 'lr0' and 'momentum' automatically... \n",
      "\u001b[34m\u001b[1moptimizer:\u001b[0m AdamW(lr=0.000714, momentum=0.9) with parameter groups 81 weight(decay=0.0), 88 weight(decay=0.0005), 87 bias(decay=0.0)\n",
      "Image sizes 640 train, 640 val\n",
      "Using 8 dataloader workers\n",
      "Logging results to \u001b[1mC:\\Users\\Mehmet\\Desktop\\whead_dataset\\results\\train6\u001b[0m\n",
      "Starting training for 20 epochs...\n",
      "\n",
      "      Epoch    GPU_mem   box_loss   cls_loss   dfl_loss  Instances       Size\n"
     ]
    },
    {
     "name": "stderr",
     "output_type": "stream",
     "text": [
      "       1/20     0.698G      1.071      4.175     0.9669          2        640: 100%|██████████| 212/212 [00:29<00:00,  7.26it/s]\n",
      "                 Class     Images  Instances      Box(P          R      mAP50  mAP50-95): 100%|██████████| 43/43 [00:04<00:00,  8.83it/s]"
     ]
    },
    {
     "name": "stdout",
     "output_type": "stream",
     "text": [
      "                   all        338        406      0.141       0.56      0.174      0.136\n"
     ]
    },
    {
     "name": "stderr",
     "output_type": "stream",
     "text": [
      "\n"
     ]
    },
    {
     "name": "stdout",
     "output_type": "stream",
     "text": [
      "\n",
      "      Epoch    GPU_mem   box_loss   cls_loss   dfl_loss  Instances       Size\n"
     ]
    },
    {
     "name": "stderr",
     "output_type": "stream",
     "text": [
      "       2/20     0.715G     0.8945      3.294      0.938          1        640: 100%|██████████| 212/212 [00:29<00:00,  7.20it/s]\n",
      "                 Class     Images  Instances      Box(P          R      mAP50  mAP50-95): 100%|██████████| 43/43 [00:04<00:00,  9.60it/s]\n"
     ]
    },
    {
     "name": "stdout",
     "output_type": "stream",
     "text": [
      "                   all        338        406      0.194      0.641      0.244      0.193\n",
      "\n",
      "      Epoch    GPU_mem   box_loss   cls_loss   dfl_loss  Instances       Size\n"
     ]
    },
    {
     "name": "stderr",
     "output_type": "stream",
     "text": [
      "       3/20     0.717G     0.8813        2.9     0.9372          2        640: 100%|██████████| 212/212 [00:30<00:00,  7.02it/s]\n",
      "                 Class     Images  Instances      Box(P          R      mAP50  mAP50-95): 100%|██████████| 43/43 [00:04<00:00,  8.77it/s]"
     ]
    },
    {
     "name": "stdout",
     "output_type": "stream",
     "text": [
      "                   all        338        406      0.305       0.78      0.448      0.355\n"
     ]
    },
    {
     "name": "stderr",
     "output_type": "stream",
     "text": [
      "\n"
     ]
    },
    {
     "name": "stdout",
     "output_type": "stream",
     "text": [
      "\n",
      "      Epoch    GPU_mem   box_loss   cls_loss   dfl_loss  Instances       Size\n"
     ]
    },
    {
     "name": "stderr",
     "output_type": "stream",
     "text": [
      "       4/20     0.715G     0.8473      2.557     0.9364          1        640: 100%|██████████| 212/212 [00:30<00:00,  6.91it/s]\n",
      "                 Class     Images  Instances      Box(P          R      mAP50  mAP50-95): 100%|██████████| 43/43 [00:04<00:00,  8.60it/s]"
     ]
    },
    {
     "name": "stdout",
     "output_type": "stream",
     "text": [
      "                   all        338        406      0.392      0.719      0.477      0.388\n"
     ]
    },
    {
     "name": "stderr",
     "output_type": "stream",
     "text": [
      "\n"
     ]
    },
    {
     "name": "stdout",
     "output_type": "stream",
     "text": [
      "\n",
      "      Epoch    GPU_mem   box_loss   cls_loss   dfl_loss  Instances       Size\n"
     ]
    },
    {
     "name": "stderr",
     "output_type": "stream",
     "text": [
      "       5/20     0.713G     0.8138      2.342     0.9291          1        640: 100%|██████████| 212/212 [00:31<00:00,  6.65it/s]\n",
      "                 Class     Images  Instances      Box(P          R      mAP50  mAP50-95): 100%|██████████| 43/43 [00:04<00:00,  8.79it/s]"
     ]
    },
    {
     "name": "stdout",
     "output_type": "stream",
     "text": [
      "                   all        338        406      0.412      0.786      0.527      0.438\n"
     ]
    },
    {
     "name": "stderr",
     "output_type": "stream",
     "text": [
      "\n"
     ]
    },
    {
     "name": "stdout",
     "output_type": "stream",
     "text": [
      "\n",
      "      Epoch    GPU_mem   box_loss   cls_loss   dfl_loss  Instances       Size\n"
     ]
    },
    {
     "name": "stderr",
     "output_type": "stream",
     "text": [
      "       6/20     0.713G     0.7908      2.089     0.9276          1        640: 100%|██████████| 212/212 [00:32<00:00,  6.62it/s]\n",
      "                 Class     Images  Instances      Box(P          R      mAP50  mAP50-95): 100%|██████████| 43/43 [00:05<00:00,  8.28it/s]\n"
     ]
    },
    {
     "name": "stdout",
     "output_type": "stream",
     "text": [
      "                   all        338        406      0.454      0.796      0.596      0.498\n",
      "\n",
      "      Epoch    GPU_mem   box_loss   cls_loss   dfl_loss  Instances       Size\n"
     ]
    },
    {
     "name": "stderr",
     "output_type": "stream",
     "text": [
      "       7/20     0.713G     0.7526      1.941     0.9183          0        640: 100%|██████████| 212/212 [00:37<00:00,  5.71it/s]\n",
      "                 Class     Images  Instances      Box(P          R      mAP50  mAP50-95): 100%|██████████| 43/43 [00:05<00:00,  7.98it/s]\n"
     ]
    },
    {
     "name": "stdout",
     "output_type": "stream",
     "text": [
      "                   all        338        406      0.452      0.893      0.589       0.49\n",
      "\n",
      "      Epoch    GPU_mem   box_loss   cls_loss   dfl_loss  Instances       Size\n"
     ]
    },
    {
     "name": "stderr",
     "output_type": "stream",
     "text": [
      "       8/20     0.713G     0.7448      1.752     0.9323          2        640: 100%|██████████| 212/212 [00:38<00:00,  5.55it/s]\n",
      "                 Class     Images  Instances      Box(P          R      mAP50  mAP50-95): 100%|██████████| 43/43 [00:04<00:00,  8.80it/s]"
     ]
    },
    {
     "name": "stdout",
     "output_type": "stream",
     "text": [
      "                   all        338        406      0.526      0.895      0.721      0.604\n"
     ]
    },
    {
     "name": "stderr",
     "output_type": "stream",
     "text": [
      "\n"
     ]
    },
    {
     "name": "stdout",
     "output_type": "stream",
     "text": [
      "\n",
      "      Epoch    GPU_mem   box_loss   cls_loss   dfl_loss  Instances       Size\n"
     ]
    },
    {
     "name": "stderr",
     "output_type": "stream",
     "text": [
      "       9/20     0.713G     0.7317      1.665     0.9168          4        640: 100%|██████████| 212/212 [00:35<00:00,  5.94it/s]\n",
      "                 Class     Images  Instances      Box(P          R      mAP50  mAP50-95): 100%|██████████| 43/43 [00:05<00:00,  7.84it/s]"
     ]
    },
    {
     "name": "stdout",
     "output_type": "stream",
     "text": [
      "                   all        338        406      0.557      0.926      0.721      0.609\n"
     ]
    },
    {
     "name": "stderr",
     "output_type": "stream",
     "text": [
      "\n"
     ]
    },
    {
     "name": "stdout",
     "output_type": "stream",
     "text": [
      "\n",
      "      Epoch    GPU_mem   box_loss   cls_loss   dfl_loss  Instances       Size\n"
     ]
    },
    {
     "name": "stderr",
     "output_type": "stream",
     "text": [
      "      10/20     0.713G     0.7136      1.652     0.9073          1        640: 100%|██████████| 212/212 [00:38<00:00,  5.45it/s]\n",
      "                 Class     Images  Instances      Box(P          R      mAP50  mAP50-95): 100%|██████████| 43/43 [00:05<00:00,  7.87it/s]"
     ]
    },
    {
     "name": "stdout",
     "output_type": "stream",
     "text": [
      "                   all        338        406      0.545      0.876      0.682      0.576\n"
     ]
    },
    {
     "name": "stderr",
     "output_type": "stream",
     "text": [
      "\n"
     ]
    },
    {
     "name": "stdout",
     "output_type": "stream",
     "text": [
      "Closing dataloader mosaic\n",
      "\n",
      "      Epoch    GPU_mem   box_loss   cls_loss   dfl_loss  Instances       Size\n"
     ]
    },
    {
     "name": "stderr",
     "output_type": "stream",
     "text": [
      "      11/20     0.711G     0.6752      1.695     0.9203          1        640: 100%|██████████| 212/212 [00:30<00:00,  6.92it/s]\n",
      "                 Class     Images  Instances      Box(P          R      mAP50  mAP50-95): 100%|██████████| 43/43 [00:04<00:00,  8.75it/s]"
     ]
    },
    {
     "name": "stdout",
     "output_type": "stream",
     "text": [
      "                   all        338        406      0.575      0.864      0.706        0.6\n"
     ]
    },
    {
     "name": "stderr",
     "output_type": "stream",
     "text": [
      "\n"
     ]
    },
    {
     "name": "stdout",
     "output_type": "stream",
     "text": [
      "\n",
      "      Epoch    GPU_mem   box_loss   cls_loss   dfl_loss  Instances       Size\n"
     ]
    },
    {
     "name": "stderr",
     "output_type": "stream",
     "text": [
      "      12/20     0.711G      0.656      1.557     0.9125          1        640: 100%|██████████| 212/212 [00:34<00:00,  6.06it/s]\n",
      "                 Class     Images  Instances      Box(P          R      mAP50  mAP50-95): 100%|██████████| 43/43 [00:04<00:00,  8.87it/s]"
     ]
    },
    {
     "name": "stdout",
     "output_type": "stream",
     "text": [
      "                   all        338        406      0.673      0.864      0.786       0.67\n"
     ]
    },
    {
     "name": "stderr",
     "output_type": "stream",
     "text": [
      "\n"
     ]
    },
    {
     "name": "stdout",
     "output_type": "stream",
     "text": [
      "\n",
      "      Epoch    GPU_mem   box_loss   cls_loss   dfl_loss  Instances       Size\n"
     ]
    },
    {
     "name": "stderr",
     "output_type": "stream",
     "text": [
      "      13/20     0.711G     0.6507      1.447     0.9164          1        640: 100%|██████████| 212/212 [00:32<00:00,  6.59it/s]\n",
      "                 Class     Images  Instances      Box(P          R      mAP50  mAP50-95): 100%|██████████| 43/43 [00:04<00:00,  9.08it/s]"
     ]
    },
    {
     "name": "stdout",
     "output_type": "stream",
     "text": [
      "                   all        338        406      0.708      0.899       0.81      0.694\n"
     ]
    },
    {
     "name": "stderr",
     "output_type": "stream",
     "text": [
      "\n"
     ]
    },
    {
     "name": "stdout",
     "output_type": "stream",
     "text": [
      "\n",
      "      Epoch    GPU_mem   box_loss   cls_loss   dfl_loss  Instances       Size\n"
     ]
    },
    {
     "name": "stderr",
     "output_type": "stream",
     "text": [
      "      14/20     0.711G     0.6439      1.338     0.9137          5        640: 100%|██████████| 212/212 [00:31<00:00,  6.71it/s]\n",
      "                 Class     Images  Instances      Box(P          R      mAP50  mAP50-95): 100%|██████████| 43/43 [00:05<00:00,  8.54it/s]\n"
     ]
    },
    {
     "name": "stdout",
     "output_type": "stream",
     "text": [
      "                   all        338        406      0.729      0.875      0.831      0.711\n",
      "\n",
      "      Epoch    GPU_mem   box_loss   cls_loss   dfl_loss  Instances       Size\n"
     ]
    },
    {
     "name": "stderr",
     "output_type": "stream",
     "text": [
      "      15/20     0.711G     0.6426      1.267     0.9062          1        640: 100%|██████████| 212/212 [00:31<00:00,  6.71it/s]\n",
      "                 Class     Images  Instances      Box(P          R      mAP50  mAP50-95): 100%|██████████| 43/43 [00:04<00:00,  8.72it/s]\n"
     ]
    },
    {
     "name": "stdout",
     "output_type": "stream",
     "text": [
      "                   all        338        406      0.789      0.894      0.888      0.756\n",
      "\n",
      "      Epoch    GPU_mem   box_loss   cls_loss   dfl_loss  Instances       Size\n"
     ]
    },
    {
     "name": "stderr",
     "output_type": "stream",
     "text": [
      "      16/20     0.711G     0.6263      1.212     0.8979          1        640: 100%|██████████| 212/212 [00:30<00:00,  6.95it/s]\n",
      "                 Class     Images  Instances      Box(P          R      mAP50  mAP50-95): 100%|██████████| 43/43 [00:05<00:00,  8.58it/s]\n"
     ]
    },
    {
     "name": "stdout",
     "output_type": "stream",
     "text": [
      "                   all        338        406       0.76      0.903      0.869       0.75\n",
      "\n",
      "      Epoch    GPU_mem   box_loss   cls_loss   dfl_loss  Instances       Size\n"
     ]
    },
    {
     "name": "stderr",
     "output_type": "stream",
     "text": [
      "      17/20     0.711G     0.6168      1.164      0.903          1        640: 100%|██████████| 212/212 [00:30<00:00,  6.90it/s]\n",
      "                 Class     Images  Instances      Box(P          R      mAP50  mAP50-95): 100%|██████████| 43/43 [00:05<00:00,  7.98it/s]"
     ]
    },
    {
     "name": "stdout",
     "output_type": "stream",
     "text": [
      "                   all        338        406      0.855      0.964      0.952      0.823\n"
     ]
    },
    {
     "name": "stderr",
     "output_type": "stream",
     "text": [
      "\n"
     ]
    },
    {
     "name": "stdout",
     "output_type": "stream",
     "text": [
      "\n",
      "      Epoch    GPU_mem   box_loss   cls_loss   dfl_loss  Instances       Size\n"
     ]
    },
    {
     "name": "stderr",
     "output_type": "stream",
     "text": [
      "      18/20     0.711G     0.6171      1.083     0.8912          1        640: 100%|██████████| 212/212 [00:29<00:00,  7.13it/s]\n",
      "                 Class     Images  Instances      Box(P          R      mAP50  mAP50-95): 100%|██████████| 43/43 [00:05<00:00,  7.80it/s]"
     ]
    },
    {
     "name": "stdout",
     "output_type": "stream",
     "text": [
      "                   all        338        406      0.816      0.925      0.919      0.794\n"
     ]
    },
    {
     "name": "stderr",
     "output_type": "stream",
     "text": [
      "\n"
     ]
    },
    {
     "name": "stdout",
     "output_type": "stream",
     "text": [
      "\n",
      "      Epoch    GPU_mem   box_loss   cls_loss   dfl_loss  Instances       Size\n"
     ]
    },
    {
     "name": "stderr",
     "output_type": "stream",
     "text": [
      "      19/20     0.711G     0.6018      1.028     0.8824          1        640: 100%|██████████| 212/212 [00:30<00:00,  6.87it/s]\n",
      "                 Class     Images  Instances      Box(P          R      mAP50  mAP50-95): 100%|██████████| 43/43 [00:05<00:00,  8.28it/s]"
     ]
    },
    {
     "name": "stdout",
     "output_type": "stream",
     "text": [
      "                   all        338        406      0.936      0.956      0.966       0.84\n"
     ]
    },
    {
     "name": "stderr",
     "output_type": "stream",
     "text": [
      "\n"
     ]
    },
    {
     "name": "stdout",
     "output_type": "stream",
     "text": [
      "\n",
      "      Epoch    GPU_mem   box_loss   cls_loss   dfl_loss  Instances       Size\n"
     ]
    },
    {
     "name": "stderr",
     "output_type": "stream",
     "text": [
      "      20/20     0.711G     0.6006     0.9796     0.8968          1        640: 100%|██████████| 212/212 [00:30<00:00,  6.98it/s]\n",
      "                 Class     Images  Instances      Box(P          R      mAP50  mAP50-95): 100%|██████████| 43/43 [00:05<00:00,  8.20it/s]"
     ]
    },
    {
     "name": "stdout",
     "output_type": "stream",
     "text": [
      "                   all        338        406      0.949      0.962      0.972      0.845\n"
     ]
    },
    {
     "name": "stderr",
     "output_type": "stream",
     "text": [
      "\n"
     ]
    },
    {
     "name": "stdout",
     "output_type": "stream",
     "text": [
      "\n",
      "20 epochs completed in 0.225 hours.\n",
      "Optimizer stripped from C:\\Users\\Mehmet\\Desktop\\whead_dataset\\results\\train6\\weights\\last.pt, 5.5MB\n",
      "Optimizer stripped from C:\\Users\\Mehmet\\Desktop\\whead_dataset\\results\\train6\\weights\\best.pt, 5.5MB\n",
      "\n",
      "Validating C:\\Users\\Mehmet\\Desktop\\whead_dataset\\results\\train6\\weights\\best.pt...\n",
      "Ultralytics 8.3.5  Python-3.9.20 torch-2.4.1+cu121 CUDA:0 (NVIDIA GeForce RTX 3050 Laptop GPU, 4096MiB)\n",
      "YOLO11n summary (fused): 238 layers, 2,584,102 parameters, 0 gradients, 6.3 GFLOPs\n"
     ]
    },
    {
     "name": "stderr",
     "output_type": "stream",
     "text": [
      "                 Class     Images  Instances      Box(P          R      mAP50  mAP50-95): 100%|██████████| 43/43 [00:05<00:00,  7.57it/s]\n"
     ]
    },
    {
     "name": "stdout",
     "output_type": "stream",
     "text": [
      "                   all        338        406      0.946      0.962      0.972      0.846\n",
      " Bayraktar2000Vitreous         35         39      0.941          1      0.995       0.82\n",
      "    Bezostaja1Vitreous         35         47      0.967          1      0.995      0.806\n",
      "     Delabrad2Vitreous         32         40      0.951       0.95      0.976      0.779\n",
      "          EkizVitreous         29         37      0.997          1      0.995      0.824\n",
      "       EsperiaVitreous         35         43          1      0.719      0.954      0.861\n",
      "      KiziltanVitreous         32         36          1      0.994      0.995      0.879\n",
      "       LucillaVitreous         38         38      0.919          1      0.995      0.905\n",
      "        OdeskaVitreous         28         28      0.991          1      0.995      0.896\n",
      "        RumeliVitreous         38         46      0.894      0.957      0.985      0.899\n",
      "      SelimiyeVitreous         36         52        0.8          1      0.836      0.793\n",
      "Speed: 0.5ms preprocess, 4.5ms inference, 0.0ms loss, 2.1ms postprocess per image\n",
      "Results saved to \u001b[1mC:\\Users\\Mehmet\\Desktop\\whead_dataset\\results\\train6\u001b[0m\n",
      "1.Eğitim bitti\n",
      "Bellek temizlendi\n",
      "2.Eğitim başlıyor\n",
      "New https://pypi.org/project/ultralytics/8.3.40 available  Update with 'pip install -U ultralytics'\n",
      "Ultralytics 8.3.5  Python-3.9.20 torch-2.4.1+cu121 CUDA:0 (NVIDIA GeForce RTX 3050 Laptop GPU, 4096MiB)\n",
      "\u001b[34m\u001b[1mengine\\trainer: \u001b[0mtask=detect, mode=train, model=D:\\tarimda_yapay_zeka\\yolo11n.pt, data=C:\\Users\\Mehmet\\Desktop\\splited_wheat_dataset\\wheat_dataset_yaml.yaml, epochs=20, time=None, patience=100, batch=4, imgsz=640, save=True, save_period=-1, cache=False, device=None, workers=8, project=C:\\Users\\Mehmet\\Desktop\\whead_dataset\\results, name=train7, exist_ok=False, pretrained=True, optimizer=auto, verbose=True, seed=0, deterministic=True, single_cls=False, rect=False, cos_lr=False, close_mosaic=10, resume=False, amp=True, fraction=1.0, profile=False, freeze=None, multi_scale=False, overlap_mask=True, mask_ratio=4, dropout=0.0, val=True, split=val, save_json=False, save_hybrid=False, conf=None, iou=0.7, max_det=300, half=False, dnn=False, plots=True, source=None, vid_stride=1, stream_buffer=False, visualize=False, augment=False, agnostic_nms=False, classes=None, retina_masks=False, embed=None, show=False, save_frames=False, save_txt=False, save_conf=False, save_crop=False, show_labels=True, show_conf=True, show_boxes=True, line_width=None, format=torchscript, keras=False, optimize=False, int8=False, dynamic=False, simplify=True, opset=None, workspace=4, nms=False, lr0=0.01, lrf=0.01, momentum=0.937, weight_decay=0.0005, warmup_epochs=3.0, warmup_momentum=0.8, warmup_bias_lr=0.1, box=7.5, cls=0.5, dfl=1.5, pose=12.0, kobj=1.0, label_smoothing=0.0, nbs=64, hsv_h=0.015, hsv_s=0.7, hsv_v=0.4, degrees=0.0, translate=0.1, scale=0.5, shear=0.0, perspective=0.0, flipud=0.0, fliplr=0.5, bgr=0.0, mosaic=1.0, mixup=0.0, copy_paste=0.0, copy_paste_mode=flip, auto_augment=randaugment, erasing=0.4, crop_fraction=1.0, cfg=None, tracker=botsort.yaml, save_dir=C:\\Users\\Mehmet\\Desktop\\whead_dataset\\results\\train7\n",
      "Overriding model.yaml nc=80 with nc=10\n",
      "\n",
      "                   from  n    params  module                                       arguments                     \n",
      "  0                  -1  1       464  ultralytics.nn.modules.conv.Conv             [3, 16, 3, 2]                 \n",
      "  1                  -1  1      4672  ultralytics.nn.modules.conv.Conv             [16, 32, 3, 2]                \n",
      "  2                  -1  1      6640  ultralytics.nn.modules.block.C3k2            [32, 64, 1, False, 0.25]      \n",
      "  3                  -1  1     36992  ultralytics.nn.modules.conv.Conv             [64, 64, 3, 2]                \n",
      "  4                  -1  1     26080  ultralytics.nn.modules.block.C3k2            [64, 128, 1, False, 0.25]     \n",
      "  5                  -1  1    147712  ultralytics.nn.modules.conv.Conv             [128, 128, 3, 2]              \n",
      "  6                  -1  1     87040  ultralytics.nn.modules.block.C3k2            [128, 128, 1, True]           \n",
      "  7                  -1  1    295424  ultralytics.nn.modules.conv.Conv             [128, 256, 3, 2]              \n",
      "  8                  -1  1    346112  ultralytics.nn.modules.block.C3k2            [256, 256, 1, True]           \n",
      "  9                  -1  1    164608  ultralytics.nn.modules.block.SPPF            [256, 256, 5]                 \n",
      " 10                  -1  1    249728  ultralytics.nn.modules.block.C2PSA           [256, 256, 1]                 \n",
      " 11                  -1  1         0  torch.nn.modules.upsampling.Upsample         [None, 2, 'nearest']          \n",
      " 12             [-1, 6]  1         0  ultralytics.nn.modules.conv.Concat           [1]                           \n",
      " 13                  -1  1    111296  ultralytics.nn.modules.block.C3k2            [384, 128, 1, False]          \n",
      " 14                  -1  1         0  torch.nn.modules.upsampling.Upsample         [None, 2, 'nearest']          \n",
      " 15             [-1, 4]  1         0  ultralytics.nn.modules.conv.Concat           [1]                           \n",
      " 16                  -1  1     32096  ultralytics.nn.modules.block.C3k2            [256, 64, 1, False]           \n",
      " 17                  -1  1     36992  ultralytics.nn.modules.conv.Conv             [64, 64, 3, 2]                \n",
      " 18            [-1, 13]  1         0  ultralytics.nn.modules.conv.Concat           [1]                           \n",
      " 19                  -1  1     86720  ultralytics.nn.modules.block.C3k2            [192, 128, 1, False]          \n",
      " 20                  -1  1    147712  ultralytics.nn.modules.conv.Conv             [128, 128, 3, 2]              \n",
      " 21            [-1, 10]  1         0  ultralytics.nn.modules.conv.Concat           [1]                           \n",
      " 22                  -1  1    378880  ultralytics.nn.modules.block.C3k2            [384, 256, 1, True]           \n",
      " 23        [16, 19, 22]  1    432622  ultralytics.nn.modules.head.Detect           [10, [64, 128, 256]]          \n",
      "YOLO11n summary: 319 layers, 2,591,790 parameters, 2,591,774 gradients, 6.5 GFLOPs\n",
      "\n",
      "Transferred 448/499 items from pretrained weights\n",
      "Freezing layer 'model.23.dfl.conv.weight'\n",
      "\u001b[34m\u001b[1mAMP: \u001b[0mrunning Automatic Mixed Precision (AMP) checks with YOLO11n...\n",
      "\u001b[34m\u001b[1mAMP: \u001b[0mchecks passed \n"
     ]
    },
    {
     "name": "stderr",
     "output_type": "stream",
     "text": [
      "\u001b[34m\u001b[1mtrain: \u001b[0mScanning C:\\Users\\Mehmet\\Desktop\\new_splited_wheat_dataset\\tmp_train\\labels\\Bayraktar2000Vitreous... 676 images, 0 backgrounds, 0 corrupt: 100%|██████████| 676/676 [00:28<00:00, 23.47it/s]"
     ]
    },
    {
     "name": "stdout",
     "output_type": "stream",
     "text": [
      "\u001b[34m\u001b[1mtrain: \u001b[0mWARNING  C:\\Users\\Mehmet\\Desktop\\new_splited_wheat_dataset\\tmp_train\\images\\Bayraktar2000Vitreous\\20220426_144726.jpg: corrupt JPEG restored and saved\n",
      "\u001b[34m\u001b[1mtrain: \u001b[0mWARNING  C:\\Users\\Mehmet\\Desktop\\new_splited_wheat_dataset\\tmp_train\\images\\Bayraktar2000Vitreous\\20220426_144729.jpg: corrupt JPEG restored and saved\n",
      "\u001b[34m\u001b[1mtrain: \u001b[0mWARNING  C:\\Users\\Mehmet\\Desktop\\new_splited_wheat_dataset\\tmp_train\\images\\Bayraktar2000Vitreous\\20220426_144735.jpg: corrupt JPEG restored and saved\n",
      "\u001b[34m\u001b[1mtrain: \u001b[0mWARNING  C:\\Users\\Mehmet\\Desktop\\new_splited_wheat_dataset\\tmp_train\\images\\Bayraktar2000Vitreous\\20220426_144737.jpg: corrupt JPEG restored and saved\n",
      "\u001b[34m\u001b[1mtrain: \u001b[0mWARNING  C:\\Users\\Mehmet\\Desktop\\new_splited_wheat_dataset\\tmp_train\\images\\Bayraktar2000Vitreous\\20220426_144740.jpg: corrupt JPEG restored and saved\n",
      "\u001b[34m\u001b[1mtrain: \u001b[0mWARNING  C:\\Users\\Mehmet\\Desktop\\new_splited_wheat_dataset\\tmp_train\\images\\Bayraktar2000Vitreous\\20220426_144744.jpg: corrupt JPEG restored and saved\n",
      "\u001b[34m\u001b[1mtrain: \u001b[0mWARNING  C:\\Users\\Mehmet\\Desktop\\new_splited_wheat_dataset\\tmp_train\\images\\Bayraktar2000Vitreous\\20220426_144748.jpg: corrupt JPEG restored and saved\n",
      "\u001b[34m\u001b[1mtrain: \u001b[0mWARNING  C:\\Users\\Mehmet\\Desktop\\new_splited_wheat_dataset\\tmp_train\\images\\Bayraktar2000Vitreous\\20220426_144753.jpg: corrupt JPEG restored and saved\n",
      "\u001b[34m\u001b[1mtrain: \u001b[0mWARNING  C:\\Users\\Mehmet\\Desktop\\new_splited_wheat_dataset\\tmp_train\\images\\Bayraktar2000Vitreous\\20220426_144759.jpg: corrupt JPEG restored and saved\n",
      "\u001b[34m\u001b[1mtrain: \u001b[0mWARNING  C:\\Users\\Mehmet\\Desktop\\new_splited_wheat_dataset\\tmp_train\\images\\Bayraktar2000Vitreous\\20220426_144801.jpg: corrupt JPEG restored and saved\n",
      "\u001b[34m\u001b[1mtrain: \u001b[0mWARNING  C:\\Users\\Mehmet\\Desktop\\new_splited_wheat_dataset\\tmp_train\\images\\Bayraktar2000Vitreous\\20220426_144806.jpg: corrupt JPEG restored and saved\n",
      "\u001b[34m\u001b[1mtrain: \u001b[0mWARNING  C:\\Users\\Mehmet\\Desktop\\new_splited_wheat_dataset\\tmp_train\\images\\Bayraktar2000Vitreous\\20220426_144809.jpg: corrupt JPEG restored and saved\n",
      "\u001b[34m\u001b[1mtrain: \u001b[0mWARNING  C:\\Users\\Mehmet\\Desktop\\new_splited_wheat_dataset\\tmp_train\\images\\Bayraktar2000Vitreous\\20220426_144811.jpg: corrupt JPEG restored and saved\n",
      "\u001b[34m\u001b[1mtrain: \u001b[0mWARNING  C:\\Users\\Mehmet\\Desktop\\new_splited_wheat_dataset\\tmp_train\\images\\Bayraktar2000Vitreous\\20220426_144814.jpg: corrupt JPEG restored and saved\n",
      "\u001b[34m\u001b[1mtrain: \u001b[0mWARNING  C:\\Users\\Mehmet\\Desktop\\new_splited_wheat_dataset\\tmp_train\\images\\Bayraktar2000Vitreous\\20220426_144824.jpg: corrupt JPEG restored and saved\n",
      "\u001b[34m\u001b[1mtrain: \u001b[0mWARNING  C:\\Users\\Mehmet\\Desktop\\new_splited_wheat_dataset\\tmp_train\\images\\Bayraktar2000Vitreous\\20220426_144826.jpg: corrupt JPEG restored and saved\n",
      "\u001b[34m\u001b[1mtrain: \u001b[0mWARNING  C:\\Users\\Mehmet\\Desktop\\new_splited_wheat_dataset\\tmp_train\\images\\Bayraktar2000Vitreous\\20220426_144834.jpg: corrupt JPEG restored and saved\n",
      "\u001b[34m\u001b[1mtrain: \u001b[0mWARNING  C:\\Users\\Mehmet\\Desktop\\new_splited_wheat_dataset\\tmp_train\\images\\Bayraktar2000Vitreous\\20220426_144838.jpg: corrupt JPEG restored and saved\n",
      "\u001b[34m\u001b[1mtrain: \u001b[0mWARNING  C:\\Users\\Mehmet\\Desktop\\new_splited_wheat_dataset\\tmp_train\\images\\Bayraktar2000Vitreous\\20220426_144841.jpg: corrupt JPEG restored and saved\n",
      "\u001b[34m\u001b[1mtrain: \u001b[0mWARNING  C:\\Users\\Mehmet\\Desktop\\new_splited_wheat_dataset\\tmp_train\\images\\Bayraktar2000Vitreous\\20220426_144844.jpg: corrupt JPEG restored and saved\n",
      "\u001b[34m\u001b[1mtrain: \u001b[0mWARNING  C:\\Users\\Mehmet\\Desktop\\new_splited_wheat_dataset\\tmp_train\\images\\Bayraktar2000Vitreous\\20220426_144846.jpg: corrupt JPEG restored and saved\n",
      "\u001b[34m\u001b[1mtrain: \u001b[0mWARNING  C:\\Users\\Mehmet\\Desktop\\new_splited_wheat_dataset\\tmp_train\\images\\Bayraktar2000Vitreous\\20220426_144856.jpg: corrupt JPEG restored and saved\n",
      "\u001b[34m\u001b[1mtrain: \u001b[0mWARNING  C:\\Users\\Mehmet\\Desktop\\new_splited_wheat_dataset\\tmp_train\\images\\Bayraktar2000Vitreous\\20220426_144858.jpg: corrupt JPEG restored and saved\n",
      "\u001b[34m\u001b[1mtrain: \u001b[0mWARNING  C:\\Users\\Mehmet\\Desktop\\new_splited_wheat_dataset\\tmp_train\\images\\Bayraktar2000Vitreous\\20220426_144900.jpg: corrupt JPEG restored and saved\n",
      "\u001b[34m\u001b[1mtrain: \u001b[0mWARNING  C:\\Users\\Mehmet\\Desktop\\new_splited_wheat_dataset\\tmp_train\\images\\Bayraktar2000Vitreous\\20220426_144905.jpg: corrupt JPEG restored and saved\n",
      "\u001b[34m\u001b[1mtrain: \u001b[0mWARNING  C:\\Users\\Mehmet\\Desktop\\new_splited_wheat_dataset\\tmp_train\\images\\Bayraktar2000Vitreous\\20220426_144919.jpg: corrupt JPEG restored and saved\n",
      "\u001b[34m\u001b[1mtrain: \u001b[0mWARNING  C:\\Users\\Mehmet\\Desktop\\new_splited_wheat_dataset\\tmp_train\\images\\Bayraktar2000Vitreous\\20220426_144935.jpg: corrupt JPEG restored and saved\n",
      "\u001b[34m\u001b[1mtrain: \u001b[0mWARNING  C:\\Users\\Mehmet\\Desktop\\new_splited_wheat_dataset\\tmp_train\\images\\Bayraktar2000Vitreous\\20220426_144937.jpg: corrupt JPEG restored and saved\n",
      "\u001b[34m\u001b[1mtrain: \u001b[0mWARNING  C:\\Users\\Mehmet\\Desktop\\new_splited_wheat_dataset\\tmp_train\\images\\Bayraktar2000Vitreous\\20220426_144944.jpg: corrupt JPEG restored and saved\n",
      "\u001b[34m\u001b[1mtrain: \u001b[0mWARNING  C:\\Users\\Mehmet\\Desktop\\new_splited_wheat_dataset\\tmp_train\\images\\Bayraktar2000Vitreous\\20220426_144956.jpg: corrupt JPEG restored and saved\n",
      "\u001b[34m\u001b[1mtrain: \u001b[0mWARNING  C:\\Users\\Mehmet\\Desktop\\new_splited_wheat_dataset\\tmp_train\\images\\Bayraktar2000Vitreous\\20220426_145001.jpg: corrupt JPEG restored and saved\n",
      "\u001b[34m\u001b[1mtrain: \u001b[0mWARNING  C:\\Users\\Mehmet\\Desktop\\new_splited_wheat_dataset\\tmp_train\\images\\Bayraktar2000Vitreous\\20220426_145003.jpg: corrupt JPEG restored and saved\n",
      "\u001b[34m\u001b[1mtrain: \u001b[0mWARNING  C:\\Users\\Mehmet\\Desktop\\new_splited_wheat_dataset\\tmp_train\\images\\Bayraktar2000Vitreous\\20220426_145005.jpg: corrupt JPEG restored and saved\n",
      "\u001b[34m\u001b[1mtrain: \u001b[0mWARNING  C:\\Users\\Mehmet\\Desktop\\new_splited_wheat_dataset\\tmp_train\\images\\Bayraktar2000Vitreous\\20220426_145008.jpg: corrupt JPEG restored and saved\n",
      "\u001b[34m\u001b[1mtrain: \u001b[0mWARNING  C:\\Users\\Mehmet\\Desktop\\new_splited_wheat_dataset\\tmp_train\\images\\Bayraktar2000Vitreous\\20220426_145029.jpg: corrupt JPEG restored and saved\n",
      "\u001b[34m\u001b[1mtrain: \u001b[0mWARNING  C:\\Users\\Mehmet\\Desktop\\new_splited_wheat_dataset\\tmp_train\\images\\Bayraktar2000Vitreous\\20220426_145032.jpg: corrupt JPEG restored and saved\n",
      "\u001b[34m\u001b[1mtrain: \u001b[0mWARNING  C:\\Users\\Mehmet\\Desktop\\new_splited_wheat_dataset\\tmp_train\\images\\Bayraktar2000Vitreous\\20220426_145115.jpg: corrupt JPEG restored and saved\n",
      "\u001b[34m\u001b[1mtrain: \u001b[0mWARNING  C:\\Users\\Mehmet\\Desktop\\new_splited_wheat_dataset\\tmp_train\\images\\Bayraktar2000Vitreous\\20220426_145119.jpg: corrupt JPEG restored and saved\n",
      "\u001b[34m\u001b[1mtrain: \u001b[0mWARNING  C:\\Users\\Mehmet\\Desktop\\new_splited_wheat_dataset\\tmp_train\\images\\Bayraktar2000Vitreous\\20220426_145122.jpg: corrupt JPEG restored and saved\n",
      "\u001b[34m\u001b[1mtrain: \u001b[0mWARNING  C:\\Users\\Mehmet\\Desktop\\new_splited_wheat_dataset\\tmp_train\\images\\Bayraktar2000Vitreous\\20220426_145127.jpg: corrupt JPEG restored and saved\n",
      "\u001b[34m\u001b[1mtrain: \u001b[0mWARNING  C:\\Users\\Mehmet\\Desktop\\new_splited_wheat_dataset\\tmp_train\\images\\Bayraktar2000Vitreous\\20220426_145129.jpg: corrupt JPEG restored and saved\n",
      "\u001b[34m\u001b[1mtrain: \u001b[0mWARNING  C:\\Users\\Mehmet\\Desktop\\new_splited_wheat_dataset\\tmp_train\\images\\Bayraktar2000Vitreous\\20220426_145137.jpg: corrupt JPEG restored and saved\n",
      "\u001b[34m\u001b[1mtrain: \u001b[0mWARNING  C:\\Users\\Mehmet\\Desktop\\new_splited_wheat_dataset\\tmp_train\\images\\Bayraktar2000Vitreous\\20220426_145151.jpg: corrupt JPEG restored and saved\n",
      "\u001b[34m\u001b[1mtrain: \u001b[0mWARNING  C:\\Users\\Mehmet\\Desktop\\new_splited_wheat_dataset\\tmp_train\\images\\Bayraktar2000Vitreous\\20220426_145157.jpg: corrupt JPEG restored and saved\n",
      "\u001b[34m\u001b[1mtrain: \u001b[0mWARNING  C:\\Users\\Mehmet\\Desktop\\new_splited_wheat_dataset\\tmp_train\\images\\Bayraktar2000Vitreous\\20220426_145200.jpg: corrupt JPEG restored and saved\n",
      "\u001b[34m\u001b[1mtrain: \u001b[0mWARNING  C:\\Users\\Mehmet\\Desktop\\new_splited_wheat_dataset\\tmp_train\\images\\Bayraktar2000Vitreous\\20220426_145215.jpg: corrupt JPEG restored and saved\n",
      "\u001b[34m\u001b[1mtrain: \u001b[0mWARNING  C:\\Users\\Mehmet\\Desktop\\new_splited_wheat_dataset\\tmp_train\\images\\Bayraktar2000Vitreous\\20220426_145234.jpg: corrupt JPEG restored and saved\n",
      "\u001b[34m\u001b[1mtrain: \u001b[0mWARNING  C:\\Users\\Mehmet\\Desktop\\new_splited_wheat_dataset\\tmp_train\\images\\Bayraktar2000Vitreous\\20220426_145237.jpg: corrupt JPEG restored and saved\n",
      "\u001b[34m\u001b[1mtrain: \u001b[0mWARNING  C:\\Users\\Mehmet\\Desktop\\new_splited_wheat_dataset\\tmp_train\\images\\Bayraktar2000Vitreous\\20220426_145246.jpg: corrupt JPEG restored and saved\n",
      "\u001b[34m\u001b[1mtrain: \u001b[0mWARNING  C:\\Users\\Mehmet\\Desktop\\new_splited_wheat_dataset\\tmp_train\\images\\Bayraktar2000Vitreous\\20220426_145249.jpg: corrupt JPEG restored and saved\n",
      "\u001b[34m\u001b[1mtrain: \u001b[0mWARNING  C:\\Users\\Mehmet\\Desktop\\new_splited_wheat_dataset\\tmp_train\\images\\Bayraktar2000Vitreous\\20220426_145256.jpg: corrupt JPEG restored and saved\n",
      "\u001b[34m\u001b[1mtrain: \u001b[0mWARNING  C:\\Users\\Mehmet\\Desktop\\new_splited_wheat_dataset\\tmp_train\\images\\Bayraktar2000Vitreous\\20220426_145259.jpg: corrupt JPEG restored and saved\n",
      "\u001b[34m\u001b[1mtrain: \u001b[0mWARNING  C:\\Users\\Mehmet\\Desktop\\new_splited_wheat_dataset\\tmp_train\\images\\Bayraktar2000Vitreous\\20220426_145301.jpg: corrupt JPEG restored and saved\n",
      "\u001b[34m\u001b[1mtrain: \u001b[0mWARNING  C:\\Users\\Mehmet\\Desktop\\new_splited_wheat_dataset\\tmp_train\\images\\Bayraktar2000Vitreous\\20220426_145304.jpg: corrupt JPEG restored and saved\n",
      "\u001b[34m\u001b[1mtrain: \u001b[0mWARNING  C:\\Users\\Mehmet\\Desktop\\new_splited_wheat_dataset\\tmp_train\\images\\Bayraktar2000Vitreous\\20220426_145306.jpg: corrupt JPEG restored and saved\n",
      "\u001b[34m\u001b[1mtrain: \u001b[0mWARNING  C:\\Users\\Mehmet\\Desktop\\new_splited_wheat_dataset\\tmp_train\\images\\Bayraktar2000Vitreous\\20220426_145317.jpg: corrupt JPEG restored and saved\n",
      "\u001b[34m\u001b[1mtrain: \u001b[0mWARNING  C:\\Users\\Mehmet\\Desktop\\new_splited_wheat_dataset\\tmp_train\\images\\Bayraktar2000Vitreous\\20220426_145321.jpg: corrupt JPEG restored and saved\n",
      "\u001b[34m\u001b[1mtrain: \u001b[0mWARNING  C:\\Users\\Mehmet\\Desktop\\new_splited_wheat_dataset\\tmp_train\\images\\Bayraktar2000Vitreous\\20220426_145353.jpg: corrupt JPEG restored and saved\n",
      "\u001b[34m\u001b[1mtrain: \u001b[0mWARNING  C:\\Users\\Mehmet\\Desktop\\new_splited_wheat_dataset\\tmp_train\\images\\Bayraktar2000Vitreous\\20220426_145404.jpg: corrupt JPEG restored and saved\n",
      "\u001b[34m\u001b[1mtrain: \u001b[0mWARNING  C:\\Users\\Mehmet\\Desktop\\new_splited_wheat_dataset\\tmp_train\\images\\Bezostaja1Vitreous\\20220425_152222.jpg: corrupt JPEG restored and saved\n",
      "\u001b[34m\u001b[1mtrain: \u001b[0mWARNING  C:\\Users\\Mehmet\\Desktop\\new_splited_wheat_dataset\\tmp_train\\images\\Bezostaja1Vitreous\\20220425_152232.jpg: corrupt JPEG restored and saved\n",
      "\u001b[34m\u001b[1mtrain: \u001b[0mWARNING  C:\\Users\\Mehmet\\Desktop\\new_splited_wheat_dataset\\tmp_train\\images\\Bezostaja1Vitreous\\20220425_152244.jpg: corrupt JPEG restored and saved\n",
      "\u001b[34m\u001b[1mtrain: \u001b[0mWARNING  C:\\Users\\Mehmet\\Desktop\\new_splited_wheat_dataset\\tmp_train\\images\\Bezostaja1Vitreous\\20220425_152247.jpg: corrupt JPEG restored and saved\n",
      "\u001b[34m\u001b[1mtrain: \u001b[0mWARNING  C:\\Users\\Mehmet\\Desktop\\new_splited_wheat_dataset\\tmp_train\\images\\Bezostaja1Vitreous\\20220425_152310.jpg: corrupt JPEG restored and saved\n",
      "\u001b[34m\u001b[1mtrain: \u001b[0mWARNING  C:\\Users\\Mehmet\\Desktop\\new_splited_wheat_dataset\\tmp_train\\images\\Bezostaja1Vitreous\\20220425_152313.jpg: corrupt JPEG restored and saved\n",
      "\u001b[34m\u001b[1mtrain: \u001b[0mWARNING  C:\\Users\\Mehmet\\Desktop\\new_splited_wheat_dataset\\tmp_train\\images\\Bezostaja1Vitreous\\20220425_152330.jpg: corrupt JPEG restored and saved\n",
      "\u001b[34m\u001b[1mtrain: \u001b[0mWARNING  C:\\Users\\Mehmet\\Desktop\\new_splited_wheat_dataset\\tmp_train\\images\\Bezostaja1Vitreous\\20220425_152334.jpg: corrupt JPEG restored and saved\n",
      "\u001b[34m\u001b[1mtrain: \u001b[0mWARNING  C:\\Users\\Mehmet\\Desktop\\new_splited_wheat_dataset\\tmp_train\\images\\Bezostaja1Vitreous\\20220425_152340.jpg: corrupt JPEG restored and saved\n",
      "\u001b[34m\u001b[1mtrain: \u001b[0mWARNING  C:\\Users\\Mehmet\\Desktop\\new_splited_wheat_dataset\\tmp_train\\images\\Bezostaja1Vitreous\\20220425_152358.jpg: corrupt JPEG restored and saved\n",
      "\u001b[34m\u001b[1mtrain: \u001b[0mWARNING  C:\\Users\\Mehmet\\Desktop\\new_splited_wheat_dataset\\tmp_train\\images\\Bezostaja1Vitreous\\20220425_152407.jpg: corrupt JPEG restored and saved\n",
      "\u001b[34m\u001b[1mtrain: \u001b[0mWARNING  C:\\Users\\Mehmet\\Desktop\\new_splited_wheat_dataset\\tmp_train\\images\\Bezostaja1Vitreous\\20220425_152414.jpg: corrupt JPEG restored and saved\n",
      "\u001b[34m\u001b[1mtrain: \u001b[0mWARNING  C:\\Users\\Mehmet\\Desktop\\new_splited_wheat_dataset\\tmp_train\\images\\Bezostaja1Vitreous\\20220425_152417.jpg: corrupt JPEG restored and saved\n",
      "\u001b[34m\u001b[1mtrain: \u001b[0mWARNING  C:\\Users\\Mehmet\\Desktop\\new_splited_wheat_dataset\\tmp_train\\images\\Bezostaja1Vitreous\\20220425_152420.jpg: corrupt JPEG restored and saved\n",
      "\u001b[34m\u001b[1mtrain: \u001b[0mWARNING  C:\\Users\\Mehmet\\Desktop\\new_splited_wheat_dataset\\tmp_train\\images\\Bezostaja1Vitreous\\20220425_152423.jpg: corrupt JPEG restored and saved\n",
      "\u001b[34m\u001b[1mtrain: \u001b[0mWARNING  C:\\Users\\Mehmet\\Desktop\\new_splited_wheat_dataset\\tmp_train\\images\\Bezostaja1Vitreous\\20220425_152426.jpg: corrupt JPEG restored and saved\n",
      "\u001b[34m\u001b[1mtrain: \u001b[0mWARNING  C:\\Users\\Mehmet\\Desktop\\new_splited_wheat_dataset\\tmp_train\\images\\Bezostaja1Vitreous\\20220425_152429.jpg: corrupt JPEG restored and saved\n",
      "\u001b[34m\u001b[1mtrain: \u001b[0mWARNING  C:\\Users\\Mehmet\\Desktop\\new_splited_wheat_dataset\\tmp_train\\images\\Bezostaja1Vitreous\\20220425_152438.jpg: corrupt JPEG restored and saved\n",
      "\u001b[34m\u001b[1mtrain: \u001b[0mWARNING  C:\\Users\\Mehmet\\Desktop\\new_splited_wheat_dataset\\tmp_train\\images\\Bezostaja1Vitreous\\20220425_152446.jpg: corrupt JPEG restored and saved\n",
      "\u001b[34m\u001b[1mtrain: \u001b[0mWARNING  C:\\Users\\Mehmet\\Desktop\\new_splited_wheat_dataset\\tmp_train\\images\\Bezostaja1Vitreous\\20220425_152502.jpg: corrupt JPEG restored and saved\n",
      "\u001b[34m\u001b[1mtrain: \u001b[0mWARNING  C:\\Users\\Mehmet\\Desktop\\new_splited_wheat_dataset\\tmp_train\\images\\Bezostaja1Vitreous\\20220425_152509.jpg: corrupt JPEG restored and saved\n",
      "\u001b[34m\u001b[1mtrain: \u001b[0mWARNING  C:\\Users\\Mehmet\\Desktop\\new_splited_wheat_dataset\\tmp_train\\images\\Bezostaja1Vitreous\\20220425_152522.jpg: corrupt JPEG restored and saved\n",
      "\u001b[34m\u001b[1mtrain: \u001b[0mWARNING  C:\\Users\\Mehmet\\Desktop\\new_splited_wheat_dataset\\tmp_train\\images\\Bezostaja1Vitreous\\20220425_152534.jpg: corrupt JPEG restored and saved\n",
      "\u001b[34m\u001b[1mtrain: \u001b[0mWARNING  C:\\Users\\Mehmet\\Desktop\\new_splited_wheat_dataset\\tmp_train\\images\\Bezostaja1Vitreous\\20220425_152538.jpg: corrupt JPEG restored and saved\n",
      "\u001b[34m\u001b[1mtrain: \u001b[0mWARNING  C:\\Users\\Mehmet\\Desktop\\new_splited_wheat_dataset\\tmp_train\\images\\Bezostaja1Vitreous\\20220425_152541.jpg: corrupt JPEG restored and saved\n",
      "\u001b[34m\u001b[1mtrain: \u001b[0mWARNING  C:\\Users\\Mehmet\\Desktop\\new_splited_wheat_dataset\\tmp_train\\images\\Bezostaja1Vitreous\\20220425_152545.jpg: corrupt JPEG restored and saved\n",
      "\u001b[34m\u001b[1mtrain: \u001b[0mWARNING  C:\\Users\\Mehmet\\Desktop\\new_splited_wheat_dataset\\tmp_train\\images\\Bezostaja1Vitreous\\20220425_152548.jpg: corrupt JPEG restored and saved\n",
      "\u001b[34m\u001b[1mtrain: \u001b[0mWARNING  C:\\Users\\Mehmet\\Desktop\\new_splited_wheat_dataset\\tmp_train\\images\\Bezostaja1Vitreous\\20220425_152553.jpg: corrupt JPEG restored and saved\n",
      "\u001b[34m\u001b[1mtrain: \u001b[0mWARNING  C:\\Users\\Mehmet\\Desktop\\new_splited_wheat_dataset\\tmp_train\\images\\Bezostaja1Vitreous\\20220425_152557.jpg: corrupt JPEG restored and saved\n",
      "\u001b[34m\u001b[1mtrain: \u001b[0mWARNING  C:\\Users\\Mehmet\\Desktop\\new_splited_wheat_dataset\\tmp_train\\images\\Bezostaja1Vitreous\\20220425_152601.jpg: corrupt JPEG restored and saved\n",
      "\u001b[34m\u001b[1mtrain: \u001b[0mWARNING  C:\\Users\\Mehmet\\Desktop\\new_splited_wheat_dataset\\tmp_train\\images\\Bezostaja1Vitreous\\20220425_152619.jpg: corrupt JPEG restored and saved\n",
      "\u001b[34m\u001b[1mtrain: \u001b[0mWARNING  C:\\Users\\Mehmet\\Desktop\\new_splited_wheat_dataset\\tmp_train\\images\\Bezostaja1Vitreous\\20220425_152623.jpg: corrupt JPEG restored and saved\n",
      "\u001b[34m\u001b[1mtrain: \u001b[0mWARNING  C:\\Users\\Mehmet\\Desktop\\new_splited_wheat_dataset\\tmp_train\\images\\Bezostaja1Vitreous\\20220425_152626.jpg: corrupt JPEG restored and saved\n",
      "\u001b[34m\u001b[1mtrain: \u001b[0mWARNING  C:\\Users\\Mehmet\\Desktop\\new_splited_wheat_dataset\\tmp_train\\images\\Bezostaja1Vitreous\\20220425_152632.jpg: corrupt JPEG restored and saved\n",
      "\u001b[34m\u001b[1mtrain: \u001b[0mWARNING  C:\\Users\\Mehmet\\Desktop\\new_splited_wheat_dataset\\tmp_train\\images\\Bezostaja1Vitreous\\20220425_152638.jpg: corrupt JPEG restored and saved\n",
      "\u001b[34m\u001b[1mtrain: \u001b[0mWARNING  C:\\Users\\Mehmet\\Desktop\\new_splited_wheat_dataset\\tmp_train\\images\\Bezostaja1Vitreous\\20220425_152641.jpg: corrupt JPEG restored and saved\n",
      "\u001b[34m\u001b[1mtrain: \u001b[0mWARNING  C:\\Users\\Mehmet\\Desktop\\new_splited_wheat_dataset\\tmp_train\\images\\Bezostaja1Vitreous\\20220425_152645.jpg: corrupt JPEG restored and saved\n",
      "\u001b[34m\u001b[1mtrain: \u001b[0mWARNING  C:\\Users\\Mehmet\\Desktop\\new_splited_wheat_dataset\\tmp_train\\images\\Bezostaja1Vitreous\\20220425_152647.jpg: corrupt JPEG restored and saved\n",
      "\u001b[34m\u001b[1mtrain: \u001b[0mWARNING  C:\\Users\\Mehmet\\Desktop\\new_splited_wheat_dataset\\tmp_train\\images\\Bezostaja1Vitreous\\20220425_152650.jpg: corrupt JPEG restored and saved\n",
      "\u001b[34m\u001b[1mtrain: \u001b[0mWARNING  C:\\Users\\Mehmet\\Desktop\\new_splited_wheat_dataset\\tmp_train\\images\\Bezostaja1Vitreous\\20220425_154529.jpg: corrupt JPEG restored and saved\n",
      "\u001b[34m\u001b[1mtrain: \u001b[0mWARNING  C:\\Users\\Mehmet\\Desktop\\new_splited_wheat_dataset\\tmp_train\\images\\Bezostaja1Vitreous\\20220425_154532.jpg: corrupt JPEG restored and saved\n",
      "\u001b[34m\u001b[1mtrain: \u001b[0mWARNING  C:\\Users\\Mehmet\\Desktop\\new_splited_wheat_dataset\\tmp_train\\images\\Bezostaja1Vitreous\\20220425_154534.jpg: corrupt JPEG restored and saved\n",
      "\u001b[34m\u001b[1mtrain: \u001b[0mWARNING  C:\\Users\\Mehmet\\Desktop\\new_splited_wheat_dataset\\tmp_train\\images\\Bezostaja1Vitreous\\20220425_154536.jpg: corrupt JPEG restored and saved\n",
      "\u001b[34m\u001b[1mtrain: \u001b[0mWARNING  C:\\Users\\Mehmet\\Desktop\\new_splited_wheat_dataset\\tmp_train\\images\\Bezostaja1Vitreous\\20220425_154546.jpg: corrupt JPEG restored and saved\n",
      "\u001b[34m\u001b[1mtrain: \u001b[0mWARNING  C:\\Users\\Mehmet\\Desktop\\new_splited_wheat_dataset\\tmp_train\\images\\Bezostaja1Vitreous\\20220425_154554.jpg: corrupt JPEG restored and saved\n",
      "\u001b[34m\u001b[1mtrain: \u001b[0mWARNING  C:\\Users\\Mehmet\\Desktop\\new_splited_wheat_dataset\\tmp_train\\images\\Bezostaja1Vitreous\\20220425_154558.jpg: corrupt JPEG restored and saved\n",
      "\u001b[34m\u001b[1mtrain: \u001b[0mWARNING  C:\\Users\\Mehmet\\Desktop\\new_splited_wheat_dataset\\tmp_train\\images\\Bezostaja1Vitreous\\20220425_154603.jpg: corrupt JPEG restored and saved\n",
      "\u001b[34m\u001b[1mtrain: \u001b[0mWARNING  C:\\Users\\Mehmet\\Desktop\\new_splited_wheat_dataset\\tmp_train\\images\\Bezostaja1Vitreous\\20220425_154606.jpg: corrupt JPEG restored and saved\n",
      "\u001b[34m\u001b[1mtrain: \u001b[0mWARNING  C:\\Users\\Mehmet\\Desktop\\new_splited_wheat_dataset\\tmp_train\\images\\Bezostaja1Vitreous\\20220425_154612.jpg: corrupt JPEG restored and saved\n",
      "\u001b[34m\u001b[1mtrain: \u001b[0mWARNING  C:\\Users\\Mehmet\\Desktop\\new_splited_wheat_dataset\\tmp_train\\images\\Bezostaja1Vitreous\\20220425_154622.jpg: corrupt JPEG restored and saved\n",
      "\u001b[34m\u001b[1mtrain: \u001b[0mWARNING  C:\\Users\\Mehmet\\Desktop\\new_splited_wheat_dataset\\tmp_train\\images\\Bezostaja1Vitreous\\20220425_154628.jpg: corrupt JPEG restored and saved\n",
      "\u001b[34m\u001b[1mtrain: \u001b[0mWARNING  C:\\Users\\Mehmet\\Desktop\\new_splited_wheat_dataset\\tmp_train\\images\\Bezostaja1Vitreous\\20220425_154632.jpg: corrupt JPEG restored and saved\n",
      "\u001b[34m\u001b[1mtrain: \u001b[0mWARNING  C:\\Users\\Mehmet\\Desktop\\new_splited_wheat_dataset\\tmp_train\\images\\Bezostaja1Vitreous\\20220425_154635.jpg: corrupt JPEG restored and saved\n",
      "\u001b[34m\u001b[1mtrain: \u001b[0mWARNING  C:\\Users\\Mehmet\\Desktop\\new_splited_wheat_dataset\\tmp_train\\images\\Bezostaja1Vitreous\\20220425_154640.jpg: corrupt JPEG restored and saved\n",
      "\u001b[34m\u001b[1mtrain: \u001b[0mWARNING  C:\\Users\\Mehmet\\Desktop\\new_splited_wheat_dataset\\tmp_train\\images\\Bezostaja1Vitreous\\20220425_154642.jpg: corrupt JPEG restored and saved\n",
      "\u001b[34m\u001b[1mtrain: \u001b[0mWARNING  C:\\Users\\Mehmet\\Desktop\\new_splited_wheat_dataset\\tmp_train\\images\\Bezostaja1Vitreous\\20220425_154647.jpg: corrupt JPEG restored and saved\n",
      "\u001b[34m\u001b[1mtrain: \u001b[0mWARNING  C:\\Users\\Mehmet\\Desktop\\new_splited_wheat_dataset\\tmp_train\\images\\Bezostaja1Vitreous\\20220425_154649.jpg: corrupt JPEG restored and saved\n",
      "\u001b[34m\u001b[1mtrain: \u001b[0mWARNING  C:\\Users\\Mehmet\\Desktop\\new_splited_wheat_dataset\\tmp_train\\images\\Bezostaja1Vitreous\\20220425_154652.jpg: corrupt JPEG restored and saved\n",
      "\u001b[34m\u001b[1mtrain: \u001b[0mWARNING  C:\\Users\\Mehmet\\Desktop\\new_splited_wheat_dataset\\tmp_train\\images\\Bezostaja1Vitreous\\20220425_154654.jpg: corrupt JPEG restored and saved\n",
      "\u001b[34m\u001b[1mtrain: \u001b[0mWARNING  C:\\Users\\Mehmet\\Desktop\\new_splited_wheat_dataset\\tmp_train\\images\\Bezostaja1Vitreous\\20220425_154656.jpg: corrupt JPEG restored and saved\n",
      "\u001b[34m\u001b[1mtrain: \u001b[0mWARNING  C:\\Users\\Mehmet\\Desktop\\new_splited_wheat_dataset\\tmp_train\\images\\Bezostaja1Vitreous\\20220425_154705.jpg: corrupt JPEG restored and saved\n",
      "\u001b[34m\u001b[1mtrain: \u001b[0mWARNING  C:\\Users\\Mehmet\\Desktop\\new_splited_wheat_dataset\\tmp_train\\images\\Bezostaja1Vitreous\\20220425_154707.jpg: corrupt JPEG restored and saved\n",
      "\u001b[34m\u001b[1mtrain: \u001b[0mWARNING  C:\\Users\\Mehmet\\Desktop\\new_splited_wheat_dataset\\tmp_train\\images\\Bezostaja1Vitreous\\20220425_154711.jpg: corrupt JPEG restored and saved\n",
      "\u001b[34m\u001b[1mtrain: \u001b[0mWARNING  C:\\Users\\Mehmet\\Desktop\\new_splited_wheat_dataset\\tmp_train\\images\\Bezostaja1Vitreous\\20220425_154713.jpg: corrupt JPEG restored and saved\n",
      "\u001b[34m\u001b[1mtrain: \u001b[0mWARNING  C:\\Users\\Mehmet\\Desktop\\new_splited_wheat_dataset\\tmp_train\\images\\Bezostaja1Vitreous\\20220425_154716.jpg: corrupt JPEG restored and saved\n",
      "\u001b[34m\u001b[1mtrain: \u001b[0mWARNING  C:\\Users\\Mehmet\\Desktop\\new_splited_wheat_dataset\\tmp_train\\images\\Bezostaja1Vitreous\\20220425_154718.jpg: corrupt JPEG restored and saved\n",
      "\u001b[34m\u001b[1mtrain: \u001b[0mWARNING  C:\\Users\\Mehmet\\Desktop\\new_splited_wheat_dataset\\tmp_train\\images\\Bezostaja1Vitreous\\20220425_154730.jpg: corrupt JPEG restored and saved\n",
      "\u001b[34m\u001b[1mtrain: \u001b[0mWARNING  C:\\Users\\Mehmet\\Desktop\\new_splited_wheat_dataset\\tmp_train\\images\\Delabrad2Vitreous\\20220427_122113.jpg: corrupt JPEG restored and saved\n",
      "\u001b[34m\u001b[1mtrain: \u001b[0mWARNING  C:\\Users\\Mehmet\\Desktop\\new_splited_wheat_dataset\\tmp_train\\images\\Delabrad2Vitreous\\20220427_122116.jpg: corrupt JPEG restored and saved\n",
      "\u001b[34m\u001b[1mtrain: \u001b[0mWARNING  C:\\Users\\Mehmet\\Desktop\\new_splited_wheat_dataset\\tmp_train\\images\\Delabrad2Vitreous\\20220427_122125.jpg: corrupt JPEG restored and saved\n",
      "\u001b[34m\u001b[1mtrain: \u001b[0mWARNING  C:\\Users\\Mehmet\\Desktop\\new_splited_wheat_dataset\\tmp_train\\images\\Delabrad2Vitreous\\20220427_122127.jpg: corrupt JPEG restored and saved\n",
      "\u001b[34m\u001b[1mtrain: \u001b[0mWARNING  C:\\Users\\Mehmet\\Desktop\\new_splited_wheat_dataset\\tmp_train\\images\\Delabrad2Vitreous\\20220427_122129.jpg: corrupt JPEG restored and saved\n",
      "\u001b[34m\u001b[1mtrain: \u001b[0mWARNING  C:\\Users\\Mehmet\\Desktop\\new_splited_wheat_dataset\\tmp_train\\images\\Delabrad2Vitreous\\20220427_122201.jpg: corrupt JPEG restored and saved\n",
      "\u001b[34m\u001b[1mtrain: \u001b[0mWARNING  C:\\Users\\Mehmet\\Desktop\\new_splited_wheat_dataset\\tmp_train\\images\\Delabrad2Vitreous\\20220427_122204.jpg: corrupt JPEG restored and saved\n",
      "\u001b[34m\u001b[1mtrain: \u001b[0mWARNING  C:\\Users\\Mehmet\\Desktop\\new_splited_wheat_dataset\\tmp_train\\images\\Delabrad2Vitreous\\20220427_122206.jpg: corrupt JPEG restored and saved\n",
      "\u001b[34m\u001b[1mtrain: \u001b[0mWARNING  C:\\Users\\Mehmet\\Desktop\\new_splited_wheat_dataset\\tmp_train\\images\\Delabrad2Vitreous\\20220427_122212.jpg: corrupt JPEG restored and saved\n",
      "\u001b[34m\u001b[1mtrain: \u001b[0mWARNING  C:\\Users\\Mehmet\\Desktop\\new_splited_wheat_dataset\\tmp_train\\images\\Delabrad2Vitreous\\20220427_122214.jpg: corrupt JPEG restored and saved\n",
      "\u001b[34m\u001b[1mtrain: \u001b[0mWARNING  C:\\Users\\Mehmet\\Desktop\\new_splited_wheat_dataset\\tmp_train\\images\\Delabrad2Vitreous\\20220427_122216.jpg: corrupt JPEG restored and saved\n",
      "\u001b[34m\u001b[1mtrain: \u001b[0mWARNING  C:\\Users\\Mehmet\\Desktop\\new_splited_wheat_dataset\\tmp_train\\images\\Delabrad2Vitreous\\20220427_122229.jpg: corrupt JPEG restored and saved\n",
      "\u001b[34m\u001b[1mtrain: \u001b[0mWARNING  C:\\Users\\Mehmet\\Desktop\\new_splited_wheat_dataset\\tmp_train\\images\\Delabrad2Vitreous\\20220427_122245.jpg: corrupt JPEG restored and saved\n",
      "\u001b[34m\u001b[1mtrain: \u001b[0mWARNING  C:\\Users\\Mehmet\\Desktop\\new_splited_wheat_dataset\\tmp_train\\images\\Delabrad2Vitreous\\20220427_122251.jpg: corrupt JPEG restored and saved\n",
      "\u001b[34m\u001b[1mtrain: \u001b[0mWARNING  C:\\Users\\Mehmet\\Desktop\\new_splited_wheat_dataset\\tmp_train\\images\\Delabrad2Vitreous\\20220427_122311.jpg: corrupt JPEG restored and saved\n",
      "\u001b[34m\u001b[1mtrain: \u001b[0mWARNING  C:\\Users\\Mehmet\\Desktop\\new_splited_wheat_dataset\\tmp_train\\images\\Delabrad2Vitreous\\20220427_122315.jpg: corrupt JPEG restored and saved\n",
      "\u001b[34m\u001b[1mtrain: \u001b[0mWARNING  C:\\Users\\Mehmet\\Desktop\\new_splited_wheat_dataset\\tmp_train\\images\\Delabrad2Vitreous\\20220427_122317.jpg: corrupt JPEG restored and saved\n",
      "\u001b[34m\u001b[1mtrain: \u001b[0mWARNING  C:\\Users\\Mehmet\\Desktop\\new_splited_wheat_dataset\\tmp_train\\images\\Delabrad2Vitreous\\20220427_122319.jpg: corrupt JPEG restored and saved\n",
      "\u001b[34m\u001b[1mtrain: \u001b[0mWARNING  C:\\Users\\Mehmet\\Desktop\\new_splited_wheat_dataset\\tmp_train\\images\\Delabrad2Vitreous\\20220427_122323.jpg: corrupt JPEG restored and saved\n",
      "\u001b[34m\u001b[1mtrain: \u001b[0mWARNING  C:\\Users\\Mehmet\\Desktop\\new_splited_wheat_dataset\\tmp_train\\images\\Delabrad2Vitreous\\20220427_122326.jpg: corrupt JPEG restored and saved\n",
      "\u001b[34m\u001b[1mtrain: \u001b[0mWARNING  C:\\Users\\Mehmet\\Desktop\\new_splited_wheat_dataset\\tmp_train\\images\\Delabrad2Vitreous\\20220427_122330.jpg: corrupt JPEG restored and saved\n",
      "\u001b[34m\u001b[1mtrain: \u001b[0mWARNING  C:\\Users\\Mehmet\\Desktop\\new_splited_wheat_dataset\\tmp_train\\images\\Delabrad2Vitreous\\20220427_122334.jpg: corrupt JPEG restored and saved\n",
      "\u001b[34m\u001b[1mtrain: \u001b[0mWARNING  C:\\Users\\Mehmet\\Desktop\\new_splited_wheat_dataset\\tmp_train\\images\\Delabrad2Vitreous\\20220427_122342.jpg: corrupt JPEG restored and saved\n",
      "\u001b[34m\u001b[1mtrain: \u001b[0mWARNING  C:\\Users\\Mehmet\\Desktop\\new_splited_wheat_dataset\\tmp_train\\images\\Delabrad2Vitreous\\20220427_122346.jpg: corrupt JPEG restored and saved\n",
      "\u001b[34m\u001b[1mtrain: \u001b[0mWARNING  C:\\Users\\Mehmet\\Desktop\\new_splited_wheat_dataset\\tmp_train\\images\\Delabrad2Vitreous\\20220427_122348.jpg: corrupt JPEG restored and saved\n",
      "\u001b[34m\u001b[1mtrain: \u001b[0mWARNING  C:\\Users\\Mehmet\\Desktop\\new_splited_wheat_dataset\\tmp_train\\images\\Delabrad2Vitreous\\20220427_122350.jpg: corrupt JPEG restored and saved\n",
      "\u001b[34m\u001b[1mtrain: \u001b[0mWARNING  C:\\Users\\Mehmet\\Desktop\\new_splited_wheat_dataset\\tmp_train\\images\\Delabrad2Vitreous\\20220427_122357.jpg: corrupt JPEG restored and saved\n",
      "\u001b[34m\u001b[1mtrain: \u001b[0mWARNING  C:\\Users\\Mehmet\\Desktop\\new_splited_wheat_dataset\\tmp_train\\images\\Delabrad2Vitreous\\20220427_122403.jpg: corrupt JPEG restored and saved\n",
      "\u001b[34m\u001b[1mtrain: \u001b[0mWARNING  C:\\Users\\Mehmet\\Desktop\\new_splited_wheat_dataset\\tmp_train\\images\\Delabrad2Vitreous\\20220427_122407.jpg: corrupt JPEG restored and saved\n",
      "\u001b[34m\u001b[1mtrain: \u001b[0mWARNING  C:\\Users\\Mehmet\\Desktop\\new_splited_wheat_dataset\\tmp_train\\images\\Delabrad2Vitreous\\20220427_122415.jpg: corrupt JPEG restored and saved\n",
      "\u001b[34m\u001b[1mtrain: \u001b[0mWARNING  C:\\Users\\Mehmet\\Desktop\\new_splited_wheat_dataset\\tmp_train\\images\\Delabrad2Vitreous\\20220427_122420.jpg: corrupt JPEG restored and saved\n",
      "\u001b[34m\u001b[1mtrain: \u001b[0mWARNING  C:\\Users\\Mehmet\\Desktop\\new_splited_wheat_dataset\\tmp_train\\images\\Delabrad2Vitreous\\20220427_122422.jpg: corrupt JPEG restored and saved\n",
      "\u001b[34m\u001b[1mtrain: \u001b[0mWARNING  C:\\Users\\Mehmet\\Desktop\\new_splited_wheat_dataset\\tmp_train\\images\\Delabrad2Vitreous\\20220427_122424.jpg: corrupt JPEG restored and saved\n",
      "\u001b[34m\u001b[1mtrain: \u001b[0mWARNING  C:\\Users\\Mehmet\\Desktop\\new_splited_wheat_dataset\\tmp_train\\images\\Delabrad2Vitreous\\20220427_122428.jpg: corrupt JPEG restored and saved\n",
      "\u001b[34m\u001b[1mtrain: \u001b[0mWARNING  C:\\Users\\Mehmet\\Desktop\\new_splited_wheat_dataset\\tmp_train\\images\\Delabrad2Vitreous\\20220427_122431.jpg: corrupt JPEG restored and saved\n",
      "\u001b[34m\u001b[1mtrain: \u001b[0mWARNING  C:\\Users\\Mehmet\\Desktop\\new_splited_wheat_dataset\\tmp_train\\images\\Delabrad2Vitreous\\20220427_122435.jpg: corrupt JPEG restored and saved\n",
      "\u001b[34m\u001b[1mtrain: \u001b[0mWARNING  C:\\Users\\Mehmet\\Desktop\\new_splited_wheat_dataset\\tmp_train\\images\\Delabrad2Vitreous\\20220427_122442.jpg: corrupt JPEG restored and saved\n",
      "\u001b[34m\u001b[1mtrain: \u001b[0mWARNING  C:\\Users\\Mehmet\\Desktop\\new_splited_wheat_dataset\\tmp_train\\images\\Delabrad2Vitreous\\20220427_122444.jpg: corrupt JPEG restored and saved\n",
      "\u001b[34m\u001b[1mtrain: \u001b[0mWARNING  C:\\Users\\Mehmet\\Desktop\\new_splited_wheat_dataset\\tmp_train\\images\\Delabrad2Vitreous\\20220427_122449.jpg: corrupt JPEG restored and saved\n",
      "\u001b[34m\u001b[1mtrain: \u001b[0mWARNING  C:\\Users\\Mehmet\\Desktop\\new_splited_wheat_dataset\\tmp_train\\images\\Delabrad2Vitreous\\20220427_122453.jpg: corrupt JPEG restored and saved\n",
      "\u001b[34m\u001b[1mtrain: \u001b[0mWARNING  C:\\Users\\Mehmet\\Desktop\\new_splited_wheat_dataset\\tmp_train\\images\\Delabrad2Vitreous\\20220427_122455.jpg: corrupt JPEG restored and saved\n",
      "\u001b[34m\u001b[1mtrain: \u001b[0mWARNING  C:\\Users\\Mehmet\\Desktop\\new_splited_wheat_dataset\\tmp_train\\images\\Delabrad2Vitreous\\20220427_122458.jpg: corrupt JPEG restored and saved\n",
      "\u001b[34m\u001b[1mtrain: \u001b[0mWARNING  C:\\Users\\Mehmet\\Desktop\\new_splited_wheat_dataset\\tmp_train\\images\\Delabrad2Vitreous\\20220427_122500.jpg: corrupt JPEG restored and saved\n",
      "\u001b[34m\u001b[1mtrain: \u001b[0mWARNING  C:\\Users\\Mehmet\\Desktop\\new_splited_wheat_dataset\\tmp_train\\images\\Delabrad2Vitreous\\20220427_122503.jpg: corrupt JPEG restored and saved\n",
      "\u001b[34m\u001b[1mtrain: \u001b[0mWARNING  C:\\Users\\Mehmet\\Desktop\\new_splited_wheat_dataset\\tmp_train\\images\\Delabrad2Vitreous\\20220427_122511.jpg: corrupt JPEG restored and saved\n",
      "\u001b[34m\u001b[1mtrain: \u001b[0mWARNING  C:\\Users\\Mehmet\\Desktop\\new_splited_wheat_dataset\\tmp_train\\images\\Delabrad2Vitreous\\20220427_122517.jpg: corrupt JPEG restored and saved\n",
      "\u001b[34m\u001b[1mtrain: \u001b[0mWARNING  C:\\Users\\Mehmet\\Desktop\\new_splited_wheat_dataset\\tmp_train\\images\\Delabrad2Vitreous\\20220427_122521.jpg: corrupt JPEG restored and saved\n",
      "\u001b[34m\u001b[1mtrain: \u001b[0mWARNING  C:\\Users\\Mehmet\\Desktop\\new_splited_wheat_dataset\\tmp_train\\images\\Delabrad2Vitreous\\20220427_122529.jpg: corrupt JPEG restored and saved\n",
      "\u001b[34m\u001b[1mtrain: \u001b[0mWARNING  C:\\Users\\Mehmet\\Desktop\\new_splited_wheat_dataset\\tmp_train\\images\\Delabrad2Vitreous\\20220427_122534.jpg: corrupt JPEG restored and saved\n",
      "\u001b[34m\u001b[1mtrain: \u001b[0mWARNING  C:\\Users\\Mehmet\\Desktop\\new_splited_wheat_dataset\\tmp_train\\images\\Delabrad2Vitreous\\20220427_122538.jpg: corrupt JPEG restored and saved\n",
      "\u001b[34m\u001b[1mtrain: \u001b[0mWARNING  C:\\Users\\Mehmet\\Desktop\\new_splited_wheat_dataset\\tmp_train\\images\\Delabrad2Vitreous\\20220427_122543.jpg: corrupt JPEG restored and saved\n",
      "\u001b[34m\u001b[1mtrain: \u001b[0mWARNING  C:\\Users\\Mehmet\\Desktop\\new_splited_wheat_dataset\\tmp_train\\images\\Delabrad2Vitreous\\20220427_122545.jpg: corrupt JPEG restored and saved\n",
      "\u001b[34m\u001b[1mtrain: \u001b[0mWARNING  C:\\Users\\Mehmet\\Desktop\\new_splited_wheat_dataset\\tmp_train\\images\\Delabrad2Vitreous\\20220427_122551.jpg: corrupt JPEG restored and saved\n",
      "\u001b[34m\u001b[1mtrain: \u001b[0mWARNING  C:\\Users\\Mehmet\\Desktop\\new_splited_wheat_dataset\\tmp_train\\images\\Delabrad2Vitreous\\20220427_122555.jpg: corrupt JPEG restored and saved\n",
      "\u001b[34m\u001b[1mtrain: \u001b[0mWARNING  C:\\Users\\Mehmet\\Desktop\\new_splited_wheat_dataset\\tmp_train\\images\\Delabrad2Vitreous\\20220427_122608.jpg: corrupt JPEG restored and saved\n",
      "\u001b[34m\u001b[1mtrain: \u001b[0mWARNING  C:\\Users\\Mehmet\\Desktop\\new_splited_wheat_dataset\\tmp_train\\images\\Delabrad2Vitreous\\20220427_122613.jpg: corrupt JPEG restored and saved\n",
      "\u001b[34m\u001b[1mtrain: \u001b[0mWARNING  C:\\Users\\Mehmet\\Desktop\\new_splited_wheat_dataset\\tmp_train\\images\\Delabrad2Vitreous\\20220427_122615.jpg: corrupt JPEG restored and saved\n",
      "\u001b[34m\u001b[1mtrain: \u001b[0mWARNING  C:\\Users\\Mehmet\\Desktop\\new_splited_wheat_dataset\\tmp_train\\images\\Delabrad2Vitreous\\20220427_122623.jpg: corrupt JPEG restored and saved\n",
      "\u001b[34m\u001b[1mtrain: \u001b[0mWARNING  C:\\Users\\Mehmet\\Desktop\\new_splited_wheat_dataset\\tmp_train\\images\\Delabrad2Vitreous\\20220427_122625.jpg: corrupt JPEG restored and saved\n",
      "\u001b[34m\u001b[1mtrain: \u001b[0mWARNING  C:\\Users\\Mehmet\\Desktop\\new_splited_wheat_dataset\\tmp_train\\images\\Delabrad2Vitreous\\20220427_122627.jpg: corrupt JPEG restored and saved\n",
      "\u001b[34m\u001b[1mtrain: \u001b[0mWARNING  C:\\Users\\Mehmet\\Desktop\\new_splited_wheat_dataset\\tmp_train\\images\\Delabrad2Vitreous\\20220427_122642.jpg: corrupt JPEG restored and saved\n",
      "\u001b[34m\u001b[1mtrain: \u001b[0mWARNING  C:\\Users\\Mehmet\\Desktop\\new_splited_wheat_dataset\\tmp_train\\images\\Delabrad2Vitreous\\20220427_122644.jpg: corrupt JPEG restored and saved\n",
      "\u001b[34m\u001b[1mtrain: \u001b[0mWARNING  C:\\Users\\Mehmet\\Desktop\\new_splited_wheat_dataset\\tmp_train\\images\\Delabrad2Vitreous\\20220427_122648.jpg: corrupt JPEG restored and saved\n",
      "\u001b[34m\u001b[1mtrain: \u001b[0mWARNING  C:\\Users\\Mehmet\\Desktop\\new_splited_wheat_dataset\\tmp_train\\images\\Delabrad2Vitreous\\20220427_122651.jpg: corrupt JPEG restored and saved\n",
      "\u001b[34m\u001b[1mtrain: \u001b[0mWARNING  C:\\Users\\Mehmet\\Desktop\\new_splited_wheat_dataset\\tmp_train\\images\\Delabrad2Vitreous\\20220427_122658.jpg: corrupt JPEG restored and saved\n",
      "\u001b[34m\u001b[1mtrain: \u001b[0mWARNING  C:\\Users\\Mehmet\\Desktop\\new_splited_wheat_dataset\\tmp_train\\images\\Delabrad2Vitreous\\20220427_122702.jpg: corrupt JPEG restored and saved\n",
      "\u001b[34m\u001b[1mtrain: \u001b[0mWARNING  C:\\Users\\Mehmet\\Desktop\\new_splited_wheat_dataset\\tmp_train\\images\\Delabrad2Vitreous\\20220427_122704.jpg: corrupt JPEG restored and saved\n",
      "\u001b[34m\u001b[1mtrain: \u001b[0mWARNING  C:\\Users\\Mehmet\\Desktop\\new_splited_wheat_dataset\\tmp_train\\images\\EkizVitreous\\20220426_163544.jpg: corrupt JPEG restored and saved\n",
      "\u001b[34m\u001b[1mtrain: \u001b[0mWARNING  C:\\Users\\Mehmet\\Desktop\\new_splited_wheat_dataset\\tmp_train\\images\\EkizVitreous\\20220426_163549.jpg: corrupt JPEG restored and saved\n",
      "\u001b[34m\u001b[1mtrain: \u001b[0mWARNING  C:\\Users\\Mehmet\\Desktop\\new_splited_wheat_dataset\\tmp_train\\images\\EkizVitreous\\20220426_163555.jpg: corrupt JPEG restored and saved\n",
      "\u001b[34m\u001b[1mtrain: \u001b[0mWARNING  C:\\Users\\Mehmet\\Desktop\\new_splited_wheat_dataset\\tmp_train\\images\\EkizVitreous\\20220426_163558.jpg: corrupt JPEG restored and saved\n",
      "\u001b[34m\u001b[1mtrain: \u001b[0mWARNING  C:\\Users\\Mehmet\\Desktop\\new_splited_wheat_dataset\\tmp_train\\images\\EkizVitreous\\20220426_163602.jpg: corrupt JPEG restored and saved\n",
      "\u001b[34m\u001b[1mtrain: \u001b[0mWARNING  C:\\Users\\Mehmet\\Desktop\\new_splited_wheat_dataset\\tmp_train\\images\\EkizVitreous\\20220426_163605.jpg: corrupt JPEG restored and saved\n",
      "\u001b[34m\u001b[1mtrain: \u001b[0mWARNING  C:\\Users\\Mehmet\\Desktop\\new_splited_wheat_dataset\\tmp_train\\images\\EkizVitreous\\20220426_163607.jpg: corrupt JPEG restored and saved\n",
      "\u001b[34m\u001b[1mtrain: \u001b[0mWARNING  C:\\Users\\Mehmet\\Desktop\\new_splited_wheat_dataset\\tmp_train\\images\\EkizVitreous\\20220426_163611.jpg: corrupt JPEG restored and saved\n",
      "\u001b[34m\u001b[1mtrain: \u001b[0mWARNING  C:\\Users\\Mehmet\\Desktop\\new_splited_wheat_dataset\\tmp_train\\images\\EkizVitreous\\20220426_163613.jpg: corrupt JPEG restored and saved\n",
      "\u001b[34m\u001b[1mtrain: \u001b[0mWARNING  C:\\Users\\Mehmet\\Desktop\\new_splited_wheat_dataset\\tmp_train\\images\\EkizVitreous\\20220426_163631.jpg: corrupt JPEG restored and saved\n",
      "\u001b[34m\u001b[1mtrain: \u001b[0mWARNING  C:\\Users\\Mehmet\\Desktop\\new_splited_wheat_dataset\\tmp_train\\images\\EkizVitreous\\20220426_163634.jpg: corrupt JPEG restored and saved\n",
      "\u001b[34m\u001b[1mtrain: \u001b[0mWARNING  C:\\Users\\Mehmet\\Desktop\\new_splited_wheat_dataset\\tmp_train\\images\\EkizVitreous\\20220426_163637.jpg: corrupt JPEG restored and saved\n",
      "\u001b[34m\u001b[1mtrain: \u001b[0mWARNING  C:\\Users\\Mehmet\\Desktop\\new_splited_wheat_dataset\\tmp_train\\images\\EkizVitreous\\20220426_163640.jpg: corrupt JPEG restored and saved\n",
      "\u001b[34m\u001b[1mtrain: \u001b[0mWARNING  C:\\Users\\Mehmet\\Desktop\\new_splited_wheat_dataset\\tmp_train\\images\\EkizVitreous\\20220426_163646.jpg: corrupt JPEG restored and saved\n",
      "\u001b[34m\u001b[1mtrain: \u001b[0mWARNING  C:\\Users\\Mehmet\\Desktop\\new_splited_wheat_dataset\\tmp_train\\images\\EkizVitreous\\20220426_163658.jpg: corrupt JPEG restored and saved\n",
      "\u001b[34m\u001b[1mtrain: \u001b[0mWARNING  C:\\Users\\Mehmet\\Desktop\\new_splited_wheat_dataset\\tmp_train\\images\\EkizVitreous\\20220426_163700.jpg: corrupt JPEG restored and saved\n",
      "\u001b[34m\u001b[1mtrain: \u001b[0mWARNING  C:\\Users\\Mehmet\\Desktop\\new_splited_wheat_dataset\\tmp_train\\images\\EkizVitreous\\20220426_163703.jpg: corrupt JPEG restored and saved\n",
      "\u001b[34m\u001b[1mtrain: \u001b[0mWARNING  C:\\Users\\Mehmet\\Desktop\\new_splited_wheat_dataset\\tmp_train\\images\\EkizVitreous\\20220426_163724.jpg: corrupt JPEG restored and saved\n",
      "\u001b[34m\u001b[1mtrain: \u001b[0mWARNING  C:\\Users\\Mehmet\\Desktop\\new_splited_wheat_dataset\\tmp_train\\images\\EkizVitreous\\20220426_163748.jpg: corrupt JPEG restored and saved\n",
      "\u001b[34m\u001b[1mtrain: \u001b[0mWARNING  C:\\Users\\Mehmet\\Desktop\\new_splited_wheat_dataset\\tmp_train\\images\\EkizVitreous\\20220426_163751.jpg: corrupt JPEG restored and saved\n",
      "\u001b[34m\u001b[1mtrain: \u001b[0mWARNING  C:\\Users\\Mehmet\\Desktop\\new_splited_wheat_dataset\\tmp_train\\images\\EkizVitreous\\20220426_163801.jpg: corrupt JPEG restored and saved\n",
      "\u001b[34m\u001b[1mtrain: \u001b[0mWARNING  C:\\Users\\Mehmet\\Desktop\\new_splited_wheat_dataset\\tmp_train\\images\\EkizVitreous\\20220426_163804.jpg: corrupt JPEG restored and saved\n",
      "\u001b[34m\u001b[1mtrain: \u001b[0mWARNING  C:\\Users\\Mehmet\\Desktop\\new_splited_wheat_dataset\\tmp_train\\images\\EkizVitreous\\20220426_163813.jpg: corrupt JPEG restored and saved\n",
      "\u001b[34m\u001b[1mtrain: \u001b[0mWARNING  C:\\Users\\Mehmet\\Desktop\\new_splited_wheat_dataset\\tmp_train\\images\\EkizVitreous\\20220426_163818.jpg: corrupt JPEG restored and saved\n",
      "\u001b[34m\u001b[1mtrain: \u001b[0mWARNING  C:\\Users\\Mehmet\\Desktop\\new_splited_wheat_dataset\\tmp_train\\images\\EkizVitreous\\20220426_163821.jpg: corrupt JPEG restored and saved\n",
      "\u001b[34m\u001b[1mtrain: \u001b[0mWARNING  C:\\Users\\Mehmet\\Desktop\\new_splited_wheat_dataset\\tmp_train\\images\\EkizVitreous\\20220426_163832.jpg: corrupt JPEG restored and saved\n",
      "\u001b[34m\u001b[1mtrain: \u001b[0mWARNING  C:\\Users\\Mehmet\\Desktop\\new_splited_wheat_dataset\\tmp_train\\images\\EkizVitreous\\20220426_163836.jpg: corrupt JPEG restored and saved\n",
      "\u001b[34m\u001b[1mtrain: \u001b[0mWARNING  C:\\Users\\Mehmet\\Desktop\\new_splited_wheat_dataset\\tmp_train\\images\\EkizVitreous\\20220426_163839.jpg: corrupt JPEG restored and saved\n",
      "\u001b[34m\u001b[1mtrain: \u001b[0mWARNING  C:\\Users\\Mehmet\\Desktop\\new_splited_wheat_dataset\\tmp_train\\images\\EkizVitreous\\20220426_163841.jpg: corrupt JPEG restored and saved\n",
      "\u001b[34m\u001b[1mtrain: \u001b[0mWARNING  C:\\Users\\Mehmet\\Desktop\\new_splited_wheat_dataset\\tmp_train\\images\\EkizVitreous\\20220426_163844.jpg: corrupt JPEG restored and saved\n",
      "\u001b[34m\u001b[1mtrain: \u001b[0mWARNING  C:\\Users\\Mehmet\\Desktop\\new_splited_wheat_dataset\\tmp_train\\images\\EkizVitreous\\20220426_163847.jpg: corrupt JPEG restored and saved\n",
      "\u001b[34m\u001b[1mtrain: \u001b[0mWARNING  C:\\Users\\Mehmet\\Desktop\\new_splited_wheat_dataset\\tmp_train\\images\\EkizVitreous\\20220426_163856.jpg: corrupt JPEG restored and saved\n",
      "\u001b[34m\u001b[1mtrain: \u001b[0mWARNING  C:\\Users\\Mehmet\\Desktop\\new_splited_wheat_dataset\\tmp_train\\images\\EkizVitreous\\20220426_163909.jpg: corrupt JPEG restored and saved\n",
      "\u001b[34m\u001b[1mtrain: \u001b[0mWARNING  C:\\Users\\Mehmet\\Desktop\\new_splited_wheat_dataset\\tmp_train\\images\\EkizVitreous\\20220426_163912.jpg: corrupt JPEG restored and saved\n",
      "\u001b[34m\u001b[1mtrain: \u001b[0mWARNING  C:\\Users\\Mehmet\\Desktop\\new_splited_wheat_dataset\\tmp_train\\images\\EkizVitreous\\20220426_163918.jpg: corrupt JPEG restored and saved\n",
      "\u001b[34m\u001b[1mtrain: \u001b[0mWARNING  C:\\Users\\Mehmet\\Desktop\\new_splited_wheat_dataset\\tmp_train\\images\\EkizVitreous\\20220426_163921.jpg: corrupt JPEG restored and saved\n",
      "\u001b[34m\u001b[1mtrain: \u001b[0mWARNING  C:\\Users\\Mehmet\\Desktop\\new_splited_wheat_dataset\\tmp_train\\images\\EkizVitreous\\20220426_163924.jpg: corrupt JPEG restored and saved\n",
      "\u001b[34m\u001b[1mtrain: \u001b[0mWARNING  C:\\Users\\Mehmet\\Desktop\\new_splited_wheat_dataset\\tmp_train\\images\\EkizVitreous\\20220426_163926.jpg: corrupt JPEG restored and saved\n",
      "\u001b[34m\u001b[1mtrain: \u001b[0mWARNING  C:\\Users\\Mehmet\\Desktop\\new_splited_wheat_dataset\\tmp_train\\images\\EkizVitreous\\20220426_163930.jpg: corrupt JPEG restored and saved\n",
      "\u001b[34m\u001b[1mtrain: \u001b[0mWARNING  C:\\Users\\Mehmet\\Desktop\\new_splited_wheat_dataset\\tmp_train\\images\\EkizVitreous\\20220426_163943.jpg: corrupt JPEG restored and saved\n",
      "\u001b[34m\u001b[1mtrain: \u001b[0mWARNING  C:\\Users\\Mehmet\\Desktop\\new_splited_wheat_dataset\\tmp_train\\images\\EkizVitreous\\20220426_163945.jpg: corrupt JPEG restored and saved\n",
      "\u001b[34m\u001b[1mtrain: \u001b[0mWARNING  C:\\Users\\Mehmet\\Desktop\\new_splited_wheat_dataset\\tmp_train\\images\\EkizVitreous\\20220426_163948.jpg: corrupt JPEG restored and saved\n",
      "\u001b[34m\u001b[1mtrain: \u001b[0mWARNING  C:\\Users\\Mehmet\\Desktop\\new_splited_wheat_dataset\\tmp_train\\images\\EkizVitreous\\20220426_163953.jpg: corrupt JPEG restored and saved\n",
      "\u001b[34m\u001b[1mtrain: \u001b[0mWARNING  C:\\Users\\Mehmet\\Desktop\\new_splited_wheat_dataset\\tmp_train\\images\\EkizVitreous\\20220426_163955.jpg: corrupt JPEG restored and saved\n",
      "\u001b[34m\u001b[1mtrain: \u001b[0mWARNING  C:\\Users\\Mehmet\\Desktop\\new_splited_wheat_dataset\\tmp_train\\images\\EkizVitreous\\20220426_164004.jpg: corrupt JPEG restored and saved\n",
      "\u001b[34m\u001b[1mtrain: \u001b[0mWARNING  C:\\Users\\Mehmet\\Desktop\\new_splited_wheat_dataset\\tmp_train\\images\\EkizVitreous\\20220426_164006.jpg: corrupt JPEG restored and saved\n",
      "\u001b[34m\u001b[1mtrain: \u001b[0mWARNING  C:\\Users\\Mehmet\\Desktop\\new_splited_wheat_dataset\\tmp_train\\images\\EkizVitreous\\20220426_164009.jpg: corrupt JPEG restored and saved\n",
      "\u001b[34m\u001b[1mtrain: \u001b[0mWARNING  C:\\Users\\Mehmet\\Desktop\\new_splited_wheat_dataset\\tmp_train\\images\\EkizVitreous\\20220426_164011.jpg: corrupt JPEG restored and saved\n",
      "\u001b[34m\u001b[1mtrain: \u001b[0mWARNING  C:\\Users\\Mehmet\\Desktop\\new_splited_wheat_dataset\\tmp_train\\images\\EkizVitreous\\20220426_164013.jpg: corrupt JPEG restored and saved\n",
      "\u001b[34m\u001b[1mtrain: \u001b[0mWARNING  C:\\Users\\Mehmet\\Desktop\\new_splited_wheat_dataset\\tmp_train\\images\\EkizVitreous\\20220426_164019.jpg: corrupt JPEG restored and saved\n",
      "\u001b[34m\u001b[1mtrain: \u001b[0mWARNING  C:\\Users\\Mehmet\\Desktop\\new_splited_wheat_dataset\\tmp_train\\images\\EkizVitreous\\20220426_164023.jpg: corrupt JPEG restored and saved\n",
      "\u001b[34m\u001b[1mtrain: \u001b[0mWARNING  C:\\Users\\Mehmet\\Desktop\\new_splited_wheat_dataset\\tmp_train\\images\\EkizVitreous\\20220426_164031.jpg: corrupt JPEG restored and saved\n",
      "\u001b[34m\u001b[1mtrain: \u001b[0mWARNING  C:\\Users\\Mehmet\\Desktop\\new_splited_wheat_dataset\\tmp_train\\images\\EkizVitreous\\20220426_164038.jpg: corrupt JPEG restored and saved\n",
      "\u001b[34m\u001b[1mtrain: \u001b[0mWARNING  C:\\Users\\Mehmet\\Desktop\\new_splited_wheat_dataset\\tmp_train\\images\\EkizVitreous\\20220426_164049.jpg: corrupt JPEG restored and saved\n",
      "\u001b[34m\u001b[1mtrain: \u001b[0mWARNING  C:\\Users\\Mehmet\\Desktop\\new_splited_wheat_dataset\\tmp_train\\images\\EkizVitreous\\20220426_164052.jpg: corrupt JPEG restored and saved\n",
      "\u001b[34m\u001b[1mtrain: \u001b[0mWARNING  C:\\Users\\Mehmet\\Desktop\\new_splited_wheat_dataset\\tmp_train\\images\\EkizVitreous\\20220426_164054.jpg: corrupt JPEG restored and saved\n",
      "\u001b[34m\u001b[1mtrain: \u001b[0mWARNING  C:\\Users\\Mehmet\\Desktop\\new_splited_wheat_dataset\\tmp_train\\images\\EkizVitreous\\20220426_164058.jpg: corrupt JPEG restored and saved\n",
      "\u001b[34m\u001b[1mtrain: \u001b[0mWARNING  C:\\Users\\Mehmet\\Desktop\\new_splited_wheat_dataset\\tmp_train\\images\\EkizVitreous\\20220426_164103.jpg: corrupt JPEG restored and saved\n",
      "\u001b[34m\u001b[1mtrain: \u001b[0mWARNING  C:\\Users\\Mehmet\\Desktop\\new_splited_wheat_dataset\\tmp_train\\images\\EkizVitreous\\20220426_164111.jpg: corrupt JPEG restored and saved\n",
      "\u001b[34m\u001b[1mtrain: \u001b[0mWARNING  C:\\Users\\Mehmet\\Desktop\\new_splited_wheat_dataset\\tmp_train\\images\\EkizVitreous\\20220426_164121.jpg: corrupt JPEG restored and saved\n",
      "\u001b[34m\u001b[1mtrain: \u001b[0mWARNING  C:\\Users\\Mehmet\\Desktop\\new_splited_wheat_dataset\\tmp_train\\images\\EkizVitreous\\20220426_164123.jpg: corrupt JPEG restored and saved\n",
      "\u001b[34m\u001b[1mtrain: \u001b[0mWARNING  C:\\Users\\Mehmet\\Desktop\\new_splited_wheat_dataset\\tmp_train\\images\\EkizVitreous\\20220426_164126.jpg: corrupt JPEG restored and saved\n",
      "\u001b[34m\u001b[1mtrain: \u001b[0mWARNING  C:\\Users\\Mehmet\\Desktop\\new_splited_wheat_dataset\\tmp_train\\images\\EkizVitreous\\20220426_164128.jpg: corrupt JPEG restored and saved\n",
      "\u001b[34m\u001b[1mtrain: \u001b[0mWARNING  C:\\Users\\Mehmet\\Desktop\\new_splited_wheat_dataset\\tmp_train\\images\\EkizVitreous\\20220426_164131.jpg: corrupt JPEG restored and saved\n",
      "\u001b[34m\u001b[1mtrain: \u001b[0mWARNING  C:\\Users\\Mehmet\\Desktop\\new_splited_wheat_dataset\\tmp_train\\images\\EkizVitreous\\20220426_164135.jpg: corrupt JPEG restored and saved\n",
      "\u001b[34m\u001b[1mtrain: \u001b[0mWARNING  C:\\Users\\Mehmet\\Desktop\\new_splited_wheat_dataset\\tmp_train\\images\\EkizVitreous\\20220426_164137.jpg: corrupt JPEG restored and saved\n",
      "\u001b[34m\u001b[1mtrain: \u001b[0mWARNING  C:\\Users\\Mehmet\\Desktop\\new_splited_wheat_dataset\\tmp_train\\images\\EkizVitreous\\20220426_164140.jpg: corrupt JPEG restored and saved\n",
      "\u001b[34m\u001b[1mtrain: \u001b[0mWARNING  C:\\Users\\Mehmet\\Desktop\\new_splited_wheat_dataset\\tmp_train\\images\\EkizVitreous\\20220426_164148.jpg: corrupt JPEG restored and saved\n",
      "\u001b[34m\u001b[1mtrain: \u001b[0mWARNING  C:\\Users\\Mehmet\\Desktop\\new_splited_wheat_dataset\\tmp_train\\images\\EkizVitreous\\20220426_164154.jpg: corrupt JPEG restored and saved\n",
      "\u001b[34m\u001b[1mtrain: \u001b[0mWARNING  C:\\Users\\Mehmet\\Desktop\\new_splited_wheat_dataset\\tmp_train\\images\\EsperiaVitreous\\20220425_170955.jpg: corrupt JPEG restored and saved\n",
      "\u001b[34m\u001b[1mtrain: \u001b[0mWARNING  C:\\Users\\Mehmet\\Desktop\\new_splited_wheat_dataset\\tmp_train\\images\\EsperiaVitreous\\20220425_170958.jpg: corrupt JPEG restored and saved\n",
      "\u001b[34m\u001b[1mtrain: \u001b[0mWARNING  C:\\Users\\Mehmet\\Desktop\\new_splited_wheat_dataset\\tmp_train\\images\\EsperiaVitreous\\20220425_171001.jpg: corrupt JPEG restored and saved\n",
      "\u001b[34m\u001b[1mtrain: \u001b[0mWARNING  C:\\Users\\Mehmet\\Desktop\\new_splited_wheat_dataset\\tmp_train\\images\\EsperiaVitreous\\20220425_171017.jpg: corrupt JPEG restored and saved\n",
      "\u001b[34m\u001b[1mtrain: \u001b[0mWARNING  C:\\Users\\Mehmet\\Desktop\\new_splited_wheat_dataset\\tmp_train\\images\\EsperiaVitreous\\20220425_171023.jpg: corrupt JPEG restored and saved\n",
      "\u001b[34m\u001b[1mtrain: \u001b[0mWARNING  C:\\Users\\Mehmet\\Desktop\\new_splited_wheat_dataset\\tmp_train\\images\\EsperiaVitreous\\20220425_171027.jpg: corrupt JPEG restored and saved\n",
      "\u001b[34m\u001b[1mtrain: \u001b[0mWARNING  C:\\Users\\Mehmet\\Desktop\\new_splited_wheat_dataset\\tmp_train\\images\\EsperiaVitreous\\20220425_171030.jpg: corrupt JPEG restored and saved\n",
      "\u001b[34m\u001b[1mtrain: \u001b[0mWARNING  C:\\Users\\Mehmet\\Desktop\\new_splited_wheat_dataset\\tmp_train\\images\\EsperiaVitreous\\20220425_171033.jpg: corrupt JPEG restored and saved\n",
      "\u001b[34m\u001b[1mtrain: \u001b[0mWARNING  C:\\Users\\Mehmet\\Desktop\\new_splited_wheat_dataset\\tmp_train\\images\\EsperiaVitreous\\20220425_171038.jpg: corrupt JPEG restored and saved\n",
      "\u001b[34m\u001b[1mtrain: \u001b[0mWARNING  C:\\Users\\Mehmet\\Desktop\\new_splited_wheat_dataset\\tmp_train\\images\\EsperiaVitreous\\20220425_171043.jpg: corrupt JPEG restored and saved\n",
      "\u001b[34m\u001b[1mtrain: \u001b[0mWARNING  C:\\Users\\Mehmet\\Desktop\\new_splited_wheat_dataset\\tmp_train\\images\\EsperiaVitreous\\20220425_171100.jpg: corrupt JPEG restored and saved\n",
      "\u001b[34m\u001b[1mtrain: \u001b[0mWARNING  C:\\Users\\Mehmet\\Desktop\\new_splited_wheat_dataset\\tmp_train\\images\\EsperiaVitreous\\20220425_171103.jpg: corrupt JPEG restored and saved\n",
      "\u001b[34m\u001b[1mtrain: \u001b[0mWARNING  C:\\Users\\Mehmet\\Desktop\\new_splited_wheat_dataset\\tmp_train\\images\\EsperiaVitreous\\20220425_171113.jpg: corrupt JPEG restored and saved\n",
      "\u001b[34m\u001b[1mtrain: \u001b[0mWARNING  C:\\Users\\Mehmet\\Desktop\\new_splited_wheat_dataset\\tmp_train\\images\\EsperiaVitreous\\20220425_171117.jpg: corrupt JPEG restored and saved\n",
      "\u001b[34m\u001b[1mtrain: \u001b[0mWARNING  C:\\Users\\Mehmet\\Desktop\\new_splited_wheat_dataset\\tmp_train\\images\\EsperiaVitreous\\20220425_171120.jpg: corrupt JPEG restored and saved\n",
      "\u001b[34m\u001b[1mtrain: \u001b[0mWARNING  C:\\Users\\Mehmet\\Desktop\\new_splited_wheat_dataset\\tmp_train\\images\\EsperiaVitreous\\20220425_171122.jpg: corrupt JPEG restored and saved\n",
      "\u001b[34m\u001b[1mtrain: \u001b[0mWARNING  C:\\Users\\Mehmet\\Desktop\\new_splited_wheat_dataset\\tmp_train\\images\\EsperiaVitreous\\20220425_171135.jpg: corrupt JPEG restored and saved\n",
      "\u001b[34m\u001b[1mtrain: \u001b[0mWARNING  C:\\Users\\Mehmet\\Desktop\\new_splited_wheat_dataset\\tmp_train\\images\\EsperiaVitreous\\20220425_171146.jpg: corrupt JPEG restored and saved\n",
      "\u001b[34m\u001b[1mtrain: \u001b[0mWARNING  C:\\Users\\Mehmet\\Desktop\\new_splited_wheat_dataset\\tmp_train\\images\\EsperiaVitreous\\20220425_171149.jpg: corrupt JPEG restored and saved\n",
      "\u001b[34m\u001b[1mtrain: \u001b[0mWARNING  C:\\Users\\Mehmet\\Desktop\\new_splited_wheat_dataset\\tmp_train\\images\\EsperiaVitreous\\20220425_171157.jpg: corrupt JPEG restored and saved\n",
      "\u001b[34m\u001b[1mtrain: \u001b[0mWARNING  C:\\Users\\Mehmet\\Desktop\\new_splited_wheat_dataset\\tmp_train\\images\\EsperiaVitreous\\20220425_171159.jpg: corrupt JPEG restored and saved\n",
      "\u001b[34m\u001b[1mtrain: \u001b[0mWARNING  C:\\Users\\Mehmet\\Desktop\\new_splited_wheat_dataset\\tmp_train\\images\\EsperiaVitreous\\20220425_171201.jpg: corrupt JPEG restored and saved\n",
      "\u001b[34m\u001b[1mtrain: \u001b[0mWARNING  C:\\Users\\Mehmet\\Desktop\\new_splited_wheat_dataset\\tmp_train\\images\\EsperiaVitreous\\20220425_171208.jpg: corrupt JPEG restored and saved\n",
      "\u001b[34m\u001b[1mtrain: \u001b[0mWARNING  C:\\Users\\Mehmet\\Desktop\\new_splited_wheat_dataset\\tmp_train\\images\\EsperiaVitreous\\20220425_171225.jpg: corrupt JPEG restored and saved\n",
      "\u001b[34m\u001b[1mtrain: \u001b[0mWARNING  C:\\Users\\Mehmet\\Desktop\\new_splited_wheat_dataset\\tmp_train\\images\\EsperiaVitreous\\20220425_171230.jpg: corrupt JPEG restored and saved\n",
      "\u001b[34m\u001b[1mtrain: \u001b[0mWARNING  C:\\Users\\Mehmet\\Desktop\\new_splited_wheat_dataset\\tmp_train\\images\\EsperiaVitreous\\20220425_171232.jpg: corrupt JPEG restored and saved\n",
      "\u001b[34m\u001b[1mtrain: \u001b[0mWARNING  C:\\Users\\Mehmet\\Desktop\\new_splited_wheat_dataset\\tmp_train\\images\\EsperiaVitreous\\20220425_171234.jpg: corrupt JPEG restored and saved\n",
      "\u001b[34m\u001b[1mtrain: \u001b[0mWARNING  C:\\Users\\Mehmet\\Desktop\\new_splited_wheat_dataset\\tmp_train\\images\\EsperiaVitreous\\20220425_171239.jpg: corrupt JPEG restored and saved\n",
      "\u001b[34m\u001b[1mtrain: \u001b[0mWARNING  C:\\Users\\Mehmet\\Desktop\\new_splited_wheat_dataset\\tmp_train\\images\\EsperiaVitreous\\20220425_171241.jpg: corrupt JPEG restored and saved\n",
      "\u001b[34m\u001b[1mtrain: \u001b[0mWARNING  C:\\Users\\Mehmet\\Desktop\\new_splited_wheat_dataset\\tmp_train\\images\\EsperiaVitreous\\20220425_171244.jpg: corrupt JPEG restored and saved\n",
      "\u001b[34m\u001b[1mtrain: \u001b[0mWARNING  C:\\Users\\Mehmet\\Desktop\\new_splited_wheat_dataset\\tmp_train\\images\\EsperiaVitreous\\20220425_171258.jpg: corrupt JPEG restored and saved\n",
      "\u001b[34m\u001b[1mtrain: \u001b[0mWARNING  C:\\Users\\Mehmet\\Desktop\\new_splited_wheat_dataset\\tmp_train\\images\\EsperiaVitreous\\20220425_171301.jpg: corrupt JPEG restored and saved\n",
      "\u001b[34m\u001b[1mtrain: \u001b[0mWARNING  C:\\Users\\Mehmet\\Desktop\\new_splited_wheat_dataset\\tmp_train\\images\\EsperiaVitreous\\20220425_171303.jpg: corrupt JPEG restored and saved\n",
      "\u001b[34m\u001b[1mtrain: \u001b[0mWARNING  C:\\Users\\Mehmet\\Desktop\\new_splited_wheat_dataset\\tmp_train\\images\\EsperiaVitreous\\20220425_171309.jpg: corrupt JPEG restored and saved\n",
      "\u001b[34m\u001b[1mtrain: \u001b[0mWARNING  C:\\Users\\Mehmet\\Desktop\\new_splited_wheat_dataset\\tmp_train\\images\\EsperiaVitreous\\20220425_171314.jpg: corrupt JPEG restored and saved\n",
      "\u001b[34m\u001b[1mtrain: \u001b[0mWARNING  C:\\Users\\Mehmet\\Desktop\\new_splited_wheat_dataset\\tmp_train\\images\\EsperiaVitreous\\20220425_171317.jpg: corrupt JPEG restored and saved\n",
      "\u001b[34m\u001b[1mtrain: \u001b[0mWARNING  C:\\Users\\Mehmet\\Desktop\\new_splited_wheat_dataset\\tmp_train\\images\\EsperiaVitreous\\20220425_171320.jpg: corrupt JPEG restored and saved\n",
      "\u001b[34m\u001b[1mtrain: \u001b[0mWARNING  C:\\Users\\Mehmet\\Desktop\\new_splited_wheat_dataset\\tmp_train\\images\\EsperiaVitreous\\20220425_171329.jpg: corrupt JPEG restored and saved\n",
      "\u001b[34m\u001b[1mtrain: \u001b[0mWARNING  C:\\Users\\Mehmet\\Desktop\\new_splited_wheat_dataset\\tmp_train\\images\\EsperiaVitreous\\20220425_171335.jpg: corrupt JPEG restored and saved\n",
      "\u001b[34m\u001b[1mtrain: \u001b[0mWARNING  C:\\Users\\Mehmet\\Desktop\\new_splited_wheat_dataset\\tmp_train\\images\\EsperiaVitreous\\20220425_171337.jpg: corrupt JPEG restored and saved\n",
      "\u001b[34m\u001b[1mtrain: \u001b[0mWARNING  C:\\Users\\Mehmet\\Desktop\\new_splited_wheat_dataset\\tmp_train\\images\\EsperiaVitreous\\20220425_171350.jpg: corrupt JPEG restored and saved\n",
      "\u001b[34m\u001b[1mtrain: \u001b[0mWARNING  C:\\Users\\Mehmet\\Desktop\\new_splited_wheat_dataset\\tmp_train\\images\\EsperiaVitreous\\20220425_171354.jpg: corrupt JPEG restored and saved\n",
      "\u001b[34m\u001b[1mtrain: \u001b[0mWARNING  C:\\Users\\Mehmet\\Desktop\\new_splited_wheat_dataset\\tmp_train\\images\\EsperiaVitreous\\20220425_171356.jpg: corrupt JPEG restored and saved\n",
      "\u001b[34m\u001b[1mtrain: \u001b[0mWARNING  C:\\Users\\Mehmet\\Desktop\\new_splited_wheat_dataset\\tmp_train\\images\\EsperiaVitreous\\20220425_171359.jpg: corrupt JPEG restored and saved\n",
      "\u001b[34m\u001b[1mtrain: \u001b[0mWARNING  C:\\Users\\Mehmet\\Desktop\\new_splited_wheat_dataset\\tmp_train\\images\\EsperiaVitreous\\20220425_171402.jpg: corrupt JPEG restored and saved\n",
      "\u001b[34m\u001b[1mtrain: \u001b[0mWARNING  C:\\Users\\Mehmet\\Desktop\\new_splited_wheat_dataset\\tmp_train\\images\\EsperiaVitreous\\20220425_171404.jpg: corrupt JPEG restored and saved\n",
      "\u001b[34m\u001b[1mtrain: \u001b[0mWARNING  C:\\Users\\Mehmet\\Desktop\\new_splited_wheat_dataset\\tmp_train\\images\\EsperiaVitreous\\20220425_171407.jpg: corrupt JPEG restored and saved\n",
      "\u001b[34m\u001b[1mtrain: \u001b[0mWARNING  C:\\Users\\Mehmet\\Desktop\\new_splited_wheat_dataset\\tmp_train\\images\\EsperiaVitreous\\20220425_171411.jpg: corrupt JPEG restored and saved\n",
      "\u001b[34m\u001b[1mtrain: \u001b[0mWARNING  C:\\Users\\Mehmet\\Desktop\\new_splited_wheat_dataset\\tmp_train\\images\\EsperiaVitreous\\20220425_171414.jpg: corrupt JPEG restored and saved\n",
      "\u001b[34m\u001b[1mtrain: \u001b[0mWARNING  C:\\Users\\Mehmet\\Desktop\\new_splited_wheat_dataset\\tmp_train\\images\\EsperiaVitreous\\20220425_171416.jpg: corrupt JPEG restored and saved\n",
      "\u001b[34m\u001b[1mtrain: \u001b[0mWARNING  C:\\Users\\Mehmet\\Desktop\\new_splited_wheat_dataset\\tmp_train\\images\\EsperiaVitreous\\20220425_171418.jpg: corrupt JPEG restored and saved\n",
      "\u001b[34m\u001b[1mtrain: \u001b[0mWARNING  C:\\Users\\Mehmet\\Desktop\\new_splited_wheat_dataset\\tmp_train\\images\\EsperiaVitreous\\20220425_171421.jpg: corrupt JPEG restored and saved\n",
      "\u001b[34m\u001b[1mtrain: \u001b[0mWARNING  C:\\Users\\Mehmet\\Desktop\\new_splited_wheat_dataset\\tmp_train\\images\\EsperiaVitreous\\20220425_171427.jpg: corrupt JPEG restored and saved\n",
      "\u001b[34m\u001b[1mtrain: \u001b[0mWARNING  C:\\Users\\Mehmet\\Desktop\\new_splited_wheat_dataset\\tmp_train\\images\\EsperiaVitreous\\20220425_171429.jpg: corrupt JPEG restored and saved\n",
      "\u001b[34m\u001b[1mtrain: \u001b[0mWARNING  C:\\Users\\Mehmet\\Desktop\\new_splited_wheat_dataset\\tmp_train\\images\\EsperiaVitreous\\20220425_171433.jpg: corrupt JPEG restored and saved\n",
      "\u001b[34m\u001b[1mtrain: \u001b[0mWARNING  C:\\Users\\Mehmet\\Desktop\\new_splited_wheat_dataset\\tmp_train\\images\\EsperiaVitreous\\20220425_171438.jpg: corrupt JPEG restored and saved\n",
      "\u001b[34m\u001b[1mtrain: \u001b[0mWARNING  C:\\Users\\Mehmet\\Desktop\\new_splited_wheat_dataset\\tmp_train\\images\\EsperiaVitreous\\20220425_171440.jpg: corrupt JPEG restored and saved\n",
      "\u001b[34m\u001b[1mtrain: \u001b[0mWARNING  C:\\Users\\Mehmet\\Desktop\\new_splited_wheat_dataset\\tmp_train\\images\\EsperiaVitreous\\20220425_171443.jpg: corrupt JPEG restored and saved\n",
      "\u001b[34m\u001b[1mtrain: \u001b[0mWARNING  C:\\Users\\Mehmet\\Desktop\\new_splited_wheat_dataset\\tmp_train\\images\\EsperiaVitreous\\20220425_171445.jpg: corrupt JPEG restored and saved\n",
      "\u001b[34m\u001b[1mtrain: \u001b[0mWARNING  C:\\Users\\Mehmet\\Desktop\\new_splited_wheat_dataset\\tmp_train\\images\\EsperiaVitreous\\20220425_171450.jpg: corrupt JPEG restored and saved\n",
      "\u001b[34m\u001b[1mtrain: \u001b[0mWARNING  C:\\Users\\Mehmet\\Desktop\\new_splited_wheat_dataset\\tmp_train\\images\\EsperiaVitreous\\20220425_171457.jpg: corrupt JPEG restored and saved\n",
      "\u001b[34m\u001b[1mtrain: \u001b[0mWARNING  C:\\Users\\Mehmet\\Desktop\\new_splited_wheat_dataset\\tmp_train\\images\\EsperiaVitreous\\20220425_171502.jpg: corrupt JPEG restored and saved\n",
      "\u001b[34m\u001b[1mtrain: \u001b[0mWARNING  C:\\Users\\Mehmet\\Desktop\\new_splited_wheat_dataset\\tmp_train\\images\\EsperiaVitreous\\20220425_171504.jpg: corrupt JPEG restored and saved\n",
      "\u001b[34m\u001b[1mtrain: \u001b[0mWARNING  C:\\Users\\Mehmet\\Desktop\\new_splited_wheat_dataset\\tmp_train\\images\\EsperiaVitreous\\20220425_171507.jpg: corrupt JPEG restored and saved\n",
      "\u001b[34m\u001b[1mtrain: \u001b[0mWARNING  C:\\Users\\Mehmet\\Desktop\\new_splited_wheat_dataset\\tmp_train\\images\\EsperiaVitreous\\20220425_171513.jpg: corrupt JPEG restored and saved\n",
      "\u001b[34m\u001b[1mtrain: \u001b[0mWARNING  C:\\Users\\Mehmet\\Desktop\\new_splited_wheat_dataset\\tmp_train\\images\\EsperiaVitreous\\20220425_171524.jpg: corrupt JPEG restored and saved\n",
      "\u001b[34m\u001b[1mtrain: \u001b[0mWARNING  C:\\Users\\Mehmet\\Desktop\\new_splited_wheat_dataset\\tmp_train\\images\\EsperiaVitreous\\20220425_171531.jpg: corrupt JPEG restored and saved\n",
      "\u001b[34m\u001b[1mtrain: \u001b[0mWARNING  C:\\Users\\Mehmet\\Desktop\\new_splited_wheat_dataset\\tmp_train\\images\\KiziltanVitreous\\20220426_154719.jpg: corrupt JPEG restored and saved\n",
      "\u001b[34m\u001b[1mtrain: \u001b[0mWARNING  C:\\Users\\Mehmet\\Desktop\\new_splited_wheat_dataset\\tmp_train\\images\\KiziltanVitreous\\20220426_154724.jpg: corrupt JPEG restored and saved\n",
      "\u001b[34m\u001b[1mtrain: \u001b[0mWARNING  C:\\Users\\Mehmet\\Desktop\\new_splited_wheat_dataset\\tmp_train\\images\\KiziltanVitreous\\20220426_154726.jpg: corrupt JPEG restored and saved\n",
      "\u001b[34m\u001b[1mtrain: \u001b[0mWARNING  C:\\Users\\Mehmet\\Desktop\\new_splited_wheat_dataset\\tmp_train\\images\\KiziltanVitreous\\20220426_154738.jpg: corrupt JPEG restored and saved\n",
      "\u001b[34m\u001b[1mtrain: \u001b[0mWARNING  C:\\Users\\Mehmet\\Desktop\\new_splited_wheat_dataset\\tmp_train\\images\\KiziltanVitreous\\20220426_154740.jpg: corrupt JPEG restored and saved\n",
      "\u001b[34m\u001b[1mtrain: \u001b[0mWARNING  C:\\Users\\Mehmet\\Desktop\\new_splited_wheat_dataset\\tmp_train\\images\\KiziltanVitreous\\20220426_154743.jpg: corrupt JPEG restored and saved\n",
      "\u001b[34m\u001b[1mtrain: \u001b[0mWARNING  C:\\Users\\Mehmet\\Desktop\\new_splited_wheat_dataset\\tmp_train\\images\\KiziltanVitreous\\20220426_154746.jpg: corrupt JPEG restored and saved\n",
      "\u001b[34m\u001b[1mtrain: \u001b[0mWARNING  C:\\Users\\Mehmet\\Desktop\\new_splited_wheat_dataset\\tmp_train\\images\\KiziltanVitreous\\20220426_154748.jpg: corrupt JPEG restored and saved\n",
      "\u001b[34m\u001b[1mtrain: \u001b[0mWARNING  C:\\Users\\Mehmet\\Desktop\\new_splited_wheat_dataset\\tmp_train\\images\\KiziltanVitreous\\20220426_154751.jpg: corrupt JPEG restored and saved\n",
      "\u001b[34m\u001b[1mtrain: \u001b[0mWARNING  C:\\Users\\Mehmet\\Desktop\\new_splited_wheat_dataset\\tmp_train\\images\\KiziltanVitreous\\20220426_154753.jpg: corrupt JPEG restored and saved\n",
      "\u001b[34m\u001b[1mtrain: \u001b[0mWARNING  C:\\Users\\Mehmet\\Desktop\\new_splited_wheat_dataset\\tmp_train\\images\\KiziltanVitreous\\20220426_154804.jpg: corrupt JPEG restored and saved\n",
      "\u001b[34m\u001b[1mtrain: \u001b[0mWARNING  C:\\Users\\Mehmet\\Desktop\\new_splited_wheat_dataset\\tmp_train\\images\\KiziltanVitreous\\20220426_154806.jpg: corrupt JPEG restored and saved\n",
      "\u001b[34m\u001b[1mtrain: \u001b[0mWARNING  C:\\Users\\Mehmet\\Desktop\\new_splited_wheat_dataset\\tmp_train\\images\\KiziltanVitreous\\20220426_154833.jpg: corrupt JPEG restored and saved\n",
      "\u001b[34m\u001b[1mtrain: \u001b[0mWARNING  C:\\Users\\Mehmet\\Desktop\\new_splited_wheat_dataset\\tmp_train\\images\\KiziltanVitreous\\20220426_154854.jpg: corrupt JPEG restored and saved\n",
      "\u001b[34m\u001b[1mtrain: \u001b[0mWARNING  C:\\Users\\Mehmet\\Desktop\\new_splited_wheat_dataset\\tmp_train\\images\\KiziltanVitreous\\20220426_154857.jpg: corrupt JPEG restored and saved\n",
      "\u001b[34m\u001b[1mtrain: \u001b[0mWARNING  C:\\Users\\Mehmet\\Desktop\\new_splited_wheat_dataset\\tmp_train\\images\\KiziltanVitreous\\20220426_154902.jpg: corrupt JPEG restored and saved\n",
      "\u001b[34m\u001b[1mtrain: \u001b[0mWARNING  C:\\Users\\Mehmet\\Desktop\\new_splited_wheat_dataset\\tmp_train\\images\\KiziltanVitreous\\20220426_154906.jpg: corrupt JPEG restored and saved\n",
      "\u001b[34m\u001b[1mtrain: \u001b[0mWARNING  C:\\Users\\Mehmet\\Desktop\\new_splited_wheat_dataset\\tmp_train\\images\\KiziltanVitreous\\20220426_154909.jpg: corrupt JPEG restored and saved\n",
      "\u001b[34m\u001b[1mtrain: \u001b[0mWARNING  C:\\Users\\Mehmet\\Desktop\\new_splited_wheat_dataset\\tmp_train\\images\\KiziltanVitreous\\20220426_154920.jpg: corrupt JPEG restored and saved\n",
      "\u001b[34m\u001b[1mtrain: \u001b[0mWARNING  C:\\Users\\Mehmet\\Desktop\\new_splited_wheat_dataset\\tmp_train\\images\\KiziltanVitreous\\20220426_154929.jpg: corrupt JPEG restored and saved\n",
      "\u001b[34m\u001b[1mtrain: \u001b[0mWARNING  C:\\Users\\Mehmet\\Desktop\\new_splited_wheat_dataset\\tmp_train\\images\\KiziltanVitreous\\20220426_154935.jpg: corrupt JPEG restored and saved\n",
      "\u001b[34m\u001b[1mtrain: \u001b[0mWARNING  C:\\Users\\Mehmet\\Desktop\\new_splited_wheat_dataset\\tmp_train\\images\\KiziltanVitreous\\20220426_154937.jpg: corrupt JPEG restored and saved\n",
      "\u001b[34m\u001b[1mtrain: \u001b[0mWARNING  C:\\Users\\Mehmet\\Desktop\\new_splited_wheat_dataset\\tmp_train\\images\\KiziltanVitreous\\20220426_154942.jpg: corrupt JPEG restored and saved\n",
      "\u001b[34m\u001b[1mtrain: \u001b[0mWARNING  C:\\Users\\Mehmet\\Desktop\\new_splited_wheat_dataset\\tmp_train\\images\\KiziltanVitreous\\20220426_154950.jpg: corrupt JPEG restored and saved\n",
      "\u001b[34m\u001b[1mtrain: \u001b[0mWARNING  C:\\Users\\Mehmet\\Desktop\\new_splited_wheat_dataset\\tmp_train\\images\\KiziltanVitreous\\20220426_155000.jpg: corrupt JPEG restored and saved\n",
      "\u001b[34m\u001b[1mtrain: \u001b[0mWARNING  C:\\Users\\Mehmet\\Desktop\\new_splited_wheat_dataset\\tmp_train\\images\\KiziltanVitreous\\20220426_155008.jpg: corrupt JPEG restored and saved\n",
      "\u001b[34m\u001b[1mtrain: \u001b[0mWARNING  C:\\Users\\Mehmet\\Desktop\\new_splited_wheat_dataset\\tmp_train\\images\\KiziltanVitreous\\20220426_155015.jpg: corrupt JPEG restored and saved\n",
      "\u001b[34m\u001b[1mtrain: \u001b[0mWARNING  C:\\Users\\Mehmet\\Desktop\\new_splited_wheat_dataset\\tmp_train\\images\\KiziltanVitreous\\20220426_155025.jpg: corrupt JPEG restored and saved\n",
      "\u001b[34m\u001b[1mtrain: \u001b[0mWARNING  C:\\Users\\Mehmet\\Desktop\\new_splited_wheat_dataset\\tmp_train\\images\\KiziltanVitreous\\20220426_155031.jpg: corrupt JPEG restored and saved\n",
      "\u001b[34m\u001b[1mtrain: \u001b[0mWARNING  C:\\Users\\Mehmet\\Desktop\\new_splited_wheat_dataset\\tmp_train\\images\\KiziltanVitreous\\20220426_155038.jpg: corrupt JPEG restored and saved\n",
      "\u001b[34m\u001b[1mtrain: \u001b[0mWARNING  C:\\Users\\Mehmet\\Desktop\\new_splited_wheat_dataset\\tmp_train\\images\\KiziltanVitreous\\20220426_155043.jpg: corrupt JPEG restored and saved\n",
      "\u001b[34m\u001b[1mtrain: \u001b[0mWARNING  C:\\Users\\Mehmet\\Desktop\\new_splited_wheat_dataset\\tmp_train\\images\\KiziltanVitreous\\20220426_155046.jpg: corrupt JPEG restored and saved\n",
      "\u001b[34m\u001b[1mtrain: \u001b[0mWARNING  C:\\Users\\Mehmet\\Desktop\\new_splited_wheat_dataset\\tmp_train\\images\\KiziltanVitreous\\20220426_155048.jpg: corrupt JPEG restored and saved\n",
      "\u001b[34m\u001b[1mtrain: \u001b[0mWARNING  C:\\Users\\Mehmet\\Desktop\\new_splited_wheat_dataset\\tmp_train\\images\\KiziltanVitreous\\20220426_155051.jpg: corrupt JPEG restored and saved\n",
      "\u001b[34m\u001b[1mtrain: \u001b[0mWARNING  C:\\Users\\Mehmet\\Desktop\\new_splited_wheat_dataset\\tmp_train\\images\\KiziltanVitreous\\20220426_160323.jpg: corrupt JPEG restored and saved\n",
      "\u001b[34m\u001b[1mtrain: \u001b[0mWARNING  C:\\Users\\Mehmet\\Desktop\\new_splited_wheat_dataset\\tmp_train\\images\\KiziltanVitreous\\20220426_160328.jpg: corrupt JPEG restored and saved\n",
      "\u001b[34m\u001b[1mtrain: \u001b[0mWARNING  C:\\Users\\Mehmet\\Desktop\\new_splited_wheat_dataset\\tmp_train\\images\\KiziltanVitreous\\20220426_160330.jpg: corrupt JPEG restored and saved\n",
      "\u001b[34m\u001b[1mtrain: \u001b[0mWARNING  C:\\Users\\Mehmet\\Desktop\\new_splited_wheat_dataset\\tmp_train\\images\\KiziltanVitreous\\20220426_160338.jpg: corrupt JPEG restored and saved\n",
      "\u001b[34m\u001b[1mtrain: \u001b[0mWARNING  C:\\Users\\Mehmet\\Desktop\\new_splited_wheat_dataset\\tmp_train\\images\\KiziltanVitreous\\20220426_160340.jpg: corrupt JPEG restored and saved\n",
      "\u001b[34m\u001b[1mtrain: \u001b[0mWARNING  C:\\Users\\Mehmet\\Desktop\\new_splited_wheat_dataset\\tmp_train\\images\\KiziltanVitreous\\20220426_160349.jpg: corrupt JPEG restored and saved\n",
      "\u001b[34m\u001b[1mtrain: \u001b[0mWARNING  C:\\Users\\Mehmet\\Desktop\\new_splited_wheat_dataset\\tmp_train\\images\\KiziltanVitreous\\20220426_160354.jpg: corrupt JPEG restored and saved\n",
      "\u001b[34m\u001b[1mtrain: \u001b[0mWARNING  C:\\Users\\Mehmet\\Desktop\\new_splited_wheat_dataset\\tmp_train\\images\\KiziltanVitreous\\20220426_160356.jpg: corrupt JPEG restored and saved\n",
      "\u001b[34m\u001b[1mtrain: \u001b[0mWARNING  C:\\Users\\Mehmet\\Desktop\\new_splited_wheat_dataset\\tmp_train\\images\\KiziltanVitreous\\20220426_160358.jpg: corrupt JPEG restored and saved\n",
      "\u001b[34m\u001b[1mtrain: \u001b[0mWARNING  C:\\Users\\Mehmet\\Desktop\\new_splited_wheat_dataset\\tmp_train\\images\\KiziltanVitreous\\20220426_160429.jpg: corrupt JPEG restored and saved\n",
      "\u001b[34m\u001b[1mtrain: \u001b[0mWARNING  C:\\Users\\Mehmet\\Desktop\\new_splited_wheat_dataset\\tmp_train\\images\\KiziltanVitreous\\20220426_160433.jpg: corrupt JPEG restored and saved\n",
      "\u001b[34m\u001b[1mtrain: \u001b[0mWARNING  C:\\Users\\Mehmet\\Desktop\\new_splited_wheat_dataset\\tmp_train\\images\\KiziltanVitreous\\20220426_160437.jpg: corrupt JPEG restored and saved\n",
      "\u001b[34m\u001b[1mtrain: \u001b[0mWARNING  C:\\Users\\Mehmet\\Desktop\\new_splited_wheat_dataset\\tmp_train\\images\\KiziltanVitreous\\20220426_160456.jpg: corrupt JPEG restored and saved\n",
      "\u001b[34m\u001b[1mtrain: \u001b[0mWARNING  C:\\Users\\Mehmet\\Desktop\\new_splited_wheat_dataset\\tmp_train\\images\\KiziltanVitreous\\20220426_160501.jpg: corrupt JPEG restored and saved\n",
      "\u001b[34m\u001b[1mtrain: \u001b[0mWARNING  C:\\Users\\Mehmet\\Desktop\\new_splited_wheat_dataset\\tmp_train\\images\\KiziltanVitreous\\20220426_160516.jpg: corrupt JPEG restored and saved\n",
      "\u001b[34m\u001b[1mtrain: \u001b[0mWARNING  C:\\Users\\Mehmet\\Desktop\\new_splited_wheat_dataset\\tmp_train\\images\\KiziltanVitreous\\20220426_160518.jpg: corrupt JPEG restored and saved\n",
      "\u001b[34m\u001b[1mtrain: \u001b[0mWARNING  C:\\Users\\Mehmet\\Desktop\\new_splited_wheat_dataset\\tmp_train\\images\\KiziltanVitreous\\20220426_160520.jpg: corrupt JPEG restored and saved\n",
      "\u001b[34m\u001b[1mtrain: \u001b[0mWARNING  C:\\Users\\Mehmet\\Desktop\\new_splited_wheat_dataset\\tmp_train\\images\\KiziltanVitreous\\20220426_160523.jpg: corrupt JPEG restored and saved\n",
      "\u001b[34m\u001b[1mtrain: \u001b[0mWARNING  C:\\Users\\Mehmet\\Desktop\\new_splited_wheat_dataset\\tmp_train\\images\\KiziltanVitreous\\20220426_160525.jpg: corrupt JPEG restored and saved\n",
      "\u001b[34m\u001b[1mtrain: \u001b[0mWARNING  C:\\Users\\Mehmet\\Desktop\\new_splited_wheat_dataset\\tmp_train\\images\\KiziltanVitreous\\20220426_160528.jpg: corrupt JPEG restored and saved\n",
      "\u001b[34m\u001b[1mtrain: \u001b[0mWARNING  C:\\Users\\Mehmet\\Desktop\\new_splited_wheat_dataset\\tmp_train\\images\\KiziltanVitreous\\20220426_160531.jpg: corrupt JPEG restored and saved\n",
      "\u001b[34m\u001b[1mtrain: \u001b[0mWARNING  C:\\Users\\Mehmet\\Desktop\\new_splited_wheat_dataset\\tmp_train\\images\\KiziltanVitreous\\20220426_160539.jpg: corrupt JPEG restored and saved\n",
      "\u001b[34m\u001b[1mtrain: \u001b[0mWARNING  C:\\Users\\Mehmet\\Desktop\\new_splited_wheat_dataset\\tmp_train\\images\\KiziltanVitreous\\20220426_160542.jpg: corrupt JPEG restored and saved\n",
      "\u001b[34m\u001b[1mtrain: \u001b[0mWARNING  C:\\Users\\Mehmet\\Desktop\\new_splited_wheat_dataset\\tmp_train\\images\\KiziltanVitreous\\20220426_160545.jpg: corrupt JPEG restored and saved\n",
      "\u001b[34m\u001b[1mtrain: \u001b[0mWARNING  C:\\Users\\Mehmet\\Desktop\\new_splited_wheat_dataset\\tmp_train\\images\\KiziltanVitreous\\20220426_160547.jpg: corrupt JPEG restored and saved\n",
      "\u001b[34m\u001b[1mtrain: \u001b[0mWARNING  C:\\Users\\Mehmet\\Desktop\\new_splited_wheat_dataset\\tmp_train\\images\\KiziltanVitreous\\20220426_160550.jpg: corrupt JPEG restored and saved\n",
      "\u001b[34m\u001b[1mtrain: \u001b[0mWARNING  C:\\Users\\Mehmet\\Desktop\\new_splited_wheat_dataset\\tmp_train\\images\\KiziltanVitreous\\20220426_160600.jpg: corrupt JPEG restored and saved\n",
      "\u001b[34m\u001b[1mtrain: \u001b[0mWARNING  C:\\Users\\Mehmet\\Desktop\\new_splited_wheat_dataset\\tmp_train\\images\\KiziltanVitreous\\20220426_160613.jpg: corrupt JPEG restored and saved\n",
      "\u001b[34m\u001b[1mtrain: \u001b[0mWARNING  C:\\Users\\Mehmet\\Desktop\\new_splited_wheat_dataset\\tmp_train\\images\\KiziltanVitreous\\20220426_160617.jpg: corrupt JPEG restored and saved\n",
      "\u001b[34m\u001b[1mtrain: \u001b[0mWARNING  C:\\Users\\Mehmet\\Desktop\\new_splited_wheat_dataset\\tmp_train\\images\\LucillaVitreous\\20220426_175135.jpg: corrupt JPEG restored and saved\n",
      "\u001b[34m\u001b[1mtrain: \u001b[0mWARNING  C:\\Users\\Mehmet\\Desktop\\new_splited_wheat_dataset\\tmp_train\\images\\LucillaVitreous\\20220426_175137.jpg: corrupt JPEG restored and saved\n",
      "\u001b[34m\u001b[1mtrain: \u001b[0mWARNING  C:\\Users\\Mehmet\\Desktop\\new_splited_wheat_dataset\\tmp_train\\images\\LucillaVitreous\\20220426_175139.jpg: corrupt JPEG restored and saved\n",
      "\u001b[34m\u001b[1mtrain: \u001b[0mWARNING  C:\\Users\\Mehmet\\Desktop\\new_splited_wheat_dataset\\tmp_train\\images\\LucillaVitreous\\20220426_175141.jpg: corrupt JPEG restored and saved\n",
      "\u001b[34m\u001b[1mtrain: \u001b[0mWARNING  C:\\Users\\Mehmet\\Desktop\\new_splited_wheat_dataset\\tmp_train\\images\\LucillaVitreous\\20220426_175143.jpg: corrupt JPEG restored and saved\n",
      "\u001b[34m\u001b[1mtrain: \u001b[0mWARNING  C:\\Users\\Mehmet\\Desktop\\new_splited_wheat_dataset\\tmp_train\\images\\LucillaVitreous\\20220426_175147.jpg: corrupt JPEG restored and saved\n",
      "\u001b[34m\u001b[1mtrain: \u001b[0mWARNING  C:\\Users\\Mehmet\\Desktop\\new_splited_wheat_dataset\\tmp_train\\images\\LucillaVitreous\\20220426_175149.jpg: corrupt JPEG restored and saved\n",
      "\u001b[34m\u001b[1mtrain: \u001b[0mWARNING  C:\\Users\\Mehmet\\Desktop\\new_splited_wheat_dataset\\tmp_train\\images\\LucillaVitreous\\20220426_175154.jpg: corrupt JPEG restored and saved\n",
      "\u001b[34m\u001b[1mtrain: \u001b[0mWARNING  C:\\Users\\Mehmet\\Desktop\\new_splited_wheat_dataset\\tmp_train\\images\\LucillaVitreous\\20220426_175156.jpg: corrupt JPEG restored and saved\n",
      "\u001b[34m\u001b[1mtrain: \u001b[0mWARNING  C:\\Users\\Mehmet\\Desktop\\new_splited_wheat_dataset\\tmp_train\\images\\LucillaVitreous\\20220426_175158.jpg: corrupt JPEG restored and saved\n",
      "\u001b[34m\u001b[1mtrain: \u001b[0mWARNING  C:\\Users\\Mehmet\\Desktop\\new_splited_wheat_dataset\\tmp_train\\images\\LucillaVitreous\\20220426_175202.jpg: corrupt JPEG restored and saved\n",
      "\u001b[34m\u001b[1mtrain: \u001b[0mWARNING  C:\\Users\\Mehmet\\Desktop\\new_splited_wheat_dataset\\tmp_train\\images\\LucillaVitreous\\20220426_175204.jpg: corrupt JPEG restored and saved\n",
      "\u001b[34m\u001b[1mtrain: \u001b[0mWARNING  C:\\Users\\Mehmet\\Desktop\\new_splited_wheat_dataset\\tmp_train\\images\\LucillaVitreous\\20220426_175206.jpg: corrupt JPEG restored and saved\n",
      "\u001b[34m\u001b[1mtrain: \u001b[0mWARNING  C:\\Users\\Mehmet\\Desktop\\new_splited_wheat_dataset\\tmp_train\\images\\LucillaVitreous\\20220426_175208.jpg: corrupt JPEG restored and saved\n",
      "\u001b[34m\u001b[1mtrain: \u001b[0mWARNING  C:\\Users\\Mehmet\\Desktop\\new_splited_wheat_dataset\\tmp_train\\images\\LucillaVitreous\\20220426_175216.jpg: corrupt JPEG restored and saved\n",
      "\u001b[34m\u001b[1mtrain: \u001b[0mWARNING  C:\\Users\\Mehmet\\Desktop\\new_splited_wheat_dataset\\tmp_train\\images\\LucillaVitreous\\20220426_175233.jpg: corrupt JPEG restored and saved\n",
      "\u001b[34m\u001b[1mtrain: \u001b[0mWARNING  C:\\Users\\Mehmet\\Desktop\\new_splited_wheat_dataset\\tmp_train\\images\\LucillaVitreous\\20220426_175254.jpg: corrupt JPEG restored and saved\n",
      "\u001b[34m\u001b[1mtrain: \u001b[0mWARNING  C:\\Users\\Mehmet\\Desktop\\new_splited_wheat_dataset\\tmp_train\\images\\LucillaVitreous\\20220426_175257.jpg: corrupt JPEG restored and saved\n",
      "\u001b[34m\u001b[1mtrain: \u001b[0mWARNING  C:\\Users\\Mehmet\\Desktop\\new_splited_wheat_dataset\\tmp_train\\images\\LucillaVitreous\\20220426_175259.jpg: corrupt JPEG restored and saved\n",
      "\u001b[34m\u001b[1mtrain: \u001b[0mWARNING  C:\\Users\\Mehmet\\Desktop\\new_splited_wheat_dataset\\tmp_train\\images\\LucillaVitreous\\20220426_175304.jpg: corrupt JPEG restored and saved\n",
      "\u001b[34m\u001b[1mtrain: \u001b[0mWARNING  C:\\Users\\Mehmet\\Desktop\\new_splited_wheat_dataset\\tmp_train\\images\\LucillaVitreous\\20220426_175308.jpg: corrupt JPEG restored and saved\n",
      "\u001b[34m\u001b[1mtrain: \u001b[0mWARNING  C:\\Users\\Mehmet\\Desktop\\new_splited_wheat_dataset\\tmp_train\\images\\LucillaVitreous\\20220426_175310.jpg: corrupt JPEG restored and saved\n",
      "\u001b[34m\u001b[1mtrain: \u001b[0mWARNING  C:\\Users\\Mehmet\\Desktop\\new_splited_wheat_dataset\\tmp_train\\images\\LucillaVitreous\\20220426_175316.jpg: corrupt JPEG restored and saved\n",
      "\u001b[34m\u001b[1mtrain: \u001b[0mWARNING  C:\\Users\\Mehmet\\Desktop\\new_splited_wheat_dataset\\tmp_train\\images\\LucillaVitreous\\20220426_175319.jpg: corrupt JPEG restored and saved\n",
      "\u001b[34m\u001b[1mtrain: \u001b[0mWARNING  C:\\Users\\Mehmet\\Desktop\\new_splited_wheat_dataset\\tmp_train\\images\\LucillaVitreous\\20220426_175325.jpg: corrupt JPEG restored and saved\n",
      "\u001b[34m\u001b[1mtrain: \u001b[0mWARNING  C:\\Users\\Mehmet\\Desktop\\new_splited_wheat_dataset\\tmp_train\\images\\LucillaVitreous\\20220426_175327.jpg: corrupt JPEG restored and saved\n",
      "\u001b[34m\u001b[1mtrain: \u001b[0mWARNING  C:\\Users\\Mehmet\\Desktop\\new_splited_wheat_dataset\\tmp_train\\images\\LucillaVitreous\\20220426_175329.jpg: corrupt JPEG restored and saved\n",
      "\u001b[34m\u001b[1mtrain: \u001b[0mWARNING  C:\\Users\\Mehmet\\Desktop\\new_splited_wheat_dataset\\tmp_train\\images\\LucillaVitreous\\20220426_175338.jpg: corrupt JPEG restored and saved\n",
      "\u001b[34m\u001b[1mtrain: \u001b[0mWARNING  C:\\Users\\Mehmet\\Desktop\\new_splited_wheat_dataset\\tmp_train\\images\\LucillaVitreous\\20220426_175341.jpg: corrupt JPEG restored and saved\n",
      "\u001b[34m\u001b[1mtrain: \u001b[0mWARNING  C:\\Users\\Mehmet\\Desktop\\new_splited_wheat_dataset\\tmp_train\\images\\LucillaVitreous\\20220426_175342.jpg: corrupt JPEG restored and saved\n",
      "\u001b[34m\u001b[1mtrain: \u001b[0mWARNING  C:\\Users\\Mehmet\\Desktop\\new_splited_wheat_dataset\\tmp_train\\images\\LucillaVitreous\\20220426_175344.jpg: corrupt JPEG restored and saved\n",
      "\u001b[34m\u001b[1mtrain: \u001b[0mWARNING  C:\\Users\\Mehmet\\Desktop\\new_splited_wheat_dataset\\tmp_train\\images\\LucillaVitreous\\20220426_175346.jpg: corrupt JPEG restored and saved\n",
      "\u001b[34m\u001b[1mtrain: \u001b[0mWARNING  C:\\Users\\Mehmet\\Desktop\\new_splited_wheat_dataset\\tmp_train\\images\\LucillaVitreous\\20220426_175350.jpg: corrupt JPEG restored and saved\n",
      "\u001b[34m\u001b[1mtrain: \u001b[0mWARNING  C:\\Users\\Mehmet\\Desktop\\new_splited_wheat_dataset\\tmp_train\\images\\LucillaVitreous\\20220426_175353.jpg: corrupt JPEG restored and saved\n",
      "\u001b[34m\u001b[1mtrain: \u001b[0mWARNING  C:\\Users\\Mehmet\\Desktop\\new_splited_wheat_dataset\\tmp_train\\images\\LucillaVitreous\\20220426_175357.jpg: corrupt JPEG restored and saved\n",
      "\u001b[34m\u001b[1mtrain: \u001b[0mWARNING  C:\\Users\\Mehmet\\Desktop\\new_splited_wheat_dataset\\tmp_train\\images\\LucillaVitreous\\20220426_175359.jpg: corrupt JPEG restored and saved\n",
      "\u001b[34m\u001b[1mtrain: \u001b[0mWARNING  C:\\Users\\Mehmet\\Desktop\\new_splited_wheat_dataset\\tmp_train\\images\\LucillaVitreous\\20220426_175401.jpg: corrupt JPEG restored and saved\n",
      "\u001b[34m\u001b[1mtrain: \u001b[0mWARNING  C:\\Users\\Mehmet\\Desktop\\new_splited_wheat_dataset\\tmp_train\\images\\LucillaVitreous\\20220426_175403.jpg: corrupt JPEG restored and saved\n",
      "\u001b[34m\u001b[1mtrain: \u001b[0mWARNING  C:\\Users\\Mehmet\\Desktop\\new_splited_wheat_dataset\\tmp_train\\images\\LucillaVitreous\\20220426_175412.jpg: corrupt JPEG restored and saved\n",
      "\u001b[34m\u001b[1mtrain: \u001b[0mWARNING  C:\\Users\\Mehmet\\Desktop\\new_splited_wheat_dataset\\tmp_train\\images\\LucillaVitreous\\20220426_175414.jpg: corrupt JPEG restored and saved\n",
      "\u001b[34m\u001b[1mtrain: \u001b[0mWARNING  C:\\Users\\Mehmet\\Desktop\\new_splited_wheat_dataset\\tmp_train\\images\\LucillaVitreous\\20220426_175415.jpg: corrupt JPEG restored and saved\n",
      "\u001b[34m\u001b[1mtrain: \u001b[0mWARNING  C:\\Users\\Mehmet\\Desktop\\new_splited_wheat_dataset\\tmp_train\\images\\LucillaVitreous\\20220426_175419.jpg: corrupt JPEG restored and saved\n",
      "\u001b[34m\u001b[1mtrain: \u001b[0mWARNING  C:\\Users\\Mehmet\\Desktop\\new_splited_wheat_dataset\\tmp_train\\images\\LucillaVitreous\\20220426_175424.jpg: corrupt JPEG restored and saved\n",
      "\u001b[34m\u001b[1mtrain: \u001b[0mWARNING  C:\\Users\\Mehmet\\Desktop\\new_splited_wheat_dataset\\tmp_train\\images\\LucillaVitreous\\20220426_175427.jpg: corrupt JPEG restored and saved\n",
      "\u001b[34m\u001b[1mtrain: \u001b[0mWARNING  C:\\Users\\Mehmet\\Desktop\\new_splited_wheat_dataset\\tmp_train\\images\\LucillaVitreous\\20220426_175432.jpg: corrupt JPEG restored and saved\n",
      "\u001b[34m\u001b[1mtrain: \u001b[0mWARNING  C:\\Users\\Mehmet\\Desktop\\new_splited_wheat_dataset\\tmp_train\\images\\LucillaVitreous\\20220426_175435.jpg: corrupt JPEG restored and saved\n",
      "\u001b[34m\u001b[1mtrain: \u001b[0mWARNING  C:\\Users\\Mehmet\\Desktop\\new_splited_wheat_dataset\\tmp_train\\images\\LucillaVitreous\\20220426_175441.jpg: corrupt JPEG restored and saved\n",
      "\u001b[34m\u001b[1mtrain: \u001b[0mWARNING  C:\\Users\\Mehmet\\Desktop\\new_splited_wheat_dataset\\tmp_train\\images\\LucillaVitreous\\20220426_175449.jpg: corrupt JPEG restored and saved\n",
      "\u001b[34m\u001b[1mtrain: \u001b[0mWARNING  C:\\Users\\Mehmet\\Desktop\\new_splited_wheat_dataset\\tmp_train\\images\\LucillaVitreous\\20220426_175451.jpg: corrupt JPEG restored and saved\n",
      "\u001b[34m\u001b[1mtrain: \u001b[0mWARNING  C:\\Users\\Mehmet\\Desktop\\new_splited_wheat_dataset\\tmp_train\\images\\LucillaVitreous\\20220426_175458.jpg: corrupt JPEG restored and saved\n",
      "\u001b[34m\u001b[1mtrain: \u001b[0mWARNING  C:\\Users\\Mehmet\\Desktop\\new_splited_wheat_dataset\\tmp_train\\images\\LucillaVitreous\\20220426_175500.jpg: corrupt JPEG restored and saved\n",
      "\u001b[34m\u001b[1mtrain: \u001b[0mWARNING  C:\\Users\\Mehmet\\Desktop\\new_splited_wheat_dataset\\tmp_train\\images\\LucillaVitreous\\20220426_175502.jpg: corrupt JPEG restored and saved\n",
      "\u001b[34m\u001b[1mtrain: \u001b[0mWARNING  C:\\Users\\Mehmet\\Desktop\\new_splited_wheat_dataset\\tmp_train\\images\\LucillaVitreous\\20220426_175508.jpg: corrupt JPEG restored and saved\n",
      "\u001b[34m\u001b[1mtrain: \u001b[0mWARNING  C:\\Users\\Mehmet\\Desktop\\new_splited_wheat_dataset\\tmp_train\\images\\LucillaVitreous\\20220426_175510.jpg: corrupt JPEG restored and saved\n",
      "\u001b[34m\u001b[1mtrain: \u001b[0mWARNING  C:\\Users\\Mehmet\\Desktop\\new_splited_wheat_dataset\\tmp_train\\images\\LucillaVitreous\\20220426_175514.jpg: corrupt JPEG restored and saved\n",
      "\u001b[34m\u001b[1mtrain: \u001b[0mWARNING  C:\\Users\\Mehmet\\Desktop\\new_splited_wheat_dataset\\tmp_train\\images\\LucillaVitreous\\20220426_175516.jpg: corrupt JPEG restored and saved\n",
      "\u001b[34m\u001b[1mtrain: \u001b[0mWARNING  C:\\Users\\Mehmet\\Desktop\\new_splited_wheat_dataset\\tmp_train\\images\\LucillaVitreous\\20220426_175524.jpg: corrupt JPEG restored and saved\n",
      "\u001b[34m\u001b[1mtrain: \u001b[0mWARNING  C:\\Users\\Mehmet\\Desktop\\new_splited_wheat_dataset\\tmp_train\\images\\LucillaVitreous\\20220426_175529.jpg: corrupt JPEG restored and saved\n",
      "\u001b[34m\u001b[1mtrain: \u001b[0mWARNING  C:\\Users\\Mehmet\\Desktop\\new_splited_wheat_dataset\\tmp_train\\images\\LucillaVitreous\\20220426_175531.jpg: corrupt JPEG restored and saved\n",
      "\u001b[34m\u001b[1mtrain: \u001b[0mWARNING  C:\\Users\\Mehmet\\Desktop\\new_splited_wheat_dataset\\tmp_train\\images\\LucillaVitreous\\20220426_175533.jpg: corrupt JPEG restored and saved\n",
      "\u001b[34m\u001b[1mtrain: \u001b[0mWARNING  C:\\Users\\Mehmet\\Desktop\\new_splited_wheat_dataset\\tmp_train\\images\\LucillaVitreous\\20220426_175537.jpg: corrupt JPEG restored and saved\n",
      "\u001b[34m\u001b[1mtrain: \u001b[0mWARNING  C:\\Users\\Mehmet\\Desktop\\new_splited_wheat_dataset\\tmp_train\\images\\LucillaVitreous\\20220426_175541.jpg: corrupt JPEG restored and saved\n",
      "\u001b[34m\u001b[1mtrain: \u001b[0mWARNING  C:\\Users\\Mehmet\\Desktop\\new_splited_wheat_dataset\\tmp_train\\images\\LucillaVitreous\\20220426_175544.jpg: corrupt JPEG restored and saved\n",
      "\u001b[34m\u001b[1mtrain: \u001b[0mWARNING  C:\\Users\\Mehmet\\Desktop\\new_splited_wheat_dataset\\tmp_train\\images\\LucillaVitreous\\20220426_175550.jpg: corrupt JPEG restored and saved\n",
      "\u001b[34m\u001b[1mtrain: \u001b[0mWARNING  C:\\Users\\Mehmet\\Desktop\\new_splited_wheat_dataset\\tmp_train\\images\\LucillaVitreous\\20220426_175557.jpg: corrupt JPEG restored and saved\n",
      "\u001b[34m\u001b[1mtrain: \u001b[0mWARNING  C:\\Users\\Mehmet\\Desktop\\new_splited_wheat_dataset\\tmp_train\\images\\OdeskaVitreous\\20220426_172201.jpg: corrupt JPEG restored and saved\n",
      "\u001b[34m\u001b[1mtrain: \u001b[0mWARNING  C:\\Users\\Mehmet\\Desktop\\new_splited_wheat_dataset\\tmp_train\\images\\OdeskaVitreous\\20220426_172203.jpg: corrupt JPEG restored and saved\n",
      "\u001b[34m\u001b[1mtrain: \u001b[0mWARNING  C:\\Users\\Mehmet\\Desktop\\new_splited_wheat_dataset\\tmp_train\\images\\OdeskaVitreous\\20220426_172206.jpg: corrupt JPEG restored and saved\n",
      "\u001b[34m\u001b[1mtrain: \u001b[0mWARNING  C:\\Users\\Mehmet\\Desktop\\new_splited_wheat_dataset\\tmp_train\\images\\OdeskaVitreous\\20220426_172208.jpg: corrupt JPEG restored and saved\n",
      "\u001b[34m\u001b[1mtrain: \u001b[0mWARNING  C:\\Users\\Mehmet\\Desktop\\new_splited_wheat_dataset\\tmp_train\\images\\OdeskaVitreous\\20220426_172213.jpg: corrupt JPEG restored and saved\n",
      "\u001b[34m\u001b[1mtrain: \u001b[0mWARNING  C:\\Users\\Mehmet\\Desktop\\new_splited_wheat_dataset\\tmp_train\\images\\OdeskaVitreous\\20220426_172227.jpg: corrupt JPEG restored and saved\n",
      "\u001b[34m\u001b[1mtrain: \u001b[0mWARNING  C:\\Users\\Mehmet\\Desktop\\new_splited_wheat_dataset\\tmp_train\\images\\OdeskaVitreous\\20220426_172229.jpg: corrupt JPEG restored and saved\n",
      "\u001b[34m\u001b[1mtrain: \u001b[0mWARNING  C:\\Users\\Mehmet\\Desktop\\new_splited_wheat_dataset\\tmp_train\\images\\OdeskaVitreous\\20220426_172232.jpg: corrupt JPEG restored and saved\n",
      "\u001b[34m\u001b[1mtrain: \u001b[0mWARNING  C:\\Users\\Mehmet\\Desktop\\new_splited_wheat_dataset\\tmp_train\\images\\OdeskaVitreous\\20220426_172236.jpg: corrupt JPEG restored and saved\n",
      "\u001b[34m\u001b[1mtrain: \u001b[0mWARNING  C:\\Users\\Mehmet\\Desktop\\new_splited_wheat_dataset\\tmp_train\\images\\OdeskaVitreous\\20220426_172241.jpg: corrupt JPEG restored and saved\n",
      "\u001b[34m\u001b[1mtrain: \u001b[0mWARNING  C:\\Users\\Mehmet\\Desktop\\new_splited_wheat_dataset\\tmp_train\\images\\OdeskaVitreous\\20220426_172243.jpg: corrupt JPEG restored and saved\n",
      "\u001b[34m\u001b[1mtrain: \u001b[0mWARNING  C:\\Users\\Mehmet\\Desktop\\new_splited_wheat_dataset\\tmp_train\\images\\OdeskaVitreous\\20220426_172246.jpg: corrupt JPEG restored and saved\n",
      "\u001b[34m\u001b[1mtrain: \u001b[0mWARNING  C:\\Users\\Mehmet\\Desktop\\new_splited_wheat_dataset\\tmp_train\\images\\OdeskaVitreous\\20220426_172248.jpg: corrupt JPEG restored and saved\n",
      "\u001b[34m\u001b[1mtrain: \u001b[0mWARNING  C:\\Users\\Mehmet\\Desktop\\new_splited_wheat_dataset\\tmp_train\\images\\OdeskaVitreous\\20220426_172309.jpg: corrupt JPEG restored and saved\n",
      "\u001b[34m\u001b[1mtrain: \u001b[0mWARNING  C:\\Users\\Mehmet\\Desktop\\new_splited_wheat_dataset\\tmp_train\\images\\OdeskaVitreous\\20220426_172319.jpg: corrupt JPEG restored and saved\n",
      "\u001b[34m\u001b[1mtrain: \u001b[0mWARNING  C:\\Users\\Mehmet\\Desktop\\new_splited_wheat_dataset\\tmp_train\\images\\OdeskaVitreous\\20220426_172326.jpg: corrupt JPEG restored and saved\n",
      "\u001b[34m\u001b[1mtrain: \u001b[0mWARNING  C:\\Users\\Mehmet\\Desktop\\new_splited_wheat_dataset\\tmp_train\\images\\OdeskaVitreous\\20220426_172329.jpg: corrupt JPEG restored and saved\n",
      "\u001b[34m\u001b[1mtrain: \u001b[0mWARNING  C:\\Users\\Mehmet\\Desktop\\new_splited_wheat_dataset\\tmp_train\\images\\OdeskaVitreous\\20220426_172331.jpg: corrupt JPEG restored and saved\n",
      "\u001b[34m\u001b[1mtrain: \u001b[0mWARNING  C:\\Users\\Mehmet\\Desktop\\new_splited_wheat_dataset\\tmp_train\\images\\OdeskaVitreous\\20220426_172334.jpg: corrupt JPEG restored and saved\n",
      "\u001b[34m\u001b[1mtrain: \u001b[0mWARNING  C:\\Users\\Mehmet\\Desktop\\new_splited_wheat_dataset\\tmp_train\\images\\OdeskaVitreous\\20220426_172336.jpg: corrupt JPEG restored and saved\n",
      "\u001b[34m\u001b[1mtrain: \u001b[0mWARNING  C:\\Users\\Mehmet\\Desktop\\new_splited_wheat_dataset\\tmp_train\\images\\OdeskaVitreous\\20220426_172341.jpg: corrupt JPEG restored and saved\n",
      "\u001b[34m\u001b[1mtrain: \u001b[0mWARNING  C:\\Users\\Mehmet\\Desktop\\new_splited_wheat_dataset\\tmp_train\\images\\OdeskaVitreous\\20220426_172343.jpg: corrupt JPEG restored and saved\n",
      "\u001b[34m\u001b[1mtrain: \u001b[0mWARNING  C:\\Users\\Mehmet\\Desktop\\new_splited_wheat_dataset\\tmp_train\\images\\OdeskaVitreous\\20220426_172345.jpg: corrupt JPEG restored and saved\n",
      "\u001b[34m\u001b[1mtrain: \u001b[0mWARNING  C:\\Users\\Mehmet\\Desktop\\new_splited_wheat_dataset\\tmp_train\\images\\OdeskaVitreous\\20220426_172348.jpg: corrupt JPEG restored and saved\n",
      "\u001b[34m\u001b[1mtrain: \u001b[0mWARNING  C:\\Users\\Mehmet\\Desktop\\new_splited_wheat_dataset\\tmp_train\\images\\OdeskaVitreous\\20220426_172351.jpg: corrupt JPEG restored and saved\n",
      "\u001b[34m\u001b[1mtrain: \u001b[0mWARNING  C:\\Users\\Mehmet\\Desktop\\new_splited_wheat_dataset\\tmp_train\\images\\OdeskaVitreous\\20220426_172354.jpg: corrupt JPEG restored and saved\n",
      "\u001b[34m\u001b[1mtrain: \u001b[0mWARNING  C:\\Users\\Mehmet\\Desktop\\new_splited_wheat_dataset\\tmp_train\\images\\OdeskaVitreous\\20220426_172359.jpg: corrupt JPEG restored and saved\n",
      "\u001b[34m\u001b[1mtrain: \u001b[0mWARNING  C:\\Users\\Mehmet\\Desktop\\new_splited_wheat_dataset\\tmp_train\\images\\OdeskaVitreous\\20220426_172417.jpg: corrupt JPEG restored and saved\n",
      "\u001b[34m\u001b[1mtrain: \u001b[0mWARNING  C:\\Users\\Mehmet\\Desktop\\new_splited_wheat_dataset\\tmp_train\\images\\OdeskaVitreous\\20220426_172419.jpg: corrupt JPEG restored and saved\n",
      "\u001b[34m\u001b[1mtrain: \u001b[0mWARNING  C:\\Users\\Mehmet\\Desktop\\new_splited_wheat_dataset\\tmp_train\\images\\OdeskaVitreous\\20220426_172421.jpg: corrupt JPEG restored and saved\n",
      "\u001b[34m\u001b[1mtrain: \u001b[0mWARNING  C:\\Users\\Mehmet\\Desktop\\new_splited_wheat_dataset\\tmp_train\\images\\OdeskaVitreous\\20220426_172423.jpg: corrupt JPEG restored and saved\n",
      "\u001b[34m\u001b[1mtrain: \u001b[0mWARNING  C:\\Users\\Mehmet\\Desktop\\new_splited_wheat_dataset\\tmp_train\\images\\OdeskaVitreous\\20220426_172429.jpg: corrupt JPEG restored and saved\n",
      "\u001b[34m\u001b[1mtrain: \u001b[0mWARNING  C:\\Users\\Mehmet\\Desktop\\new_splited_wheat_dataset\\tmp_train\\images\\OdeskaVitreous\\20220426_172433.jpg: corrupt JPEG restored and saved\n",
      "\u001b[34m\u001b[1mtrain: \u001b[0mWARNING  C:\\Users\\Mehmet\\Desktop\\new_splited_wheat_dataset\\tmp_train\\images\\OdeskaVitreous\\20220426_172436.jpg: corrupt JPEG restored and saved\n",
      "\u001b[34m\u001b[1mtrain: \u001b[0mWARNING  C:\\Users\\Mehmet\\Desktop\\new_splited_wheat_dataset\\tmp_train\\images\\OdeskaVitreous\\20220426_172451.jpg: corrupt JPEG restored and saved\n",
      "\u001b[34m\u001b[1mtrain: \u001b[0mWARNING  C:\\Users\\Mehmet\\Desktop\\new_splited_wheat_dataset\\tmp_train\\images\\OdeskaVitreous\\20220426_172453.jpg: corrupt JPEG restored and saved\n",
      "\u001b[34m\u001b[1mtrain: \u001b[0mWARNING  C:\\Users\\Mehmet\\Desktop\\new_splited_wheat_dataset\\tmp_train\\images\\OdeskaVitreous\\20220426_172455.jpg: corrupt JPEG restored and saved\n",
      "\u001b[34m\u001b[1mtrain: \u001b[0mWARNING  C:\\Users\\Mehmet\\Desktop\\new_splited_wheat_dataset\\tmp_train\\images\\OdeskaVitreous\\20220426_172457.jpg: corrupt JPEG restored and saved\n",
      "\u001b[34m\u001b[1mtrain: \u001b[0mWARNING  C:\\Users\\Mehmet\\Desktop\\new_splited_wheat_dataset\\tmp_train\\images\\OdeskaVitreous\\20220426_172500.jpg: corrupt JPEG restored and saved\n",
      "\u001b[34m\u001b[1mtrain: \u001b[0mWARNING  C:\\Users\\Mehmet\\Desktop\\new_splited_wheat_dataset\\tmp_train\\images\\OdeskaVitreous\\20220426_172502.jpg: corrupt JPEG restored and saved\n",
      "\u001b[34m\u001b[1mtrain: \u001b[0mWARNING  C:\\Users\\Mehmet\\Desktop\\new_splited_wheat_dataset\\tmp_train\\images\\OdeskaVitreous\\20220426_172505.jpg: corrupt JPEG restored and saved\n",
      "\u001b[34m\u001b[1mtrain: \u001b[0mWARNING  C:\\Users\\Mehmet\\Desktop\\new_splited_wheat_dataset\\tmp_train\\images\\OdeskaVitreous\\20220426_172509.jpg: corrupt JPEG restored and saved\n",
      "\u001b[34m\u001b[1mtrain: \u001b[0mWARNING  C:\\Users\\Mehmet\\Desktop\\new_splited_wheat_dataset\\tmp_train\\images\\OdeskaVitreous\\20220426_172532.jpg: corrupt JPEG restored and saved\n",
      "\u001b[34m\u001b[1mtrain: \u001b[0mWARNING  C:\\Users\\Mehmet\\Desktop\\new_splited_wheat_dataset\\tmp_train\\images\\OdeskaVitreous\\20220426_172535.jpg: corrupt JPEG restored and saved\n",
      "\u001b[34m\u001b[1mtrain: \u001b[0mWARNING  C:\\Users\\Mehmet\\Desktop\\new_splited_wheat_dataset\\tmp_train\\images\\OdeskaVitreous\\20220426_172540.jpg: corrupt JPEG restored and saved\n",
      "\u001b[34m\u001b[1mtrain: \u001b[0mWARNING  C:\\Users\\Mehmet\\Desktop\\new_splited_wheat_dataset\\tmp_train\\images\\OdeskaVitreous\\20220426_172552.jpg: corrupt JPEG restored and saved\n",
      "\u001b[34m\u001b[1mtrain: \u001b[0mWARNING  C:\\Users\\Mehmet\\Desktop\\new_splited_wheat_dataset\\tmp_train\\images\\OdeskaVitreous\\20220426_172559.jpg: corrupt JPEG restored and saved\n",
      "\u001b[34m\u001b[1mtrain: \u001b[0mWARNING  C:\\Users\\Mehmet\\Desktop\\new_splited_wheat_dataset\\tmp_train\\images\\OdeskaVitreous\\20220426_172601.jpg: corrupt JPEG restored and saved\n",
      "\u001b[34m\u001b[1mtrain: \u001b[0mWARNING  C:\\Users\\Mehmet\\Desktop\\new_splited_wheat_dataset\\tmp_train\\images\\OdeskaVitreous\\20220426_172603.jpg: corrupt JPEG restored and saved\n",
      "\u001b[34m\u001b[1mtrain: \u001b[0mWARNING  C:\\Users\\Mehmet\\Desktop\\new_splited_wheat_dataset\\tmp_train\\images\\OdeskaVitreous\\20220426_172606.jpg: corrupt JPEG restored and saved\n",
      "\u001b[34m\u001b[1mtrain: \u001b[0mWARNING  C:\\Users\\Mehmet\\Desktop\\new_splited_wheat_dataset\\tmp_train\\images\\OdeskaVitreous\\20220426_172610.jpg: corrupt JPEG restored and saved\n",
      "\u001b[34m\u001b[1mtrain: \u001b[0mWARNING  C:\\Users\\Mehmet\\Desktop\\new_splited_wheat_dataset\\tmp_train\\images\\OdeskaVitreous\\20220426_172613.jpg: corrupt JPEG restored and saved\n",
      "\u001b[34m\u001b[1mtrain: \u001b[0mWARNING  C:\\Users\\Mehmet\\Desktop\\new_splited_wheat_dataset\\tmp_train\\images\\OdeskaVitreous\\20220426_172620.jpg: corrupt JPEG restored and saved\n",
      "\u001b[34m\u001b[1mtrain: \u001b[0mWARNING  C:\\Users\\Mehmet\\Desktop\\new_splited_wheat_dataset\\tmp_train\\images\\OdeskaVitreous\\20220426_172623.jpg: corrupt JPEG restored and saved\n",
      "\u001b[34m\u001b[1mtrain: \u001b[0mWARNING  C:\\Users\\Mehmet\\Desktop\\new_splited_wheat_dataset\\tmp_train\\images\\OdeskaVitreous\\20220426_172631.jpg: corrupt JPEG restored and saved\n",
      "\u001b[34m\u001b[1mtrain: \u001b[0mWARNING  C:\\Users\\Mehmet\\Desktop\\new_splited_wheat_dataset\\tmp_train\\images\\OdeskaVitreous\\20220426_172635.jpg: corrupt JPEG restored and saved\n",
      "\u001b[34m\u001b[1mtrain: \u001b[0mWARNING  C:\\Users\\Mehmet\\Desktop\\new_splited_wheat_dataset\\tmp_train\\images\\OdeskaVitreous\\20220426_172638.jpg: corrupt JPEG restored and saved\n",
      "\u001b[34m\u001b[1mtrain: \u001b[0mWARNING  C:\\Users\\Mehmet\\Desktop\\new_splited_wheat_dataset\\tmp_train\\images\\OdeskaVitreous\\20220426_172640.jpg: corrupt JPEG restored and saved\n",
      "\u001b[34m\u001b[1mtrain: \u001b[0mWARNING  C:\\Users\\Mehmet\\Desktop\\new_splited_wheat_dataset\\tmp_train\\images\\OdeskaVitreous\\20220426_172642.jpg: corrupt JPEG restored and saved\n",
      "\u001b[34m\u001b[1mtrain: \u001b[0mWARNING  C:\\Users\\Mehmet\\Desktop\\new_splited_wheat_dataset\\tmp_train\\images\\OdeskaVitreous\\20220426_172645.jpg: corrupt JPEG restored and saved\n",
      "\u001b[34m\u001b[1mtrain: \u001b[0mWARNING  C:\\Users\\Mehmet\\Desktop\\new_splited_wheat_dataset\\tmp_train\\images\\OdeskaVitreous\\20220426_172649.jpg: corrupt JPEG restored and saved\n",
      "\u001b[34m\u001b[1mtrain: \u001b[0mWARNING  C:\\Users\\Mehmet\\Desktop\\new_splited_wheat_dataset\\tmp_train\\images\\OdeskaVitreous\\20220426_172651.jpg: corrupt JPEG restored and saved\n",
      "\u001b[34m\u001b[1mtrain: \u001b[0mWARNING  C:\\Users\\Mehmet\\Desktop\\new_splited_wheat_dataset\\tmp_train\\images\\OdeskaVitreous\\20220426_172659.jpg: corrupt JPEG restored and saved\n",
      "\u001b[34m\u001b[1mtrain: \u001b[0mWARNING  C:\\Users\\Mehmet\\Desktop\\new_splited_wheat_dataset\\tmp_train\\images\\OdeskaVitreous\\20220426_172706.jpg: corrupt JPEG restored and saved\n",
      "\u001b[34m\u001b[1mtrain: \u001b[0mWARNING  C:\\Users\\Mehmet\\Desktop\\new_splited_wheat_dataset\\tmp_train\\images\\OdeskaVitreous\\20220426_172708.jpg: corrupt JPEG restored and saved\n",
      "\u001b[34m\u001b[1mtrain: \u001b[0mWARNING  C:\\Users\\Mehmet\\Desktop\\new_splited_wheat_dataset\\tmp_train\\images\\OdeskaVitreous\\20220426_172711.jpg: corrupt JPEG restored and saved\n",
      "\u001b[34m\u001b[1mtrain: \u001b[0mWARNING  C:\\Users\\Mehmet\\Desktop\\new_splited_wheat_dataset\\tmp_train\\images\\OdeskaVitreous\\20220426_172713.jpg: corrupt JPEG restored and saved\n",
      "\u001b[34m\u001b[1mtrain: \u001b[0mWARNING  C:\\Users\\Mehmet\\Desktop\\new_splited_wheat_dataset\\tmp_train\\images\\OdeskaVitreous\\20220426_172718.jpg: corrupt JPEG restored and saved\n",
      "\u001b[34m\u001b[1mtrain: \u001b[0mWARNING  C:\\Users\\Mehmet\\Desktop\\new_splited_wheat_dataset\\tmp_train\\images\\OdeskaVitreous\\20220426_172732.jpg: corrupt JPEG restored and saved\n",
      "\u001b[34m\u001b[1mtrain: \u001b[0mWARNING  C:\\Users\\Mehmet\\Desktop\\new_splited_wheat_dataset\\tmp_train\\images\\OdeskaVitreous\\20220426_172737.jpg: corrupt JPEG restored and saved\n",
      "\u001b[34m\u001b[1mtrain: \u001b[0mWARNING  C:\\Users\\Mehmet\\Desktop\\new_splited_wheat_dataset\\tmp_train\\images\\RumeliVitreous\\20220427_120149.jpg: corrupt JPEG restored and saved\n",
      "\u001b[34m\u001b[1mtrain: \u001b[0mWARNING  C:\\Users\\Mehmet\\Desktop\\new_splited_wheat_dataset\\tmp_train\\images\\RumeliVitreous\\20220427_120151.jpg: corrupt JPEG restored and saved\n",
      "\u001b[34m\u001b[1mtrain: \u001b[0mWARNING  C:\\Users\\Mehmet\\Desktop\\new_splited_wheat_dataset\\tmp_train\\images\\RumeliVitreous\\20220427_120153.jpg: corrupt JPEG restored and saved\n",
      "\u001b[34m\u001b[1mtrain: \u001b[0mWARNING  C:\\Users\\Mehmet\\Desktop\\new_splited_wheat_dataset\\tmp_train\\images\\RumeliVitreous\\20220427_120155.jpg: corrupt JPEG restored and saved\n",
      "\u001b[34m\u001b[1mtrain: \u001b[0mWARNING  C:\\Users\\Mehmet\\Desktop\\new_splited_wheat_dataset\\tmp_train\\images\\RumeliVitreous\\20220427_120201.jpg: corrupt JPEG restored and saved\n",
      "\u001b[34m\u001b[1mtrain: \u001b[0mWARNING  C:\\Users\\Mehmet\\Desktop\\new_splited_wheat_dataset\\tmp_train\\images\\RumeliVitreous\\20220427_120203.jpg: corrupt JPEG restored and saved\n",
      "\u001b[34m\u001b[1mtrain: \u001b[0mWARNING  C:\\Users\\Mehmet\\Desktop\\new_splited_wheat_dataset\\tmp_train\\images\\RumeliVitreous\\20220427_120205.jpg: corrupt JPEG restored and saved\n",
      "\u001b[34m\u001b[1mtrain: \u001b[0mWARNING  C:\\Users\\Mehmet\\Desktop\\new_splited_wheat_dataset\\tmp_train\\images\\RumeliVitreous\\20220427_120207.jpg: corrupt JPEG restored and saved\n",
      "\u001b[34m\u001b[1mtrain: \u001b[0mWARNING  C:\\Users\\Mehmet\\Desktop\\new_splited_wheat_dataset\\tmp_train\\images\\RumeliVitreous\\20220427_120209.jpg: corrupt JPEG restored and saved\n",
      "\u001b[34m\u001b[1mtrain: \u001b[0mWARNING  C:\\Users\\Mehmet\\Desktop\\new_splited_wheat_dataset\\tmp_train\\images\\RumeliVitreous\\20220427_120212.jpg: corrupt JPEG restored and saved\n",
      "\u001b[34m\u001b[1mtrain: \u001b[0mWARNING  C:\\Users\\Mehmet\\Desktop\\new_splited_wheat_dataset\\tmp_train\\images\\RumeliVitreous\\20220427_120214.jpg: corrupt JPEG restored and saved\n",
      "\u001b[34m\u001b[1mtrain: \u001b[0mWARNING  C:\\Users\\Mehmet\\Desktop\\new_splited_wheat_dataset\\tmp_train\\images\\RumeliVitreous\\20220427_120216.jpg: corrupt JPEG restored and saved\n",
      "\u001b[34m\u001b[1mtrain: \u001b[0mWARNING  C:\\Users\\Mehmet\\Desktop\\new_splited_wheat_dataset\\tmp_train\\images\\RumeliVitreous\\20220427_120218.jpg: corrupt JPEG restored and saved\n",
      "\u001b[34m\u001b[1mtrain: \u001b[0mWARNING  C:\\Users\\Mehmet\\Desktop\\new_splited_wheat_dataset\\tmp_train\\images\\RumeliVitreous\\20220427_120223.jpg: corrupt JPEG restored and saved\n",
      "\u001b[34m\u001b[1mtrain: \u001b[0mWARNING  C:\\Users\\Mehmet\\Desktop\\new_splited_wheat_dataset\\tmp_train\\images\\RumeliVitreous\\20220427_120229.jpg: corrupt JPEG restored and saved\n",
      "\u001b[34m\u001b[1mtrain: \u001b[0mWARNING  C:\\Users\\Mehmet\\Desktop\\new_splited_wheat_dataset\\tmp_train\\images\\RumeliVitreous\\20220427_120233.jpg: corrupt JPEG restored and saved\n",
      "\u001b[34m\u001b[1mtrain: \u001b[0mWARNING  C:\\Users\\Mehmet\\Desktop\\new_splited_wheat_dataset\\tmp_train\\images\\RumeliVitreous\\20220427_120247.jpg: corrupt JPEG restored and saved\n",
      "\u001b[34m\u001b[1mtrain: \u001b[0mWARNING  C:\\Users\\Mehmet\\Desktop\\new_splited_wheat_dataset\\tmp_train\\images\\RumeliVitreous\\20220427_120253.jpg: corrupt JPEG restored and saved\n",
      "\u001b[34m\u001b[1mtrain: \u001b[0mWARNING  C:\\Users\\Mehmet\\Desktop\\new_splited_wheat_dataset\\tmp_train\\images\\RumeliVitreous\\20220427_120256.jpg: corrupt JPEG restored and saved\n",
      "\u001b[34m\u001b[1mtrain: \u001b[0mWARNING  C:\\Users\\Mehmet\\Desktop\\new_splited_wheat_dataset\\tmp_train\\images\\RumeliVitreous\\20220427_120258.jpg: corrupt JPEG restored and saved\n",
      "\u001b[34m\u001b[1mtrain: \u001b[0mWARNING  C:\\Users\\Mehmet\\Desktop\\new_splited_wheat_dataset\\tmp_train\\images\\RumeliVitreous\\20220427_120307.jpg: corrupt JPEG restored and saved\n",
      "\u001b[34m\u001b[1mtrain: \u001b[0mWARNING  C:\\Users\\Mehmet\\Desktop\\new_splited_wheat_dataset\\tmp_train\\images\\RumeliVitreous\\20220427_120309.jpg: corrupt JPEG restored and saved\n",
      "\u001b[34m\u001b[1mtrain: \u001b[0mWARNING  C:\\Users\\Mehmet\\Desktop\\new_splited_wheat_dataset\\tmp_train\\images\\RumeliVitreous\\20220427_120314.jpg: corrupt JPEG restored and saved\n",
      "\u001b[34m\u001b[1mtrain: \u001b[0mWARNING  C:\\Users\\Mehmet\\Desktop\\new_splited_wheat_dataset\\tmp_train\\images\\RumeliVitreous\\20220427_120317.jpg: corrupt JPEG restored and saved\n",
      "\u001b[34m\u001b[1mtrain: \u001b[0mWARNING  C:\\Users\\Mehmet\\Desktop\\new_splited_wheat_dataset\\tmp_train\\images\\RumeliVitreous\\20220427_120329.jpg: corrupt JPEG restored and saved\n",
      "\u001b[34m\u001b[1mtrain: \u001b[0mWARNING  C:\\Users\\Mehmet\\Desktop\\new_splited_wheat_dataset\\tmp_train\\images\\RumeliVitreous\\20220427_120332.jpg: corrupt JPEG restored and saved\n",
      "\u001b[34m\u001b[1mtrain: \u001b[0mWARNING  C:\\Users\\Mehmet\\Desktop\\new_splited_wheat_dataset\\tmp_train\\images\\RumeliVitreous\\20220427_120336.jpg: corrupt JPEG restored and saved\n",
      "\u001b[34m\u001b[1mtrain: \u001b[0mWARNING  C:\\Users\\Mehmet\\Desktop\\new_splited_wheat_dataset\\tmp_train\\images\\RumeliVitreous\\20220427_120339.jpg: corrupt JPEG restored and saved\n",
      "\u001b[34m\u001b[1mtrain: \u001b[0mWARNING  C:\\Users\\Mehmet\\Desktop\\new_splited_wheat_dataset\\tmp_train\\images\\RumeliVitreous\\20220427_120341.jpg: corrupt JPEG restored and saved\n",
      "\u001b[34m\u001b[1mtrain: \u001b[0mWARNING  C:\\Users\\Mehmet\\Desktop\\new_splited_wheat_dataset\\tmp_train\\images\\RumeliVitreous\\20220427_120352.jpg: corrupt JPEG restored and saved\n",
      "\u001b[34m\u001b[1mtrain: \u001b[0mWARNING  C:\\Users\\Mehmet\\Desktop\\new_splited_wheat_dataset\\tmp_train\\images\\RumeliVitreous\\20220427_120359.jpg: corrupt JPEG restored and saved\n",
      "\u001b[34m\u001b[1mtrain: \u001b[0mWARNING  C:\\Users\\Mehmet\\Desktop\\new_splited_wheat_dataset\\tmp_train\\images\\RumeliVitreous\\20220427_120404.jpg: corrupt JPEG restored and saved\n",
      "\u001b[34m\u001b[1mtrain: \u001b[0mWARNING  C:\\Users\\Mehmet\\Desktop\\new_splited_wheat_dataset\\tmp_train\\images\\RumeliVitreous\\20220427_120407.jpg: corrupt JPEG restored and saved\n",
      "\u001b[34m\u001b[1mtrain: \u001b[0mWARNING  C:\\Users\\Mehmet\\Desktop\\new_splited_wheat_dataset\\tmp_train\\images\\RumeliVitreous\\20220427_120410.jpg: corrupt JPEG restored and saved\n",
      "\u001b[34m\u001b[1mtrain: \u001b[0mWARNING  C:\\Users\\Mehmet\\Desktop\\new_splited_wheat_dataset\\tmp_train\\images\\RumeliVitreous\\20220427_120417.jpg: corrupt JPEG restored and saved\n",
      "\u001b[34m\u001b[1mtrain: \u001b[0mWARNING  C:\\Users\\Mehmet\\Desktop\\new_splited_wheat_dataset\\tmp_train\\images\\RumeliVitreous\\20220427_120421.jpg: corrupt JPEG restored and saved\n",
      "\u001b[34m\u001b[1mtrain: \u001b[0mWARNING  C:\\Users\\Mehmet\\Desktop\\new_splited_wheat_dataset\\tmp_train\\images\\RumeliVitreous\\20220427_120423.jpg: corrupt JPEG restored and saved\n",
      "\u001b[34m\u001b[1mtrain: \u001b[0mWARNING  C:\\Users\\Mehmet\\Desktop\\new_splited_wheat_dataset\\tmp_train\\images\\RumeliVitreous\\20220427_120425.jpg: corrupt JPEG restored and saved\n",
      "\u001b[34m\u001b[1mtrain: \u001b[0mWARNING  C:\\Users\\Mehmet\\Desktop\\new_splited_wheat_dataset\\tmp_train\\images\\RumeliVitreous\\20220427_120428.jpg: corrupt JPEG restored and saved\n",
      "\u001b[34m\u001b[1mtrain: \u001b[0mWARNING  C:\\Users\\Mehmet\\Desktop\\new_splited_wheat_dataset\\tmp_train\\images\\RumeliVitreous\\20220427_120430.jpg: corrupt JPEG restored and saved\n",
      "\u001b[34m\u001b[1mtrain: \u001b[0mWARNING  C:\\Users\\Mehmet\\Desktop\\new_splited_wheat_dataset\\tmp_train\\images\\RumeliVitreous\\20220427_120435.jpg: corrupt JPEG restored and saved\n",
      "\u001b[34m\u001b[1mtrain: \u001b[0mWARNING  C:\\Users\\Mehmet\\Desktop\\new_splited_wheat_dataset\\tmp_train\\images\\RumeliVitreous\\20220427_120437.jpg: corrupt JPEG restored and saved\n",
      "\u001b[34m\u001b[1mtrain: \u001b[0mWARNING  C:\\Users\\Mehmet\\Desktop\\new_splited_wheat_dataset\\tmp_train\\images\\RumeliVitreous\\20220427_120450.jpg: corrupt JPEG restored and saved\n",
      "\u001b[34m\u001b[1mtrain: \u001b[0mWARNING  C:\\Users\\Mehmet\\Desktop\\new_splited_wheat_dataset\\tmp_train\\images\\RumeliVitreous\\20220427_120452.jpg: corrupt JPEG restored and saved\n",
      "\u001b[34m\u001b[1mtrain: \u001b[0mWARNING  C:\\Users\\Mehmet\\Desktop\\new_splited_wheat_dataset\\tmp_train\\images\\RumeliVitreous\\20220427_120457.jpg: corrupt JPEG restored and saved\n",
      "\u001b[34m\u001b[1mtrain: \u001b[0mWARNING  C:\\Users\\Mehmet\\Desktop\\new_splited_wheat_dataset\\tmp_train\\images\\RumeliVitreous\\20220427_120459.jpg: corrupt JPEG restored and saved\n",
      "\u001b[34m\u001b[1mtrain: \u001b[0mWARNING  C:\\Users\\Mehmet\\Desktop\\new_splited_wheat_dataset\\tmp_train\\images\\RumeliVitreous\\20220427_120504.jpg: corrupt JPEG restored and saved\n",
      "\u001b[34m\u001b[1mtrain: \u001b[0mWARNING  C:\\Users\\Mehmet\\Desktop\\new_splited_wheat_dataset\\tmp_train\\images\\RumeliVitreous\\20220427_120508.jpg: corrupt JPEG restored and saved\n",
      "\u001b[34m\u001b[1mtrain: \u001b[0mWARNING  C:\\Users\\Mehmet\\Desktop\\new_splited_wheat_dataset\\tmp_train\\images\\RumeliVitreous\\20220427_120511.jpg: corrupt JPEG restored and saved\n",
      "\u001b[34m\u001b[1mtrain: \u001b[0mWARNING  C:\\Users\\Mehmet\\Desktop\\new_splited_wheat_dataset\\tmp_train\\images\\RumeliVitreous\\20220427_120513.jpg: corrupt JPEG restored and saved\n",
      "\u001b[34m\u001b[1mtrain: \u001b[0mWARNING  C:\\Users\\Mehmet\\Desktop\\new_splited_wheat_dataset\\tmp_train\\images\\RumeliVitreous\\20220427_120521.jpg: corrupt JPEG restored and saved\n",
      "\u001b[34m\u001b[1mtrain: \u001b[0mWARNING  C:\\Users\\Mehmet\\Desktop\\new_splited_wheat_dataset\\tmp_train\\images\\RumeliVitreous\\20220427_120524.jpg: corrupt JPEG restored and saved\n",
      "\u001b[34m\u001b[1mtrain: \u001b[0mWARNING  C:\\Users\\Mehmet\\Desktop\\new_splited_wheat_dataset\\tmp_train\\images\\RumeliVitreous\\20220427_120526.jpg: corrupt JPEG restored and saved\n",
      "\u001b[34m\u001b[1mtrain: \u001b[0mWARNING  C:\\Users\\Mehmet\\Desktop\\new_splited_wheat_dataset\\tmp_train\\images\\RumeliVitreous\\20220427_120532.jpg: corrupt JPEG restored and saved\n",
      "\u001b[34m\u001b[1mtrain: \u001b[0mWARNING  C:\\Users\\Mehmet\\Desktop\\new_splited_wheat_dataset\\tmp_train\\images\\RumeliVitreous\\20220427_120535.jpg: corrupt JPEG restored and saved\n",
      "\u001b[34m\u001b[1mtrain: \u001b[0mWARNING  C:\\Users\\Mehmet\\Desktop\\new_splited_wheat_dataset\\tmp_train\\images\\RumeliVitreous\\20220427_120537.jpg: corrupt JPEG restored and saved\n",
      "\u001b[34m\u001b[1mtrain: \u001b[0mWARNING  C:\\Users\\Mehmet\\Desktop\\new_splited_wheat_dataset\\tmp_train\\images\\RumeliVitreous\\20220427_120539.jpg: corrupt JPEG restored and saved\n",
      "\u001b[34m\u001b[1mtrain: \u001b[0mWARNING  C:\\Users\\Mehmet\\Desktop\\new_splited_wheat_dataset\\tmp_train\\images\\RumeliVitreous\\20220427_120544.jpg: corrupt JPEG restored and saved\n",
      "\u001b[34m\u001b[1mtrain: \u001b[0mWARNING  C:\\Users\\Mehmet\\Desktop\\new_splited_wheat_dataset\\tmp_train\\images\\RumeliVitreous\\20220427_120555.jpg: corrupt JPEG restored and saved\n",
      "\u001b[34m\u001b[1mtrain: \u001b[0mWARNING  C:\\Users\\Mehmet\\Desktop\\new_splited_wheat_dataset\\tmp_train\\images\\RumeliVitreous\\20220427_120557.jpg: corrupt JPEG restored and saved\n",
      "\u001b[34m\u001b[1mtrain: \u001b[0mWARNING  C:\\Users\\Mehmet\\Desktop\\new_splited_wheat_dataset\\tmp_train\\images\\RumeliVitreous\\20220427_120601.jpg: corrupt JPEG restored and saved\n",
      "\u001b[34m\u001b[1mtrain: \u001b[0mWARNING  C:\\Users\\Mehmet\\Desktop\\new_splited_wheat_dataset\\tmp_train\\images\\RumeliVitreous\\20220427_120603.jpg: corrupt JPEG restored and saved\n",
      "\u001b[34m\u001b[1mtrain: \u001b[0mWARNING  C:\\Users\\Mehmet\\Desktop\\new_splited_wheat_dataset\\tmp_train\\images\\RumeliVitreous\\20220427_120607.jpg: corrupt JPEG restored and saved\n",
      "\u001b[34m\u001b[1mtrain: \u001b[0mWARNING  C:\\Users\\Mehmet\\Desktop\\new_splited_wheat_dataset\\tmp_train\\images\\RumeliVitreous\\20220427_120610.jpg: corrupt JPEG restored and saved\n",
      "\u001b[34m\u001b[1mtrain: \u001b[0mWARNING  C:\\Users\\Mehmet\\Desktop\\new_splited_wheat_dataset\\tmp_train\\images\\RumeliVitreous\\20220427_120613.jpg: corrupt JPEG restored and saved\n",
      "\u001b[34m\u001b[1mtrain: \u001b[0mWARNING  C:\\Users\\Mehmet\\Desktop\\new_splited_wheat_dataset\\tmp_train\\images\\RumeliVitreous\\20220427_120615.jpg: corrupt JPEG restored and saved\n",
      "\u001b[34m\u001b[1mtrain: \u001b[0mWARNING  C:\\Users\\Mehmet\\Desktop\\new_splited_wheat_dataset\\tmp_train\\images\\RumeliVitreous\\20220427_120619.jpg: corrupt JPEG restored and saved\n",
      "\u001b[34m\u001b[1mtrain: \u001b[0mWARNING  C:\\Users\\Mehmet\\Desktop\\new_splited_wheat_dataset\\tmp_train\\images\\RumeliVitreous\\20220427_120626.jpg: corrupt JPEG restored and saved\n",
      "\u001b[34m\u001b[1mtrain: \u001b[0mWARNING  C:\\Users\\Mehmet\\Desktop\\new_splited_wheat_dataset\\tmp_train\\images\\RumeliVitreous\\20220427_120628.jpg: corrupt JPEG restored and saved\n",
      "\u001b[34m\u001b[1mtrain: \u001b[0mWARNING  C:\\Users\\Mehmet\\Desktop\\new_splited_wheat_dataset\\tmp_train\\images\\RumeliVitreous\\20220427_120630.jpg: corrupt JPEG restored and saved\n",
      "\u001b[34m\u001b[1mtrain: \u001b[0mWARNING  C:\\Users\\Mehmet\\Desktop\\new_splited_wheat_dataset\\tmp_train\\images\\RumeliVitreous\\20220427_120634.jpg: corrupt JPEG restored and saved\n",
      "\u001b[34m\u001b[1mtrain: \u001b[0mWARNING  C:\\Users\\Mehmet\\Desktop\\new_splited_wheat_dataset\\tmp_train\\images\\RumeliVitreous\\20220427_120645.jpg: corrupt JPEG restored and saved\n",
      "\u001b[34m\u001b[1mtrain: \u001b[0mWARNING  C:\\Users\\Mehmet\\Desktop\\new_splited_wheat_dataset\\tmp_train\\images\\RumeliVitreous\\20220427_120650.jpg: corrupt JPEG restored and saved\n",
      "\u001b[34m\u001b[1mtrain: \u001b[0mWARNING  C:\\Users\\Mehmet\\Desktop\\new_splited_wheat_dataset\\tmp_train\\images\\RumeliVitreous\\20220427_120654.jpg: corrupt JPEG restored and saved\n",
      "\u001b[34m\u001b[1mtrain: \u001b[0mWARNING  C:\\Users\\Mehmet\\Desktop\\new_splited_wheat_dataset\\tmp_train\\images\\SelimiyeVitreous\\20220425_165106.jpg: corrupt JPEG restored and saved\n",
      "\u001b[34m\u001b[1mtrain: \u001b[0mWARNING  C:\\Users\\Mehmet\\Desktop\\new_splited_wheat_dataset\\tmp_train\\images\\SelimiyeVitreous\\20220425_165109.jpg: corrupt JPEG restored and saved\n",
      "\u001b[34m\u001b[1mtrain: \u001b[0mWARNING  C:\\Users\\Mehmet\\Desktop\\new_splited_wheat_dataset\\tmp_train\\images\\SelimiyeVitreous\\20220425_165111.jpg: corrupt JPEG restored and saved\n",
      "\u001b[34m\u001b[1mtrain: \u001b[0mWARNING  C:\\Users\\Mehmet\\Desktop\\new_splited_wheat_dataset\\tmp_train\\images\\SelimiyeVitreous\\20220425_165113.jpg: corrupt JPEG restored and saved\n",
      "\u001b[34m\u001b[1mtrain: \u001b[0mWARNING  C:\\Users\\Mehmet\\Desktop\\new_splited_wheat_dataset\\tmp_train\\images\\SelimiyeVitreous\\20220425_165115.jpg: corrupt JPEG restored and saved\n",
      "\u001b[34m\u001b[1mtrain: \u001b[0mWARNING  C:\\Users\\Mehmet\\Desktop\\new_splited_wheat_dataset\\tmp_train\\images\\SelimiyeVitreous\\20220425_165117.jpg: corrupt JPEG restored and saved\n",
      "\u001b[34m\u001b[1mtrain: \u001b[0mWARNING  C:\\Users\\Mehmet\\Desktop\\new_splited_wheat_dataset\\tmp_train\\images\\SelimiyeVitreous\\20220425_165124.jpg: corrupt JPEG restored and saved\n",
      "\u001b[34m\u001b[1mtrain: \u001b[0mWARNING  C:\\Users\\Mehmet\\Desktop\\new_splited_wheat_dataset\\tmp_train\\images\\SelimiyeVitreous\\20220425_165126.jpg: corrupt JPEG restored and saved\n",
      "\u001b[34m\u001b[1mtrain: \u001b[0mWARNING  C:\\Users\\Mehmet\\Desktop\\new_splited_wheat_dataset\\tmp_train\\images\\SelimiyeVitreous\\20220425_165130.jpg: corrupt JPEG restored and saved\n",
      "\u001b[34m\u001b[1mtrain: \u001b[0mWARNING  C:\\Users\\Mehmet\\Desktop\\new_splited_wheat_dataset\\tmp_train\\images\\SelimiyeVitreous\\20220425_165135.jpg: corrupt JPEG restored and saved\n",
      "\u001b[34m\u001b[1mtrain: \u001b[0mWARNING  C:\\Users\\Mehmet\\Desktop\\new_splited_wheat_dataset\\tmp_train\\images\\SelimiyeVitreous\\20220425_165139.jpg: corrupt JPEG restored and saved\n",
      "\u001b[34m\u001b[1mtrain: \u001b[0mWARNING  C:\\Users\\Mehmet\\Desktop\\new_splited_wheat_dataset\\tmp_train\\images\\SelimiyeVitreous\\20220425_165141.jpg: corrupt JPEG restored and saved\n",
      "\u001b[34m\u001b[1mtrain: \u001b[0mWARNING  C:\\Users\\Mehmet\\Desktop\\new_splited_wheat_dataset\\tmp_train\\images\\SelimiyeVitreous\\20220425_165143.jpg: corrupt JPEG restored and saved\n",
      "\u001b[34m\u001b[1mtrain: \u001b[0mWARNING  C:\\Users\\Mehmet\\Desktop\\new_splited_wheat_dataset\\tmp_train\\images\\SelimiyeVitreous\\20220425_165145.jpg: corrupt JPEG restored and saved\n",
      "\u001b[34m\u001b[1mtrain: \u001b[0mWARNING  C:\\Users\\Mehmet\\Desktop\\new_splited_wheat_dataset\\tmp_train\\images\\SelimiyeVitreous\\20220425_165148.jpg: corrupt JPEG restored and saved\n",
      "\u001b[34m\u001b[1mtrain: \u001b[0mWARNING  C:\\Users\\Mehmet\\Desktop\\new_splited_wheat_dataset\\tmp_train\\images\\SelimiyeVitreous\\20220425_165157.jpg: corrupt JPEG restored and saved\n",
      "\u001b[34m\u001b[1mtrain: \u001b[0mWARNING  C:\\Users\\Mehmet\\Desktop\\new_splited_wheat_dataset\\tmp_train\\images\\SelimiyeVitreous\\20220425_165202.jpg: corrupt JPEG restored and saved\n",
      "\u001b[34m\u001b[1mtrain: \u001b[0mWARNING  C:\\Users\\Mehmet\\Desktop\\new_splited_wheat_dataset\\tmp_train\\images\\SelimiyeVitreous\\20220425_165204.jpg: corrupt JPEG restored and saved\n",
      "\u001b[34m\u001b[1mtrain: \u001b[0mWARNING  C:\\Users\\Mehmet\\Desktop\\new_splited_wheat_dataset\\tmp_train\\images\\SelimiyeVitreous\\20220425_165210.jpg: corrupt JPEG restored and saved\n",
      "\u001b[34m\u001b[1mtrain: \u001b[0mWARNING  C:\\Users\\Mehmet\\Desktop\\new_splited_wheat_dataset\\tmp_train\\images\\SelimiyeVitreous\\20220425_165216.jpg: corrupt JPEG restored and saved\n",
      "\u001b[34m\u001b[1mtrain: \u001b[0mWARNING  C:\\Users\\Mehmet\\Desktop\\new_splited_wheat_dataset\\tmp_train\\images\\SelimiyeVitreous\\20220425_165231.jpg: corrupt JPEG restored and saved\n",
      "\u001b[34m\u001b[1mtrain: \u001b[0mWARNING  C:\\Users\\Mehmet\\Desktop\\new_splited_wheat_dataset\\tmp_train\\images\\SelimiyeVitreous\\20220425_165233.jpg: corrupt JPEG restored and saved\n",
      "\u001b[34m\u001b[1mtrain: \u001b[0mWARNING  C:\\Users\\Mehmet\\Desktop\\new_splited_wheat_dataset\\tmp_train\\images\\SelimiyeVitreous\\20220425_165236.jpg: corrupt JPEG restored and saved\n",
      "\u001b[34m\u001b[1mtrain: \u001b[0mWARNING  C:\\Users\\Mehmet\\Desktop\\new_splited_wheat_dataset\\tmp_train\\images\\SelimiyeVitreous\\20220425_165238.jpg: corrupt JPEG restored and saved\n",
      "\u001b[34m\u001b[1mtrain: \u001b[0mWARNING  C:\\Users\\Mehmet\\Desktop\\new_splited_wheat_dataset\\tmp_train\\images\\SelimiyeVitreous\\20220425_165242.jpg: corrupt JPEG restored and saved\n",
      "\u001b[34m\u001b[1mtrain: \u001b[0mWARNING  C:\\Users\\Mehmet\\Desktop\\new_splited_wheat_dataset\\tmp_train\\images\\SelimiyeVitreous\\20220425_165245.jpg: corrupt JPEG restored and saved\n",
      "\u001b[34m\u001b[1mtrain: \u001b[0mWARNING  C:\\Users\\Mehmet\\Desktop\\new_splited_wheat_dataset\\tmp_train\\images\\SelimiyeVitreous\\20220425_165248.jpg: corrupt JPEG restored and saved\n",
      "\u001b[34m\u001b[1mtrain: \u001b[0mWARNING  C:\\Users\\Mehmet\\Desktop\\new_splited_wheat_dataset\\tmp_train\\images\\SelimiyeVitreous\\20220425_165311.jpg: corrupt JPEG restored and saved\n",
      "\u001b[34m\u001b[1mtrain: \u001b[0mWARNING  C:\\Users\\Mehmet\\Desktop\\new_splited_wheat_dataset\\tmp_train\\images\\SelimiyeVitreous\\20220425_165313.jpg: corrupt JPEG restored and saved\n",
      "\u001b[34m\u001b[1mtrain: \u001b[0mWARNING  C:\\Users\\Mehmet\\Desktop\\new_splited_wheat_dataset\\tmp_train\\images\\SelimiyeVitreous\\20220425_165316.jpg: corrupt JPEG restored and saved\n",
      "\u001b[34m\u001b[1mtrain: \u001b[0mWARNING  C:\\Users\\Mehmet\\Desktop\\new_splited_wheat_dataset\\tmp_train\\images\\SelimiyeVitreous\\20220425_165319.jpg: corrupt JPEG restored and saved\n",
      "\u001b[34m\u001b[1mtrain: \u001b[0mWARNING  C:\\Users\\Mehmet\\Desktop\\new_splited_wheat_dataset\\tmp_train\\images\\SelimiyeVitreous\\20220425_165326.jpg: corrupt JPEG restored and saved\n",
      "\u001b[34m\u001b[1mtrain: \u001b[0mWARNING  C:\\Users\\Mehmet\\Desktop\\new_splited_wheat_dataset\\tmp_train\\images\\SelimiyeVitreous\\20220425_165340.jpg: corrupt JPEG restored and saved\n",
      "\u001b[34m\u001b[1mtrain: \u001b[0mWARNING  C:\\Users\\Mehmet\\Desktop\\new_splited_wheat_dataset\\tmp_train\\images\\SelimiyeVitreous\\20220425_165346.jpg: corrupt JPEG restored and saved\n",
      "\u001b[34m\u001b[1mtrain: \u001b[0mWARNING  C:\\Users\\Mehmet\\Desktop\\new_splited_wheat_dataset\\tmp_train\\images\\SelimiyeVitreous\\20220425_165353.jpg: corrupt JPEG restored and saved\n",
      "\u001b[34m\u001b[1mtrain: \u001b[0mWARNING  C:\\Users\\Mehmet\\Desktop\\new_splited_wheat_dataset\\tmp_train\\images\\SelimiyeVitreous\\20220425_165357.jpg: corrupt JPEG restored and saved\n",
      "\u001b[34m\u001b[1mtrain: \u001b[0mWARNING  C:\\Users\\Mehmet\\Desktop\\new_splited_wheat_dataset\\tmp_train\\images\\SelimiyeVitreous\\20220425_165402.jpg: corrupt JPEG restored and saved\n",
      "\u001b[34m\u001b[1mtrain: \u001b[0mWARNING  C:\\Users\\Mehmet\\Desktop\\new_splited_wheat_dataset\\tmp_train\\images\\SelimiyeVitreous\\20220425_165407.jpg: corrupt JPEG restored and saved\n",
      "\u001b[34m\u001b[1mtrain: \u001b[0mWARNING  C:\\Users\\Mehmet\\Desktop\\new_splited_wheat_dataset\\tmp_train\\images\\SelimiyeVitreous\\20220425_165416.jpg: corrupt JPEG restored and saved\n",
      "\u001b[34m\u001b[1mtrain: \u001b[0mWARNING  C:\\Users\\Mehmet\\Desktop\\new_splited_wheat_dataset\\tmp_train\\images\\SelimiyeVitreous\\20220425_165418.jpg: corrupt JPEG restored and saved\n",
      "\u001b[34m\u001b[1mtrain: \u001b[0mWARNING  C:\\Users\\Mehmet\\Desktop\\new_splited_wheat_dataset\\tmp_train\\images\\SelimiyeVitreous\\20220425_165420.jpg: corrupt JPEG restored and saved\n",
      "\u001b[34m\u001b[1mtrain: \u001b[0mWARNING  C:\\Users\\Mehmet\\Desktop\\new_splited_wheat_dataset\\tmp_train\\images\\SelimiyeVitreous\\20220425_165427.jpg: corrupt JPEG restored and saved\n",
      "\u001b[34m\u001b[1mtrain: \u001b[0mWARNING  C:\\Users\\Mehmet\\Desktop\\new_splited_wheat_dataset\\tmp_train\\images\\SelimiyeVitreous\\20220425_165433.jpg: corrupt JPEG restored and saved\n",
      "\u001b[34m\u001b[1mtrain: \u001b[0mWARNING  C:\\Users\\Mehmet\\Desktop\\new_splited_wheat_dataset\\tmp_train\\images\\SelimiyeVitreous\\20220425_165438.jpg: corrupt JPEG restored and saved\n",
      "\u001b[34m\u001b[1mtrain: \u001b[0mWARNING  C:\\Users\\Mehmet\\Desktop\\new_splited_wheat_dataset\\tmp_train\\images\\SelimiyeVitreous\\20220425_165441.jpg: corrupt JPEG restored and saved\n",
      "\u001b[34m\u001b[1mtrain: \u001b[0mWARNING  C:\\Users\\Mehmet\\Desktop\\new_splited_wheat_dataset\\tmp_train\\images\\SelimiyeVitreous\\20220425_165451.jpg: corrupt JPEG restored and saved\n",
      "\u001b[34m\u001b[1mtrain: \u001b[0mWARNING  C:\\Users\\Mehmet\\Desktop\\new_splited_wheat_dataset\\tmp_train\\images\\SelimiyeVitreous\\20220425_165454.jpg: corrupt JPEG restored and saved\n",
      "\u001b[34m\u001b[1mtrain: \u001b[0mWARNING  C:\\Users\\Mehmet\\Desktop\\new_splited_wheat_dataset\\tmp_train\\images\\SelimiyeVitreous\\20220425_165457.jpg: corrupt JPEG restored and saved\n",
      "\u001b[34m\u001b[1mtrain: \u001b[0mWARNING  C:\\Users\\Mehmet\\Desktop\\new_splited_wheat_dataset\\tmp_train\\images\\SelimiyeVitreous\\20220425_165500.jpg: corrupt JPEG restored and saved\n",
      "\u001b[34m\u001b[1mtrain: \u001b[0mWARNING  C:\\Users\\Mehmet\\Desktop\\new_splited_wheat_dataset\\tmp_train\\images\\SelimiyeVitreous\\20220425_165503.jpg: corrupt JPEG restored and saved\n",
      "\u001b[34m\u001b[1mtrain: \u001b[0mWARNING  C:\\Users\\Mehmet\\Desktop\\new_splited_wheat_dataset\\tmp_train\\images\\SelimiyeVitreous\\20220425_165505.jpg: corrupt JPEG restored and saved\n",
      "\u001b[34m\u001b[1mtrain: \u001b[0mWARNING  C:\\Users\\Mehmet\\Desktop\\new_splited_wheat_dataset\\tmp_train\\images\\SelimiyeVitreous\\20220425_165507.jpg: corrupt JPEG restored and saved\n",
      "\u001b[34m\u001b[1mtrain: \u001b[0mWARNING  C:\\Users\\Mehmet\\Desktop\\new_splited_wheat_dataset\\tmp_train\\images\\SelimiyeVitreous\\20220425_165510.jpg: corrupt JPEG restored and saved\n",
      "\u001b[34m\u001b[1mtrain: \u001b[0mWARNING  C:\\Users\\Mehmet\\Desktop\\new_splited_wheat_dataset\\tmp_train\\images\\SelimiyeVitreous\\20220425_165512.jpg: corrupt JPEG restored and saved\n",
      "\u001b[34m\u001b[1mtrain: \u001b[0mWARNING  C:\\Users\\Mehmet\\Desktop\\new_splited_wheat_dataset\\tmp_train\\images\\SelimiyeVitreous\\20220425_165514.jpg: corrupt JPEG restored and saved\n",
      "\u001b[34m\u001b[1mtrain: \u001b[0mWARNING  C:\\Users\\Mehmet\\Desktop\\new_splited_wheat_dataset\\tmp_train\\images\\SelimiyeVitreous\\20220425_165518.jpg: corrupt JPEG restored and saved\n",
      "\u001b[34m\u001b[1mtrain: \u001b[0mWARNING  C:\\Users\\Mehmet\\Desktop\\new_splited_wheat_dataset\\tmp_train\\images\\SelimiyeVitreous\\20220425_165542.jpg: corrupt JPEG restored and saved\n",
      "\u001b[34m\u001b[1mtrain: \u001b[0mWARNING  C:\\Users\\Mehmet\\Desktop\\new_splited_wheat_dataset\\tmp_train\\images\\SelimiyeVitreous\\20220425_165544.jpg: corrupt JPEG restored and saved\n",
      "\u001b[34m\u001b[1mtrain: \u001b[0mWARNING  C:\\Users\\Mehmet\\Desktop\\new_splited_wheat_dataset\\tmp_train\\images\\SelimiyeVitreous\\20220425_165602.jpg: corrupt JPEG restored and saved\n",
      "\u001b[34m\u001b[1mtrain: \u001b[0mWARNING  C:\\Users\\Mehmet\\Desktop\\new_splited_wheat_dataset\\tmp_train\\images\\SelimiyeVitreous\\20220425_165609.jpg: corrupt JPEG restored and saved\n",
      "\u001b[34m\u001b[1mtrain: \u001b[0mWARNING  C:\\Users\\Mehmet\\Desktop\\new_splited_wheat_dataset\\tmp_train\\images\\SelimiyeVitreous\\20220425_165612.jpg: corrupt JPEG restored and saved\n",
      "\u001b[34m\u001b[1mtrain: \u001b[0mWARNING  C:\\Users\\Mehmet\\Desktop\\new_splited_wheat_dataset\\tmp_train\\images\\SelimiyeVitreous\\20220425_165618.jpg: corrupt JPEG restored and saved\n",
      "\u001b[34m\u001b[1mtrain: \u001b[0mWARNING  C:\\Users\\Mehmet\\Desktop\\new_splited_wheat_dataset\\tmp_train\\images\\SelimiyeVitreous\\20220425_165631.jpg: corrupt JPEG restored and saved\n",
      "\u001b[34m\u001b[1mtrain: \u001b[0mWARNING  C:\\Users\\Mehmet\\Desktop\\new_splited_wheat_dataset\\tmp_train\\images\\SelimiyeVitreous\\20220425_165637.jpg: corrupt JPEG restored and saved\n",
      "\u001b[34m\u001b[1mtrain: \u001b[0mWARNING  C:\\Users\\Mehmet\\Desktop\\new_splited_wheat_dataset\\tmp_train\\images\\SelimiyeVitreous\\20220425_165639.jpg: corrupt JPEG restored and saved\n",
      "\u001b[34m\u001b[1mtrain: \u001b[0mWARNING  C:\\Users\\Mehmet\\Desktop\\new_splited_wheat_dataset\\tmp_train\\images\\SelimiyeVitreous\\20220425_165649.jpg: corrupt JPEG restored and saved\n",
      "\u001b[34m\u001b[1mtrain: \u001b[0mWARNING  C:\\Users\\Mehmet\\Desktop\\new_splited_wheat_dataset\\tmp_train\\images\\SelimiyeVitreous\\20220425_165702.jpg: corrupt JPEG restored and saved\n",
      "\u001b[34m\u001b[1mtrain: \u001b[0mWARNING  C:\\Users\\Mehmet\\Desktop\\new_splited_wheat_dataset\\tmp_train\\images\\SelimiyeVitreous\\20220425_165705.jpg: corrupt JPEG restored and saved\n",
      "\u001b[34m\u001b[1mtrain: \u001b[0mWARNING  C:\\Users\\Mehmet\\Desktop\\new_splited_wheat_dataset\\tmp_train\\images\\SelimiyeVitreous\\20220425_165707.jpg: corrupt JPEG restored and saved\n",
      "\u001b[34m\u001b[1mtrain: \u001b[0mWARNING  C:\\Users\\Mehmet\\Desktop\\new_splited_wheat_dataset\\tmp_train\\images\\SelimiyeVitreous\\20220425_165730.jpg: corrupt JPEG restored and saved\n",
      "\u001b[34m\u001b[1mtrain: \u001b[0mWARNING  C:\\Users\\Mehmet\\Desktop\\new_splited_wheat_dataset\\tmp_train\\images\\SelimiyeVitreous\\20220425_165733.jpg: corrupt JPEG restored and saved\n",
      "\u001b[34m\u001b[1mtrain: \u001b[0mWARNING  C:\\Users\\Mehmet\\Desktop\\new_splited_wheat_dataset\\tmp_train\\images\\SelimiyeVitreous\\20220425_165736.jpg: corrupt JPEG restored and saved\n",
      "\u001b[34m\u001b[1mtrain: \u001b[0mWARNING  C:\\Users\\Mehmet\\Desktop\\new_splited_wheat_dataset\\tmp_train\\images\\SelimiyeVitreous\\20220425_165742.jpg: corrupt JPEG restored and saved\n",
      "\u001b[34m\u001b[1mtrain: \u001b[0mWARNING  C:\\Users\\Mehmet\\Desktop\\new_splited_wheat_dataset\\tmp_train\\images\\SelimiyeVitreous\\20220425_165759.jpg: corrupt JPEG restored and saved\n",
      "\u001b[34m\u001b[1mtrain: \u001b[0mNew cache created: C:\\Users\\Mehmet\\Desktop\\new_splited_wheat_dataset\\tmp_train\\labels\\Bayraktar2000Vitreous.cache\n"
     ]
    },
    {
     "name": "stderr",
     "output_type": "stream",
     "text": [
      "\n",
      "\u001b[34m\u001b[1mval: \u001b[0mScanning C:\\Users\\Mehmet\\Desktop\\new_splited_wheat_dataset\\tmp_val\\labels\\Bayraktar2000Vitreous... 169 images, 0 backgrounds, 0 corrupt: 100%|██████████| 169/169 [00:08<00:00, 19.99it/s]"
     ]
    },
    {
     "name": "stdout",
     "output_type": "stream",
     "text": [
      "\u001b[34m\u001b[1mval: \u001b[0mWARNING  C:\\Users\\Mehmet\\Desktop\\new_splited_wheat_dataset\\tmp_val\\images\\Bayraktar2000Vitreous\\20220426_144746.jpg: corrupt JPEG restored and saved\n",
      "\u001b[34m\u001b[1mval: \u001b[0mWARNING  C:\\Users\\Mehmet\\Desktop\\new_splited_wheat_dataset\\tmp_val\\images\\Bayraktar2000Vitreous\\20220426_144804.jpg: corrupt JPEG restored and saved\n",
      "\u001b[34m\u001b[1mval: \u001b[0mWARNING  C:\\Users\\Mehmet\\Desktop\\new_splited_wheat_dataset\\tmp_val\\images\\Bayraktar2000Vitreous\\20220426_144828.jpg: corrupt JPEG restored and saved\n",
      "\u001b[34m\u001b[1mval: \u001b[0mWARNING  C:\\Users\\Mehmet\\Desktop\\new_splited_wheat_dataset\\tmp_val\\images\\Bayraktar2000Vitreous\\20220426_144853.jpg: corrupt JPEG restored and saved\n",
      "\u001b[34m\u001b[1mval: \u001b[0mWARNING  C:\\Users\\Mehmet\\Desktop\\new_splited_wheat_dataset\\tmp_val\\images\\Bayraktar2000Vitreous\\20220426_144902.jpg: corrupt JPEG restored and saved\n",
      "\u001b[34m\u001b[1mval: \u001b[0mWARNING  C:\\Users\\Mehmet\\Desktop\\new_splited_wheat_dataset\\tmp_val\\images\\Bayraktar2000Vitreous\\20220426_145034.jpg: corrupt JPEG restored and saved\n",
      "\u001b[34m\u001b[1mval: \u001b[0mWARNING  C:\\Users\\Mehmet\\Desktop\\new_splited_wheat_dataset\\tmp_val\\images\\Bayraktar2000Vitreous\\20220426_145037.jpg: corrupt JPEG restored and saved\n",
      "\u001b[34m\u001b[1mval: \u001b[0mWARNING  C:\\Users\\Mehmet\\Desktop\\new_splited_wheat_dataset\\tmp_val\\images\\Bayraktar2000Vitreous\\20220426_145055.jpg: corrupt JPEG restored and saved\n",
      "\u001b[34m\u001b[1mval: \u001b[0mWARNING  C:\\Users\\Mehmet\\Desktop\\new_splited_wheat_dataset\\tmp_val\\images\\Bayraktar2000Vitreous\\20220426_145058.jpg: corrupt JPEG restored and saved\n",
      "\u001b[34m\u001b[1mval: \u001b[0mWARNING  C:\\Users\\Mehmet\\Desktop\\new_splited_wheat_dataset\\tmp_val\\images\\Bayraktar2000Vitreous\\20220426_145140.jpg: corrupt JPEG restored and saved\n",
      "\u001b[34m\u001b[1mval: \u001b[0mWARNING  C:\\Users\\Mehmet\\Desktop\\new_splited_wheat_dataset\\tmp_val\\images\\Bayraktar2000Vitreous\\20220426_145203.jpg: corrupt JPEG restored and saved\n",
      "\u001b[34m\u001b[1mval: \u001b[0mWARNING  C:\\Users\\Mehmet\\Desktop\\new_splited_wheat_dataset\\tmp_val\\images\\Bayraktar2000Vitreous\\20220426_145209.jpg: corrupt JPEG restored and saved\n",
      "\u001b[34m\u001b[1mval: \u001b[0mWARNING  C:\\Users\\Mehmet\\Desktop\\new_splited_wheat_dataset\\tmp_val\\images\\Bayraktar2000Vitreous\\20220426_145239.jpg: corrupt JPEG restored and saved\n",
      "\u001b[34m\u001b[1mval: \u001b[0mWARNING  C:\\Users\\Mehmet\\Desktop\\new_splited_wheat_dataset\\tmp_val\\images\\Bayraktar2000Vitreous\\20220426_145244.jpg: corrupt JPEG restored and saved\n",
      "\u001b[34m\u001b[1mval: \u001b[0mWARNING  C:\\Users\\Mehmet\\Desktop\\new_splited_wheat_dataset\\tmp_val\\images\\Bayraktar2000Vitreous\\20220426_145309.jpg: corrupt JPEG restored and saved\n",
      "\u001b[34m\u001b[1mval: \u001b[0mWARNING  C:\\Users\\Mehmet\\Desktop\\new_splited_wheat_dataset\\tmp_val\\images\\Bayraktar2000Vitreous\\20220426_145312.jpg: corrupt JPEG restored and saved\n",
      "\u001b[34m\u001b[1mval: \u001b[0mWARNING  C:\\Users\\Mehmet\\Desktop\\new_splited_wheat_dataset\\tmp_val\\images\\Bayraktar2000Vitreous\\20220426_145324.jpg: corrupt JPEG restored and saved\n",
      "\u001b[34m\u001b[1mval: \u001b[0mWARNING  C:\\Users\\Mehmet\\Desktop\\new_splited_wheat_dataset\\tmp_val\\images\\Bayraktar2000Vitreous\\20220426_145348.jpg: corrupt JPEG restored and saved\n",
      "\u001b[34m\u001b[1mval: \u001b[0mWARNING  C:\\Users\\Mehmet\\Desktop\\new_splited_wheat_dataset\\tmp_val\\images\\Bezostaja1Vitreous\\20220425_152239.jpg: corrupt JPEG restored and saved\n",
      "\u001b[34m\u001b[1mval: \u001b[0mWARNING  C:\\Users\\Mehmet\\Desktop\\new_splited_wheat_dataset\\tmp_val\\images\\Bezostaja1Vitreous\\20220425_152301.jpg: corrupt JPEG restored and saved\n",
      "\u001b[34m\u001b[1mval: \u001b[0mWARNING  C:\\Users\\Mehmet\\Desktop\\new_splited_wheat_dataset\\tmp_val\\images\\Bezostaja1Vitreous\\20220425_152305.jpg: corrupt JPEG restored and saved\n",
      "\u001b[34m\u001b[1mval: \u001b[0mWARNING  C:\\Users\\Mehmet\\Desktop\\new_splited_wheat_dataset\\tmp_val\\images\\Bezostaja1Vitreous\\20220425_152343.jpg: corrupt JPEG restored and saved\n",
      "\u001b[34m\u001b[1mval: \u001b[0mWARNING  C:\\Users\\Mehmet\\Desktop\\new_splited_wheat_dataset\\tmp_val\\images\\Bezostaja1Vitreous\\20220425_152346.jpg: corrupt JPEG restored and saved\n",
      "\u001b[34m\u001b[1mval: \u001b[0mWARNING  C:\\Users\\Mehmet\\Desktop\\new_splited_wheat_dataset\\tmp_val\\images\\Bezostaja1Vitreous\\20220425_152404.jpg: corrupt JPEG restored and saved\n",
      "\u001b[34m\u001b[1mval: \u001b[0mWARNING  C:\\Users\\Mehmet\\Desktop\\new_splited_wheat_dataset\\tmp_val\\images\\Bezostaja1Vitreous\\20220425_152409.jpg: corrupt JPEG restored and saved\n",
      "\u001b[34m\u001b[1mval: \u001b[0mWARNING  C:\\Users\\Mehmet\\Desktop\\new_splited_wheat_dataset\\tmp_val\\images\\Bezostaja1Vitreous\\20220425_152449.jpg: corrupt JPEG restored and saved\n",
      "\u001b[34m\u001b[1mval: \u001b[0mWARNING  C:\\Users\\Mehmet\\Desktop\\new_splited_wheat_dataset\\tmp_val\\images\\Bezostaja1Vitreous\\20220425_152531.jpg: corrupt JPEG restored and saved\n",
      "\u001b[34m\u001b[1mval: \u001b[0mWARNING  C:\\Users\\Mehmet\\Desktop\\new_splited_wheat_dataset\\tmp_val\\images\\Bezostaja1Vitreous\\20220425_152551.jpg: corrupt JPEG restored and saved\n",
      "\u001b[34m\u001b[1mval: \u001b[0mWARNING  C:\\Users\\Mehmet\\Desktop\\new_splited_wheat_dataset\\tmp_val\\images\\Bezostaja1Vitreous\\20220425_154540.jpg: corrupt JPEG restored and saved\n",
      "\u001b[34m\u001b[1mval: \u001b[0mWARNING  C:\\Users\\Mehmet\\Desktop\\new_splited_wheat_dataset\\tmp_val\\images\\Bezostaja1Vitreous\\20220425_154542.jpg: corrupt JPEG restored and saved\n",
      "\u001b[34m\u001b[1mval: \u001b[0mWARNING  C:\\Users\\Mehmet\\Desktop\\new_splited_wheat_dataset\\tmp_val\\images\\Bezostaja1Vitreous\\20220425_154544.jpg: corrupt JPEG restored and saved\n",
      "\u001b[34m\u001b[1mval: \u001b[0mWARNING  C:\\Users\\Mehmet\\Desktop\\new_splited_wheat_dataset\\tmp_val\\images\\Bezostaja1Vitreous\\20220425_154548.jpg: corrupt JPEG restored and saved\n",
      "\u001b[34m\u001b[1mval: \u001b[0mWARNING  C:\\Users\\Mehmet\\Desktop\\new_splited_wheat_dataset\\tmp_val\\images\\Bezostaja1Vitreous\\20220425_154552.jpg: corrupt JPEG restored and saved\n",
      "\u001b[34m\u001b[1mval: \u001b[0mWARNING  C:\\Users\\Mehmet\\Desktop\\new_splited_wheat_dataset\\tmp_val\\images\\Bezostaja1Vitreous\\20220425_154604.jpg: corrupt JPEG restored and saved\n",
      "\u001b[34m\u001b[1mval: \u001b[0mWARNING  C:\\Users\\Mehmet\\Desktop\\new_splited_wheat_dataset\\tmp_val\\images\\Bezostaja1Vitreous\\20220425_154630.jpg: corrupt JPEG restored and saved\n",
      "\u001b[34m\u001b[1mval: \u001b[0mWARNING  C:\\Users\\Mehmet\\Desktop\\new_splited_wheat_dataset\\tmp_val\\images\\Bezostaja1Vitreous\\20220425_154637.jpg: corrupt JPEG restored and saved\n",
      "\u001b[34m\u001b[1mval: \u001b[0mWARNING  C:\\Users\\Mehmet\\Desktop\\new_splited_wheat_dataset\\tmp_val\\images\\Bezostaja1Vitreous\\20220425_154709.jpg: corrupt JPEG restored and saved\n",
      "\u001b[34m\u001b[1mval: \u001b[0mWARNING  C:\\Users\\Mehmet\\Desktop\\new_splited_wheat_dataset\\tmp_val\\images\\Bezostaja1Vitreous\\20220425_154720.jpg: corrupt JPEG restored and saved\n",
      "\u001b[34m\u001b[1mval: \u001b[0mWARNING  C:\\Users\\Mehmet\\Desktop\\new_splited_wheat_dataset\\tmp_val\\images\\Bezostaja1Vitreous\\20220425_154724.jpg: corrupt JPEG restored and saved\n",
      "\u001b[34m\u001b[1mval: \u001b[0mWARNING  C:\\Users\\Mehmet\\Desktop\\new_splited_wheat_dataset\\tmp_val\\images\\Bezostaja1Vitreous\\20220425_154728.jpg: corrupt JPEG restored and saved\n",
      "\u001b[34m\u001b[1mval: \u001b[0mWARNING  C:\\Users\\Mehmet\\Desktop\\new_splited_wheat_dataset\\tmp_val\\images\\Bezostaja1Vitreous\\Bezostaja V.jpg: corrupt JPEG restored and saved\n",
      "\u001b[34m\u001b[1mval: \u001b[0mWARNING  C:\\Users\\Mehmet\\Desktop\\new_splited_wheat_dataset\\tmp_val\\images\\Delabrad2Vitreous\\20220427_122209.jpg: corrupt JPEG restored and saved\n",
      "\u001b[34m\u001b[1mval: \u001b[0mWARNING  C:\\Users\\Mehmet\\Desktop\\new_splited_wheat_dataset\\tmp_val\\images\\Delabrad2Vitreous\\20220427_122232.jpg: corrupt JPEG restored and saved\n",
      "\u001b[34m\u001b[1mval: \u001b[0mWARNING  C:\\Users\\Mehmet\\Desktop\\new_splited_wheat_dataset\\tmp_val\\images\\Delabrad2Vitreous\\20220427_122242.jpg: corrupt JPEG restored and saved\n",
      "\u001b[34m\u001b[1mval: \u001b[0mWARNING  C:\\Users\\Mehmet\\Desktop\\new_splited_wheat_dataset\\tmp_val\\images\\Delabrad2Vitreous\\20220427_122340.jpg: corrupt JPEG restored and saved\n",
      "\u001b[34m\u001b[1mval: \u001b[0mWARNING  C:\\Users\\Mehmet\\Desktop\\new_splited_wheat_dataset\\tmp_val\\images\\Delabrad2Vitreous\\20220427_122400.jpg: corrupt JPEG restored and saved\n",
      "\u001b[34m\u001b[1mval: \u001b[0mWARNING  C:\\Users\\Mehmet\\Desktop\\new_splited_wheat_dataset\\tmp_val\\images\\Delabrad2Vitreous\\20220427_122433.jpg: corrupt JPEG restored and saved\n",
      "\u001b[34m\u001b[1mval: \u001b[0mWARNING  C:\\Users\\Mehmet\\Desktop\\new_splited_wheat_dataset\\tmp_val\\images\\Delabrad2Vitreous\\20220427_122439.jpg: corrupt JPEG restored and saved\n",
      "\u001b[34m\u001b[1mval: \u001b[0mWARNING  C:\\Users\\Mehmet\\Desktop\\new_splited_wheat_dataset\\tmp_val\\images\\Delabrad2Vitreous\\20220427_122514.jpg: corrupt JPEG restored and saved\n",
      "\u001b[34m\u001b[1mval: \u001b[0mWARNING  C:\\Users\\Mehmet\\Desktop\\new_splited_wheat_dataset\\tmp_val\\images\\Delabrad2Vitreous\\20220427_122527.jpg: corrupt JPEG restored and saved\n",
      "\u001b[34m\u001b[1mval: \u001b[0mWARNING  C:\\Users\\Mehmet\\Desktop\\new_splited_wheat_dataset\\tmp_val\\images\\Delabrad2Vitreous\\20220427_122619.jpg: corrupt JPEG restored and saved\n",
      "\u001b[34m\u001b[1mval: \u001b[0mWARNING  C:\\Users\\Mehmet\\Desktop\\new_splited_wheat_dataset\\tmp_val\\images\\Delabrad2Vitreous\\20220427_122621.jpg: corrupt JPEG restored and saved\n",
      "\u001b[34m\u001b[1mval: \u001b[0mWARNING  C:\\Users\\Mehmet\\Desktop\\new_splited_wheat_dataset\\tmp_val\\images\\EkizVitreous\\20220426_163552.jpg: corrupt JPEG restored and saved\n",
      "\u001b[34m\u001b[1mval: \u001b[0mWARNING  C:\\Users\\Mehmet\\Desktop\\new_splited_wheat_dataset\\tmp_val\\images\\EkizVitreous\\20220426_163705.jpg: corrupt JPEG restored and saved\n",
      "\u001b[34m\u001b[1mval: \u001b[0mWARNING  C:\\Users\\Mehmet\\Desktop\\new_splited_wheat_dataset\\tmp_val\\images\\EkizVitreous\\20220426_163744.jpg: corrupt JPEG restored and saved\n",
      "\u001b[34m\u001b[1mval: \u001b[0mWARNING  C:\\Users\\Mehmet\\Desktop\\new_splited_wheat_dataset\\tmp_val\\images\\EkizVitreous\\20220426_163851.jpg: corrupt JPEG restored and saved\n",
      "\u001b[34m\u001b[1mval: \u001b[0mWARNING  C:\\Users\\Mehmet\\Desktop\\new_splited_wheat_dataset\\tmp_val\\images\\EkizVitreous\\20220426_163854.jpg: corrupt JPEG restored and saved\n",
      "\u001b[34m\u001b[1mval: \u001b[0mWARNING  C:\\Users\\Mehmet\\Desktop\\new_splited_wheat_dataset\\tmp_val\\images\\EkizVitreous\\20220426_163915.jpg: corrupt JPEG restored and saved\n",
      "\u001b[34m\u001b[1mval: \u001b[0mWARNING  C:\\Users\\Mehmet\\Desktop\\new_splited_wheat_dataset\\tmp_val\\images\\EkizVitreous\\20220426_163939.jpg: corrupt JPEG restored and saved\n",
      "\u001b[34m\u001b[1mval: \u001b[0mWARNING  C:\\Users\\Mehmet\\Desktop\\new_splited_wheat_dataset\\tmp_val\\images\\EkizVitreous\\20220426_163941.jpg: corrupt JPEG restored and saved\n",
      "\u001b[34m\u001b[1mval: \u001b[0mWARNING  C:\\Users\\Mehmet\\Desktop\\new_splited_wheat_dataset\\tmp_val\\images\\EkizVitreous\\20220426_163950.jpg: corrupt JPEG restored and saved\n",
      "\u001b[34m\u001b[1mval: \u001b[0mWARNING  C:\\Users\\Mehmet\\Desktop\\new_splited_wheat_dataset\\tmp_val\\images\\EkizVitreous\\20220426_163957.jpg: corrupt JPEG restored and saved\n",
      "\u001b[34m\u001b[1mval: \u001b[0mWARNING  C:\\Users\\Mehmet\\Desktop\\new_splited_wheat_dataset\\tmp_val\\images\\EkizVitreous\\20220426_164001.jpg: corrupt JPEG restored and saved\n",
      "\u001b[34m\u001b[1mval: \u001b[0mWARNING  C:\\Users\\Mehmet\\Desktop\\new_splited_wheat_dataset\\tmp_val\\images\\EkizVitreous\\20220426_164016.jpg: corrupt JPEG restored and saved\n",
      "\u001b[34m\u001b[1mval: \u001b[0mWARNING  C:\\Users\\Mehmet\\Desktop\\new_splited_wheat_dataset\\tmp_val\\images\\EkizVitreous\\20220426_164040.jpg: corrupt JPEG restored and saved\n",
      "\u001b[34m\u001b[1mval: \u001b[0mWARNING  C:\\Users\\Mehmet\\Desktop\\new_splited_wheat_dataset\\tmp_val\\images\\EkizVitreous\\20220426_164100.jpg: corrupt JPEG restored and saved\n",
      "\u001b[34m\u001b[1mval: \u001b[0mWARNING  C:\\Users\\Mehmet\\Desktop\\new_splited_wheat_dataset\\tmp_val\\images\\EkizVitreous\\20220426_164158.jpg: corrupt JPEG restored and saved\n",
      "\u001b[34m\u001b[1mval: \u001b[0mWARNING  C:\\Users\\Mehmet\\Desktop\\new_splited_wheat_dataset\\tmp_val\\images\\EsperiaVitreous\\20220425_171011.jpg: corrupt JPEG restored and saved\n",
      "\u001b[34m\u001b[1mval: \u001b[0mWARNING  C:\\Users\\Mehmet\\Desktop\\new_splited_wheat_dataset\\tmp_val\\images\\EsperiaVitreous\\20220425_171015.jpg: corrupt JPEG restored and saved\n",
      "\u001b[34m\u001b[1mval: \u001b[0mWARNING  C:\\Users\\Mehmet\\Desktop\\new_splited_wheat_dataset\\tmp_val\\images\\EsperiaVitreous\\20220425_171020.jpg: corrupt JPEG restored and saved\n",
      "\u001b[34m\u001b[1mval: \u001b[0mWARNING  C:\\Users\\Mehmet\\Desktop\\new_splited_wheat_dataset\\tmp_val\\images\\EsperiaVitreous\\20220425_171041.jpg: corrupt JPEG restored and saved\n",
      "\u001b[34m\u001b[1mval: \u001b[0mWARNING  C:\\Users\\Mehmet\\Desktop\\new_splited_wheat_dataset\\tmp_val\\images\\EsperiaVitreous\\20220425_171051.jpg: corrupt JPEG restored and saved\n",
      "\u001b[34m\u001b[1mval: \u001b[0mWARNING  C:\\Users\\Mehmet\\Desktop\\new_splited_wheat_dataset\\tmp_val\\images\\EsperiaVitreous\\20220425_171144.jpg: corrupt JPEG restored and saved\n",
      "\u001b[34m\u001b[1mval: \u001b[0mWARNING  C:\\Users\\Mehmet\\Desktop\\new_splited_wheat_dataset\\tmp_val\\images\\EsperiaVitreous\\20220425_171155.jpg: corrupt JPEG restored and saved\n",
      "\u001b[34m\u001b[1mval: \u001b[0mWARNING  C:\\Users\\Mehmet\\Desktop\\new_splited_wheat_dataset\\tmp_val\\images\\EsperiaVitreous\\20220425_171227.jpg: corrupt JPEG restored and saved\n",
      "\u001b[34m\u001b[1mval: \u001b[0mWARNING  C:\\Users\\Mehmet\\Desktop\\new_splited_wheat_dataset\\tmp_val\\images\\EsperiaVitreous\\20220425_171236.jpg: corrupt JPEG restored and saved\n",
      "\u001b[34m\u001b[1mval: \u001b[0mWARNING  C:\\Users\\Mehmet\\Desktop\\new_splited_wheat_dataset\\tmp_val\\images\\EsperiaVitreous\\20220425_171332.jpg: corrupt JPEG restored and saved\n",
      "\u001b[34m\u001b[1mval: \u001b[0mWARNING  C:\\Users\\Mehmet\\Desktop\\new_splited_wheat_dataset\\tmp_val\\images\\EsperiaVitreous\\20220425_171339.jpg: corrupt JPEG restored and saved\n",
      "\u001b[34m\u001b[1mval: \u001b[0mWARNING  C:\\Users\\Mehmet\\Desktop\\new_splited_wheat_dataset\\tmp_val\\images\\EsperiaVitreous\\20220425_171342.jpg: corrupt JPEG restored and saved\n",
      "\u001b[34m\u001b[1mval: \u001b[0mWARNING  C:\\Users\\Mehmet\\Desktop\\new_splited_wheat_dataset\\tmp_val\\images\\EsperiaVitreous\\20220425_171347.jpg: corrupt JPEG restored and saved\n",
      "\u001b[34m\u001b[1mval: \u001b[0mWARNING  C:\\Users\\Mehmet\\Desktop\\new_splited_wheat_dataset\\tmp_val\\images\\EsperiaVitreous\\20220425_171436.jpg: corrupt JPEG restored and saved\n",
      "\u001b[34m\u001b[1mval: \u001b[0mWARNING  C:\\Users\\Mehmet\\Desktop\\new_splited_wheat_dataset\\tmp_val\\images\\EsperiaVitreous\\20220425_171455.jpg: corrupt JPEG restored and saved\n",
      "\u001b[34m\u001b[1mval: \u001b[0mWARNING  C:\\Users\\Mehmet\\Desktop\\new_splited_wheat_dataset\\tmp_val\\images\\EsperiaVitreous\\20220425_171510.jpg: corrupt JPEG restored and saved\n",
      "\u001b[34m\u001b[1mval: \u001b[0mWARNING  C:\\Users\\Mehmet\\Desktop\\new_splited_wheat_dataset\\tmp_val\\images\\EsperiaVitreous\\20220425_171520.jpg: corrupt JPEG restored and saved\n",
      "\u001b[34m\u001b[1mval: \u001b[0mWARNING  C:\\Users\\Mehmet\\Desktop\\new_splited_wheat_dataset\\tmp_val\\images\\KiziltanVitreous\\20220426_154735.jpg: corrupt JPEG restored and saved\n",
      "\u001b[34m\u001b[1mval: \u001b[0mWARNING  C:\\Users\\Mehmet\\Desktop\\new_splited_wheat_dataset\\tmp_val\\images\\KiziltanVitreous\\20220426_154758.jpg: corrupt JPEG restored and saved\n",
      "\u001b[34m\u001b[1mval: \u001b[0mWARNING  C:\\Users\\Mehmet\\Desktop\\new_splited_wheat_dataset\\tmp_val\\images\\KiziltanVitreous\\20220426_154846.jpg: corrupt JPEG restored and saved\n",
      "\u001b[34m\u001b[1mval: \u001b[0mWARNING  C:\\Users\\Mehmet\\Desktop\\new_splited_wheat_dataset\\tmp_val\\images\\KiziltanVitreous\\20220426_154904.jpg: corrupt JPEG restored and saved\n",
      "\u001b[34m\u001b[1mval: \u001b[0mWARNING  C:\\Users\\Mehmet\\Desktop\\new_splited_wheat_dataset\\tmp_val\\images\\KiziltanVitreous\\20220426_154911.jpg: corrupt JPEG restored and saved\n",
      "\u001b[34m\u001b[1mval: \u001b[0mWARNING  C:\\Users\\Mehmet\\Desktop\\new_splited_wheat_dataset\\tmp_val\\images\\KiziltanVitreous\\20220426_154932.jpg: corrupt JPEG restored and saved\n",
      "\u001b[34m\u001b[1mval: \u001b[0mWARNING  C:\\Users\\Mehmet\\Desktop\\new_splited_wheat_dataset\\tmp_val\\images\\KiziltanVitreous\\20220426_154940.jpg: corrupt JPEG restored and saved\n",
      "\u001b[34m\u001b[1mval: \u001b[0mWARNING  C:\\Users\\Mehmet\\Desktop\\new_splited_wheat_dataset\\tmp_val\\images\\KiziltanVitreous\\20220426_154946.jpg: corrupt JPEG restored and saved\n",
      "\u001b[34m\u001b[1mval: \u001b[0mWARNING  C:\\Users\\Mehmet\\Desktop\\new_splited_wheat_dataset\\tmp_val\\images\\KiziltanVitreous\\20220426_155010.jpg: corrupt JPEG restored and saved\n",
      "\u001b[34m\u001b[1mval: \u001b[0mWARNING  C:\\Users\\Mehmet\\Desktop\\new_splited_wheat_dataset\\tmp_val\\images\\KiziltanVitreous\\20220426_155018.jpg: corrupt JPEG restored and saved\n",
      "\u001b[34m\u001b[1mval: \u001b[0mWARNING  C:\\Users\\Mehmet\\Desktop\\new_splited_wheat_dataset\\tmp_val\\images\\KiziltanVitreous\\20220426_155020.jpg: corrupt JPEG restored and saved\n",
      "\u001b[34m\u001b[1mval: \u001b[0mWARNING  C:\\Users\\Mehmet\\Desktop\\new_splited_wheat_dataset\\tmp_val\\images\\KiziltanVitreous\\20220426_155028.jpg: corrupt JPEG restored and saved\n",
      "\u001b[34m\u001b[1mval: \u001b[0mWARNING  C:\\Users\\Mehmet\\Desktop\\new_splited_wheat_dataset\\tmp_val\\images\\KiziltanVitreous\\20220426_155040.jpg: corrupt JPEG restored and saved\n",
      "\u001b[34m\u001b[1mval: \u001b[0mWARNING  C:\\Users\\Mehmet\\Desktop\\new_splited_wheat_dataset\\tmp_val\\images\\KiziltanVitreous\\20220426_160333.jpg: corrupt JPEG restored and saved\n",
      "\u001b[34m\u001b[1mval: \u001b[0mWARNING  C:\\Users\\Mehmet\\Desktop\\new_splited_wheat_dataset\\tmp_val\\images\\KiziltanVitreous\\20220426_160335.jpg: corrupt JPEG restored and saved\n",
      "\u001b[34m\u001b[1mval: \u001b[0mWARNING  C:\\Users\\Mehmet\\Desktop\\new_splited_wheat_dataset\\tmp_val\\images\\KiziltanVitreous\\20220426_160343.jpg: corrupt JPEG restored and saved\n",
      "\u001b[34m\u001b[1mval: \u001b[0mWARNING  C:\\Users\\Mehmet\\Desktop\\new_splited_wheat_dataset\\tmp_val\\images\\KiziltanVitreous\\20220426_160352.jpg: corrupt JPEG restored and saved\n",
      "\u001b[34m\u001b[1mval: \u001b[0mWARNING  C:\\Users\\Mehmet\\Desktop\\new_splited_wheat_dataset\\tmp_val\\images\\KiziltanVitreous\\20220426_160448.jpg: corrupt JPEG restored and saved\n",
      "\u001b[34m\u001b[1mval: \u001b[0mWARNING  C:\\Users\\Mehmet\\Desktop\\new_splited_wheat_dataset\\tmp_val\\images\\KiziltanVitreous\\20220426_160459.jpg: corrupt JPEG restored and saved\n",
      "\u001b[34m\u001b[1mval: \u001b[0mWARNING  C:\\Users\\Mehmet\\Desktop\\new_splited_wheat_dataset\\tmp_val\\images\\KiziltanVitreous\\20220426_160503.jpg: corrupt JPEG restored and saved\n",
      "\u001b[34m\u001b[1mval: \u001b[0mWARNING  C:\\Users\\Mehmet\\Desktop\\new_splited_wheat_dataset\\tmp_val\\images\\KiziltanVitreous\\20220426_160507.jpg: corrupt JPEG restored and saved\n",
      "\u001b[34m\u001b[1mval: \u001b[0mWARNING  C:\\Users\\Mehmet\\Desktop\\new_splited_wheat_dataset\\tmp_val\\images\\KiziltanVitreous\\20220426_160512.jpg: corrupt JPEG restored and saved\n",
      "\u001b[34m\u001b[1mval: \u001b[0mWARNING  C:\\Users\\Mehmet\\Desktop\\new_splited_wheat_dataset\\tmp_val\\images\\KiziltanVitreous\\20220426_160606.jpg: corrupt JPEG restored and saved\n",
      "\u001b[34m\u001b[1mval: \u001b[0mWARNING  C:\\Users\\Mehmet\\Desktop\\new_splited_wheat_dataset\\tmp_val\\images\\LucillaVitreous\\20220426_175132.jpg: corrupt JPEG restored and saved\n",
      "\u001b[34m\u001b[1mval: \u001b[0mWARNING  C:\\Users\\Mehmet\\Desktop\\new_splited_wheat_dataset\\tmp_val\\images\\LucillaVitreous\\20220426_175145.jpg: corrupt JPEG restored and saved\n",
      "\u001b[34m\u001b[1mval: \u001b[0mWARNING  C:\\Users\\Mehmet\\Desktop\\new_splited_wheat_dataset\\tmp_val\\images\\LucillaVitreous\\20220426_175200.jpg: corrupt JPEG restored and saved\n",
      "\u001b[34m\u001b[1mval: \u001b[0mWARNING  C:\\Users\\Mehmet\\Desktop\\new_splited_wheat_dataset\\tmp_val\\images\\LucillaVitreous\\20220426_175224.jpg: corrupt JPEG restored and saved\n",
      "\u001b[34m\u001b[1mval: \u001b[0mWARNING  C:\\Users\\Mehmet\\Desktop\\new_splited_wheat_dataset\\tmp_val\\images\\LucillaVitreous\\20220426_175231.jpg: corrupt JPEG restored and saved\n",
      "\u001b[34m\u001b[1mval: \u001b[0mWARNING  C:\\Users\\Mehmet\\Desktop\\new_splited_wheat_dataset\\tmp_val\\images\\LucillaVitreous\\20220426_175236.jpg: corrupt JPEG restored and saved\n",
      "\u001b[34m\u001b[1mval: \u001b[0mWARNING  C:\\Users\\Mehmet\\Desktop\\new_splited_wheat_dataset\\tmp_val\\images\\LucillaVitreous\\20220426_175244.jpg: corrupt JPEG restored and saved\n",
      "\u001b[34m\u001b[1mval: \u001b[0mWARNING  C:\\Users\\Mehmet\\Desktop\\new_splited_wheat_dataset\\tmp_val\\images\\LucillaVitreous\\20220426_175246.jpg: corrupt JPEG restored and saved\n",
      "\u001b[34m\u001b[1mval: \u001b[0mWARNING  C:\\Users\\Mehmet\\Desktop\\new_splited_wheat_dataset\\tmp_val\\images\\LucillaVitreous\\20220426_175302.jpg: corrupt JPEG restored and saved\n",
      "\u001b[34m\u001b[1mval: \u001b[0mWARNING  C:\\Users\\Mehmet\\Desktop\\new_splited_wheat_dataset\\tmp_val\\images\\LucillaVitreous\\20220426_175306.jpg: corrupt JPEG restored and saved\n",
      "\u001b[34m\u001b[1mval: \u001b[0mWARNING  C:\\Users\\Mehmet\\Desktop\\new_splited_wheat_dataset\\tmp_val\\images\\LucillaVitreous\\20220426_175333.jpg: corrupt JPEG restored and saved\n",
      "\u001b[34m\u001b[1mval: \u001b[0mWARNING  C:\\Users\\Mehmet\\Desktop\\new_splited_wheat_dataset\\tmp_val\\images\\LucillaVitreous\\20220426_175335.jpg: corrupt JPEG restored and saved\n",
      "\u001b[34m\u001b[1mval: \u001b[0mWARNING  C:\\Users\\Mehmet\\Desktop\\new_splited_wheat_dataset\\tmp_val\\images\\LucillaVitreous\\20220426_175348.jpg: corrupt JPEG restored and saved\n",
      "\u001b[34m\u001b[1mval: \u001b[0mWARNING  C:\\Users\\Mehmet\\Desktop\\new_splited_wheat_dataset\\tmp_val\\images\\LucillaVitreous\\20220426_175417.jpg: corrupt JPEG restored and saved\n",
      "\u001b[34m\u001b[1mval: \u001b[0mWARNING  C:\\Users\\Mehmet\\Desktop\\new_splited_wheat_dataset\\tmp_val\\images\\LucillaVitreous\\20220426_175430.jpg: corrupt JPEG restored and saved\n",
      "\u001b[34m\u001b[1mval: \u001b[0mWARNING  C:\\Users\\Mehmet\\Desktop\\new_splited_wheat_dataset\\tmp_val\\images\\LucillaVitreous\\20220426_175526.jpg: corrupt JPEG restored and saved\n",
      "\u001b[34m\u001b[1mval: \u001b[0mWARNING  C:\\Users\\Mehmet\\Desktop\\new_splited_wheat_dataset\\tmp_val\\images\\LucillaVitreous\\20220426_175535.jpg: corrupt JPEG restored and saved\n",
      "\u001b[34m\u001b[1mval: \u001b[0mWARNING  C:\\Users\\Mehmet\\Desktop\\new_splited_wheat_dataset\\tmp_val\\images\\LucillaVitreous\\20220426_175546.jpg: corrupt JPEG restored and saved\n",
      "\u001b[34m\u001b[1mval: \u001b[0mWARNING  C:\\Users\\Mehmet\\Desktop\\new_splited_wheat_dataset\\tmp_val\\images\\LucillaVitreous\\20220426_175548.jpg: corrupt JPEG restored and saved\n",
      "\u001b[34m\u001b[1mval: \u001b[0mWARNING  C:\\Users\\Mehmet\\Desktop\\new_splited_wheat_dataset\\tmp_val\\images\\LucillaVitreous\\20220426_175600.jpg: corrupt JPEG restored and saved\n",
      "\u001b[34m\u001b[1mval: \u001b[0mWARNING  C:\\Users\\Mehmet\\Desktop\\new_splited_wheat_dataset\\tmp_val\\images\\LucillaVitreous\\20220426_175603.jpg: corrupt JPEG restored and saved\n",
      "\u001b[34m\u001b[1mval: \u001b[0mWARNING  C:\\Users\\Mehmet\\Desktop\\new_splited_wheat_dataset\\tmp_val\\images\\OdeskaVitreous\\20220426_172211.jpg: corrupt JPEG restored and saved\n",
      "\u001b[34m\u001b[1mval: \u001b[0mWARNING  C:\\Users\\Mehmet\\Desktop\\new_splited_wheat_dataset\\tmp_val\\images\\OdeskaVitreous\\20220426_172234.jpg: corrupt JPEG restored and saved\n",
      "\u001b[34m\u001b[1mval: \u001b[0mWARNING  C:\\Users\\Mehmet\\Desktop\\new_splited_wheat_dataset\\tmp_val\\images\\OdeskaVitreous\\20220426_172251.jpg: corrupt JPEG restored and saved\n",
      "\u001b[34m\u001b[1mval: \u001b[0mWARNING  C:\\Users\\Mehmet\\Desktop\\new_splited_wheat_dataset\\tmp_val\\images\\OdeskaVitreous\\20220426_172317.jpg: corrupt JPEG restored and saved\n",
      "\u001b[34m\u001b[1mval: \u001b[0mWARNING  C:\\Users\\Mehmet\\Desktop\\new_splited_wheat_dataset\\tmp_val\\images\\OdeskaVitreous\\20220426_172321.jpg: corrupt JPEG restored and saved\n",
      "\u001b[34m\u001b[1mval: \u001b[0mWARNING  C:\\Users\\Mehmet\\Desktop\\new_splited_wheat_dataset\\tmp_val\\images\\OdeskaVitreous\\20220426_172339.jpg: corrupt JPEG restored and saved\n",
      "\u001b[34m\u001b[1mval: \u001b[0mWARNING  C:\\Users\\Mehmet\\Desktop\\new_splited_wheat_dataset\\tmp_val\\images\\OdeskaVitreous\\20220426_172356.jpg: corrupt JPEG restored and saved\n",
      "\u001b[34m\u001b[1mval: \u001b[0mWARNING  C:\\Users\\Mehmet\\Desktop\\new_splited_wheat_dataset\\tmp_val\\images\\OdeskaVitreous\\20220426_172401.jpg: corrupt JPEG restored and saved\n",
      "\u001b[34m\u001b[1mval: \u001b[0mWARNING  C:\\Users\\Mehmet\\Desktop\\new_splited_wheat_dataset\\tmp_val\\images\\OdeskaVitreous\\20220426_172425.jpg: corrupt JPEG restored and saved\n",
      "\u001b[34m\u001b[1mval: \u001b[0mWARNING  C:\\Users\\Mehmet\\Desktop\\new_splited_wheat_dataset\\tmp_val\\images\\OdeskaVitreous\\20220426_172507.jpg: corrupt JPEG restored and saved\n",
      "\u001b[34m\u001b[1mval: \u001b[0mWARNING  C:\\Users\\Mehmet\\Desktop\\new_splited_wheat_dataset\\tmp_val\\images\\OdeskaVitreous\\20220426_172528.jpg: corrupt JPEG restored and saved\n",
      "\u001b[34m\u001b[1mval: \u001b[0mWARNING  C:\\Users\\Mehmet\\Desktop\\new_splited_wheat_dataset\\tmp_val\\images\\OdeskaVitreous\\20220426_172537.jpg: corrupt JPEG restored and saved\n",
      "\u001b[34m\u001b[1mval: \u001b[0mWARNING  C:\\Users\\Mehmet\\Desktop\\new_splited_wheat_dataset\\tmp_val\\images\\OdeskaVitreous\\20220426_172556.jpg: corrupt JPEG restored and saved\n",
      "\u001b[34m\u001b[1mval: \u001b[0mWARNING  C:\\Users\\Mehmet\\Desktop\\new_splited_wheat_dataset\\tmp_val\\images\\OdeskaVitreous\\20220426_172617.jpg: corrupt JPEG restored and saved\n",
      "\u001b[34m\u001b[1mval: \u001b[0mWARNING  C:\\Users\\Mehmet\\Desktop\\new_splited_wheat_dataset\\tmp_val\\images\\OdeskaVitreous\\20220426_172647.jpg: corrupt JPEG restored and saved\n",
      "\u001b[34m\u001b[1mval: \u001b[0mWARNING  C:\\Users\\Mehmet\\Desktop\\new_splited_wheat_dataset\\tmp_val\\images\\OdeskaVitreous\\20220426_172701.jpg: corrupt JPEG restored and saved\n",
      "\u001b[34m\u001b[1mval: \u001b[0mWARNING  C:\\Users\\Mehmet\\Desktop\\new_splited_wheat_dataset\\tmp_val\\images\\OdeskaVitreous\\20220426_172724.jpg: corrupt JPEG restored and saved\n",
      "\u001b[34m\u001b[1mval: \u001b[0mWARNING  C:\\Users\\Mehmet\\Desktop\\new_splited_wheat_dataset\\tmp_val\\images\\RumeliVitreous\\20220427_120143.jpg: corrupt JPEG restored and saved\n",
      "\u001b[34m\u001b[1mval: \u001b[0mWARNING  C:\\Users\\Mehmet\\Desktop\\new_splited_wheat_dataset\\tmp_val\\images\\RumeliVitreous\\20220427_120159.jpg: corrupt JPEG restored and saved\n",
      "\u001b[34m\u001b[1mval: \u001b[0mWARNING  C:\\Users\\Mehmet\\Desktop\\new_splited_wheat_dataset\\tmp_val\\images\\RumeliVitreous\\20220427_120254.jpg: corrupt JPEG restored and saved\n",
      "\u001b[34m\u001b[1mval: \u001b[0mWARNING  C:\\Users\\Mehmet\\Desktop\\new_splited_wheat_dataset\\tmp_val\\images\\RumeliVitreous\\20220427_120419.jpg: corrupt JPEG restored and saved\n",
      "\u001b[34m\u001b[1mval: \u001b[0mWARNING  C:\\Users\\Mehmet\\Desktop\\new_splited_wheat_dataset\\tmp_val\\images\\RumeliVitreous\\20220427_120606.jpg: corrupt JPEG restored and saved\n",
      "\u001b[34m\u001b[1mval: \u001b[0mWARNING  C:\\Users\\Mehmet\\Desktop\\new_splited_wheat_dataset\\tmp_val\\images\\RumeliVitreous\\20220427_120617.jpg: corrupt JPEG restored and saved\n",
      "\u001b[34m\u001b[1mval: \u001b[0mWARNING  C:\\Users\\Mehmet\\Desktop\\new_splited_wheat_dataset\\tmp_val\\images\\RumeliVitreous\\20220427_120621.jpg: corrupt JPEG restored and saved\n",
      "\u001b[34m\u001b[1mval: \u001b[0mWARNING  C:\\Users\\Mehmet\\Desktop\\new_splited_wheat_dataset\\tmp_val\\images\\SelimiyeVitreous\\20220425_165121.jpg: corrupt JPEG restored and saved\n",
      "\u001b[34m\u001b[1mval: \u001b[0mWARNING  C:\\Users\\Mehmet\\Desktop\\new_splited_wheat_dataset\\tmp_val\\images\\SelimiyeVitreous\\20220425_165133.jpg: corrupt JPEG restored and saved\n",
      "\u001b[34m\u001b[1mval: \u001b[0mWARNING  C:\\Users\\Mehmet\\Desktop\\new_splited_wheat_dataset\\tmp_val\\images\\SelimiyeVitreous\\20220425_165208.jpg: corrupt JPEG restored and saved\n",
      "\u001b[34m\u001b[1mval: \u001b[0mWARNING  C:\\Users\\Mehmet\\Desktop\\new_splited_wheat_dataset\\tmp_val\\images\\SelimiyeVitreous\\20220425_165228.jpg: corrupt JPEG restored and saved\n",
      "\u001b[34m\u001b[1mval: \u001b[0mWARNING  C:\\Users\\Mehmet\\Desktop\\new_splited_wheat_dataset\\tmp_val\\images\\SelimiyeVitreous\\20220425_165305.jpg: corrupt JPEG restored and saved\n",
      "\u001b[34m\u001b[1mval: \u001b[0mWARNING  C:\\Users\\Mehmet\\Desktop\\new_splited_wheat_dataset\\tmp_val\\images\\SelimiyeVitreous\\20220425_165307.jpg: corrupt JPEG restored and saved\n",
      "\u001b[34m\u001b[1mval: \u001b[0mWARNING  C:\\Users\\Mehmet\\Desktop\\new_splited_wheat_dataset\\tmp_val\\images\\SelimiyeVitreous\\20220425_165309.jpg: corrupt JPEG restored and saved\n",
      "\u001b[34m\u001b[1mval: \u001b[0mWARNING  C:\\Users\\Mehmet\\Desktop\\new_splited_wheat_dataset\\tmp_val\\images\\SelimiyeVitreous\\20220425_165321.jpg: corrupt JPEG restored and saved\n",
      "\u001b[34m\u001b[1mval: \u001b[0mWARNING  C:\\Users\\Mehmet\\Desktop\\new_splited_wheat_dataset\\tmp_val\\images\\SelimiyeVitreous\\20220425_165332.jpg: corrupt JPEG restored and saved\n",
      "\u001b[34m\u001b[1mval: \u001b[0mWARNING  C:\\Users\\Mehmet\\Desktop\\new_splited_wheat_dataset\\tmp_val\\images\\SelimiyeVitreous\\20220425_165348.jpg: corrupt JPEG restored and saved\n",
      "\u001b[34m\u001b[1mval: \u001b[0mWARNING  C:\\Users\\Mehmet\\Desktop\\new_splited_wheat_dataset\\tmp_val\\images\\SelimiyeVitreous\\20220425_165522.jpg: corrupt JPEG restored and saved\n",
      "\u001b[34m\u001b[1mval: \u001b[0mWARNING  C:\\Users\\Mehmet\\Desktop\\new_splited_wheat_dataset\\tmp_val\\images\\SelimiyeVitreous\\20220425_165525.jpg: corrupt JPEG restored and saved\n",
      "\u001b[34m\u001b[1mval: \u001b[0mWARNING  C:\\Users\\Mehmet\\Desktop\\new_splited_wheat_dataset\\tmp_val\\images\\SelimiyeVitreous\\20220425_165550.jpg: corrupt JPEG restored and saved\n",
      "\u001b[34m\u001b[1mval: \u001b[0mWARNING  C:\\Users\\Mehmet\\Desktop\\new_splited_wheat_dataset\\tmp_val\\images\\SelimiyeVitreous\\20220425_165553.jpg: corrupt JPEG restored and saved\n",
      "\u001b[34m\u001b[1mval: \u001b[0mWARNING  C:\\Users\\Mehmet\\Desktop\\new_splited_wheat_dataset\\tmp_val\\images\\SelimiyeVitreous\\20220425_165559.jpg: corrupt JPEG restored and saved\n",
      "\u001b[34m\u001b[1mval: \u001b[0mWARNING  C:\\Users\\Mehmet\\Desktop\\new_splited_wheat_dataset\\tmp_val\\images\\SelimiyeVitreous\\20220425_165635.jpg: corrupt JPEG restored and saved\n",
      "\u001b[34m\u001b[1mval: \u001b[0mWARNING  C:\\Users\\Mehmet\\Desktop\\new_splited_wheat_dataset\\tmp_val\\images\\SelimiyeVitreous\\20220425_165643.jpg: corrupt JPEG restored and saved\n",
      "\u001b[34m\u001b[1mval: \u001b[0mNew cache created: C:\\Users\\Mehmet\\Desktop\\new_splited_wheat_dataset\\tmp_val\\labels\\Bayraktar2000Vitreous.cache\n"
     ]
    },
    {
     "name": "stderr",
     "output_type": "stream",
     "text": [
      "\n"
     ]
    },
    {
     "name": "stdout",
     "output_type": "stream",
     "text": [
      "Plotting labels to C:\\Users\\Mehmet\\Desktop\\whead_dataset\\results\\train7\\labels.jpg... \n",
      "\u001b[34m\u001b[1moptimizer:\u001b[0m 'optimizer=auto' found, ignoring 'lr0=0.01' and 'momentum=0.937' and determining best 'optimizer', 'lr0' and 'momentum' automatically... \n",
      "\u001b[34m\u001b[1moptimizer:\u001b[0m AdamW(lr=0.000714, momentum=0.9) with parameter groups 81 weight(decay=0.0), 88 weight(decay=0.0005), 87 bias(decay=0.0)\n",
      "Image sizes 640 train, 640 val\n",
      "Using 8 dataloader workers\n",
      "Logging results to \u001b[1mC:\\Users\\Mehmet\\Desktop\\whead_dataset\\results\\train7\u001b[0m\n",
      "Starting training for 20 epochs...\n",
      "\n",
      "      Epoch    GPU_mem   box_loss   cls_loss   dfl_loss  Instances       Size\n"
     ]
    },
    {
     "name": "stderr",
     "output_type": "stream",
     "text": [
      "       1/20     0.724G      1.096      4.248     0.9792         12        640: 100%|██████████| 169/169 [00:23<00:00,  7.21it/s]\n",
      "                 Class     Images  Instances      Box(P          R      mAP50  mAP50-95): 100%|██████████| 22/22 [00:03<00:00,  7.23it/s]"
     ]
    },
    {
     "name": "stdout",
     "output_type": "stream",
     "text": [
      "                   all        169        197      0.135      0.384       0.21      0.155\n"
     ]
    },
    {
     "name": "stderr",
     "output_type": "stream",
     "text": [
      "\n"
     ]
    },
    {
     "name": "stdout",
     "output_type": "stream",
     "text": [
      "\n",
      "      Epoch    GPU_mem   box_loss   cls_loss   dfl_loss  Instances       Size\n"
     ]
    },
    {
     "name": "stderr",
     "output_type": "stream",
     "text": [
      "       2/20     0.711G     0.8819      3.363     0.9346          4        640: 100%|██████████| 169/169 [00:22<00:00,  7.52it/s]\n",
      "                 Class     Images  Instances      Box(P          R      mAP50  mAP50-95): 100%|██████████| 22/22 [00:02<00:00,  7.46it/s]\n"
     ]
    },
    {
     "name": "stdout",
     "output_type": "stream",
     "text": [
      "                   all        169        197      0.194       0.58      0.271      0.213\n",
      "\n",
      "      Epoch    GPU_mem   box_loss   cls_loss   dfl_loss  Instances       Size\n"
     ]
    },
    {
     "name": "stderr",
     "output_type": "stream",
     "text": [
      "       3/20     0.717G     0.8547      2.977     0.9349          8        640: 100%|██████████| 169/169 [00:23<00:00,  7.21it/s]\n",
      "                 Class     Images  Instances      Box(P          R      mAP50  mAP50-95): 100%|██████████| 22/22 [00:03<00:00,  7.10it/s]\n"
     ]
    },
    {
     "name": "stdout",
     "output_type": "stream",
     "text": [
      "                   all        169        197      0.246      0.723      0.314      0.251\n",
      "\n",
      "      Epoch    GPU_mem   box_loss   cls_loss   dfl_loss  Instances       Size\n"
     ]
    },
    {
     "name": "stderr",
     "output_type": "stream",
     "text": [
      "       4/20     0.717G     0.8221      2.725     0.9256          6        640: 100%|██████████| 169/169 [00:24<00:00,  7.01it/s]\n",
      "                 Class     Images  Instances      Box(P          R      mAP50  mAP50-95): 100%|██████████| 22/22 [00:02<00:00,  7.94it/s]\n"
     ]
    },
    {
     "name": "stdout",
     "output_type": "stream",
     "text": [
      "                   all        169        197      0.283      0.819      0.425      0.346\n",
      "\n",
      "      Epoch    GPU_mem   box_loss   cls_loss   dfl_loss  Instances       Size\n"
     ]
    },
    {
     "name": "stderr",
     "output_type": "stream",
     "text": [
      "       5/20     0.715G     0.8108      2.613       0.92          8        640: 100%|██████████| 169/169 [00:24<00:00,  6.96it/s]\n",
      "                 Class     Images  Instances      Box(P          R      mAP50  mAP50-95): 100%|██████████| 22/22 [00:02<00:00,  8.61it/s]"
     ]
    },
    {
     "name": "stdout",
     "output_type": "stream",
     "text": [
      "                   all        169        197      0.384      0.802      0.482      0.401\n"
     ]
    },
    {
     "name": "stderr",
     "output_type": "stream",
     "text": [
      "\n"
     ]
    },
    {
     "name": "stdout",
     "output_type": "stream",
     "text": [
      "\n",
      "      Epoch    GPU_mem   box_loss   cls_loss   dfl_loss  Instances       Size\n"
     ]
    },
    {
     "name": "stderr",
     "output_type": "stream",
     "text": [
      "       6/20     0.715G     0.7983      2.328     0.9263          4        640: 100%|██████████| 169/169 [00:24<00:00,  6.93it/s]\n",
      "                 Class     Images  Instances      Box(P          R      mAP50  mAP50-95): 100%|██████████| 22/22 [00:02<00:00,  7.98it/s]"
     ]
    },
    {
     "name": "stdout",
     "output_type": "stream",
     "text": [
      "                   all        169        197      0.387      0.849      0.523      0.427\n"
     ]
    },
    {
     "name": "stderr",
     "output_type": "stream",
     "text": [
      "\n"
     ]
    },
    {
     "name": "stdout",
     "output_type": "stream",
     "text": [
      "\n",
      "      Epoch    GPU_mem   box_loss   cls_loss   dfl_loss  Instances       Size\n"
     ]
    },
    {
     "name": "stderr",
     "output_type": "stream",
     "text": [
      "       7/20     0.715G     0.8174      2.179     0.9268          8        640: 100%|██████████| 169/169 [00:24<00:00,  6.76it/s]\n",
      "                 Class     Images  Instances      Box(P          R      mAP50  mAP50-95): 100%|██████████| 22/22 [00:02<00:00,  9.31it/s]"
     ]
    },
    {
     "name": "stdout",
     "output_type": "stream",
     "text": [
      "                   all        169        197      0.395      0.875      0.576      0.468\n"
     ]
    },
    {
     "name": "stderr",
     "output_type": "stream",
     "text": [
      "\n"
     ]
    },
    {
     "name": "stdout",
     "output_type": "stream",
     "text": [
      "\n",
      "      Epoch    GPU_mem   box_loss   cls_loss   dfl_loss  Instances       Size\n"
     ]
    },
    {
     "name": "stderr",
     "output_type": "stream",
     "text": [
      "       8/20     0.715G     0.7561      1.992     0.9206          7        640: 100%|██████████| 169/169 [00:24<00:00,  6.76it/s]\n",
      "                 Class     Images  Instances      Box(P          R      mAP50  mAP50-95): 100%|██████████| 22/22 [00:02<00:00,  8.56it/s]"
     ]
    },
    {
     "name": "stdout",
     "output_type": "stream",
     "text": [
      "                   all        169        197      0.453      0.877      0.611      0.506\n"
     ]
    },
    {
     "name": "stderr",
     "output_type": "stream",
     "text": [
      "\n"
     ]
    },
    {
     "name": "stdout",
     "output_type": "stream",
     "text": [
      "\n",
      "      Epoch    GPU_mem   box_loss   cls_loss   dfl_loss  Instances       Size\n"
     ]
    },
    {
     "name": "stderr",
     "output_type": "stream",
     "text": [
      "       9/20     0.715G     0.7525      1.947     0.9145          3        640: 100%|██████████| 169/169 [00:25<00:00,  6.75it/s]\n",
      "                 Class     Images  Instances      Box(P          R      mAP50  mAP50-95): 100%|██████████| 22/22 [00:02<00:00,  8.41it/s]"
     ]
    },
    {
     "name": "stdout",
     "output_type": "stream",
     "text": [
      "                   all        169        197      0.492      0.874      0.605      0.501\n"
     ]
    },
    {
     "name": "stderr",
     "output_type": "stream",
     "text": [
      "\n"
     ]
    },
    {
     "name": "stdout",
     "output_type": "stream",
     "text": [
      "\n",
      "      Epoch    GPU_mem   box_loss   cls_loss   dfl_loss  Instances       Size\n"
     ]
    },
    {
     "name": "stderr",
     "output_type": "stream",
     "text": [
      "      10/20     0.715G     0.7189      1.788     0.8968          9        640: 100%|██████████| 169/169 [00:24<00:00,  6.90it/s]\n",
      "                 Class     Images  Instances      Box(P          R      mAP50  mAP50-95): 100%|██████████| 22/22 [00:02<00:00,  8.69it/s]\n"
     ]
    },
    {
     "name": "stdout",
     "output_type": "stream",
     "text": [
      "                   all        169        197      0.457       0.86      0.556      0.463\n",
      "Closing dataloader mosaic\n",
      "\n",
      "      Epoch    GPU_mem   box_loss   cls_loss   dfl_loss  Instances       Size\n"
     ]
    },
    {
     "name": "stderr",
     "output_type": "stream",
     "text": [
      "      11/20     0.713G     0.6869      1.964     0.9069          4        640: 100%|██████████| 169/169 [00:22<00:00,  7.58it/s]\n",
      "                 Class     Images  Instances      Box(P          R      mAP50  mAP50-95): 100%|██████████| 22/22 [00:02<00:00,  9.49it/s]"
     ]
    },
    {
     "name": "stdout",
     "output_type": "stream",
     "text": [
      "                   all        169        197      0.509      0.934      0.644      0.529\n"
     ]
    },
    {
     "name": "stderr",
     "output_type": "stream",
     "text": [
      "\n"
     ]
    },
    {
     "name": "stdout",
     "output_type": "stream",
     "text": [
      "\n",
      "      Epoch    GPU_mem   box_loss   cls_loss   dfl_loss  Instances       Size\n"
     ]
    },
    {
     "name": "stderr",
     "output_type": "stream",
     "text": [
      "      12/20     0.713G      0.681      1.886     0.9048          8        640: 100%|██████████| 169/169 [00:27<00:00,  6.20it/s]\n",
      "                 Class     Images  Instances      Box(P          R      mAP50  mAP50-95): 100%|██████████| 22/22 [00:02<00:00,  8.76it/s]"
     ]
    },
    {
     "name": "stdout",
     "output_type": "stream",
     "text": [
      "                   all        169        197      0.537       0.85      0.636      0.528\n"
     ]
    },
    {
     "name": "stderr",
     "output_type": "stream",
     "text": [
      "\n"
     ]
    },
    {
     "name": "stdout",
     "output_type": "stream",
     "text": [
      "\n",
      "      Epoch    GPU_mem   box_loss   cls_loss   dfl_loss  Instances       Size\n"
     ]
    },
    {
     "name": "stderr",
     "output_type": "stream",
     "text": [
      "      13/20     0.713G     0.6524      1.751     0.9108          4        640: 100%|██████████| 169/169 [00:24<00:00,  6.82it/s]\n",
      "                 Class     Images  Instances      Box(P          R      mAP50  mAP50-95): 100%|██████████| 22/22 [00:02<00:00,  8.62it/s]"
     ]
    },
    {
     "name": "stdout",
     "output_type": "stream",
     "text": [
      "                   all        169        197      0.604      0.868      0.724      0.606\n"
     ]
    },
    {
     "name": "stderr",
     "output_type": "stream",
     "text": [
      "\n"
     ]
    },
    {
     "name": "stdout",
     "output_type": "stream",
     "text": [
      "\n",
      "      Epoch    GPU_mem   box_loss   cls_loss   dfl_loss  Instances       Size\n"
     ]
    },
    {
     "name": "stderr",
     "output_type": "stream",
     "text": [
      "      14/20     0.713G     0.6493      1.643     0.9022          4        640: 100%|██████████| 169/169 [00:27<00:00,  6.10it/s]\n",
      "                 Class     Images  Instances      Box(P          R      mAP50  mAP50-95): 100%|██████████| 22/22 [00:02<00:00, 10.82it/s]"
     ]
    },
    {
     "name": "stdout",
     "output_type": "stream",
     "text": [
      "                   all        169        197       0.59      0.894      0.699      0.584\n"
     ]
    },
    {
     "name": "stderr",
     "output_type": "stream",
     "text": [
      "\n"
     ]
    },
    {
     "name": "stdout",
     "output_type": "stream",
     "text": [
      "\n",
      "      Epoch    GPU_mem   box_loss   cls_loss   dfl_loss  Instances       Size\n"
     ]
    },
    {
     "name": "stderr",
     "output_type": "stream",
     "text": [
      "      15/20     0.713G     0.6546      1.588     0.8958          4        640: 100%|██████████| 169/169 [00:26<00:00,  6.33it/s]\n",
      "                 Class     Images  Instances      Box(P          R      mAP50  mAP50-95): 100%|██████████| 22/22 [00:02<00:00,  7.49it/s]"
     ]
    },
    {
     "name": "stdout",
     "output_type": "stream",
     "text": [
      "                   all        169        197      0.646      0.899      0.763       0.64\n"
     ]
    },
    {
     "name": "stderr",
     "output_type": "stream",
     "text": [
      "\n"
     ]
    },
    {
     "name": "stdout",
     "output_type": "stream",
     "text": [
      "\n",
      "      Epoch    GPU_mem   box_loss   cls_loss   dfl_loss  Instances       Size\n"
     ]
    },
    {
     "name": "stderr",
     "output_type": "stream",
     "text": [
      "      16/20     0.713G     0.6416      1.545     0.8963          8        640: 100%|██████████| 169/169 [00:23<00:00,  7.18it/s]\n",
      "                 Class     Images  Instances      Box(P          R      mAP50  mAP50-95): 100%|██████████| 22/22 [00:02<00:00,  7.51it/s]"
     ]
    },
    {
     "name": "stdout",
     "output_type": "stream",
     "text": [
      "                   all        169        197      0.617       0.84      0.762      0.642\n"
     ]
    },
    {
     "name": "stderr",
     "output_type": "stream",
     "text": [
      "\n"
     ]
    },
    {
     "name": "stdout",
     "output_type": "stream",
     "text": [
      "\n",
      "      Epoch    GPU_mem   box_loss   cls_loss   dfl_loss  Instances       Size\n"
     ]
    },
    {
     "name": "stderr",
     "output_type": "stream",
     "text": [
      "      17/20     0.713G     0.6353      1.485     0.8884          4        640: 100%|██████████| 169/169 [00:23<00:00,  7.22it/s]\n",
      "                 Class     Images  Instances      Box(P          R      mAP50  mAP50-95): 100%|██████████| 22/22 [00:03<00:00,  7.07it/s]\n"
     ]
    },
    {
     "name": "stdout",
     "output_type": "stream",
     "text": [
      "                   all        169        197      0.683      0.907      0.797      0.679\n",
      "\n",
      "      Epoch    GPU_mem   box_loss   cls_loss   dfl_loss  Instances       Size\n"
     ]
    },
    {
     "name": "stderr",
     "output_type": "stream",
     "text": [
      "      18/20     0.713G     0.6195      1.435     0.8895          4        640: 100%|██████████| 169/169 [00:24<00:00,  7.01it/s]\n",
      "                 Class     Images  Instances      Box(P          R      mAP50  mAP50-95): 100%|██████████| 22/22 [00:02<00:00,  9.35it/s]"
     ]
    },
    {
     "name": "stdout",
     "output_type": "stream",
     "text": [
      "                   all        169        197      0.668      0.899        0.8      0.675\n"
     ]
    },
    {
     "name": "stderr",
     "output_type": "stream",
     "text": [
      "\n"
     ]
    },
    {
     "name": "stdout",
     "output_type": "stream",
     "text": [
      "\n",
      "      Epoch    GPU_mem   box_loss   cls_loss   dfl_loss  Instances       Size\n"
     ]
    },
    {
     "name": "stderr",
     "output_type": "stream",
     "text": [
      "      19/20     0.713G     0.6211      1.423     0.8903          4        640: 100%|██████████| 169/169 [00:24<00:00,  7.00it/s]\n",
      "                 Class     Images  Instances      Box(P          R      mAP50  mAP50-95): 100%|██████████| 22/22 [00:03<00:00,  6.92it/s]\n"
     ]
    },
    {
     "name": "stdout",
     "output_type": "stream",
     "text": [
      "                   all        169        197      0.655      0.956      0.776       0.66\n",
      "\n",
      "      Epoch    GPU_mem   box_loss   cls_loss   dfl_loss  Instances       Size\n"
     ]
    },
    {
     "name": "stderr",
     "output_type": "stream",
     "text": [
      "      20/20     0.713G     0.6077      1.371      0.883          4        640: 100%|██████████| 169/169 [00:23<00:00,  7.12it/s]\n",
      "                 Class     Images  Instances      Box(P          R      mAP50  mAP50-95): 100%|██████████| 22/22 [00:02<00:00,  7.82it/s]"
     ]
    },
    {
     "name": "stdout",
     "output_type": "stream",
     "text": [
      "                   all        169        197      0.636      0.962      0.778      0.666\n"
     ]
    },
    {
     "name": "stderr",
     "output_type": "stream",
     "text": [
      "\n"
     ]
    },
    {
     "name": "stdout",
     "output_type": "stream",
     "text": [
      "\n",
      "20 epochs completed in 0.169 hours.\n",
      "Optimizer stripped from C:\\Users\\Mehmet\\Desktop\\whead_dataset\\results\\train7\\weights\\last.pt, 5.5MB\n",
      "Optimizer stripped from C:\\Users\\Mehmet\\Desktop\\whead_dataset\\results\\train7\\weights\\best.pt, 5.5MB\n",
      "\n",
      "Validating C:\\Users\\Mehmet\\Desktop\\whead_dataset\\results\\train7\\weights\\best.pt...\n",
      "Ultralytics 8.3.5  Python-3.9.20 torch-2.4.1+cu121 CUDA:0 (NVIDIA GeForce RTX 3050 Laptop GPU, 4096MiB)\n",
      "YOLO11n summary (fused): 238 layers, 2,584,102 parameters, 0 gradients, 6.3 GFLOPs\n"
     ]
    },
    {
     "name": "stderr",
     "output_type": "stream",
     "text": [
      "                 Class     Images  Instances      Box(P          R      mAP50  mAP50-95): 100%|██████████| 22/22 [00:02<00:00,  9.12it/s]\n"
     ]
    },
    {
     "name": "stdout",
     "output_type": "stream",
     "text": [
      "                   all        169        197      0.684      0.895      0.797      0.678\n",
      " Bayraktar2000Vitreous         18         22      0.932          1      0.991      0.853\n",
      "    Bezostaja1Vitreous         23         23      0.587      0.804      0.698      0.524\n",
      "     Delabrad2Vitreous         11         11      0.838      0.818      0.926      0.759\n",
      "          EkizVitreous         15         19      0.979          1      0.995      0.737\n",
      "       EsperiaVitreous         17         21      0.746      0.762      0.889      0.799\n",
      "      KiziltanVitreous         23         27      0.979          1      0.995      0.844\n",
      "       LucillaVitreous         21         29      0.576      0.984      0.732      0.669\n",
      "        OdeskaVitreous         17         21      0.436      0.956       0.59      0.537\n",
      "        RumeliVitreous          7          7       0.43      0.857      0.648      0.601\n",
      "      SelimiyeVitreous         17         17      0.336      0.765      0.507       0.46\n",
      "Speed: 0.5ms preprocess, 5.0ms inference, 0.0ms loss, 1.7ms postprocess per image\n",
      "Results saved to \u001b[1mC:\\Users\\Mehmet\\Desktop\\whead_dataset\\results\\train7\u001b[0m\n",
      "2.Eğitim bitti\n",
      "Bellek temizlendi\n",
      "3.Eğitim başlıyor\n",
      "New https://pypi.org/project/ultralytics/8.3.40 available  Update with 'pip install -U ultralytics'\n",
      "Ultralytics 8.3.5  Python-3.9.20 torch-2.4.1+cu121 CUDA:0 (NVIDIA GeForce RTX 3050 Laptop GPU, 4096MiB)\n",
      "\u001b[34m\u001b[1mengine\\trainer: \u001b[0mtask=detect, mode=train, model=D:\\tarimda_yapay_zeka\\yolo11n.pt, data=C:\\Users\\Mehmet\\Desktop\\splited_wheat_dataset\\wheat_dataset_yaml.yaml, epochs=20, time=None, patience=100, batch=4, imgsz=640, save=True, save_period=-1, cache=False, device=None, workers=8, project=C:\\Users\\Mehmet\\Desktop\\whead_dataset\\results, name=train8, exist_ok=False, pretrained=True, optimizer=auto, verbose=True, seed=0, deterministic=True, single_cls=False, rect=False, cos_lr=False, close_mosaic=10, resume=False, amp=True, fraction=1.0, profile=False, freeze=None, multi_scale=False, overlap_mask=True, mask_ratio=4, dropout=0.0, val=True, split=val, save_json=False, save_hybrid=False, conf=None, iou=0.7, max_det=300, half=False, dnn=False, plots=True, source=None, vid_stride=1, stream_buffer=False, visualize=False, augment=False, agnostic_nms=False, classes=None, retina_masks=False, embed=None, show=False, save_frames=False, save_txt=False, save_conf=False, save_crop=False, show_labels=True, show_conf=True, show_boxes=True, line_width=None, format=torchscript, keras=False, optimize=False, int8=False, dynamic=False, simplify=True, opset=None, workspace=4, nms=False, lr0=0.01, lrf=0.01, momentum=0.937, weight_decay=0.0005, warmup_epochs=3.0, warmup_momentum=0.8, warmup_bias_lr=0.1, box=7.5, cls=0.5, dfl=1.5, pose=12.0, kobj=1.0, label_smoothing=0.0, nbs=64, hsv_h=0.015, hsv_s=0.7, hsv_v=0.4, degrees=0.0, translate=0.1, scale=0.5, shear=0.0, perspective=0.0, flipud=0.0, fliplr=0.5, bgr=0.0, mosaic=1.0, mixup=0.0, copy_paste=0.0, copy_paste_mode=flip, auto_augment=randaugment, erasing=0.4, crop_fraction=1.0, cfg=None, tracker=botsort.yaml, save_dir=C:\\Users\\Mehmet\\Desktop\\whead_dataset\\results\\train8\n",
      "Overriding model.yaml nc=80 with nc=10\n",
      "\n",
      "                   from  n    params  module                                       arguments                     \n",
      "  0                  -1  1       464  ultralytics.nn.modules.conv.Conv             [3, 16, 3, 2]                 \n",
      "  1                  -1  1      4672  ultralytics.nn.modules.conv.Conv             [16, 32, 3, 2]                \n",
      "  2                  -1  1      6640  ultralytics.nn.modules.block.C3k2            [32, 64, 1, False, 0.25]      \n",
      "  3                  -1  1     36992  ultralytics.nn.modules.conv.Conv             [64, 64, 3, 2]                \n",
      "  4                  -1  1     26080  ultralytics.nn.modules.block.C3k2            [64, 128, 1, False, 0.25]     \n",
      "  5                  -1  1    147712  ultralytics.nn.modules.conv.Conv             [128, 128, 3, 2]              \n",
      "  6                  -1  1     87040  ultralytics.nn.modules.block.C3k2            [128, 128, 1, True]           \n",
      "  7                  -1  1    295424  ultralytics.nn.modules.conv.Conv             [128, 256, 3, 2]              \n",
      "  8                  -1  1    346112  ultralytics.nn.modules.block.C3k2            [256, 256, 1, True]           \n",
      "  9                  -1  1    164608  ultralytics.nn.modules.block.SPPF            [256, 256, 5]                 \n",
      " 10                  -1  1    249728  ultralytics.nn.modules.block.C2PSA           [256, 256, 1]                 \n",
      " 11                  -1  1         0  torch.nn.modules.upsampling.Upsample         [None, 2, 'nearest']          \n",
      " 12             [-1, 6]  1         0  ultralytics.nn.modules.conv.Concat           [1]                           \n",
      " 13                  -1  1    111296  ultralytics.nn.modules.block.C3k2            [384, 128, 1, False]          \n",
      " 14                  -1  1         0  torch.nn.modules.upsampling.Upsample         [None, 2, 'nearest']          \n",
      " 15             [-1, 4]  1         0  ultralytics.nn.modules.conv.Concat           [1]                           \n",
      " 16                  -1  1     32096  ultralytics.nn.modules.block.C3k2            [256, 64, 1, False]           \n",
      " 17                  -1  1     36992  ultralytics.nn.modules.conv.Conv             [64, 64, 3, 2]                \n",
      " 18            [-1, 13]  1         0  ultralytics.nn.modules.conv.Concat           [1]                           \n",
      " 19                  -1  1     86720  ultralytics.nn.modules.block.C3k2            [192, 128, 1, False]          \n",
      " 20                  -1  1    147712  ultralytics.nn.modules.conv.Conv             [128, 128, 3, 2]              \n",
      " 21            [-1, 10]  1         0  ultralytics.nn.modules.conv.Concat           [1]                           \n",
      " 22                  -1  1    378880  ultralytics.nn.modules.block.C3k2            [384, 256, 1, True]           \n",
      " 23        [16, 19, 22]  1    432622  ultralytics.nn.modules.head.Detect           [10, [64, 128, 256]]          \n",
      "YOLO11n summary: 319 layers, 2,591,790 parameters, 2,591,774 gradients, 6.5 GFLOPs\n",
      "\n",
      "Transferred 448/499 items from pretrained weights\n",
      "Freezing layer 'model.23.dfl.conv.weight'\n",
      "\u001b[34m\u001b[1mAMP: \u001b[0mrunning Automatic Mixed Precision (AMP) checks with YOLO11n...\n",
      "\u001b[34m\u001b[1mAMP: \u001b[0mchecks passed \n"
     ]
    },
    {
     "name": "stderr",
     "output_type": "stream",
     "text": [
      "\u001b[34m\u001b[1mtrain: \u001b[0mScanning C:\\Users\\Mehmet\\Desktop\\new_splited_wheat_dataset\\tmp_train\\labels\\Bayraktar2000Vitreous... 676 images, 0 backgrounds, 0 corrupt: 100%|██████████| 676/676 [01:13<00:00,  9.24it/s]"
     ]
    },
    {
     "name": "stdout",
     "output_type": "stream",
     "text": [
      "\u001b[34m\u001b[1mtrain: \u001b[0mWARNING  C:\\Users\\Mehmet\\Desktop\\new_splited_wheat_dataset\\tmp_train\\images\\Bayraktar2000Vitreous\\20220426_144729.jpg: corrupt JPEG restored and saved\n",
      "\u001b[34m\u001b[1mtrain: \u001b[0mWARNING  C:\\Users\\Mehmet\\Desktop\\new_splited_wheat_dataset\\tmp_train\\images\\Bayraktar2000Vitreous\\20220426_144735.jpg: corrupt JPEG restored and saved\n",
      "\u001b[34m\u001b[1mtrain: \u001b[0mWARNING  C:\\Users\\Mehmet\\Desktop\\new_splited_wheat_dataset\\tmp_train\\images\\Bayraktar2000Vitreous\\20220426_144740.jpg: corrupt JPEG restored and saved\n",
      "\u001b[34m\u001b[1mtrain: \u001b[0mWARNING  C:\\Users\\Mehmet\\Desktop\\new_splited_wheat_dataset\\tmp_train\\images\\Bayraktar2000Vitreous\\20220426_144744.jpg: corrupt JPEG restored and saved\n",
      "\u001b[34m\u001b[1mtrain: \u001b[0mWARNING  C:\\Users\\Mehmet\\Desktop\\new_splited_wheat_dataset\\tmp_train\\images\\Bayraktar2000Vitreous\\20220426_144746.jpg: corrupt JPEG restored and saved\n",
      "\u001b[34m\u001b[1mtrain: \u001b[0mWARNING  C:\\Users\\Mehmet\\Desktop\\new_splited_wheat_dataset\\tmp_train\\images\\Bayraktar2000Vitreous\\20220426_144748.jpg: corrupt JPEG restored and saved\n",
      "\u001b[34m\u001b[1mtrain: \u001b[0mWARNING  C:\\Users\\Mehmet\\Desktop\\new_splited_wheat_dataset\\tmp_train\\images\\Bayraktar2000Vitreous\\20220426_144753.jpg: corrupt JPEG restored and saved\n",
      "\u001b[34m\u001b[1mtrain: \u001b[0mWARNING  C:\\Users\\Mehmet\\Desktop\\new_splited_wheat_dataset\\tmp_train\\images\\Bayraktar2000Vitreous\\20220426_144801.jpg: corrupt JPEG restored and saved\n",
      "\u001b[34m\u001b[1mtrain: \u001b[0mWARNING  C:\\Users\\Mehmet\\Desktop\\new_splited_wheat_dataset\\tmp_train\\images\\Bayraktar2000Vitreous\\20220426_144804.jpg: corrupt JPEG restored and saved\n",
      "\u001b[34m\u001b[1mtrain: \u001b[0mWARNING  C:\\Users\\Mehmet\\Desktop\\new_splited_wheat_dataset\\tmp_train\\images\\Bayraktar2000Vitreous\\20220426_144809.jpg: corrupt JPEG restored and saved\n",
      "\u001b[34m\u001b[1mtrain: \u001b[0mWARNING  C:\\Users\\Mehmet\\Desktop\\new_splited_wheat_dataset\\tmp_train\\images\\Bayraktar2000Vitreous\\20220426_144811.jpg: corrupt JPEG restored and saved\n",
      "\u001b[34m\u001b[1mtrain: \u001b[0mWARNING  C:\\Users\\Mehmet\\Desktop\\new_splited_wheat_dataset\\tmp_train\\images\\Bayraktar2000Vitreous\\20220426_144824.jpg: corrupt JPEG restored and saved\n",
      "\u001b[34m\u001b[1mtrain: \u001b[0mWARNING  C:\\Users\\Mehmet\\Desktop\\new_splited_wheat_dataset\\tmp_train\\images\\Bayraktar2000Vitreous\\20220426_144826.jpg: corrupt JPEG restored and saved\n",
      "\u001b[34m\u001b[1mtrain: \u001b[0mWARNING  C:\\Users\\Mehmet\\Desktop\\new_splited_wheat_dataset\\tmp_train\\images\\Bayraktar2000Vitreous\\20220426_144828.jpg: corrupt JPEG restored and saved\n",
      "\u001b[34m\u001b[1mtrain: \u001b[0mWARNING  C:\\Users\\Mehmet\\Desktop\\new_splited_wheat_dataset\\tmp_train\\images\\Bayraktar2000Vitreous\\20220426_144838.jpg: corrupt JPEG restored and saved\n",
      "\u001b[34m\u001b[1mtrain: \u001b[0mWARNING  C:\\Users\\Mehmet\\Desktop\\new_splited_wheat_dataset\\tmp_train\\images\\Bayraktar2000Vitreous\\20220426_144841.jpg: corrupt JPEG restored and saved\n",
      "\u001b[34m\u001b[1mtrain: \u001b[0mWARNING  C:\\Users\\Mehmet\\Desktop\\new_splited_wheat_dataset\\tmp_train\\images\\Bayraktar2000Vitreous\\20220426_144846.jpg: corrupt JPEG restored and saved\n",
      "\u001b[34m\u001b[1mtrain: \u001b[0mWARNING  C:\\Users\\Mehmet\\Desktop\\new_splited_wheat_dataset\\tmp_train\\images\\Bayraktar2000Vitreous\\20220426_144853.jpg: corrupt JPEG restored and saved\n",
      "\u001b[34m\u001b[1mtrain: \u001b[0mWARNING  C:\\Users\\Mehmet\\Desktop\\new_splited_wheat_dataset\\tmp_train\\images\\Bayraktar2000Vitreous\\20220426_144858.jpg: corrupt JPEG restored and saved\n",
      "\u001b[34m\u001b[1mtrain: \u001b[0mWARNING  C:\\Users\\Mehmet\\Desktop\\new_splited_wheat_dataset\\tmp_train\\images\\Bayraktar2000Vitreous\\20220426_144900.jpg: corrupt JPEG restored and saved\n",
      "\u001b[34m\u001b[1mtrain: \u001b[0mWARNING  C:\\Users\\Mehmet\\Desktop\\new_splited_wheat_dataset\\tmp_train\\images\\Bayraktar2000Vitreous\\20220426_144902.jpg: corrupt JPEG restored and saved\n",
      "\u001b[34m\u001b[1mtrain: \u001b[0mWARNING  C:\\Users\\Mehmet\\Desktop\\new_splited_wheat_dataset\\tmp_train\\images\\Bayraktar2000Vitreous\\20220426_144905.jpg: corrupt JPEG restored and saved\n",
      "\u001b[34m\u001b[1mtrain: \u001b[0mWARNING  C:\\Users\\Mehmet\\Desktop\\new_splited_wheat_dataset\\tmp_train\\images\\Bayraktar2000Vitreous\\20220426_144919.jpg: corrupt JPEG restored and saved\n",
      "\u001b[34m\u001b[1mtrain: \u001b[0mWARNING  C:\\Users\\Mehmet\\Desktop\\new_splited_wheat_dataset\\tmp_train\\images\\Bayraktar2000Vitreous\\20220426_144935.jpg: corrupt JPEG restored and saved\n",
      "\u001b[34m\u001b[1mtrain: \u001b[0mWARNING  C:\\Users\\Mehmet\\Desktop\\new_splited_wheat_dataset\\tmp_train\\images\\Bayraktar2000Vitreous\\20220426_144937.jpg: corrupt JPEG restored and saved\n",
      "\u001b[34m\u001b[1mtrain: \u001b[0mWARNING  C:\\Users\\Mehmet\\Desktop\\new_splited_wheat_dataset\\tmp_train\\images\\Bayraktar2000Vitreous\\20220426_144944.jpg: corrupt JPEG restored and saved\n",
      "\u001b[34m\u001b[1mtrain: \u001b[0mWARNING  C:\\Users\\Mehmet\\Desktop\\new_splited_wheat_dataset\\tmp_train\\images\\Bayraktar2000Vitreous\\20220426_144956.jpg: corrupt JPEG restored and saved\n",
      "\u001b[34m\u001b[1mtrain: \u001b[0mWARNING  C:\\Users\\Mehmet\\Desktop\\new_splited_wheat_dataset\\tmp_train\\images\\Bayraktar2000Vitreous\\20220426_145001.jpg: corrupt JPEG restored and saved\n",
      "\u001b[34m\u001b[1mtrain: \u001b[0mWARNING  C:\\Users\\Mehmet\\Desktop\\new_splited_wheat_dataset\\tmp_train\\images\\Bayraktar2000Vitreous\\20220426_145003.jpg: corrupt JPEG restored and saved\n",
      "\u001b[34m\u001b[1mtrain: \u001b[0mWARNING  C:\\Users\\Mehmet\\Desktop\\new_splited_wheat_dataset\\tmp_train\\images\\Bayraktar2000Vitreous\\20220426_145005.jpg: corrupt JPEG restored and saved\n",
      "\u001b[34m\u001b[1mtrain: \u001b[0mWARNING  C:\\Users\\Mehmet\\Desktop\\new_splited_wheat_dataset\\tmp_train\\images\\Bayraktar2000Vitreous\\20220426_145029.jpg: corrupt JPEG restored and saved\n",
      "\u001b[34m\u001b[1mtrain: \u001b[0mWARNING  C:\\Users\\Mehmet\\Desktop\\new_splited_wheat_dataset\\tmp_train\\images\\Bayraktar2000Vitreous\\20220426_145032.jpg: corrupt JPEG restored and saved\n",
      "\u001b[34m\u001b[1mtrain: \u001b[0mWARNING  C:\\Users\\Mehmet\\Desktop\\new_splited_wheat_dataset\\tmp_train\\images\\Bayraktar2000Vitreous\\20220426_145034.jpg: corrupt JPEG restored and saved\n",
      "\u001b[34m\u001b[1mtrain: \u001b[0mWARNING  C:\\Users\\Mehmet\\Desktop\\new_splited_wheat_dataset\\tmp_train\\images\\Bayraktar2000Vitreous\\20220426_145037.jpg: corrupt JPEG restored and saved\n",
      "\u001b[34m\u001b[1mtrain: \u001b[0mWARNING  C:\\Users\\Mehmet\\Desktop\\new_splited_wheat_dataset\\tmp_train\\images\\Bayraktar2000Vitreous\\20220426_145055.jpg: corrupt JPEG restored and saved\n",
      "\u001b[34m\u001b[1mtrain: \u001b[0mWARNING  C:\\Users\\Mehmet\\Desktop\\new_splited_wheat_dataset\\tmp_train\\images\\Bayraktar2000Vitreous\\20220426_145058.jpg: corrupt JPEG restored and saved\n",
      "\u001b[34m\u001b[1mtrain: \u001b[0mWARNING  C:\\Users\\Mehmet\\Desktop\\new_splited_wheat_dataset\\tmp_train\\images\\Bayraktar2000Vitreous\\20220426_145115.jpg: corrupt JPEG restored and saved\n",
      "\u001b[34m\u001b[1mtrain: \u001b[0mWARNING  C:\\Users\\Mehmet\\Desktop\\new_splited_wheat_dataset\\tmp_train\\images\\Bayraktar2000Vitreous\\20220426_145122.jpg: corrupt JPEG restored and saved\n",
      "\u001b[34m\u001b[1mtrain: \u001b[0mWARNING  C:\\Users\\Mehmet\\Desktop\\new_splited_wheat_dataset\\tmp_train\\images\\Bayraktar2000Vitreous\\20220426_145127.jpg: corrupt JPEG restored and saved\n",
      "\u001b[34m\u001b[1mtrain: \u001b[0mWARNING  C:\\Users\\Mehmet\\Desktop\\new_splited_wheat_dataset\\tmp_train\\images\\Bayraktar2000Vitreous\\20220426_145129.jpg: corrupt JPEG restored and saved\n",
      "\u001b[34m\u001b[1mtrain: \u001b[0mWARNING  C:\\Users\\Mehmet\\Desktop\\new_splited_wheat_dataset\\tmp_train\\images\\Bayraktar2000Vitreous\\20220426_145140.jpg: corrupt JPEG restored and saved\n",
      "\u001b[34m\u001b[1mtrain: \u001b[0mWARNING  C:\\Users\\Mehmet\\Desktop\\new_splited_wheat_dataset\\tmp_train\\images\\Bayraktar2000Vitreous\\20220426_145151.jpg: corrupt JPEG restored and saved\n",
      "\u001b[34m\u001b[1mtrain: \u001b[0mWARNING  C:\\Users\\Mehmet\\Desktop\\new_splited_wheat_dataset\\tmp_train\\images\\Bayraktar2000Vitreous\\20220426_145157.jpg: corrupt JPEG restored and saved\n",
      "\u001b[34m\u001b[1mtrain: \u001b[0mWARNING  C:\\Users\\Mehmet\\Desktop\\new_splited_wheat_dataset\\tmp_train\\images\\Bayraktar2000Vitreous\\20220426_145200.jpg: corrupt JPEG restored and saved\n",
      "\u001b[34m\u001b[1mtrain: \u001b[0mWARNING  C:\\Users\\Mehmet\\Desktop\\new_splited_wheat_dataset\\tmp_train\\images\\Bayraktar2000Vitreous\\20220426_145203.jpg: corrupt JPEG restored and saved\n",
      "\u001b[34m\u001b[1mtrain: \u001b[0mWARNING  C:\\Users\\Mehmet\\Desktop\\new_splited_wheat_dataset\\tmp_train\\images\\Bayraktar2000Vitreous\\20220426_145209.jpg: corrupt JPEG restored and saved\n",
      "\u001b[34m\u001b[1mtrain: \u001b[0mWARNING  C:\\Users\\Mehmet\\Desktop\\new_splited_wheat_dataset\\tmp_train\\images\\Bayraktar2000Vitreous\\20220426_145234.jpg: corrupt JPEG restored and saved\n",
      "\u001b[34m\u001b[1mtrain: \u001b[0mWARNING  C:\\Users\\Mehmet\\Desktop\\new_splited_wheat_dataset\\tmp_train\\images\\Bayraktar2000Vitreous\\20220426_145239.jpg: corrupt JPEG restored and saved\n",
      "\u001b[34m\u001b[1mtrain: \u001b[0mWARNING  C:\\Users\\Mehmet\\Desktop\\new_splited_wheat_dataset\\tmp_train\\images\\Bayraktar2000Vitreous\\20220426_145244.jpg: corrupt JPEG restored and saved\n",
      "\u001b[34m\u001b[1mtrain: \u001b[0mWARNING  C:\\Users\\Mehmet\\Desktop\\new_splited_wheat_dataset\\tmp_train\\images\\Bayraktar2000Vitreous\\20220426_145246.jpg: corrupt JPEG restored and saved\n",
      "\u001b[34m\u001b[1mtrain: \u001b[0mWARNING  C:\\Users\\Mehmet\\Desktop\\new_splited_wheat_dataset\\tmp_train\\images\\Bayraktar2000Vitreous\\20220426_145249.jpg: corrupt JPEG restored and saved\n",
      "\u001b[34m\u001b[1mtrain: \u001b[0mWARNING  C:\\Users\\Mehmet\\Desktop\\new_splited_wheat_dataset\\tmp_train\\images\\Bayraktar2000Vitreous\\20220426_145256.jpg: corrupt JPEG restored and saved\n",
      "\u001b[34m\u001b[1mtrain: \u001b[0mWARNING  C:\\Users\\Mehmet\\Desktop\\new_splited_wheat_dataset\\tmp_train\\images\\Bayraktar2000Vitreous\\20220426_145259.jpg: corrupt JPEG restored and saved\n",
      "\u001b[34m\u001b[1mtrain: \u001b[0mWARNING  C:\\Users\\Mehmet\\Desktop\\new_splited_wheat_dataset\\tmp_train\\images\\Bayraktar2000Vitreous\\20220426_145301.jpg: corrupt JPEG restored and saved\n",
      "\u001b[34m\u001b[1mtrain: \u001b[0mWARNING  C:\\Users\\Mehmet\\Desktop\\new_splited_wheat_dataset\\tmp_train\\images\\Bayraktar2000Vitreous\\20220426_145304.jpg: corrupt JPEG restored and saved\n",
      "\u001b[34m\u001b[1mtrain: \u001b[0mWARNING  C:\\Users\\Mehmet\\Desktop\\new_splited_wheat_dataset\\tmp_train\\images\\Bayraktar2000Vitreous\\20220426_145309.jpg: corrupt JPEG restored and saved\n",
      "\u001b[34m\u001b[1mtrain: \u001b[0mWARNING  C:\\Users\\Mehmet\\Desktop\\new_splited_wheat_dataset\\tmp_train\\images\\Bayraktar2000Vitreous\\20220426_145312.jpg: corrupt JPEG restored and saved\n",
      "\u001b[34m\u001b[1mtrain: \u001b[0mWARNING  C:\\Users\\Mehmet\\Desktop\\new_splited_wheat_dataset\\tmp_train\\images\\Bayraktar2000Vitreous\\20220426_145317.jpg: corrupt JPEG restored and saved\n",
      "\u001b[34m\u001b[1mtrain: \u001b[0mWARNING  C:\\Users\\Mehmet\\Desktop\\new_splited_wheat_dataset\\tmp_train\\images\\Bayraktar2000Vitreous\\20220426_145321.jpg: corrupt JPEG restored and saved\n",
      "\u001b[34m\u001b[1mtrain: \u001b[0mWARNING  C:\\Users\\Mehmet\\Desktop\\new_splited_wheat_dataset\\tmp_train\\images\\Bayraktar2000Vitreous\\20220426_145324.jpg: corrupt JPEG restored and saved\n",
      "\u001b[34m\u001b[1mtrain: \u001b[0mWARNING  C:\\Users\\Mehmet\\Desktop\\new_splited_wheat_dataset\\tmp_train\\images\\Bayraktar2000Vitreous\\20220426_145348.jpg: corrupt JPEG restored and saved\n",
      "\u001b[34m\u001b[1mtrain: \u001b[0mWARNING  C:\\Users\\Mehmet\\Desktop\\new_splited_wheat_dataset\\tmp_train\\images\\Bayraktar2000Vitreous\\20220426_145404.jpg: corrupt JPEG restored and saved\n",
      "\u001b[34m\u001b[1mtrain: \u001b[0mWARNING  C:\\Users\\Mehmet\\Desktop\\new_splited_wheat_dataset\\tmp_train\\images\\Bezostaja1Vitreous\\20220425_152222.jpg: corrupt JPEG restored and saved\n",
      "\u001b[34m\u001b[1mtrain: \u001b[0mWARNING  C:\\Users\\Mehmet\\Desktop\\new_splited_wheat_dataset\\tmp_train\\images\\Bezostaja1Vitreous\\20220425_152232.jpg: corrupt JPEG restored and saved\n",
      "\u001b[34m\u001b[1mtrain: \u001b[0mWARNING  C:\\Users\\Mehmet\\Desktop\\new_splited_wheat_dataset\\tmp_train\\images\\Bezostaja1Vitreous\\20220425_152239.jpg: corrupt JPEG restored and saved\n",
      "\u001b[34m\u001b[1mtrain: \u001b[0mWARNING  C:\\Users\\Mehmet\\Desktop\\new_splited_wheat_dataset\\tmp_train\\images\\Bezostaja1Vitreous\\20220425_152244.jpg: corrupt JPEG restored and saved\n",
      "\u001b[34m\u001b[1mtrain: \u001b[0mWARNING  C:\\Users\\Mehmet\\Desktop\\new_splited_wheat_dataset\\tmp_train\\images\\Bezostaja1Vitreous\\20220425_152247.jpg: corrupt JPEG restored and saved\n",
      "\u001b[34m\u001b[1mtrain: \u001b[0mWARNING  C:\\Users\\Mehmet\\Desktop\\new_splited_wheat_dataset\\tmp_train\\images\\Bezostaja1Vitreous\\20220425_152301.jpg: corrupt JPEG restored and saved\n",
      "\u001b[34m\u001b[1mtrain: \u001b[0mWARNING  C:\\Users\\Mehmet\\Desktop\\new_splited_wheat_dataset\\tmp_train\\images\\Bezostaja1Vitreous\\20220425_152305.jpg: corrupt JPEG restored and saved\n",
      "\u001b[34m\u001b[1mtrain: \u001b[0mWARNING  C:\\Users\\Mehmet\\Desktop\\new_splited_wheat_dataset\\tmp_train\\images\\Bezostaja1Vitreous\\20220425_152310.jpg: corrupt JPEG restored and saved\n",
      "\u001b[34m\u001b[1mtrain: \u001b[0mWARNING  C:\\Users\\Mehmet\\Desktop\\new_splited_wheat_dataset\\tmp_train\\images\\Bezostaja1Vitreous\\20220425_152313.jpg: corrupt JPEG restored and saved\n",
      "\u001b[34m\u001b[1mtrain: \u001b[0mWARNING  C:\\Users\\Mehmet\\Desktop\\new_splited_wheat_dataset\\tmp_train\\images\\Bezostaja1Vitreous\\20220425_152330.jpg: corrupt JPEG restored and saved\n",
      "\u001b[34m\u001b[1mtrain: \u001b[0mWARNING  C:\\Users\\Mehmet\\Desktop\\new_splited_wheat_dataset\\tmp_train\\images\\Bezostaja1Vitreous\\20220425_152334.jpg: corrupt JPEG restored and saved\n",
      "\u001b[34m\u001b[1mtrain: \u001b[0mWARNING  C:\\Users\\Mehmet\\Desktop\\new_splited_wheat_dataset\\tmp_train\\images\\Bezostaja1Vitreous\\20220425_152343.jpg: corrupt JPEG restored and saved\n",
      "\u001b[34m\u001b[1mtrain: \u001b[0mWARNING  C:\\Users\\Mehmet\\Desktop\\new_splited_wheat_dataset\\tmp_train\\images\\Bezostaja1Vitreous\\20220425_152346.jpg: corrupt JPEG restored and saved\n",
      "\u001b[34m\u001b[1mtrain: \u001b[0mWARNING  C:\\Users\\Mehmet\\Desktop\\new_splited_wheat_dataset\\tmp_train\\images\\Bezostaja1Vitreous\\20220425_152358.jpg: corrupt JPEG restored and saved\n",
      "\u001b[34m\u001b[1mtrain: \u001b[0mWARNING  C:\\Users\\Mehmet\\Desktop\\new_splited_wheat_dataset\\tmp_train\\images\\Bezostaja1Vitreous\\20220425_152404.jpg: corrupt JPEG restored and saved\n",
      "\u001b[34m\u001b[1mtrain: \u001b[0mWARNING  C:\\Users\\Mehmet\\Desktop\\new_splited_wheat_dataset\\tmp_train\\images\\Bezostaja1Vitreous\\20220425_152409.jpg: corrupt JPEG restored and saved\n",
      "\u001b[34m\u001b[1mtrain: \u001b[0mWARNING  C:\\Users\\Mehmet\\Desktop\\new_splited_wheat_dataset\\tmp_train\\images\\Bezostaja1Vitreous\\20220425_152414.jpg: corrupt JPEG restored and saved\n",
      "\u001b[34m\u001b[1mtrain: \u001b[0mWARNING  C:\\Users\\Mehmet\\Desktop\\new_splited_wheat_dataset\\tmp_train\\images\\Bezostaja1Vitreous\\20220425_152417.jpg: corrupt JPEG restored and saved\n",
      "\u001b[34m\u001b[1mtrain: \u001b[0mWARNING  C:\\Users\\Mehmet\\Desktop\\new_splited_wheat_dataset\\tmp_train\\images\\Bezostaja1Vitreous\\20220425_152420.jpg: corrupt JPEG restored and saved\n",
      "\u001b[34m\u001b[1mtrain: \u001b[0mWARNING  C:\\Users\\Mehmet\\Desktop\\new_splited_wheat_dataset\\tmp_train\\images\\Bezostaja1Vitreous\\20220425_152423.jpg: corrupt JPEG restored and saved\n",
      "\u001b[34m\u001b[1mtrain: \u001b[0mWARNING  C:\\Users\\Mehmet\\Desktop\\new_splited_wheat_dataset\\tmp_train\\images\\Bezostaja1Vitreous\\20220425_152426.jpg: corrupt JPEG restored and saved\n",
      "\u001b[34m\u001b[1mtrain: \u001b[0mWARNING  C:\\Users\\Mehmet\\Desktop\\new_splited_wheat_dataset\\tmp_train\\images\\Bezostaja1Vitreous\\20220425_152438.jpg: corrupt JPEG restored and saved\n",
      "\u001b[34m\u001b[1mtrain: \u001b[0mWARNING  C:\\Users\\Mehmet\\Desktop\\new_splited_wheat_dataset\\tmp_train\\images\\Bezostaja1Vitreous\\20220425_152446.jpg: corrupt JPEG restored and saved\n",
      "\u001b[34m\u001b[1mtrain: \u001b[0mWARNING  C:\\Users\\Mehmet\\Desktop\\new_splited_wheat_dataset\\tmp_train\\images\\Bezostaja1Vitreous\\20220425_152449.jpg: corrupt JPEG restored and saved\n",
      "\u001b[34m\u001b[1mtrain: \u001b[0mWARNING  C:\\Users\\Mehmet\\Desktop\\new_splited_wheat_dataset\\tmp_train\\images\\Bezostaja1Vitreous\\20220425_152502.jpg: corrupt JPEG restored and saved\n",
      "\u001b[34m\u001b[1mtrain: \u001b[0mWARNING  C:\\Users\\Mehmet\\Desktop\\new_splited_wheat_dataset\\tmp_train\\images\\Bezostaja1Vitreous\\20220425_152509.jpg: corrupt JPEG restored and saved\n",
      "\u001b[34m\u001b[1mtrain: \u001b[0mWARNING  C:\\Users\\Mehmet\\Desktop\\new_splited_wheat_dataset\\tmp_train\\images\\Bezostaja1Vitreous\\20220425_152531.jpg: corrupt JPEG restored and saved\n",
      "\u001b[34m\u001b[1mtrain: \u001b[0mWARNING  C:\\Users\\Mehmet\\Desktop\\new_splited_wheat_dataset\\tmp_train\\images\\Bezostaja1Vitreous\\20220425_152534.jpg: corrupt JPEG restored and saved\n",
      "\u001b[34m\u001b[1mtrain: \u001b[0mWARNING  C:\\Users\\Mehmet\\Desktop\\new_splited_wheat_dataset\\tmp_train\\images\\Bezostaja1Vitreous\\20220425_152538.jpg: corrupt JPEG restored and saved\n",
      "\u001b[34m\u001b[1mtrain: \u001b[0mWARNING  C:\\Users\\Mehmet\\Desktop\\new_splited_wheat_dataset\\tmp_train\\images\\Bezostaja1Vitreous\\20220425_152541.jpg: corrupt JPEG restored and saved\n",
      "\u001b[34m\u001b[1mtrain: \u001b[0mWARNING  C:\\Users\\Mehmet\\Desktop\\new_splited_wheat_dataset\\tmp_train\\images\\Bezostaja1Vitreous\\20220425_152545.jpg: corrupt JPEG restored and saved\n",
      "\u001b[34m\u001b[1mtrain: \u001b[0mWARNING  C:\\Users\\Mehmet\\Desktop\\new_splited_wheat_dataset\\tmp_train\\images\\Bezostaja1Vitreous\\20220425_152548.jpg: corrupt JPEG restored and saved\n",
      "\u001b[34m\u001b[1mtrain: \u001b[0mWARNING  C:\\Users\\Mehmet\\Desktop\\new_splited_wheat_dataset\\tmp_train\\images\\Bezostaja1Vitreous\\20220425_152551.jpg: corrupt JPEG restored and saved\n",
      "\u001b[34m\u001b[1mtrain: \u001b[0mWARNING  C:\\Users\\Mehmet\\Desktop\\new_splited_wheat_dataset\\tmp_train\\images\\Bezostaja1Vitreous\\20220425_152553.jpg: corrupt JPEG restored and saved\n",
      "\u001b[34m\u001b[1mtrain: \u001b[0mWARNING  C:\\Users\\Mehmet\\Desktop\\new_splited_wheat_dataset\\tmp_train\\images\\Bezostaja1Vitreous\\20220425_152619.jpg: corrupt JPEG restored and saved\n",
      "\u001b[34m\u001b[1mtrain: \u001b[0mWARNING  C:\\Users\\Mehmet\\Desktop\\new_splited_wheat_dataset\\tmp_train\\images\\Bezostaja1Vitreous\\20220425_152623.jpg: corrupt JPEG restored and saved\n",
      "\u001b[34m\u001b[1mtrain: \u001b[0mWARNING  C:\\Users\\Mehmet\\Desktop\\new_splited_wheat_dataset\\tmp_train\\images\\Bezostaja1Vitreous\\20220425_152626.jpg: corrupt JPEG restored and saved\n",
      "\u001b[34m\u001b[1mtrain: \u001b[0mWARNING  C:\\Users\\Mehmet\\Desktop\\new_splited_wheat_dataset\\tmp_train\\images\\Bezostaja1Vitreous\\20220425_152632.jpg: corrupt JPEG restored and saved\n",
      "\u001b[34m\u001b[1mtrain: \u001b[0mWARNING  C:\\Users\\Mehmet\\Desktop\\new_splited_wheat_dataset\\tmp_train\\images\\Bezostaja1Vitreous\\20220425_152638.jpg: corrupt JPEG restored and saved\n",
      "\u001b[34m\u001b[1mtrain: \u001b[0mWARNING  C:\\Users\\Mehmet\\Desktop\\new_splited_wheat_dataset\\tmp_train\\images\\Bezostaja1Vitreous\\20220425_152641.jpg: corrupt JPEG restored and saved\n",
      "\u001b[34m\u001b[1mtrain: \u001b[0mWARNING  C:\\Users\\Mehmet\\Desktop\\new_splited_wheat_dataset\\tmp_train\\images\\Bezostaja1Vitreous\\20220425_154529.jpg: corrupt JPEG restored and saved\n",
      "\u001b[34m\u001b[1mtrain: \u001b[0mWARNING  C:\\Users\\Mehmet\\Desktop\\new_splited_wheat_dataset\\tmp_train\\images\\Bezostaja1Vitreous\\20220425_154532.jpg: corrupt JPEG restored and saved\n",
      "\u001b[34m\u001b[1mtrain: \u001b[0mWARNING  C:\\Users\\Mehmet\\Desktop\\new_splited_wheat_dataset\\tmp_train\\images\\Bezostaja1Vitreous\\20220425_154534.jpg: corrupt JPEG restored and saved\n",
      "\u001b[34m\u001b[1mtrain: \u001b[0mWARNING  C:\\Users\\Mehmet\\Desktop\\new_splited_wheat_dataset\\tmp_train\\images\\Bezostaja1Vitreous\\20220425_154536.jpg: corrupt JPEG restored and saved\n",
      "\u001b[34m\u001b[1mtrain: \u001b[0mWARNING  C:\\Users\\Mehmet\\Desktop\\new_splited_wheat_dataset\\tmp_train\\images\\Bezostaja1Vitreous\\20220425_154540.jpg: corrupt JPEG restored and saved\n",
      "\u001b[34m\u001b[1mtrain: \u001b[0mWARNING  C:\\Users\\Mehmet\\Desktop\\new_splited_wheat_dataset\\tmp_train\\images\\Bezostaja1Vitreous\\20220425_154542.jpg: corrupt JPEG restored and saved\n",
      "\u001b[34m\u001b[1mtrain: \u001b[0mWARNING  C:\\Users\\Mehmet\\Desktop\\new_splited_wheat_dataset\\tmp_train\\images\\Bezostaja1Vitreous\\20220425_154544.jpg: corrupt JPEG restored and saved\n",
      "\u001b[34m\u001b[1mtrain: \u001b[0mWARNING  C:\\Users\\Mehmet\\Desktop\\new_splited_wheat_dataset\\tmp_train\\images\\Bezostaja1Vitreous\\20220425_154546.jpg: corrupt JPEG restored and saved\n",
      "\u001b[34m\u001b[1mtrain: \u001b[0mWARNING  C:\\Users\\Mehmet\\Desktop\\new_splited_wheat_dataset\\tmp_train\\images\\Bezostaja1Vitreous\\20220425_154548.jpg: corrupt JPEG restored and saved\n",
      "\u001b[34m\u001b[1mtrain: \u001b[0mWARNING  C:\\Users\\Mehmet\\Desktop\\new_splited_wheat_dataset\\tmp_train\\images\\Bezostaja1Vitreous\\20220425_154552.jpg: corrupt JPEG restored and saved\n",
      "\u001b[34m\u001b[1mtrain: \u001b[0mWARNING  C:\\Users\\Mehmet\\Desktop\\new_splited_wheat_dataset\\tmp_train\\images\\Bezostaja1Vitreous\\20220425_154554.jpg: corrupt JPEG restored and saved\n",
      "\u001b[34m\u001b[1mtrain: \u001b[0mWARNING  C:\\Users\\Mehmet\\Desktop\\new_splited_wheat_dataset\\tmp_train\\images\\Bezostaja1Vitreous\\20220425_154558.jpg: corrupt JPEG restored and saved\n",
      "\u001b[34m\u001b[1mtrain: \u001b[0mWARNING  C:\\Users\\Mehmet\\Desktop\\new_splited_wheat_dataset\\tmp_train\\images\\Bezostaja1Vitreous\\20220425_154603.jpg: corrupt JPEG restored and saved\n",
      "\u001b[34m\u001b[1mtrain: \u001b[0mWARNING  C:\\Users\\Mehmet\\Desktop\\new_splited_wheat_dataset\\tmp_train\\images\\Bezostaja1Vitreous\\20220425_154604.jpg: corrupt JPEG restored and saved\n",
      "\u001b[34m\u001b[1mtrain: \u001b[0mWARNING  C:\\Users\\Mehmet\\Desktop\\new_splited_wheat_dataset\\tmp_train\\images\\Bezostaja1Vitreous\\20220425_154622.jpg: corrupt JPEG restored and saved\n",
      "\u001b[34m\u001b[1mtrain: \u001b[0mWARNING  C:\\Users\\Mehmet\\Desktop\\new_splited_wheat_dataset\\tmp_train\\images\\Bezostaja1Vitreous\\20220425_154630.jpg: corrupt JPEG restored and saved\n",
      "\u001b[34m\u001b[1mtrain: \u001b[0mWARNING  C:\\Users\\Mehmet\\Desktop\\new_splited_wheat_dataset\\tmp_train\\images\\Bezostaja1Vitreous\\20220425_154632.jpg: corrupt JPEG restored and saved\n",
      "\u001b[34m\u001b[1mtrain: \u001b[0mWARNING  C:\\Users\\Mehmet\\Desktop\\new_splited_wheat_dataset\\tmp_train\\images\\Bezostaja1Vitreous\\20220425_154635.jpg: corrupt JPEG restored and saved\n",
      "\u001b[34m\u001b[1mtrain: \u001b[0mWARNING  C:\\Users\\Mehmet\\Desktop\\new_splited_wheat_dataset\\tmp_train\\images\\Bezostaja1Vitreous\\20220425_154637.jpg: corrupt JPEG restored and saved\n",
      "\u001b[34m\u001b[1mtrain: \u001b[0mWARNING  C:\\Users\\Mehmet\\Desktop\\new_splited_wheat_dataset\\tmp_train\\images\\Bezostaja1Vitreous\\20220425_154642.jpg: corrupt JPEG restored and saved\n",
      "\u001b[34m\u001b[1mtrain: \u001b[0mWARNING  C:\\Users\\Mehmet\\Desktop\\new_splited_wheat_dataset\\tmp_train\\images\\Bezostaja1Vitreous\\20220425_154647.jpg: corrupt JPEG restored and saved\n",
      "\u001b[34m\u001b[1mtrain: \u001b[0mWARNING  C:\\Users\\Mehmet\\Desktop\\new_splited_wheat_dataset\\tmp_train\\images\\Bezostaja1Vitreous\\20220425_154649.jpg: corrupt JPEG restored and saved\n",
      "\u001b[34m\u001b[1mtrain: \u001b[0mWARNING  C:\\Users\\Mehmet\\Desktop\\new_splited_wheat_dataset\\tmp_train\\images\\Bezostaja1Vitreous\\20220425_154656.jpg: corrupt JPEG restored and saved\n",
      "\u001b[34m\u001b[1mtrain: \u001b[0mWARNING  C:\\Users\\Mehmet\\Desktop\\new_splited_wheat_dataset\\tmp_train\\images\\Bezostaja1Vitreous\\20220425_154705.jpg: corrupt JPEG restored and saved\n",
      "\u001b[34m\u001b[1mtrain: \u001b[0mWARNING  C:\\Users\\Mehmet\\Desktop\\new_splited_wheat_dataset\\tmp_train\\images\\Bezostaja1Vitreous\\20220425_154707.jpg: corrupt JPEG restored and saved\n",
      "\u001b[34m\u001b[1mtrain: \u001b[0mWARNING  C:\\Users\\Mehmet\\Desktop\\new_splited_wheat_dataset\\tmp_train\\images\\Bezostaja1Vitreous\\20220425_154709.jpg: corrupt JPEG restored and saved\n",
      "\u001b[34m\u001b[1mtrain: \u001b[0mWARNING  C:\\Users\\Mehmet\\Desktop\\new_splited_wheat_dataset\\tmp_train\\images\\Bezostaja1Vitreous\\20220425_154711.jpg: corrupt JPEG restored and saved\n",
      "\u001b[34m\u001b[1mtrain: \u001b[0mWARNING  C:\\Users\\Mehmet\\Desktop\\new_splited_wheat_dataset\\tmp_train\\images\\Bezostaja1Vitreous\\20220425_154713.jpg: corrupt JPEG restored and saved\n",
      "\u001b[34m\u001b[1mtrain: \u001b[0mWARNING  C:\\Users\\Mehmet\\Desktop\\new_splited_wheat_dataset\\tmp_train\\images\\Bezostaja1Vitreous\\20220425_154716.jpg: corrupt JPEG restored and saved\n",
      "\u001b[34m\u001b[1mtrain: \u001b[0mWARNING  C:\\Users\\Mehmet\\Desktop\\new_splited_wheat_dataset\\tmp_train\\images\\Bezostaja1Vitreous\\20220425_154718.jpg: corrupt JPEG restored and saved\n",
      "\u001b[34m\u001b[1mtrain: \u001b[0mWARNING  C:\\Users\\Mehmet\\Desktop\\new_splited_wheat_dataset\\tmp_train\\images\\Bezostaja1Vitreous\\20220425_154720.jpg: corrupt JPEG restored and saved\n",
      "\u001b[34m\u001b[1mtrain: \u001b[0mWARNING  C:\\Users\\Mehmet\\Desktop\\new_splited_wheat_dataset\\tmp_train\\images\\Bezostaja1Vitreous\\20220425_154724.jpg: corrupt JPEG restored and saved\n",
      "\u001b[34m\u001b[1mtrain: \u001b[0mWARNING  C:\\Users\\Mehmet\\Desktop\\new_splited_wheat_dataset\\tmp_train\\images\\Bezostaja1Vitreous\\20220425_154728.jpg: corrupt JPEG restored and saved\n",
      "\u001b[34m\u001b[1mtrain: \u001b[0mWARNING  C:\\Users\\Mehmet\\Desktop\\new_splited_wheat_dataset\\tmp_train\\images\\Bezostaja1Vitreous\\20220425_154730.jpg: corrupt JPEG restored and saved\n",
      "\u001b[34m\u001b[1mtrain: \u001b[0mWARNING  C:\\Users\\Mehmet\\Desktop\\new_splited_wheat_dataset\\tmp_train\\images\\Bezostaja1Vitreous\\Bezostaja V.jpg: corrupt JPEG restored and saved\n",
      "\u001b[34m\u001b[1mtrain: \u001b[0mWARNING  C:\\Users\\Mehmet\\Desktop\\new_splited_wheat_dataset\\tmp_train\\images\\Delabrad2Vitreous\\20220427_122113.jpg: corrupt JPEG restored and saved\n",
      "\u001b[34m\u001b[1mtrain: \u001b[0mWARNING  C:\\Users\\Mehmet\\Desktop\\new_splited_wheat_dataset\\tmp_train\\images\\Delabrad2Vitreous\\20220427_122125.jpg: corrupt JPEG restored and saved\n",
      "\u001b[34m\u001b[1mtrain: \u001b[0mWARNING  C:\\Users\\Mehmet\\Desktop\\new_splited_wheat_dataset\\tmp_train\\images\\Delabrad2Vitreous\\20220427_122127.jpg: corrupt JPEG restored and saved\n",
      "\u001b[34m\u001b[1mtrain: \u001b[0mWARNING  C:\\Users\\Mehmet\\Desktop\\new_splited_wheat_dataset\\tmp_train\\images\\Delabrad2Vitreous\\20220427_122201.jpg: corrupt JPEG restored and saved\n",
      "\u001b[34m\u001b[1mtrain: \u001b[0mWARNING  C:\\Users\\Mehmet\\Desktop\\new_splited_wheat_dataset\\tmp_train\\images\\Delabrad2Vitreous\\20220427_122204.jpg: corrupt JPEG restored and saved\n",
      "\u001b[34m\u001b[1mtrain: \u001b[0mWARNING  C:\\Users\\Mehmet\\Desktop\\new_splited_wheat_dataset\\tmp_train\\images\\Delabrad2Vitreous\\20220427_122209.jpg: corrupt JPEG restored and saved\n",
      "\u001b[34m\u001b[1mtrain: \u001b[0mWARNING  C:\\Users\\Mehmet\\Desktop\\new_splited_wheat_dataset\\tmp_train\\images\\Delabrad2Vitreous\\20220427_122229.jpg: corrupt JPEG restored and saved\n",
      "\u001b[34m\u001b[1mtrain: \u001b[0mWARNING  C:\\Users\\Mehmet\\Desktop\\new_splited_wheat_dataset\\tmp_train\\images\\Delabrad2Vitreous\\20220427_122232.jpg: corrupt JPEG restored and saved\n",
      "\u001b[34m\u001b[1mtrain: \u001b[0mWARNING  C:\\Users\\Mehmet\\Desktop\\new_splited_wheat_dataset\\tmp_train\\images\\Delabrad2Vitreous\\20220427_122242.jpg: corrupt JPEG restored and saved\n",
      "\u001b[34m\u001b[1mtrain: \u001b[0mWARNING  C:\\Users\\Mehmet\\Desktop\\new_splited_wheat_dataset\\tmp_train\\images\\Delabrad2Vitreous\\20220427_122245.jpg: corrupt JPEG restored and saved\n",
      "\u001b[34m\u001b[1mtrain: \u001b[0mWARNING  C:\\Users\\Mehmet\\Desktop\\new_splited_wheat_dataset\\tmp_train\\images\\Delabrad2Vitreous\\20220427_122315.jpg: corrupt JPEG restored and saved\n",
      "\u001b[34m\u001b[1mtrain: \u001b[0mWARNING  C:\\Users\\Mehmet\\Desktop\\new_splited_wheat_dataset\\tmp_train\\images\\Delabrad2Vitreous\\20220427_122317.jpg: corrupt JPEG restored and saved\n",
      "\u001b[34m\u001b[1mtrain: \u001b[0mWARNING  C:\\Users\\Mehmet\\Desktop\\new_splited_wheat_dataset\\tmp_train\\images\\Delabrad2Vitreous\\20220427_122323.jpg: corrupt JPEG restored and saved\n",
      "\u001b[34m\u001b[1mtrain: \u001b[0mWARNING  C:\\Users\\Mehmet\\Desktop\\new_splited_wheat_dataset\\tmp_train\\images\\Delabrad2Vitreous\\20220427_122326.jpg: corrupt JPEG restored and saved\n",
      "\u001b[34m\u001b[1mtrain: \u001b[0mWARNING  C:\\Users\\Mehmet\\Desktop\\new_splited_wheat_dataset\\tmp_train\\images\\Delabrad2Vitreous\\20220427_122330.jpg: corrupt JPEG restored and saved\n",
      "\u001b[34m\u001b[1mtrain: \u001b[0mWARNING  C:\\Users\\Mehmet\\Desktop\\new_splited_wheat_dataset\\tmp_train\\images\\Delabrad2Vitreous\\20220427_122334.jpg: corrupt JPEG restored and saved\n",
      "\u001b[34m\u001b[1mtrain: \u001b[0mWARNING  C:\\Users\\Mehmet\\Desktop\\new_splited_wheat_dataset\\tmp_train\\images\\Delabrad2Vitreous\\20220427_122340.jpg: corrupt JPEG restored and saved\n",
      "\u001b[34m\u001b[1mtrain: \u001b[0mWARNING  C:\\Users\\Mehmet\\Desktop\\new_splited_wheat_dataset\\tmp_train\\images\\Delabrad2Vitreous\\20220427_122342.jpg: corrupt JPEG restored and saved\n",
      "\u001b[34m\u001b[1mtrain: \u001b[0mWARNING  C:\\Users\\Mehmet\\Desktop\\new_splited_wheat_dataset\\tmp_train\\images\\Delabrad2Vitreous\\20220427_122348.jpg: corrupt JPEG restored and saved\n",
      "\u001b[34m\u001b[1mtrain: \u001b[0mWARNING  C:\\Users\\Mehmet\\Desktop\\new_splited_wheat_dataset\\tmp_train\\images\\Delabrad2Vitreous\\20220427_122350.jpg: corrupt JPEG restored and saved\n",
      "\u001b[34m\u001b[1mtrain: \u001b[0mWARNING  C:\\Users\\Mehmet\\Desktop\\new_splited_wheat_dataset\\tmp_train\\images\\Delabrad2Vitreous\\20220427_122357.jpg: corrupt JPEG restored and saved\n",
      "\u001b[34m\u001b[1mtrain: \u001b[0mWARNING  C:\\Users\\Mehmet\\Desktop\\new_splited_wheat_dataset\\tmp_train\\images\\Delabrad2Vitreous\\20220427_122400.jpg: corrupt JPEG restored and saved\n",
      "\u001b[34m\u001b[1mtrain: \u001b[0mWARNING  C:\\Users\\Mehmet\\Desktop\\new_splited_wheat_dataset\\tmp_train\\images\\Delabrad2Vitreous\\20220427_122403.jpg: corrupt JPEG restored and saved\n",
      "\u001b[34m\u001b[1mtrain: \u001b[0mWARNING  C:\\Users\\Mehmet\\Desktop\\new_splited_wheat_dataset\\tmp_train\\images\\Delabrad2Vitreous\\20220427_122407.jpg: corrupt JPEG restored and saved\n",
      "\u001b[34m\u001b[1mtrain: \u001b[0mWARNING  C:\\Users\\Mehmet\\Desktop\\new_splited_wheat_dataset\\tmp_train\\images\\Delabrad2Vitreous\\20220427_122415.jpg: corrupt JPEG restored and saved\n",
      "\u001b[34m\u001b[1mtrain: \u001b[0mWARNING  C:\\Users\\Mehmet\\Desktop\\new_splited_wheat_dataset\\tmp_train\\images\\Delabrad2Vitreous\\20220427_122422.jpg: corrupt JPEG restored and saved\n",
      "\u001b[34m\u001b[1mtrain: \u001b[0mWARNING  C:\\Users\\Mehmet\\Desktop\\new_splited_wheat_dataset\\tmp_train\\images\\Delabrad2Vitreous\\20220427_122424.jpg: corrupt JPEG restored and saved\n",
      "\u001b[34m\u001b[1mtrain: \u001b[0mWARNING  C:\\Users\\Mehmet\\Desktop\\new_splited_wheat_dataset\\tmp_train\\images\\Delabrad2Vitreous\\20220427_122428.jpg: corrupt JPEG restored and saved\n",
      "\u001b[34m\u001b[1mtrain: \u001b[0mWARNING  C:\\Users\\Mehmet\\Desktop\\new_splited_wheat_dataset\\tmp_train\\images\\Delabrad2Vitreous\\20220427_122431.jpg: corrupt JPEG restored and saved\n",
      "\u001b[34m\u001b[1mtrain: \u001b[0mWARNING  C:\\Users\\Mehmet\\Desktop\\new_splited_wheat_dataset\\tmp_train\\images\\Delabrad2Vitreous\\20220427_122433.jpg: corrupt JPEG restored and saved\n",
      "\u001b[34m\u001b[1mtrain: \u001b[0mWARNING  C:\\Users\\Mehmet\\Desktop\\new_splited_wheat_dataset\\tmp_train\\images\\Delabrad2Vitreous\\20220427_122435.jpg: corrupt JPEG restored and saved\n",
      "\u001b[34m\u001b[1mtrain: \u001b[0mWARNING  C:\\Users\\Mehmet\\Desktop\\new_splited_wheat_dataset\\tmp_train\\images\\Delabrad2Vitreous\\20220427_122439.jpg: corrupt JPEG restored and saved\n",
      "\u001b[34m\u001b[1mtrain: \u001b[0mWARNING  C:\\Users\\Mehmet\\Desktop\\new_splited_wheat_dataset\\tmp_train\\images\\Delabrad2Vitreous\\20220427_122442.jpg: corrupt JPEG restored and saved\n",
      "\u001b[34m\u001b[1mtrain: \u001b[0mWARNING  C:\\Users\\Mehmet\\Desktop\\new_splited_wheat_dataset\\tmp_train\\images\\Delabrad2Vitreous\\20220427_122444.jpg: corrupt JPEG restored and saved\n",
      "\u001b[34m\u001b[1mtrain: \u001b[0mWARNING  C:\\Users\\Mehmet\\Desktop\\new_splited_wheat_dataset\\tmp_train\\images\\Delabrad2Vitreous\\20220427_122449.jpg: corrupt JPEG restored and saved\n",
      "\u001b[34m\u001b[1mtrain: \u001b[0mWARNING  C:\\Users\\Mehmet\\Desktop\\new_splited_wheat_dataset\\tmp_train\\images\\Delabrad2Vitreous\\20220427_122453.jpg: corrupt JPEG restored and saved\n",
      "\u001b[34m\u001b[1mtrain: \u001b[0mWARNING  C:\\Users\\Mehmet\\Desktop\\new_splited_wheat_dataset\\tmp_train\\images\\Delabrad2Vitreous\\20220427_122455.jpg: corrupt JPEG restored and saved\n",
      "\u001b[34m\u001b[1mtrain: \u001b[0mWARNING  C:\\Users\\Mehmet\\Desktop\\new_splited_wheat_dataset\\tmp_train\\images\\Delabrad2Vitreous\\20220427_122458.jpg: corrupt JPEG restored and saved\n",
      "\u001b[34m\u001b[1mtrain: \u001b[0mWARNING  C:\\Users\\Mehmet\\Desktop\\new_splited_wheat_dataset\\tmp_train\\images\\Delabrad2Vitreous\\20220427_122500.jpg: corrupt JPEG restored and saved\n",
      "\u001b[34m\u001b[1mtrain: \u001b[0mWARNING  C:\\Users\\Mehmet\\Desktop\\new_splited_wheat_dataset\\tmp_train\\images\\Delabrad2Vitreous\\20220427_122503.jpg: corrupt JPEG restored and saved\n",
      "\u001b[34m\u001b[1mtrain: \u001b[0mWARNING  C:\\Users\\Mehmet\\Desktop\\new_splited_wheat_dataset\\tmp_train\\images\\Delabrad2Vitreous\\20220427_122511.jpg: corrupt JPEG restored and saved\n",
      "\u001b[34m\u001b[1mtrain: \u001b[0mWARNING  C:\\Users\\Mehmet\\Desktop\\new_splited_wheat_dataset\\tmp_train\\images\\Delabrad2Vitreous\\20220427_122514.jpg: corrupt JPEG restored and saved\n",
      "\u001b[34m\u001b[1mtrain: \u001b[0mWARNING  C:\\Users\\Mehmet\\Desktop\\new_splited_wheat_dataset\\tmp_train\\images\\Delabrad2Vitreous\\20220427_122527.jpg: corrupt JPEG restored and saved\n",
      "\u001b[34m\u001b[1mtrain: \u001b[0mWARNING  C:\\Users\\Mehmet\\Desktop\\new_splited_wheat_dataset\\tmp_train\\images\\Delabrad2Vitreous\\20220427_122529.jpg: corrupt JPEG restored and saved\n",
      "\u001b[34m\u001b[1mtrain: \u001b[0mWARNING  C:\\Users\\Mehmet\\Desktop\\new_splited_wheat_dataset\\tmp_train\\images\\Delabrad2Vitreous\\20220427_122534.jpg: corrupt JPEG restored and saved\n",
      "\u001b[34m\u001b[1mtrain: \u001b[0mWARNING  C:\\Users\\Mehmet\\Desktop\\new_splited_wheat_dataset\\tmp_train\\images\\Delabrad2Vitreous\\20220427_122538.jpg: corrupt JPEG restored and saved\n",
      "\u001b[34m\u001b[1mtrain: \u001b[0mWARNING  C:\\Users\\Mehmet\\Desktop\\new_splited_wheat_dataset\\tmp_train\\images\\Delabrad2Vitreous\\20220427_122543.jpg: corrupt JPEG restored and saved\n",
      "\u001b[34m\u001b[1mtrain: \u001b[0mWARNING  C:\\Users\\Mehmet\\Desktop\\new_splited_wheat_dataset\\tmp_train\\images\\Delabrad2Vitreous\\20220427_122551.jpg: corrupt JPEG restored and saved\n",
      "\u001b[34m\u001b[1mtrain: \u001b[0mWARNING  C:\\Users\\Mehmet\\Desktop\\new_splited_wheat_dataset\\tmp_train\\images\\Delabrad2Vitreous\\20220427_122555.jpg: corrupt JPEG restored and saved\n",
      "\u001b[34m\u001b[1mtrain: \u001b[0mWARNING  C:\\Users\\Mehmet\\Desktop\\new_splited_wheat_dataset\\tmp_train\\images\\Delabrad2Vitreous\\20220427_122608.jpg: corrupt JPEG restored and saved\n",
      "\u001b[34m\u001b[1mtrain: \u001b[0mWARNING  C:\\Users\\Mehmet\\Desktop\\new_splited_wheat_dataset\\tmp_train\\images\\Delabrad2Vitreous\\20220427_122613.jpg: corrupt JPEG restored and saved\n",
      "\u001b[34m\u001b[1mtrain: \u001b[0mWARNING  C:\\Users\\Mehmet\\Desktop\\new_splited_wheat_dataset\\tmp_train\\images\\Delabrad2Vitreous\\20220427_122615.jpg: corrupt JPEG restored and saved\n",
      "\u001b[34m\u001b[1mtrain: \u001b[0mWARNING  C:\\Users\\Mehmet\\Desktop\\new_splited_wheat_dataset\\tmp_train\\images\\Delabrad2Vitreous\\20220427_122619.jpg: corrupt JPEG restored and saved\n",
      "\u001b[34m\u001b[1mtrain: \u001b[0mWARNING  C:\\Users\\Mehmet\\Desktop\\new_splited_wheat_dataset\\tmp_train\\images\\Delabrad2Vitreous\\20220427_122621.jpg: corrupt JPEG restored and saved\n",
      "\u001b[34m\u001b[1mtrain: \u001b[0mWARNING  C:\\Users\\Mehmet\\Desktop\\new_splited_wheat_dataset\\tmp_train\\images\\Delabrad2Vitreous\\20220427_122642.jpg: corrupt JPEG restored and saved\n",
      "\u001b[34m\u001b[1mtrain: \u001b[0mWARNING  C:\\Users\\Mehmet\\Desktop\\new_splited_wheat_dataset\\tmp_train\\images\\Delabrad2Vitreous\\20220427_122644.jpg: corrupt JPEG restored and saved\n",
      "\u001b[34m\u001b[1mtrain: \u001b[0mWARNING  C:\\Users\\Mehmet\\Desktop\\new_splited_wheat_dataset\\tmp_train\\images\\Delabrad2Vitreous\\20220427_122648.jpg: corrupt JPEG restored and saved\n",
      "\u001b[34m\u001b[1mtrain: \u001b[0mWARNING  C:\\Users\\Mehmet\\Desktop\\new_splited_wheat_dataset\\tmp_train\\images\\Delabrad2Vitreous\\20220427_122651.jpg: corrupt JPEG restored and saved\n",
      "\u001b[34m\u001b[1mtrain: \u001b[0mWARNING  C:\\Users\\Mehmet\\Desktop\\new_splited_wheat_dataset\\tmp_train\\images\\Delabrad2Vitreous\\20220427_122658.jpg: corrupt JPEG restored and saved\n",
      "\u001b[34m\u001b[1mtrain: \u001b[0mWARNING  C:\\Users\\Mehmet\\Desktop\\new_splited_wheat_dataset\\tmp_train\\images\\Delabrad2Vitreous\\20220427_122702.jpg: corrupt JPEG restored and saved\n",
      "\u001b[34m\u001b[1mtrain: \u001b[0mWARNING  C:\\Users\\Mehmet\\Desktop\\new_splited_wheat_dataset\\tmp_train\\images\\EkizVitreous\\20220426_163544.jpg: corrupt JPEG restored and saved\n",
      "\u001b[34m\u001b[1mtrain: \u001b[0mWARNING  C:\\Users\\Mehmet\\Desktop\\new_splited_wheat_dataset\\tmp_train\\images\\EkizVitreous\\20220426_163549.jpg: corrupt JPEG restored and saved\n",
      "\u001b[34m\u001b[1mtrain: \u001b[0mWARNING  C:\\Users\\Mehmet\\Desktop\\new_splited_wheat_dataset\\tmp_train\\images\\EkizVitreous\\20220426_163552.jpg: corrupt JPEG restored and saved\n",
      "\u001b[34m\u001b[1mtrain: \u001b[0mWARNING  C:\\Users\\Mehmet\\Desktop\\new_splited_wheat_dataset\\tmp_train\\images\\EkizVitreous\\20220426_163558.jpg: corrupt JPEG restored and saved\n",
      "\u001b[34m\u001b[1mtrain: \u001b[0mWARNING  C:\\Users\\Mehmet\\Desktop\\new_splited_wheat_dataset\\tmp_train\\images\\EkizVitreous\\20220426_163602.jpg: corrupt JPEG restored and saved\n",
      "\u001b[34m\u001b[1mtrain: \u001b[0mWARNING  C:\\Users\\Mehmet\\Desktop\\new_splited_wheat_dataset\\tmp_train\\images\\EkizVitreous\\20220426_163605.jpg: corrupt JPEG restored and saved\n",
      "\u001b[34m\u001b[1mtrain: \u001b[0mWARNING  C:\\Users\\Mehmet\\Desktop\\new_splited_wheat_dataset\\tmp_train\\images\\EkizVitreous\\20220426_163607.jpg: corrupt JPEG restored and saved\n",
      "\u001b[34m\u001b[1mtrain: \u001b[0mWARNING  C:\\Users\\Mehmet\\Desktop\\new_splited_wheat_dataset\\tmp_train\\images\\EkizVitreous\\20220426_163611.jpg: corrupt JPEG restored and saved\n",
      "\u001b[34m\u001b[1mtrain: \u001b[0mWARNING  C:\\Users\\Mehmet\\Desktop\\new_splited_wheat_dataset\\tmp_train\\images\\EkizVitreous\\20220426_163613.jpg: corrupt JPEG restored and saved\n",
      "\u001b[34m\u001b[1mtrain: \u001b[0mWARNING  C:\\Users\\Mehmet\\Desktop\\new_splited_wheat_dataset\\tmp_train\\images\\EkizVitreous\\20220426_163637.jpg: corrupt JPEG restored and saved\n",
      "\u001b[34m\u001b[1mtrain: \u001b[0mWARNING  C:\\Users\\Mehmet\\Desktop\\new_splited_wheat_dataset\\tmp_train\\images\\EkizVitreous\\20220426_163640.jpg: corrupt JPEG restored and saved\n",
      "\u001b[34m\u001b[1mtrain: \u001b[0mWARNING  C:\\Users\\Mehmet\\Desktop\\new_splited_wheat_dataset\\tmp_train\\images\\EkizVitreous\\20220426_163646.jpg: corrupt JPEG restored and saved\n",
      "\u001b[34m\u001b[1mtrain: \u001b[0mWARNING  C:\\Users\\Mehmet\\Desktop\\new_splited_wheat_dataset\\tmp_train\\images\\EkizVitreous\\20220426_163700.jpg: corrupt JPEG restored and saved\n",
      "\u001b[34m\u001b[1mtrain: \u001b[0mWARNING  C:\\Users\\Mehmet\\Desktop\\new_splited_wheat_dataset\\tmp_train\\images\\EkizVitreous\\20220426_163705.jpg: corrupt JPEG restored and saved\n",
      "\u001b[34m\u001b[1mtrain: \u001b[0mWARNING  C:\\Users\\Mehmet\\Desktop\\new_splited_wheat_dataset\\tmp_train\\images\\EkizVitreous\\20220426_163724.jpg: corrupt JPEG restored and saved\n",
      "\u001b[34m\u001b[1mtrain: \u001b[0mWARNING  C:\\Users\\Mehmet\\Desktop\\new_splited_wheat_dataset\\tmp_train\\images\\EkizVitreous\\20220426_163744.jpg: corrupt JPEG restored and saved\n",
      "\u001b[34m\u001b[1mtrain: \u001b[0mWARNING  C:\\Users\\Mehmet\\Desktop\\new_splited_wheat_dataset\\tmp_train\\images\\EkizVitreous\\20220426_163748.jpg: corrupt JPEG restored and saved\n",
      "\u001b[34m\u001b[1mtrain: \u001b[0mWARNING  C:\\Users\\Mehmet\\Desktop\\new_splited_wheat_dataset\\tmp_train\\images\\EkizVitreous\\20220426_163801.jpg: corrupt JPEG restored and saved\n",
      "\u001b[34m\u001b[1mtrain: \u001b[0mWARNING  C:\\Users\\Mehmet\\Desktop\\new_splited_wheat_dataset\\tmp_train\\images\\EkizVitreous\\20220426_163804.jpg: corrupt JPEG restored and saved\n",
      "\u001b[34m\u001b[1mtrain: \u001b[0mWARNING  C:\\Users\\Mehmet\\Desktop\\new_splited_wheat_dataset\\tmp_train\\images\\EkizVitreous\\20220426_163821.jpg: corrupt JPEG restored and saved\n",
      "\u001b[34m\u001b[1mtrain: \u001b[0mWARNING  C:\\Users\\Mehmet\\Desktop\\new_splited_wheat_dataset\\tmp_train\\images\\EkizVitreous\\20220426_163836.jpg: corrupt JPEG restored and saved\n",
      "\u001b[34m\u001b[1mtrain: \u001b[0mWARNING  C:\\Users\\Mehmet\\Desktop\\new_splited_wheat_dataset\\tmp_train\\images\\EkizVitreous\\20220426_163839.jpg: corrupt JPEG restored and saved\n",
      "\u001b[34m\u001b[1mtrain: \u001b[0mWARNING  C:\\Users\\Mehmet\\Desktop\\new_splited_wheat_dataset\\tmp_train\\images\\EkizVitreous\\20220426_163847.jpg: corrupt JPEG restored and saved\n",
      "\u001b[34m\u001b[1mtrain: \u001b[0mWARNING  C:\\Users\\Mehmet\\Desktop\\new_splited_wheat_dataset\\tmp_train\\images\\EkizVitreous\\20220426_163851.jpg: corrupt JPEG restored and saved\n",
      "\u001b[34m\u001b[1mtrain: \u001b[0mWARNING  C:\\Users\\Mehmet\\Desktop\\new_splited_wheat_dataset\\tmp_train\\images\\EkizVitreous\\20220426_163854.jpg: corrupt JPEG restored and saved\n",
      "\u001b[34m\u001b[1mtrain: \u001b[0mWARNING  C:\\Users\\Mehmet\\Desktop\\new_splited_wheat_dataset\\tmp_train\\images\\EkizVitreous\\20220426_163856.jpg: corrupt JPEG restored and saved\n",
      "\u001b[34m\u001b[1mtrain: \u001b[0mWARNING  C:\\Users\\Mehmet\\Desktop\\new_splited_wheat_dataset\\tmp_train\\images\\EkizVitreous\\20220426_163909.jpg: corrupt JPEG restored and saved\n",
      "\u001b[34m\u001b[1mtrain: \u001b[0mWARNING  C:\\Users\\Mehmet\\Desktop\\new_splited_wheat_dataset\\tmp_train\\images\\EkizVitreous\\20220426_163915.jpg: corrupt JPEG restored and saved\n",
      "\u001b[34m\u001b[1mtrain: \u001b[0mWARNING  C:\\Users\\Mehmet\\Desktop\\new_splited_wheat_dataset\\tmp_train\\images\\EkizVitreous\\20220426_163918.jpg: corrupt JPEG restored and saved\n",
      "\u001b[34m\u001b[1mtrain: \u001b[0mWARNING  C:\\Users\\Mehmet\\Desktop\\new_splited_wheat_dataset\\tmp_train\\images\\EkizVitreous\\20220426_163921.jpg: corrupt JPEG restored and saved\n",
      "\u001b[34m\u001b[1mtrain: \u001b[0mWARNING  C:\\Users\\Mehmet\\Desktop\\new_splited_wheat_dataset\\tmp_train\\images\\EkizVitreous\\20220426_163924.jpg: corrupt JPEG restored and saved\n",
      "\u001b[34m\u001b[1mtrain: \u001b[0mWARNING  C:\\Users\\Mehmet\\Desktop\\new_splited_wheat_dataset\\tmp_train\\images\\EkizVitreous\\20220426_163930.jpg: corrupt JPEG restored and saved\n",
      "\u001b[34m\u001b[1mtrain: \u001b[0mWARNING  C:\\Users\\Mehmet\\Desktop\\new_splited_wheat_dataset\\tmp_train\\images\\EkizVitreous\\20220426_163939.jpg: corrupt JPEG restored and saved\n",
      "\u001b[34m\u001b[1mtrain: \u001b[0mWARNING  C:\\Users\\Mehmet\\Desktop\\new_splited_wheat_dataset\\tmp_train\\images\\EkizVitreous\\20220426_163941.jpg: corrupt JPEG restored and saved\n",
      "\u001b[34m\u001b[1mtrain: \u001b[0mWARNING  C:\\Users\\Mehmet\\Desktop\\new_splited_wheat_dataset\\tmp_train\\images\\EkizVitreous\\20220426_163943.jpg: corrupt JPEG restored and saved\n",
      "\u001b[34m\u001b[1mtrain: \u001b[0mWARNING  C:\\Users\\Mehmet\\Desktop\\new_splited_wheat_dataset\\tmp_train\\images\\EkizVitreous\\20220426_163945.jpg: corrupt JPEG restored and saved\n",
      "\u001b[34m\u001b[1mtrain: \u001b[0mWARNING  C:\\Users\\Mehmet\\Desktop\\new_splited_wheat_dataset\\tmp_train\\images\\EkizVitreous\\20220426_163948.jpg: corrupt JPEG restored and saved\n",
      "\u001b[34m\u001b[1mtrain: \u001b[0mWARNING  C:\\Users\\Mehmet\\Desktop\\new_splited_wheat_dataset\\tmp_train\\images\\EkizVitreous\\20220426_163950.jpg: corrupt JPEG restored and saved\n",
      "\u001b[34m\u001b[1mtrain: \u001b[0mWARNING  C:\\Users\\Mehmet\\Desktop\\new_splited_wheat_dataset\\tmp_train\\images\\EkizVitreous\\20220426_163953.jpg: corrupt JPEG restored and saved\n",
      "\u001b[34m\u001b[1mtrain: \u001b[0mWARNING  C:\\Users\\Mehmet\\Desktop\\new_splited_wheat_dataset\\tmp_train\\images\\EkizVitreous\\20220426_163957.jpg: corrupt JPEG restored and saved\n",
      "\u001b[34m\u001b[1mtrain: \u001b[0mWARNING  C:\\Users\\Mehmet\\Desktop\\new_splited_wheat_dataset\\tmp_train\\images\\EkizVitreous\\20220426_164001.jpg: corrupt JPEG restored and saved\n",
      "\u001b[34m\u001b[1mtrain: \u001b[0mWARNING  C:\\Users\\Mehmet\\Desktop\\new_splited_wheat_dataset\\tmp_train\\images\\EkizVitreous\\20220426_164004.jpg: corrupt JPEG restored and saved\n",
      "\u001b[34m\u001b[1mtrain: \u001b[0mWARNING  C:\\Users\\Mehmet\\Desktop\\new_splited_wheat_dataset\\tmp_train\\images\\EkizVitreous\\20220426_164006.jpg: corrupt JPEG restored and saved\n",
      "\u001b[34m\u001b[1mtrain: \u001b[0mWARNING  C:\\Users\\Mehmet\\Desktop\\new_splited_wheat_dataset\\tmp_train\\images\\EkizVitreous\\20220426_164009.jpg: corrupt JPEG restored and saved\n",
      "\u001b[34m\u001b[1mtrain: \u001b[0mWARNING  C:\\Users\\Mehmet\\Desktop\\new_splited_wheat_dataset\\tmp_train\\images\\EkizVitreous\\20220426_164016.jpg: corrupt JPEG restored and saved\n",
      "\u001b[34m\u001b[1mtrain: \u001b[0mWARNING  C:\\Users\\Mehmet\\Desktop\\new_splited_wheat_dataset\\tmp_train\\images\\EkizVitreous\\20220426_164023.jpg: corrupt JPEG restored and saved\n",
      "\u001b[34m\u001b[1mtrain: \u001b[0mWARNING  C:\\Users\\Mehmet\\Desktop\\new_splited_wheat_dataset\\tmp_train\\images\\EkizVitreous\\20220426_164031.jpg: corrupt JPEG restored and saved\n",
      "\u001b[34m\u001b[1mtrain: \u001b[0mWARNING  C:\\Users\\Mehmet\\Desktop\\new_splited_wheat_dataset\\tmp_train\\images\\EkizVitreous\\20220426_164040.jpg: corrupt JPEG restored and saved\n",
      "\u001b[34m\u001b[1mtrain: \u001b[0mWARNING  C:\\Users\\Mehmet\\Desktop\\new_splited_wheat_dataset\\tmp_train\\images\\EkizVitreous\\20220426_164052.jpg: corrupt JPEG restored and saved\n",
      "\u001b[34m\u001b[1mtrain: \u001b[0mWARNING  C:\\Users\\Mehmet\\Desktop\\new_splited_wheat_dataset\\tmp_train\\images\\EkizVitreous\\20220426_164054.jpg: corrupt JPEG restored and saved\n",
      "\u001b[34m\u001b[1mtrain: \u001b[0mWARNING  C:\\Users\\Mehmet\\Desktop\\new_splited_wheat_dataset\\tmp_train\\images\\EkizVitreous\\20220426_164058.jpg: corrupt JPEG restored and saved\n",
      "\u001b[34m\u001b[1mtrain: \u001b[0mWARNING  C:\\Users\\Mehmet\\Desktop\\new_splited_wheat_dataset\\tmp_train\\images\\EkizVitreous\\20220426_164100.jpg: corrupt JPEG restored and saved\n",
      "\u001b[34m\u001b[1mtrain: \u001b[0mWARNING  C:\\Users\\Mehmet\\Desktop\\new_splited_wheat_dataset\\tmp_train\\images\\EkizVitreous\\20220426_164103.jpg: corrupt JPEG restored and saved\n",
      "\u001b[34m\u001b[1mtrain: \u001b[0mWARNING  C:\\Users\\Mehmet\\Desktop\\new_splited_wheat_dataset\\tmp_train\\images\\EkizVitreous\\20220426_164121.jpg: corrupt JPEG restored and saved\n",
      "\u001b[34m\u001b[1mtrain: \u001b[0mWARNING  C:\\Users\\Mehmet\\Desktop\\new_splited_wheat_dataset\\tmp_train\\images\\EkizVitreous\\20220426_164128.jpg: corrupt JPEG restored and saved\n",
      "\u001b[34m\u001b[1mtrain: \u001b[0mWARNING  C:\\Users\\Mehmet\\Desktop\\new_splited_wheat_dataset\\tmp_train\\images\\EkizVitreous\\20220426_164131.jpg: corrupt JPEG restored and saved\n",
      "\u001b[34m\u001b[1mtrain: \u001b[0mWARNING  C:\\Users\\Mehmet\\Desktop\\new_splited_wheat_dataset\\tmp_train\\images\\EkizVitreous\\20220426_164137.jpg: corrupt JPEG restored and saved\n",
      "\u001b[34m\u001b[1mtrain: \u001b[0mWARNING  C:\\Users\\Mehmet\\Desktop\\new_splited_wheat_dataset\\tmp_train\\images\\EkizVitreous\\20220426_164140.jpg: corrupt JPEG restored and saved\n",
      "\u001b[34m\u001b[1mtrain: \u001b[0mWARNING  C:\\Users\\Mehmet\\Desktop\\new_splited_wheat_dataset\\tmp_train\\images\\EkizVitreous\\20220426_164148.jpg: corrupt JPEG restored and saved\n",
      "\u001b[34m\u001b[1mtrain: \u001b[0mWARNING  C:\\Users\\Mehmet\\Desktop\\new_splited_wheat_dataset\\tmp_train\\images\\EkizVitreous\\20220426_164154.jpg: corrupt JPEG restored and saved\n",
      "\u001b[34m\u001b[1mtrain: \u001b[0mWARNING  C:\\Users\\Mehmet\\Desktop\\new_splited_wheat_dataset\\tmp_train\\images\\EkizVitreous\\20220426_164158.jpg: corrupt JPEG restored and saved\n",
      "\u001b[34m\u001b[1mtrain: \u001b[0mWARNING  C:\\Users\\Mehmet\\Desktop\\new_splited_wheat_dataset\\tmp_train\\images\\EsperiaVitreous\\20220425_170955.jpg: corrupt JPEG restored and saved\n",
      "\u001b[34m\u001b[1mtrain: \u001b[0mWARNING  C:\\Users\\Mehmet\\Desktop\\new_splited_wheat_dataset\\tmp_train\\images\\EsperiaVitreous\\20220425_170958.jpg: corrupt JPEG restored and saved\n",
      "\u001b[34m\u001b[1mtrain: \u001b[0mWARNING  C:\\Users\\Mehmet\\Desktop\\new_splited_wheat_dataset\\tmp_train\\images\\EsperiaVitreous\\20220425_171001.jpg: corrupt JPEG restored and saved\n",
      "\u001b[34m\u001b[1mtrain: \u001b[0mWARNING  C:\\Users\\Mehmet\\Desktop\\new_splited_wheat_dataset\\tmp_train\\images\\EsperiaVitreous\\20220425_171011.jpg: corrupt JPEG restored and saved\n",
      "\u001b[34m\u001b[1mtrain: \u001b[0mWARNING  C:\\Users\\Mehmet\\Desktop\\new_splited_wheat_dataset\\tmp_train\\images\\EsperiaVitreous\\20220425_171015.jpg: corrupt JPEG restored and saved\n",
      "\u001b[34m\u001b[1mtrain: \u001b[0mWARNING  C:\\Users\\Mehmet\\Desktop\\new_splited_wheat_dataset\\tmp_train\\images\\EsperiaVitreous\\20220425_171020.jpg: corrupt JPEG restored and saved\n",
      "\u001b[34m\u001b[1mtrain: \u001b[0mWARNING  C:\\Users\\Mehmet\\Desktop\\new_splited_wheat_dataset\\tmp_train\\images\\EsperiaVitreous\\20220425_171023.jpg: corrupt JPEG restored and saved\n",
      "\u001b[34m\u001b[1mtrain: \u001b[0mWARNING  C:\\Users\\Mehmet\\Desktop\\new_splited_wheat_dataset\\tmp_train\\images\\EsperiaVitreous\\20220425_171027.jpg: corrupt JPEG restored and saved\n",
      "\u001b[34m\u001b[1mtrain: \u001b[0mWARNING  C:\\Users\\Mehmet\\Desktop\\new_splited_wheat_dataset\\tmp_train\\images\\EsperiaVitreous\\20220425_171030.jpg: corrupt JPEG restored and saved\n",
      "\u001b[34m\u001b[1mtrain: \u001b[0mWARNING  C:\\Users\\Mehmet\\Desktop\\new_splited_wheat_dataset\\tmp_train\\images\\EsperiaVitreous\\20220425_171041.jpg: corrupt JPEG restored and saved\n",
      "\u001b[34m\u001b[1mtrain: \u001b[0mWARNING  C:\\Users\\Mehmet\\Desktop\\new_splited_wheat_dataset\\tmp_train\\images\\EsperiaVitreous\\20220425_171043.jpg: corrupt JPEG restored and saved\n",
      "\u001b[34m\u001b[1mtrain: \u001b[0mWARNING  C:\\Users\\Mehmet\\Desktop\\new_splited_wheat_dataset\\tmp_train\\images\\EsperiaVitreous\\20220425_171051.jpg: corrupt JPEG restored and saved\n",
      "\u001b[34m\u001b[1mtrain: \u001b[0mWARNING  C:\\Users\\Mehmet\\Desktop\\new_splited_wheat_dataset\\tmp_train\\images\\EsperiaVitreous\\20220425_171100.jpg: corrupt JPEG restored and saved\n",
      "\u001b[34m\u001b[1mtrain: \u001b[0mWARNING  C:\\Users\\Mehmet\\Desktop\\new_splited_wheat_dataset\\tmp_train\\images\\EsperiaVitreous\\20220425_171103.jpg: corrupt JPEG restored and saved\n",
      "\u001b[34m\u001b[1mtrain: \u001b[0mWARNING  C:\\Users\\Mehmet\\Desktop\\new_splited_wheat_dataset\\tmp_train\\images\\EsperiaVitreous\\20220425_171113.jpg: corrupt JPEG restored and saved\n",
      "\u001b[34m\u001b[1mtrain: \u001b[0mWARNING  C:\\Users\\Mehmet\\Desktop\\new_splited_wheat_dataset\\tmp_train\\images\\EsperiaVitreous\\20220425_171117.jpg: corrupt JPEG restored and saved\n",
      "\u001b[34m\u001b[1mtrain: \u001b[0mWARNING  C:\\Users\\Mehmet\\Desktop\\new_splited_wheat_dataset\\tmp_train\\images\\EsperiaVitreous\\20220425_171122.jpg: corrupt JPEG restored and saved\n",
      "\u001b[34m\u001b[1mtrain: \u001b[0mWARNING  C:\\Users\\Mehmet\\Desktop\\new_splited_wheat_dataset\\tmp_train\\images\\EsperiaVitreous\\20220425_171135.jpg: corrupt JPEG restored and saved\n",
      "\u001b[34m\u001b[1mtrain: \u001b[0mWARNING  C:\\Users\\Mehmet\\Desktop\\new_splited_wheat_dataset\\tmp_train\\images\\EsperiaVitreous\\20220425_171144.jpg: corrupt JPEG restored and saved\n",
      "\u001b[34m\u001b[1mtrain: \u001b[0mWARNING  C:\\Users\\Mehmet\\Desktop\\new_splited_wheat_dataset\\tmp_train\\images\\EsperiaVitreous\\20220425_171155.jpg: corrupt JPEG restored and saved\n",
      "\u001b[34m\u001b[1mtrain: \u001b[0mWARNING  C:\\Users\\Mehmet\\Desktop\\new_splited_wheat_dataset\\tmp_train\\images\\EsperiaVitreous\\20220425_171159.jpg: corrupt JPEG restored and saved\n",
      "\u001b[34m\u001b[1mtrain: \u001b[0mWARNING  C:\\Users\\Mehmet\\Desktop\\new_splited_wheat_dataset\\tmp_train\\images\\EsperiaVitreous\\20220425_171201.jpg: corrupt JPEG restored and saved\n",
      "\u001b[34m\u001b[1mtrain: \u001b[0mWARNING  C:\\Users\\Mehmet\\Desktop\\new_splited_wheat_dataset\\tmp_train\\images\\EsperiaVitreous\\20220425_171208.jpg: corrupt JPEG restored and saved\n",
      "\u001b[34m\u001b[1mtrain: \u001b[0mWARNING  C:\\Users\\Mehmet\\Desktop\\new_splited_wheat_dataset\\tmp_train\\images\\EsperiaVitreous\\20220425_171227.jpg: corrupt JPEG restored and saved\n",
      "\u001b[34m\u001b[1mtrain: \u001b[0mWARNING  C:\\Users\\Mehmet\\Desktop\\new_splited_wheat_dataset\\tmp_train\\images\\EsperiaVitreous\\20220425_171230.jpg: corrupt JPEG restored and saved\n",
      "\u001b[34m\u001b[1mtrain: \u001b[0mWARNING  C:\\Users\\Mehmet\\Desktop\\new_splited_wheat_dataset\\tmp_train\\images\\EsperiaVitreous\\20220425_171234.jpg: corrupt JPEG restored and saved\n",
      "\u001b[34m\u001b[1mtrain: \u001b[0mWARNING  C:\\Users\\Mehmet\\Desktop\\new_splited_wheat_dataset\\tmp_train\\images\\EsperiaVitreous\\20220425_171236.jpg: corrupt JPEG restored and saved\n",
      "\u001b[34m\u001b[1mtrain: \u001b[0mWARNING  C:\\Users\\Mehmet\\Desktop\\new_splited_wheat_dataset\\tmp_train\\images\\EsperiaVitreous\\20220425_171239.jpg: corrupt JPEG restored and saved\n",
      "\u001b[34m\u001b[1mtrain: \u001b[0mWARNING  C:\\Users\\Mehmet\\Desktop\\new_splited_wheat_dataset\\tmp_train\\images\\EsperiaVitreous\\20220425_171241.jpg: corrupt JPEG restored and saved\n",
      "\u001b[34m\u001b[1mtrain: \u001b[0mWARNING  C:\\Users\\Mehmet\\Desktop\\new_splited_wheat_dataset\\tmp_train\\images\\EsperiaVitreous\\20220425_171244.jpg: corrupt JPEG restored and saved\n",
      "\u001b[34m\u001b[1mtrain: \u001b[0mWARNING  C:\\Users\\Mehmet\\Desktop\\new_splited_wheat_dataset\\tmp_train\\images\\EsperiaVitreous\\20220425_171309.jpg: corrupt JPEG restored and saved\n",
      "\u001b[34m\u001b[1mtrain: \u001b[0mWARNING  C:\\Users\\Mehmet\\Desktop\\new_splited_wheat_dataset\\tmp_train\\images\\EsperiaVitreous\\20220425_171314.jpg: corrupt JPEG restored and saved\n",
      "\u001b[34m\u001b[1mtrain: \u001b[0mWARNING  C:\\Users\\Mehmet\\Desktop\\new_splited_wheat_dataset\\tmp_train\\images\\EsperiaVitreous\\20220425_171317.jpg: corrupt JPEG restored and saved\n",
      "\u001b[34m\u001b[1mtrain: \u001b[0mWARNING  C:\\Users\\Mehmet\\Desktop\\new_splited_wheat_dataset\\tmp_train\\images\\EsperiaVitreous\\20220425_171320.jpg: corrupt JPEG restored and saved\n",
      "\u001b[34m\u001b[1mtrain: \u001b[0mWARNING  C:\\Users\\Mehmet\\Desktop\\new_splited_wheat_dataset\\tmp_train\\images\\EsperiaVitreous\\20220425_171329.jpg: corrupt JPEG restored and saved\n",
      "\u001b[34m\u001b[1mtrain: \u001b[0mWARNING  C:\\Users\\Mehmet\\Desktop\\new_splited_wheat_dataset\\tmp_train\\images\\EsperiaVitreous\\20220425_171332.jpg: corrupt JPEG restored and saved\n",
      "\u001b[34m\u001b[1mtrain: \u001b[0mWARNING  C:\\Users\\Mehmet\\Desktop\\new_splited_wheat_dataset\\tmp_train\\images\\EsperiaVitreous\\20220425_171335.jpg: corrupt JPEG restored and saved\n",
      "\u001b[34m\u001b[1mtrain: \u001b[0mWARNING  C:\\Users\\Mehmet\\Desktop\\new_splited_wheat_dataset\\tmp_train\\images\\EsperiaVitreous\\20220425_171337.jpg: corrupt JPEG restored and saved\n",
      "\u001b[34m\u001b[1mtrain: \u001b[0mWARNING  C:\\Users\\Mehmet\\Desktop\\new_splited_wheat_dataset\\tmp_train\\images\\EsperiaVitreous\\20220425_171339.jpg: corrupt JPEG restored and saved\n",
      "\u001b[34m\u001b[1mtrain: \u001b[0mWARNING  C:\\Users\\Mehmet\\Desktop\\new_splited_wheat_dataset\\tmp_train\\images\\EsperiaVitreous\\20220425_171342.jpg: corrupt JPEG restored and saved\n",
      "\u001b[34m\u001b[1mtrain: \u001b[0mWARNING  C:\\Users\\Mehmet\\Desktop\\new_splited_wheat_dataset\\tmp_train\\images\\EsperiaVitreous\\20220425_171347.jpg: corrupt JPEG restored and saved\n",
      "\u001b[34m\u001b[1mtrain: \u001b[0mWARNING  C:\\Users\\Mehmet\\Desktop\\new_splited_wheat_dataset\\tmp_train\\images\\EsperiaVitreous\\20220425_171350.jpg: corrupt JPEG restored and saved\n",
      "\u001b[34m\u001b[1mtrain: \u001b[0mWARNING  C:\\Users\\Mehmet\\Desktop\\new_splited_wheat_dataset\\tmp_train\\images\\EsperiaVitreous\\20220425_171354.jpg: corrupt JPEG restored and saved\n",
      "\u001b[34m\u001b[1mtrain: \u001b[0mWARNING  C:\\Users\\Mehmet\\Desktop\\new_splited_wheat_dataset\\tmp_train\\images\\EsperiaVitreous\\20220425_171356.jpg: corrupt JPEG restored and saved\n",
      "\u001b[34m\u001b[1mtrain: \u001b[0mWARNING  C:\\Users\\Mehmet\\Desktop\\new_splited_wheat_dataset\\tmp_train\\images\\EsperiaVitreous\\20220425_171359.jpg: corrupt JPEG restored and saved\n",
      "\u001b[34m\u001b[1mtrain: \u001b[0mWARNING  C:\\Users\\Mehmet\\Desktop\\new_splited_wheat_dataset\\tmp_train\\images\\EsperiaVitreous\\20220425_171402.jpg: corrupt JPEG restored and saved\n",
      "\u001b[34m\u001b[1mtrain: \u001b[0mWARNING  C:\\Users\\Mehmet\\Desktop\\new_splited_wheat_dataset\\tmp_train\\images\\EsperiaVitreous\\20220425_171407.jpg: corrupt JPEG restored and saved\n",
      "\u001b[34m\u001b[1mtrain: \u001b[0mWARNING  C:\\Users\\Mehmet\\Desktop\\new_splited_wheat_dataset\\tmp_train\\images\\EsperiaVitreous\\20220425_171414.jpg: corrupt JPEG restored and saved\n",
      "\u001b[34m\u001b[1mtrain: \u001b[0mWARNING  C:\\Users\\Mehmet\\Desktop\\new_splited_wheat_dataset\\tmp_train\\images\\EsperiaVitreous\\20220425_171416.jpg: corrupt JPEG restored and saved\n",
      "\u001b[34m\u001b[1mtrain: \u001b[0mWARNING  C:\\Users\\Mehmet\\Desktop\\new_splited_wheat_dataset\\tmp_train\\images\\EsperiaVitreous\\20220425_171418.jpg: corrupt JPEG restored and saved\n",
      "\u001b[34m\u001b[1mtrain: \u001b[0mWARNING  C:\\Users\\Mehmet\\Desktop\\new_splited_wheat_dataset\\tmp_train\\images\\EsperiaVitreous\\20220425_171421.jpg: corrupt JPEG restored and saved\n",
      "\u001b[34m\u001b[1mtrain: \u001b[0mWARNING  C:\\Users\\Mehmet\\Desktop\\new_splited_wheat_dataset\\tmp_train\\images\\EsperiaVitreous\\20220425_171429.jpg: corrupt JPEG restored and saved\n",
      "\u001b[34m\u001b[1mtrain: \u001b[0mWARNING  C:\\Users\\Mehmet\\Desktop\\new_splited_wheat_dataset\\tmp_train\\images\\EsperiaVitreous\\20220425_171433.jpg: corrupt JPEG restored and saved\n",
      "\u001b[34m\u001b[1mtrain: \u001b[0mWARNING  C:\\Users\\Mehmet\\Desktop\\new_splited_wheat_dataset\\tmp_train\\images\\EsperiaVitreous\\20220425_171436.jpg: corrupt JPEG restored and saved\n",
      "\u001b[34m\u001b[1mtrain: \u001b[0mWARNING  C:\\Users\\Mehmet\\Desktop\\new_splited_wheat_dataset\\tmp_train\\images\\EsperiaVitreous\\20220425_171440.jpg: corrupt JPEG restored and saved\n",
      "\u001b[34m\u001b[1mtrain: \u001b[0mWARNING  C:\\Users\\Mehmet\\Desktop\\new_splited_wheat_dataset\\tmp_train\\images\\EsperiaVitreous\\20220425_171443.jpg: corrupt JPEG restored and saved\n",
      "\u001b[34m\u001b[1mtrain: \u001b[0mWARNING  C:\\Users\\Mehmet\\Desktop\\new_splited_wheat_dataset\\tmp_train\\images\\EsperiaVitreous\\20220425_171445.jpg: corrupt JPEG restored and saved\n",
      "\u001b[34m\u001b[1mtrain: \u001b[0mWARNING  C:\\Users\\Mehmet\\Desktop\\new_splited_wheat_dataset\\tmp_train\\images\\EsperiaVitreous\\20220425_171450.jpg: corrupt JPEG restored and saved\n",
      "\u001b[34m\u001b[1mtrain: \u001b[0mWARNING  C:\\Users\\Mehmet\\Desktop\\new_splited_wheat_dataset\\tmp_train\\images\\EsperiaVitreous\\20220425_171455.jpg: corrupt JPEG restored and saved\n",
      "\u001b[34m\u001b[1mtrain: \u001b[0mWARNING  C:\\Users\\Mehmet\\Desktop\\new_splited_wheat_dataset\\tmp_train\\images\\EsperiaVitreous\\20220425_171457.jpg: corrupt JPEG restored and saved\n",
      "\u001b[34m\u001b[1mtrain: \u001b[0mWARNING  C:\\Users\\Mehmet\\Desktop\\new_splited_wheat_dataset\\tmp_train\\images\\EsperiaVitreous\\20220425_171502.jpg: corrupt JPEG restored and saved\n",
      "\u001b[34m\u001b[1mtrain: \u001b[0mWARNING  C:\\Users\\Mehmet\\Desktop\\new_splited_wheat_dataset\\tmp_train\\images\\EsperiaVitreous\\20220425_171510.jpg: corrupt JPEG restored and saved\n",
      "\u001b[34m\u001b[1mtrain: \u001b[0mWARNING  C:\\Users\\Mehmet\\Desktop\\new_splited_wheat_dataset\\tmp_train\\images\\EsperiaVitreous\\20220425_171513.jpg: corrupt JPEG restored and saved\n",
      "\u001b[34m\u001b[1mtrain: \u001b[0mWARNING  C:\\Users\\Mehmet\\Desktop\\new_splited_wheat_dataset\\tmp_train\\images\\EsperiaVitreous\\20220425_171520.jpg: corrupt JPEG restored and saved\n",
      "\u001b[34m\u001b[1mtrain: \u001b[0mWARNING  C:\\Users\\Mehmet\\Desktop\\new_splited_wheat_dataset\\tmp_train\\images\\EsperiaVitreous\\20220425_171524.jpg: corrupt JPEG restored and saved\n",
      "\u001b[34m\u001b[1mtrain: \u001b[0mWARNING  C:\\Users\\Mehmet\\Desktop\\new_splited_wheat_dataset\\tmp_train\\images\\EsperiaVitreous\\20220425_171531.jpg: corrupt JPEG restored and saved\n",
      "\u001b[34m\u001b[1mtrain: \u001b[0mWARNING  C:\\Users\\Mehmet\\Desktop\\new_splited_wheat_dataset\\tmp_train\\images\\KiziltanVitreous\\20220426_154719.jpg: corrupt JPEG restored and saved\n",
      "\u001b[34m\u001b[1mtrain: \u001b[0mWARNING  C:\\Users\\Mehmet\\Desktop\\new_splited_wheat_dataset\\tmp_train\\images\\KiziltanVitreous\\20220426_154724.jpg: corrupt JPEG restored and saved\n",
      "\u001b[34m\u001b[1mtrain: \u001b[0mWARNING  C:\\Users\\Mehmet\\Desktop\\new_splited_wheat_dataset\\tmp_train\\images\\KiziltanVitreous\\20220426_154735.jpg: corrupt JPEG restored and saved\n",
      "\u001b[34m\u001b[1mtrain: \u001b[0mWARNING  C:\\Users\\Mehmet\\Desktop\\new_splited_wheat_dataset\\tmp_train\\images\\KiziltanVitreous\\20220426_154738.jpg: corrupt JPEG restored and saved\n",
      "\u001b[34m\u001b[1mtrain: \u001b[0mWARNING  C:\\Users\\Mehmet\\Desktop\\new_splited_wheat_dataset\\tmp_train\\images\\KiziltanVitreous\\20220426_154740.jpg: corrupt JPEG restored and saved\n",
      "\u001b[34m\u001b[1mtrain: \u001b[0mWARNING  C:\\Users\\Mehmet\\Desktop\\new_splited_wheat_dataset\\tmp_train\\images\\KiziltanVitreous\\20220426_154746.jpg: corrupt JPEG restored and saved\n",
      "\u001b[34m\u001b[1mtrain: \u001b[0mWARNING  C:\\Users\\Mehmet\\Desktop\\new_splited_wheat_dataset\\tmp_train\\images\\KiziltanVitreous\\20220426_154748.jpg: corrupt JPEG restored and saved\n",
      "\u001b[34m\u001b[1mtrain: \u001b[0mWARNING  C:\\Users\\Mehmet\\Desktop\\new_splited_wheat_dataset\\tmp_train\\images\\KiziltanVitreous\\20220426_154758.jpg: corrupt JPEG restored and saved\n",
      "\u001b[34m\u001b[1mtrain: \u001b[0mWARNING  C:\\Users\\Mehmet\\Desktop\\new_splited_wheat_dataset\\tmp_train\\images\\KiziltanVitreous\\20220426_154806.jpg: corrupt JPEG restored and saved\n",
      "\u001b[34m\u001b[1mtrain: \u001b[0mWARNING  C:\\Users\\Mehmet\\Desktop\\new_splited_wheat_dataset\\tmp_train\\images\\KiziltanVitreous\\20220426_154833.jpg: corrupt JPEG restored and saved\n",
      "\u001b[34m\u001b[1mtrain: \u001b[0mWARNING  C:\\Users\\Mehmet\\Desktop\\new_splited_wheat_dataset\\tmp_train\\images\\KiziltanVitreous\\20220426_154846.jpg: corrupt JPEG restored and saved\n",
      "\u001b[34m\u001b[1mtrain: \u001b[0mWARNING  C:\\Users\\Mehmet\\Desktop\\new_splited_wheat_dataset\\tmp_train\\images\\KiziltanVitreous\\20220426_154902.jpg: corrupt JPEG restored and saved\n",
      "\u001b[34m\u001b[1mtrain: \u001b[0mWARNING  C:\\Users\\Mehmet\\Desktop\\new_splited_wheat_dataset\\tmp_train\\images\\KiziltanVitreous\\20220426_154904.jpg: corrupt JPEG restored and saved\n",
      "\u001b[34m\u001b[1mtrain: \u001b[0mWARNING  C:\\Users\\Mehmet\\Desktop\\new_splited_wheat_dataset\\tmp_train\\images\\KiziltanVitreous\\20220426_154906.jpg: corrupt JPEG restored and saved\n",
      "\u001b[34m\u001b[1mtrain: \u001b[0mWARNING  C:\\Users\\Mehmet\\Desktop\\new_splited_wheat_dataset\\tmp_train\\images\\KiziltanVitreous\\20220426_154909.jpg: corrupt JPEG restored and saved\n",
      "\u001b[34m\u001b[1mtrain: \u001b[0mWARNING  C:\\Users\\Mehmet\\Desktop\\new_splited_wheat_dataset\\tmp_train\\images\\KiziltanVitreous\\20220426_154911.jpg: corrupt JPEG restored and saved\n",
      "\u001b[34m\u001b[1mtrain: \u001b[0mWARNING  C:\\Users\\Mehmet\\Desktop\\new_splited_wheat_dataset\\tmp_train\\images\\KiziltanVitreous\\20220426_154920.jpg: corrupt JPEG restored and saved\n",
      "\u001b[34m\u001b[1mtrain: \u001b[0mWARNING  C:\\Users\\Mehmet\\Desktop\\new_splited_wheat_dataset\\tmp_train\\images\\KiziltanVitreous\\20220426_154929.jpg: corrupt JPEG restored and saved\n",
      "\u001b[34m\u001b[1mtrain: \u001b[0mWARNING  C:\\Users\\Mehmet\\Desktop\\new_splited_wheat_dataset\\tmp_train\\images\\KiziltanVitreous\\20220426_154932.jpg: corrupt JPEG restored and saved\n",
      "\u001b[34m\u001b[1mtrain: \u001b[0mWARNING  C:\\Users\\Mehmet\\Desktop\\new_splited_wheat_dataset\\tmp_train\\images\\KiziltanVitreous\\20220426_154935.jpg: corrupt JPEG restored and saved\n",
      "\u001b[34m\u001b[1mtrain: \u001b[0mWARNING  C:\\Users\\Mehmet\\Desktop\\new_splited_wheat_dataset\\tmp_train\\images\\KiziltanVitreous\\20220426_154937.jpg: corrupt JPEG restored and saved\n",
      "\u001b[34m\u001b[1mtrain: \u001b[0mWARNING  C:\\Users\\Mehmet\\Desktop\\new_splited_wheat_dataset\\tmp_train\\images\\KiziltanVitreous\\20220426_154940.jpg: corrupt JPEG restored and saved\n",
      "\u001b[34m\u001b[1mtrain: \u001b[0mWARNING  C:\\Users\\Mehmet\\Desktop\\new_splited_wheat_dataset\\tmp_train\\images\\KiziltanVitreous\\20220426_154946.jpg: corrupt JPEG restored and saved\n",
      "\u001b[34m\u001b[1mtrain: \u001b[0mWARNING  C:\\Users\\Mehmet\\Desktop\\new_splited_wheat_dataset\\tmp_train\\images\\KiziltanVitreous\\20220426_154950.jpg: corrupt JPEG restored and saved\n",
      "\u001b[34m\u001b[1mtrain: \u001b[0mWARNING  C:\\Users\\Mehmet\\Desktop\\new_splited_wheat_dataset\\tmp_train\\images\\KiziltanVitreous\\20220426_155008.jpg: corrupt JPEG restored and saved\n",
      "\u001b[34m\u001b[1mtrain: \u001b[0mWARNING  C:\\Users\\Mehmet\\Desktop\\new_splited_wheat_dataset\\tmp_train\\images\\KiziltanVitreous\\20220426_155010.jpg: corrupt JPEG restored and saved\n",
      "\u001b[34m\u001b[1mtrain: \u001b[0mWARNING  C:\\Users\\Mehmet\\Desktop\\new_splited_wheat_dataset\\tmp_train\\images\\KiziltanVitreous\\20220426_155018.jpg: corrupt JPEG restored and saved\n",
      "\u001b[34m\u001b[1mtrain: \u001b[0mWARNING  C:\\Users\\Mehmet\\Desktop\\new_splited_wheat_dataset\\tmp_train\\images\\KiziltanVitreous\\20220426_155020.jpg: corrupt JPEG restored and saved\n",
      "\u001b[34m\u001b[1mtrain: \u001b[0mWARNING  C:\\Users\\Mehmet\\Desktop\\new_splited_wheat_dataset\\tmp_train\\images\\KiziltanVitreous\\20220426_155025.jpg: corrupt JPEG restored and saved\n",
      "\u001b[34m\u001b[1mtrain: \u001b[0mWARNING  C:\\Users\\Mehmet\\Desktop\\new_splited_wheat_dataset\\tmp_train\\images\\KiziltanVitreous\\20220426_155028.jpg: corrupt JPEG restored and saved\n",
      "\u001b[34m\u001b[1mtrain: \u001b[0mWARNING  C:\\Users\\Mehmet\\Desktop\\new_splited_wheat_dataset\\tmp_train\\images\\KiziltanVitreous\\20220426_155031.jpg: corrupt JPEG restored and saved\n",
      "\u001b[34m\u001b[1mtrain: \u001b[0mWARNING  C:\\Users\\Mehmet\\Desktop\\new_splited_wheat_dataset\\tmp_train\\images\\KiziltanVitreous\\20220426_155038.jpg: corrupt JPEG restored and saved\n",
      "\u001b[34m\u001b[1mtrain: \u001b[0mWARNING  C:\\Users\\Mehmet\\Desktop\\new_splited_wheat_dataset\\tmp_train\\images\\KiziltanVitreous\\20220426_155040.jpg: corrupt JPEG restored and saved\n",
      "\u001b[34m\u001b[1mtrain: \u001b[0mWARNING  C:\\Users\\Mehmet\\Desktop\\new_splited_wheat_dataset\\tmp_train\\images\\KiziltanVitreous\\20220426_155043.jpg: corrupt JPEG restored and saved\n",
      "\u001b[34m\u001b[1mtrain: \u001b[0mWARNING  C:\\Users\\Mehmet\\Desktop\\new_splited_wheat_dataset\\tmp_train\\images\\KiziltanVitreous\\20220426_155046.jpg: corrupt JPEG restored and saved\n",
      "\u001b[34m\u001b[1mtrain: \u001b[0mWARNING  C:\\Users\\Mehmet\\Desktop\\new_splited_wheat_dataset\\tmp_train\\images\\KiziltanVitreous\\20220426_155048.jpg: corrupt JPEG restored and saved\n",
      "\u001b[34m\u001b[1mtrain: \u001b[0mWARNING  C:\\Users\\Mehmet\\Desktop\\new_splited_wheat_dataset\\tmp_train\\images\\KiziltanVitreous\\20220426_155051.jpg: corrupt JPEG restored and saved\n",
      "\u001b[34m\u001b[1mtrain: \u001b[0mWARNING  C:\\Users\\Mehmet\\Desktop\\new_splited_wheat_dataset\\tmp_train\\images\\KiziltanVitreous\\20220426_160323.jpg: corrupt JPEG restored and saved\n",
      "\u001b[34m\u001b[1mtrain: \u001b[0mWARNING  C:\\Users\\Mehmet\\Desktop\\new_splited_wheat_dataset\\tmp_train\\images\\KiziltanVitreous\\20220426_160328.jpg: corrupt JPEG restored and saved\n",
      "\u001b[34m\u001b[1mtrain: \u001b[0mWARNING  C:\\Users\\Mehmet\\Desktop\\new_splited_wheat_dataset\\tmp_train\\images\\KiziltanVitreous\\20220426_160330.jpg: corrupt JPEG restored and saved\n",
      "\u001b[34m\u001b[1mtrain: \u001b[0mWARNING  C:\\Users\\Mehmet\\Desktop\\new_splited_wheat_dataset\\tmp_train\\images\\KiziltanVitreous\\20220426_160333.jpg: corrupt JPEG restored and saved\n",
      "\u001b[34m\u001b[1mtrain: \u001b[0mWARNING  C:\\Users\\Mehmet\\Desktop\\new_splited_wheat_dataset\\tmp_train\\images\\KiziltanVitreous\\20220426_160335.jpg: corrupt JPEG restored and saved\n",
      "\u001b[34m\u001b[1mtrain: \u001b[0mWARNING  C:\\Users\\Mehmet\\Desktop\\new_splited_wheat_dataset\\tmp_train\\images\\KiziltanVitreous\\20220426_160338.jpg: corrupt JPEG restored and saved\n",
      "\u001b[34m\u001b[1mtrain: \u001b[0mWARNING  C:\\Users\\Mehmet\\Desktop\\new_splited_wheat_dataset\\tmp_train\\images\\KiziltanVitreous\\20220426_160343.jpg: corrupt JPEG restored and saved\n",
      "\u001b[34m\u001b[1mtrain: \u001b[0mWARNING  C:\\Users\\Mehmet\\Desktop\\new_splited_wheat_dataset\\tmp_train\\images\\KiziltanVitreous\\20220426_160349.jpg: corrupt JPEG restored and saved\n",
      "\u001b[34m\u001b[1mtrain: \u001b[0mWARNING  C:\\Users\\Mehmet\\Desktop\\new_splited_wheat_dataset\\tmp_train\\images\\KiziltanVitreous\\20220426_160352.jpg: corrupt JPEG restored and saved\n",
      "\u001b[34m\u001b[1mtrain: \u001b[0mWARNING  C:\\Users\\Mehmet\\Desktop\\new_splited_wheat_dataset\\tmp_train\\images\\KiziltanVitreous\\20220426_160354.jpg: corrupt JPEG restored and saved\n",
      "\u001b[34m\u001b[1mtrain: \u001b[0mWARNING  C:\\Users\\Mehmet\\Desktop\\new_splited_wheat_dataset\\tmp_train\\images\\KiziltanVitreous\\20220426_160356.jpg: corrupt JPEG restored and saved\n",
      "\u001b[34m\u001b[1mtrain: \u001b[0mWARNING  C:\\Users\\Mehmet\\Desktop\\new_splited_wheat_dataset\\tmp_train\\images\\KiziltanVitreous\\20220426_160429.jpg: corrupt JPEG restored and saved\n",
      "\u001b[34m\u001b[1mtrain: \u001b[0mWARNING  C:\\Users\\Mehmet\\Desktop\\new_splited_wheat_dataset\\tmp_train\\images\\KiziltanVitreous\\20220426_160433.jpg: corrupt JPEG restored and saved\n",
      "\u001b[34m\u001b[1mtrain: \u001b[0mWARNING  C:\\Users\\Mehmet\\Desktop\\new_splited_wheat_dataset\\tmp_train\\images\\KiziltanVitreous\\20220426_160437.jpg: corrupt JPEG restored and saved\n",
      "\u001b[34m\u001b[1mtrain: \u001b[0mWARNING  C:\\Users\\Mehmet\\Desktop\\new_splited_wheat_dataset\\tmp_train\\images\\KiziltanVitreous\\20220426_160448.jpg: corrupt JPEG restored and saved\n",
      "\u001b[34m\u001b[1mtrain: \u001b[0mWARNING  C:\\Users\\Mehmet\\Desktop\\new_splited_wheat_dataset\\tmp_train\\images\\KiziltanVitreous\\20220426_160456.jpg: corrupt JPEG restored and saved\n",
      "\u001b[34m\u001b[1mtrain: \u001b[0mWARNING  C:\\Users\\Mehmet\\Desktop\\new_splited_wheat_dataset\\tmp_train\\images\\KiziltanVitreous\\20220426_160459.jpg: corrupt JPEG restored and saved\n",
      "\u001b[34m\u001b[1mtrain: \u001b[0mWARNING  C:\\Users\\Mehmet\\Desktop\\new_splited_wheat_dataset\\tmp_train\\images\\KiziltanVitreous\\20220426_160501.jpg: corrupt JPEG restored and saved\n",
      "\u001b[34m\u001b[1mtrain: \u001b[0mWARNING  C:\\Users\\Mehmet\\Desktop\\new_splited_wheat_dataset\\tmp_train\\images\\KiziltanVitreous\\20220426_160503.jpg: corrupt JPEG restored and saved\n",
      "\u001b[34m\u001b[1mtrain: \u001b[0mWARNING  C:\\Users\\Mehmet\\Desktop\\new_splited_wheat_dataset\\tmp_train\\images\\KiziltanVitreous\\20220426_160507.jpg: corrupt JPEG restored and saved\n",
      "\u001b[34m\u001b[1mtrain: \u001b[0mWARNING  C:\\Users\\Mehmet\\Desktop\\new_splited_wheat_dataset\\tmp_train\\images\\KiziltanVitreous\\20220426_160512.jpg: corrupt JPEG restored and saved\n",
      "\u001b[34m\u001b[1mtrain: \u001b[0mWARNING  C:\\Users\\Mehmet\\Desktop\\new_splited_wheat_dataset\\tmp_train\\images\\KiziltanVitreous\\20220426_160516.jpg: corrupt JPEG restored and saved\n",
      "\u001b[34m\u001b[1mtrain: \u001b[0mWARNING  C:\\Users\\Mehmet\\Desktop\\new_splited_wheat_dataset\\tmp_train\\images\\KiziltanVitreous\\20220426_160520.jpg: corrupt JPEG restored and saved\n",
      "\u001b[34m\u001b[1mtrain: \u001b[0mWARNING  C:\\Users\\Mehmet\\Desktop\\new_splited_wheat_dataset\\tmp_train\\images\\KiziltanVitreous\\20220426_160525.jpg: corrupt JPEG restored and saved\n",
      "\u001b[34m\u001b[1mtrain: \u001b[0mWARNING  C:\\Users\\Mehmet\\Desktop\\new_splited_wheat_dataset\\tmp_train\\images\\KiziltanVitreous\\20220426_160528.jpg: corrupt JPEG restored and saved\n",
      "\u001b[34m\u001b[1mtrain: \u001b[0mWARNING  C:\\Users\\Mehmet\\Desktop\\new_splited_wheat_dataset\\tmp_train\\images\\KiziltanVitreous\\20220426_160539.jpg: corrupt JPEG restored and saved\n",
      "\u001b[34m\u001b[1mtrain: \u001b[0mWARNING  C:\\Users\\Mehmet\\Desktop\\new_splited_wheat_dataset\\tmp_train\\images\\KiziltanVitreous\\20220426_160542.jpg: corrupt JPEG restored and saved\n",
      "\u001b[34m\u001b[1mtrain: \u001b[0mWARNING  C:\\Users\\Mehmet\\Desktop\\new_splited_wheat_dataset\\tmp_train\\images\\KiziltanVitreous\\20220426_160545.jpg: corrupt JPEG restored and saved\n",
      "\u001b[34m\u001b[1mtrain: \u001b[0mWARNING  C:\\Users\\Mehmet\\Desktop\\new_splited_wheat_dataset\\tmp_train\\images\\KiziltanVitreous\\20220426_160550.jpg: corrupt JPEG restored and saved\n",
      "\u001b[34m\u001b[1mtrain: \u001b[0mWARNING  C:\\Users\\Mehmet\\Desktop\\new_splited_wheat_dataset\\tmp_train\\images\\KiziltanVitreous\\20220426_160600.jpg: corrupt JPEG restored and saved\n",
      "\u001b[34m\u001b[1mtrain: \u001b[0mWARNING  C:\\Users\\Mehmet\\Desktop\\new_splited_wheat_dataset\\tmp_train\\images\\KiziltanVitreous\\20220426_160606.jpg: corrupt JPEG restored and saved\n",
      "\u001b[34m\u001b[1mtrain: \u001b[0mWARNING  C:\\Users\\Mehmet\\Desktop\\new_splited_wheat_dataset\\tmp_train\\images\\KiziltanVitreous\\20220426_160613.jpg: corrupt JPEG restored and saved\n",
      "\u001b[34m\u001b[1mtrain: \u001b[0mWARNING  C:\\Users\\Mehmet\\Desktop\\new_splited_wheat_dataset\\tmp_train\\images\\LucillaVitreous\\20220426_175132.jpg: corrupt JPEG restored and saved\n",
      "\u001b[34m\u001b[1mtrain: \u001b[0mWARNING  C:\\Users\\Mehmet\\Desktop\\new_splited_wheat_dataset\\tmp_train\\images\\LucillaVitreous\\20220426_175135.jpg: corrupt JPEG restored and saved\n",
      "\u001b[34m\u001b[1mtrain: \u001b[0mWARNING  C:\\Users\\Mehmet\\Desktop\\new_splited_wheat_dataset\\tmp_train\\images\\LucillaVitreous\\20220426_175137.jpg: corrupt JPEG restored and saved\n",
      "\u001b[34m\u001b[1mtrain: \u001b[0mWARNING  C:\\Users\\Mehmet\\Desktop\\new_splited_wheat_dataset\\tmp_train\\images\\LucillaVitreous\\20220426_175139.jpg: corrupt JPEG restored and saved\n",
      "\u001b[34m\u001b[1mtrain: \u001b[0mWARNING  C:\\Users\\Mehmet\\Desktop\\new_splited_wheat_dataset\\tmp_train\\images\\LucillaVitreous\\20220426_175141.jpg: corrupt JPEG restored and saved\n",
      "\u001b[34m\u001b[1mtrain: \u001b[0mWARNING  C:\\Users\\Mehmet\\Desktop\\new_splited_wheat_dataset\\tmp_train\\images\\LucillaVitreous\\20220426_175143.jpg: corrupt JPEG restored and saved\n",
      "\u001b[34m\u001b[1mtrain: \u001b[0mWARNING  C:\\Users\\Mehmet\\Desktop\\new_splited_wheat_dataset\\tmp_train\\images\\LucillaVitreous\\20220426_175145.jpg: corrupt JPEG restored and saved\n",
      "\u001b[34m\u001b[1mtrain: \u001b[0mWARNING  C:\\Users\\Mehmet\\Desktop\\new_splited_wheat_dataset\\tmp_train\\images\\LucillaVitreous\\20220426_175149.jpg: corrupt JPEG restored and saved\n",
      "\u001b[34m\u001b[1mtrain: \u001b[0mWARNING  C:\\Users\\Mehmet\\Desktop\\new_splited_wheat_dataset\\tmp_train\\images\\LucillaVitreous\\20220426_175154.jpg: corrupt JPEG restored and saved\n",
      "\u001b[34m\u001b[1mtrain: \u001b[0mWARNING  C:\\Users\\Mehmet\\Desktop\\new_splited_wheat_dataset\\tmp_train\\images\\LucillaVitreous\\20220426_175156.jpg: corrupt JPEG restored and saved\n",
      "\u001b[34m\u001b[1mtrain: \u001b[0mWARNING  C:\\Users\\Mehmet\\Desktop\\new_splited_wheat_dataset\\tmp_train\\images\\LucillaVitreous\\20220426_175158.jpg: corrupt JPEG restored and saved\n",
      "\u001b[34m\u001b[1mtrain: \u001b[0mWARNING  C:\\Users\\Mehmet\\Desktop\\new_splited_wheat_dataset\\tmp_train\\images\\LucillaVitreous\\20220426_175200.jpg: corrupt JPEG restored and saved\n",
      "\u001b[34m\u001b[1mtrain: \u001b[0mWARNING  C:\\Users\\Mehmet\\Desktop\\new_splited_wheat_dataset\\tmp_train\\images\\LucillaVitreous\\20220426_175202.jpg: corrupt JPEG restored and saved\n",
      "\u001b[34m\u001b[1mtrain: \u001b[0mWARNING  C:\\Users\\Mehmet\\Desktop\\new_splited_wheat_dataset\\tmp_train\\images\\LucillaVitreous\\20220426_175204.jpg: corrupt JPEG restored and saved\n",
      "\u001b[34m\u001b[1mtrain: \u001b[0mWARNING  C:\\Users\\Mehmet\\Desktop\\new_splited_wheat_dataset\\tmp_train\\images\\LucillaVitreous\\20220426_175206.jpg: corrupt JPEG restored and saved\n",
      "\u001b[34m\u001b[1mtrain: \u001b[0mWARNING  C:\\Users\\Mehmet\\Desktop\\new_splited_wheat_dataset\\tmp_train\\images\\LucillaVitreous\\20220426_175208.jpg: corrupt JPEG restored and saved\n",
      "\u001b[34m\u001b[1mtrain: \u001b[0mWARNING  C:\\Users\\Mehmet\\Desktop\\new_splited_wheat_dataset\\tmp_train\\images\\LucillaVitreous\\20220426_175216.jpg: corrupt JPEG restored and saved\n",
      "\u001b[34m\u001b[1mtrain: \u001b[0mWARNING  C:\\Users\\Mehmet\\Desktop\\new_splited_wheat_dataset\\tmp_train\\images\\LucillaVitreous\\20220426_175224.jpg: corrupt JPEG restored and saved\n",
      "\u001b[34m\u001b[1mtrain: \u001b[0mWARNING  C:\\Users\\Mehmet\\Desktop\\new_splited_wheat_dataset\\tmp_train\\images\\LucillaVitreous\\20220426_175231.jpg: corrupt JPEG restored and saved\n",
      "\u001b[34m\u001b[1mtrain: \u001b[0mWARNING  C:\\Users\\Mehmet\\Desktop\\new_splited_wheat_dataset\\tmp_train\\images\\LucillaVitreous\\20220426_175233.jpg: corrupt JPEG restored and saved\n",
      "\u001b[34m\u001b[1mtrain: \u001b[0mWARNING  C:\\Users\\Mehmet\\Desktop\\new_splited_wheat_dataset\\tmp_train\\images\\LucillaVitreous\\20220426_175236.jpg: corrupt JPEG restored and saved\n",
      "\u001b[34m\u001b[1mtrain: \u001b[0mWARNING  C:\\Users\\Mehmet\\Desktop\\new_splited_wheat_dataset\\tmp_train\\images\\LucillaVitreous\\20220426_175244.jpg: corrupt JPEG restored and saved\n",
      "\u001b[34m\u001b[1mtrain: \u001b[0mWARNING  C:\\Users\\Mehmet\\Desktop\\new_splited_wheat_dataset\\tmp_train\\images\\LucillaVitreous\\20220426_175246.jpg: corrupt JPEG restored and saved\n",
      "\u001b[34m\u001b[1mtrain: \u001b[0mWARNING  C:\\Users\\Mehmet\\Desktop\\new_splited_wheat_dataset\\tmp_train\\images\\LucillaVitreous\\20220426_175254.jpg: corrupt JPEG restored and saved\n",
      "\u001b[34m\u001b[1mtrain: \u001b[0mWARNING  C:\\Users\\Mehmet\\Desktop\\new_splited_wheat_dataset\\tmp_train\\images\\LucillaVitreous\\20220426_175259.jpg: corrupt JPEG restored and saved\n",
      "\u001b[34m\u001b[1mtrain: \u001b[0mWARNING  C:\\Users\\Mehmet\\Desktop\\new_splited_wheat_dataset\\tmp_train\\images\\LucillaVitreous\\20220426_175302.jpg: corrupt JPEG restored and saved\n",
      "\u001b[34m\u001b[1mtrain: \u001b[0mWARNING  C:\\Users\\Mehmet\\Desktop\\new_splited_wheat_dataset\\tmp_train\\images\\LucillaVitreous\\20220426_175304.jpg: corrupt JPEG restored and saved\n",
      "\u001b[34m\u001b[1mtrain: \u001b[0mWARNING  C:\\Users\\Mehmet\\Desktop\\new_splited_wheat_dataset\\tmp_train\\images\\LucillaVitreous\\20220426_175306.jpg: corrupt JPEG restored and saved\n",
      "\u001b[34m\u001b[1mtrain: \u001b[0mWARNING  C:\\Users\\Mehmet\\Desktop\\new_splited_wheat_dataset\\tmp_train\\images\\LucillaVitreous\\20220426_175310.jpg: corrupt JPEG restored and saved\n",
      "\u001b[34m\u001b[1mtrain: \u001b[0mWARNING  C:\\Users\\Mehmet\\Desktop\\new_splited_wheat_dataset\\tmp_train\\images\\LucillaVitreous\\20220426_175327.jpg: corrupt JPEG restored and saved\n",
      "\u001b[34m\u001b[1mtrain: \u001b[0mWARNING  C:\\Users\\Mehmet\\Desktop\\new_splited_wheat_dataset\\tmp_train\\images\\LucillaVitreous\\20220426_175329.jpg: corrupt JPEG restored and saved\n",
      "\u001b[34m\u001b[1mtrain: \u001b[0mWARNING  C:\\Users\\Mehmet\\Desktop\\new_splited_wheat_dataset\\tmp_train\\images\\LucillaVitreous\\20220426_175333.jpg: corrupt JPEG restored and saved\n",
      "\u001b[34m\u001b[1mtrain: \u001b[0mWARNING  C:\\Users\\Mehmet\\Desktop\\new_splited_wheat_dataset\\tmp_train\\images\\LucillaVitreous\\20220426_175335.jpg: corrupt JPEG restored and saved\n",
      "\u001b[34m\u001b[1mtrain: \u001b[0mWARNING  C:\\Users\\Mehmet\\Desktop\\new_splited_wheat_dataset\\tmp_train\\images\\LucillaVitreous\\20220426_175341.jpg: corrupt JPEG restored and saved\n",
      "\u001b[34m\u001b[1mtrain: \u001b[0mWARNING  C:\\Users\\Mehmet\\Desktop\\new_splited_wheat_dataset\\tmp_train\\images\\LucillaVitreous\\20220426_175344.jpg: corrupt JPEG restored and saved\n",
      "\u001b[34m\u001b[1mtrain: \u001b[0mWARNING  C:\\Users\\Mehmet\\Desktop\\new_splited_wheat_dataset\\tmp_train\\images\\LucillaVitreous\\20220426_175346.jpg: corrupt JPEG restored and saved\n",
      "\u001b[34m\u001b[1mtrain: \u001b[0mWARNING  C:\\Users\\Mehmet\\Desktop\\new_splited_wheat_dataset\\tmp_train\\images\\LucillaVitreous\\20220426_175348.jpg: corrupt JPEG restored and saved\n",
      "\u001b[34m\u001b[1mtrain: \u001b[0mWARNING  C:\\Users\\Mehmet\\Desktop\\new_splited_wheat_dataset\\tmp_train\\images\\LucillaVitreous\\20220426_175350.jpg: corrupt JPEG restored and saved\n",
      "\u001b[34m\u001b[1mtrain: \u001b[0mWARNING  C:\\Users\\Mehmet\\Desktop\\new_splited_wheat_dataset\\tmp_train\\images\\LucillaVitreous\\20220426_175353.jpg: corrupt JPEG restored and saved\n",
      "\u001b[34m\u001b[1mtrain: \u001b[0mWARNING  C:\\Users\\Mehmet\\Desktop\\new_splited_wheat_dataset\\tmp_train\\images\\LucillaVitreous\\20220426_175357.jpg: corrupt JPEG restored and saved\n",
      "\u001b[34m\u001b[1mtrain: \u001b[0mWARNING  C:\\Users\\Mehmet\\Desktop\\new_splited_wheat_dataset\\tmp_train\\images\\LucillaVitreous\\20220426_175359.jpg: corrupt JPEG restored and saved\n",
      "\u001b[34m\u001b[1mtrain: \u001b[0mWARNING  C:\\Users\\Mehmet\\Desktop\\new_splited_wheat_dataset\\tmp_train\\images\\LucillaVitreous\\20220426_175403.jpg: corrupt JPEG restored and saved\n",
      "\u001b[34m\u001b[1mtrain: \u001b[0mWARNING  C:\\Users\\Mehmet\\Desktop\\new_splited_wheat_dataset\\tmp_train\\images\\LucillaVitreous\\20220426_175412.jpg: corrupt JPEG restored and saved\n",
      "\u001b[34m\u001b[1mtrain: \u001b[0mWARNING  C:\\Users\\Mehmet\\Desktop\\new_splited_wheat_dataset\\tmp_train\\images\\LucillaVitreous\\20220426_175414.jpg: corrupt JPEG restored and saved\n",
      "\u001b[34m\u001b[1mtrain: \u001b[0mWARNING  C:\\Users\\Mehmet\\Desktop\\new_splited_wheat_dataset\\tmp_train\\images\\LucillaVitreous\\20220426_175415.jpg: corrupt JPEG restored and saved\n",
      "\u001b[34m\u001b[1mtrain: \u001b[0mWARNING  C:\\Users\\Mehmet\\Desktop\\new_splited_wheat_dataset\\tmp_train\\images\\LucillaVitreous\\20220426_175417.jpg: corrupt JPEG restored and saved\n",
      "\u001b[34m\u001b[1mtrain: \u001b[0mWARNING  C:\\Users\\Mehmet\\Desktop\\new_splited_wheat_dataset\\tmp_train\\images\\LucillaVitreous\\20220426_175419.jpg: corrupt JPEG restored and saved\n",
      "\u001b[34m\u001b[1mtrain: \u001b[0mWARNING  C:\\Users\\Mehmet\\Desktop\\new_splited_wheat_dataset\\tmp_train\\images\\LucillaVitreous\\20220426_175424.jpg: corrupt JPEG restored and saved\n",
      "\u001b[34m\u001b[1mtrain: \u001b[0mWARNING  C:\\Users\\Mehmet\\Desktop\\new_splited_wheat_dataset\\tmp_train\\images\\LucillaVitreous\\20220426_175430.jpg: corrupt JPEG restored and saved\n",
      "\u001b[34m\u001b[1mtrain: \u001b[0mWARNING  C:\\Users\\Mehmet\\Desktop\\new_splited_wheat_dataset\\tmp_train\\images\\LucillaVitreous\\20220426_175432.jpg: corrupt JPEG restored and saved\n",
      "\u001b[34m\u001b[1mtrain: \u001b[0mWARNING  C:\\Users\\Mehmet\\Desktop\\new_splited_wheat_dataset\\tmp_train\\images\\LucillaVitreous\\20220426_175435.jpg: corrupt JPEG restored and saved\n",
      "\u001b[34m\u001b[1mtrain: \u001b[0mWARNING  C:\\Users\\Mehmet\\Desktop\\new_splited_wheat_dataset\\tmp_train\\images\\LucillaVitreous\\20220426_175441.jpg: corrupt JPEG restored and saved\n",
      "\u001b[34m\u001b[1mtrain: \u001b[0mWARNING  C:\\Users\\Mehmet\\Desktop\\new_splited_wheat_dataset\\tmp_train\\images\\LucillaVitreous\\20220426_175449.jpg: corrupt JPEG restored and saved\n",
      "\u001b[34m\u001b[1mtrain: \u001b[0mWARNING  C:\\Users\\Mehmet\\Desktop\\new_splited_wheat_dataset\\tmp_train\\images\\LucillaVitreous\\20220426_175451.jpg: corrupt JPEG restored and saved\n",
      "\u001b[34m\u001b[1mtrain: \u001b[0mWARNING  C:\\Users\\Mehmet\\Desktop\\new_splited_wheat_dataset\\tmp_train\\images\\LucillaVitreous\\20220426_175458.jpg: corrupt JPEG restored and saved\n",
      "\u001b[34m\u001b[1mtrain: \u001b[0mWARNING  C:\\Users\\Mehmet\\Desktop\\new_splited_wheat_dataset\\tmp_train\\images\\LucillaVitreous\\20220426_175500.jpg: corrupt JPEG restored and saved\n",
      "\u001b[34m\u001b[1mtrain: \u001b[0mWARNING  C:\\Users\\Mehmet\\Desktop\\new_splited_wheat_dataset\\tmp_train\\images\\LucillaVitreous\\20220426_175502.jpg: corrupt JPEG restored and saved\n",
      "\u001b[34m\u001b[1mtrain: \u001b[0mWARNING  C:\\Users\\Mehmet\\Desktop\\new_splited_wheat_dataset\\tmp_train\\images\\LucillaVitreous\\20220426_175510.jpg: corrupt JPEG restored and saved\n",
      "\u001b[34m\u001b[1mtrain: \u001b[0mWARNING  C:\\Users\\Mehmet\\Desktop\\new_splited_wheat_dataset\\tmp_train\\images\\LucillaVitreous\\20220426_175524.jpg: corrupt JPEG restored and saved\n",
      "\u001b[34m\u001b[1mtrain: \u001b[0mWARNING  C:\\Users\\Mehmet\\Desktop\\new_splited_wheat_dataset\\tmp_train\\images\\LucillaVitreous\\20220426_175526.jpg: corrupt JPEG restored and saved\n",
      "\u001b[34m\u001b[1mtrain: \u001b[0mWARNING  C:\\Users\\Mehmet\\Desktop\\new_splited_wheat_dataset\\tmp_train\\images\\LucillaVitreous\\20220426_175529.jpg: corrupt JPEG restored and saved\n",
      "\u001b[34m\u001b[1mtrain: \u001b[0mWARNING  C:\\Users\\Mehmet\\Desktop\\new_splited_wheat_dataset\\tmp_train\\images\\LucillaVitreous\\20220426_175531.jpg: corrupt JPEG restored and saved\n",
      "\u001b[34m\u001b[1mtrain: \u001b[0mWARNING  C:\\Users\\Mehmet\\Desktop\\new_splited_wheat_dataset\\tmp_train\\images\\LucillaVitreous\\20220426_175533.jpg: corrupt JPEG restored and saved\n",
      "\u001b[34m\u001b[1mtrain: \u001b[0mWARNING  C:\\Users\\Mehmet\\Desktop\\new_splited_wheat_dataset\\tmp_train\\images\\LucillaVitreous\\20220426_175535.jpg: corrupt JPEG restored and saved\n",
      "\u001b[34m\u001b[1mtrain: \u001b[0mWARNING  C:\\Users\\Mehmet\\Desktop\\new_splited_wheat_dataset\\tmp_train\\images\\LucillaVitreous\\20220426_175537.jpg: corrupt JPEG restored and saved\n",
      "\u001b[34m\u001b[1mtrain: \u001b[0mWARNING  C:\\Users\\Mehmet\\Desktop\\new_splited_wheat_dataset\\tmp_train\\images\\LucillaVitreous\\20220426_175546.jpg: corrupt JPEG restored and saved\n",
      "\u001b[34m\u001b[1mtrain: \u001b[0mWARNING  C:\\Users\\Mehmet\\Desktop\\new_splited_wheat_dataset\\tmp_train\\images\\LucillaVitreous\\20220426_175548.jpg: corrupt JPEG restored and saved\n",
      "\u001b[34m\u001b[1mtrain: \u001b[0mWARNING  C:\\Users\\Mehmet\\Desktop\\new_splited_wheat_dataset\\tmp_train\\images\\LucillaVitreous\\20220426_175550.jpg: corrupt JPEG restored and saved\n",
      "\u001b[34m\u001b[1mtrain: \u001b[0mWARNING  C:\\Users\\Mehmet\\Desktop\\new_splited_wheat_dataset\\tmp_train\\images\\LucillaVitreous\\20220426_175557.jpg: corrupt JPEG restored and saved\n",
      "\u001b[34m\u001b[1mtrain: \u001b[0mWARNING  C:\\Users\\Mehmet\\Desktop\\new_splited_wheat_dataset\\tmp_train\\images\\LucillaVitreous\\20220426_175600.jpg: corrupt JPEG restored and saved\n",
      "\u001b[34m\u001b[1mtrain: \u001b[0mWARNING  C:\\Users\\Mehmet\\Desktop\\new_splited_wheat_dataset\\tmp_train\\images\\LucillaVitreous\\20220426_175603.jpg: corrupt JPEG restored and saved\n",
      "\u001b[34m\u001b[1mtrain: \u001b[0mWARNING  C:\\Users\\Mehmet\\Desktop\\new_splited_wheat_dataset\\tmp_train\\images\\OdeskaVitreous\\20220426_172203.jpg: corrupt JPEG restored and saved\n",
      "\u001b[34m\u001b[1mtrain: \u001b[0mWARNING  C:\\Users\\Mehmet\\Desktop\\new_splited_wheat_dataset\\tmp_train\\images\\OdeskaVitreous\\20220426_172206.jpg: corrupt JPEG restored and saved\n",
      "\u001b[34m\u001b[1mtrain: \u001b[0mWARNING  C:\\Users\\Mehmet\\Desktop\\new_splited_wheat_dataset\\tmp_train\\images\\OdeskaVitreous\\20220426_172208.jpg: corrupt JPEG restored and saved\n",
      "\u001b[34m\u001b[1mtrain: \u001b[0mWARNING  C:\\Users\\Mehmet\\Desktop\\new_splited_wheat_dataset\\tmp_train\\images\\OdeskaVitreous\\20220426_172211.jpg: corrupt JPEG restored and saved\n",
      "\u001b[34m\u001b[1mtrain: \u001b[0mWARNING  C:\\Users\\Mehmet\\Desktop\\new_splited_wheat_dataset\\tmp_train\\images\\OdeskaVitreous\\20220426_172213.jpg: corrupt JPEG restored and saved\n",
      "\u001b[34m\u001b[1mtrain: \u001b[0mWARNING  C:\\Users\\Mehmet\\Desktop\\new_splited_wheat_dataset\\tmp_train\\images\\OdeskaVitreous\\20220426_172227.jpg: corrupt JPEG restored and saved\n",
      "\u001b[34m\u001b[1mtrain: \u001b[0mWARNING  C:\\Users\\Mehmet\\Desktop\\new_splited_wheat_dataset\\tmp_train\\images\\OdeskaVitreous\\20220426_172234.jpg: corrupt JPEG restored and saved\n",
      "\u001b[34m\u001b[1mtrain: \u001b[0mWARNING  C:\\Users\\Mehmet\\Desktop\\new_splited_wheat_dataset\\tmp_train\\images\\OdeskaVitreous\\20220426_172236.jpg: corrupt JPEG restored and saved\n",
      "\u001b[34m\u001b[1mtrain: \u001b[0mWARNING  C:\\Users\\Mehmet\\Desktop\\new_splited_wheat_dataset\\tmp_train\\images\\OdeskaVitreous\\20220426_172246.jpg: corrupt JPEG restored and saved\n",
      "\u001b[34m\u001b[1mtrain: \u001b[0mWARNING  C:\\Users\\Mehmet\\Desktop\\new_splited_wheat_dataset\\tmp_train\\images\\OdeskaVitreous\\20220426_172248.jpg: corrupt JPEG restored and saved\n",
      "\u001b[34m\u001b[1mtrain: \u001b[0mWARNING  C:\\Users\\Mehmet\\Desktop\\new_splited_wheat_dataset\\tmp_train\\images\\OdeskaVitreous\\20220426_172251.jpg: corrupt JPEG restored and saved\n",
      "\u001b[34m\u001b[1mtrain: \u001b[0mWARNING  C:\\Users\\Mehmet\\Desktop\\new_splited_wheat_dataset\\tmp_train\\images\\OdeskaVitreous\\20220426_172317.jpg: corrupt JPEG restored and saved\n",
      "\u001b[34m\u001b[1mtrain: \u001b[0mWARNING  C:\\Users\\Mehmet\\Desktop\\new_splited_wheat_dataset\\tmp_train\\images\\OdeskaVitreous\\20220426_172321.jpg: corrupt JPEG restored and saved\n",
      "\u001b[34m\u001b[1mtrain: \u001b[0mWARNING  C:\\Users\\Mehmet\\Desktop\\new_splited_wheat_dataset\\tmp_train\\images\\OdeskaVitreous\\20220426_172326.jpg: corrupt JPEG restored and saved\n",
      "\u001b[34m\u001b[1mtrain: \u001b[0mWARNING  C:\\Users\\Mehmet\\Desktop\\new_splited_wheat_dataset\\tmp_train\\images\\OdeskaVitreous\\20220426_172329.jpg: corrupt JPEG restored and saved\n",
      "\u001b[34m\u001b[1mtrain: \u001b[0mWARNING  C:\\Users\\Mehmet\\Desktop\\new_splited_wheat_dataset\\tmp_train\\images\\OdeskaVitreous\\20220426_172331.jpg: corrupt JPEG restored and saved\n",
      "\u001b[34m\u001b[1mtrain: \u001b[0mWARNING  C:\\Users\\Mehmet\\Desktop\\new_splited_wheat_dataset\\tmp_train\\images\\OdeskaVitreous\\20220426_172334.jpg: corrupt JPEG restored and saved\n",
      "\u001b[34m\u001b[1mtrain: \u001b[0mWARNING  C:\\Users\\Mehmet\\Desktop\\new_splited_wheat_dataset\\tmp_train\\images\\OdeskaVitreous\\20220426_172339.jpg: corrupt JPEG restored and saved\n",
      "\u001b[34m\u001b[1mtrain: \u001b[0mWARNING  C:\\Users\\Mehmet\\Desktop\\new_splited_wheat_dataset\\tmp_train\\images\\OdeskaVitreous\\20220426_172341.jpg: corrupt JPEG restored and saved\n",
      "\u001b[34m\u001b[1mtrain: \u001b[0mWARNING  C:\\Users\\Mehmet\\Desktop\\new_splited_wheat_dataset\\tmp_train\\images\\OdeskaVitreous\\20220426_172343.jpg: corrupt JPEG restored and saved\n",
      "\u001b[34m\u001b[1mtrain: \u001b[0mWARNING  C:\\Users\\Mehmet\\Desktop\\new_splited_wheat_dataset\\tmp_train\\images\\OdeskaVitreous\\20220426_172345.jpg: corrupt JPEG restored and saved\n",
      "\u001b[34m\u001b[1mtrain: \u001b[0mWARNING  C:\\Users\\Mehmet\\Desktop\\new_splited_wheat_dataset\\tmp_train\\images\\OdeskaVitreous\\20220426_172348.jpg: corrupt JPEG restored and saved\n",
      "\u001b[34m\u001b[1mtrain: \u001b[0mWARNING  C:\\Users\\Mehmet\\Desktop\\new_splited_wheat_dataset\\tmp_train\\images\\OdeskaVitreous\\20220426_172351.jpg: corrupt JPEG restored and saved\n",
      "\u001b[34m\u001b[1mtrain: \u001b[0mWARNING  C:\\Users\\Mehmet\\Desktop\\new_splited_wheat_dataset\\tmp_train\\images\\OdeskaVitreous\\20220426_172354.jpg: corrupt JPEG restored and saved\n",
      "\u001b[34m\u001b[1mtrain: \u001b[0mWARNING  C:\\Users\\Mehmet\\Desktop\\new_splited_wheat_dataset\\tmp_train\\images\\OdeskaVitreous\\20220426_172356.jpg: corrupt JPEG restored and saved\n",
      "\u001b[34m\u001b[1mtrain: \u001b[0mWARNING  C:\\Users\\Mehmet\\Desktop\\new_splited_wheat_dataset\\tmp_train\\images\\OdeskaVitreous\\20220426_172359.jpg: corrupt JPEG restored and saved\n",
      "\u001b[34m\u001b[1mtrain: \u001b[0mWARNING  C:\\Users\\Mehmet\\Desktop\\new_splited_wheat_dataset\\tmp_train\\images\\OdeskaVitreous\\20220426_172401.jpg: corrupt JPEG restored and saved\n",
      "\u001b[34m\u001b[1mtrain: \u001b[0mWARNING  C:\\Users\\Mehmet\\Desktop\\new_splited_wheat_dataset\\tmp_train\\images\\OdeskaVitreous\\20220426_172417.jpg: corrupt JPEG restored and saved\n",
      "\u001b[34m\u001b[1mtrain: \u001b[0mWARNING  C:\\Users\\Mehmet\\Desktop\\new_splited_wheat_dataset\\tmp_train\\images\\OdeskaVitreous\\20220426_172419.jpg: corrupt JPEG restored and saved\n",
      "\u001b[34m\u001b[1mtrain: \u001b[0mWARNING  C:\\Users\\Mehmet\\Desktop\\new_splited_wheat_dataset\\tmp_train\\images\\OdeskaVitreous\\20220426_172421.jpg: corrupt JPEG restored and saved\n",
      "\u001b[34m\u001b[1mtrain: \u001b[0mWARNING  C:\\Users\\Mehmet\\Desktop\\new_splited_wheat_dataset\\tmp_train\\images\\OdeskaVitreous\\20220426_172423.jpg: corrupt JPEG restored and saved\n",
      "\u001b[34m\u001b[1mtrain: \u001b[0mWARNING  C:\\Users\\Mehmet\\Desktop\\new_splited_wheat_dataset\\tmp_train\\images\\OdeskaVitreous\\20220426_172425.jpg: corrupt JPEG restored and saved\n",
      "\u001b[34m\u001b[1mtrain: \u001b[0mWARNING  C:\\Users\\Mehmet\\Desktop\\new_splited_wheat_dataset\\tmp_train\\images\\OdeskaVitreous\\20220426_172433.jpg: corrupt JPEG restored and saved\n",
      "\u001b[34m\u001b[1mtrain: \u001b[0mWARNING  C:\\Users\\Mehmet\\Desktop\\new_splited_wheat_dataset\\tmp_train\\images\\OdeskaVitreous\\20220426_172451.jpg: corrupt JPEG restored and saved\n",
      "\u001b[34m\u001b[1mtrain: \u001b[0mWARNING  C:\\Users\\Mehmet\\Desktop\\new_splited_wheat_dataset\\tmp_train\\images\\OdeskaVitreous\\20220426_172453.jpg: corrupt JPEG restored and saved\n",
      "\u001b[34m\u001b[1mtrain: \u001b[0mWARNING  C:\\Users\\Mehmet\\Desktop\\new_splited_wheat_dataset\\tmp_train\\images\\OdeskaVitreous\\20220426_172457.jpg: corrupt JPEG restored and saved\n",
      "\u001b[34m\u001b[1mtrain: \u001b[0mWARNING  C:\\Users\\Mehmet\\Desktop\\new_splited_wheat_dataset\\tmp_train\\images\\OdeskaVitreous\\20220426_172502.jpg: corrupt JPEG restored and saved\n",
      "\u001b[34m\u001b[1mtrain: \u001b[0mWARNING  C:\\Users\\Mehmet\\Desktop\\new_splited_wheat_dataset\\tmp_train\\images\\OdeskaVitreous\\20220426_172505.jpg: corrupt JPEG restored and saved\n",
      "\u001b[34m\u001b[1mtrain: \u001b[0mWARNING  C:\\Users\\Mehmet\\Desktop\\new_splited_wheat_dataset\\tmp_train\\images\\OdeskaVitreous\\20220426_172507.jpg: corrupt JPEG restored and saved\n",
      "\u001b[34m\u001b[1mtrain: \u001b[0mWARNING  C:\\Users\\Mehmet\\Desktop\\new_splited_wheat_dataset\\tmp_train\\images\\OdeskaVitreous\\20220426_172509.jpg: corrupt JPEG restored and saved\n",
      "\u001b[34m\u001b[1mtrain: \u001b[0mWARNING  C:\\Users\\Mehmet\\Desktop\\new_splited_wheat_dataset\\tmp_train\\images\\OdeskaVitreous\\20220426_172528.jpg: corrupt JPEG restored and saved\n",
      "\u001b[34m\u001b[1mtrain: \u001b[0mWARNING  C:\\Users\\Mehmet\\Desktop\\new_splited_wheat_dataset\\tmp_train\\images\\OdeskaVitreous\\20220426_172532.jpg: corrupt JPEG restored and saved\n",
      "\u001b[34m\u001b[1mtrain: \u001b[0mWARNING  C:\\Users\\Mehmet\\Desktop\\new_splited_wheat_dataset\\tmp_train\\images\\OdeskaVitreous\\20220426_172535.jpg: corrupt JPEG restored and saved\n",
      "\u001b[34m\u001b[1mtrain: \u001b[0mWARNING  C:\\Users\\Mehmet\\Desktop\\new_splited_wheat_dataset\\tmp_train\\images\\OdeskaVitreous\\20220426_172537.jpg: corrupt JPEG restored and saved\n",
      "\u001b[34m\u001b[1mtrain: \u001b[0mWARNING  C:\\Users\\Mehmet\\Desktop\\new_splited_wheat_dataset\\tmp_train\\images\\OdeskaVitreous\\20220426_172540.jpg: corrupt JPEG restored and saved\n",
      "\u001b[34m\u001b[1mtrain: \u001b[0mWARNING  C:\\Users\\Mehmet\\Desktop\\new_splited_wheat_dataset\\tmp_train\\images\\OdeskaVitreous\\20220426_172552.jpg: corrupt JPEG restored and saved\n",
      "\u001b[34m\u001b[1mtrain: \u001b[0mWARNING  C:\\Users\\Mehmet\\Desktop\\new_splited_wheat_dataset\\tmp_train\\images\\OdeskaVitreous\\20220426_172556.jpg: corrupt JPEG restored and saved\n",
      "\u001b[34m\u001b[1mtrain: \u001b[0mWARNING  C:\\Users\\Mehmet\\Desktop\\new_splited_wheat_dataset\\tmp_train\\images\\OdeskaVitreous\\20220426_172559.jpg: corrupt JPEG restored and saved\n",
      "\u001b[34m\u001b[1mtrain: \u001b[0mWARNING  C:\\Users\\Mehmet\\Desktop\\new_splited_wheat_dataset\\tmp_train\\images\\OdeskaVitreous\\20220426_172601.jpg: corrupt JPEG restored and saved\n",
      "\u001b[34m\u001b[1mtrain: \u001b[0mWARNING  C:\\Users\\Mehmet\\Desktop\\new_splited_wheat_dataset\\tmp_train\\images\\OdeskaVitreous\\20220426_172603.jpg: corrupt JPEG restored and saved\n",
      "\u001b[34m\u001b[1mtrain: \u001b[0mWARNING  C:\\Users\\Mehmet\\Desktop\\new_splited_wheat_dataset\\tmp_train\\images\\OdeskaVitreous\\20220426_172606.jpg: corrupt JPEG restored and saved\n",
      "\u001b[34m\u001b[1mtrain: \u001b[0mWARNING  C:\\Users\\Mehmet\\Desktop\\new_splited_wheat_dataset\\tmp_train\\images\\OdeskaVitreous\\20220426_172610.jpg: corrupt JPEG restored and saved\n",
      "\u001b[34m\u001b[1mtrain: \u001b[0mWARNING  C:\\Users\\Mehmet\\Desktop\\new_splited_wheat_dataset\\tmp_train\\images\\OdeskaVitreous\\20220426_172613.jpg: corrupt JPEG restored and saved\n",
      "\u001b[34m\u001b[1mtrain: \u001b[0mWARNING  C:\\Users\\Mehmet\\Desktop\\new_splited_wheat_dataset\\tmp_train\\images\\OdeskaVitreous\\20220426_172617.jpg: corrupt JPEG restored and saved\n",
      "\u001b[34m\u001b[1mtrain: \u001b[0mWARNING  C:\\Users\\Mehmet\\Desktop\\new_splited_wheat_dataset\\tmp_train\\images\\OdeskaVitreous\\20220426_172620.jpg: corrupt JPEG restored and saved\n",
      "\u001b[34m\u001b[1mtrain: \u001b[0mWARNING  C:\\Users\\Mehmet\\Desktop\\new_splited_wheat_dataset\\tmp_train\\images\\OdeskaVitreous\\20220426_172623.jpg: corrupt JPEG restored and saved\n",
      "\u001b[34m\u001b[1mtrain: \u001b[0mWARNING  C:\\Users\\Mehmet\\Desktop\\new_splited_wheat_dataset\\tmp_train\\images\\OdeskaVitreous\\20220426_172631.jpg: corrupt JPEG restored and saved\n",
      "\u001b[34m\u001b[1mtrain: \u001b[0mWARNING  C:\\Users\\Mehmet\\Desktop\\new_splited_wheat_dataset\\tmp_train\\images\\OdeskaVitreous\\20220426_172638.jpg: corrupt JPEG restored and saved\n",
      "\u001b[34m\u001b[1mtrain: \u001b[0mWARNING  C:\\Users\\Mehmet\\Desktop\\new_splited_wheat_dataset\\tmp_train\\images\\OdeskaVitreous\\20220426_172640.jpg: corrupt JPEG restored and saved\n",
      "\u001b[34m\u001b[1mtrain: \u001b[0mWARNING  C:\\Users\\Mehmet\\Desktop\\new_splited_wheat_dataset\\tmp_train\\images\\OdeskaVitreous\\20220426_172642.jpg: corrupt JPEG restored and saved\n",
      "\u001b[34m\u001b[1mtrain: \u001b[0mWARNING  C:\\Users\\Mehmet\\Desktop\\new_splited_wheat_dataset\\tmp_train\\images\\OdeskaVitreous\\20220426_172645.jpg: corrupt JPEG restored and saved\n",
      "\u001b[34m\u001b[1mtrain: \u001b[0mWARNING  C:\\Users\\Mehmet\\Desktop\\new_splited_wheat_dataset\\tmp_train\\images\\OdeskaVitreous\\20220426_172647.jpg: corrupt JPEG restored and saved\n",
      "\u001b[34m\u001b[1mtrain: \u001b[0mWARNING  C:\\Users\\Mehmet\\Desktop\\new_splited_wheat_dataset\\tmp_train\\images\\OdeskaVitreous\\20220426_172649.jpg: corrupt JPEG restored and saved\n",
      "\u001b[34m\u001b[1mtrain: \u001b[0mWARNING  C:\\Users\\Mehmet\\Desktop\\new_splited_wheat_dataset\\tmp_train\\images\\OdeskaVitreous\\20220426_172651.jpg: corrupt JPEG restored and saved\n",
      "\u001b[34m\u001b[1mtrain: \u001b[0mWARNING  C:\\Users\\Mehmet\\Desktop\\new_splited_wheat_dataset\\tmp_train\\images\\OdeskaVitreous\\20220426_172659.jpg: corrupt JPEG restored and saved\n",
      "\u001b[34m\u001b[1mtrain: \u001b[0mWARNING  C:\\Users\\Mehmet\\Desktop\\new_splited_wheat_dataset\\tmp_train\\images\\OdeskaVitreous\\20220426_172701.jpg: corrupt JPEG restored and saved\n",
      "\u001b[34m\u001b[1mtrain: \u001b[0mWARNING  C:\\Users\\Mehmet\\Desktop\\new_splited_wheat_dataset\\tmp_train\\images\\OdeskaVitreous\\20220426_172706.jpg: corrupt JPEG restored and saved\n",
      "\u001b[34m\u001b[1mtrain: \u001b[0mWARNING  C:\\Users\\Mehmet\\Desktop\\new_splited_wheat_dataset\\tmp_train\\images\\OdeskaVitreous\\20220426_172708.jpg: corrupt JPEG restored and saved\n",
      "\u001b[34m\u001b[1mtrain: \u001b[0mWARNING  C:\\Users\\Mehmet\\Desktop\\new_splited_wheat_dataset\\tmp_train\\images\\OdeskaVitreous\\20220426_172713.jpg: corrupt JPEG restored and saved\n",
      "\u001b[34m\u001b[1mtrain: \u001b[0mWARNING  C:\\Users\\Mehmet\\Desktop\\new_splited_wheat_dataset\\tmp_train\\images\\OdeskaVitreous\\20220426_172718.jpg: corrupt JPEG restored and saved\n",
      "\u001b[34m\u001b[1mtrain: \u001b[0mWARNING  C:\\Users\\Mehmet\\Desktop\\new_splited_wheat_dataset\\tmp_train\\images\\OdeskaVitreous\\20220426_172724.jpg: corrupt JPEG restored and saved\n",
      "\u001b[34m\u001b[1mtrain: \u001b[0mWARNING  C:\\Users\\Mehmet\\Desktop\\new_splited_wheat_dataset\\tmp_train\\images\\RumeliVitreous\\20220427_120143.jpg: corrupt JPEG restored and saved\n",
      "\u001b[34m\u001b[1mtrain: \u001b[0mWARNING  C:\\Users\\Mehmet\\Desktop\\new_splited_wheat_dataset\\tmp_train\\images\\RumeliVitreous\\20220427_120149.jpg: corrupt JPEG restored and saved\n",
      "\u001b[34m\u001b[1mtrain: \u001b[0mWARNING  C:\\Users\\Mehmet\\Desktop\\new_splited_wheat_dataset\\tmp_train\\images\\RumeliVitreous\\20220427_120153.jpg: corrupt JPEG restored and saved\n",
      "\u001b[34m\u001b[1mtrain: \u001b[0mWARNING  C:\\Users\\Mehmet\\Desktop\\new_splited_wheat_dataset\\tmp_train\\images\\RumeliVitreous\\20220427_120155.jpg: corrupt JPEG restored and saved\n",
      "\u001b[34m\u001b[1mtrain: \u001b[0mWARNING  C:\\Users\\Mehmet\\Desktop\\new_splited_wheat_dataset\\tmp_train\\images\\RumeliVitreous\\20220427_120159.jpg: corrupt JPEG restored and saved\n",
      "\u001b[34m\u001b[1mtrain: \u001b[0mWARNING  C:\\Users\\Mehmet\\Desktop\\new_splited_wheat_dataset\\tmp_train\\images\\RumeliVitreous\\20220427_120205.jpg: corrupt JPEG restored and saved\n",
      "\u001b[34m\u001b[1mtrain: \u001b[0mWARNING  C:\\Users\\Mehmet\\Desktop\\new_splited_wheat_dataset\\tmp_train\\images\\RumeliVitreous\\20220427_120209.jpg: corrupt JPEG restored and saved\n",
      "\u001b[34m\u001b[1mtrain: \u001b[0mWARNING  C:\\Users\\Mehmet\\Desktop\\new_splited_wheat_dataset\\tmp_train\\images\\RumeliVitreous\\20220427_120212.jpg: corrupt JPEG restored and saved\n",
      "\u001b[34m\u001b[1mtrain: \u001b[0mWARNING  C:\\Users\\Mehmet\\Desktop\\new_splited_wheat_dataset\\tmp_train\\images\\RumeliVitreous\\20220427_120214.jpg: corrupt JPEG restored and saved\n",
      "\u001b[34m\u001b[1mtrain: \u001b[0mWARNING  C:\\Users\\Mehmet\\Desktop\\new_splited_wheat_dataset\\tmp_train\\images\\RumeliVitreous\\20220427_120216.jpg: corrupt JPEG restored and saved\n",
      "\u001b[34m\u001b[1mtrain: \u001b[0mWARNING  C:\\Users\\Mehmet\\Desktop\\new_splited_wheat_dataset\\tmp_train\\images\\RumeliVitreous\\20220427_120223.jpg: corrupt JPEG restored and saved\n",
      "\u001b[34m\u001b[1mtrain: \u001b[0mWARNING  C:\\Users\\Mehmet\\Desktop\\new_splited_wheat_dataset\\tmp_train\\images\\RumeliVitreous\\20220427_120229.jpg: corrupt JPEG restored and saved\n",
      "\u001b[34m\u001b[1mtrain: \u001b[0mWARNING  C:\\Users\\Mehmet\\Desktop\\new_splited_wheat_dataset\\tmp_train\\images\\RumeliVitreous\\20220427_120233.jpg: corrupt JPEG restored and saved\n",
      "\u001b[34m\u001b[1mtrain: \u001b[0mWARNING  C:\\Users\\Mehmet\\Desktop\\new_splited_wheat_dataset\\tmp_train\\images\\RumeliVitreous\\20220427_120247.jpg: corrupt JPEG restored and saved\n",
      "\u001b[34m\u001b[1mtrain: \u001b[0mWARNING  C:\\Users\\Mehmet\\Desktop\\new_splited_wheat_dataset\\tmp_train\\images\\RumeliVitreous\\20220427_120253.jpg: corrupt JPEG restored and saved\n",
      "\u001b[34m\u001b[1mtrain: \u001b[0mWARNING  C:\\Users\\Mehmet\\Desktop\\new_splited_wheat_dataset\\tmp_train\\images\\RumeliVitreous\\20220427_120254.jpg: corrupt JPEG restored and saved\n",
      "\u001b[34m\u001b[1mtrain: \u001b[0mWARNING  C:\\Users\\Mehmet\\Desktop\\new_splited_wheat_dataset\\tmp_train\\images\\RumeliVitreous\\20220427_120258.jpg: corrupt JPEG restored and saved\n",
      "\u001b[34m\u001b[1mtrain: \u001b[0mWARNING  C:\\Users\\Mehmet\\Desktop\\new_splited_wheat_dataset\\tmp_train\\images\\RumeliVitreous\\20220427_120307.jpg: corrupt JPEG restored and saved\n",
      "\u001b[34m\u001b[1mtrain: \u001b[0mWARNING  C:\\Users\\Mehmet\\Desktop\\new_splited_wheat_dataset\\tmp_train\\images\\RumeliVitreous\\20220427_120314.jpg: corrupt JPEG restored and saved\n",
      "\u001b[34m\u001b[1mtrain: \u001b[0mWARNING  C:\\Users\\Mehmet\\Desktop\\new_splited_wheat_dataset\\tmp_train\\images\\RumeliVitreous\\20220427_120317.jpg: corrupt JPEG restored and saved\n",
      "\u001b[34m\u001b[1mtrain: \u001b[0mWARNING  C:\\Users\\Mehmet\\Desktop\\new_splited_wheat_dataset\\tmp_train\\images\\RumeliVitreous\\20220427_120329.jpg: corrupt JPEG restored and saved\n",
      "\u001b[34m\u001b[1mtrain: \u001b[0mWARNING  C:\\Users\\Mehmet\\Desktop\\new_splited_wheat_dataset\\tmp_train\\images\\RumeliVitreous\\20220427_120332.jpg: corrupt JPEG restored and saved\n",
      "\u001b[34m\u001b[1mtrain: \u001b[0mWARNING  C:\\Users\\Mehmet\\Desktop\\new_splited_wheat_dataset\\tmp_train\\images\\RumeliVitreous\\20220427_120336.jpg: corrupt JPEG restored and saved\n",
      "\u001b[34m\u001b[1mtrain: \u001b[0mWARNING  C:\\Users\\Mehmet\\Desktop\\new_splited_wheat_dataset\\tmp_train\\images\\RumeliVitreous\\20220427_120341.jpg: corrupt JPEG restored and saved\n",
      "\u001b[34m\u001b[1mtrain: \u001b[0mWARNING  C:\\Users\\Mehmet\\Desktop\\new_splited_wheat_dataset\\tmp_train\\images\\RumeliVitreous\\20220427_120417.jpg: corrupt JPEG restored and saved\n",
      "\u001b[34m\u001b[1mtrain: \u001b[0mWARNING  C:\\Users\\Mehmet\\Desktop\\new_splited_wheat_dataset\\tmp_train\\images\\RumeliVitreous\\20220427_120419.jpg: corrupt JPEG restored and saved\n",
      "\u001b[34m\u001b[1mtrain: \u001b[0mWARNING  C:\\Users\\Mehmet\\Desktop\\new_splited_wheat_dataset\\tmp_train\\images\\RumeliVitreous\\20220427_120423.jpg: corrupt JPEG restored and saved\n",
      "\u001b[34m\u001b[1mtrain: \u001b[0mWARNING  C:\\Users\\Mehmet\\Desktop\\new_splited_wheat_dataset\\tmp_train\\images\\RumeliVitreous\\20220427_120425.jpg: corrupt JPEG restored and saved\n",
      "\u001b[34m\u001b[1mtrain: \u001b[0mWARNING  C:\\Users\\Mehmet\\Desktop\\new_splited_wheat_dataset\\tmp_train\\images\\RumeliVitreous\\20220427_120428.jpg: corrupt JPEG restored and saved\n",
      "\u001b[34m\u001b[1mtrain: \u001b[0mWARNING  C:\\Users\\Mehmet\\Desktop\\new_splited_wheat_dataset\\tmp_train\\images\\RumeliVitreous\\20220427_120430.jpg: corrupt JPEG restored and saved\n",
      "\u001b[34m\u001b[1mtrain: \u001b[0mWARNING  C:\\Users\\Mehmet\\Desktop\\new_splited_wheat_dataset\\tmp_train\\images\\RumeliVitreous\\20220427_120437.jpg: corrupt JPEG restored and saved\n",
      "\u001b[34m\u001b[1mtrain: \u001b[0mWARNING  C:\\Users\\Mehmet\\Desktop\\new_splited_wheat_dataset\\tmp_train\\images\\RumeliVitreous\\20220427_120450.jpg: corrupt JPEG restored and saved\n",
      "\u001b[34m\u001b[1mtrain: \u001b[0mWARNING  C:\\Users\\Mehmet\\Desktop\\new_splited_wheat_dataset\\tmp_train\\images\\RumeliVitreous\\20220427_120452.jpg: corrupt JPEG restored and saved\n",
      "\u001b[34m\u001b[1mtrain: \u001b[0mWARNING  C:\\Users\\Mehmet\\Desktop\\new_splited_wheat_dataset\\tmp_train\\images\\RumeliVitreous\\20220427_120457.jpg: corrupt JPEG restored and saved\n",
      "\u001b[34m\u001b[1mtrain: \u001b[0mWARNING  C:\\Users\\Mehmet\\Desktop\\new_splited_wheat_dataset\\tmp_train\\images\\RumeliVitreous\\20220427_120459.jpg: corrupt JPEG restored and saved\n",
      "\u001b[34m\u001b[1mtrain: \u001b[0mWARNING  C:\\Users\\Mehmet\\Desktop\\new_splited_wheat_dataset\\tmp_train\\images\\RumeliVitreous\\20220427_120504.jpg: corrupt JPEG restored and saved\n",
      "\u001b[34m\u001b[1mtrain: \u001b[0mWARNING  C:\\Users\\Mehmet\\Desktop\\new_splited_wheat_dataset\\tmp_train\\images\\RumeliVitreous\\20220427_120508.jpg: corrupt JPEG restored and saved\n",
      "\u001b[34m\u001b[1mtrain: \u001b[0mWARNING  C:\\Users\\Mehmet\\Desktop\\new_splited_wheat_dataset\\tmp_train\\images\\RumeliVitreous\\20220427_120511.jpg: corrupt JPEG restored and saved\n",
      "\u001b[34m\u001b[1mtrain: \u001b[0mWARNING  C:\\Users\\Mehmet\\Desktop\\new_splited_wheat_dataset\\tmp_train\\images\\RumeliVitreous\\20220427_120513.jpg: corrupt JPEG restored and saved\n",
      "\u001b[34m\u001b[1mtrain: \u001b[0mWARNING  C:\\Users\\Mehmet\\Desktop\\new_splited_wheat_dataset\\tmp_train\\images\\RumeliVitreous\\20220427_120521.jpg: corrupt JPEG restored and saved\n",
      "\u001b[34m\u001b[1mtrain: \u001b[0mWARNING  C:\\Users\\Mehmet\\Desktop\\new_splited_wheat_dataset\\tmp_train\\images\\RumeliVitreous\\20220427_120526.jpg: corrupt JPEG restored and saved\n",
      "\u001b[34m\u001b[1mtrain: \u001b[0mWARNING  C:\\Users\\Mehmet\\Desktop\\new_splited_wheat_dataset\\tmp_train\\images\\RumeliVitreous\\20220427_120532.jpg: corrupt JPEG restored and saved\n",
      "\u001b[34m\u001b[1mtrain: \u001b[0mWARNING  C:\\Users\\Mehmet\\Desktop\\new_splited_wheat_dataset\\tmp_train\\images\\RumeliVitreous\\20220427_120537.jpg: corrupt JPEG restored and saved\n",
      "\u001b[34m\u001b[1mtrain: \u001b[0mWARNING  C:\\Users\\Mehmet\\Desktop\\new_splited_wheat_dataset\\tmp_train\\images\\RumeliVitreous\\20220427_120544.jpg: corrupt JPEG restored and saved\n",
      "\u001b[34m\u001b[1mtrain: \u001b[0mWARNING  C:\\Users\\Mehmet\\Desktop\\new_splited_wheat_dataset\\tmp_train\\images\\RumeliVitreous\\20220427_120555.jpg: corrupt JPEG restored and saved\n",
      "\u001b[34m\u001b[1mtrain: \u001b[0mWARNING  C:\\Users\\Mehmet\\Desktop\\new_splited_wheat_dataset\\tmp_train\\images\\RumeliVitreous\\20220427_120601.jpg: corrupt JPEG restored and saved\n",
      "\u001b[34m\u001b[1mtrain: \u001b[0mWARNING  C:\\Users\\Mehmet\\Desktop\\new_splited_wheat_dataset\\tmp_train\\images\\RumeliVitreous\\20220427_120603.jpg: corrupt JPEG restored and saved\n",
      "\u001b[34m\u001b[1mtrain: \u001b[0mWARNING  C:\\Users\\Mehmet\\Desktop\\new_splited_wheat_dataset\\tmp_train\\images\\RumeliVitreous\\20220427_120606.jpg: corrupt JPEG restored and saved\n",
      "\u001b[34m\u001b[1mtrain: \u001b[0mWARNING  C:\\Users\\Mehmet\\Desktop\\new_splited_wheat_dataset\\tmp_train\\images\\RumeliVitreous\\20220427_120607.jpg: corrupt JPEG restored and saved\n",
      "\u001b[34m\u001b[1mtrain: \u001b[0mWARNING  C:\\Users\\Mehmet\\Desktop\\new_splited_wheat_dataset\\tmp_train\\images\\RumeliVitreous\\20220427_120610.jpg: corrupt JPEG restored and saved\n",
      "\u001b[34m\u001b[1mtrain: \u001b[0mWARNING  C:\\Users\\Mehmet\\Desktop\\new_splited_wheat_dataset\\tmp_train\\images\\RumeliVitreous\\20220427_120613.jpg: corrupt JPEG restored and saved\n",
      "\u001b[34m\u001b[1mtrain: \u001b[0mWARNING  C:\\Users\\Mehmet\\Desktop\\new_splited_wheat_dataset\\tmp_train\\images\\RumeliVitreous\\20220427_120617.jpg: corrupt JPEG restored and saved\n",
      "\u001b[34m\u001b[1mtrain: \u001b[0mWARNING  C:\\Users\\Mehmet\\Desktop\\new_splited_wheat_dataset\\tmp_train\\images\\RumeliVitreous\\20220427_120619.jpg: corrupt JPEG restored and saved\n",
      "\u001b[34m\u001b[1mtrain: \u001b[0mWARNING  C:\\Users\\Mehmet\\Desktop\\new_splited_wheat_dataset\\tmp_train\\images\\RumeliVitreous\\20220427_120621.jpg: corrupt JPEG restored and saved\n",
      "\u001b[34m\u001b[1mtrain: \u001b[0mWARNING  C:\\Users\\Mehmet\\Desktop\\new_splited_wheat_dataset\\tmp_train\\images\\RumeliVitreous\\20220427_120626.jpg: corrupt JPEG restored and saved\n",
      "\u001b[34m\u001b[1mtrain: \u001b[0mWARNING  C:\\Users\\Mehmet\\Desktop\\new_splited_wheat_dataset\\tmp_train\\images\\RumeliVitreous\\20220427_120628.jpg: corrupt JPEG restored and saved\n",
      "\u001b[34m\u001b[1mtrain: \u001b[0mWARNING  C:\\Users\\Mehmet\\Desktop\\new_splited_wheat_dataset\\tmp_train\\images\\RumeliVitreous\\20220427_120630.jpg: corrupt JPEG restored and saved\n",
      "\u001b[34m\u001b[1mtrain: \u001b[0mWARNING  C:\\Users\\Mehmet\\Desktop\\new_splited_wheat_dataset\\tmp_train\\images\\RumeliVitreous\\20220427_120634.jpg: corrupt JPEG restored and saved\n",
      "\u001b[34m\u001b[1mtrain: \u001b[0mWARNING  C:\\Users\\Mehmet\\Desktop\\new_splited_wheat_dataset\\tmp_train\\images\\RumeliVitreous\\20220427_120650.jpg: corrupt JPEG restored and saved\n",
      "\u001b[34m\u001b[1mtrain: \u001b[0mWARNING  C:\\Users\\Mehmet\\Desktop\\new_splited_wheat_dataset\\tmp_train\\images\\RumeliVitreous\\20220427_120654.jpg: corrupt JPEG restored and saved\n",
      "\u001b[34m\u001b[1mtrain: \u001b[0mWARNING  C:\\Users\\Mehmet\\Desktop\\new_splited_wheat_dataset\\tmp_train\\images\\SelimiyeVitreous\\20220425_165106.jpg: corrupt JPEG restored and saved\n",
      "\u001b[34m\u001b[1mtrain: \u001b[0mWARNING  C:\\Users\\Mehmet\\Desktop\\new_splited_wheat_dataset\\tmp_train\\images\\SelimiyeVitreous\\20220425_165111.jpg: corrupt JPEG restored and saved\n",
      "\u001b[34m\u001b[1mtrain: \u001b[0mWARNING  C:\\Users\\Mehmet\\Desktop\\new_splited_wheat_dataset\\tmp_train\\images\\SelimiyeVitreous\\20220425_165113.jpg: corrupt JPEG restored and saved\n",
      "\u001b[34m\u001b[1mtrain: \u001b[0mWARNING  C:\\Users\\Mehmet\\Desktop\\new_splited_wheat_dataset\\tmp_train\\images\\SelimiyeVitreous\\20220425_165117.jpg: corrupt JPEG restored and saved\n",
      "\u001b[34m\u001b[1mtrain: \u001b[0mWARNING  C:\\Users\\Mehmet\\Desktop\\new_splited_wheat_dataset\\tmp_train\\images\\SelimiyeVitreous\\20220425_165121.jpg: corrupt JPEG restored and saved\n",
      "\u001b[34m\u001b[1mtrain: \u001b[0mWARNING  C:\\Users\\Mehmet\\Desktop\\new_splited_wheat_dataset\\tmp_train\\images\\SelimiyeVitreous\\20220425_165124.jpg: corrupt JPEG restored and saved\n",
      "\u001b[34m\u001b[1mtrain: \u001b[0mWARNING  C:\\Users\\Mehmet\\Desktop\\new_splited_wheat_dataset\\tmp_train\\images\\SelimiyeVitreous\\20220425_165126.jpg: corrupt JPEG restored and saved\n",
      "\u001b[34m\u001b[1mtrain: \u001b[0mWARNING  C:\\Users\\Mehmet\\Desktop\\new_splited_wheat_dataset\\tmp_train\\images\\SelimiyeVitreous\\20220425_165130.jpg: corrupt JPEG restored and saved\n",
      "\u001b[34m\u001b[1mtrain: \u001b[0mWARNING  C:\\Users\\Mehmet\\Desktop\\new_splited_wheat_dataset\\tmp_train\\images\\SelimiyeVitreous\\20220425_165133.jpg: corrupt JPEG restored and saved\n",
      "\u001b[34m\u001b[1mtrain: \u001b[0mWARNING  C:\\Users\\Mehmet\\Desktop\\new_splited_wheat_dataset\\tmp_train\\images\\SelimiyeVitreous\\20220425_165135.jpg: corrupt JPEG restored and saved\n",
      "\u001b[34m\u001b[1mtrain: \u001b[0mWARNING  C:\\Users\\Mehmet\\Desktop\\new_splited_wheat_dataset\\tmp_train\\images\\SelimiyeVitreous\\20220425_165139.jpg: corrupt JPEG restored and saved\n",
      "\u001b[34m\u001b[1mtrain: \u001b[0mWARNING  C:\\Users\\Mehmet\\Desktop\\new_splited_wheat_dataset\\tmp_train\\images\\SelimiyeVitreous\\20220425_165143.jpg: corrupt JPEG restored and saved\n",
      "\u001b[34m\u001b[1mtrain: \u001b[0mWARNING  C:\\Users\\Mehmet\\Desktop\\new_splited_wheat_dataset\\tmp_train\\images\\SelimiyeVitreous\\20220425_165145.jpg: corrupt JPEG restored and saved\n",
      "\u001b[34m\u001b[1mtrain: \u001b[0mWARNING  C:\\Users\\Mehmet\\Desktop\\new_splited_wheat_dataset\\tmp_train\\images\\SelimiyeVitreous\\20220425_165148.jpg: corrupt JPEG restored and saved\n",
      "\u001b[34m\u001b[1mtrain: \u001b[0mWARNING  C:\\Users\\Mehmet\\Desktop\\new_splited_wheat_dataset\\tmp_train\\images\\SelimiyeVitreous\\20220425_165157.jpg: corrupt JPEG restored and saved\n",
      "\u001b[34m\u001b[1mtrain: \u001b[0mWARNING  C:\\Users\\Mehmet\\Desktop\\new_splited_wheat_dataset\\tmp_train\\images\\SelimiyeVitreous\\20220425_165204.jpg: corrupt JPEG restored and saved\n",
      "\u001b[34m\u001b[1mtrain: \u001b[0mWARNING  C:\\Users\\Mehmet\\Desktop\\new_splited_wheat_dataset\\tmp_train\\images\\SelimiyeVitreous\\20220425_165208.jpg: corrupt JPEG restored and saved\n",
      "\u001b[34m\u001b[1mtrain: \u001b[0mWARNING  C:\\Users\\Mehmet\\Desktop\\new_splited_wheat_dataset\\tmp_train\\images\\SelimiyeVitreous\\20220425_165210.jpg: corrupt JPEG restored and saved\n",
      "\u001b[34m\u001b[1mtrain: \u001b[0mWARNING  C:\\Users\\Mehmet\\Desktop\\new_splited_wheat_dataset\\tmp_train\\images\\SelimiyeVitreous\\20220425_165216.jpg: corrupt JPEG restored and saved\n",
      "\u001b[34m\u001b[1mtrain: \u001b[0mWARNING  C:\\Users\\Mehmet\\Desktop\\new_splited_wheat_dataset\\tmp_train\\images\\SelimiyeVitreous\\20220425_165228.jpg: corrupt JPEG restored and saved\n",
      "\u001b[34m\u001b[1mtrain: \u001b[0mWARNING  C:\\Users\\Mehmet\\Desktop\\new_splited_wheat_dataset\\tmp_train\\images\\SelimiyeVitreous\\20220425_165231.jpg: corrupt JPEG restored and saved\n",
      "\u001b[34m\u001b[1mtrain: \u001b[0mWARNING  C:\\Users\\Mehmet\\Desktop\\new_splited_wheat_dataset\\tmp_train\\images\\SelimiyeVitreous\\20220425_165233.jpg: corrupt JPEG restored and saved\n",
      "\u001b[34m\u001b[1mtrain: \u001b[0mWARNING  C:\\Users\\Mehmet\\Desktop\\new_splited_wheat_dataset\\tmp_train\\images\\SelimiyeVitreous\\20220425_165236.jpg: corrupt JPEG restored and saved\n",
      "\u001b[34m\u001b[1mtrain: \u001b[0mWARNING  C:\\Users\\Mehmet\\Desktop\\new_splited_wheat_dataset\\tmp_train\\images\\SelimiyeVitreous\\20220425_165242.jpg: corrupt JPEG restored and saved\n",
      "\u001b[34m\u001b[1mtrain: \u001b[0mWARNING  C:\\Users\\Mehmet\\Desktop\\new_splited_wheat_dataset\\tmp_train\\images\\SelimiyeVitreous\\20220425_165245.jpg: corrupt JPEG restored and saved\n",
      "\u001b[34m\u001b[1mtrain: \u001b[0mWARNING  C:\\Users\\Mehmet\\Desktop\\new_splited_wheat_dataset\\tmp_train\\images\\SelimiyeVitreous\\20220425_165248.jpg: corrupt JPEG restored and saved\n",
      "\u001b[34m\u001b[1mtrain: \u001b[0mWARNING  C:\\Users\\Mehmet\\Desktop\\new_splited_wheat_dataset\\tmp_train\\images\\SelimiyeVitreous\\20220425_165305.jpg: corrupt JPEG restored and saved\n",
      "\u001b[34m\u001b[1mtrain: \u001b[0mWARNING  C:\\Users\\Mehmet\\Desktop\\new_splited_wheat_dataset\\tmp_train\\images\\SelimiyeVitreous\\20220425_165307.jpg: corrupt JPEG restored and saved\n",
      "\u001b[34m\u001b[1mtrain: \u001b[0mWARNING  C:\\Users\\Mehmet\\Desktop\\new_splited_wheat_dataset\\tmp_train\\images\\SelimiyeVitreous\\20220425_165309.jpg: corrupt JPEG restored and saved\n",
      "\u001b[34m\u001b[1mtrain: \u001b[0mWARNING  C:\\Users\\Mehmet\\Desktop\\new_splited_wheat_dataset\\tmp_train\\images\\SelimiyeVitreous\\20220425_165313.jpg: corrupt JPEG restored and saved\n",
      "\u001b[34m\u001b[1mtrain: \u001b[0mWARNING  C:\\Users\\Mehmet\\Desktop\\new_splited_wheat_dataset\\tmp_train\\images\\SelimiyeVitreous\\20220425_165316.jpg: corrupt JPEG restored and saved\n",
      "\u001b[34m\u001b[1mtrain: \u001b[0mWARNING  C:\\Users\\Mehmet\\Desktop\\new_splited_wheat_dataset\\tmp_train\\images\\SelimiyeVitreous\\20220425_165319.jpg: corrupt JPEG restored and saved\n",
      "\u001b[34m\u001b[1mtrain: \u001b[0mWARNING  C:\\Users\\Mehmet\\Desktop\\new_splited_wheat_dataset\\tmp_train\\images\\SelimiyeVitreous\\20220425_165321.jpg: corrupt JPEG restored and saved\n",
      "\u001b[34m\u001b[1mtrain: \u001b[0mWARNING  C:\\Users\\Mehmet\\Desktop\\new_splited_wheat_dataset\\tmp_train\\images\\SelimiyeVitreous\\20220425_165326.jpg: corrupt JPEG restored and saved\n",
      "\u001b[34m\u001b[1mtrain: \u001b[0mWARNING  C:\\Users\\Mehmet\\Desktop\\new_splited_wheat_dataset\\tmp_train\\images\\SelimiyeVitreous\\20220425_165332.jpg: corrupt JPEG restored and saved\n",
      "\u001b[34m\u001b[1mtrain: \u001b[0mWARNING  C:\\Users\\Mehmet\\Desktop\\new_splited_wheat_dataset\\tmp_train\\images\\SelimiyeVitreous\\20220425_165340.jpg: corrupt JPEG restored and saved\n",
      "\u001b[34m\u001b[1mtrain: \u001b[0mWARNING  C:\\Users\\Mehmet\\Desktop\\new_splited_wheat_dataset\\tmp_train\\images\\SelimiyeVitreous\\20220425_165346.jpg: corrupt JPEG restored and saved\n",
      "\u001b[34m\u001b[1mtrain: \u001b[0mWARNING  C:\\Users\\Mehmet\\Desktop\\new_splited_wheat_dataset\\tmp_train\\images\\SelimiyeVitreous\\20220425_165348.jpg: corrupt JPEG restored and saved\n",
      "\u001b[34m\u001b[1mtrain: \u001b[0mWARNING  C:\\Users\\Mehmet\\Desktop\\new_splited_wheat_dataset\\tmp_train\\images\\SelimiyeVitreous\\20220425_165353.jpg: corrupt JPEG restored and saved\n",
      "\u001b[34m\u001b[1mtrain: \u001b[0mWARNING  C:\\Users\\Mehmet\\Desktop\\new_splited_wheat_dataset\\tmp_train\\images\\SelimiyeVitreous\\20220425_165357.jpg: corrupt JPEG restored and saved\n",
      "\u001b[34m\u001b[1mtrain: \u001b[0mWARNING  C:\\Users\\Mehmet\\Desktop\\new_splited_wheat_dataset\\tmp_train\\images\\SelimiyeVitreous\\20220425_165402.jpg: corrupt JPEG restored and saved\n",
      "\u001b[34m\u001b[1mtrain: \u001b[0mWARNING  C:\\Users\\Mehmet\\Desktop\\new_splited_wheat_dataset\\tmp_train\\images\\SelimiyeVitreous\\20220425_165407.jpg: corrupt JPEG restored and saved\n",
      "\u001b[34m\u001b[1mtrain: \u001b[0mWARNING  C:\\Users\\Mehmet\\Desktop\\new_splited_wheat_dataset\\tmp_train\\images\\SelimiyeVitreous\\20220425_165416.jpg: corrupt JPEG restored and saved\n",
      "\u001b[34m\u001b[1mtrain: \u001b[0mWARNING  C:\\Users\\Mehmet\\Desktop\\new_splited_wheat_dataset\\tmp_train\\images\\SelimiyeVitreous\\20220425_165418.jpg: corrupt JPEG restored and saved\n",
      "\u001b[34m\u001b[1mtrain: \u001b[0mWARNING  C:\\Users\\Mehmet\\Desktop\\new_splited_wheat_dataset\\tmp_train\\images\\SelimiyeVitreous\\20220425_165420.jpg: corrupt JPEG restored and saved\n",
      "\u001b[34m\u001b[1mtrain: \u001b[0mWARNING  C:\\Users\\Mehmet\\Desktop\\new_splited_wheat_dataset\\tmp_train\\images\\SelimiyeVitreous\\20220425_165427.jpg: corrupt JPEG restored and saved\n",
      "\u001b[34m\u001b[1mtrain: \u001b[0mWARNING  C:\\Users\\Mehmet\\Desktop\\new_splited_wheat_dataset\\tmp_train\\images\\SelimiyeVitreous\\20220425_165433.jpg: corrupt JPEG restored and saved\n",
      "\u001b[34m\u001b[1mtrain: \u001b[0mWARNING  C:\\Users\\Mehmet\\Desktop\\new_splited_wheat_dataset\\tmp_train\\images\\SelimiyeVitreous\\20220425_165438.jpg: corrupt JPEG restored and saved\n",
      "\u001b[34m\u001b[1mtrain: \u001b[0mWARNING  C:\\Users\\Mehmet\\Desktop\\new_splited_wheat_dataset\\tmp_train\\images\\SelimiyeVitreous\\20220425_165441.jpg: corrupt JPEG restored and saved\n",
      "\u001b[34m\u001b[1mtrain: \u001b[0mWARNING  C:\\Users\\Mehmet\\Desktop\\new_splited_wheat_dataset\\tmp_train\\images\\SelimiyeVitreous\\20220425_165451.jpg: corrupt JPEG restored and saved\n",
      "\u001b[34m\u001b[1mtrain: \u001b[0mWARNING  C:\\Users\\Mehmet\\Desktop\\new_splited_wheat_dataset\\tmp_train\\images\\SelimiyeVitreous\\20220425_165454.jpg: corrupt JPEG restored and saved\n",
      "\u001b[34m\u001b[1mtrain: \u001b[0mWARNING  C:\\Users\\Mehmet\\Desktop\\new_splited_wheat_dataset\\tmp_train\\images\\SelimiyeVitreous\\20220425_165457.jpg: corrupt JPEG restored and saved\n",
      "\u001b[34m\u001b[1mtrain: \u001b[0mWARNING  C:\\Users\\Mehmet\\Desktop\\new_splited_wheat_dataset\\tmp_train\\images\\SelimiyeVitreous\\20220425_165500.jpg: corrupt JPEG restored and saved\n",
      "\u001b[34m\u001b[1mtrain: \u001b[0mWARNING  C:\\Users\\Mehmet\\Desktop\\new_splited_wheat_dataset\\tmp_train\\images\\SelimiyeVitreous\\20220425_165503.jpg: corrupt JPEG restored and saved\n",
      "\u001b[34m\u001b[1mtrain: \u001b[0mWARNING  C:\\Users\\Mehmet\\Desktop\\new_splited_wheat_dataset\\tmp_train\\images\\SelimiyeVitreous\\20220425_165507.jpg: corrupt JPEG restored and saved\n",
      "\u001b[34m\u001b[1mtrain: \u001b[0mWARNING  C:\\Users\\Mehmet\\Desktop\\new_splited_wheat_dataset\\tmp_train\\images\\SelimiyeVitreous\\20220425_165510.jpg: corrupt JPEG restored and saved\n",
      "\u001b[34m\u001b[1mtrain: \u001b[0mWARNING  C:\\Users\\Mehmet\\Desktop\\new_splited_wheat_dataset\\tmp_train\\images\\SelimiyeVitreous\\20220425_165512.jpg: corrupt JPEG restored and saved\n",
      "\u001b[34m\u001b[1mtrain: \u001b[0mWARNING  C:\\Users\\Mehmet\\Desktop\\new_splited_wheat_dataset\\tmp_train\\images\\SelimiyeVitreous\\20220425_165514.jpg: corrupt JPEG restored and saved\n",
      "\u001b[34m\u001b[1mtrain: \u001b[0mWARNING  C:\\Users\\Mehmet\\Desktop\\new_splited_wheat_dataset\\tmp_train\\images\\SelimiyeVitreous\\20220425_165518.jpg: corrupt JPEG restored and saved\n",
      "\u001b[34m\u001b[1mtrain: \u001b[0mWARNING  C:\\Users\\Mehmet\\Desktop\\new_splited_wheat_dataset\\tmp_train\\images\\SelimiyeVitreous\\20220425_165522.jpg: corrupt JPEG restored and saved\n",
      "\u001b[34m\u001b[1mtrain: \u001b[0mWARNING  C:\\Users\\Mehmet\\Desktop\\new_splited_wheat_dataset\\tmp_train\\images\\SelimiyeVitreous\\20220425_165525.jpg: corrupt JPEG restored and saved\n",
      "\u001b[34m\u001b[1mtrain: \u001b[0mWARNING  C:\\Users\\Mehmet\\Desktop\\new_splited_wheat_dataset\\tmp_train\\images\\SelimiyeVitreous\\20220425_165542.jpg: corrupt JPEG restored and saved\n",
      "\u001b[34m\u001b[1mtrain: \u001b[0mWARNING  C:\\Users\\Mehmet\\Desktop\\new_splited_wheat_dataset\\tmp_train\\images\\SelimiyeVitreous\\20220425_165544.jpg: corrupt JPEG restored and saved\n",
      "\u001b[34m\u001b[1mtrain: \u001b[0mWARNING  C:\\Users\\Mehmet\\Desktop\\new_splited_wheat_dataset\\tmp_train\\images\\SelimiyeVitreous\\20220425_165550.jpg: corrupt JPEG restored and saved\n",
      "\u001b[34m\u001b[1mtrain: \u001b[0mWARNING  C:\\Users\\Mehmet\\Desktop\\new_splited_wheat_dataset\\tmp_train\\images\\SelimiyeVitreous\\20220425_165553.jpg: corrupt JPEG restored and saved\n",
      "\u001b[34m\u001b[1mtrain: \u001b[0mWARNING  C:\\Users\\Mehmet\\Desktop\\new_splited_wheat_dataset\\tmp_train\\images\\SelimiyeVitreous\\20220425_165559.jpg: corrupt JPEG restored and saved\n",
      "\u001b[34m\u001b[1mtrain: \u001b[0mWARNING  C:\\Users\\Mehmet\\Desktop\\new_splited_wheat_dataset\\tmp_train\\images\\SelimiyeVitreous\\20220425_165602.jpg: corrupt JPEG restored and saved\n",
      "\u001b[34m\u001b[1mtrain: \u001b[0mWARNING  C:\\Users\\Mehmet\\Desktop\\new_splited_wheat_dataset\\tmp_train\\images\\SelimiyeVitreous\\20220425_165609.jpg: corrupt JPEG restored and saved\n",
      "\u001b[34m\u001b[1mtrain: \u001b[0mWARNING  C:\\Users\\Mehmet\\Desktop\\new_splited_wheat_dataset\\tmp_train\\images\\SelimiyeVitreous\\20220425_165618.jpg: corrupt JPEG restored and saved\n",
      "\u001b[34m\u001b[1mtrain: \u001b[0mWARNING  C:\\Users\\Mehmet\\Desktop\\new_splited_wheat_dataset\\tmp_train\\images\\SelimiyeVitreous\\20220425_165631.jpg: corrupt JPEG restored and saved\n",
      "\u001b[34m\u001b[1mtrain: \u001b[0mWARNING  C:\\Users\\Mehmet\\Desktop\\new_splited_wheat_dataset\\tmp_train\\images\\SelimiyeVitreous\\20220425_165635.jpg: corrupt JPEG restored and saved\n",
      "\u001b[34m\u001b[1mtrain: \u001b[0mWARNING  C:\\Users\\Mehmet\\Desktop\\new_splited_wheat_dataset\\tmp_train\\images\\SelimiyeVitreous\\20220425_165637.jpg: corrupt JPEG restored and saved\n",
      "\u001b[34m\u001b[1mtrain: \u001b[0mWARNING  C:\\Users\\Mehmet\\Desktop\\new_splited_wheat_dataset\\tmp_train\\images\\SelimiyeVitreous\\20220425_165643.jpg: corrupt JPEG restored and saved\n",
      "\u001b[34m\u001b[1mtrain: \u001b[0mWARNING  C:\\Users\\Mehmet\\Desktop\\new_splited_wheat_dataset\\tmp_train\\images\\SelimiyeVitreous\\20220425_165702.jpg: corrupt JPEG restored and saved\n",
      "\u001b[34m\u001b[1mtrain: \u001b[0mWARNING  C:\\Users\\Mehmet\\Desktop\\new_splited_wheat_dataset\\tmp_train\\images\\SelimiyeVitreous\\20220425_165705.jpg: corrupt JPEG restored and saved\n",
      "\u001b[34m\u001b[1mtrain: \u001b[0mWARNING  C:\\Users\\Mehmet\\Desktop\\new_splited_wheat_dataset\\tmp_train\\images\\SelimiyeVitreous\\20220425_165707.jpg: corrupt JPEG restored and saved\n",
      "\u001b[34m\u001b[1mtrain: \u001b[0mWARNING  C:\\Users\\Mehmet\\Desktop\\new_splited_wheat_dataset\\tmp_train\\images\\SelimiyeVitreous\\20220425_165730.jpg: corrupt JPEG restored and saved\n",
      "\u001b[34m\u001b[1mtrain: \u001b[0mWARNING  C:\\Users\\Mehmet\\Desktop\\new_splited_wheat_dataset\\tmp_train\\images\\SelimiyeVitreous\\20220425_165733.jpg: corrupt JPEG restored and saved\n",
      "\u001b[34m\u001b[1mtrain: \u001b[0mWARNING  C:\\Users\\Mehmet\\Desktop\\new_splited_wheat_dataset\\tmp_train\\images\\SelimiyeVitreous\\20220425_165736.jpg: corrupt JPEG restored and saved\n",
      "\u001b[34m\u001b[1mtrain: \u001b[0mWARNING  C:\\Users\\Mehmet\\Desktop\\new_splited_wheat_dataset\\tmp_train\\images\\SelimiyeVitreous\\20220425_165742.jpg: corrupt JPEG restored and saved\n",
      "\u001b[34m\u001b[1mtrain: \u001b[0mNew cache created: C:\\Users\\Mehmet\\Desktop\\new_splited_wheat_dataset\\tmp_train\\labels\\Bayraktar2000Vitreous.cache\n"
     ]
    },
    {
     "name": "stderr",
     "output_type": "stream",
     "text": [
      "\n",
      "\u001b[34m\u001b[1mval: \u001b[0mScanning C:\\Users\\Mehmet\\Desktop\\new_splited_wheat_dataset\\tmp_val\\labels\\Bayraktar2000Vitreous... 169 images, 0 backgrounds, 0 corrupt: 100%|██████████| 169/169 [00:20<00:00,  8.29it/s]"
     ]
    },
    {
     "name": "stdout",
     "output_type": "stream",
     "text": [
      "\u001b[34m\u001b[1mval: \u001b[0mWARNING  C:\\Users\\Mehmet\\Desktop\\new_splited_wheat_dataset\\tmp_val\\images\\Bayraktar2000Vitreous\\20220426_144726.jpg: corrupt JPEG restored and saved\n",
      "\u001b[34m\u001b[1mval: \u001b[0mWARNING  C:\\Users\\Mehmet\\Desktop\\new_splited_wheat_dataset\\tmp_val\\images\\Bayraktar2000Vitreous\\20220426_144737.jpg: corrupt JPEG restored and saved\n",
      "\u001b[34m\u001b[1mval: \u001b[0mWARNING  C:\\Users\\Mehmet\\Desktop\\new_splited_wheat_dataset\\tmp_val\\images\\Bayraktar2000Vitreous\\20220426_144759.jpg: corrupt JPEG restored and saved\n",
      "\u001b[34m\u001b[1mval: \u001b[0mWARNING  C:\\Users\\Mehmet\\Desktop\\new_splited_wheat_dataset\\tmp_val\\images\\Bayraktar2000Vitreous\\20220426_144806.jpg: corrupt JPEG restored and saved\n",
      "\u001b[34m\u001b[1mval: \u001b[0mWARNING  C:\\Users\\Mehmet\\Desktop\\new_splited_wheat_dataset\\tmp_val\\images\\Bayraktar2000Vitreous\\20220426_144814.jpg: corrupt JPEG restored and saved\n",
      "\u001b[34m\u001b[1mval: \u001b[0mWARNING  C:\\Users\\Mehmet\\Desktop\\new_splited_wheat_dataset\\tmp_val\\images\\Bayraktar2000Vitreous\\20220426_144834.jpg: corrupt JPEG restored and saved\n",
      "\u001b[34m\u001b[1mval: \u001b[0mWARNING  C:\\Users\\Mehmet\\Desktop\\new_splited_wheat_dataset\\tmp_val\\images\\Bayraktar2000Vitreous\\20220426_144844.jpg: corrupt JPEG restored and saved\n",
      "\u001b[34m\u001b[1mval: \u001b[0mWARNING  C:\\Users\\Mehmet\\Desktop\\new_splited_wheat_dataset\\tmp_val\\images\\Bayraktar2000Vitreous\\20220426_144856.jpg: corrupt JPEG restored and saved\n",
      "\u001b[34m\u001b[1mval: \u001b[0mWARNING  C:\\Users\\Mehmet\\Desktop\\new_splited_wheat_dataset\\tmp_val\\images\\Bayraktar2000Vitreous\\20220426_145008.jpg: corrupt JPEG restored and saved\n",
      "\u001b[34m\u001b[1mval: \u001b[0mWARNING  C:\\Users\\Mehmet\\Desktop\\new_splited_wheat_dataset\\tmp_val\\images\\Bayraktar2000Vitreous\\20220426_145119.jpg: corrupt JPEG restored and saved\n",
      "\u001b[34m\u001b[1mval: \u001b[0mWARNING  C:\\Users\\Mehmet\\Desktop\\new_splited_wheat_dataset\\tmp_val\\images\\Bayraktar2000Vitreous\\20220426_145137.jpg: corrupt JPEG restored and saved\n",
      "\u001b[34m\u001b[1mval: \u001b[0mWARNING  C:\\Users\\Mehmet\\Desktop\\new_splited_wheat_dataset\\tmp_val\\images\\Bayraktar2000Vitreous\\20220426_145215.jpg: corrupt JPEG restored and saved\n",
      "\u001b[34m\u001b[1mval: \u001b[0mWARNING  C:\\Users\\Mehmet\\Desktop\\new_splited_wheat_dataset\\tmp_val\\images\\Bayraktar2000Vitreous\\20220426_145237.jpg: corrupt JPEG restored and saved\n",
      "\u001b[34m\u001b[1mval: \u001b[0mWARNING  C:\\Users\\Mehmet\\Desktop\\new_splited_wheat_dataset\\tmp_val\\images\\Bayraktar2000Vitreous\\20220426_145306.jpg: corrupt JPEG restored and saved\n",
      "\u001b[34m\u001b[1mval: \u001b[0mWARNING  C:\\Users\\Mehmet\\Desktop\\new_splited_wheat_dataset\\tmp_val\\images\\Bayraktar2000Vitreous\\20220426_145353.jpg: corrupt JPEG restored and saved\n",
      "\u001b[34m\u001b[1mval: \u001b[0mWARNING  C:\\Users\\Mehmet\\Desktop\\new_splited_wheat_dataset\\tmp_val\\images\\Bezostaja1Vitreous\\20220425_152340.jpg: corrupt JPEG restored and saved\n",
      "\u001b[34m\u001b[1mval: \u001b[0mWARNING  C:\\Users\\Mehmet\\Desktop\\new_splited_wheat_dataset\\tmp_val\\images\\Bezostaja1Vitreous\\20220425_152407.jpg: corrupt JPEG restored and saved\n",
      "\u001b[34m\u001b[1mval: \u001b[0mWARNING  C:\\Users\\Mehmet\\Desktop\\new_splited_wheat_dataset\\tmp_val\\images\\Bezostaja1Vitreous\\20220425_152429.jpg: corrupt JPEG restored and saved\n",
      "\u001b[34m\u001b[1mval: \u001b[0mWARNING  C:\\Users\\Mehmet\\Desktop\\new_splited_wheat_dataset\\tmp_val\\images\\Bezostaja1Vitreous\\20220425_152522.jpg: corrupt JPEG restored and saved\n",
      "\u001b[34m\u001b[1mval: \u001b[0mWARNING  C:\\Users\\Mehmet\\Desktop\\new_splited_wheat_dataset\\tmp_val\\images\\Bezostaja1Vitreous\\20220425_152557.jpg: corrupt JPEG restored and saved\n",
      "\u001b[34m\u001b[1mval: \u001b[0mWARNING  C:\\Users\\Mehmet\\Desktop\\new_splited_wheat_dataset\\tmp_val\\images\\Bezostaja1Vitreous\\20220425_152601.jpg: corrupt JPEG restored and saved\n",
      "\u001b[34m\u001b[1mval: \u001b[0mWARNING  C:\\Users\\Mehmet\\Desktop\\new_splited_wheat_dataset\\tmp_val\\images\\Bezostaja1Vitreous\\20220425_152645.jpg: corrupt JPEG restored and saved\n",
      "\u001b[34m\u001b[1mval: \u001b[0mWARNING  C:\\Users\\Mehmet\\Desktop\\new_splited_wheat_dataset\\tmp_val\\images\\Bezostaja1Vitreous\\20220425_152647.jpg: corrupt JPEG restored and saved\n",
      "\u001b[34m\u001b[1mval: \u001b[0mWARNING  C:\\Users\\Mehmet\\Desktop\\new_splited_wheat_dataset\\tmp_val\\images\\Bezostaja1Vitreous\\20220425_152650.jpg: corrupt JPEG restored and saved\n",
      "\u001b[34m\u001b[1mval: \u001b[0mWARNING  C:\\Users\\Mehmet\\Desktop\\new_splited_wheat_dataset\\tmp_val\\images\\Bezostaja1Vitreous\\20220425_154606.jpg: corrupt JPEG restored and saved\n",
      "\u001b[34m\u001b[1mval: \u001b[0mWARNING  C:\\Users\\Mehmet\\Desktop\\new_splited_wheat_dataset\\tmp_val\\images\\Bezostaja1Vitreous\\20220425_154612.jpg: corrupt JPEG restored and saved\n",
      "\u001b[34m\u001b[1mval: \u001b[0mWARNING  C:\\Users\\Mehmet\\Desktop\\new_splited_wheat_dataset\\tmp_val\\images\\Bezostaja1Vitreous\\20220425_154628.jpg: corrupt JPEG restored and saved\n",
      "\u001b[34m\u001b[1mval: \u001b[0mWARNING  C:\\Users\\Mehmet\\Desktop\\new_splited_wheat_dataset\\tmp_val\\images\\Bezostaja1Vitreous\\20220425_154640.jpg: corrupt JPEG restored and saved\n",
      "\u001b[34m\u001b[1mval: \u001b[0mWARNING  C:\\Users\\Mehmet\\Desktop\\new_splited_wheat_dataset\\tmp_val\\images\\Bezostaja1Vitreous\\20220425_154652.jpg: corrupt JPEG restored and saved\n",
      "\u001b[34m\u001b[1mval: \u001b[0mWARNING  C:\\Users\\Mehmet\\Desktop\\new_splited_wheat_dataset\\tmp_val\\images\\Bezostaja1Vitreous\\20220425_154654.jpg: corrupt JPEG restored and saved\n",
      "\u001b[34m\u001b[1mval: \u001b[0mWARNING  C:\\Users\\Mehmet\\Desktop\\new_splited_wheat_dataset\\tmp_val\\images\\Delabrad2Vitreous\\20220427_122116.jpg: corrupt JPEG restored and saved\n",
      "\u001b[34m\u001b[1mval: \u001b[0mWARNING  C:\\Users\\Mehmet\\Desktop\\new_splited_wheat_dataset\\tmp_val\\images\\Delabrad2Vitreous\\20220427_122129.jpg: corrupt JPEG restored and saved\n",
      "\u001b[34m\u001b[1mval: \u001b[0mWARNING  C:\\Users\\Mehmet\\Desktop\\new_splited_wheat_dataset\\tmp_val\\images\\Delabrad2Vitreous\\20220427_122206.jpg: corrupt JPEG restored and saved\n",
      "\u001b[34m\u001b[1mval: \u001b[0mWARNING  C:\\Users\\Mehmet\\Desktop\\new_splited_wheat_dataset\\tmp_val\\images\\Delabrad2Vitreous\\20220427_122212.jpg: corrupt JPEG restored and saved\n",
      "\u001b[34m\u001b[1mval: \u001b[0mWARNING  C:\\Users\\Mehmet\\Desktop\\new_splited_wheat_dataset\\tmp_val\\images\\Delabrad2Vitreous\\20220427_122214.jpg: corrupt JPEG restored and saved\n",
      "\u001b[34m\u001b[1mval: \u001b[0mWARNING  C:\\Users\\Mehmet\\Desktop\\new_splited_wheat_dataset\\tmp_val\\images\\Delabrad2Vitreous\\20220427_122216.jpg: corrupt JPEG restored and saved\n",
      "\u001b[34m\u001b[1mval: \u001b[0mWARNING  C:\\Users\\Mehmet\\Desktop\\new_splited_wheat_dataset\\tmp_val\\images\\Delabrad2Vitreous\\20220427_122251.jpg: corrupt JPEG restored and saved\n",
      "\u001b[34m\u001b[1mval: \u001b[0mWARNING  C:\\Users\\Mehmet\\Desktop\\new_splited_wheat_dataset\\tmp_val\\images\\Delabrad2Vitreous\\20220427_122311.jpg: corrupt JPEG restored and saved\n",
      "\u001b[34m\u001b[1mval: \u001b[0mWARNING  C:\\Users\\Mehmet\\Desktop\\new_splited_wheat_dataset\\tmp_val\\images\\Delabrad2Vitreous\\20220427_122319.jpg: corrupt JPEG restored and saved\n",
      "\u001b[34m\u001b[1mval: \u001b[0mWARNING  C:\\Users\\Mehmet\\Desktop\\new_splited_wheat_dataset\\tmp_val\\images\\Delabrad2Vitreous\\20220427_122346.jpg: corrupt JPEG restored and saved\n",
      "\u001b[34m\u001b[1mval: \u001b[0mWARNING  C:\\Users\\Mehmet\\Desktop\\new_splited_wheat_dataset\\tmp_val\\images\\Delabrad2Vitreous\\20220427_122420.jpg: corrupt JPEG restored and saved\n",
      "\u001b[34m\u001b[1mval: \u001b[0mWARNING  C:\\Users\\Mehmet\\Desktop\\new_splited_wheat_dataset\\tmp_val\\images\\Delabrad2Vitreous\\20220427_122517.jpg: corrupt JPEG restored and saved\n",
      "\u001b[34m\u001b[1mval: \u001b[0mWARNING  C:\\Users\\Mehmet\\Desktop\\new_splited_wheat_dataset\\tmp_val\\images\\Delabrad2Vitreous\\20220427_122521.jpg: corrupt JPEG restored and saved\n",
      "\u001b[34m\u001b[1mval: \u001b[0mWARNING  C:\\Users\\Mehmet\\Desktop\\new_splited_wheat_dataset\\tmp_val\\images\\Delabrad2Vitreous\\20220427_122545.jpg: corrupt JPEG restored and saved\n",
      "\u001b[34m\u001b[1mval: \u001b[0mWARNING  C:\\Users\\Mehmet\\Desktop\\new_splited_wheat_dataset\\tmp_val\\images\\Delabrad2Vitreous\\20220427_122623.jpg: corrupt JPEG restored and saved\n",
      "\u001b[34m\u001b[1mval: \u001b[0mWARNING  C:\\Users\\Mehmet\\Desktop\\new_splited_wheat_dataset\\tmp_val\\images\\Delabrad2Vitreous\\20220427_122625.jpg: corrupt JPEG restored and saved\n",
      "\u001b[34m\u001b[1mval: \u001b[0mWARNING  C:\\Users\\Mehmet\\Desktop\\new_splited_wheat_dataset\\tmp_val\\images\\Delabrad2Vitreous\\20220427_122627.jpg: corrupt JPEG restored and saved\n",
      "\u001b[34m\u001b[1mval: \u001b[0mWARNING  C:\\Users\\Mehmet\\Desktop\\new_splited_wheat_dataset\\tmp_val\\images\\Delabrad2Vitreous\\20220427_122704.jpg: corrupt JPEG restored and saved\n",
      "\u001b[34m\u001b[1mval: \u001b[0mWARNING  C:\\Users\\Mehmet\\Desktop\\new_splited_wheat_dataset\\tmp_val\\images\\EkizVitreous\\20220426_163555.jpg: corrupt JPEG restored and saved\n",
      "\u001b[34m\u001b[1mval: \u001b[0mWARNING  C:\\Users\\Mehmet\\Desktop\\new_splited_wheat_dataset\\tmp_val\\images\\EkizVitreous\\20220426_163631.jpg: corrupt JPEG restored and saved\n",
      "\u001b[34m\u001b[1mval: \u001b[0mWARNING  C:\\Users\\Mehmet\\Desktop\\new_splited_wheat_dataset\\tmp_val\\images\\EkizVitreous\\20220426_163634.jpg: corrupt JPEG restored and saved\n",
      "\u001b[34m\u001b[1mval: \u001b[0mWARNING  C:\\Users\\Mehmet\\Desktop\\new_splited_wheat_dataset\\tmp_val\\images\\EkizVitreous\\20220426_163658.jpg: corrupt JPEG restored and saved\n",
      "\u001b[34m\u001b[1mval: \u001b[0mWARNING  C:\\Users\\Mehmet\\Desktop\\new_splited_wheat_dataset\\tmp_val\\images\\EkizVitreous\\20220426_163703.jpg: corrupt JPEG restored and saved\n",
      "\u001b[34m\u001b[1mval: \u001b[0mWARNING  C:\\Users\\Mehmet\\Desktop\\new_splited_wheat_dataset\\tmp_val\\images\\EkizVitreous\\20220426_163751.jpg: corrupt JPEG restored and saved\n",
      "\u001b[34m\u001b[1mval: \u001b[0mWARNING  C:\\Users\\Mehmet\\Desktop\\new_splited_wheat_dataset\\tmp_val\\images\\EkizVitreous\\20220426_163813.jpg: corrupt JPEG restored and saved\n",
      "\u001b[34m\u001b[1mval: \u001b[0mWARNING  C:\\Users\\Mehmet\\Desktop\\new_splited_wheat_dataset\\tmp_val\\images\\EkizVitreous\\20220426_163818.jpg: corrupt JPEG restored and saved\n",
      "\u001b[34m\u001b[1mval: \u001b[0mWARNING  C:\\Users\\Mehmet\\Desktop\\new_splited_wheat_dataset\\tmp_val\\images\\EkizVitreous\\20220426_163832.jpg: corrupt JPEG restored and saved\n",
      "\u001b[34m\u001b[1mval: \u001b[0mWARNING  C:\\Users\\Mehmet\\Desktop\\new_splited_wheat_dataset\\tmp_val\\images\\EkizVitreous\\20220426_163841.jpg: corrupt JPEG restored and saved\n",
      "\u001b[34m\u001b[1mval: \u001b[0mWARNING  C:\\Users\\Mehmet\\Desktop\\new_splited_wheat_dataset\\tmp_val\\images\\EkizVitreous\\20220426_163844.jpg: corrupt JPEG restored and saved\n",
      "\u001b[34m\u001b[1mval: \u001b[0mWARNING  C:\\Users\\Mehmet\\Desktop\\new_splited_wheat_dataset\\tmp_val\\images\\EkizVitreous\\20220426_163912.jpg: corrupt JPEG restored and saved\n",
      "\u001b[34m\u001b[1mval: \u001b[0mWARNING  C:\\Users\\Mehmet\\Desktop\\new_splited_wheat_dataset\\tmp_val\\images\\EkizVitreous\\20220426_163926.jpg: corrupt JPEG restored and saved\n",
      "\u001b[34m\u001b[1mval: \u001b[0mWARNING  C:\\Users\\Mehmet\\Desktop\\new_splited_wheat_dataset\\tmp_val\\images\\EkizVitreous\\20220426_163955.jpg: corrupt JPEG restored and saved\n",
      "\u001b[34m\u001b[1mval: \u001b[0mWARNING  C:\\Users\\Mehmet\\Desktop\\new_splited_wheat_dataset\\tmp_val\\images\\EkizVitreous\\20220426_164011.jpg: corrupt JPEG restored and saved\n",
      "\u001b[34m\u001b[1mval: \u001b[0mWARNING  C:\\Users\\Mehmet\\Desktop\\new_splited_wheat_dataset\\tmp_val\\images\\EkizVitreous\\20220426_164013.jpg: corrupt JPEG restored and saved\n",
      "\u001b[34m\u001b[1mval: \u001b[0mWARNING  C:\\Users\\Mehmet\\Desktop\\new_splited_wheat_dataset\\tmp_val\\images\\EkizVitreous\\20220426_164019.jpg: corrupt JPEG restored and saved\n",
      "\u001b[34m\u001b[1mval: \u001b[0mWARNING  C:\\Users\\Mehmet\\Desktop\\new_splited_wheat_dataset\\tmp_val\\images\\EkizVitreous\\20220426_164038.jpg: corrupt JPEG restored and saved\n",
      "\u001b[34m\u001b[1mval: \u001b[0mWARNING  C:\\Users\\Mehmet\\Desktop\\new_splited_wheat_dataset\\tmp_val\\images\\EkizVitreous\\20220426_164049.jpg: corrupt JPEG restored and saved\n",
      "\u001b[34m\u001b[1mval: \u001b[0mWARNING  C:\\Users\\Mehmet\\Desktop\\new_splited_wheat_dataset\\tmp_val\\images\\EkizVitreous\\20220426_164111.jpg: corrupt JPEG restored and saved\n",
      "\u001b[34m\u001b[1mval: \u001b[0mWARNING  C:\\Users\\Mehmet\\Desktop\\new_splited_wheat_dataset\\tmp_val\\images\\EkizVitreous\\20220426_164123.jpg: corrupt JPEG restored and saved\n",
      "\u001b[34m\u001b[1mval: \u001b[0mWARNING  C:\\Users\\Mehmet\\Desktop\\new_splited_wheat_dataset\\tmp_val\\images\\EkizVitreous\\20220426_164126.jpg: corrupt JPEG restored and saved\n",
      "\u001b[34m\u001b[1mval: \u001b[0mWARNING  C:\\Users\\Mehmet\\Desktop\\new_splited_wheat_dataset\\tmp_val\\images\\EkizVitreous\\20220426_164135.jpg: corrupt JPEG restored and saved\n",
      "\u001b[34m\u001b[1mval: \u001b[0mWARNING  C:\\Users\\Mehmet\\Desktop\\new_splited_wheat_dataset\\tmp_val\\images\\EsperiaVitreous\\20220425_171017.jpg: corrupt JPEG restored and saved\n",
      "\u001b[34m\u001b[1mval: \u001b[0mWARNING  C:\\Users\\Mehmet\\Desktop\\new_splited_wheat_dataset\\tmp_val\\images\\EsperiaVitreous\\20220425_171033.jpg: corrupt JPEG restored and saved\n",
      "\u001b[34m\u001b[1mval: \u001b[0mWARNING  C:\\Users\\Mehmet\\Desktop\\new_splited_wheat_dataset\\tmp_val\\images\\EsperiaVitreous\\20220425_171038.jpg: corrupt JPEG restored and saved\n",
      "\u001b[34m\u001b[1mval: \u001b[0mWARNING  C:\\Users\\Mehmet\\Desktop\\new_splited_wheat_dataset\\tmp_val\\images\\EsperiaVitreous\\20220425_171120.jpg: corrupt JPEG restored and saved\n",
      "\u001b[34m\u001b[1mval: \u001b[0mWARNING  C:\\Users\\Mehmet\\Desktop\\new_splited_wheat_dataset\\tmp_val\\images\\EsperiaVitreous\\20220425_171146.jpg: corrupt JPEG restored and saved\n",
      "\u001b[34m\u001b[1mval: \u001b[0mWARNING  C:\\Users\\Mehmet\\Desktop\\new_splited_wheat_dataset\\tmp_val\\images\\EsperiaVitreous\\20220425_171149.jpg: corrupt JPEG restored and saved\n",
      "\u001b[34m\u001b[1mval: \u001b[0mWARNING  C:\\Users\\Mehmet\\Desktop\\new_splited_wheat_dataset\\tmp_val\\images\\EsperiaVitreous\\20220425_171157.jpg: corrupt JPEG restored and saved\n",
      "\u001b[34m\u001b[1mval: \u001b[0mWARNING  C:\\Users\\Mehmet\\Desktop\\new_splited_wheat_dataset\\tmp_val\\images\\EsperiaVitreous\\20220425_171225.jpg: corrupt JPEG restored and saved\n",
      "\u001b[34m\u001b[1mval: \u001b[0mWARNING  C:\\Users\\Mehmet\\Desktop\\new_splited_wheat_dataset\\tmp_val\\images\\EsperiaVitreous\\20220425_171232.jpg: corrupt JPEG restored and saved\n",
      "\u001b[34m\u001b[1mval: \u001b[0mWARNING  C:\\Users\\Mehmet\\Desktop\\new_splited_wheat_dataset\\tmp_val\\images\\EsperiaVitreous\\20220425_171258.jpg: corrupt JPEG restored and saved\n",
      "\u001b[34m\u001b[1mval: \u001b[0mWARNING  C:\\Users\\Mehmet\\Desktop\\new_splited_wheat_dataset\\tmp_val\\images\\EsperiaVitreous\\20220425_171301.jpg: corrupt JPEG restored and saved\n",
      "\u001b[34m\u001b[1mval: \u001b[0mWARNING  C:\\Users\\Mehmet\\Desktop\\new_splited_wheat_dataset\\tmp_val\\images\\EsperiaVitreous\\20220425_171303.jpg: corrupt JPEG restored and saved\n",
      "\u001b[34m\u001b[1mval: \u001b[0mWARNING  C:\\Users\\Mehmet\\Desktop\\new_splited_wheat_dataset\\tmp_val\\images\\EsperiaVitreous\\20220425_171404.jpg: corrupt JPEG restored and saved\n",
      "\u001b[34m\u001b[1mval: \u001b[0mWARNING  C:\\Users\\Mehmet\\Desktop\\new_splited_wheat_dataset\\tmp_val\\images\\EsperiaVitreous\\20220425_171411.jpg: corrupt JPEG restored and saved\n",
      "\u001b[34m\u001b[1mval: \u001b[0mWARNING  C:\\Users\\Mehmet\\Desktop\\new_splited_wheat_dataset\\tmp_val\\images\\EsperiaVitreous\\20220425_171427.jpg: corrupt JPEG restored and saved\n",
      "\u001b[34m\u001b[1mval: \u001b[0mWARNING  C:\\Users\\Mehmet\\Desktop\\new_splited_wheat_dataset\\tmp_val\\images\\EsperiaVitreous\\20220425_171438.jpg: corrupt JPEG restored and saved\n",
      "\u001b[34m\u001b[1mval: \u001b[0mWARNING  C:\\Users\\Mehmet\\Desktop\\new_splited_wheat_dataset\\tmp_val\\images\\EsperiaVitreous\\20220425_171504.jpg: corrupt JPEG restored and saved\n",
      "\u001b[34m\u001b[1mval: \u001b[0mWARNING  C:\\Users\\Mehmet\\Desktop\\new_splited_wheat_dataset\\tmp_val\\images\\EsperiaVitreous\\20220425_171507.jpg: corrupt JPEG restored and saved\n",
      "\u001b[34m\u001b[1mval: \u001b[0mWARNING  C:\\Users\\Mehmet\\Desktop\\new_splited_wheat_dataset\\tmp_val\\images\\KiziltanVitreous\\20220426_154726.jpg: corrupt JPEG restored and saved\n",
      "\u001b[34m\u001b[1mval: \u001b[0mWARNING  C:\\Users\\Mehmet\\Desktop\\new_splited_wheat_dataset\\tmp_val\\images\\KiziltanVitreous\\20220426_154743.jpg: corrupt JPEG restored and saved\n",
      "\u001b[34m\u001b[1mval: \u001b[0mWARNING  C:\\Users\\Mehmet\\Desktop\\new_splited_wheat_dataset\\tmp_val\\images\\KiziltanVitreous\\20220426_154751.jpg: corrupt JPEG restored and saved\n",
      "\u001b[34m\u001b[1mval: \u001b[0mWARNING  C:\\Users\\Mehmet\\Desktop\\new_splited_wheat_dataset\\tmp_val\\images\\KiziltanVitreous\\20220426_154753.jpg: corrupt JPEG restored and saved\n",
      "\u001b[34m\u001b[1mval: \u001b[0mWARNING  C:\\Users\\Mehmet\\Desktop\\new_splited_wheat_dataset\\tmp_val\\images\\KiziltanVitreous\\20220426_154804.jpg: corrupt JPEG restored and saved\n",
      "\u001b[34m\u001b[1mval: \u001b[0mWARNING  C:\\Users\\Mehmet\\Desktop\\new_splited_wheat_dataset\\tmp_val\\images\\KiziltanVitreous\\20220426_154854.jpg: corrupt JPEG restored and saved\n",
      "\u001b[34m\u001b[1mval: \u001b[0mWARNING  C:\\Users\\Mehmet\\Desktop\\new_splited_wheat_dataset\\tmp_val\\images\\KiziltanVitreous\\20220426_154857.jpg: corrupt JPEG restored and saved\n",
      "\u001b[34m\u001b[1mval: \u001b[0mWARNING  C:\\Users\\Mehmet\\Desktop\\new_splited_wheat_dataset\\tmp_val\\images\\KiziltanVitreous\\20220426_154942.jpg: corrupt JPEG restored and saved\n",
      "\u001b[34m\u001b[1mval: \u001b[0mWARNING  C:\\Users\\Mehmet\\Desktop\\new_splited_wheat_dataset\\tmp_val\\images\\KiziltanVitreous\\20220426_155000.jpg: corrupt JPEG restored and saved\n",
      "\u001b[34m\u001b[1mval: \u001b[0mWARNING  C:\\Users\\Mehmet\\Desktop\\new_splited_wheat_dataset\\tmp_val\\images\\KiziltanVitreous\\20220426_155015.jpg: corrupt JPEG restored and saved\n",
      "\u001b[34m\u001b[1mval: \u001b[0mWARNING  C:\\Users\\Mehmet\\Desktop\\new_splited_wheat_dataset\\tmp_val\\images\\KiziltanVitreous\\20220426_160340.jpg: corrupt JPEG restored and saved\n",
      "\u001b[34m\u001b[1mval: \u001b[0mWARNING  C:\\Users\\Mehmet\\Desktop\\new_splited_wheat_dataset\\tmp_val\\images\\KiziltanVitreous\\20220426_160358.jpg: corrupt JPEG restored and saved\n",
      "\u001b[34m\u001b[1mval: \u001b[0mWARNING  C:\\Users\\Mehmet\\Desktop\\new_splited_wheat_dataset\\tmp_val\\images\\KiziltanVitreous\\20220426_160518.jpg: corrupt JPEG restored and saved\n",
      "\u001b[34m\u001b[1mval: \u001b[0mWARNING  C:\\Users\\Mehmet\\Desktop\\new_splited_wheat_dataset\\tmp_val\\images\\KiziltanVitreous\\20220426_160523.jpg: corrupt JPEG restored and saved\n",
      "\u001b[34m\u001b[1mval: \u001b[0mWARNING  C:\\Users\\Mehmet\\Desktop\\new_splited_wheat_dataset\\tmp_val\\images\\KiziltanVitreous\\20220426_160531.jpg: corrupt JPEG restored and saved\n",
      "\u001b[34m\u001b[1mval: \u001b[0mWARNING  C:\\Users\\Mehmet\\Desktop\\new_splited_wheat_dataset\\tmp_val\\images\\KiziltanVitreous\\20220426_160547.jpg: corrupt JPEG restored and saved\n",
      "\u001b[34m\u001b[1mval: \u001b[0mWARNING  C:\\Users\\Mehmet\\Desktop\\new_splited_wheat_dataset\\tmp_val\\images\\KiziltanVitreous\\20220426_160617.jpg: corrupt JPEG restored and saved\n",
      "\u001b[34m\u001b[1mval: \u001b[0mWARNING  C:\\Users\\Mehmet\\Desktop\\new_splited_wheat_dataset\\tmp_val\\images\\LucillaVitreous\\20220426_175147.jpg: corrupt JPEG restored and saved\n",
      "\u001b[34m\u001b[1mval: \u001b[0mWARNING  C:\\Users\\Mehmet\\Desktop\\new_splited_wheat_dataset\\tmp_val\\images\\LucillaVitreous\\20220426_175257.jpg: corrupt JPEG restored and saved\n",
      "\u001b[34m\u001b[1mval: \u001b[0mWARNING  C:\\Users\\Mehmet\\Desktop\\new_splited_wheat_dataset\\tmp_val\\images\\LucillaVitreous\\20220426_175308.jpg: corrupt JPEG restored and saved\n",
      "\u001b[34m\u001b[1mval: \u001b[0mWARNING  C:\\Users\\Mehmet\\Desktop\\new_splited_wheat_dataset\\tmp_val\\images\\LucillaVitreous\\20220426_175316.jpg: corrupt JPEG restored and saved\n",
      "\u001b[34m\u001b[1mval: \u001b[0mWARNING  C:\\Users\\Mehmet\\Desktop\\new_splited_wheat_dataset\\tmp_val\\images\\LucillaVitreous\\20220426_175319.jpg: corrupt JPEG restored and saved\n",
      "\u001b[34m\u001b[1mval: \u001b[0mWARNING  C:\\Users\\Mehmet\\Desktop\\new_splited_wheat_dataset\\tmp_val\\images\\LucillaVitreous\\20220426_175325.jpg: corrupt JPEG restored and saved\n",
      "\u001b[34m\u001b[1mval: \u001b[0mWARNING  C:\\Users\\Mehmet\\Desktop\\new_splited_wheat_dataset\\tmp_val\\images\\LucillaVitreous\\20220426_175338.jpg: corrupt JPEG restored and saved\n",
      "\u001b[34m\u001b[1mval: \u001b[0mWARNING  C:\\Users\\Mehmet\\Desktop\\new_splited_wheat_dataset\\tmp_val\\images\\LucillaVitreous\\20220426_175342.jpg: corrupt JPEG restored and saved\n",
      "\u001b[34m\u001b[1mval: \u001b[0mWARNING  C:\\Users\\Mehmet\\Desktop\\new_splited_wheat_dataset\\tmp_val\\images\\LucillaVitreous\\20220426_175401.jpg: corrupt JPEG restored and saved\n",
      "\u001b[34m\u001b[1mval: \u001b[0mWARNING  C:\\Users\\Mehmet\\Desktop\\new_splited_wheat_dataset\\tmp_val\\images\\LucillaVitreous\\20220426_175427.jpg: corrupt JPEG restored and saved\n",
      "\u001b[34m\u001b[1mval: \u001b[0mWARNING  C:\\Users\\Mehmet\\Desktop\\new_splited_wheat_dataset\\tmp_val\\images\\LucillaVitreous\\20220426_175508.jpg: corrupt JPEG restored and saved\n",
      "\u001b[34m\u001b[1mval: \u001b[0mWARNING  C:\\Users\\Mehmet\\Desktop\\new_splited_wheat_dataset\\tmp_val\\images\\LucillaVitreous\\20220426_175514.jpg: corrupt JPEG restored and saved\n",
      "\u001b[34m\u001b[1mval: \u001b[0mWARNING  C:\\Users\\Mehmet\\Desktop\\new_splited_wheat_dataset\\tmp_val\\images\\LucillaVitreous\\20220426_175516.jpg: corrupt JPEG restored and saved\n",
      "\u001b[34m\u001b[1mval: \u001b[0mWARNING  C:\\Users\\Mehmet\\Desktop\\new_splited_wheat_dataset\\tmp_val\\images\\LucillaVitreous\\20220426_175541.jpg: corrupt JPEG restored and saved\n",
      "\u001b[34m\u001b[1mval: \u001b[0mWARNING  C:\\Users\\Mehmet\\Desktop\\new_splited_wheat_dataset\\tmp_val\\images\\LucillaVitreous\\20220426_175544.jpg: corrupt JPEG restored and saved\n",
      "\u001b[34m\u001b[1mval: \u001b[0mWARNING  C:\\Users\\Mehmet\\Desktop\\new_splited_wheat_dataset\\tmp_val\\images\\OdeskaVitreous\\20220426_172201.jpg: corrupt JPEG restored and saved\n",
      "\u001b[34m\u001b[1mval: \u001b[0mWARNING  C:\\Users\\Mehmet\\Desktop\\new_splited_wheat_dataset\\tmp_val\\images\\OdeskaVitreous\\20220426_172229.jpg: corrupt JPEG restored and saved\n",
      "\u001b[34m\u001b[1mval: \u001b[0mWARNING  C:\\Users\\Mehmet\\Desktop\\new_splited_wheat_dataset\\tmp_val\\images\\OdeskaVitreous\\20220426_172232.jpg: corrupt JPEG restored and saved\n",
      "\u001b[34m\u001b[1mval: \u001b[0mWARNING  C:\\Users\\Mehmet\\Desktop\\new_splited_wheat_dataset\\tmp_val\\images\\OdeskaVitreous\\20220426_172241.jpg: corrupt JPEG restored and saved\n",
      "\u001b[34m\u001b[1mval: \u001b[0mWARNING  C:\\Users\\Mehmet\\Desktop\\new_splited_wheat_dataset\\tmp_val\\images\\OdeskaVitreous\\20220426_172243.jpg: corrupt JPEG restored and saved\n",
      "\u001b[34m\u001b[1mval: \u001b[0mWARNING  C:\\Users\\Mehmet\\Desktop\\new_splited_wheat_dataset\\tmp_val\\images\\OdeskaVitreous\\20220426_172309.jpg: corrupt JPEG restored and saved\n",
      "\u001b[34m\u001b[1mval: \u001b[0mWARNING  C:\\Users\\Mehmet\\Desktop\\new_splited_wheat_dataset\\tmp_val\\images\\OdeskaVitreous\\20220426_172319.jpg: corrupt JPEG restored and saved\n",
      "\u001b[34m\u001b[1mval: \u001b[0mWARNING  C:\\Users\\Mehmet\\Desktop\\new_splited_wheat_dataset\\tmp_val\\images\\OdeskaVitreous\\20220426_172336.jpg: corrupt JPEG restored and saved\n",
      "\u001b[34m\u001b[1mval: \u001b[0mWARNING  C:\\Users\\Mehmet\\Desktop\\new_splited_wheat_dataset\\tmp_val\\images\\OdeskaVitreous\\20220426_172429.jpg: corrupt JPEG restored and saved\n",
      "\u001b[34m\u001b[1mval: \u001b[0mWARNING  C:\\Users\\Mehmet\\Desktop\\new_splited_wheat_dataset\\tmp_val\\images\\OdeskaVitreous\\20220426_172436.jpg: corrupt JPEG restored and saved\n",
      "\u001b[34m\u001b[1mval: \u001b[0mWARNING  C:\\Users\\Mehmet\\Desktop\\new_splited_wheat_dataset\\tmp_val\\images\\OdeskaVitreous\\20220426_172455.jpg: corrupt JPEG restored and saved\n",
      "\u001b[34m\u001b[1mval: \u001b[0mWARNING  C:\\Users\\Mehmet\\Desktop\\new_splited_wheat_dataset\\tmp_val\\images\\OdeskaVitreous\\20220426_172500.jpg: corrupt JPEG restored and saved\n",
      "\u001b[34m\u001b[1mval: \u001b[0mWARNING  C:\\Users\\Mehmet\\Desktop\\new_splited_wheat_dataset\\tmp_val\\images\\OdeskaVitreous\\20220426_172635.jpg: corrupt JPEG restored and saved\n",
      "\u001b[34m\u001b[1mval: \u001b[0mWARNING  C:\\Users\\Mehmet\\Desktop\\new_splited_wheat_dataset\\tmp_val\\images\\OdeskaVitreous\\20220426_172711.jpg: corrupt JPEG restored and saved\n",
      "\u001b[34m\u001b[1mval: \u001b[0mWARNING  C:\\Users\\Mehmet\\Desktop\\new_splited_wheat_dataset\\tmp_val\\images\\OdeskaVitreous\\20220426_172732.jpg: corrupt JPEG restored and saved\n",
      "\u001b[34m\u001b[1mval: \u001b[0mWARNING  C:\\Users\\Mehmet\\Desktop\\new_splited_wheat_dataset\\tmp_val\\images\\OdeskaVitreous\\20220426_172737.jpg: corrupt JPEG restored and saved\n",
      "\u001b[34m\u001b[1mval: \u001b[0mWARNING  C:\\Users\\Mehmet\\Desktop\\new_splited_wheat_dataset\\tmp_val\\images\\RumeliVitreous\\20220427_120151.jpg: corrupt JPEG restored and saved\n",
      "\u001b[34m\u001b[1mval: \u001b[0mWARNING  C:\\Users\\Mehmet\\Desktop\\new_splited_wheat_dataset\\tmp_val\\images\\RumeliVitreous\\20220427_120201.jpg: corrupt JPEG restored and saved\n",
      "\u001b[34m\u001b[1mval: \u001b[0mWARNING  C:\\Users\\Mehmet\\Desktop\\new_splited_wheat_dataset\\tmp_val\\images\\RumeliVitreous\\20220427_120203.jpg: corrupt JPEG restored and saved\n",
      "\u001b[34m\u001b[1mval: \u001b[0mWARNING  C:\\Users\\Mehmet\\Desktop\\new_splited_wheat_dataset\\tmp_val\\images\\RumeliVitreous\\20220427_120207.jpg: corrupt JPEG restored and saved\n",
      "\u001b[34m\u001b[1mval: \u001b[0mWARNING  C:\\Users\\Mehmet\\Desktop\\new_splited_wheat_dataset\\tmp_val\\images\\RumeliVitreous\\20220427_120218.jpg: corrupt JPEG restored and saved\n",
      "\u001b[34m\u001b[1mval: \u001b[0mWARNING  C:\\Users\\Mehmet\\Desktop\\new_splited_wheat_dataset\\tmp_val\\images\\RumeliVitreous\\20220427_120256.jpg: corrupt JPEG restored and saved\n",
      "\u001b[34m\u001b[1mval: \u001b[0mWARNING  C:\\Users\\Mehmet\\Desktop\\new_splited_wheat_dataset\\tmp_val\\images\\RumeliVitreous\\20220427_120309.jpg: corrupt JPEG restored and saved\n",
      "\u001b[34m\u001b[1mval: \u001b[0mWARNING  C:\\Users\\Mehmet\\Desktop\\new_splited_wheat_dataset\\tmp_val\\images\\RumeliVitreous\\20220427_120339.jpg: corrupt JPEG restored and saved\n",
      "\u001b[34m\u001b[1mval: \u001b[0mWARNING  C:\\Users\\Mehmet\\Desktop\\new_splited_wheat_dataset\\tmp_val\\images\\RumeliVitreous\\20220427_120352.jpg: corrupt JPEG restored and saved\n",
      "\u001b[34m\u001b[1mval: \u001b[0mWARNING  C:\\Users\\Mehmet\\Desktop\\new_splited_wheat_dataset\\tmp_val\\images\\RumeliVitreous\\20220427_120359.jpg: corrupt JPEG restored and saved\n",
      "\u001b[34m\u001b[1mval: \u001b[0mWARNING  C:\\Users\\Mehmet\\Desktop\\new_splited_wheat_dataset\\tmp_val\\images\\RumeliVitreous\\20220427_120404.jpg: corrupt JPEG restored and saved\n",
      "\u001b[34m\u001b[1mval: \u001b[0mWARNING  C:\\Users\\Mehmet\\Desktop\\new_splited_wheat_dataset\\tmp_val\\images\\RumeliVitreous\\20220427_120407.jpg: corrupt JPEG restored and saved\n",
      "\u001b[34m\u001b[1mval: \u001b[0mWARNING  C:\\Users\\Mehmet\\Desktop\\new_splited_wheat_dataset\\tmp_val\\images\\RumeliVitreous\\20220427_120410.jpg: corrupt JPEG restored and saved\n",
      "\u001b[34m\u001b[1mval: \u001b[0mWARNING  C:\\Users\\Mehmet\\Desktop\\new_splited_wheat_dataset\\tmp_val\\images\\RumeliVitreous\\20220427_120421.jpg: corrupt JPEG restored and saved\n",
      "\u001b[34m\u001b[1mval: \u001b[0mWARNING  C:\\Users\\Mehmet\\Desktop\\new_splited_wheat_dataset\\tmp_val\\images\\RumeliVitreous\\20220427_120435.jpg: corrupt JPEG restored and saved\n",
      "\u001b[34m\u001b[1mval: \u001b[0mWARNING  C:\\Users\\Mehmet\\Desktop\\new_splited_wheat_dataset\\tmp_val\\images\\RumeliVitreous\\20220427_120524.jpg: corrupt JPEG restored and saved\n",
      "\u001b[34m\u001b[1mval: \u001b[0mWARNING  C:\\Users\\Mehmet\\Desktop\\new_splited_wheat_dataset\\tmp_val\\images\\RumeliVitreous\\20220427_120535.jpg: corrupt JPEG restored and saved\n",
      "\u001b[34m\u001b[1mval: \u001b[0mWARNING  C:\\Users\\Mehmet\\Desktop\\new_splited_wheat_dataset\\tmp_val\\images\\RumeliVitreous\\20220427_120539.jpg: corrupt JPEG restored and saved\n",
      "\u001b[34m\u001b[1mval: \u001b[0mWARNING  C:\\Users\\Mehmet\\Desktop\\new_splited_wheat_dataset\\tmp_val\\images\\RumeliVitreous\\20220427_120557.jpg: corrupt JPEG restored and saved\n",
      "\u001b[34m\u001b[1mval: \u001b[0mWARNING  C:\\Users\\Mehmet\\Desktop\\new_splited_wheat_dataset\\tmp_val\\images\\RumeliVitreous\\20220427_120615.jpg: corrupt JPEG restored and saved\n",
      "\u001b[34m\u001b[1mval: \u001b[0mWARNING  C:\\Users\\Mehmet\\Desktop\\new_splited_wheat_dataset\\tmp_val\\images\\RumeliVitreous\\20220427_120645.jpg: corrupt JPEG restored and saved\n",
      "\u001b[34m\u001b[1mval: \u001b[0mWARNING  C:\\Users\\Mehmet\\Desktop\\new_splited_wheat_dataset\\tmp_val\\images\\SelimiyeVitreous\\20220425_165109.jpg: corrupt JPEG restored and saved\n",
      "\u001b[34m\u001b[1mval: \u001b[0mWARNING  C:\\Users\\Mehmet\\Desktop\\new_splited_wheat_dataset\\tmp_val\\images\\SelimiyeVitreous\\20220425_165115.jpg: corrupt JPEG restored and saved\n",
      "\u001b[34m\u001b[1mval: \u001b[0mWARNING  C:\\Users\\Mehmet\\Desktop\\new_splited_wheat_dataset\\tmp_val\\images\\SelimiyeVitreous\\20220425_165141.jpg: corrupt JPEG restored and saved\n",
      "\u001b[34m\u001b[1mval: \u001b[0mWARNING  C:\\Users\\Mehmet\\Desktop\\new_splited_wheat_dataset\\tmp_val\\images\\SelimiyeVitreous\\20220425_165202.jpg: corrupt JPEG restored and saved\n",
      "\u001b[34m\u001b[1mval: \u001b[0mWARNING  C:\\Users\\Mehmet\\Desktop\\new_splited_wheat_dataset\\tmp_val\\images\\SelimiyeVitreous\\20220425_165238.jpg: corrupt JPEG restored and saved\n",
      "\u001b[34m\u001b[1mval: \u001b[0mWARNING  C:\\Users\\Mehmet\\Desktop\\new_splited_wheat_dataset\\tmp_val\\images\\SelimiyeVitreous\\20220425_165311.jpg: corrupt JPEG restored and saved\n",
      "\u001b[34m\u001b[1mval: \u001b[0mWARNING  C:\\Users\\Mehmet\\Desktop\\new_splited_wheat_dataset\\tmp_val\\images\\SelimiyeVitreous\\20220425_165505.jpg: corrupt JPEG restored and saved\n",
      "\u001b[34m\u001b[1mval: \u001b[0mWARNING  C:\\Users\\Mehmet\\Desktop\\new_splited_wheat_dataset\\tmp_val\\images\\SelimiyeVitreous\\20220425_165612.jpg: corrupt JPEG restored and saved\n",
      "\u001b[34m\u001b[1mval: \u001b[0mWARNING  C:\\Users\\Mehmet\\Desktop\\new_splited_wheat_dataset\\tmp_val\\images\\SelimiyeVitreous\\20220425_165639.jpg: corrupt JPEG restored and saved\n",
      "\u001b[34m\u001b[1mval: \u001b[0mWARNING  C:\\Users\\Mehmet\\Desktop\\new_splited_wheat_dataset\\tmp_val\\images\\SelimiyeVitreous\\20220425_165649.jpg: corrupt JPEG restored and saved\n",
      "\u001b[34m\u001b[1mval: \u001b[0mWARNING  C:\\Users\\Mehmet\\Desktop\\new_splited_wheat_dataset\\tmp_val\\images\\SelimiyeVitreous\\20220425_165759.jpg: corrupt JPEG restored and saved\n",
      "\u001b[34m\u001b[1mval: \u001b[0mNew cache created: C:\\Users\\Mehmet\\Desktop\\new_splited_wheat_dataset\\tmp_val\\labels\\Bayraktar2000Vitreous.cache\n"
     ]
    },
    {
     "name": "stderr",
     "output_type": "stream",
     "text": [
      "\n"
     ]
    },
    {
     "name": "stdout",
     "output_type": "stream",
     "text": [
      "Plotting labels to C:\\Users\\Mehmet\\Desktop\\whead_dataset\\results\\train8\\labels.jpg... \n",
      "\u001b[34m\u001b[1moptimizer:\u001b[0m 'optimizer=auto' found, ignoring 'lr0=0.01' and 'momentum=0.937' and determining best 'optimizer', 'lr0' and 'momentum' automatically... \n",
      "\u001b[34m\u001b[1moptimizer:\u001b[0m AdamW(lr=0.000714, momentum=0.9) with parameter groups 81 weight(decay=0.0), 88 weight(decay=0.0005), 87 bias(decay=0.0)\n",
      "Image sizes 640 train, 640 val\n",
      "Using 8 dataloader workers\n",
      "Logging results to \u001b[1mC:\\Users\\Mehmet\\Desktop\\whead_dataset\\results\\train8\u001b[0m\n",
      "Starting training for 20 epochs...\n",
      "\n",
      "      Epoch    GPU_mem   box_loss   cls_loss   dfl_loss  Instances       Size\n"
     ]
    },
    {
     "name": "stderr",
     "output_type": "stream",
     "text": [
      "       1/20     0.724G      1.076      4.176     0.9792          8        640: 100%|██████████| 169/169 [00:28<00:00,  5.93it/s]\n",
      "                 Class     Images  Instances      Box(P          R      mAP50  mAP50-95): 100%|██████████| 22/22 [00:03<00:00,  7.03it/s]\n"
     ]
    },
    {
     "name": "stdout",
     "output_type": "stream",
     "text": [
      "                   all        169        209       0.12      0.118      0.165      0.127\n",
      "\n",
      "      Epoch    GPU_mem   box_loss   cls_loss   dfl_loss  Instances       Size\n"
     ]
    },
    {
     "name": "stderr",
     "output_type": "stream",
     "text": [
      "       2/20     0.711G     0.9111      3.408     0.9308          9        640: 100%|██████████| 169/169 [00:24<00:00,  6.86it/s]\n",
      "                 Class     Images  Instances      Box(P          R      mAP50  mAP50-95): 100%|██████████| 22/22 [00:02<00:00,  9.14it/s]\n"
     ]
    },
    {
     "name": "stdout",
     "output_type": "stream",
     "text": [
      "                   all        169        209      0.152      0.541      0.204       0.16\n",
      "\n",
      "      Epoch    GPU_mem   box_loss   cls_loss   dfl_loss  Instances       Size\n"
     ]
    },
    {
     "name": "stderr",
     "output_type": "stream",
     "text": [
      "       3/20     0.696G     0.8892      3.077     0.9322          9        640: 100%|██████████| 169/169 [00:24<00:00,  6.93it/s]\n",
      "                 Class     Images  Instances      Box(P          R      mAP50  mAP50-95): 100%|██████████| 22/22 [00:02<00:00,  8.45it/s]\n"
     ]
    },
    {
     "name": "stdout",
     "output_type": "stream",
     "text": [
      "                   all        169        209      0.274      0.668      0.332      0.269\n",
      "\n",
      "      Epoch    GPU_mem   box_loss   cls_loss   dfl_loss  Instances       Size\n"
     ]
    },
    {
     "name": "stderr",
     "output_type": "stream",
     "text": [
      "       4/20     0.696G     0.8495      2.748     0.9218          5        640: 100%|██████████| 169/169 [00:25<00:00,  6.71it/s]\n",
      "                 Class     Images  Instances      Box(P          R      mAP50  mAP50-95): 100%|██████████| 22/22 [00:02<00:00,  7.86it/s]"
     ]
    },
    {
     "name": "stdout",
     "output_type": "stream",
     "text": [
      "                   all        169        209      0.303      0.739      0.407      0.337\n"
     ]
    },
    {
     "name": "stderr",
     "output_type": "stream",
     "text": [
      "\n"
     ]
    },
    {
     "name": "stdout",
     "output_type": "stream",
     "text": [
      "\n",
      "      Epoch    GPU_mem   box_loss   cls_loss   dfl_loss  Instances       Size\n"
     ]
    },
    {
     "name": "stderr",
     "output_type": "stream",
     "text": [
      "       5/20     0.696G     0.8318       2.58      0.933          9        640: 100%|██████████| 169/169 [00:25<00:00,  6.62it/s]\n",
      "                 Class     Images  Instances      Box(P          R      mAP50  mAP50-95): 100%|██████████| 22/22 [00:02<00:00,  8.53it/s]"
     ]
    },
    {
     "name": "stdout",
     "output_type": "stream",
     "text": [
      "                   all        169        209      0.282      0.727      0.401      0.326\n"
     ]
    },
    {
     "name": "stderr",
     "output_type": "stream",
     "text": [
      "\n"
     ]
    },
    {
     "name": "stdout",
     "output_type": "stream",
     "text": [
      "\n",
      "      Epoch    GPU_mem   box_loss   cls_loss   dfl_loss  Instances       Size\n"
     ]
    },
    {
     "name": "stderr",
     "output_type": "stream",
     "text": [
      "       6/20     0.694G     0.8208      2.347     0.9289          4        640: 100%|██████████| 169/169 [00:25<00:00,  6.65it/s]\n",
      "                 Class     Images  Instances      Box(P          R      mAP50  mAP50-95): 100%|██████████| 22/22 [00:03<00:00,  7.23it/s]"
     ]
    },
    {
     "name": "stdout",
     "output_type": "stream",
     "text": [
      "                   all        169        209      0.351      0.822      0.483      0.411\n"
     ]
    },
    {
     "name": "stderr",
     "output_type": "stream",
     "text": [
      "\n"
     ]
    },
    {
     "name": "stdout",
     "output_type": "stream",
     "text": [
      "\n",
      "      Epoch    GPU_mem   box_loss   cls_loss   dfl_loss  Instances       Size\n"
     ]
    },
    {
     "name": "stderr",
     "output_type": "stream",
     "text": [
      "       7/20     0.694G     0.8125      2.189     0.9337          8        640: 100%|██████████| 169/169 [00:24<00:00,  6.77it/s]\n",
      "                 Class     Images  Instances      Box(P          R      mAP50  mAP50-95): 100%|██████████| 22/22 [00:02<00:00,  7.91it/s]\n"
     ]
    },
    {
     "name": "stdout",
     "output_type": "stream",
     "text": [
      "                   all        169        209      0.411      0.812      0.546      0.464\n",
      "\n",
      "      Epoch    GPU_mem   box_loss   cls_loss   dfl_loss  Instances       Size\n"
     ]
    },
    {
     "name": "stderr",
     "output_type": "stream",
     "text": [
      "       8/20     0.694G     0.7887      2.056     0.9201          7        640: 100%|██████████| 169/169 [00:25<00:00,  6.75it/s]\n",
      "                 Class     Images  Instances      Box(P          R      mAP50  mAP50-95): 100%|██████████| 22/22 [00:03<00:00,  6.96it/s]"
     ]
    },
    {
     "name": "stdout",
     "output_type": "stream",
     "text": [
      "                   all        169        209      0.459      0.827      0.602      0.514\n"
     ]
    },
    {
     "name": "stderr",
     "output_type": "stream",
     "text": [
      "\n"
     ]
    },
    {
     "name": "stdout",
     "output_type": "stream",
     "text": [
      "\n",
      "      Epoch    GPU_mem   box_loss   cls_loss   dfl_loss  Instances       Size\n"
     ]
    },
    {
     "name": "stderr",
     "output_type": "stream",
     "text": [
      "       9/20     0.694G     0.7838      1.936     0.9282          4        640: 100%|██████████| 169/169 [00:25<00:00,  6.52it/s]\n",
      "                 Class     Images  Instances      Box(P          R      mAP50  mAP50-95): 100%|██████████| 22/22 [00:02<00:00,  8.27it/s]\n"
     ]
    },
    {
     "name": "stdout",
     "output_type": "stream",
     "text": [
      "                   all        169        209      0.451      0.842      0.568      0.478\n",
      "\n",
      "      Epoch    GPU_mem   box_loss   cls_loss   dfl_loss  Instances       Size\n"
     ]
    },
    {
     "name": "stderr",
     "output_type": "stream",
     "text": [
      "      10/20     0.694G     0.7557      1.797      0.911          9        640: 100%|██████████| 169/169 [00:25<00:00,  6.73it/s]\n",
      "                 Class     Images  Instances      Box(P          R      mAP50  mAP50-95): 100%|██████████| 22/22 [00:03<00:00,  7.09it/s]"
     ]
    },
    {
     "name": "stdout",
     "output_type": "stream",
     "text": [
      "                   all        169        209      0.499       0.86      0.665      0.563\n"
     ]
    },
    {
     "name": "stderr",
     "output_type": "stream",
     "text": [
      "\n"
     ]
    },
    {
     "name": "stdout",
     "output_type": "stream",
     "text": [
      "Closing dataloader mosaic\n",
      "\n",
      "      Epoch    GPU_mem   box_loss   cls_loss   dfl_loss  Instances       Size\n"
     ]
    },
    {
     "name": "stderr",
     "output_type": "stream",
     "text": [
      "      11/20     0.692G     0.7108      2.022     0.9115          4        640: 100%|██████████| 169/169 [00:26<00:00,  6.45it/s]\n",
      "                 Class     Images  Instances      Box(P          R      mAP50  mAP50-95): 100%|██████████| 22/22 [00:01<00:00, 11.82it/s]"
     ]
    },
    {
     "name": "stdout",
     "output_type": "stream",
     "text": [
      "                   all        169        209      0.508      0.855      0.686      0.594\n"
     ]
    },
    {
     "name": "stderr",
     "output_type": "stream",
     "text": [
      "\n"
     ]
    },
    {
     "name": "stdout",
     "output_type": "stream",
     "text": [
      "\n",
      "      Epoch    GPU_mem   box_loss   cls_loss   dfl_loss  Instances       Size\n"
     ]
    },
    {
     "name": "stderr",
     "output_type": "stream",
     "text": [
      "      12/20     0.692G     0.6756      1.914      0.911          4        640: 100%|██████████| 169/169 [00:28<00:00,  6.01it/s]\n",
      "                 Class     Images  Instances      Box(P          R      mAP50  mAP50-95): 100%|██████████| 22/22 [00:01<00:00, 11.55it/s]"
     ]
    },
    {
     "name": "stdout",
     "output_type": "stream",
     "text": [
      "                   all        169        209      0.549      0.823      0.709      0.608\n"
     ]
    },
    {
     "name": "stderr",
     "output_type": "stream",
     "text": [
      "\n"
     ]
    },
    {
     "name": "stdout",
     "output_type": "stream",
     "text": [
      "\n",
      "      Epoch    GPU_mem   box_loss   cls_loss   dfl_loss  Instances       Size\n"
     ]
    },
    {
     "name": "stderr",
     "output_type": "stream",
     "text": [
      "      13/20     0.692G     0.6624        1.8     0.9031          4        640: 100%|██████████| 169/169 [00:26<00:00,  6.34it/s]\n",
      "                 Class     Images  Instances      Box(P          R      mAP50  mAP50-95): 100%|██████████| 22/22 [00:02<00:00,  9.17it/s]"
     ]
    },
    {
     "name": "stdout",
     "output_type": "stream",
     "text": [
      "                   all        169        209       0.68      0.753      0.766      0.658\n"
     ]
    },
    {
     "name": "stderr",
     "output_type": "stream",
     "text": [
      "\n"
     ]
    },
    {
     "name": "stdout",
     "output_type": "stream",
     "text": [
      "\n",
      "      Epoch    GPU_mem   box_loss   cls_loss   dfl_loss  Instances       Size\n"
     ]
    },
    {
     "name": "stderr",
     "output_type": "stream",
     "text": [
      "      14/20     0.692G     0.6579      1.738     0.9151          8        640: 100%|██████████| 169/169 [00:26<00:00,  6.48it/s]\n",
      "                 Class     Images  Instances      Box(P          R      mAP50  mAP50-95): 100%|██████████| 22/22 [00:02<00:00,  8.85it/s]\n"
     ]
    },
    {
     "name": "stdout",
     "output_type": "stream",
     "text": [
      "                   all        169        209      0.497      0.743      0.614      0.532\n",
      "\n",
      "      Epoch    GPU_mem   box_loss   cls_loss   dfl_loss  Instances       Size\n"
     ]
    },
    {
     "name": "stderr",
     "output_type": "stream",
     "text": [
      "      15/20     0.692G     0.6627      1.707     0.9025          8        640: 100%|██████████| 169/169 [00:25<00:00,  6.68it/s]\n",
      "                 Class     Images  Instances      Box(P          R      mAP50  mAP50-95): 100%|██████████| 22/22 [00:02<00:00,  8.32it/s]"
     ]
    },
    {
     "name": "stdout",
     "output_type": "stream",
     "text": [
      "                   all        169        209      0.528      0.947      0.711      0.614\n"
     ]
    },
    {
     "name": "stderr",
     "output_type": "stream",
     "text": [
      "\n"
     ]
    },
    {
     "name": "stdout",
     "output_type": "stream",
     "text": [
      "\n",
      "      Epoch    GPU_mem   box_loss   cls_loss   dfl_loss  Instances       Size\n"
     ]
    },
    {
     "name": "stderr",
     "output_type": "stream",
     "text": [
      "      16/20     0.692G     0.6558      1.625     0.9044          4        640: 100%|██████████| 169/169 [00:25<00:00,  6.64it/s]\n",
      "                 Class     Images  Instances      Box(P          R      mAP50  mAP50-95): 100%|██████████| 22/22 [00:02<00:00,  7.76it/s]"
     ]
    },
    {
     "name": "stdout",
     "output_type": "stream",
     "text": [
      "                   all        169        209      0.574      0.922       0.76      0.657\n"
     ]
    },
    {
     "name": "stderr",
     "output_type": "stream",
     "text": [
      "\n"
     ]
    },
    {
     "name": "stdout",
     "output_type": "stream",
     "text": [
      "\n",
      "      Epoch    GPU_mem   box_loss   cls_loss   dfl_loss  Instances       Size\n"
     ]
    },
    {
     "name": "stderr",
     "output_type": "stream",
     "text": [
      "      17/20     0.692G     0.6374       1.53     0.8935          4        640: 100%|██████████| 169/169 [00:24<00:00,  6.83it/s]\n",
      "                 Class     Images  Instances      Box(P          R      mAP50  mAP50-95): 100%|██████████| 22/22 [00:03<00:00,  6.89it/s]"
     ]
    },
    {
     "name": "stdout",
     "output_type": "stream",
     "text": [
      "                   all        169        209      0.612      0.953      0.785      0.684\n"
     ]
    },
    {
     "name": "stderr",
     "output_type": "stream",
     "text": [
      "\n"
     ]
    },
    {
     "name": "stdout",
     "output_type": "stream",
     "text": [
      "\n",
      "      Epoch    GPU_mem   box_loss   cls_loss   dfl_loss  Instances       Size\n"
     ]
    },
    {
     "name": "stderr",
     "output_type": "stream",
     "text": [
      "      18/20     0.705G     0.6287      1.458     0.8956          4        640: 100%|██████████| 169/169 [00:26<00:00,  6.37it/s]\n",
      "                 Class     Images  Instances      Box(P          R      mAP50  mAP50-95): 100%|██████████| 22/22 [00:02<00:00,  8.28it/s]\n"
     ]
    },
    {
     "name": "stdout",
     "output_type": "stream",
     "text": [
      "                   all        169        209      0.644        0.9      0.799      0.696\n",
      "\n",
      "      Epoch    GPU_mem   box_loss   cls_loss   dfl_loss  Instances       Size\n"
     ]
    },
    {
     "name": "stderr",
     "output_type": "stream",
     "text": [
      "      19/20     0.705G     0.6262      1.446      0.891          4        640: 100%|██████████| 169/169 [00:24<00:00,  6.90it/s]\n",
      "                 Class     Images  Instances      Box(P          R      mAP50  mAP50-95): 100%|██████████| 22/22 [00:03<00:00,  6.95it/s]\n"
     ]
    },
    {
     "name": "stdout",
     "output_type": "stream",
     "text": [
      "                   all        169        209      0.588      0.912       0.81      0.708\n",
      "\n",
      "      Epoch    GPU_mem   box_loss   cls_loss   dfl_loss  Instances       Size\n"
     ]
    },
    {
     "name": "stderr",
     "output_type": "stream",
     "text": [
      "      20/20     0.705G     0.6269      1.458       0.88          4        640: 100%|██████████| 169/169 [00:24<00:00,  6.97it/s]\n",
      "                 Class     Images  Instances      Box(P          R      mAP50  mAP50-95): 100%|██████████| 22/22 [00:03<00:00,  6.90it/s]"
     ]
    },
    {
     "name": "stdout",
     "output_type": "stream",
     "text": [
      "                   all        169        209      0.653      0.942      0.821      0.718\n"
     ]
    },
    {
     "name": "stderr",
     "output_type": "stream",
     "text": [
      "\n"
     ]
    },
    {
     "name": "stdout",
     "output_type": "stream",
     "text": [
      "\n",
      "20 epochs completed in 0.173 hours.\n",
      "Optimizer stripped from C:\\Users\\Mehmet\\Desktop\\whead_dataset\\results\\train8\\weights\\last.pt, 5.5MB\n",
      "Optimizer stripped from C:\\Users\\Mehmet\\Desktop\\whead_dataset\\results\\train8\\weights\\best.pt, 5.5MB\n",
      "\n",
      "Validating C:\\Users\\Mehmet\\Desktop\\whead_dataset\\results\\train8\\weights\\best.pt...\n",
      "Ultralytics 8.3.5  Python-3.9.20 torch-2.4.1+cu121 CUDA:0 (NVIDIA GeForce RTX 3050 Laptop GPU, 4096MiB)\n",
      "YOLO11n summary (fused): 238 layers, 2,584,102 parameters, 0 gradients, 6.3 GFLOPs\n"
     ]
    },
    {
     "name": "stderr",
     "output_type": "stream",
     "text": [
      "                 Class     Images  Instances      Box(P          R      mAP50  mAP50-95): 100%|██████████| 22/22 [00:02<00:00,  9.68it/s]\n"
     ]
    },
    {
     "name": "stdout",
     "output_type": "stream",
     "text": [
      "                   all        169        209      0.656      0.944      0.823      0.719\n",
      " Bayraktar2000Vitreous         15         19        0.7          1      0.995      0.867\n",
      "    Bezostaja1Vitreous         15         27      0.645          1      0.779      0.662\n",
      "     Delabrad2Vitreous         18         22      0.499          1      0.823      0.713\n",
      "          EkizVitreous         23         23      0.973          1      0.995      0.794\n",
      "       EsperiaVitreous         18         18      0.774          1      0.995      0.909\n",
      "      KiziltanVitreous         17         21      0.959          1      0.995      0.811\n",
      "       LucillaVitreous         15         15      0.365          1      0.704      0.646\n",
      "        OdeskaVitreous         16         24      0.794      0.481      0.829      0.787\n",
      "        RumeliVitreous         21         25      0.542       0.96      0.683      0.601\n",
      "      SelimiyeVitreous         11         15      0.306          1      0.431      0.395\n",
      "Speed: 1.1ms preprocess, 4.5ms inference, 0.0ms loss, 2.1ms postprocess per image\n",
      "Results saved to \u001b[1mC:\\Users\\Mehmet\\Desktop\\whead_dataset\\results\\train8\u001b[0m\n",
      "3.Eğitim bitti\n",
      "Bellek temizlendi\n",
      "4.Eğitim başlıyor\n",
      "New https://pypi.org/project/ultralytics/8.3.40 available  Update with 'pip install -U ultralytics'\n",
      "Ultralytics 8.3.5  Python-3.9.20 torch-2.4.1+cu121 CUDA:0 (NVIDIA GeForce RTX 3050 Laptop GPU, 4096MiB)\n",
      "\u001b[34m\u001b[1mengine\\trainer: \u001b[0mtask=detect, mode=train, model=D:\\tarimda_yapay_zeka\\yolo11n.pt, data=C:\\Users\\Mehmet\\Desktop\\splited_wheat_dataset\\wheat_dataset_yaml.yaml, epochs=20, time=None, patience=100, batch=4, imgsz=640, save=True, save_period=-1, cache=False, device=None, workers=8, project=C:\\Users\\Mehmet\\Desktop\\whead_dataset\\results, name=train9, exist_ok=False, pretrained=True, optimizer=auto, verbose=True, seed=0, deterministic=True, single_cls=False, rect=False, cos_lr=False, close_mosaic=10, resume=False, amp=True, fraction=1.0, profile=False, freeze=None, multi_scale=False, overlap_mask=True, mask_ratio=4, dropout=0.0, val=True, split=val, save_json=False, save_hybrid=False, conf=None, iou=0.7, max_det=300, half=False, dnn=False, plots=True, source=None, vid_stride=1, stream_buffer=False, visualize=False, augment=False, agnostic_nms=False, classes=None, retina_masks=False, embed=None, show=False, save_frames=False, save_txt=False, save_conf=False, save_crop=False, show_labels=True, show_conf=True, show_boxes=True, line_width=None, format=torchscript, keras=False, optimize=False, int8=False, dynamic=False, simplify=True, opset=None, workspace=4, nms=False, lr0=0.01, lrf=0.01, momentum=0.937, weight_decay=0.0005, warmup_epochs=3.0, warmup_momentum=0.8, warmup_bias_lr=0.1, box=7.5, cls=0.5, dfl=1.5, pose=12.0, kobj=1.0, label_smoothing=0.0, nbs=64, hsv_h=0.015, hsv_s=0.7, hsv_v=0.4, degrees=0.0, translate=0.1, scale=0.5, shear=0.0, perspective=0.0, flipud=0.0, fliplr=0.5, bgr=0.0, mosaic=1.0, mixup=0.0, copy_paste=0.0, copy_paste_mode=flip, auto_augment=randaugment, erasing=0.4, crop_fraction=1.0, cfg=None, tracker=botsort.yaml, save_dir=C:\\Users\\Mehmet\\Desktop\\whead_dataset\\results\\train9\n",
      "Overriding model.yaml nc=80 with nc=10\n",
      "\n",
      "                   from  n    params  module                                       arguments                     \n",
      "  0                  -1  1       464  ultralytics.nn.modules.conv.Conv             [3, 16, 3, 2]                 \n",
      "  1                  -1  1      4672  ultralytics.nn.modules.conv.Conv             [16, 32, 3, 2]                \n",
      "  2                  -1  1      6640  ultralytics.nn.modules.block.C3k2            [32, 64, 1, False, 0.25]      \n",
      "  3                  -1  1     36992  ultralytics.nn.modules.conv.Conv             [64, 64, 3, 2]                \n",
      "  4                  -1  1     26080  ultralytics.nn.modules.block.C3k2            [64, 128, 1, False, 0.25]     \n",
      "  5                  -1  1    147712  ultralytics.nn.modules.conv.Conv             [128, 128, 3, 2]              \n",
      "  6                  -1  1     87040  ultralytics.nn.modules.block.C3k2            [128, 128, 1, True]           \n",
      "  7                  -1  1    295424  ultralytics.nn.modules.conv.Conv             [128, 256, 3, 2]              \n",
      "  8                  -1  1    346112  ultralytics.nn.modules.block.C3k2            [256, 256, 1, True]           \n",
      "  9                  -1  1    164608  ultralytics.nn.modules.block.SPPF            [256, 256, 5]                 \n",
      " 10                  -1  1    249728  ultralytics.nn.modules.block.C2PSA           [256, 256, 1]                 \n",
      " 11                  -1  1         0  torch.nn.modules.upsampling.Upsample         [None, 2, 'nearest']          \n",
      " 12             [-1, 6]  1         0  ultralytics.nn.modules.conv.Concat           [1]                           \n",
      " 13                  -1  1    111296  ultralytics.nn.modules.block.C3k2            [384, 128, 1, False]          \n",
      " 14                  -1  1         0  torch.nn.modules.upsampling.Upsample         [None, 2, 'nearest']          \n",
      " 15             [-1, 4]  1         0  ultralytics.nn.modules.conv.Concat           [1]                           \n",
      " 16                  -1  1     32096  ultralytics.nn.modules.block.C3k2            [256, 64, 1, False]           \n",
      " 17                  -1  1     36992  ultralytics.nn.modules.conv.Conv             [64, 64, 3, 2]                \n",
      " 18            [-1, 13]  1         0  ultralytics.nn.modules.conv.Concat           [1]                           \n",
      " 19                  -1  1     86720  ultralytics.nn.modules.block.C3k2            [192, 128, 1, False]          \n",
      " 20                  -1  1    147712  ultralytics.nn.modules.conv.Conv             [128, 128, 3, 2]              \n",
      " 21            [-1, 10]  1         0  ultralytics.nn.modules.conv.Concat           [1]                           \n",
      " 22                  -1  1    378880  ultralytics.nn.modules.block.C3k2            [384, 256, 1, True]           \n",
      " 23        [16, 19, 22]  1    432622  ultralytics.nn.modules.head.Detect           [10, [64, 128, 256]]          \n",
      "YOLO11n summary: 319 layers, 2,591,790 parameters, 2,591,774 gradients, 6.5 GFLOPs\n",
      "\n",
      "Transferred 448/499 items from pretrained weights\n",
      "Freezing layer 'model.23.dfl.conv.weight'\n",
      "\u001b[34m\u001b[1mAMP: \u001b[0mrunning Automatic Mixed Precision (AMP) checks with YOLO11n...\n",
      "\u001b[34m\u001b[1mAMP: \u001b[0mchecks passed \n"
     ]
    },
    {
     "name": "stderr",
     "output_type": "stream",
     "text": [
      "\u001b[34m\u001b[1mtrain: \u001b[0mScanning C:\\Users\\Mehmet\\Desktop\\new_splited_wheat_dataset\\tmp_train\\labels\\Bayraktar2000Vitreous... 676 images, 0 backgrounds, 0 corrupt: 100%|██████████| 676/676 [00:27<00:00, 24.62it/s]"
     ]
    },
    {
     "name": "stdout",
     "output_type": "stream",
     "text": [
      "\u001b[34m\u001b[1mtrain: \u001b[0mWARNING  C:\\Users\\Mehmet\\Desktop\\new_splited_wheat_dataset\\tmp_train\\images\\Bayraktar2000Vitreous\\20220426_144726.jpg: corrupt JPEG restored and saved\n",
      "\u001b[34m\u001b[1mtrain: \u001b[0mWARNING  C:\\Users\\Mehmet\\Desktop\\new_splited_wheat_dataset\\tmp_train\\images\\Bayraktar2000Vitreous\\20220426_144729.jpg: corrupt JPEG restored and saved\n",
      "\u001b[34m\u001b[1mtrain: \u001b[0mWARNING  C:\\Users\\Mehmet\\Desktop\\new_splited_wheat_dataset\\tmp_train\\images\\Bayraktar2000Vitreous\\20220426_144735.jpg: corrupt JPEG restored and saved\n",
      "\u001b[34m\u001b[1mtrain: \u001b[0mWARNING  C:\\Users\\Mehmet\\Desktop\\new_splited_wheat_dataset\\tmp_train\\images\\Bayraktar2000Vitreous\\20220426_144737.jpg: corrupt JPEG restored and saved\n",
      "\u001b[34m\u001b[1mtrain: \u001b[0mWARNING  C:\\Users\\Mehmet\\Desktop\\new_splited_wheat_dataset\\tmp_train\\images\\Bayraktar2000Vitreous\\20220426_144740.jpg: corrupt JPEG restored and saved\n",
      "\u001b[34m\u001b[1mtrain: \u001b[0mWARNING  C:\\Users\\Mehmet\\Desktop\\new_splited_wheat_dataset\\tmp_train\\images\\Bayraktar2000Vitreous\\20220426_144744.jpg: corrupt JPEG restored and saved\n",
      "\u001b[34m\u001b[1mtrain: \u001b[0mWARNING  C:\\Users\\Mehmet\\Desktop\\new_splited_wheat_dataset\\tmp_train\\images\\Bayraktar2000Vitreous\\20220426_144746.jpg: corrupt JPEG restored and saved\n",
      "\u001b[34m\u001b[1mtrain: \u001b[0mWARNING  C:\\Users\\Mehmet\\Desktop\\new_splited_wheat_dataset\\tmp_train\\images\\Bayraktar2000Vitreous\\20220426_144748.jpg: corrupt JPEG restored and saved\n",
      "\u001b[34m\u001b[1mtrain: \u001b[0mWARNING  C:\\Users\\Mehmet\\Desktop\\new_splited_wheat_dataset\\tmp_train\\images\\Bayraktar2000Vitreous\\20220426_144759.jpg: corrupt JPEG restored and saved\n",
      "\u001b[34m\u001b[1mtrain: \u001b[0mWARNING  C:\\Users\\Mehmet\\Desktop\\new_splited_wheat_dataset\\tmp_train\\images\\Bayraktar2000Vitreous\\20220426_144801.jpg: corrupt JPEG restored and saved\n",
      "\u001b[34m\u001b[1mtrain: \u001b[0mWARNING  C:\\Users\\Mehmet\\Desktop\\new_splited_wheat_dataset\\tmp_train\\images\\Bayraktar2000Vitreous\\20220426_144804.jpg: corrupt JPEG restored and saved\n",
      "\u001b[34m\u001b[1mtrain: \u001b[0mWARNING  C:\\Users\\Mehmet\\Desktop\\new_splited_wheat_dataset\\tmp_train\\images\\Bayraktar2000Vitreous\\20220426_144806.jpg: corrupt JPEG restored and saved\n",
      "\u001b[34m\u001b[1mtrain: \u001b[0mWARNING  C:\\Users\\Mehmet\\Desktop\\new_splited_wheat_dataset\\tmp_train\\images\\Bayraktar2000Vitreous\\20220426_144809.jpg: corrupt JPEG restored and saved\n",
      "\u001b[34m\u001b[1mtrain: \u001b[0mWARNING  C:\\Users\\Mehmet\\Desktop\\new_splited_wheat_dataset\\tmp_train\\images\\Bayraktar2000Vitreous\\20220426_144811.jpg: corrupt JPEG restored and saved\n",
      "\u001b[34m\u001b[1mtrain: \u001b[0mWARNING  C:\\Users\\Mehmet\\Desktop\\new_splited_wheat_dataset\\tmp_train\\images\\Bayraktar2000Vitreous\\20220426_144814.jpg: corrupt JPEG restored and saved\n",
      "\u001b[34m\u001b[1mtrain: \u001b[0mWARNING  C:\\Users\\Mehmet\\Desktop\\new_splited_wheat_dataset\\tmp_train\\images\\Bayraktar2000Vitreous\\20220426_144828.jpg: corrupt JPEG restored and saved\n",
      "\u001b[34m\u001b[1mtrain: \u001b[0mWARNING  C:\\Users\\Mehmet\\Desktop\\new_splited_wheat_dataset\\tmp_train\\images\\Bayraktar2000Vitreous\\20220426_144834.jpg: corrupt JPEG restored and saved\n",
      "\u001b[34m\u001b[1mtrain: \u001b[0mWARNING  C:\\Users\\Mehmet\\Desktop\\new_splited_wheat_dataset\\tmp_train\\images\\Bayraktar2000Vitreous\\20220426_144838.jpg: corrupt JPEG restored and saved\n",
      "\u001b[34m\u001b[1mtrain: \u001b[0mWARNING  C:\\Users\\Mehmet\\Desktop\\new_splited_wheat_dataset\\tmp_train\\images\\Bayraktar2000Vitreous\\20220426_144841.jpg: corrupt JPEG restored and saved\n",
      "\u001b[34m\u001b[1mtrain: \u001b[0mWARNING  C:\\Users\\Mehmet\\Desktop\\new_splited_wheat_dataset\\tmp_train\\images\\Bayraktar2000Vitreous\\20220426_144844.jpg: corrupt JPEG restored and saved\n",
      "\u001b[34m\u001b[1mtrain: \u001b[0mWARNING  C:\\Users\\Mehmet\\Desktop\\new_splited_wheat_dataset\\tmp_train\\images\\Bayraktar2000Vitreous\\20220426_144846.jpg: corrupt JPEG restored and saved\n",
      "\u001b[34m\u001b[1mtrain: \u001b[0mWARNING  C:\\Users\\Mehmet\\Desktop\\new_splited_wheat_dataset\\tmp_train\\images\\Bayraktar2000Vitreous\\20220426_144853.jpg: corrupt JPEG restored and saved\n",
      "\u001b[34m\u001b[1mtrain: \u001b[0mWARNING  C:\\Users\\Mehmet\\Desktop\\new_splited_wheat_dataset\\tmp_train\\images\\Bayraktar2000Vitreous\\20220426_144856.jpg: corrupt JPEG restored and saved\n",
      "\u001b[34m\u001b[1mtrain: \u001b[0mWARNING  C:\\Users\\Mehmet\\Desktop\\new_splited_wheat_dataset\\tmp_train\\images\\Bayraktar2000Vitreous\\20220426_144900.jpg: corrupt JPEG restored and saved\n",
      "\u001b[34m\u001b[1mtrain: \u001b[0mWARNING  C:\\Users\\Mehmet\\Desktop\\new_splited_wheat_dataset\\tmp_train\\images\\Bayraktar2000Vitreous\\20220426_144902.jpg: corrupt JPEG restored and saved\n",
      "\u001b[34m\u001b[1mtrain: \u001b[0mWARNING  C:\\Users\\Mehmet\\Desktop\\new_splited_wheat_dataset\\tmp_train\\images\\Bayraktar2000Vitreous\\20220426_144905.jpg: corrupt JPEG restored and saved\n",
      "\u001b[34m\u001b[1mtrain: \u001b[0mWARNING  C:\\Users\\Mehmet\\Desktop\\new_splited_wheat_dataset\\tmp_train\\images\\Bayraktar2000Vitreous\\20220426_144919.jpg: corrupt JPEG restored and saved\n",
      "\u001b[34m\u001b[1mtrain: \u001b[0mWARNING  C:\\Users\\Mehmet\\Desktop\\new_splited_wheat_dataset\\tmp_train\\images\\Bayraktar2000Vitreous\\20220426_144935.jpg: corrupt JPEG restored and saved\n",
      "\u001b[34m\u001b[1mtrain: \u001b[0mWARNING  C:\\Users\\Mehmet\\Desktop\\new_splited_wheat_dataset\\tmp_train\\images\\Bayraktar2000Vitreous\\20220426_144937.jpg: corrupt JPEG restored and saved\n",
      "\u001b[34m\u001b[1mtrain: \u001b[0mWARNING  C:\\Users\\Mehmet\\Desktop\\new_splited_wheat_dataset\\tmp_train\\images\\Bayraktar2000Vitreous\\20220426_144944.jpg: corrupt JPEG restored and saved\n",
      "\u001b[34m\u001b[1mtrain: \u001b[0mWARNING  C:\\Users\\Mehmet\\Desktop\\new_splited_wheat_dataset\\tmp_train\\images\\Bayraktar2000Vitreous\\20220426_144956.jpg: corrupt JPEG restored and saved\n",
      "\u001b[34m\u001b[1mtrain: \u001b[0mWARNING  C:\\Users\\Mehmet\\Desktop\\new_splited_wheat_dataset\\tmp_train\\images\\Bayraktar2000Vitreous\\20220426_145001.jpg: corrupt JPEG restored and saved\n",
      "\u001b[34m\u001b[1mtrain: \u001b[0mWARNING  C:\\Users\\Mehmet\\Desktop\\new_splited_wheat_dataset\\tmp_train\\images\\Bayraktar2000Vitreous\\20220426_145008.jpg: corrupt JPEG restored and saved\n",
      "\u001b[34m\u001b[1mtrain: \u001b[0mWARNING  C:\\Users\\Mehmet\\Desktop\\new_splited_wheat_dataset\\tmp_train\\images\\Bayraktar2000Vitreous\\20220426_145029.jpg: corrupt JPEG restored and saved\n",
      "\u001b[34m\u001b[1mtrain: \u001b[0mWARNING  C:\\Users\\Mehmet\\Desktop\\new_splited_wheat_dataset\\tmp_train\\images\\Bayraktar2000Vitreous\\20220426_145032.jpg: corrupt JPEG restored and saved\n",
      "\u001b[34m\u001b[1mtrain: \u001b[0mWARNING  C:\\Users\\Mehmet\\Desktop\\new_splited_wheat_dataset\\tmp_train\\images\\Bayraktar2000Vitreous\\20220426_145034.jpg: corrupt JPEG restored and saved\n",
      "\u001b[34m\u001b[1mtrain: \u001b[0mWARNING  C:\\Users\\Mehmet\\Desktop\\new_splited_wheat_dataset\\tmp_train\\images\\Bayraktar2000Vitreous\\20220426_145037.jpg: corrupt JPEG restored and saved\n",
      "\u001b[34m\u001b[1mtrain: \u001b[0mWARNING  C:\\Users\\Mehmet\\Desktop\\new_splited_wheat_dataset\\tmp_train\\images\\Bayraktar2000Vitreous\\20220426_145055.jpg: corrupt JPEG restored and saved\n",
      "\u001b[34m\u001b[1mtrain: \u001b[0mWARNING  C:\\Users\\Mehmet\\Desktop\\new_splited_wheat_dataset\\tmp_train\\images\\Bayraktar2000Vitreous\\20220426_145058.jpg: corrupt JPEG restored and saved\n",
      "\u001b[34m\u001b[1mtrain: \u001b[0mWARNING  C:\\Users\\Mehmet\\Desktop\\new_splited_wheat_dataset\\tmp_train\\images\\Bayraktar2000Vitreous\\20220426_145119.jpg: corrupt JPEG restored and saved\n",
      "\u001b[34m\u001b[1mtrain: \u001b[0mWARNING  C:\\Users\\Mehmet\\Desktop\\new_splited_wheat_dataset\\tmp_train\\images\\Bayraktar2000Vitreous\\20220426_145122.jpg: corrupt JPEG restored and saved\n",
      "\u001b[34m\u001b[1mtrain: \u001b[0mWARNING  C:\\Users\\Mehmet\\Desktop\\new_splited_wheat_dataset\\tmp_train\\images\\Bayraktar2000Vitreous\\20220426_145129.jpg: corrupt JPEG restored and saved\n",
      "\u001b[34m\u001b[1mtrain: \u001b[0mWARNING  C:\\Users\\Mehmet\\Desktop\\new_splited_wheat_dataset\\tmp_train\\images\\Bayraktar2000Vitreous\\20220426_145137.jpg: corrupt JPEG restored and saved\n",
      "\u001b[34m\u001b[1mtrain: \u001b[0mWARNING  C:\\Users\\Mehmet\\Desktop\\new_splited_wheat_dataset\\tmp_train\\images\\Bayraktar2000Vitreous\\20220426_145140.jpg: corrupt JPEG restored and saved\n",
      "\u001b[34m\u001b[1mtrain: \u001b[0mWARNING  C:\\Users\\Mehmet\\Desktop\\new_splited_wheat_dataset\\tmp_train\\images\\Bayraktar2000Vitreous\\20220426_145151.jpg: corrupt JPEG restored and saved\n",
      "\u001b[34m\u001b[1mtrain: \u001b[0mWARNING  C:\\Users\\Mehmet\\Desktop\\new_splited_wheat_dataset\\tmp_train\\images\\Bayraktar2000Vitreous\\20220426_145200.jpg: corrupt JPEG restored and saved\n",
      "\u001b[34m\u001b[1mtrain: \u001b[0mWARNING  C:\\Users\\Mehmet\\Desktop\\new_splited_wheat_dataset\\tmp_train\\images\\Bayraktar2000Vitreous\\20220426_145203.jpg: corrupt JPEG restored and saved\n",
      "\u001b[34m\u001b[1mtrain: \u001b[0mWARNING  C:\\Users\\Mehmet\\Desktop\\new_splited_wheat_dataset\\tmp_train\\images\\Bayraktar2000Vitreous\\20220426_145209.jpg: corrupt JPEG restored and saved\n",
      "\u001b[34m\u001b[1mtrain: \u001b[0mWARNING  C:\\Users\\Mehmet\\Desktop\\new_splited_wheat_dataset\\tmp_train\\images\\Bayraktar2000Vitreous\\20220426_145215.jpg: corrupt JPEG restored and saved\n",
      "\u001b[34m\u001b[1mtrain: \u001b[0mWARNING  C:\\Users\\Mehmet\\Desktop\\new_splited_wheat_dataset\\tmp_train\\images\\Bayraktar2000Vitreous\\20220426_145234.jpg: corrupt JPEG restored and saved\n",
      "\u001b[34m\u001b[1mtrain: \u001b[0mWARNING  C:\\Users\\Mehmet\\Desktop\\new_splited_wheat_dataset\\tmp_train\\images\\Bayraktar2000Vitreous\\20220426_145237.jpg: corrupt JPEG restored and saved\n",
      "\u001b[34m\u001b[1mtrain: \u001b[0mWARNING  C:\\Users\\Mehmet\\Desktop\\new_splited_wheat_dataset\\tmp_train\\images\\Bayraktar2000Vitreous\\20220426_145239.jpg: corrupt JPEG restored and saved\n",
      "\u001b[34m\u001b[1mtrain: \u001b[0mWARNING  C:\\Users\\Mehmet\\Desktop\\new_splited_wheat_dataset\\tmp_train\\images\\Bayraktar2000Vitreous\\20220426_145244.jpg: corrupt JPEG restored and saved\n",
      "\u001b[34m\u001b[1mtrain: \u001b[0mWARNING  C:\\Users\\Mehmet\\Desktop\\new_splited_wheat_dataset\\tmp_train\\images\\Bayraktar2000Vitreous\\20220426_145246.jpg: corrupt JPEG restored and saved\n",
      "\u001b[34m\u001b[1mtrain: \u001b[0mWARNING  C:\\Users\\Mehmet\\Desktop\\new_splited_wheat_dataset\\tmp_train\\images\\Bayraktar2000Vitreous\\20220426_145249.jpg: corrupt JPEG restored and saved\n",
      "\u001b[34m\u001b[1mtrain: \u001b[0mWARNING  C:\\Users\\Mehmet\\Desktop\\new_splited_wheat_dataset\\tmp_train\\images\\Bayraktar2000Vitreous\\20220426_145256.jpg: corrupt JPEG restored and saved\n",
      "\u001b[34m\u001b[1mtrain: \u001b[0mWARNING  C:\\Users\\Mehmet\\Desktop\\new_splited_wheat_dataset\\tmp_train\\images\\Bayraktar2000Vitreous\\20220426_145259.jpg: corrupt JPEG restored and saved\n",
      "\u001b[34m\u001b[1mtrain: \u001b[0mWARNING  C:\\Users\\Mehmet\\Desktop\\new_splited_wheat_dataset\\tmp_train\\images\\Bayraktar2000Vitreous\\20220426_145301.jpg: corrupt JPEG restored and saved\n",
      "\u001b[34m\u001b[1mtrain: \u001b[0mWARNING  C:\\Users\\Mehmet\\Desktop\\new_splited_wheat_dataset\\tmp_train\\images\\Bayraktar2000Vitreous\\20220426_145304.jpg: corrupt JPEG restored and saved\n",
      "\u001b[34m\u001b[1mtrain: \u001b[0mWARNING  C:\\Users\\Mehmet\\Desktop\\new_splited_wheat_dataset\\tmp_train\\images\\Bayraktar2000Vitreous\\20220426_145306.jpg: corrupt JPEG restored and saved\n",
      "\u001b[34m\u001b[1mtrain: \u001b[0mWARNING  C:\\Users\\Mehmet\\Desktop\\new_splited_wheat_dataset\\tmp_train\\images\\Bayraktar2000Vitreous\\20220426_145309.jpg: corrupt JPEG restored and saved\n",
      "\u001b[34m\u001b[1mtrain: \u001b[0mWARNING  C:\\Users\\Mehmet\\Desktop\\new_splited_wheat_dataset\\tmp_train\\images\\Bayraktar2000Vitreous\\20220426_145312.jpg: corrupt JPEG restored and saved\n",
      "\u001b[34m\u001b[1mtrain: \u001b[0mWARNING  C:\\Users\\Mehmet\\Desktop\\new_splited_wheat_dataset\\tmp_train\\images\\Bayraktar2000Vitreous\\20220426_145317.jpg: corrupt JPEG restored and saved\n",
      "\u001b[34m\u001b[1mtrain: \u001b[0mWARNING  C:\\Users\\Mehmet\\Desktop\\new_splited_wheat_dataset\\tmp_train\\images\\Bayraktar2000Vitreous\\20220426_145321.jpg: corrupt JPEG restored and saved\n",
      "\u001b[34m\u001b[1mtrain: \u001b[0mWARNING  C:\\Users\\Mehmet\\Desktop\\new_splited_wheat_dataset\\tmp_train\\images\\Bayraktar2000Vitreous\\20220426_145324.jpg: corrupt JPEG restored and saved\n",
      "\u001b[34m\u001b[1mtrain: \u001b[0mWARNING  C:\\Users\\Mehmet\\Desktop\\new_splited_wheat_dataset\\tmp_train\\images\\Bayraktar2000Vitreous\\20220426_145348.jpg: corrupt JPEG restored and saved\n",
      "\u001b[34m\u001b[1mtrain: \u001b[0mWARNING  C:\\Users\\Mehmet\\Desktop\\new_splited_wheat_dataset\\tmp_train\\images\\Bayraktar2000Vitreous\\20220426_145353.jpg: corrupt JPEG restored and saved\n",
      "\u001b[34m\u001b[1mtrain: \u001b[0mWARNING  C:\\Users\\Mehmet\\Desktop\\new_splited_wheat_dataset\\tmp_train\\images\\Bayraktar2000Vitreous\\20220426_145404.jpg: corrupt JPEG restored and saved\n",
      "\u001b[34m\u001b[1mtrain: \u001b[0mWARNING  C:\\Users\\Mehmet\\Desktop\\new_splited_wheat_dataset\\tmp_train\\images\\Bezostaja1Vitreous\\20220425_152222.jpg: corrupt JPEG restored and saved\n",
      "\u001b[34m\u001b[1mtrain: \u001b[0mWARNING  C:\\Users\\Mehmet\\Desktop\\new_splited_wheat_dataset\\tmp_train\\images\\Bezostaja1Vitreous\\20220425_152232.jpg: corrupt JPEG restored and saved\n",
      "\u001b[34m\u001b[1mtrain: \u001b[0mWARNING  C:\\Users\\Mehmet\\Desktop\\new_splited_wheat_dataset\\tmp_train\\images\\Bezostaja1Vitreous\\20220425_152239.jpg: corrupt JPEG restored and saved\n",
      "\u001b[34m\u001b[1mtrain: \u001b[0mWARNING  C:\\Users\\Mehmet\\Desktop\\new_splited_wheat_dataset\\tmp_train\\images\\Bezostaja1Vitreous\\20220425_152244.jpg: corrupt JPEG restored and saved\n",
      "\u001b[34m\u001b[1mtrain: \u001b[0mWARNING  C:\\Users\\Mehmet\\Desktop\\new_splited_wheat_dataset\\tmp_train\\images\\Bezostaja1Vitreous\\20220425_152247.jpg: corrupt JPEG restored and saved\n",
      "\u001b[34m\u001b[1mtrain: \u001b[0mWARNING  C:\\Users\\Mehmet\\Desktop\\new_splited_wheat_dataset\\tmp_train\\images\\Bezostaja1Vitreous\\20220425_152301.jpg: corrupt JPEG restored and saved\n",
      "\u001b[34m\u001b[1mtrain: \u001b[0mWARNING  C:\\Users\\Mehmet\\Desktop\\new_splited_wheat_dataset\\tmp_train\\images\\Bezostaja1Vitreous\\20220425_152305.jpg: corrupt JPEG restored and saved\n",
      "\u001b[34m\u001b[1mtrain: \u001b[0mWARNING  C:\\Users\\Mehmet\\Desktop\\new_splited_wheat_dataset\\tmp_train\\images\\Bezostaja1Vitreous\\20220425_152310.jpg: corrupt JPEG restored and saved\n",
      "\u001b[34m\u001b[1mtrain: \u001b[0mWARNING  C:\\Users\\Mehmet\\Desktop\\new_splited_wheat_dataset\\tmp_train\\images\\Bezostaja1Vitreous\\20220425_152313.jpg: corrupt JPEG restored and saved\n",
      "\u001b[34m\u001b[1mtrain: \u001b[0mWARNING  C:\\Users\\Mehmet\\Desktop\\new_splited_wheat_dataset\\tmp_train\\images\\Bezostaja1Vitreous\\20220425_152330.jpg: corrupt JPEG restored and saved\n",
      "\u001b[34m\u001b[1mtrain: \u001b[0mWARNING  C:\\Users\\Mehmet\\Desktop\\new_splited_wheat_dataset\\tmp_train\\images\\Bezostaja1Vitreous\\20220425_152334.jpg: corrupt JPEG restored and saved\n",
      "\u001b[34m\u001b[1mtrain: \u001b[0mWARNING  C:\\Users\\Mehmet\\Desktop\\new_splited_wheat_dataset\\tmp_train\\images\\Bezostaja1Vitreous\\20220425_152340.jpg: corrupt JPEG restored and saved\n",
      "\u001b[34m\u001b[1mtrain: \u001b[0mWARNING  C:\\Users\\Mehmet\\Desktop\\new_splited_wheat_dataset\\tmp_train\\images\\Bezostaja1Vitreous\\20220425_152343.jpg: corrupt JPEG restored and saved\n",
      "\u001b[34m\u001b[1mtrain: \u001b[0mWARNING  C:\\Users\\Mehmet\\Desktop\\new_splited_wheat_dataset\\tmp_train\\images\\Bezostaja1Vitreous\\20220425_152346.jpg: corrupt JPEG restored and saved\n",
      "\u001b[34m\u001b[1mtrain: \u001b[0mWARNING  C:\\Users\\Mehmet\\Desktop\\new_splited_wheat_dataset\\tmp_train\\images\\Bezostaja1Vitreous\\20220425_152358.jpg: corrupt JPEG restored and saved\n",
      "\u001b[34m\u001b[1mtrain: \u001b[0mWARNING  C:\\Users\\Mehmet\\Desktop\\new_splited_wheat_dataset\\tmp_train\\images\\Bezostaja1Vitreous\\20220425_152404.jpg: corrupt JPEG restored and saved\n",
      "\u001b[34m\u001b[1mtrain: \u001b[0mWARNING  C:\\Users\\Mehmet\\Desktop\\new_splited_wheat_dataset\\tmp_train\\images\\Bezostaja1Vitreous\\20220425_152407.jpg: corrupt JPEG restored and saved\n",
      "\u001b[34m\u001b[1mtrain: \u001b[0mWARNING  C:\\Users\\Mehmet\\Desktop\\new_splited_wheat_dataset\\tmp_train\\images\\Bezostaja1Vitreous\\20220425_152409.jpg: corrupt JPEG restored and saved\n",
      "\u001b[34m\u001b[1mtrain: \u001b[0mWARNING  C:\\Users\\Mehmet\\Desktop\\new_splited_wheat_dataset\\tmp_train\\images\\Bezostaja1Vitreous\\20220425_152414.jpg: corrupt JPEG restored and saved\n",
      "\u001b[34m\u001b[1mtrain: \u001b[0mWARNING  C:\\Users\\Mehmet\\Desktop\\new_splited_wheat_dataset\\tmp_train\\images\\Bezostaja1Vitreous\\20220425_152417.jpg: corrupt JPEG restored and saved\n",
      "\u001b[34m\u001b[1mtrain: \u001b[0mWARNING  C:\\Users\\Mehmet\\Desktop\\new_splited_wheat_dataset\\tmp_train\\images\\Bezostaja1Vitreous\\20220425_152420.jpg: corrupt JPEG restored and saved\n",
      "\u001b[34m\u001b[1mtrain: \u001b[0mWARNING  C:\\Users\\Mehmet\\Desktop\\new_splited_wheat_dataset\\tmp_train\\images\\Bezostaja1Vitreous\\20220425_152423.jpg: corrupt JPEG restored and saved\n",
      "\u001b[34m\u001b[1mtrain: \u001b[0mWARNING  C:\\Users\\Mehmet\\Desktop\\new_splited_wheat_dataset\\tmp_train\\images\\Bezostaja1Vitreous\\20220425_152426.jpg: corrupt JPEG restored and saved\n",
      "\u001b[34m\u001b[1mtrain: \u001b[0mWARNING  C:\\Users\\Mehmet\\Desktop\\new_splited_wheat_dataset\\tmp_train\\images\\Bezostaja1Vitreous\\20220425_152429.jpg: corrupt JPEG restored and saved\n",
      "\u001b[34m\u001b[1mtrain: \u001b[0mWARNING  C:\\Users\\Mehmet\\Desktop\\new_splited_wheat_dataset\\tmp_train\\images\\Bezostaja1Vitreous\\20220425_152438.jpg: corrupt JPEG restored and saved\n",
      "\u001b[34m\u001b[1mtrain: \u001b[0mWARNING  C:\\Users\\Mehmet\\Desktop\\new_splited_wheat_dataset\\tmp_train\\images\\Bezostaja1Vitreous\\20220425_152449.jpg: corrupt JPEG restored and saved\n",
      "\u001b[34m\u001b[1mtrain: \u001b[0mWARNING  C:\\Users\\Mehmet\\Desktop\\new_splited_wheat_dataset\\tmp_train\\images\\Bezostaja1Vitreous\\20220425_152502.jpg: corrupt JPEG restored and saved\n",
      "\u001b[34m\u001b[1mtrain: \u001b[0mWARNING  C:\\Users\\Mehmet\\Desktop\\new_splited_wheat_dataset\\tmp_train\\images\\Bezostaja1Vitreous\\20220425_152509.jpg: corrupt JPEG restored and saved\n",
      "\u001b[34m\u001b[1mtrain: \u001b[0mWARNING  C:\\Users\\Mehmet\\Desktop\\new_splited_wheat_dataset\\tmp_train\\images\\Bezostaja1Vitreous\\20220425_152522.jpg: corrupt JPEG restored and saved\n",
      "\u001b[34m\u001b[1mtrain: \u001b[0mWARNING  C:\\Users\\Mehmet\\Desktop\\new_splited_wheat_dataset\\tmp_train\\images\\Bezostaja1Vitreous\\20220425_152531.jpg: corrupt JPEG restored and saved\n",
      "\u001b[34m\u001b[1mtrain: \u001b[0mWARNING  C:\\Users\\Mehmet\\Desktop\\new_splited_wheat_dataset\\tmp_train\\images\\Bezostaja1Vitreous\\20220425_152534.jpg: corrupt JPEG restored and saved\n",
      "\u001b[34m\u001b[1mtrain: \u001b[0mWARNING  C:\\Users\\Mehmet\\Desktop\\new_splited_wheat_dataset\\tmp_train\\images\\Bezostaja1Vitreous\\20220425_152538.jpg: corrupt JPEG restored and saved\n",
      "\u001b[34m\u001b[1mtrain: \u001b[0mWARNING  C:\\Users\\Mehmet\\Desktop\\new_splited_wheat_dataset\\tmp_train\\images\\Bezostaja1Vitreous\\20220425_152551.jpg: corrupt JPEG restored and saved\n",
      "\u001b[34m\u001b[1mtrain: \u001b[0mWARNING  C:\\Users\\Mehmet\\Desktop\\new_splited_wheat_dataset\\tmp_train\\images\\Bezostaja1Vitreous\\20220425_152557.jpg: corrupt JPEG restored and saved\n",
      "\u001b[34m\u001b[1mtrain: \u001b[0mWARNING  C:\\Users\\Mehmet\\Desktop\\new_splited_wheat_dataset\\tmp_train\\images\\Bezostaja1Vitreous\\20220425_152601.jpg: corrupt JPEG restored and saved\n",
      "\u001b[34m\u001b[1mtrain: \u001b[0mWARNING  C:\\Users\\Mehmet\\Desktop\\new_splited_wheat_dataset\\tmp_train\\images\\Bezostaja1Vitreous\\20220425_152619.jpg: corrupt JPEG restored and saved\n",
      "\u001b[34m\u001b[1mtrain: \u001b[0mWARNING  C:\\Users\\Mehmet\\Desktop\\new_splited_wheat_dataset\\tmp_train\\images\\Bezostaja1Vitreous\\20220425_152626.jpg: corrupt JPEG restored and saved\n",
      "\u001b[34m\u001b[1mtrain: \u001b[0mWARNING  C:\\Users\\Mehmet\\Desktop\\new_splited_wheat_dataset\\tmp_train\\images\\Bezostaja1Vitreous\\20220425_152632.jpg: corrupt JPEG restored and saved\n",
      "\u001b[34m\u001b[1mtrain: \u001b[0mWARNING  C:\\Users\\Mehmet\\Desktop\\new_splited_wheat_dataset\\tmp_train\\images\\Bezostaja1Vitreous\\20220425_152645.jpg: corrupt JPEG restored and saved\n",
      "\u001b[34m\u001b[1mtrain: \u001b[0mWARNING  C:\\Users\\Mehmet\\Desktop\\new_splited_wheat_dataset\\tmp_train\\images\\Bezostaja1Vitreous\\20220425_152647.jpg: corrupt JPEG restored and saved\n",
      "\u001b[34m\u001b[1mtrain: \u001b[0mWARNING  C:\\Users\\Mehmet\\Desktop\\new_splited_wheat_dataset\\tmp_train\\images\\Bezostaja1Vitreous\\20220425_152650.jpg: corrupt JPEG restored and saved\n",
      "\u001b[34m\u001b[1mtrain: \u001b[0mWARNING  C:\\Users\\Mehmet\\Desktop\\new_splited_wheat_dataset\\tmp_train\\images\\Bezostaja1Vitreous\\20220425_154532.jpg: corrupt JPEG restored and saved\n",
      "\u001b[34m\u001b[1mtrain: \u001b[0mWARNING  C:\\Users\\Mehmet\\Desktop\\new_splited_wheat_dataset\\tmp_train\\images\\Bezostaja1Vitreous\\20220425_154536.jpg: corrupt JPEG restored and saved\n",
      "\u001b[34m\u001b[1mtrain: \u001b[0mWARNING  C:\\Users\\Mehmet\\Desktop\\new_splited_wheat_dataset\\tmp_train\\images\\Bezostaja1Vitreous\\20220425_154540.jpg: corrupt JPEG restored and saved\n",
      "\u001b[34m\u001b[1mtrain: \u001b[0mWARNING  C:\\Users\\Mehmet\\Desktop\\new_splited_wheat_dataset\\tmp_train\\images\\Bezostaja1Vitreous\\20220425_154542.jpg: corrupt JPEG restored and saved\n",
      "\u001b[34m\u001b[1mtrain: \u001b[0mWARNING  C:\\Users\\Mehmet\\Desktop\\new_splited_wheat_dataset\\tmp_train\\images\\Bezostaja1Vitreous\\20220425_154544.jpg: corrupt JPEG restored and saved\n",
      "\u001b[34m\u001b[1mtrain: \u001b[0mWARNING  C:\\Users\\Mehmet\\Desktop\\new_splited_wheat_dataset\\tmp_train\\images\\Bezostaja1Vitreous\\20220425_154546.jpg: corrupt JPEG restored and saved\n",
      "\u001b[34m\u001b[1mtrain: \u001b[0mWARNING  C:\\Users\\Mehmet\\Desktop\\new_splited_wheat_dataset\\tmp_train\\images\\Bezostaja1Vitreous\\20220425_154548.jpg: corrupt JPEG restored and saved\n",
      "\u001b[34m\u001b[1mtrain: \u001b[0mWARNING  C:\\Users\\Mehmet\\Desktop\\new_splited_wheat_dataset\\tmp_train\\images\\Bezostaja1Vitreous\\20220425_154552.jpg: corrupt JPEG restored and saved\n",
      "\u001b[34m\u001b[1mtrain: \u001b[0mWARNING  C:\\Users\\Mehmet\\Desktop\\new_splited_wheat_dataset\\tmp_train\\images\\Bezostaja1Vitreous\\20220425_154554.jpg: corrupt JPEG restored and saved\n",
      "\u001b[34m\u001b[1mtrain: \u001b[0mWARNING  C:\\Users\\Mehmet\\Desktop\\new_splited_wheat_dataset\\tmp_train\\images\\Bezostaja1Vitreous\\20220425_154558.jpg: corrupt JPEG restored and saved\n",
      "\u001b[34m\u001b[1mtrain: \u001b[0mWARNING  C:\\Users\\Mehmet\\Desktop\\new_splited_wheat_dataset\\tmp_train\\images\\Bezostaja1Vitreous\\20220425_154603.jpg: corrupt JPEG restored and saved\n",
      "\u001b[34m\u001b[1mtrain: \u001b[0mWARNING  C:\\Users\\Mehmet\\Desktop\\new_splited_wheat_dataset\\tmp_train\\images\\Bezostaja1Vitreous\\20220425_154604.jpg: corrupt JPEG restored and saved\n",
      "\u001b[34m\u001b[1mtrain: \u001b[0mWARNING  C:\\Users\\Mehmet\\Desktop\\new_splited_wheat_dataset\\tmp_train\\images\\Bezostaja1Vitreous\\20220425_154606.jpg: corrupt JPEG restored and saved\n",
      "\u001b[34m\u001b[1mtrain: \u001b[0mWARNING  C:\\Users\\Mehmet\\Desktop\\new_splited_wheat_dataset\\tmp_train\\images\\Bezostaja1Vitreous\\20220425_154612.jpg: corrupt JPEG restored and saved\n",
      "\u001b[34m\u001b[1mtrain: \u001b[0mWARNING  C:\\Users\\Mehmet\\Desktop\\new_splited_wheat_dataset\\tmp_train\\images\\Bezostaja1Vitreous\\20220425_154628.jpg: corrupt JPEG restored and saved\n",
      "\u001b[34m\u001b[1mtrain: \u001b[0mWARNING  C:\\Users\\Mehmet\\Desktop\\new_splited_wheat_dataset\\tmp_train\\images\\Bezostaja1Vitreous\\20220425_154630.jpg: corrupt JPEG restored and saved\n",
      "\u001b[34m\u001b[1mtrain: \u001b[0mWARNING  C:\\Users\\Mehmet\\Desktop\\new_splited_wheat_dataset\\tmp_train\\images\\Bezostaja1Vitreous\\20220425_154637.jpg: corrupt JPEG restored and saved\n",
      "\u001b[34m\u001b[1mtrain: \u001b[0mWARNING  C:\\Users\\Mehmet\\Desktop\\new_splited_wheat_dataset\\tmp_train\\images\\Bezostaja1Vitreous\\20220425_154640.jpg: corrupt JPEG restored and saved\n",
      "\u001b[34m\u001b[1mtrain: \u001b[0mWARNING  C:\\Users\\Mehmet\\Desktop\\new_splited_wheat_dataset\\tmp_train\\images\\Bezostaja1Vitreous\\20220425_154652.jpg: corrupt JPEG restored and saved\n",
      "\u001b[34m\u001b[1mtrain: \u001b[0mWARNING  C:\\Users\\Mehmet\\Desktop\\new_splited_wheat_dataset\\tmp_train\\images\\Bezostaja1Vitreous\\20220425_154654.jpg: corrupt JPEG restored and saved\n",
      "\u001b[34m\u001b[1mtrain: \u001b[0mWARNING  C:\\Users\\Mehmet\\Desktop\\new_splited_wheat_dataset\\tmp_train\\images\\Bezostaja1Vitreous\\20220425_154656.jpg: corrupt JPEG restored and saved\n",
      "\u001b[34m\u001b[1mtrain: \u001b[0mWARNING  C:\\Users\\Mehmet\\Desktop\\new_splited_wheat_dataset\\tmp_train\\images\\Bezostaja1Vitreous\\20220425_154705.jpg: corrupt JPEG restored and saved\n",
      "\u001b[34m\u001b[1mtrain: \u001b[0mWARNING  C:\\Users\\Mehmet\\Desktop\\new_splited_wheat_dataset\\tmp_train\\images\\Bezostaja1Vitreous\\20220425_154709.jpg: corrupt JPEG restored and saved\n",
      "\u001b[34m\u001b[1mtrain: \u001b[0mWARNING  C:\\Users\\Mehmet\\Desktop\\new_splited_wheat_dataset\\tmp_train\\images\\Bezostaja1Vitreous\\20220425_154711.jpg: corrupt JPEG restored and saved\n",
      "\u001b[34m\u001b[1mtrain: \u001b[0mWARNING  C:\\Users\\Mehmet\\Desktop\\new_splited_wheat_dataset\\tmp_train\\images\\Bezostaja1Vitreous\\20220425_154713.jpg: corrupt JPEG restored and saved\n",
      "\u001b[34m\u001b[1mtrain: \u001b[0mWARNING  C:\\Users\\Mehmet\\Desktop\\new_splited_wheat_dataset\\tmp_train\\images\\Bezostaja1Vitreous\\20220425_154716.jpg: corrupt JPEG restored and saved\n",
      "\u001b[34m\u001b[1mtrain: \u001b[0mWARNING  C:\\Users\\Mehmet\\Desktop\\new_splited_wheat_dataset\\tmp_train\\images\\Bezostaja1Vitreous\\20220425_154720.jpg: corrupt JPEG restored and saved\n",
      "\u001b[34m\u001b[1mtrain: \u001b[0mWARNING  C:\\Users\\Mehmet\\Desktop\\new_splited_wheat_dataset\\tmp_train\\images\\Bezostaja1Vitreous\\20220425_154724.jpg: corrupt JPEG restored and saved\n",
      "\u001b[34m\u001b[1mtrain: \u001b[0mWARNING  C:\\Users\\Mehmet\\Desktop\\new_splited_wheat_dataset\\tmp_train\\images\\Bezostaja1Vitreous\\20220425_154728.jpg: corrupt JPEG restored and saved\n",
      "\u001b[34m\u001b[1mtrain: \u001b[0mWARNING  C:\\Users\\Mehmet\\Desktop\\new_splited_wheat_dataset\\tmp_train\\images\\Bezostaja1Vitreous\\20220425_154730.jpg: corrupt JPEG restored and saved\n",
      "\u001b[34m\u001b[1mtrain: \u001b[0mWARNING  C:\\Users\\Mehmet\\Desktop\\new_splited_wheat_dataset\\tmp_train\\images\\Bezostaja1Vitreous\\Bezostaja V.jpg: corrupt JPEG restored and saved\n",
      "\u001b[34m\u001b[1mtrain: \u001b[0mWARNING  C:\\Users\\Mehmet\\Desktop\\new_splited_wheat_dataset\\tmp_train\\images\\Delabrad2Vitreous\\20220427_122113.jpg: corrupt JPEG restored and saved\n",
      "\u001b[34m\u001b[1mtrain: \u001b[0mWARNING  C:\\Users\\Mehmet\\Desktop\\new_splited_wheat_dataset\\tmp_train\\images\\Delabrad2Vitreous\\20220427_122116.jpg: corrupt JPEG restored and saved\n",
      "\u001b[34m\u001b[1mtrain: \u001b[0mWARNING  C:\\Users\\Mehmet\\Desktop\\new_splited_wheat_dataset\\tmp_train\\images\\Delabrad2Vitreous\\20220427_122125.jpg: corrupt JPEG restored and saved\n",
      "\u001b[34m\u001b[1mtrain: \u001b[0mWARNING  C:\\Users\\Mehmet\\Desktop\\new_splited_wheat_dataset\\tmp_train\\images\\Delabrad2Vitreous\\20220427_122129.jpg: corrupt JPEG restored and saved\n",
      "\u001b[34m\u001b[1mtrain: \u001b[0mWARNING  C:\\Users\\Mehmet\\Desktop\\new_splited_wheat_dataset\\tmp_train\\images\\Delabrad2Vitreous\\20220427_122204.jpg: corrupt JPEG restored and saved\n",
      "\u001b[34m\u001b[1mtrain: \u001b[0mWARNING  C:\\Users\\Mehmet\\Desktop\\new_splited_wheat_dataset\\tmp_train\\images\\Delabrad2Vitreous\\20220427_122206.jpg: corrupt JPEG restored and saved\n",
      "\u001b[34m\u001b[1mtrain: \u001b[0mWARNING  C:\\Users\\Mehmet\\Desktop\\new_splited_wheat_dataset\\tmp_train\\images\\Delabrad2Vitreous\\20220427_122209.jpg: corrupt JPEG restored and saved\n",
      "\u001b[34m\u001b[1mtrain: \u001b[0mWARNING  C:\\Users\\Mehmet\\Desktop\\new_splited_wheat_dataset\\tmp_train\\images\\Delabrad2Vitreous\\20220427_122212.jpg: corrupt JPEG restored and saved\n",
      "\u001b[34m\u001b[1mtrain: \u001b[0mWARNING  C:\\Users\\Mehmet\\Desktop\\new_splited_wheat_dataset\\tmp_train\\images\\Delabrad2Vitreous\\20220427_122214.jpg: corrupt JPEG restored and saved\n",
      "\u001b[34m\u001b[1mtrain: \u001b[0mWARNING  C:\\Users\\Mehmet\\Desktop\\new_splited_wheat_dataset\\tmp_train\\images\\Delabrad2Vitreous\\20220427_122216.jpg: corrupt JPEG restored and saved\n",
      "\u001b[34m\u001b[1mtrain: \u001b[0mWARNING  C:\\Users\\Mehmet\\Desktop\\new_splited_wheat_dataset\\tmp_train\\images\\Delabrad2Vitreous\\20220427_122232.jpg: corrupt JPEG restored and saved\n",
      "\u001b[34m\u001b[1mtrain: \u001b[0mWARNING  C:\\Users\\Mehmet\\Desktop\\new_splited_wheat_dataset\\tmp_train\\images\\Delabrad2Vitreous\\20220427_122242.jpg: corrupt JPEG restored and saved\n",
      "\u001b[34m\u001b[1mtrain: \u001b[0mWARNING  C:\\Users\\Mehmet\\Desktop\\new_splited_wheat_dataset\\tmp_train\\images\\Delabrad2Vitreous\\20220427_122251.jpg: corrupt JPEG restored and saved\n",
      "\u001b[34m\u001b[1mtrain: \u001b[0mWARNING  C:\\Users\\Mehmet\\Desktop\\new_splited_wheat_dataset\\tmp_train\\images\\Delabrad2Vitreous\\20220427_122311.jpg: corrupt JPEG restored and saved\n",
      "\u001b[34m\u001b[1mtrain: \u001b[0mWARNING  C:\\Users\\Mehmet\\Desktop\\new_splited_wheat_dataset\\tmp_train\\images\\Delabrad2Vitreous\\20220427_122317.jpg: corrupt JPEG restored and saved\n",
      "\u001b[34m\u001b[1mtrain: \u001b[0mWARNING  C:\\Users\\Mehmet\\Desktop\\new_splited_wheat_dataset\\tmp_train\\images\\Delabrad2Vitreous\\20220427_122319.jpg: corrupt JPEG restored and saved\n",
      "\u001b[34m\u001b[1mtrain: \u001b[0mWARNING  C:\\Users\\Mehmet\\Desktop\\new_splited_wheat_dataset\\tmp_train\\images\\Delabrad2Vitreous\\20220427_122323.jpg: corrupt JPEG restored and saved\n",
      "\u001b[34m\u001b[1mtrain: \u001b[0mWARNING  C:\\Users\\Mehmet\\Desktop\\new_splited_wheat_dataset\\tmp_train\\images\\Delabrad2Vitreous\\20220427_122330.jpg: corrupt JPEG restored and saved\n",
      "\u001b[34m\u001b[1mtrain: \u001b[0mWARNING  C:\\Users\\Mehmet\\Desktop\\new_splited_wheat_dataset\\tmp_train\\images\\Delabrad2Vitreous\\20220427_122334.jpg: corrupt JPEG restored and saved\n",
      "\u001b[34m\u001b[1mtrain: \u001b[0mWARNING  C:\\Users\\Mehmet\\Desktop\\new_splited_wheat_dataset\\tmp_train\\images\\Delabrad2Vitreous\\20220427_122340.jpg: corrupt JPEG restored and saved\n",
      "\u001b[34m\u001b[1mtrain: \u001b[0mWARNING  C:\\Users\\Mehmet\\Desktop\\new_splited_wheat_dataset\\tmp_train\\images\\Delabrad2Vitreous\\20220427_122346.jpg: corrupt JPEG restored and saved\n",
      "\u001b[34m\u001b[1mtrain: \u001b[0mWARNING  C:\\Users\\Mehmet\\Desktop\\new_splited_wheat_dataset\\tmp_train\\images\\Delabrad2Vitreous\\20220427_122348.jpg: corrupt JPEG restored and saved\n",
      "\u001b[34m\u001b[1mtrain: \u001b[0mWARNING  C:\\Users\\Mehmet\\Desktop\\new_splited_wheat_dataset\\tmp_train\\images\\Delabrad2Vitreous\\20220427_122357.jpg: corrupt JPEG restored and saved\n",
      "\u001b[34m\u001b[1mtrain: \u001b[0mWARNING  C:\\Users\\Mehmet\\Desktop\\new_splited_wheat_dataset\\tmp_train\\images\\Delabrad2Vitreous\\20220427_122400.jpg: corrupt JPEG restored and saved\n",
      "\u001b[34m\u001b[1mtrain: \u001b[0mWARNING  C:\\Users\\Mehmet\\Desktop\\new_splited_wheat_dataset\\tmp_train\\images\\Delabrad2Vitreous\\20220427_122403.jpg: corrupt JPEG restored and saved\n",
      "\u001b[34m\u001b[1mtrain: \u001b[0mWARNING  C:\\Users\\Mehmet\\Desktop\\new_splited_wheat_dataset\\tmp_train\\images\\Delabrad2Vitreous\\20220427_122407.jpg: corrupt JPEG restored and saved\n",
      "\u001b[34m\u001b[1mtrain: \u001b[0mWARNING  C:\\Users\\Mehmet\\Desktop\\new_splited_wheat_dataset\\tmp_train\\images\\Delabrad2Vitreous\\20220427_122420.jpg: corrupt JPEG restored and saved\n",
      "\u001b[34m\u001b[1mtrain: \u001b[0mWARNING  C:\\Users\\Mehmet\\Desktop\\new_splited_wheat_dataset\\tmp_train\\images\\Delabrad2Vitreous\\20220427_122422.jpg: corrupt JPEG restored and saved\n",
      "\u001b[34m\u001b[1mtrain: \u001b[0mWARNING  C:\\Users\\Mehmet\\Desktop\\new_splited_wheat_dataset\\tmp_train\\images\\Delabrad2Vitreous\\20220427_122424.jpg: corrupt JPEG restored and saved\n",
      "\u001b[34m\u001b[1mtrain: \u001b[0mWARNING  C:\\Users\\Mehmet\\Desktop\\new_splited_wheat_dataset\\tmp_train\\images\\Delabrad2Vitreous\\20220427_122428.jpg: corrupt JPEG restored and saved\n",
      "\u001b[34m\u001b[1mtrain: \u001b[0mWARNING  C:\\Users\\Mehmet\\Desktop\\new_splited_wheat_dataset\\tmp_train\\images\\Delabrad2Vitreous\\20220427_122433.jpg: corrupt JPEG restored and saved\n",
      "\u001b[34m\u001b[1mtrain: \u001b[0mWARNING  C:\\Users\\Mehmet\\Desktop\\new_splited_wheat_dataset\\tmp_train\\images\\Delabrad2Vitreous\\20220427_122435.jpg: corrupt JPEG restored and saved\n",
      "\u001b[34m\u001b[1mtrain: \u001b[0mWARNING  C:\\Users\\Mehmet\\Desktop\\new_splited_wheat_dataset\\tmp_train\\images\\Delabrad2Vitreous\\20220427_122439.jpg: corrupt JPEG restored and saved\n",
      "\u001b[34m\u001b[1mtrain: \u001b[0mWARNING  C:\\Users\\Mehmet\\Desktop\\new_splited_wheat_dataset\\tmp_train\\images\\Delabrad2Vitreous\\20220427_122442.jpg: corrupt JPEG restored and saved\n",
      "\u001b[34m\u001b[1mtrain: \u001b[0mWARNING  C:\\Users\\Mehmet\\Desktop\\new_splited_wheat_dataset\\tmp_train\\images\\Delabrad2Vitreous\\20220427_122444.jpg: corrupt JPEG restored and saved\n",
      "\u001b[34m\u001b[1mtrain: \u001b[0mWARNING  C:\\Users\\Mehmet\\Desktop\\new_splited_wheat_dataset\\tmp_train\\images\\Delabrad2Vitreous\\20220427_122449.jpg: corrupt JPEG restored and saved\n",
      "\u001b[34m\u001b[1mtrain: \u001b[0mWARNING  C:\\Users\\Mehmet\\Desktop\\new_splited_wheat_dataset\\tmp_train\\images\\Delabrad2Vitreous\\20220427_122453.jpg: corrupt JPEG restored and saved\n",
      "\u001b[34m\u001b[1mtrain: \u001b[0mWARNING  C:\\Users\\Mehmet\\Desktop\\new_splited_wheat_dataset\\tmp_train\\images\\Delabrad2Vitreous\\20220427_122455.jpg: corrupt JPEG restored and saved\n",
      "\u001b[34m\u001b[1mtrain: \u001b[0mWARNING  C:\\Users\\Mehmet\\Desktop\\new_splited_wheat_dataset\\tmp_train\\images\\Delabrad2Vitreous\\20220427_122458.jpg: corrupt JPEG restored and saved\n",
      "\u001b[34m\u001b[1mtrain: \u001b[0mWARNING  C:\\Users\\Mehmet\\Desktop\\new_splited_wheat_dataset\\tmp_train\\images\\Delabrad2Vitreous\\20220427_122500.jpg: corrupt JPEG restored and saved\n",
      "\u001b[34m\u001b[1mtrain: \u001b[0mWARNING  C:\\Users\\Mehmet\\Desktop\\new_splited_wheat_dataset\\tmp_train\\images\\Delabrad2Vitreous\\20220427_122503.jpg: corrupt JPEG restored and saved\n",
      "\u001b[34m\u001b[1mtrain: \u001b[0mWARNING  C:\\Users\\Mehmet\\Desktop\\new_splited_wheat_dataset\\tmp_train\\images\\Delabrad2Vitreous\\20220427_122514.jpg: corrupt JPEG restored and saved\n",
      "\u001b[34m\u001b[1mtrain: \u001b[0mWARNING  C:\\Users\\Mehmet\\Desktop\\new_splited_wheat_dataset\\tmp_train\\images\\Delabrad2Vitreous\\20220427_122517.jpg: corrupt JPEG restored and saved\n",
      "\u001b[34m\u001b[1mtrain: \u001b[0mWARNING  C:\\Users\\Mehmet\\Desktop\\new_splited_wheat_dataset\\tmp_train\\images\\Delabrad2Vitreous\\20220427_122521.jpg: corrupt JPEG restored and saved\n",
      "\u001b[34m\u001b[1mtrain: \u001b[0mWARNING  C:\\Users\\Mehmet\\Desktop\\new_splited_wheat_dataset\\tmp_train\\images\\Delabrad2Vitreous\\20220427_122527.jpg: corrupt JPEG restored and saved\n",
      "\u001b[34m\u001b[1mtrain: \u001b[0mWARNING  C:\\Users\\Mehmet\\Desktop\\new_splited_wheat_dataset\\tmp_train\\images\\Delabrad2Vitreous\\20220427_122543.jpg: corrupt JPEG restored and saved\n",
      "\u001b[34m\u001b[1mtrain: \u001b[0mWARNING  C:\\Users\\Mehmet\\Desktop\\new_splited_wheat_dataset\\tmp_train\\images\\Delabrad2Vitreous\\20220427_122545.jpg: corrupt JPEG restored and saved\n",
      "\u001b[34m\u001b[1mtrain: \u001b[0mWARNING  C:\\Users\\Mehmet\\Desktop\\new_splited_wheat_dataset\\tmp_train\\images\\Delabrad2Vitreous\\20220427_122555.jpg: corrupt JPEG restored and saved\n",
      "\u001b[34m\u001b[1mtrain: \u001b[0mWARNING  C:\\Users\\Mehmet\\Desktop\\new_splited_wheat_dataset\\tmp_train\\images\\Delabrad2Vitreous\\20220427_122608.jpg: corrupt JPEG restored and saved\n",
      "\u001b[34m\u001b[1mtrain: \u001b[0mWARNING  C:\\Users\\Mehmet\\Desktop\\new_splited_wheat_dataset\\tmp_train\\images\\Delabrad2Vitreous\\20220427_122619.jpg: corrupt JPEG restored and saved\n",
      "\u001b[34m\u001b[1mtrain: \u001b[0mWARNING  C:\\Users\\Mehmet\\Desktop\\new_splited_wheat_dataset\\tmp_train\\images\\Delabrad2Vitreous\\20220427_122621.jpg: corrupt JPEG restored and saved\n",
      "\u001b[34m\u001b[1mtrain: \u001b[0mWARNING  C:\\Users\\Mehmet\\Desktop\\new_splited_wheat_dataset\\tmp_train\\images\\Delabrad2Vitreous\\20220427_122623.jpg: corrupt JPEG restored and saved\n",
      "\u001b[34m\u001b[1mtrain: \u001b[0mWARNING  C:\\Users\\Mehmet\\Desktop\\new_splited_wheat_dataset\\tmp_train\\images\\Delabrad2Vitreous\\20220427_122625.jpg: corrupt JPEG restored and saved\n",
      "\u001b[34m\u001b[1mtrain: \u001b[0mWARNING  C:\\Users\\Mehmet\\Desktop\\new_splited_wheat_dataset\\tmp_train\\images\\Delabrad2Vitreous\\20220427_122627.jpg: corrupt JPEG restored and saved\n",
      "\u001b[34m\u001b[1mtrain: \u001b[0mWARNING  C:\\Users\\Mehmet\\Desktop\\new_splited_wheat_dataset\\tmp_train\\images\\Delabrad2Vitreous\\20220427_122642.jpg: corrupt JPEG restored and saved\n",
      "\u001b[34m\u001b[1mtrain: \u001b[0mWARNING  C:\\Users\\Mehmet\\Desktop\\new_splited_wheat_dataset\\tmp_train\\images\\Delabrad2Vitreous\\20220427_122644.jpg: corrupt JPEG restored and saved\n",
      "\u001b[34m\u001b[1mtrain: \u001b[0mWARNING  C:\\Users\\Mehmet\\Desktop\\new_splited_wheat_dataset\\tmp_train\\images\\Delabrad2Vitreous\\20220427_122648.jpg: corrupt JPEG restored and saved\n",
      "\u001b[34m\u001b[1mtrain: \u001b[0mWARNING  C:\\Users\\Mehmet\\Desktop\\new_splited_wheat_dataset\\tmp_train\\images\\Delabrad2Vitreous\\20220427_122651.jpg: corrupt JPEG restored and saved\n",
      "\u001b[34m\u001b[1mtrain: \u001b[0mWARNING  C:\\Users\\Mehmet\\Desktop\\new_splited_wheat_dataset\\tmp_train\\images\\Delabrad2Vitreous\\20220427_122658.jpg: corrupt JPEG restored and saved\n",
      "\u001b[34m\u001b[1mtrain: \u001b[0mWARNING  C:\\Users\\Mehmet\\Desktop\\new_splited_wheat_dataset\\tmp_train\\images\\Delabrad2Vitreous\\20220427_122702.jpg: corrupt JPEG restored and saved\n",
      "\u001b[34m\u001b[1mtrain: \u001b[0mWARNING  C:\\Users\\Mehmet\\Desktop\\new_splited_wheat_dataset\\tmp_train\\images\\Delabrad2Vitreous\\20220427_122704.jpg: corrupt JPEG restored and saved\n",
      "\u001b[34m\u001b[1mtrain: \u001b[0mWARNING  C:\\Users\\Mehmet\\Desktop\\new_splited_wheat_dataset\\tmp_train\\images\\EkizVitreous\\20220426_163549.jpg: corrupt JPEG restored and saved\n",
      "\u001b[34m\u001b[1mtrain: \u001b[0mWARNING  C:\\Users\\Mehmet\\Desktop\\new_splited_wheat_dataset\\tmp_train\\images\\EkizVitreous\\20220426_163552.jpg: corrupt JPEG restored and saved\n",
      "\u001b[34m\u001b[1mtrain: \u001b[0mWARNING  C:\\Users\\Mehmet\\Desktop\\new_splited_wheat_dataset\\tmp_train\\images\\EkizVitreous\\20220426_163555.jpg: corrupt JPEG restored and saved\n",
      "\u001b[34m\u001b[1mtrain: \u001b[0mWARNING  C:\\Users\\Mehmet\\Desktop\\new_splited_wheat_dataset\\tmp_train\\images\\EkizVitreous\\20220426_163558.jpg: corrupt JPEG restored and saved\n",
      "\u001b[34m\u001b[1mtrain: \u001b[0mWARNING  C:\\Users\\Mehmet\\Desktop\\new_splited_wheat_dataset\\tmp_train\\images\\EkizVitreous\\20220426_163602.jpg: corrupt JPEG restored and saved\n",
      "\u001b[34m\u001b[1mtrain: \u001b[0mWARNING  C:\\Users\\Mehmet\\Desktop\\new_splited_wheat_dataset\\tmp_train\\images\\EkizVitreous\\20220426_163605.jpg: corrupt JPEG restored and saved\n",
      "\u001b[34m\u001b[1mtrain: \u001b[0mWARNING  C:\\Users\\Mehmet\\Desktop\\new_splited_wheat_dataset\\tmp_train\\images\\EkizVitreous\\20220426_163611.jpg: corrupt JPEG restored and saved\n",
      "\u001b[34m\u001b[1mtrain: \u001b[0mWARNING  C:\\Users\\Mehmet\\Desktop\\new_splited_wheat_dataset\\tmp_train\\images\\EkizVitreous\\20220426_163631.jpg: corrupt JPEG restored and saved\n",
      "\u001b[34m\u001b[1mtrain: \u001b[0mWARNING  C:\\Users\\Mehmet\\Desktop\\new_splited_wheat_dataset\\tmp_train\\images\\EkizVitreous\\20220426_163634.jpg: corrupt JPEG restored and saved\n",
      "\u001b[34m\u001b[1mtrain: \u001b[0mWARNING  C:\\Users\\Mehmet\\Desktop\\new_splited_wheat_dataset\\tmp_train\\images\\EkizVitreous\\20220426_163640.jpg: corrupt JPEG restored and saved\n",
      "\u001b[34m\u001b[1mtrain: \u001b[0mWARNING  C:\\Users\\Mehmet\\Desktop\\new_splited_wheat_dataset\\tmp_train\\images\\EkizVitreous\\20220426_163646.jpg: corrupt JPEG restored and saved\n",
      "\u001b[34m\u001b[1mtrain: \u001b[0mWARNING  C:\\Users\\Mehmet\\Desktop\\new_splited_wheat_dataset\\tmp_train\\images\\EkizVitreous\\20220426_163658.jpg: corrupt JPEG restored and saved\n",
      "\u001b[34m\u001b[1mtrain: \u001b[0mWARNING  C:\\Users\\Mehmet\\Desktop\\new_splited_wheat_dataset\\tmp_train\\images\\EkizVitreous\\20220426_163703.jpg: corrupt JPEG restored and saved\n",
      "\u001b[34m\u001b[1mtrain: \u001b[0mWARNING  C:\\Users\\Mehmet\\Desktop\\new_splited_wheat_dataset\\tmp_train\\images\\EkizVitreous\\20220426_163705.jpg: corrupt JPEG restored and saved\n",
      "\u001b[34m\u001b[1mtrain: \u001b[0mWARNING  C:\\Users\\Mehmet\\Desktop\\new_splited_wheat_dataset\\tmp_train\\images\\EkizVitreous\\20220426_163724.jpg: corrupt JPEG restored and saved\n",
      "\u001b[34m\u001b[1mtrain: \u001b[0mWARNING  C:\\Users\\Mehmet\\Desktop\\new_splited_wheat_dataset\\tmp_train\\images\\EkizVitreous\\20220426_163744.jpg: corrupt JPEG restored and saved\n",
      "\u001b[34m\u001b[1mtrain: \u001b[0mWARNING  C:\\Users\\Mehmet\\Desktop\\new_splited_wheat_dataset\\tmp_train\\images\\EkizVitreous\\20220426_163751.jpg: corrupt JPEG restored and saved\n",
      "\u001b[34m\u001b[1mtrain: \u001b[0mWARNING  C:\\Users\\Mehmet\\Desktop\\new_splited_wheat_dataset\\tmp_train\\images\\EkizVitreous\\20220426_163801.jpg: corrupt JPEG restored and saved\n",
      "\u001b[34m\u001b[1mtrain: \u001b[0mWARNING  C:\\Users\\Mehmet\\Desktop\\new_splited_wheat_dataset\\tmp_train\\images\\EkizVitreous\\20220426_163804.jpg: corrupt JPEG restored and saved\n",
      "\u001b[34m\u001b[1mtrain: \u001b[0mWARNING  C:\\Users\\Mehmet\\Desktop\\new_splited_wheat_dataset\\tmp_train\\images\\EkizVitreous\\20220426_163813.jpg: corrupt JPEG restored and saved\n",
      "\u001b[34m\u001b[1mtrain: \u001b[0mWARNING  C:\\Users\\Mehmet\\Desktop\\new_splited_wheat_dataset\\tmp_train\\images\\EkizVitreous\\20220426_163818.jpg: corrupt JPEG restored and saved\n",
      "\u001b[34m\u001b[1mtrain: \u001b[0mWARNING  C:\\Users\\Mehmet\\Desktop\\new_splited_wheat_dataset\\tmp_train\\images\\EkizVitreous\\20220426_163821.jpg: corrupt JPEG restored and saved\n",
      "\u001b[34m\u001b[1mtrain: \u001b[0mWARNING  C:\\Users\\Mehmet\\Desktop\\new_splited_wheat_dataset\\tmp_train\\images\\EkizVitreous\\20220426_163832.jpg: corrupt JPEG restored and saved\n",
      "\u001b[34m\u001b[1mtrain: \u001b[0mWARNING  C:\\Users\\Mehmet\\Desktop\\new_splited_wheat_dataset\\tmp_train\\images\\EkizVitreous\\20220426_163836.jpg: corrupt JPEG restored and saved\n",
      "\u001b[34m\u001b[1mtrain: \u001b[0mWARNING  C:\\Users\\Mehmet\\Desktop\\new_splited_wheat_dataset\\tmp_train\\images\\EkizVitreous\\20220426_163839.jpg: corrupt JPEG restored and saved\n",
      "\u001b[34m\u001b[1mtrain: \u001b[0mWARNING  C:\\Users\\Mehmet\\Desktop\\new_splited_wheat_dataset\\tmp_train\\images\\EkizVitreous\\20220426_163841.jpg: corrupt JPEG restored and saved\n",
      "\u001b[34m\u001b[1mtrain: \u001b[0mWARNING  C:\\Users\\Mehmet\\Desktop\\new_splited_wheat_dataset\\tmp_train\\images\\EkizVitreous\\20220426_163844.jpg: corrupt JPEG restored and saved\n",
      "\u001b[34m\u001b[1mtrain: \u001b[0mWARNING  C:\\Users\\Mehmet\\Desktop\\new_splited_wheat_dataset\\tmp_train\\images\\EkizVitreous\\20220426_163851.jpg: corrupt JPEG restored and saved\n",
      "\u001b[34m\u001b[1mtrain: \u001b[0mWARNING  C:\\Users\\Mehmet\\Desktop\\new_splited_wheat_dataset\\tmp_train\\images\\EkizVitreous\\20220426_163854.jpg: corrupt JPEG restored and saved\n",
      "\u001b[34m\u001b[1mtrain: \u001b[0mWARNING  C:\\Users\\Mehmet\\Desktop\\new_splited_wheat_dataset\\tmp_train\\images\\EkizVitreous\\20220426_163912.jpg: corrupt JPEG restored and saved\n",
      "\u001b[34m\u001b[1mtrain: \u001b[0mWARNING  C:\\Users\\Mehmet\\Desktop\\new_splited_wheat_dataset\\tmp_train\\images\\EkizVitreous\\20220426_163915.jpg: corrupt JPEG restored and saved\n",
      "\u001b[34m\u001b[1mtrain: \u001b[0mWARNING  C:\\Users\\Mehmet\\Desktop\\new_splited_wheat_dataset\\tmp_train\\images\\EkizVitreous\\20220426_163918.jpg: corrupt JPEG restored and saved\n",
      "\u001b[34m\u001b[1mtrain: \u001b[0mWARNING  C:\\Users\\Mehmet\\Desktop\\new_splited_wheat_dataset\\tmp_train\\images\\EkizVitreous\\20220426_163924.jpg: corrupt JPEG restored and saved\n",
      "\u001b[34m\u001b[1mtrain: \u001b[0mWARNING  C:\\Users\\Mehmet\\Desktop\\new_splited_wheat_dataset\\tmp_train\\images\\EkizVitreous\\20220426_163926.jpg: corrupt JPEG restored and saved\n",
      "\u001b[34m\u001b[1mtrain: \u001b[0mWARNING  C:\\Users\\Mehmet\\Desktop\\new_splited_wheat_dataset\\tmp_train\\images\\EkizVitreous\\20220426_163930.jpg: corrupt JPEG restored and saved\n",
      "\u001b[34m\u001b[1mtrain: \u001b[0mWARNING  C:\\Users\\Mehmet\\Desktop\\new_splited_wheat_dataset\\tmp_train\\images\\EkizVitreous\\20220426_163939.jpg: corrupt JPEG restored and saved\n",
      "\u001b[34m\u001b[1mtrain: \u001b[0mWARNING  C:\\Users\\Mehmet\\Desktop\\new_splited_wheat_dataset\\tmp_train\\images\\EkizVitreous\\20220426_163941.jpg: corrupt JPEG restored and saved\n",
      "\u001b[34m\u001b[1mtrain: \u001b[0mWARNING  C:\\Users\\Mehmet\\Desktop\\new_splited_wheat_dataset\\tmp_train\\images\\EkizVitreous\\20220426_163945.jpg: corrupt JPEG restored and saved\n",
      "\u001b[34m\u001b[1mtrain: \u001b[0mWARNING  C:\\Users\\Mehmet\\Desktop\\new_splited_wheat_dataset\\tmp_train\\images\\EkizVitreous\\20220426_163948.jpg: corrupt JPEG restored and saved\n",
      "\u001b[34m\u001b[1mtrain: \u001b[0mWARNING  C:\\Users\\Mehmet\\Desktop\\new_splited_wheat_dataset\\tmp_train\\images\\EkizVitreous\\20220426_163950.jpg: corrupt JPEG restored and saved\n",
      "\u001b[34m\u001b[1mtrain: \u001b[0mWARNING  C:\\Users\\Mehmet\\Desktop\\new_splited_wheat_dataset\\tmp_train\\images\\EkizVitreous\\20220426_163955.jpg: corrupt JPEG restored and saved\n",
      "\u001b[34m\u001b[1mtrain: \u001b[0mWARNING  C:\\Users\\Mehmet\\Desktop\\new_splited_wheat_dataset\\tmp_train\\images\\EkizVitreous\\20220426_163957.jpg: corrupt JPEG restored and saved\n",
      "\u001b[34m\u001b[1mtrain: \u001b[0mWARNING  C:\\Users\\Mehmet\\Desktop\\new_splited_wheat_dataset\\tmp_train\\images\\EkizVitreous\\20220426_164001.jpg: corrupt JPEG restored and saved\n",
      "\u001b[34m\u001b[1mtrain: \u001b[0mWARNING  C:\\Users\\Mehmet\\Desktop\\new_splited_wheat_dataset\\tmp_train\\images\\EkizVitreous\\20220426_164006.jpg: corrupt JPEG restored and saved\n",
      "\u001b[34m\u001b[1mtrain: \u001b[0mWARNING  C:\\Users\\Mehmet\\Desktop\\new_splited_wheat_dataset\\tmp_train\\images\\EkizVitreous\\20220426_164011.jpg: corrupt JPEG restored and saved\n",
      "\u001b[34m\u001b[1mtrain: \u001b[0mWARNING  C:\\Users\\Mehmet\\Desktop\\new_splited_wheat_dataset\\tmp_train\\images\\EkizVitreous\\20220426_164013.jpg: corrupt JPEG restored and saved\n",
      "\u001b[34m\u001b[1mtrain: \u001b[0mWARNING  C:\\Users\\Mehmet\\Desktop\\new_splited_wheat_dataset\\tmp_train\\images\\EkizVitreous\\20220426_164016.jpg: corrupt JPEG restored and saved\n",
      "\u001b[34m\u001b[1mtrain: \u001b[0mWARNING  C:\\Users\\Mehmet\\Desktop\\new_splited_wheat_dataset\\tmp_train\\images\\EkizVitreous\\20220426_164019.jpg: corrupt JPEG restored and saved\n",
      "\u001b[34m\u001b[1mtrain: \u001b[0mWARNING  C:\\Users\\Mehmet\\Desktop\\new_splited_wheat_dataset\\tmp_train\\images\\EkizVitreous\\20220426_164023.jpg: corrupt JPEG restored and saved\n",
      "\u001b[34m\u001b[1mtrain: \u001b[0mWARNING  C:\\Users\\Mehmet\\Desktop\\new_splited_wheat_dataset\\tmp_train\\images\\EkizVitreous\\20220426_164031.jpg: corrupt JPEG restored and saved\n",
      "\u001b[34m\u001b[1mtrain: \u001b[0mWARNING  C:\\Users\\Mehmet\\Desktop\\new_splited_wheat_dataset\\tmp_train\\images\\EkizVitreous\\20220426_164038.jpg: corrupt JPEG restored and saved\n",
      "\u001b[34m\u001b[1mtrain: \u001b[0mWARNING  C:\\Users\\Mehmet\\Desktop\\new_splited_wheat_dataset\\tmp_train\\images\\EkizVitreous\\20220426_164040.jpg: corrupt JPEG restored and saved\n",
      "\u001b[34m\u001b[1mtrain: \u001b[0mWARNING  C:\\Users\\Mehmet\\Desktop\\new_splited_wheat_dataset\\tmp_train\\images\\EkizVitreous\\20220426_164049.jpg: corrupt JPEG restored and saved\n",
      "\u001b[34m\u001b[1mtrain: \u001b[0mWARNING  C:\\Users\\Mehmet\\Desktop\\new_splited_wheat_dataset\\tmp_train\\images\\EkizVitreous\\20220426_164052.jpg: corrupt JPEG restored and saved\n",
      "\u001b[34m\u001b[1mtrain: \u001b[0mWARNING  C:\\Users\\Mehmet\\Desktop\\new_splited_wheat_dataset\\tmp_train\\images\\EkizVitreous\\20220426_164054.jpg: corrupt JPEG restored and saved\n",
      "\u001b[34m\u001b[1mtrain: \u001b[0mWARNING  C:\\Users\\Mehmet\\Desktop\\new_splited_wheat_dataset\\tmp_train\\images\\EkizVitreous\\20220426_164058.jpg: corrupt JPEG restored and saved\n",
      "\u001b[34m\u001b[1mtrain: \u001b[0mWARNING  C:\\Users\\Mehmet\\Desktop\\new_splited_wheat_dataset\\tmp_train\\images\\EkizVitreous\\20220426_164100.jpg: corrupt JPEG restored and saved\n",
      "\u001b[34m\u001b[1mtrain: \u001b[0mWARNING  C:\\Users\\Mehmet\\Desktop\\new_splited_wheat_dataset\\tmp_train\\images\\EkizVitreous\\20220426_164111.jpg: corrupt JPEG restored and saved\n",
      "\u001b[34m\u001b[1mtrain: \u001b[0mWARNING  C:\\Users\\Mehmet\\Desktop\\new_splited_wheat_dataset\\tmp_train\\images\\EkizVitreous\\20220426_164121.jpg: corrupt JPEG restored and saved\n",
      "\u001b[34m\u001b[1mtrain: \u001b[0mWARNING  C:\\Users\\Mehmet\\Desktop\\new_splited_wheat_dataset\\tmp_train\\images\\EkizVitreous\\20220426_164123.jpg: corrupt JPEG restored and saved\n",
      "\u001b[34m\u001b[1mtrain: \u001b[0mWARNING  C:\\Users\\Mehmet\\Desktop\\new_splited_wheat_dataset\\tmp_train\\images\\EkizVitreous\\20220426_164126.jpg: corrupt JPEG restored and saved\n",
      "\u001b[34m\u001b[1mtrain: \u001b[0mWARNING  C:\\Users\\Mehmet\\Desktop\\new_splited_wheat_dataset\\tmp_train\\images\\EkizVitreous\\20220426_164131.jpg: corrupt JPEG restored and saved\n",
      "\u001b[34m\u001b[1mtrain: \u001b[0mWARNING  C:\\Users\\Mehmet\\Desktop\\new_splited_wheat_dataset\\tmp_train\\images\\EkizVitreous\\20220426_164135.jpg: corrupt JPEG restored and saved\n",
      "\u001b[34m\u001b[1mtrain: \u001b[0mWARNING  C:\\Users\\Mehmet\\Desktop\\new_splited_wheat_dataset\\tmp_train\\images\\EkizVitreous\\20220426_164140.jpg: corrupt JPEG restored and saved\n",
      "\u001b[34m\u001b[1mtrain: \u001b[0mWARNING  C:\\Users\\Mehmet\\Desktop\\new_splited_wheat_dataset\\tmp_train\\images\\EkizVitreous\\20220426_164148.jpg: corrupt JPEG restored and saved\n",
      "\u001b[34m\u001b[1mtrain: \u001b[0mWARNING  C:\\Users\\Mehmet\\Desktop\\new_splited_wheat_dataset\\tmp_train\\images\\EkizVitreous\\20220426_164154.jpg: corrupt JPEG restored and saved\n",
      "\u001b[34m\u001b[1mtrain: \u001b[0mWARNING  C:\\Users\\Mehmet\\Desktop\\new_splited_wheat_dataset\\tmp_train\\images\\EkizVitreous\\20220426_164158.jpg: corrupt JPEG restored and saved\n",
      "\u001b[34m\u001b[1mtrain: \u001b[0mWARNING  C:\\Users\\Mehmet\\Desktop\\new_splited_wheat_dataset\\tmp_train\\images\\EsperiaVitreous\\20220425_170955.jpg: corrupt JPEG restored and saved\n",
      "\u001b[34m\u001b[1mtrain: \u001b[0mWARNING  C:\\Users\\Mehmet\\Desktop\\new_splited_wheat_dataset\\tmp_train\\images\\EsperiaVitreous\\20220425_170958.jpg: corrupt JPEG restored and saved\n",
      "\u001b[34m\u001b[1mtrain: \u001b[0mWARNING  C:\\Users\\Mehmet\\Desktop\\new_splited_wheat_dataset\\tmp_train\\images\\EsperiaVitreous\\20220425_171001.jpg: corrupt JPEG restored and saved\n",
      "\u001b[34m\u001b[1mtrain: \u001b[0mWARNING  C:\\Users\\Mehmet\\Desktop\\new_splited_wheat_dataset\\tmp_train\\images\\EsperiaVitreous\\20220425_171011.jpg: corrupt JPEG restored and saved\n",
      "\u001b[34m\u001b[1mtrain: \u001b[0mWARNING  C:\\Users\\Mehmet\\Desktop\\new_splited_wheat_dataset\\tmp_train\\images\\EsperiaVitreous\\20220425_171015.jpg: corrupt JPEG restored and saved\n",
      "\u001b[34m\u001b[1mtrain: \u001b[0mWARNING  C:\\Users\\Mehmet\\Desktop\\new_splited_wheat_dataset\\tmp_train\\images\\EsperiaVitreous\\20220425_171017.jpg: corrupt JPEG restored and saved\n",
      "\u001b[34m\u001b[1mtrain: \u001b[0mWARNING  C:\\Users\\Mehmet\\Desktop\\new_splited_wheat_dataset\\tmp_train\\images\\EsperiaVitreous\\20220425_171020.jpg: corrupt JPEG restored and saved\n",
      "\u001b[34m\u001b[1mtrain: \u001b[0mWARNING  C:\\Users\\Mehmet\\Desktop\\new_splited_wheat_dataset\\tmp_train\\images\\EsperiaVitreous\\20220425_171023.jpg: corrupt JPEG restored and saved\n",
      "\u001b[34m\u001b[1mtrain: \u001b[0mWARNING  C:\\Users\\Mehmet\\Desktop\\new_splited_wheat_dataset\\tmp_train\\images\\EsperiaVitreous\\20220425_171027.jpg: corrupt JPEG restored and saved\n",
      "\u001b[34m\u001b[1mtrain: \u001b[0mWARNING  C:\\Users\\Mehmet\\Desktop\\new_splited_wheat_dataset\\tmp_train\\images\\EsperiaVitreous\\20220425_171030.jpg: corrupt JPEG restored and saved\n",
      "\u001b[34m\u001b[1mtrain: \u001b[0mWARNING  C:\\Users\\Mehmet\\Desktop\\new_splited_wheat_dataset\\tmp_train\\images\\EsperiaVitreous\\20220425_171033.jpg: corrupt JPEG restored and saved\n",
      "\u001b[34m\u001b[1mtrain: \u001b[0mWARNING  C:\\Users\\Mehmet\\Desktop\\new_splited_wheat_dataset\\tmp_train\\images\\EsperiaVitreous\\20220425_171038.jpg: corrupt JPEG restored and saved\n",
      "\u001b[34m\u001b[1mtrain: \u001b[0mWARNING  C:\\Users\\Mehmet\\Desktop\\new_splited_wheat_dataset\\tmp_train\\images\\EsperiaVitreous\\20220425_171041.jpg: corrupt JPEG restored and saved\n",
      "\u001b[34m\u001b[1mtrain: \u001b[0mWARNING  C:\\Users\\Mehmet\\Desktop\\new_splited_wheat_dataset\\tmp_train\\images\\EsperiaVitreous\\20220425_171043.jpg: corrupt JPEG restored and saved\n",
      "\u001b[34m\u001b[1mtrain: \u001b[0mWARNING  C:\\Users\\Mehmet\\Desktop\\new_splited_wheat_dataset\\tmp_train\\images\\EsperiaVitreous\\20220425_171051.jpg: corrupt JPEG restored and saved\n",
      "\u001b[34m\u001b[1mtrain: \u001b[0mWARNING  C:\\Users\\Mehmet\\Desktop\\new_splited_wheat_dataset\\tmp_train\\images\\EsperiaVitreous\\20220425_171100.jpg: corrupt JPEG restored and saved\n",
      "\u001b[34m\u001b[1mtrain: \u001b[0mWARNING  C:\\Users\\Mehmet\\Desktop\\new_splited_wheat_dataset\\tmp_train\\images\\EsperiaVitreous\\20220425_171103.jpg: corrupt JPEG restored and saved\n",
      "\u001b[34m\u001b[1mtrain: \u001b[0mWARNING  C:\\Users\\Mehmet\\Desktop\\new_splited_wheat_dataset\\tmp_train\\images\\EsperiaVitreous\\20220425_171120.jpg: corrupt JPEG restored and saved\n",
      "\u001b[34m\u001b[1mtrain: \u001b[0mWARNING  C:\\Users\\Mehmet\\Desktop\\new_splited_wheat_dataset\\tmp_train\\images\\EsperiaVitreous\\20220425_171122.jpg: corrupt JPEG restored and saved\n",
      "\u001b[34m\u001b[1mtrain: \u001b[0mWARNING  C:\\Users\\Mehmet\\Desktop\\new_splited_wheat_dataset\\tmp_train\\images\\EsperiaVitreous\\20220425_171135.jpg: corrupt JPEG restored and saved\n",
      "\u001b[34m\u001b[1mtrain: \u001b[0mWARNING  C:\\Users\\Mehmet\\Desktop\\new_splited_wheat_dataset\\tmp_train\\images\\EsperiaVitreous\\20220425_171144.jpg: corrupt JPEG restored and saved\n",
      "\u001b[34m\u001b[1mtrain: \u001b[0mWARNING  C:\\Users\\Mehmet\\Desktop\\new_splited_wheat_dataset\\tmp_train\\images\\EsperiaVitreous\\20220425_171146.jpg: corrupt JPEG restored and saved\n",
      "\u001b[34m\u001b[1mtrain: \u001b[0mWARNING  C:\\Users\\Mehmet\\Desktop\\new_splited_wheat_dataset\\tmp_train\\images\\EsperiaVitreous\\20220425_171149.jpg: corrupt JPEG restored and saved\n",
      "\u001b[34m\u001b[1mtrain: \u001b[0mWARNING  C:\\Users\\Mehmet\\Desktop\\new_splited_wheat_dataset\\tmp_train\\images\\EsperiaVitreous\\20220425_171155.jpg: corrupt JPEG restored and saved\n",
      "\u001b[34m\u001b[1mtrain: \u001b[0mWARNING  C:\\Users\\Mehmet\\Desktop\\new_splited_wheat_dataset\\tmp_train\\images\\EsperiaVitreous\\20220425_171157.jpg: corrupt JPEG restored and saved\n",
      "\u001b[34m\u001b[1mtrain: \u001b[0mWARNING  C:\\Users\\Mehmet\\Desktop\\new_splited_wheat_dataset\\tmp_train\\images\\EsperiaVitreous\\20220425_171159.jpg: corrupt JPEG restored and saved\n",
      "\u001b[34m\u001b[1mtrain: \u001b[0mWARNING  C:\\Users\\Mehmet\\Desktop\\new_splited_wheat_dataset\\tmp_train\\images\\EsperiaVitreous\\20220425_171225.jpg: corrupt JPEG restored and saved\n",
      "\u001b[34m\u001b[1mtrain: \u001b[0mWARNING  C:\\Users\\Mehmet\\Desktop\\new_splited_wheat_dataset\\tmp_train\\images\\EsperiaVitreous\\20220425_171227.jpg: corrupt JPEG restored and saved\n",
      "\u001b[34m\u001b[1mtrain: \u001b[0mWARNING  C:\\Users\\Mehmet\\Desktop\\new_splited_wheat_dataset\\tmp_train\\images\\EsperiaVitreous\\20220425_171230.jpg: corrupt JPEG restored and saved\n",
      "\u001b[34m\u001b[1mtrain: \u001b[0mWARNING  C:\\Users\\Mehmet\\Desktop\\new_splited_wheat_dataset\\tmp_train\\images\\EsperiaVitreous\\20220425_171232.jpg: corrupt JPEG restored and saved\n",
      "\u001b[34m\u001b[1mtrain: \u001b[0mWARNING  C:\\Users\\Mehmet\\Desktop\\new_splited_wheat_dataset\\tmp_train\\images\\EsperiaVitreous\\20220425_171236.jpg: corrupt JPEG restored and saved\n",
      "\u001b[34m\u001b[1mtrain: \u001b[0mWARNING  C:\\Users\\Mehmet\\Desktop\\new_splited_wheat_dataset\\tmp_train\\images\\EsperiaVitreous\\20220425_171239.jpg: corrupt JPEG restored and saved\n",
      "\u001b[34m\u001b[1mtrain: \u001b[0mWARNING  C:\\Users\\Mehmet\\Desktop\\new_splited_wheat_dataset\\tmp_train\\images\\EsperiaVitreous\\20220425_171241.jpg: corrupt JPEG restored and saved\n",
      "\u001b[34m\u001b[1mtrain: \u001b[0mWARNING  C:\\Users\\Mehmet\\Desktop\\new_splited_wheat_dataset\\tmp_train\\images\\EsperiaVitreous\\20220425_171244.jpg: corrupt JPEG restored and saved\n",
      "\u001b[34m\u001b[1mtrain: \u001b[0mWARNING  C:\\Users\\Mehmet\\Desktop\\new_splited_wheat_dataset\\tmp_train\\images\\EsperiaVitreous\\20220425_171258.jpg: corrupt JPEG restored and saved\n",
      "\u001b[34m\u001b[1mtrain: \u001b[0mWARNING  C:\\Users\\Mehmet\\Desktop\\new_splited_wheat_dataset\\tmp_train\\images\\EsperiaVitreous\\20220425_171301.jpg: corrupt JPEG restored and saved\n",
      "\u001b[34m\u001b[1mtrain: \u001b[0mWARNING  C:\\Users\\Mehmet\\Desktop\\new_splited_wheat_dataset\\tmp_train\\images\\EsperiaVitreous\\20220425_171303.jpg: corrupt JPEG restored and saved\n",
      "\u001b[34m\u001b[1mtrain: \u001b[0mWARNING  C:\\Users\\Mehmet\\Desktop\\new_splited_wheat_dataset\\tmp_train\\images\\EsperiaVitreous\\20220425_171309.jpg: corrupt JPEG restored and saved\n",
      "\u001b[34m\u001b[1mtrain: \u001b[0mWARNING  C:\\Users\\Mehmet\\Desktop\\new_splited_wheat_dataset\\tmp_train\\images\\EsperiaVitreous\\20220425_171320.jpg: corrupt JPEG restored and saved\n",
      "\u001b[34m\u001b[1mtrain: \u001b[0mWARNING  C:\\Users\\Mehmet\\Desktop\\new_splited_wheat_dataset\\tmp_train\\images\\EsperiaVitreous\\20220425_171332.jpg: corrupt JPEG restored and saved\n",
      "\u001b[34m\u001b[1mtrain: \u001b[0mWARNING  C:\\Users\\Mehmet\\Desktop\\new_splited_wheat_dataset\\tmp_train\\images\\EsperiaVitreous\\20220425_171335.jpg: corrupt JPEG restored and saved\n",
      "\u001b[34m\u001b[1mtrain: \u001b[0mWARNING  C:\\Users\\Mehmet\\Desktop\\new_splited_wheat_dataset\\tmp_train\\images\\EsperiaVitreous\\20220425_171337.jpg: corrupt JPEG restored and saved\n",
      "\u001b[34m\u001b[1mtrain: \u001b[0mWARNING  C:\\Users\\Mehmet\\Desktop\\new_splited_wheat_dataset\\tmp_train\\images\\EsperiaVitreous\\20220425_171339.jpg: corrupt JPEG restored and saved\n",
      "\u001b[34m\u001b[1mtrain: \u001b[0mWARNING  C:\\Users\\Mehmet\\Desktop\\new_splited_wheat_dataset\\tmp_train\\images\\EsperiaVitreous\\20220425_171342.jpg: corrupt JPEG restored and saved\n",
      "\u001b[34m\u001b[1mtrain: \u001b[0mWARNING  C:\\Users\\Mehmet\\Desktop\\new_splited_wheat_dataset\\tmp_train\\images\\EsperiaVitreous\\20220425_171347.jpg: corrupt JPEG restored and saved\n",
      "\u001b[34m\u001b[1mtrain: \u001b[0mWARNING  C:\\Users\\Mehmet\\Desktop\\new_splited_wheat_dataset\\tmp_train\\images\\EsperiaVitreous\\20220425_171350.jpg: corrupt JPEG restored and saved\n",
      "\u001b[34m\u001b[1mtrain: \u001b[0mWARNING  C:\\Users\\Mehmet\\Desktop\\new_splited_wheat_dataset\\tmp_train\\images\\EsperiaVitreous\\20220425_171356.jpg: corrupt JPEG restored and saved\n",
      "\u001b[34m\u001b[1mtrain: \u001b[0mWARNING  C:\\Users\\Mehmet\\Desktop\\new_splited_wheat_dataset\\tmp_train\\images\\EsperiaVitreous\\20220425_171402.jpg: corrupt JPEG restored and saved\n",
      "\u001b[34m\u001b[1mtrain: \u001b[0mWARNING  C:\\Users\\Mehmet\\Desktop\\new_splited_wheat_dataset\\tmp_train\\images\\EsperiaVitreous\\20220425_171404.jpg: corrupt JPEG restored and saved\n",
      "\u001b[34m\u001b[1mtrain: \u001b[0mWARNING  C:\\Users\\Mehmet\\Desktop\\new_splited_wheat_dataset\\tmp_train\\images\\EsperiaVitreous\\20220425_171407.jpg: corrupt JPEG restored and saved\n",
      "\u001b[34m\u001b[1mtrain: \u001b[0mWARNING  C:\\Users\\Mehmet\\Desktop\\new_splited_wheat_dataset\\tmp_train\\images\\EsperiaVitreous\\20220425_171411.jpg: corrupt JPEG restored and saved\n",
      "\u001b[34m\u001b[1mtrain: \u001b[0mWARNING  C:\\Users\\Mehmet\\Desktop\\new_splited_wheat_dataset\\tmp_train\\images\\EsperiaVitreous\\20220425_171414.jpg: corrupt JPEG restored and saved\n",
      "\u001b[34m\u001b[1mtrain: \u001b[0mWARNING  C:\\Users\\Mehmet\\Desktop\\new_splited_wheat_dataset\\tmp_train\\images\\EsperiaVitreous\\20220425_171416.jpg: corrupt JPEG restored and saved\n",
      "\u001b[34m\u001b[1mtrain: \u001b[0mWARNING  C:\\Users\\Mehmet\\Desktop\\new_splited_wheat_dataset\\tmp_train\\images\\EsperiaVitreous\\20220425_171418.jpg: corrupt JPEG restored and saved\n",
      "\u001b[34m\u001b[1mtrain: \u001b[0mWARNING  C:\\Users\\Mehmet\\Desktop\\new_splited_wheat_dataset\\tmp_train\\images\\EsperiaVitreous\\20220425_171421.jpg: corrupt JPEG restored and saved\n",
      "\u001b[34m\u001b[1mtrain: \u001b[0mWARNING  C:\\Users\\Mehmet\\Desktop\\new_splited_wheat_dataset\\tmp_train\\images\\EsperiaVitreous\\20220425_171427.jpg: corrupt JPEG restored and saved\n",
      "\u001b[34m\u001b[1mtrain: \u001b[0mWARNING  C:\\Users\\Mehmet\\Desktop\\new_splited_wheat_dataset\\tmp_train\\images\\EsperiaVitreous\\20220425_171429.jpg: corrupt JPEG restored and saved\n",
      "\u001b[34m\u001b[1mtrain: \u001b[0mWARNING  C:\\Users\\Mehmet\\Desktop\\new_splited_wheat_dataset\\tmp_train\\images\\EsperiaVitreous\\20220425_171433.jpg: corrupt JPEG restored and saved\n",
      "\u001b[34m\u001b[1mtrain: \u001b[0mWARNING  C:\\Users\\Mehmet\\Desktop\\new_splited_wheat_dataset\\tmp_train\\images\\EsperiaVitreous\\20220425_171436.jpg: corrupt JPEG restored and saved\n",
      "\u001b[34m\u001b[1mtrain: \u001b[0mWARNING  C:\\Users\\Mehmet\\Desktop\\new_splited_wheat_dataset\\tmp_train\\images\\EsperiaVitreous\\20220425_171438.jpg: corrupt JPEG restored and saved\n",
      "\u001b[34m\u001b[1mtrain: \u001b[0mWARNING  C:\\Users\\Mehmet\\Desktop\\new_splited_wheat_dataset\\tmp_train\\images\\EsperiaVitreous\\20220425_171443.jpg: corrupt JPEG restored and saved\n",
      "\u001b[34m\u001b[1mtrain: \u001b[0mWARNING  C:\\Users\\Mehmet\\Desktop\\new_splited_wheat_dataset\\tmp_train\\images\\EsperiaVitreous\\20220425_171455.jpg: corrupt JPEG restored and saved\n",
      "\u001b[34m\u001b[1mtrain: \u001b[0mWARNING  C:\\Users\\Mehmet\\Desktop\\new_splited_wheat_dataset\\tmp_train\\images\\EsperiaVitreous\\20220425_171457.jpg: corrupt JPEG restored and saved\n",
      "\u001b[34m\u001b[1mtrain: \u001b[0mWARNING  C:\\Users\\Mehmet\\Desktop\\new_splited_wheat_dataset\\tmp_train\\images\\EsperiaVitreous\\20220425_171502.jpg: corrupt JPEG restored and saved\n",
      "\u001b[34m\u001b[1mtrain: \u001b[0mWARNING  C:\\Users\\Mehmet\\Desktop\\new_splited_wheat_dataset\\tmp_train\\images\\EsperiaVitreous\\20220425_171504.jpg: corrupt JPEG restored and saved\n",
      "\u001b[34m\u001b[1mtrain: \u001b[0mWARNING  C:\\Users\\Mehmet\\Desktop\\new_splited_wheat_dataset\\tmp_train\\images\\EsperiaVitreous\\20220425_171507.jpg: corrupt JPEG restored and saved\n",
      "\u001b[34m\u001b[1mtrain: \u001b[0mWARNING  C:\\Users\\Mehmet\\Desktop\\new_splited_wheat_dataset\\tmp_train\\images\\EsperiaVitreous\\20220425_171510.jpg: corrupt JPEG restored and saved\n",
      "\u001b[34m\u001b[1mtrain: \u001b[0mWARNING  C:\\Users\\Mehmet\\Desktop\\new_splited_wheat_dataset\\tmp_train\\images\\EsperiaVitreous\\20220425_171520.jpg: corrupt JPEG restored and saved\n",
      "\u001b[34m\u001b[1mtrain: \u001b[0mWARNING  C:\\Users\\Mehmet\\Desktop\\new_splited_wheat_dataset\\tmp_train\\images\\EsperiaVitreous\\20220425_171524.jpg: corrupt JPEG restored and saved\n",
      "\u001b[34m\u001b[1mtrain: \u001b[0mWARNING  C:\\Users\\Mehmet\\Desktop\\new_splited_wheat_dataset\\tmp_train\\images\\EsperiaVitreous\\20220425_171531.jpg: corrupt JPEG restored and saved\n",
      "\u001b[34m\u001b[1mtrain: \u001b[0mWARNING  C:\\Users\\Mehmet\\Desktop\\new_splited_wheat_dataset\\tmp_train\\images\\KiziltanVitreous\\20220426_154726.jpg: corrupt JPEG restored and saved\n",
      "\u001b[34m\u001b[1mtrain: \u001b[0mWARNING  C:\\Users\\Mehmet\\Desktop\\new_splited_wheat_dataset\\tmp_train\\images\\KiziltanVitreous\\20220426_154735.jpg: corrupt JPEG restored and saved\n",
      "\u001b[34m\u001b[1mtrain: \u001b[0mWARNING  C:\\Users\\Mehmet\\Desktop\\new_splited_wheat_dataset\\tmp_train\\images\\KiziltanVitreous\\20220426_154738.jpg: corrupt JPEG restored and saved\n",
      "\u001b[34m\u001b[1mtrain: \u001b[0mWARNING  C:\\Users\\Mehmet\\Desktop\\new_splited_wheat_dataset\\tmp_train\\images\\KiziltanVitreous\\20220426_154743.jpg: corrupt JPEG restored and saved\n",
      "\u001b[34m\u001b[1mtrain: \u001b[0mWARNING  C:\\Users\\Mehmet\\Desktop\\new_splited_wheat_dataset\\tmp_train\\images\\KiziltanVitreous\\20220426_154748.jpg: corrupt JPEG restored and saved\n",
      "\u001b[34m\u001b[1mtrain: \u001b[0mWARNING  C:\\Users\\Mehmet\\Desktop\\new_splited_wheat_dataset\\tmp_train\\images\\KiziltanVitreous\\20220426_154751.jpg: corrupt JPEG restored and saved\n",
      "\u001b[34m\u001b[1mtrain: \u001b[0mWARNING  C:\\Users\\Mehmet\\Desktop\\new_splited_wheat_dataset\\tmp_train\\images\\KiziltanVitreous\\20220426_154753.jpg: corrupt JPEG restored and saved\n",
      "\u001b[34m\u001b[1mtrain: \u001b[0mWARNING  C:\\Users\\Mehmet\\Desktop\\new_splited_wheat_dataset\\tmp_train\\images\\KiziltanVitreous\\20220426_154758.jpg: corrupt JPEG restored and saved\n",
      "\u001b[34m\u001b[1mtrain: \u001b[0mWARNING  C:\\Users\\Mehmet\\Desktop\\new_splited_wheat_dataset\\tmp_train\\images\\KiziltanVitreous\\20220426_154804.jpg: corrupt JPEG restored and saved\n",
      "\u001b[34m\u001b[1mtrain: \u001b[0mWARNING  C:\\Users\\Mehmet\\Desktop\\new_splited_wheat_dataset\\tmp_train\\images\\KiziltanVitreous\\20220426_154806.jpg: corrupt JPEG restored and saved\n",
      "\u001b[34m\u001b[1mtrain: \u001b[0mWARNING  C:\\Users\\Mehmet\\Desktop\\new_splited_wheat_dataset\\tmp_train\\images\\KiziltanVitreous\\20220426_154833.jpg: corrupt JPEG restored and saved\n",
      "\u001b[34m\u001b[1mtrain: \u001b[0mWARNING  C:\\Users\\Mehmet\\Desktop\\new_splited_wheat_dataset\\tmp_train\\images\\KiziltanVitreous\\20220426_154846.jpg: corrupt JPEG restored and saved\n",
      "\u001b[34m\u001b[1mtrain: \u001b[0mWARNING  C:\\Users\\Mehmet\\Desktop\\new_splited_wheat_dataset\\tmp_train\\images\\KiziltanVitreous\\20220426_154854.jpg: corrupt JPEG restored and saved\n",
      "\u001b[34m\u001b[1mtrain: \u001b[0mWARNING  C:\\Users\\Mehmet\\Desktop\\new_splited_wheat_dataset\\tmp_train\\images\\KiziltanVitreous\\20220426_154857.jpg: corrupt JPEG restored and saved\n",
      "\u001b[34m\u001b[1mtrain: \u001b[0mWARNING  C:\\Users\\Mehmet\\Desktop\\new_splited_wheat_dataset\\tmp_train\\images\\KiziltanVitreous\\20220426_154902.jpg: corrupt JPEG restored and saved\n",
      "\u001b[34m\u001b[1mtrain: \u001b[0mWARNING  C:\\Users\\Mehmet\\Desktop\\new_splited_wheat_dataset\\tmp_train\\images\\KiziltanVitreous\\20220426_154904.jpg: corrupt JPEG restored and saved\n",
      "\u001b[34m\u001b[1mtrain: \u001b[0mWARNING  C:\\Users\\Mehmet\\Desktop\\new_splited_wheat_dataset\\tmp_train\\images\\KiziltanVitreous\\20220426_154906.jpg: corrupt JPEG restored and saved\n",
      "\u001b[34m\u001b[1mtrain: \u001b[0mWARNING  C:\\Users\\Mehmet\\Desktop\\new_splited_wheat_dataset\\tmp_train\\images\\KiziltanVitreous\\20220426_154909.jpg: corrupt JPEG restored and saved\n",
      "\u001b[34m\u001b[1mtrain: \u001b[0mWARNING  C:\\Users\\Mehmet\\Desktop\\new_splited_wheat_dataset\\tmp_train\\images\\KiziltanVitreous\\20220426_154911.jpg: corrupt JPEG restored and saved\n",
      "\u001b[34m\u001b[1mtrain: \u001b[0mWARNING  C:\\Users\\Mehmet\\Desktop\\new_splited_wheat_dataset\\tmp_train\\images\\KiziltanVitreous\\20220426_154932.jpg: corrupt JPEG restored and saved\n",
      "\u001b[34m\u001b[1mtrain: \u001b[0mWARNING  C:\\Users\\Mehmet\\Desktop\\new_splited_wheat_dataset\\tmp_train\\images\\KiziltanVitreous\\20220426_154935.jpg: corrupt JPEG restored and saved\n",
      "\u001b[34m\u001b[1mtrain: \u001b[0mWARNING  C:\\Users\\Mehmet\\Desktop\\new_splited_wheat_dataset\\tmp_train\\images\\KiziltanVitreous\\20220426_154940.jpg: corrupt JPEG restored and saved\n",
      "\u001b[34m\u001b[1mtrain: \u001b[0mWARNING  C:\\Users\\Mehmet\\Desktop\\new_splited_wheat_dataset\\tmp_train\\images\\KiziltanVitreous\\20220426_154942.jpg: corrupt JPEG restored and saved\n",
      "\u001b[34m\u001b[1mtrain: \u001b[0mWARNING  C:\\Users\\Mehmet\\Desktop\\new_splited_wheat_dataset\\tmp_train\\images\\KiziltanVitreous\\20220426_154946.jpg: corrupt JPEG restored and saved\n",
      "\u001b[34m\u001b[1mtrain: \u001b[0mWARNING  C:\\Users\\Mehmet\\Desktop\\new_splited_wheat_dataset\\tmp_train\\images\\KiziltanVitreous\\20220426_154950.jpg: corrupt JPEG restored and saved\n",
      "\u001b[34m\u001b[1mtrain: \u001b[0mWARNING  C:\\Users\\Mehmet\\Desktop\\new_splited_wheat_dataset\\tmp_train\\images\\KiziltanVitreous\\20220426_155000.jpg: corrupt JPEG restored and saved\n",
      "\u001b[34m\u001b[1mtrain: \u001b[0mWARNING  C:\\Users\\Mehmet\\Desktop\\new_splited_wheat_dataset\\tmp_train\\images\\KiziltanVitreous\\20220426_155008.jpg: corrupt JPEG restored and saved\n",
      "\u001b[34m\u001b[1mtrain: \u001b[0mWARNING  C:\\Users\\Mehmet\\Desktop\\new_splited_wheat_dataset\\tmp_train\\images\\KiziltanVitreous\\20220426_155010.jpg: corrupt JPEG restored and saved\n",
      "\u001b[34m\u001b[1mtrain: \u001b[0mWARNING  C:\\Users\\Mehmet\\Desktop\\new_splited_wheat_dataset\\tmp_train\\images\\KiziltanVitreous\\20220426_155015.jpg: corrupt JPEG restored and saved\n",
      "\u001b[34m\u001b[1mtrain: \u001b[0mWARNING  C:\\Users\\Mehmet\\Desktop\\new_splited_wheat_dataset\\tmp_train\\images\\KiziltanVitreous\\20220426_155018.jpg: corrupt JPEG restored and saved\n",
      "\u001b[34m\u001b[1mtrain: \u001b[0mWARNING  C:\\Users\\Mehmet\\Desktop\\new_splited_wheat_dataset\\tmp_train\\images\\KiziltanVitreous\\20220426_155020.jpg: corrupt JPEG restored and saved\n",
      "\u001b[34m\u001b[1mtrain: \u001b[0mWARNING  C:\\Users\\Mehmet\\Desktop\\new_splited_wheat_dataset\\tmp_train\\images\\KiziltanVitreous\\20220426_155028.jpg: corrupt JPEG restored and saved\n",
      "\u001b[34m\u001b[1mtrain: \u001b[0mWARNING  C:\\Users\\Mehmet\\Desktop\\new_splited_wheat_dataset\\tmp_train\\images\\KiziltanVitreous\\20220426_155031.jpg: corrupt JPEG restored and saved\n",
      "\u001b[34m\u001b[1mtrain: \u001b[0mWARNING  C:\\Users\\Mehmet\\Desktop\\new_splited_wheat_dataset\\tmp_train\\images\\KiziltanVitreous\\20220426_155038.jpg: corrupt JPEG restored and saved\n",
      "\u001b[34m\u001b[1mtrain: \u001b[0mWARNING  C:\\Users\\Mehmet\\Desktop\\new_splited_wheat_dataset\\tmp_train\\images\\KiziltanVitreous\\20220426_155040.jpg: corrupt JPEG restored and saved\n",
      "\u001b[34m\u001b[1mtrain: \u001b[0mWARNING  C:\\Users\\Mehmet\\Desktop\\new_splited_wheat_dataset\\tmp_train\\images\\KiziltanVitreous\\20220426_155043.jpg: corrupt JPEG restored and saved\n",
      "\u001b[34m\u001b[1mtrain: \u001b[0mWARNING  C:\\Users\\Mehmet\\Desktop\\new_splited_wheat_dataset\\tmp_train\\images\\KiziltanVitreous\\20220426_155046.jpg: corrupt JPEG restored and saved\n",
      "\u001b[34m\u001b[1mtrain: \u001b[0mWARNING  C:\\Users\\Mehmet\\Desktop\\new_splited_wheat_dataset\\tmp_train\\images\\KiziltanVitreous\\20220426_155048.jpg: corrupt JPEG restored and saved\n",
      "\u001b[34m\u001b[1mtrain: \u001b[0mWARNING  C:\\Users\\Mehmet\\Desktop\\new_splited_wheat_dataset\\tmp_train\\images\\KiziltanVitreous\\20220426_155051.jpg: corrupt JPEG restored and saved\n",
      "\u001b[34m\u001b[1mtrain: \u001b[0mWARNING  C:\\Users\\Mehmet\\Desktop\\new_splited_wheat_dataset\\tmp_train\\images\\KiziltanVitreous\\20220426_160323.jpg: corrupt JPEG restored and saved\n",
      "\u001b[34m\u001b[1mtrain: \u001b[0mWARNING  C:\\Users\\Mehmet\\Desktop\\new_splited_wheat_dataset\\tmp_train\\images\\KiziltanVitreous\\20220426_160328.jpg: corrupt JPEG restored and saved\n",
      "\u001b[34m\u001b[1mtrain: \u001b[0mWARNING  C:\\Users\\Mehmet\\Desktop\\new_splited_wheat_dataset\\tmp_train\\images\\KiziltanVitreous\\20220426_160333.jpg: corrupt JPEG restored and saved\n",
      "\u001b[34m\u001b[1mtrain: \u001b[0mWARNING  C:\\Users\\Mehmet\\Desktop\\new_splited_wheat_dataset\\tmp_train\\images\\KiziltanVitreous\\20220426_160335.jpg: corrupt JPEG restored and saved\n",
      "\u001b[34m\u001b[1mtrain: \u001b[0mWARNING  C:\\Users\\Mehmet\\Desktop\\new_splited_wheat_dataset\\tmp_train\\images\\KiziltanVitreous\\20220426_160338.jpg: corrupt JPEG restored and saved\n",
      "\u001b[34m\u001b[1mtrain: \u001b[0mWARNING  C:\\Users\\Mehmet\\Desktop\\new_splited_wheat_dataset\\tmp_train\\images\\KiziltanVitreous\\20220426_160340.jpg: corrupt JPEG restored and saved\n",
      "\u001b[34m\u001b[1mtrain: \u001b[0mWARNING  C:\\Users\\Mehmet\\Desktop\\new_splited_wheat_dataset\\tmp_train\\images\\KiziltanVitreous\\20220426_160343.jpg: corrupt JPEG restored and saved\n",
      "\u001b[34m\u001b[1mtrain: \u001b[0mWARNING  C:\\Users\\Mehmet\\Desktop\\new_splited_wheat_dataset\\tmp_train\\images\\KiziltanVitreous\\20220426_160352.jpg: corrupt JPEG restored and saved\n",
      "\u001b[34m\u001b[1mtrain: \u001b[0mWARNING  C:\\Users\\Mehmet\\Desktop\\new_splited_wheat_dataset\\tmp_train\\images\\KiziltanVitreous\\20220426_160354.jpg: corrupt JPEG restored and saved\n",
      "\u001b[34m\u001b[1mtrain: \u001b[0mWARNING  C:\\Users\\Mehmet\\Desktop\\new_splited_wheat_dataset\\tmp_train\\images\\KiziltanVitreous\\20220426_160358.jpg: corrupt JPEG restored and saved\n",
      "\u001b[34m\u001b[1mtrain: \u001b[0mWARNING  C:\\Users\\Mehmet\\Desktop\\new_splited_wheat_dataset\\tmp_train\\images\\KiziltanVitreous\\20220426_160429.jpg: corrupt JPEG restored and saved\n",
      "\u001b[34m\u001b[1mtrain: \u001b[0mWARNING  C:\\Users\\Mehmet\\Desktop\\new_splited_wheat_dataset\\tmp_train\\images\\KiziltanVitreous\\20220426_160433.jpg: corrupt JPEG restored and saved\n",
      "\u001b[34m\u001b[1mtrain: \u001b[0mWARNING  C:\\Users\\Mehmet\\Desktop\\new_splited_wheat_dataset\\tmp_train\\images\\KiziltanVitreous\\20220426_160437.jpg: corrupt JPEG restored and saved\n",
      "\u001b[34m\u001b[1mtrain: \u001b[0mWARNING  C:\\Users\\Mehmet\\Desktop\\new_splited_wheat_dataset\\tmp_train\\images\\KiziltanVitreous\\20220426_160448.jpg: corrupt JPEG restored and saved\n",
      "\u001b[34m\u001b[1mtrain: \u001b[0mWARNING  C:\\Users\\Mehmet\\Desktop\\new_splited_wheat_dataset\\tmp_train\\images\\KiziltanVitreous\\20220426_160456.jpg: corrupt JPEG restored and saved\n",
      "\u001b[34m\u001b[1mtrain: \u001b[0mWARNING  C:\\Users\\Mehmet\\Desktop\\new_splited_wheat_dataset\\tmp_train\\images\\KiziltanVitreous\\20220426_160459.jpg: corrupt JPEG restored and saved\n",
      "\u001b[34m\u001b[1mtrain: \u001b[0mWARNING  C:\\Users\\Mehmet\\Desktop\\new_splited_wheat_dataset\\tmp_train\\images\\KiziltanVitreous\\20220426_160503.jpg: corrupt JPEG restored and saved\n",
      "\u001b[34m\u001b[1mtrain: \u001b[0mWARNING  C:\\Users\\Mehmet\\Desktop\\new_splited_wheat_dataset\\tmp_train\\images\\KiziltanVitreous\\20220426_160507.jpg: corrupt JPEG restored and saved\n",
      "\u001b[34m\u001b[1mtrain: \u001b[0mWARNING  C:\\Users\\Mehmet\\Desktop\\new_splited_wheat_dataset\\tmp_train\\images\\KiziltanVitreous\\20220426_160512.jpg: corrupt JPEG restored and saved\n",
      "\u001b[34m\u001b[1mtrain: \u001b[0mWARNING  C:\\Users\\Mehmet\\Desktop\\new_splited_wheat_dataset\\tmp_train\\images\\KiziltanVitreous\\20220426_160516.jpg: corrupt JPEG restored and saved\n",
      "\u001b[34m\u001b[1mtrain: \u001b[0mWARNING  C:\\Users\\Mehmet\\Desktop\\new_splited_wheat_dataset\\tmp_train\\images\\KiziltanVitreous\\20220426_160518.jpg: corrupt JPEG restored and saved\n",
      "\u001b[34m\u001b[1mtrain: \u001b[0mWARNING  C:\\Users\\Mehmet\\Desktop\\new_splited_wheat_dataset\\tmp_train\\images\\KiziltanVitreous\\20220426_160520.jpg: corrupt JPEG restored and saved\n",
      "\u001b[34m\u001b[1mtrain: \u001b[0mWARNING  C:\\Users\\Mehmet\\Desktop\\new_splited_wheat_dataset\\tmp_train\\images\\KiziltanVitreous\\20220426_160523.jpg: corrupt JPEG restored and saved\n",
      "\u001b[34m\u001b[1mtrain: \u001b[0mWARNING  C:\\Users\\Mehmet\\Desktop\\new_splited_wheat_dataset\\tmp_train\\images\\KiziltanVitreous\\20220426_160528.jpg: corrupt JPEG restored and saved\n",
      "\u001b[34m\u001b[1mtrain: \u001b[0mWARNING  C:\\Users\\Mehmet\\Desktop\\new_splited_wheat_dataset\\tmp_train\\images\\KiziltanVitreous\\20220426_160531.jpg: corrupt JPEG restored and saved\n",
      "\u001b[34m\u001b[1mtrain: \u001b[0mWARNING  C:\\Users\\Mehmet\\Desktop\\new_splited_wheat_dataset\\tmp_train\\images\\KiziltanVitreous\\20220426_160539.jpg: corrupt JPEG restored and saved\n",
      "\u001b[34m\u001b[1mtrain: \u001b[0mWARNING  C:\\Users\\Mehmet\\Desktop\\new_splited_wheat_dataset\\tmp_train\\images\\KiziltanVitreous\\20220426_160542.jpg: corrupt JPEG restored and saved\n",
      "\u001b[34m\u001b[1mtrain: \u001b[0mWARNING  C:\\Users\\Mehmet\\Desktop\\new_splited_wheat_dataset\\tmp_train\\images\\KiziltanVitreous\\20220426_160545.jpg: corrupt JPEG restored and saved\n",
      "\u001b[34m\u001b[1mtrain: \u001b[0mWARNING  C:\\Users\\Mehmet\\Desktop\\new_splited_wheat_dataset\\tmp_train\\images\\KiziltanVitreous\\20220426_160547.jpg: corrupt JPEG restored and saved\n",
      "\u001b[34m\u001b[1mtrain: \u001b[0mWARNING  C:\\Users\\Mehmet\\Desktop\\new_splited_wheat_dataset\\tmp_train\\images\\KiziltanVitreous\\20220426_160550.jpg: corrupt JPEG restored and saved\n",
      "\u001b[34m\u001b[1mtrain: \u001b[0mWARNING  C:\\Users\\Mehmet\\Desktop\\new_splited_wheat_dataset\\tmp_train\\images\\KiziltanVitreous\\20220426_160606.jpg: corrupt JPEG restored and saved\n",
      "\u001b[34m\u001b[1mtrain: \u001b[0mWARNING  C:\\Users\\Mehmet\\Desktop\\new_splited_wheat_dataset\\tmp_train\\images\\KiziltanVitreous\\20220426_160613.jpg: corrupt JPEG restored and saved\n",
      "\u001b[34m\u001b[1mtrain: \u001b[0mWARNING  C:\\Users\\Mehmet\\Desktop\\new_splited_wheat_dataset\\tmp_train\\images\\KiziltanVitreous\\20220426_160617.jpg: corrupt JPEG restored and saved\n",
      "\u001b[34m\u001b[1mtrain: \u001b[0mWARNING  C:\\Users\\Mehmet\\Desktop\\new_splited_wheat_dataset\\tmp_train\\images\\LucillaVitreous\\20220426_175132.jpg: corrupt JPEG restored and saved\n",
      "\u001b[34m\u001b[1mtrain: \u001b[0mWARNING  C:\\Users\\Mehmet\\Desktop\\new_splited_wheat_dataset\\tmp_train\\images\\LucillaVitreous\\20220426_175135.jpg: corrupt JPEG restored and saved\n",
      "\u001b[34m\u001b[1mtrain: \u001b[0mWARNING  C:\\Users\\Mehmet\\Desktop\\new_splited_wheat_dataset\\tmp_train\\images\\LucillaVitreous\\20220426_175137.jpg: corrupt JPEG restored and saved\n",
      "\u001b[34m\u001b[1mtrain: \u001b[0mWARNING  C:\\Users\\Mehmet\\Desktop\\new_splited_wheat_dataset\\tmp_train\\images\\LucillaVitreous\\20220426_175141.jpg: corrupt JPEG restored and saved\n",
      "\u001b[34m\u001b[1mtrain: \u001b[0mWARNING  C:\\Users\\Mehmet\\Desktop\\new_splited_wheat_dataset\\tmp_train\\images\\LucillaVitreous\\20220426_175145.jpg: corrupt JPEG restored and saved\n",
      "\u001b[34m\u001b[1mtrain: \u001b[0mWARNING  C:\\Users\\Mehmet\\Desktop\\new_splited_wheat_dataset\\tmp_train\\images\\LucillaVitreous\\20220426_175147.jpg: corrupt JPEG restored and saved\n",
      "\u001b[34m\u001b[1mtrain: \u001b[0mWARNING  C:\\Users\\Mehmet\\Desktop\\new_splited_wheat_dataset\\tmp_train\\images\\LucillaVitreous\\20220426_175149.jpg: corrupt JPEG restored and saved\n",
      "\u001b[34m\u001b[1mtrain: \u001b[0mWARNING  C:\\Users\\Mehmet\\Desktop\\new_splited_wheat_dataset\\tmp_train\\images\\LucillaVitreous\\20220426_175156.jpg: corrupt JPEG restored and saved\n",
      "\u001b[34m\u001b[1mtrain: \u001b[0mWARNING  C:\\Users\\Mehmet\\Desktop\\new_splited_wheat_dataset\\tmp_train\\images\\LucillaVitreous\\20220426_175200.jpg: corrupt JPEG restored and saved\n",
      "\u001b[34m\u001b[1mtrain: \u001b[0mWARNING  C:\\Users\\Mehmet\\Desktop\\new_splited_wheat_dataset\\tmp_train\\images\\LucillaVitreous\\20220426_175202.jpg: corrupt JPEG restored and saved\n",
      "\u001b[34m\u001b[1mtrain: \u001b[0mWARNING  C:\\Users\\Mehmet\\Desktop\\new_splited_wheat_dataset\\tmp_train\\images\\LucillaVitreous\\20220426_175204.jpg: corrupt JPEG restored and saved\n",
      "\u001b[34m\u001b[1mtrain: \u001b[0mWARNING  C:\\Users\\Mehmet\\Desktop\\new_splited_wheat_dataset\\tmp_train\\images\\LucillaVitreous\\20220426_175208.jpg: corrupt JPEG restored and saved\n",
      "\u001b[34m\u001b[1mtrain: \u001b[0mWARNING  C:\\Users\\Mehmet\\Desktop\\new_splited_wheat_dataset\\tmp_train\\images\\LucillaVitreous\\20220426_175224.jpg: corrupt JPEG restored and saved\n",
      "\u001b[34m\u001b[1mtrain: \u001b[0mWARNING  C:\\Users\\Mehmet\\Desktop\\new_splited_wheat_dataset\\tmp_train\\images\\LucillaVitreous\\20220426_175231.jpg: corrupt JPEG restored and saved\n",
      "\u001b[34m\u001b[1mtrain: \u001b[0mWARNING  C:\\Users\\Mehmet\\Desktop\\new_splited_wheat_dataset\\tmp_train\\images\\LucillaVitreous\\20220426_175233.jpg: corrupt JPEG restored and saved\n",
      "\u001b[34m\u001b[1mtrain: \u001b[0mWARNING  C:\\Users\\Mehmet\\Desktop\\new_splited_wheat_dataset\\tmp_train\\images\\LucillaVitreous\\20220426_175236.jpg: corrupt JPEG restored and saved\n",
      "\u001b[34m\u001b[1mtrain: \u001b[0mWARNING  C:\\Users\\Mehmet\\Desktop\\new_splited_wheat_dataset\\tmp_train\\images\\LucillaVitreous\\20220426_175244.jpg: corrupt JPEG restored and saved\n",
      "\u001b[34m\u001b[1mtrain: \u001b[0mWARNING  C:\\Users\\Mehmet\\Desktop\\new_splited_wheat_dataset\\tmp_train\\images\\LucillaVitreous\\20220426_175246.jpg: corrupt JPEG restored and saved\n",
      "\u001b[34m\u001b[1mtrain: \u001b[0mWARNING  C:\\Users\\Mehmet\\Desktop\\new_splited_wheat_dataset\\tmp_train\\images\\LucillaVitreous\\20220426_175254.jpg: corrupt JPEG restored and saved\n",
      "\u001b[34m\u001b[1mtrain: \u001b[0mWARNING  C:\\Users\\Mehmet\\Desktop\\new_splited_wheat_dataset\\tmp_train\\images\\LucillaVitreous\\20220426_175257.jpg: corrupt JPEG restored and saved\n",
      "\u001b[34m\u001b[1mtrain: \u001b[0mWARNING  C:\\Users\\Mehmet\\Desktop\\new_splited_wheat_dataset\\tmp_train\\images\\LucillaVitreous\\20220426_175302.jpg: corrupt JPEG restored and saved\n",
      "\u001b[34m\u001b[1mtrain: \u001b[0mWARNING  C:\\Users\\Mehmet\\Desktop\\new_splited_wheat_dataset\\tmp_train\\images\\LucillaVitreous\\20220426_175306.jpg: corrupt JPEG restored and saved\n",
      "\u001b[34m\u001b[1mtrain: \u001b[0mWARNING  C:\\Users\\Mehmet\\Desktop\\new_splited_wheat_dataset\\tmp_train\\images\\LucillaVitreous\\20220426_175308.jpg: corrupt JPEG restored and saved\n",
      "\u001b[34m\u001b[1mtrain: \u001b[0mWARNING  C:\\Users\\Mehmet\\Desktop\\new_splited_wheat_dataset\\tmp_train\\images\\LucillaVitreous\\20220426_175310.jpg: corrupt JPEG restored and saved\n",
      "\u001b[34m\u001b[1mtrain: \u001b[0mWARNING  C:\\Users\\Mehmet\\Desktop\\new_splited_wheat_dataset\\tmp_train\\images\\LucillaVitreous\\20220426_175316.jpg: corrupt JPEG restored and saved\n",
      "\u001b[34m\u001b[1mtrain: \u001b[0mWARNING  C:\\Users\\Mehmet\\Desktop\\new_splited_wheat_dataset\\tmp_train\\images\\LucillaVitreous\\20220426_175319.jpg: corrupt JPEG restored and saved\n",
      "\u001b[34m\u001b[1mtrain: \u001b[0mWARNING  C:\\Users\\Mehmet\\Desktop\\new_splited_wheat_dataset\\tmp_train\\images\\LucillaVitreous\\20220426_175325.jpg: corrupt JPEG restored and saved\n",
      "\u001b[34m\u001b[1mtrain: \u001b[0mWARNING  C:\\Users\\Mehmet\\Desktop\\new_splited_wheat_dataset\\tmp_train\\images\\LucillaVitreous\\20220426_175327.jpg: corrupt JPEG restored and saved\n",
      "\u001b[34m\u001b[1mtrain: \u001b[0mWARNING  C:\\Users\\Mehmet\\Desktop\\new_splited_wheat_dataset\\tmp_train\\images\\LucillaVitreous\\20220426_175329.jpg: corrupt JPEG restored and saved\n",
      "\u001b[34m\u001b[1mtrain: \u001b[0mWARNING  C:\\Users\\Mehmet\\Desktop\\new_splited_wheat_dataset\\tmp_train\\images\\LucillaVitreous\\20220426_175333.jpg: corrupt JPEG restored and saved\n",
      "\u001b[34m\u001b[1mtrain: \u001b[0mWARNING  C:\\Users\\Mehmet\\Desktop\\new_splited_wheat_dataset\\tmp_train\\images\\LucillaVitreous\\20220426_175335.jpg: corrupt JPEG restored and saved\n",
      "\u001b[34m\u001b[1mtrain: \u001b[0mWARNING  C:\\Users\\Mehmet\\Desktop\\new_splited_wheat_dataset\\tmp_train\\images\\LucillaVitreous\\20220426_175338.jpg: corrupt JPEG restored and saved\n",
      "\u001b[34m\u001b[1mtrain: \u001b[0mWARNING  C:\\Users\\Mehmet\\Desktop\\new_splited_wheat_dataset\\tmp_train\\images\\LucillaVitreous\\20220426_175341.jpg: corrupt JPEG restored and saved\n",
      "\u001b[34m\u001b[1mtrain: \u001b[0mWARNING  C:\\Users\\Mehmet\\Desktop\\new_splited_wheat_dataset\\tmp_train\\images\\LucillaVitreous\\20220426_175342.jpg: corrupt JPEG restored and saved\n",
      "\u001b[34m\u001b[1mtrain: \u001b[0mWARNING  C:\\Users\\Mehmet\\Desktop\\new_splited_wheat_dataset\\tmp_train\\images\\LucillaVitreous\\20220426_175344.jpg: corrupt JPEG restored and saved\n",
      "\u001b[34m\u001b[1mtrain: \u001b[0mWARNING  C:\\Users\\Mehmet\\Desktop\\new_splited_wheat_dataset\\tmp_train\\images\\LucillaVitreous\\20220426_175346.jpg: corrupt JPEG restored and saved\n",
      "\u001b[34m\u001b[1mtrain: \u001b[0mWARNING  C:\\Users\\Mehmet\\Desktop\\new_splited_wheat_dataset\\tmp_train\\images\\LucillaVitreous\\20220426_175348.jpg: corrupt JPEG restored and saved\n",
      "\u001b[34m\u001b[1mtrain: \u001b[0mWARNING  C:\\Users\\Mehmet\\Desktop\\new_splited_wheat_dataset\\tmp_train\\images\\LucillaVitreous\\20220426_175350.jpg: corrupt JPEG restored and saved\n",
      "\u001b[34m\u001b[1mtrain: \u001b[0mWARNING  C:\\Users\\Mehmet\\Desktop\\new_splited_wheat_dataset\\tmp_train\\images\\LucillaVitreous\\20220426_175353.jpg: corrupt JPEG restored and saved\n",
      "\u001b[34m\u001b[1mtrain: \u001b[0mWARNING  C:\\Users\\Mehmet\\Desktop\\new_splited_wheat_dataset\\tmp_train\\images\\LucillaVitreous\\20220426_175357.jpg: corrupt JPEG restored and saved\n",
      "\u001b[34m\u001b[1mtrain: \u001b[0mWARNING  C:\\Users\\Mehmet\\Desktop\\new_splited_wheat_dataset\\tmp_train\\images\\LucillaVitreous\\20220426_175359.jpg: corrupt JPEG restored and saved\n",
      "\u001b[34m\u001b[1mtrain: \u001b[0mWARNING  C:\\Users\\Mehmet\\Desktop\\new_splited_wheat_dataset\\tmp_train\\images\\LucillaVitreous\\20220426_175401.jpg: corrupt JPEG restored and saved\n",
      "\u001b[34m\u001b[1mtrain: \u001b[0mWARNING  C:\\Users\\Mehmet\\Desktop\\new_splited_wheat_dataset\\tmp_train\\images\\LucillaVitreous\\20220426_175412.jpg: corrupt JPEG restored and saved\n",
      "\u001b[34m\u001b[1mtrain: \u001b[0mWARNING  C:\\Users\\Mehmet\\Desktop\\new_splited_wheat_dataset\\tmp_train\\images\\LucillaVitreous\\20220426_175414.jpg: corrupt JPEG restored and saved\n",
      "\u001b[34m\u001b[1mtrain: \u001b[0mWARNING  C:\\Users\\Mehmet\\Desktop\\new_splited_wheat_dataset\\tmp_train\\images\\LucillaVitreous\\20220426_175415.jpg: corrupt JPEG restored and saved\n",
      "\u001b[34m\u001b[1mtrain: \u001b[0mWARNING  C:\\Users\\Mehmet\\Desktop\\new_splited_wheat_dataset\\tmp_train\\images\\LucillaVitreous\\20220426_175417.jpg: corrupt JPEG restored and saved\n",
      "\u001b[34m\u001b[1mtrain: \u001b[0mWARNING  C:\\Users\\Mehmet\\Desktop\\new_splited_wheat_dataset\\tmp_train\\images\\LucillaVitreous\\20220426_175419.jpg: corrupt JPEG restored and saved\n",
      "\u001b[34m\u001b[1mtrain: \u001b[0mWARNING  C:\\Users\\Mehmet\\Desktop\\new_splited_wheat_dataset\\tmp_train\\images\\LucillaVitreous\\20220426_175424.jpg: corrupt JPEG restored and saved\n",
      "\u001b[34m\u001b[1mtrain: \u001b[0mWARNING  C:\\Users\\Mehmet\\Desktop\\new_splited_wheat_dataset\\tmp_train\\images\\LucillaVitreous\\20220426_175427.jpg: corrupt JPEG restored and saved\n",
      "\u001b[34m\u001b[1mtrain: \u001b[0mWARNING  C:\\Users\\Mehmet\\Desktop\\new_splited_wheat_dataset\\tmp_train\\images\\LucillaVitreous\\20220426_175430.jpg: corrupt JPEG restored and saved\n",
      "\u001b[34m\u001b[1mtrain: \u001b[0mWARNING  C:\\Users\\Mehmet\\Desktop\\new_splited_wheat_dataset\\tmp_train\\images\\LucillaVitreous\\20220426_175432.jpg: corrupt JPEG restored and saved\n",
      "\u001b[34m\u001b[1mtrain: \u001b[0mWARNING  C:\\Users\\Mehmet\\Desktop\\new_splited_wheat_dataset\\tmp_train\\images\\LucillaVitreous\\20220426_175435.jpg: corrupt JPEG restored and saved\n",
      "\u001b[34m\u001b[1mtrain: \u001b[0mWARNING  C:\\Users\\Mehmet\\Desktop\\new_splited_wheat_dataset\\tmp_train\\images\\LucillaVitreous\\20220426_175441.jpg: corrupt JPEG restored and saved\n",
      "\u001b[34m\u001b[1mtrain: \u001b[0mWARNING  C:\\Users\\Mehmet\\Desktop\\new_splited_wheat_dataset\\tmp_train\\images\\LucillaVitreous\\20220426_175449.jpg: corrupt JPEG restored and saved\n",
      "\u001b[34m\u001b[1mtrain: \u001b[0mWARNING  C:\\Users\\Mehmet\\Desktop\\new_splited_wheat_dataset\\tmp_train\\images\\LucillaVitreous\\20220426_175451.jpg: corrupt JPEG restored and saved\n",
      "\u001b[34m\u001b[1mtrain: \u001b[0mWARNING  C:\\Users\\Mehmet\\Desktop\\new_splited_wheat_dataset\\tmp_train\\images\\LucillaVitreous\\20220426_175458.jpg: corrupt JPEG restored and saved\n",
      "\u001b[34m\u001b[1mtrain: \u001b[0mWARNING  C:\\Users\\Mehmet\\Desktop\\new_splited_wheat_dataset\\tmp_train\\images\\LucillaVitreous\\20220426_175500.jpg: corrupt JPEG restored and saved\n",
      "\u001b[34m\u001b[1mtrain: \u001b[0mWARNING  C:\\Users\\Mehmet\\Desktop\\new_splited_wheat_dataset\\tmp_train\\images\\LucillaVitreous\\20220426_175502.jpg: corrupt JPEG restored and saved\n",
      "\u001b[34m\u001b[1mtrain: \u001b[0mWARNING  C:\\Users\\Mehmet\\Desktop\\new_splited_wheat_dataset\\tmp_train\\images\\LucillaVitreous\\20220426_175508.jpg: corrupt JPEG restored and saved\n",
      "\u001b[34m\u001b[1mtrain: \u001b[0mWARNING  C:\\Users\\Mehmet\\Desktop\\new_splited_wheat_dataset\\tmp_train\\images\\LucillaVitreous\\20220426_175514.jpg: corrupt JPEG restored and saved\n",
      "\u001b[34m\u001b[1mtrain: \u001b[0mWARNING  C:\\Users\\Mehmet\\Desktop\\new_splited_wheat_dataset\\tmp_train\\images\\LucillaVitreous\\20220426_175516.jpg: corrupt JPEG restored and saved\n",
      "\u001b[34m\u001b[1mtrain: \u001b[0mWARNING  C:\\Users\\Mehmet\\Desktop\\new_splited_wheat_dataset\\tmp_train\\images\\LucillaVitreous\\20220426_175526.jpg: corrupt JPEG restored and saved\n",
      "\u001b[34m\u001b[1mtrain: \u001b[0mWARNING  C:\\Users\\Mehmet\\Desktop\\new_splited_wheat_dataset\\tmp_train\\images\\LucillaVitreous\\20220426_175529.jpg: corrupt JPEG restored and saved\n",
      "\u001b[34m\u001b[1mtrain: \u001b[0mWARNING  C:\\Users\\Mehmet\\Desktop\\new_splited_wheat_dataset\\tmp_train\\images\\LucillaVitreous\\20220426_175531.jpg: corrupt JPEG restored and saved\n",
      "\u001b[34m\u001b[1mtrain: \u001b[0mWARNING  C:\\Users\\Mehmet\\Desktop\\new_splited_wheat_dataset\\tmp_train\\images\\LucillaVitreous\\20220426_175533.jpg: corrupt JPEG restored and saved\n",
      "\u001b[34m\u001b[1mtrain: \u001b[0mWARNING  C:\\Users\\Mehmet\\Desktop\\new_splited_wheat_dataset\\tmp_train\\images\\LucillaVitreous\\20220426_175535.jpg: corrupt JPEG restored and saved\n",
      "\u001b[34m\u001b[1mtrain: \u001b[0mWARNING  C:\\Users\\Mehmet\\Desktop\\new_splited_wheat_dataset\\tmp_train\\images\\LucillaVitreous\\20220426_175537.jpg: corrupt JPEG restored and saved\n",
      "\u001b[34m\u001b[1mtrain: \u001b[0mWARNING  C:\\Users\\Mehmet\\Desktop\\new_splited_wheat_dataset\\tmp_train\\images\\LucillaVitreous\\20220426_175541.jpg: corrupt JPEG restored and saved\n",
      "\u001b[34m\u001b[1mtrain: \u001b[0mWARNING  C:\\Users\\Mehmet\\Desktop\\new_splited_wheat_dataset\\tmp_train\\images\\LucillaVitreous\\20220426_175544.jpg: corrupt JPEG restored and saved\n",
      "\u001b[34m\u001b[1mtrain: \u001b[0mWARNING  C:\\Users\\Mehmet\\Desktop\\new_splited_wheat_dataset\\tmp_train\\images\\LucillaVitreous\\20220426_175546.jpg: corrupt JPEG restored and saved\n",
      "\u001b[34m\u001b[1mtrain: \u001b[0mWARNING  C:\\Users\\Mehmet\\Desktop\\new_splited_wheat_dataset\\tmp_train\\images\\LucillaVitreous\\20220426_175548.jpg: corrupt JPEG restored and saved\n",
      "\u001b[34m\u001b[1mtrain: \u001b[0mWARNING  C:\\Users\\Mehmet\\Desktop\\new_splited_wheat_dataset\\tmp_train\\images\\LucillaVitreous\\20220426_175550.jpg: corrupt JPEG restored and saved\n",
      "\u001b[34m\u001b[1mtrain: \u001b[0mWARNING  C:\\Users\\Mehmet\\Desktop\\new_splited_wheat_dataset\\tmp_train\\images\\LucillaVitreous\\20220426_175600.jpg: corrupt JPEG restored and saved\n",
      "\u001b[34m\u001b[1mtrain: \u001b[0mWARNING  C:\\Users\\Mehmet\\Desktop\\new_splited_wheat_dataset\\tmp_train\\images\\LucillaVitreous\\20220426_175603.jpg: corrupt JPEG restored and saved\n",
      "\u001b[34m\u001b[1mtrain: \u001b[0mWARNING  C:\\Users\\Mehmet\\Desktop\\new_splited_wheat_dataset\\tmp_train\\images\\OdeskaVitreous\\20220426_172201.jpg: corrupt JPEG restored and saved\n",
      "\u001b[34m\u001b[1mtrain: \u001b[0mWARNING  C:\\Users\\Mehmet\\Desktop\\new_splited_wheat_dataset\\tmp_train\\images\\OdeskaVitreous\\20220426_172211.jpg: corrupt JPEG restored and saved\n",
      "\u001b[34m\u001b[1mtrain: \u001b[0mWARNING  C:\\Users\\Mehmet\\Desktop\\new_splited_wheat_dataset\\tmp_train\\images\\OdeskaVitreous\\20220426_172213.jpg: corrupt JPEG restored and saved\n",
      "\u001b[34m\u001b[1mtrain: \u001b[0mWARNING  C:\\Users\\Mehmet\\Desktop\\new_splited_wheat_dataset\\tmp_train\\images\\OdeskaVitreous\\20220426_172227.jpg: corrupt JPEG restored and saved\n",
      "\u001b[34m\u001b[1mtrain: \u001b[0mWARNING  C:\\Users\\Mehmet\\Desktop\\new_splited_wheat_dataset\\tmp_train\\images\\OdeskaVitreous\\20220426_172229.jpg: corrupt JPEG restored and saved\n",
      "\u001b[34m\u001b[1mtrain: \u001b[0mWARNING  C:\\Users\\Mehmet\\Desktop\\new_splited_wheat_dataset\\tmp_train\\images\\OdeskaVitreous\\20220426_172232.jpg: corrupt JPEG restored and saved\n",
      "\u001b[34m\u001b[1mtrain: \u001b[0mWARNING  C:\\Users\\Mehmet\\Desktop\\new_splited_wheat_dataset\\tmp_train\\images\\OdeskaVitreous\\20220426_172234.jpg: corrupt JPEG restored and saved\n",
      "\u001b[34m\u001b[1mtrain: \u001b[0mWARNING  C:\\Users\\Mehmet\\Desktop\\new_splited_wheat_dataset\\tmp_train\\images\\OdeskaVitreous\\20220426_172236.jpg: corrupt JPEG restored and saved\n",
      "\u001b[34m\u001b[1mtrain: \u001b[0mWARNING  C:\\Users\\Mehmet\\Desktop\\new_splited_wheat_dataset\\tmp_train\\images\\OdeskaVitreous\\20220426_172241.jpg: corrupt JPEG restored and saved\n",
      "\u001b[34m\u001b[1mtrain: \u001b[0mWARNING  C:\\Users\\Mehmet\\Desktop\\new_splited_wheat_dataset\\tmp_train\\images\\OdeskaVitreous\\20220426_172243.jpg: corrupt JPEG restored and saved\n",
      "\u001b[34m\u001b[1mtrain: \u001b[0mWARNING  C:\\Users\\Mehmet\\Desktop\\new_splited_wheat_dataset\\tmp_train\\images\\OdeskaVitreous\\20220426_172248.jpg: corrupt JPEG restored and saved\n",
      "\u001b[34m\u001b[1mtrain: \u001b[0mWARNING  C:\\Users\\Mehmet\\Desktop\\new_splited_wheat_dataset\\tmp_train\\images\\OdeskaVitreous\\20220426_172251.jpg: corrupt JPEG restored and saved\n",
      "\u001b[34m\u001b[1mtrain: \u001b[0mWARNING  C:\\Users\\Mehmet\\Desktop\\new_splited_wheat_dataset\\tmp_train\\images\\OdeskaVitreous\\20220426_172309.jpg: corrupt JPEG restored and saved\n",
      "\u001b[34m\u001b[1mtrain: \u001b[0mWARNING  C:\\Users\\Mehmet\\Desktop\\new_splited_wheat_dataset\\tmp_train\\images\\OdeskaVitreous\\20220426_172317.jpg: corrupt JPEG restored and saved\n",
      "\u001b[34m\u001b[1mtrain: \u001b[0mWARNING  C:\\Users\\Mehmet\\Desktop\\new_splited_wheat_dataset\\tmp_train\\images\\OdeskaVitreous\\20220426_172319.jpg: corrupt JPEG restored and saved\n",
      "\u001b[34m\u001b[1mtrain: \u001b[0mWARNING  C:\\Users\\Mehmet\\Desktop\\new_splited_wheat_dataset\\tmp_train\\images\\OdeskaVitreous\\20220426_172321.jpg: corrupt JPEG restored and saved\n",
      "\u001b[34m\u001b[1mtrain: \u001b[0mWARNING  C:\\Users\\Mehmet\\Desktop\\new_splited_wheat_dataset\\tmp_train\\images\\OdeskaVitreous\\20220426_172336.jpg: corrupt JPEG restored and saved\n",
      "\u001b[34m\u001b[1mtrain: \u001b[0mWARNING  C:\\Users\\Mehmet\\Desktop\\new_splited_wheat_dataset\\tmp_train\\images\\OdeskaVitreous\\20220426_172339.jpg: corrupt JPEG restored and saved\n",
      "\u001b[34m\u001b[1mtrain: \u001b[0mWARNING  C:\\Users\\Mehmet\\Desktop\\new_splited_wheat_dataset\\tmp_train\\images\\OdeskaVitreous\\20220426_172341.jpg: corrupt JPEG restored and saved\n",
      "\u001b[34m\u001b[1mtrain: \u001b[0mWARNING  C:\\Users\\Mehmet\\Desktop\\new_splited_wheat_dataset\\tmp_train\\images\\OdeskaVitreous\\20220426_172343.jpg: corrupt JPEG restored and saved\n",
      "\u001b[34m\u001b[1mtrain: \u001b[0mWARNING  C:\\Users\\Mehmet\\Desktop\\new_splited_wheat_dataset\\tmp_train\\images\\OdeskaVitreous\\20220426_172345.jpg: corrupt JPEG restored and saved\n",
      "\u001b[34m\u001b[1mtrain: \u001b[0mWARNING  C:\\Users\\Mehmet\\Desktop\\new_splited_wheat_dataset\\tmp_train\\images\\OdeskaVitreous\\20220426_172354.jpg: corrupt JPEG restored and saved\n",
      "\u001b[34m\u001b[1mtrain: \u001b[0mWARNING  C:\\Users\\Mehmet\\Desktop\\new_splited_wheat_dataset\\tmp_train\\images\\OdeskaVitreous\\20220426_172356.jpg: corrupt JPEG restored and saved\n",
      "\u001b[34m\u001b[1mtrain: \u001b[0mWARNING  C:\\Users\\Mehmet\\Desktop\\new_splited_wheat_dataset\\tmp_train\\images\\OdeskaVitreous\\20220426_172359.jpg: corrupt JPEG restored and saved\n",
      "\u001b[34m\u001b[1mtrain: \u001b[0mWARNING  C:\\Users\\Mehmet\\Desktop\\new_splited_wheat_dataset\\tmp_train\\images\\OdeskaVitreous\\20220426_172401.jpg: corrupt JPEG restored and saved\n",
      "\u001b[34m\u001b[1mtrain: \u001b[0mWARNING  C:\\Users\\Mehmet\\Desktop\\new_splited_wheat_dataset\\tmp_train\\images\\OdeskaVitreous\\20220426_172419.jpg: corrupt JPEG restored and saved\n",
      "\u001b[34m\u001b[1mtrain: \u001b[0mWARNING  C:\\Users\\Mehmet\\Desktop\\new_splited_wheat_dataset\\tmp_train\\images\\OdeskaVitreous\\20220426_172421.jpg: corrupt JPEG restored and saved\n",
      "\u001b[34m\u001b[1mtrain: \u001b[0mWARNING  C:\\Users\\Mehmet\\Desktop\\new_splited_wheat_dataset\\tmp_train\\images\\OdeskaVitreous\\20220426_172425.jpg: corrupt JPEG restored and saved\n",
      "\u001b[34m\u001b[1mtrain: \u001b[0mWARNING  C:\\Users\\Mehmet\\Desktop\\new_splited_wheat_dataset\\tmp_train\\images\\OdeskaVitreous\\20220426_172429.jpg: corrupt JPEG restored and saved\n",
      "\u001b[34m\u001b[1mtrain: \u001b[0mWARNING  C:\\Users\\Mehmet\\Desktop\\new_splited_wheat_dataset\\tmp_train\\images\\OdeskaVitreous\\20220426_172436.jpg: corrupt JPEG restored and saved\n",
      "\u001b[34m\u001b[1mtrain: \u001b[0mWARNING  C:\\Users\\Mehmet\\Desktop\\new_splited_wheat_dataset\\tmp_train\\images\\OdeskaVitreous\\20220426_172451.jpg: corrupt JPEG restored and saved\n",
      "\u001b[34m\u001b[1mtrain: \u001b[0mWARNING  C:\\Users\\Mehmet\\Desktop\\new_splited_wheat_dataset\\tmp_train\\images\\OdeskaVitreous\\20220426_172455.jpg: corrupt JPEG restored and saved\n",
      "\u001b[34m\u001b[1mtrain: \u001b[0mWARNING  C:\\Users\\Mehmet\\Desktop\\new_splited_wheat_dataset\\tmp_train\\images\\OdeskaVitreous\\20220426_172500.jpg: corrupt JPEG restored and saved\n",
      "\u001b[34m\u001b[1mtrain: \u001b[0mWARNING  C:\\Users\\Mehmet\\Desktop\\new_splited_wheat_dataset\\tmp_train\\images\\OdeskaVitreous\\20220426_172507.jpg: corrupt JPEG restored and saved\n",
      "\u001b[34m\u001b[1mtrain: \u001b[0mWARNING  C:\\Users\\Mehmet\\Desktop\\new_splited_wheat_dataset\\tmp_train\\images\\OdeskaVitreous\\20220426_172509.jpg: corrupt JPEG restored and saved\n",
      "\u001b[34m\u001b[1mtrain: \u001b[0mWARNING  C:\\Users\\Mehmet\\Desktop\\new_splited_wheat_dataset\\tmp_train\\images\\OdeskaVitreous\\20220426_172528.jpg: corrupt JPEG restored and saved\n",
      "\u001b[34m\u001b[1mtrain: \u001b[0mWARNING  C:\\Users\\Mehmet\\Desktop\\new_splited_wheat_dataset\\tmp_train\\images\\OdeskaVitreous\\20220426_172537.jpg: corrupt JPEG restored and saved\n",
      "\u001b[34m\u001b[1mtrain: \u001b[0mWARNING  C:\\Users\\Mehmet\\Desktop\\new_splited_wheat_dataset\\tmp_train\\images\\OdeskaVitreous\\20220426_172540.jpg: corrupt JPEG restored and saved\n",
      "\u001b[34m\u001b[1mtrain: \u001b[0mWARNING  C:\\Users\\Mehmet\\Desktop\\new_splited_wheat_dataset\\tmp_train\\images\\OdeskaVitreous\\20220426_172556.jpg: corrupt JPEG restored and saved\n",
      "\u001b[34m\u001b[1mtrain: \u001b[0mWARNING  C:\\Users\\Mehmet\\Desktop\\new_splited_wheat_dataset\\tmp_train\\images\\OdeskaVitreous\\20220426_172559.jpg: corrupt JPEG restored and saved\n",
      "\u001b[34m\u001b[1mtrain: \u001b[0mWARNING  C:\\Users\\Mehmet\\Desktop\\new_splited_wheat_dataset\\tmp_train\\images\\OdeskaVitreous\\20220426_172601.jpg: corrupt JPEG restored and saved\n",
      "\u001b[34m\u001b[1mtrain: \u001b[0mWARNING  C:\\Users\\Mehmet\\Desktop\\new_splited_wheat_dataset\\tmp_train\\images\\OdeskaVitreous\\20220426_172603.jpg: corrupt JPEG restored and saved\n",
      "\u001b[34m\u001b[1mtrain: \u001b[0mWARNING  C:\\Users\\Mehmet\\Desktop\\new_splited_wheat_dataset\\tmp_train\\images\\OdeskaVitreous\\20220426_172613.jpg: corrupt JPEG restored and saved\n",
      "\u001b[34m\u001b[1mtrain: \u001b[0mWARNING  C:\\Users\\Mehmet\\Desktop\\new_splited_wheat_dataset\\tmp_train\\images\\OdeskaVitreous\\20220426_172617.jpg: corrupt JPEG restored and saved\n",
      "\u001b[34m\u001b[1mtrain: \u001b[0mWARNING  C:\\Users\\Mehmet\\Desktop\\new_splited_wheat_dataset\\tmp_train\\images\\OdeskaVitreous\\20220426_172620.jpg: corrupt JPEG restored and saved\n",
      "\u001b[34m\u001b[1mtrain: \u001b[0mWARNING  C:\\Users\\Mehmet\\Desktop\\new_splited_wheat_dataset\\tmp_train\\images\\OdeskaVitreous\\20220426_172623.jpg: corrupt JPEG restored and saved\n",
      "\u001b[34m\u001b[1mtrain: \u001b[0mWARNING  C:\\Users\\Mehmet\\Desktop\\new_splited_wheat_dataset\\tmp_train\\images\\OdeskaVitreous\\20220426_172631.jpg: corrupt JPEG restored and saved\n",
      "\u001b[34m\u001b[1mtrain: \u001b[0mWARNING  C:\\Users\\Mehmet\\Desktop\\new_splited_wheat_dataset\\tmp_train\\images\\OdeskaVitreous\\20220426_172635.jpg: corrupt JPEG restored and saved\n",
      "\u001b[34m\u001b[1mtrain: \u001b[0mWARNING  C:\\Users\\Mehmet\\Desktop\\new_splited_wheat_dataset\\tmp_train\\images\\OdeskaVitreous\\20220426_172640.jpg: corrupt JPEG restored and saved\n",
      "\u001b[34m\u001b[1mtrain: \u001b[0mWARNING  C:\\Users\\Mehmet\\Desktop\\new_splited_wheat_dataset\\tmp_train\\images\\OdeskaVitreous\\20220426_172642.jpg: corrupt JPEG restored and saved\n",
      "\u001b[34m\u001b[1mtrain: \u001b[0mWARNING  C:\\Users\\Mehmet\\Desktop\\new_splited_wheat_dataset\\tmp_train\\images\\OdeskaVitreous\\20220426_172645.jpg: corrupt JPEG restored and saved\n",
      "\u001b[34m\u001b[1mtrain: \u001b[0mWARNING  C:\\Users\\Mehmet\\Desktop\\new_splited_wheat_dataset\\tmp_train\\images\\OdeskaVitreous\\20220426_172647.jpg: corrupt JPEG restored and saved\n",
      "\u001b[34m\u001b[1mtrain: \u001b[0mWARNING  C:\\Users\\Mehmet\\Desktop\\new_splited_wheat_dataset\\tmp_train\\images\\OdeskaVitreous\\20220426_172649.jpg: corrupt JPEG restored and saved\n",
      "\u001b[34m\u001b[1mtrain: \u001b[0mWARNING  C:\\Users\\Mehmet\\Desktop\\new_splited_wheat_dataset\\tmp_train\\images\\OdeskaVitreous\\20220426_172651.jpg: corrupt JPEG restored and saved\n",
      "\u001b[34m\u001b[1mtrain: \u001b[0mWARNING  C:\\Users\\Mehmet\\Desktop\\new_splited_wheat_dataset\\tmp_train\\images\\OdeskaVitreous\\20220426_172659.jpg: corrupt JPEG restored and saved\n",
      "\u001b[34m\u001b[1mtrain: \u001b[0mWARNING  C:\\Users\\Mehmet\\Desktop\\new_splited_wheat_dataset\\tmp_train\\images\\OdeskaVitreous\\20220426_172701.jpg: corrupt JPEG restored and saved\n",
      "\u001b[34m\u001b[1mtrain: \u001b[0mWARNING  C:\\Users\\Mehmet\\Desktop\\new_splited_wheat_dataset\\tmp_train\\images\\OdeskaVitreous\\20220426_172711.jpg: corrupt JPEG restored and saved\n",
      "\u001b[34m\u001b[1mtrain: \u001b[0mWARNING  C:\\Users\\Mehmet\\Desktop\\new_splited_wheat_dataset\\tmp_train\\images\\OdeskaVitreous\\20220426_172713.jpg: corrupt JPEG restored and saved\n",
      "\u001b[34m\u001b[1mtrain: \u001b[0mWARNING  C:\\Users\\Mehmet\\Desktop\\new_splited_wheat_dataset\\tmp_train\\images\\OdeskaVitreous\\20220426_172724.jpg: corrupt JPEG restored and saved\n",
      "\u001b[34m\u001b[1mtrain: \u001b[0mWARNING  C:\\Users\\Mehmet\\Desktop\\new_splited_wheat_dataset\\tmp_train\\images\\OdeskaVitreous\\20220426_172732.jpg: corrupt JPEG restored and saved\n",
      "\u001b[34m\u001b[1mtrain: \u001b[0mWARNING  C:\\Users\\Mehmet\\Desktop\\new_splited_wheat_dataset\\tmp_train\\images\\OdeskaVitreous\\20220426_172737.jpg: corrupt JPEG restored and saved\n",
      "\u001b[34m\u001b[1mtrain: \u001b[0mWARNING  C:\\Users\\Mehmet\\Desktop\\new_splited_wheat_dataset\\tmp_train\\images\\RumeliVitreous\\20220427_120143.jpg: corrupt JPEG restored and saved\n",
      "\u001b[34m\u001b[1mtrain: \u001b[0mWARNING  C:\\Users\\Mehmet\\Desktop\\new_splited_wheat_dataset\\tmp_train\\images\\RumeliVitreous\\20220427_120149.jpg: corrupt JPEG restored and saved\n",
      "\u001b[34m\u001b[1mtrain: \u001b[0mWARNING  C:\\Users\\Mehmet\\Desktop\\new_splited_wheat_dataset\\tmp_train\\images\\RumeliVitreous\\20220427_120151.jpg: corrupt JPEG restored and saved\n",
      "\u001b[34m\u001b[1mtrain: \u001b[0mWARNING  C:\\Users\\Mehmet\\Desktop\\new_splited_wheat_dataset\\tmp_train\\images\\RumeliVitreous\\20220427_120155.jpg: corrupt JPEG restored and saved\n",
      "\u001b[34m\u001b[1mtrain: \u001b[0mWARNING  C:\\Users\\Mehmet\\Desktop\\new_splited_wheat_dataset\\tmp_train\\images\\RumeliVitreous\\20220427_120159.jpg: corrupt JPEG restored and saved\n",
      "\u001b[34m\u001b[1mtrain: \u001b[0mWARNING  C:\\Users\\Mehmet\\Desktop\\new_splited_wheat_dataset\\tmp_train\\images\\RumeliVitreous\\20220427_120201.jpg: corrupt JPEG restored and saved\n",
      "\u001b[34m\u001b[1mtrain: \u001b[0mWARNING  C:\\Users\\Mehmet\\Desktop\\new_splited_wheat_dataset\\tmp_train\\images\\RumeliVitreous\\20220427_120203.jpg: corrupt JPEG restored and saved\n",
      "\u001b[34m\u001b[1mtrain: \u001b[0mWARNING  C:\\Users\\Mehmet\\Desktop\\new_splited_wheat_dataset\\tmp_train\\images\\RumeliVitreous\\20220427_120205.jpg: corrupt JPEG restored and saved\n",
      "\u001b[34m\u001b[1mtrain: \u001b[0mWARNING  C:\\Users\\Mehmet\\Desktop\\new_splited_wheat_dataset\\tmp_train\\images\\RumeliVitreous\\20220427_120207.jpg: corrupt JPEG restored and saved\n",
      "\u001b[34m\u001b[1mtrain: \u001b[0mWARNING  C:\\Users\\Mehmet\\Desktop\\new_splited_wheat_dataset\\tmp_train\\images\\RumeliVitreous\\20220427_120209.jpg: corrupt JPEG restored and saved\n",
      "\u001b[34m\u001b[1mtrain: \u001b[0mWARNING  C:\\Users\\Mehmet\\Desktop\\new_splited_wheat_dataset\\tmp_train\\images\\RumeliVitreous\\20220427_120212.jpg: corrupt JPEG restored and saved\n",
      "\u001b[34m\u001b[1mtrain: \u001b[0mWARNING  C:\\Users\\Mehmet\\Desktop\\new_splited_wheat_dataset\\tmp_train\\images\\RumeliVitreous\\20220427_120216.jpg: corrupt JPEG restored and saved\n",
      "\u001b[34m\u001b[1mtrain: \u001b[0mWARNING  C:\\Users\\Mehmet\\Desktop\\new_splited_wheat_dataset\\tmp_train\\images\\RumeliVitreous\\20220427_120218.jpg: corrupt JPEG restored and saved\n",
      "\u001b[34m\u001b[1mtrain: \u001b[0mWARNING  C:\\Users\\Mehmet\\Desktop\\new_splited_wheat_dataset\\tmp_train\\images\\RumeliVitreous\\20220427_120229.jpg: corrupt JPEG restored and saved\n",
      "\u001b[34m\u001b[1mtrain: \u001b[0mWARNING  C:\\Users\\Mehmet\\Desktop\\new_splited_wheat_dataset\\tmp_train\\images\\RumeliVitreous\\20220427_120233.jpg: corrupt JPEG restored and saved\n",
      "\u001b[34m\u001b[1mtrain: \u001b[0mWARNING  C:\\Users\\Mehmet\\Desktop\\new_splited_wheat_dataset\\tmp_train\\images\\RumeliVitreous\\20220427_120253.jpg: corrupt JPEG restored and saved\n",
      "\u001b[34m\u001b[1mtrain: \u001b[0mWARNING  C:\\Users\\Mehmet\\Desktop\\new_splited_wheat_dataset\\tmp_train\\images\\RumeliVitreous\\20220427_120254.jpg: corrupt JPEG restored and saved\n",
      "\u001b[34m\u001b[1mtrain: \u001b[0mWARNING  C:\\Users\\Mehmet\\Desktop\\new_splited_wheat_dataset\\tmp_train\\images\\RumeliVitreous\\20220427_120256.jpg: corrupt JPEG restored and saved\n",
      "\u001b[34m\u001b[1mtrain: \u001b[0mWARNING  C:\\Users\\Mehmet\\Desktop\\new_splited_wheat_dataset\\tmp_train\\images\\RumeliVitreous\\20220427_120307.jpg: corrupt JPEG restored and saved\n",
      "\u001b[34m\u001b[1mtrain: \u001b[0mWARNING  C:\\Users\\Mehmet\\Desktop\\new_splited_wheat_dataset\\tmp_train\\images\\RumeliVitreous\\20220427_120309.jpg: corrupt JPEG restored and saved\n",
      "\u001b[34m\u001b[1mtrain: \u001b[0mWARNING  C:\\Users\\Mehmet\\Desktop\\new_splited_wheat_dataset\\tmp_train\\images\\RumeliVitreous\\20220427_120317.jpg: corrupt JPEG restored and saved\n",
      "\u001b[34m\u001b[1mtrain: \u001b[0mWARNING  C:\\Users\\Mehmet\\Desktop\\new_splited_wheat_dataset\\tmp_train\\images\\RumeliVitreous\\20220427_120329.jpg: corrupt JPEG restored and saved\n",
      "\u001b[34m\u001b[1mtrain: \u001b[0mWARNING  C:\\Users\\Mehmet\\Desktop\\new_splited_wheat_dataset\\tmp_train\\images\\RumeliVitreous\\20220427_120332.jpg: corrupt JPEG restored and saved\n",
      "\u001b[34m\u001b[1mtrain: \u001b[0mWARNING  C:\\Users\\Mehmet\\Desktop\\new_splited_wheat_dataset\\tmp_train\\images\\RumeliVitreous\\20220427_120336.jpg: corrupt JPEG restored and saved\n",
      "\u001b[34m\u001b[1mtrain: \u001b[0mWARNING  C:\\Users\\Mehmet\\Desktop\\new_splited_wheat_dataset\\tmp_train\\images\\RumeliVitreous\\20220427_120339.jpg: corrupt JPEG restored and saved\n",
      "\u001b[34m\u001b[1mtrain: \u001b[0mWARNING  C:\\Users\\Mehmet\\Desktop\\new_splited_wheat_dataset\\tmp_train\\images\\RumeliVitreous\\20220427_120352.jpg: corrupt JPEG restored and saved\n",
      "\u001b[34m\u001b[1mtrain: \u001b[0mWARNING  C:\\Users\\Mehmet\\Desktop\\new_splited_wheat_dataset\\tmp_train\\images\\RumeliVitreous\\20220427_120359.jpg: corrupt JPEG restored and saved\n",
      "\u001b[34m\u001b[1mtrain: \u001b[0mWARNING  C:\\Users\\Mehmet\\Desktop\\new_splited_wheat_dataset\\tmp_train\\images\\RumeliVitreous\\20220427_120404.jpg: corrupt JPEG restored and saved\n",
      "\u001b[34m\u001b[1mtrain: \u001b[0mWARNING  C:\\Users\\Mehmet\\Desktop\\new_splited_wheat_dataset\\tmp_train\\images\\RumeliVitreous\\20220427_120407.jpg: corrupt JPEG restored and saved\n",
      "\u001b[34m\u001b[1mtrain: \u001b[0mWARNING  C:\\Users\\Mehmet\\Desktop\\new_splited_wheat_dataset\\tmp_train\\images\\RumeliVitreous\\20220427_120410.jpg: corrupt JPEG restored and saved\n",
      "\u001b[34m\u001b[1mtrain: \u001b[0mWARNING  C:\\Users\\Mehmet\\Desktop\\new_splited_wheat_dataset\\tmp_train\\images\\RumeliVitreous\\20220427_120419.jpg: corrupt JPEG restored and saved\n",
      "\u001b[34m\u001b[1mtrain: \u001b[0mWARNING  C:\\Users\\Mehmet\\Desktop\\new_splited_wheat_dataset\\tmp_train\\images\\RumeliVitreous\\20220427_120421.jpg: corrupt JPEG restored and saved\n",
      "\u001b[34m\u001b[1mtrain: \u001b[0mWARNING  C:\\Users\\Mehmet\\Desktop\\new_splited_wheat_dataset\\tmp_train\\images\\RumeliVitreous\\20220427_120425.jpg: corrupt JPEG restored and saved\n",
      "\u001b[34m\u001b[1mtrain: \u001b[0mWARNING  C:\\Users\\Mehmet\\Desktop\\new_splited_wheat_dataset\\tmp_train\\images\\RumeliVitreous\\20220427_120428.jpg: corrupt JPEG restored and saved\n",
      "\u001b[34m\u001b[1mtrain: \u001b[0mWARNING  C:\\Users\\Mehmet\\Desktop\\new_splited_wheat_dataset\\tmp_train\\images\\RumeliVitreous\\20220427_120430.jpg: corrupt JPEG restored and saved\n",
      "\u001b[34m\u001b[1mtrain: \u001b[0mWARNING  C:\\Users\\Mehmet\\Desktop\\new_splited_wheat_dataset\\tmp_train\\images\\RumeliVitreous\\20220427_120435.jpg: corrupt JPEG restored and saved\n",
      "\u001b[34m\u001b[1mtrain: \u001b[0mWARNING  C:\\Users\\Mehmet\\Desktop\\new_splited_wheat_dataset\\tmp_train\\images\\RumeliVitreous\\20220427_120450.jpg: corrupt JPEG restored and saved\n",
      "\u001b[34m\u001b[1mtrain: \u001b[0mWARNING  C:\\Users\\Mehmet\\Desktop\\new_splited_wheat_dataset\\tmp_train\\images\\RumeliVitreous\\20220427_120457.jpg: corrupt JPEG restored and saved\n",
      "\u001b[34m\u001b[1mtrain: \u001b[0mWARNING  C:\\Users\\Mehmet\\Desktop\\new_splited_wheat_dataset\\tmp_train\\images\\RumeliVitreous\\20220427_120459.jpg: corrupt JPEG restored and saved\n",
      "\u001b[34m\u001b[1mtrain: \u001b[0mWARNING  C:\\Users\\Mehmet\\Desktop\\new_splited_wheat_dataset\\tmp_train\\images\\RumeliVitreous\\20220427_120504.jpg: corrupt JPEG restored and saved\n",
      "\u001b[34m\u001b[1mtrain: \u001b[0mWARNING  C:\\Users\\Mehmet\\Desktop\\new_splited_wheat_dataset\\tmp_train\\images\\RumeliVitreous\\20220427_120508.jpg: corrupt JPEG restored and saved\n",
      "\u001b[34m\u001b[1mtrain: \u001b[0mWARNING  C:\\Users\\Mehmet\\Desktop\\new_splited_wheat_dataset\\tmp_train\\images\\RumeliVitreous\\20220427_120511.jpg: corrupt JPEG restored and saved\n",
      "\u001b[34m\u001b[1mtrain: \u001b[0mWARNING  C:\\Users\\Mehmet\\Desktop\\new_splited_wheat_dataset\\tmp_train\\images\\RumeliVitreous\\20220427_120513.jpg: corrupt JPEG restored and saved\n",
      "\u001b[34m\u001b[1mtrain: \u001b[0mWARNING  C:\\Users\\Mehmet\\Desktop\\new_splited_wheat_dataset\\tmp_train\\images\\RumeliVitreous\\20220427_120521.jpg: corrupt JPEG restored and saved\n",
      "\u001b[34m\u001b[1mtrain: \u001b[0mWARNING  C:\\Users\\Mehmet\\Desktop\\new_splited_wheat_dataset\\tmp_train\\images\\RumeliVitreous\\20220427_120524.jpg: corrupt JPEG restored and saved\n",
      "\u001b[34m\u001b[1mtrain: \u001b[0mWARNING  C:\\Users\\Mehmet\\Desktop\\new_splited_wheat_dataset\\tmp_train\\images\\RumeliVitreous\\20220427_120526.jpg: corrupt JPEG restored and saved\n",
      "\u001b[34m\u001b[1mtrain: \u001b[0mWARNING  C:\\Users\\Mehmet\\Desktop\\new_splited_wheat_dataset\\tmp_train\\images\\RumeliVitreous\\20220427_120532.jpg: corrupt JPEG restored and saved\n",
      "\u001b[34m\u001b[1mtrain: \u001b[0mWARNING  C:\\Users\\Mehmet\\Desktop\\new_splited_wheat_dataset\\tmp_train\\images\\RumeliVitreous\\20220427_120535.jpg: corrupt JPEG restored and saved\n",
      "\u001b[34m\u001b[1mtrain: \u001b[0mWARNING  C:\\Users\\Mehmet\\Desktop\\new_splited_wheat_dataset\\tmp_train\\images\\RumeliVitreous\\20220427_120537.jpg: corrupt JPEG restored and saved\n",
      "\u001b[34m\u001b[1mtrain: \u001b[0mWARNING  C:\\Users\\Mehmet\\Desktop\\new_splited_wheat_dataset\\tmp_train\\images\\RumeliVitreous\\20220427_120539.jpg: corrupt JPEG restored and saved\n",
      "\u001b[34m\u001b[1mtrain: \u001b[0mWARNING  C:\\Users\\Mehmet\\Desktop\\new_splited_wheat_dataset\\tmp_train\\images\\RumeliVitreous\\20220427_120557.jpg: corrupt JPEG restored and saved\n",
      "\u001b[34m\u001b[1mtrain: \u001b[0mWARNING  C:\\Users\\Mehmet\\Desktop\\new_splited_wheat_dataset\\tmp_train\\images\\RumeliVitreous\\20220427_120601.jpg: corrupt JPEG restored and saved\n",
      "\u001b[34m\u001b[1mtrain: \u001b[0mWARNING  C:\\Users\\Mehmet\\Desktop\\new_splited_wheat_dataset\\tmp_train\\images\\RumeliVitreous\\20220427_120603.jpg: corrupt JPEG restored and saved\n",
      "\u001b[34m\u001b[1mtrain: \u001b[0mWARNING  C:\\Users\\Mehmet\\Desktop\\new_splited_wheat_dataset\\tmp_train\\images\\RumeliVitreous\\20220427_120606.jpg: corrupt JPEG restored and saved\n",
      "\u001b[34m\u001b[1mtrain: \u001b[0mWARNING  C:\\Users\\Mehmet\\Desktop\\new_splited_wheat_dataset\\tmp_train\\images\\RumeliVitreous\\20220427_120607.jpg: corrupt JPEG restored and saved\n",
      "\u001b[34m\u001b[1mtrain: \u001b[0mWARNING  C:\\Users\\Mehmet\\Desktop\\new_splited_wheat_dataset\\tmp_train\\images\\RumeliVitreous\\20220427_120610.jpg: corrupt JPEG restored and saved\n",
      "\u001b[34m\u001b[1mtrain: \u001b[0mWARNING  C:\\Users\\Mehmet\\Desktop\\new_splited_wheat_dataset\\tmp_train\\images\\RumeliVitreous\\20220427_120613.jpg: corrupt JPEG restored and saved\n",
      "\u001b[34m\u001b[1mtrain: \u001b[0mWARNING  C:\\Users\\Mehmet\\Desktop\\new_splited_wheat_dataset\\tmp_train\\images\\RumeliVitreous\\20220427_120615.jpg: corrupt JPEG restored and saved\n",
      "\u001b[34m\u001b[1mtrain: \u001b[0mWARNING  C:\\Users\\Mehmet\\Desktop\\new_splited_wheat_dataset\\tmp_train\\images\\RumeliVitreous\\20220427_120617.jpg: corrupt JPEG restored and saved\n",
      "\u001b[34m\u001b[1mtrain: \u001b[0mWARNING  C:\\Users\\Mehmet\\Desktop\\new_splited_wheat_dataset\\tmp_train\\images\\RumeliVitreous\\20220427_120619.jpg: corrupt JPEG restored and saved\n",
      "\u001b[34m\u001b[1mtrain: \u001b[0mWARNING  C:\\Users\\Mehmet\\Desktop\\new_splited_wheat_dataset\\tmp_train\\images\\RumeliVitreous\\20220427_120621.jpg: corrupt JPEG restored and saved\n",
      "\u001b[34m\u001b[1mtrain: \u001b[0mWARNING  C:\\Users\\Mehmet\\Desktop\\new_splited_wheat_dataset\\tmp_train\\images\\RumeliVitreous\\20220427_120626.jpg: corrupt JPEG restored and saved\n",
      "\u001b[34m\u001b[1mtrain: \u001b[0mWARNING  C:\\Users\\Mehmet\\Desktop\\new_splited_wheat_dataset\\tmp_train\\images\\RumeliVitreous\\20220427_120628.jpg: corrupt JPEG restored and saved\n",
      "\u001b[34m\u001b[1mtrain: \u001b[0mWARNING  C:\\Users\\Mehmet\\Desktop\\new_splited_wheat_dataset\\tmp_train\\images\\RumeliVitreous\\20220427_120645.jpg: corrupt JPEG restored and saved\n",
      "\u001b[34m\u001b[1mtrain: \u001b[0mWARNING  C:\\Users\\Mehmet\\Desktop\\new_splited_wheat_dataset\\tmp_train\\images\\RumeliVitreous\\20220427_120650.jpg: corrupt JPEG restored and saved\n",
      "\u001b[34m\u001b[1mtrain: \u001b[0mWARNING  C:\\Users\\Mehmet\\Desktop\\new_splited_wheat_dataset\\tmp_train\\images\\RumeliVitreous\\20220427_120654.jpg: corrupt JPEG restored and saved\n",
      "\u001b[34m\u001b[1mtrain: \u001b[0mWARNING  C:\\Users\\Mehmet\\Desktop\\new_splited_wheat_dataset\\tmp_train\\images\\SelimiyeVitreous\\20220425_165106.jpg: corrupt JPEG restored and saved\n",
      "\u001b[34m\u001b[1mtrain: \u001b[0mWARNING  C:\\Users\\Mehmet\\Desktop\\new_splited_wheat_dataset\\tmp_train\\images\\SelimiyeVitreous\\20220425_165109.jpg: corrupt JPEG restored and saved\n",
      "\u001b[34m\u001b[1mtrain: \u001b[0mWARNING  C:\\Users\\Mehmet\\Desktop\\new_splited_wheat_dataset\\tmp_train\\images\\SelimiyeVitreous\\20220425_165111.jpg: corrupt JPEG restored and saved\n",
      "\u001b[34m\u001b[1mtrain: \u001b[0mWARNING  C:\\Users\\Mehmet\\Desktop\\new_splited_wheat_dataset\\tmp_train\\images\\SelimiyeVitreous\\20220425_165115.jpg: corrupt JPEG restored and saved\n",
      "\u001b[34m\u001b[1mtrain: \u001b[0mWARNING  C:\\Users\\Mehmet\\Desktop\\new_splited_wheat_dataset\\tmp_train\\images\\SelimiyeVitreous\\20220425_165117.jpg: corrupt JPEG restored and saved\n",
      "\u001b[34m\u001b[1mtrain: \u001b[0mWARNING  C:\\Users\\Mehmet\\Desktop\\new_splited_wheat_dataset\\tmp_train\\images\\SelimiyeVitreous\\20220425_165121.jpg: corrupt JPEG restored and saved\n",
      "\u001b[34m\u001b[1mtrain: \u001b[0mWARNING  C:\\Users\\Mehmet\\Desktop\\new_splited_wheat_dataset\\tmp_train\\images\\SelimiyeVitreous\\20220425_165124.jpg: corrupt JPEG restored and saved\n",
      "\u001b[34m\u001b[1mtrain: \u001b[0mWARNING  C:\\Users\\Mehmet\\Desktop\\new_splited_wheat_dataset\\tmp_train\\images\\SelimiyeVitreous\\20220425_165133.jpg: corrupt JPEG restored and saved\n",
      "\u001b[34m\u001b[1mtrain: \u001b[0mWARNING  C:\\Users\\Mehmet\\Desktop\\new_splited_wheat_dataset\\tmp_train\\images\\SelimiyeVitreous\\20220425_165135.jpg: corrupt JPEG restored and saved\n",
      "\u001b[34m\u001b[1mtrain: \u001b[0mWARNING  C:\\Users\\Mehmet\\Desktop\\new_splited_wheat_dataset\\tmp_train\\images\\SelimiyeVitreous\\20220425_165141.jpg: corrupt JPEG restored and saved\n",
      "\u001b[34m\u001b[1mtrain: \u001b[0mWARNING  C:\\Users\\Mehmet\\Desktop\\new_splited_wheat_dataset\\tmp_train\\images\\SelimiyeVitreous\\20220425_165145.jpg: corrupt JPEG restored and saved\n",
      "\u001b[34m\u001b[1mtrain: \u001b[0mWARNING  C:\\Users\\Mehmet\\Desktop\\new_splited_wheat_dataset\\tmp_train\\images\\SelimiyeVitreous\\20220425_165157.jpg: corrupt JPEG restored and saved\n",
      "\u001b[34m\u001b[1mtrain: \u001b[0mWARNING  C:\\Users\\Mehmet\\Desktop\\new_splited_wheat_dataset\\tmp_train\\images\\SelimiyeVitreous\\20220425_165202.jpg: corrupt JPEG restored and saved\n",
      "\u001b[34m\u001b[1mtrain: \u001b[0mWARNING  C:\\Users\\Mehmet\\Desktop\\new_splited_wheat_dataset\\tmp_train\\images\\SelimiyeVitreous\\20220425_165208.jpg: corrupt JPEG restored and saved\n",
      "\u001b[34m\u001b[1mtrain: \u001b[0mWARNING  C:\\Users\\Mehmet\\Desktop\\new_splited_wheat_dataset\\tmp_train\\images\\SelimiyeVitreous\\20220425_165210.jpg: corrupt JPEG restored and saved\n",
      "\u001b[34m\u001b[1mtrain: \u001b[0mWARNING  C:\\Users\\Mehmet\\Desktop\\new_splited_wheat_dataset\\tmp_train\\images\\SelimiyeVitreous\\20220425_165216.jpg: corrupt JPEG restored and saved\n",
      "\u001b[34m\u001b[1mtrain: \u001b[0mWARNING  C:\\Users\\Mehmet\\Desktop\\new_splited_wheat_dataset\\tmp_train\\images\\SelimiyeVitreous\\20220425_165228.jpg: corrupt JPEG restored and saved\n",
      "\u001b[34m\u001b[1mtrain: \u001b[0mWARNING  C:\\Users\\Mehmet\\Desktop\\new_splited_wheat_dataset\\tmp_train\\images\\SelimiyeVitreous\\20220425_165231.jpg: corrupt JPEG restored and saved\n",
      "\u001b[34m\u001b[1mtrain: \u001b[0mWARNING  C:\\Users\\Mehmet\\Desktop\\new_splited_wheat_dataset\\tmp_train\\images\\SelimiyeVitreous\\20220425_165233.jpg: corrupt JPEG restored and saved\n",
      "\u001b[34m\u001b[1mtrain: \u001b[0mWARNING  C:\\Users\\Mehmet\\Desktop\\new_splited_wheat_dataset\\tmp_train\\images\\SelimiyeVitreous\\20220425_165236.jpg: corrupt JPEG restored and saved\n",
      "\u001b[34m\u001b[1mtrain: \u001b[0mWARNING  C:\\Users\\Mehmet\\Desktop\\new_splited_wheat_dataset\\tmp_train\\images\\SelimiyeVitreous\\20220425_165238.jpg: corrupt JPEG restored and saved\n",
      "\u001b[34m\u001b[1mtrain: \u001b[0mWARNING  C:\\Users\\Mehmet\\Desktop\\new_splited_wheat_dataset\\tmp_train\\images\\SelimiyeVitreous\\20220425_165242.jpg: corrupt JPEG restored and saved\n",
      "\u001b[34m\u001b[1mtrain: \u001b[0mWARNING  C:\\Users\\Mehmet\\Desktop\\new_splited_wheat_dataset\\tmp_train\\images\\SelimiyeVitreous\\20220425_165305.jpg: corrupt JPEG restored and saved\n",
      "\u001b[34m\u001b[1mtrain: \u001b[0mWARNING  C:\\Users\\Mehmet\\Desktop\\new_splited_wheat_dataset\\tmp_train\\images\\SelimiyeVitreous\\20220425_165307.jpg: corrupt JPEG restored and saved\n",
      "\u001b[34m\u001b[1mtrain: \u001b[0mWARNING  C:\\Users\\Mehmet\\Desktop\\new_splited_wheat_dataset\\tmp_train\\images\\SelimiyeVitreous\\20220425_165309.jpg: corrupt JPEG restored and saved\n",
      "\u001b[34m\u001b[1mtrain: \u001b[0mWARNING  C:\\Users\\Mehmet\\Desktop\\new_splited_wheat_dataset\\tmp_train\\images\\SelimiyeVitreous\\20220425_165311.jpg: corrupt JPEG restored and saved\n",
      "\u001b[34m\u001b[1mtrain: \u001b[0mWARNING  C:\\Users\\Mehmet\\Desktop\\new_splited_wheat_dataset\\tmp_train\\images\\SelimiyeVitreous\\20220425_165316.jpg: corrupt JPEG restored and saved\n",
      "\u001b[34m\u001b[1mtrain: \u001b[0mWARNING  C:\\Users\\Mehmet\\Desktop\\new_splited_wheat_dataset\\tmp_train\\images\\SelimiyeVitreous\\20220425_165319.jpg: corrupt JPEG restored and saved\n",
      "\u001b[34m\u001b[1mtrain: \u001b[0mWARNING  C:\\Users\\Mehmet\\Desktop\\new_splited_wheat_dataset\\tmp_train\\images\\SelimiyeVitreous\\20220425_165321.jpg: corrupt JPEG restored and saved\n",
      "\u001b[34m\u001b[1mtrain: \u001b[0mWARNING  C:\\Users\\Mehmet\\Desktop\\new_splited_wheat_dataset\\tmp_train\\images\\SelimiyeVitreous\\20220425_165326.jpg: corrupt JPEG restored and saved\n",
      "\u001b[34m\u001b[1mtrain: \u001b[0mWARNING  C:\\Users\\Mehmet\\Desktop\\new_splited_wheat_dataset\\tmp_train\\images\\SelimiyeVitreous\\20220425_165332.jpg: corrupt JPEG restored and saved\n",
      "\u001b[34m\u001b[1mtrain: \u001b[0mWARNING  C:\\Users\\Mehmet\\Desktop\\new_splited_wheat_dataset\\tmp_train\\images\\SelimiyeVitreous\\20220425_165340.jpg: corrupt JPEG restored and saved\n",
      "\u001b[34m\u001b[1mtrain: \u001b[0mWARNING  C:\\Users\\Mehmet\\Desktop\\new_splited_wheat_dataset\\tmp_train\\images\\SelimiyeVitreous\\20220425_165348.jpg: corrupt JPEG restored and saved\n",
      "\u001b[34m\u001b[1mtrain: \u001b[0mWARNING  C:\\Users\\Mehmet\\Desktop\\new_splited_wheat_dataset\\tmp_train\\images\\SelimiyeVitreous\\20220425_165353.jpg: corrupt JPEG restored and saved\n",
      "\u001b[34m\u001b[1mtrain: \u001b[0mWARNING  C:\\Users\\Mehmet\\Desktop\\new_splited_wheat_dataset\\tmp_train\\images\\SelimiyeVitreous\\20220425_165357.jpg: corrupt JPEG restored and saved\n",
      "\u001b[34m\u001b[1mtrain: \u001b[0mWARNING  C:\\Users\\Mehmet\\Desktop\\new_splited_wheat_dataset\\tmp_train\\images\\SelimiyeVitreous\\20220425_165407.jpg: corrupt JPEG restored and saved\n",
      "\u001b[34m\u001b[1mtrain: \u001b[0mWARNING  C:\\Users\\Mehmet\\Desktop\\new_splited_wheat_dataset\\tmp_train\\images\\SelimiyeVitreous\\20220425_165420.jpg: corrupt JPEG restored and saved\n",
      "\u001b[34m\u001b[1mtrain: \u001b[0mWARNING  C:\\Users\\Mehmet\\Desktop\\new_splited_wheat_dataset\\tmp_train\\images\\SelimiyeVitreous\\20220425_165427.jpg: corrupt JPEG restored and saved\n",
      "\u001b[34m\u001b[1mtrain: \u001b[0mWARNING  C:\\Users\\Mehmet\\Desktop\\new_splited_wheat_dataset\\tmp_train\\images\\SelimiyeVitreous\\20220425_165433.jpg: corrupt JPEG restored and saved\n",
      "\u001b[34m\u001b[1mtrain: \u001b[0mWARNING  C:\\Users\\Mehmet\\Desktop\\new_splited_wheat_dataset\\tmp_train\\images\\SelimiyeVitreous\\20220425_165441.jpg: corrupt JPEG restored and saved\n",
      "\u001b[34m\u001b[1mtrain: \u001b[0mWARNING  C:\\Users\\Mehmet\\Desktop\\new_splited_wheat_dataset\\tmp_train\\images\\SelimiyeVitreous\\20220425_165451.jpg: corrupt JPEG restored and saved\n",
      "\u001b[34m\u001b[1mtrain: \u001b[0mWARNING  C:\\Users\\Mehmet\\Desktop\\new_splited_wheat_dataset\\tmp_train\\images\\SelimiyeVitreous\\20220425_165454.jpg: corrupt JPEG restored and saved\n",
      "\u001b[34m\u001b[1mtrain: \u001b[0mWARNING  C:\\Users\\Mehmet\\Desktop\\new_splited_wheat_dataset\\tmp_train\\images\\SelimiyeVitreous\\20220425_165505.jpg: corrupt JPEG restored and saved\n",
      "\u001b[34m\u001b[1mtrain: \u001b[0mWARNING  C:\\Users\\Mehmet\\Desktop\\new_splited_wheat_dataset\\tmp_train\\images\\SelimiyeVitreous\\20220425_165522.jpg: corrupt JPEG restored and saved\n",
      "\u001b[34m\u001b[1mtrain: \u001b[0mWARNING  C:\\Users\\Mehmet\\Desktop\\new_splited_wheat_dataset\\tmp_train\\images\\SelimiyeVitreous\\20220425_165525.jpg: corrupt JPEG restored and saved\n",
      "\u001b[34m\u001b[1mtrain: \u001b[0mWARNING  C:\\Users\\Mehmet\\Desktop\\new_splited_wheat_dataset\\tmp_train\\images\\SelimiyeVitreous\\20220425_165542.jpg: corrupt JPEG restored and saved\n",
      "\u001b[34m\u001b[1mtrain: \u001b[0mWARNING  C:\\Users\\Mehmet\\Desktop\\new_splited_wheat_dataset\\tmp_train\\images\\SelimiyeVitreous\\20220425_165544.jpg: corrupt JPEG restored and saved\n",
      "\u001b[34m\u001b[1mtrain: \u001b[0mWARNING  C:\\Users\\Mehmet\\Desktop\\new_splited_wheat_dataset\\tmp_train\\images\\SelimiyeVitreous\\20220425_165550.jpg: corrupt JPEG restored and saved\n",
      "\u001b[34m\u001b[1mtrain: \u001b[0mWARNING  C:\\Users\\Mehmet\\Desktop\\new_splited_wheat_dataset\\tmp_train\\images\\SelimiyeVitreous\\20220425_165553.jpg: corrupt JPEG restored and saved\n",
      "\u001b[34m\u001b[1mtrain: \u001b[0mWARNING  C:\\Users\\Mehmet\\Desktop\\new_splited_wheat_dataset\\tmp_train\\images\\SelimiyeVitreous\\20220425_165559.jpg: corrupt JPEG restored and saved\n",
      "\u001b[34m\u001b[1mtrain: \u001b[0mWARNING  C:\\Users\\Mehmet\\Desktop\\new_splited_wheat_dataset\\tmp_train\\images\\SelimiyeVitreous\\20220425_165602.jpg: corrupt JPEG restored and saved\n",
      "\u001b[34m\u001b[1mtrain: \u001b[0mWARNING  C:\\Users\\Mehmet\\Desktop\\new_splited_wheat_dataset\\tmp_train\\images\\SelimiyeVitreous\\20220425_165612.jpg: corrupt JPEG restored and saved\n",
      "\u001b[34m\u001b[1mtrain: \u001b[0mWARNING  C:\\Users\\Mehmet\\Desktop\\new_splited_wheat_dataset\\tmp_train\\images\\SelimiyeVitreous\\20220425_165631.jpg: corrupt JPEG restored and saved\n",
      "\u001b[34m\u001b[1mtrain: \u001b[0mWARNING  C:\\Users\\Mehmet\\Desktop\\new_splited_wheat_dataset\\tmp_train\\images\\SelimiyeVitreous\\20220425_165635.jpg: corrupt JPEG restored and saved\n",
      "\u001b[34m\u001b[1mtrain: \u001b[0mWARNING  C:\\Users\\Mehmet\\Desktop\\new_splited_wheat_dataset\\tmp_train\\images\\SelimiyeVitreous\\20220425_165639.jpg: corrupt JPEG restored and saved\n",
      "\u001b[34m\u001b[1mtrain: \u001b[0mWARNING  C:\\Users\\Mehmet\\Desktop\\new_splited_wheat_dataset\\tmp_train\\images\\SelimiyeVitreous\\20220425_165643.jpg: corrupt JPEG restored and saved\n",
      "\u001b[34m\u001b[1mtrain: \u001b[0mWARNING  C:\\Users\\Mehmet\\Desktop\\new_splited_wheat_dataset\\tmp_train\\images\\SelimiyeVitreous\\20220425_165649.jpg: corrupt JPEG restored and saved\n",
      "\u001b[34m\u001b[1mtrain: \u001b[0mWARNING  C:\\Users\\Mehmet\\Desktop\\new_splited_wheat_dataset\\tmp_train\\images\\SelimiyeVitreous\\20220425_165705.jpg: corrupt JPEG restored and saved\n",
      "\u001b[34m\u001b[1mtrain: \u001b[0mWARNING  C:\\Users\\Mehmet\\Desktop\\new_splited_wheat_dataset\\tmp_train\\images\\SelimiyeVitreous\\20220425_165707.jpg: corrupt JPEG restored and saved\n",
      "\u001b[34m\u001b[1mtrain: \u001b[0mWARNING  C:\\Users\\Mehmet\\Desktop\\new_splited_wheat_dataset\\tmp_train\\images\\SelimiyeVitreous\\20220425_165730.jpg: corrupt JPEG restored and saved\n",
      "\u001b[34m\u001b[1mtrain: \u001b[0mWARNING  C:\\Users\\Mehmet\\Desktop\\new_splited_wheat_dataset\\tmp_train\\images\\SelimiyeVitreous\\20220425_165733.jpg: corrupt JPEG restored and saved\n",
      "\u001b[34m\u001b[1mtrain: \u001b[0mWARNING  C:\\Users\\Mehmet\\Desktop\\new_splited_wheat_dataset\\tmp_train\\images\\SelimiyeVitreous\\20220425_165736.jpg: corrupt JPEG restored and saved\n",
      "\u001b[34m\u001b[1mtrain: \u001b[0mWARNING  C:\\Users\\Mehmet\\Desktop\\new_splited_wheat_dataset\\tmp_train\\images\\SelimiyeVitreous\\20220425_165742.jpg: corrupt JPEG restored and saved\n",
      "\u001b[34m\u001b[1mtrain: \u001b[0mWARNING  C:\\Users\\Mehmet\\Desktop\\new_splited_wheat_dataset\\tmp_train\\images\\SelimiyeVitreous\\20220425_165759.jpg: corrupt JPEG restored and saved\n",
      "\u001b[34m\u001b[1mtrain: \u001b[0mNew cache created: C:\\Users\\Mehmet\\Desktop\\new_splited_wheat_dataset\\tmp_train\\labels\\Bayraktar2000Vitreous.cache\n"
     ]
    },
    {
     "name": "stderr",
     "output_type": "stream",
     "text": [
      "\n",
      "\u001b[34m\u001b[1mval: \u001b[0mScanning C:\\Users\\Mehmet\\Desktop\\new_splited_wheat_dataset\\tmp_val\\labels\\Bayraktar2000Vitreous... 169 images, 0 backgrounds, 0 corrupt: 100%|██████████| 169/169 [00:08<00:00, 19.01it/s]"
     ]
    },
    {
     "name": "stdout",
     "output_type": "stream",
     "text": [
      "\u001b[34m\u001b[1mval: \u001b[0mWARNING  C:\\Users\\Mehmet\\Desktop\\new_splited_wheat_dataset\\tmp_val\\images\\Bayraktar2000Vitreous\\20220426_144753.jpg: corrupt JPEG restored and saved\n",
      "\u001b[34m\u001b[1mval: \u001b[0mWARNING  C:\\Users\\Mehmet\\Desktop\\new_splited_wheat_dataset\\tmp_val\\images\\Bayraktar2000Vitreous\\20220426_144824.jpg: corrupt JPEG restored and saved\n",
      "\u001b[34m\u001b[1mval: \u001b[0mWARNING  C:\\Users\\Mehmet\\Desktop\\new_splited_wheat_dataset\\tmp_val\\images\\Bayraktar2000Vitreous\\20220426_144826.jpg: corrupt JPEG restored and saved\n",
      "\u001b[34m\u001b[1mval: \u001b[0mWARNING  C:\\Users\\Mehmet\\Desktop\\new_splited_wheat_dataset\\tmp_val\\images\\Bayraktar2000Vitreous\\20220426_144858.jpg: corrupt JPEG restored and saved\n",
      "\u001b[34m\u001b[1mval: \u001b[0mWARNING  C:\\Users\\Mehmet\\Desktop\\new_splited_wheat_dataset\\tmp_val\\images\\Bayraktar2000Vitreous\\20220426_145003.jpg: corrupt JPEG restored and saved\n",
      "\u001b[34m\u001b[1mval: \u001b[0mWARNING  C:\\Users\\Mehmet\\Desktop\\new_splited_wheat_dataset\\tmp_val\\images\\Bayraktar2000Vitreous\\20220426_145005.jpg: corrupt JPEG restored and saved\n",
      "\u001b[34m\u001b[1mval: \u001b[0mWARNING  C:\\Users\\Mehmet\\Desktop\\new_splited_wheat_dataset\\tmp_val\\images\\Bayraktar2000Vitreous\\20220426_145115.jpg: corrupt JPEG restored and saved\n",
      "\u001b[34m\u001b[1mval: \u001b[0mWARNING  C:\\Users\\Mehmet\\Desktop\\new_splited_wheat_dataset\\tmp_val\\images\\Bayraktar2000Vitreous\\20220426_145127.jpg: corrupt JPEG restored and saved\n",
      "\u001b[34m\u001b[1mval: \u001b[0mWARNING  C:\\Users\\Mehmet\\Desktop\\new_splited_wheat_dataset\\tmp_val\\images\\Bayraktar2000Vitreous\\20220426_145157.jpg: corrupt JPEG restored and saved\n",
      "\u001b[34m\u001b[1mval: \u001b[0mWARNING  C:\\Users\\Mehmet\\Desktop\\new_splited_wheat_dataset\\tmp_val\\images\\Bezostaja1Vitreous\\20220425_152446.jpg: corrupt JPEG restored and saved\n",
      "\u001b[34m\u001b[1mval: \u001b[0mWARNING  C:\\Users\\Mehmet\\Desktop\\new_splited_wheat_dataset\\tmp_val\\images\\Bezostaja1Vitreous\\20220425_152541.jpg: corrupt JPEG restored and saved\n",
      "\u001b[34m\u001b[1mval: \u001b[0mWARNING  C:\\Users\\Mehmet\\Desktop\\new_splited_wheat_dataset\\tmp_val\\images\\Bezostaja1Vitreous\\20220425_152545.jpg: corrupt JPEG restored and saved\n",
      "\u001b[34m\u001b[1mval: \u001b[0mWARNING  C:\\Users\\Mehmet\\Desktop\\new_splited_wheat_dataset\\tmp_val\\images\\Bezostaja1Vitreous\\20220425_152548.jpg: corrupt JPEG restored and saved\n",
      "\u001b[34m\u001b[1mval: \u001b[0mWARNING  C:\\Users\\Mehmet\\Desktop\\new_splited_wheat_dataset\\tmp_val\\images\\Bezostaja1Vitreous\\20220425_152553.jpg: corrupt JPEG restored and saved\n",
      "\u001b[34m\u001b[1mval: \u001b[0mWARNING  C:\\Users\\Mehmet\\Desktop\\new_splited_wheat_dataset\\tmp_val\\images\\Bezostaja1Vitreous\\20220425_152623.jpg: corrupt JPEG restored and saved\n",
      "\u001b[34m\u001b[1mval: \u001b[0mWARNING  C:\\Users\\Mehmet\\Desktop\\new_splited_wheat_dataset\\tmp_val\\images\\Bezostaja1Vitreous\\20220425_152638.jpg: corrupt JPEG restored and saved\n",
      "\u001b[34m\u001b[1mval: \u001b[0mWARNING  C:\\Users\\Mehmet\\Desktop\\new_splited_wheat_dataset\\tmp_val\\images\\Bezostaja1Vitreous\\20220425_152641.jpg: corrupt JPEG restored and saved\n",
      "\u001b[34m\u001b[1mval: \u001b[0mWARNING  C:\\Users\\Mehmet\\Desktop\\new_splited_wheat_dataset\\tmp_val\\images\\Bezostaja1Vitreous\\20220425_154529.jpg: corrupt JPEG restored and saved\n",
      "\u001b[34m\u001b[1mval: \u001b[0mWARNING  C:\\Users\\Mehmet\\Desktop\\new_splited_wheat_dataset\\tmp_val\\images\\Bezostaja1Vitreous\\20220425_154534.jpg: corrupt JPEG restored and saved\n",
      "\u001b[34m\u001b[1mval: \u001b[0mWARNING  C:\\Users\\Mehmet\\Desktop\\new_splited_wheat_dataset\\tmp_val\\images\\Bezostaja1Vitreous\\20220425_154622.jpg: corrupt JPEG restored and saved\n",
      "\u001b[34m\u001b[1mval: \u001b[0mWARNING  C:\\Users\\Mehmet\\Desktop\\new_splited_wheat_dataset\\tmp_val\\images\\Bezostaja1Vitreous\\20220425_154632.jpg: corrupt JPEG restored and saved\n",
      "\u001b[34m\u001b[1mval: \u001b[0mWARNING  C:\\Users\\Mehmet\\Desktop\\new_splited_wheat_dataset\\tmp_val\\images\\Bezostaja1Vitreous\\20220425_154635.jpg: corrupt JPEG restored and saved\n",
      "\u001b[34m\u001b[1mval: \u001b[0mWARNING  C:\\Users\\Mehmet\\Desktop\\new_splited_wheat_dataset\\tmp_val\\images\\Bezostaja1Vitreous\\20220425_154642.jpg: corrupt JPEG restored and saved\n",
      "\u001b[34m\u001b[1mval: \u001b[0mWARNING  C:\\Users\\Mehmet\\Desktop\\new_splited_wheat_dataset\\tmp_val\\images\\Bezostaja1Vitreous\\20220425_154647.jpg: corrupt JPEG restored and saved\n",
      "\u001b[34m\u001b[1mval: \u001b[0mWARNING  C:\\Users\\Mehmet\\Desktop\\new_splited_wheat_dataset\\tmp_val\\images\\Bezostaja1Vitreous\\20220425_154649.jpg: corrupt JPEG restored and saved\n",
      "\u001b[34m\u001b[1mval: \u001b[0mWARNING  C:\\Users\\Mehmet\\Desktop\\new_splited_wheat_dataset\\tmp_val\\images\\Bezostaja1Vitreous\\20220425_154707.jpg: corrupt JPEG restored and saved\n",
      "\u001b[34m\u001b[1mval: \u001b[0mWARNING  C:\\Users\\Mehmet\\Desktop\\new_splited_wheat_dataset\\tmp_val\\images\\Bezostaja1Vitreous\\20220425_154718.jpg: corrupt JPEG restored and saved\n",
      "\u001b[34m\u001b[1mval: \u001b[0mWARNING  C:\\Users\\Mehmet\\Desktop\\new_splited_wheat_dataset\\tmp_val\\images\\Delabrad2Vitreous\\20220427_122127.jpg: corrupt JPEG restored and saved\n",
      "\u001b[34m\u001b[1mval: \u001b[0mWARNING  C:\\Users\\Mehmet\\Desktop\\new_splited_wheat_dataset\\tmp_val\\images\\Delabrad2Vitreous\\20220427_122201.jpg: corrupt JPEG restored and saved\n",
      "\u001b[34m\u001b[1mval: \u001b[0mWARNING  C:\\Users\\Mehmet\\Desktop\\new_splited_wheat_dataset\\tmp_val\\images\\Delabrad2Vitreous\\20220427_122229.jpg: corrupt JPEG restored and saved\n",
      "\u001b[34m\u001b[1mval: \u001b[0mWARNING  C:\\Users\\Mehmet\\Desktop\\new_splited_wheat_dataset\\tmp_val\\images\\Delabrad2Vitreous\\20220427_122245.jpg: corrupt JPEG restored and saved\n",
      "\u001b[34m\u001b[1mval: \u001b[0mWARNING  C:\\Users\\Mehmet\\Desktop\\new_splited_wheat_dataset\\tmp_val\\images\\Delabrad2Vitreous\\20220427_122315.jpg: corrupt JPEG restored and saved\n",
      "\u001b[34m\u001b[1mval: \u001b[0mWARNING  C:\\Users\\Mehmet\\Desktop\\new_splited_wheat_dataset\\tmp_val\\images\\Delabrad2Vitreous\\20220427_122326.jpg: corrupt JPEG restored and saved\n",
      "\u001b[34m\u001b[1mval: \u001b[0mWARNING  C:\\Users\\Mehmet\\Desktop\\new_splited_wheat_dataset\\tmp_val\\images\\Delabrad2Vitreous\\20220427_122342.jpg: corrupt JPEG restored and saved\n",
      "\u001b[34m\u001b[1mval: \u001b[0mWARNING  C:\\Users\\Mehmet\\Desktop\\new_splited_wheat_dataset\\tmp_val\\images\\Delabrad2Vitreous\\20220427_122350.jpg: corrupt JPEG restored and saved\n",
      "\u001b[34m\u001b[1mval: \u001b[0mWARNING  C:\\Users\\Mehmet\\Desktop\\new_splited_wheat_dataset\\tmp_val\\images\\Delabrad2Vitreous\\20220427_122415.jpg: corrupt JPEG restored and saved\n",
      "\u001b[34m\u001b[1mval: \u001b[0mWARNING  C:\\Users\\Mehmet\\Desktop\\new_splited_wheat_dataset\\tmp_val\\images\\Delabrad2Vitreous\\20220427_122431.jpg: corrupt JPEG restored and saved\n",
      "\u001b[34m\u001b[1mval: \u001b[0mWARNING  C:\\Users\\Mehmet\\Desktop\\new_splited_wheat_dataset\\tmp_val\\images\\Delabrad2Vitreous\\20220427_122511.jpg: corrupt JPEG restored and saved\n",
      "\u001b[34m\u001b[1mval: \u001b[0mWARNING  C:\\Users\\Mehmet\\Desktop\\new_splited_wheat_dataset\\tmp_val\\images\\Delabrad2Vitreous\\20220427_122529.jpg: corrupt JPEG restored and saved\n",
      "\u001b[34m\u001b[1mval: \u001b[0mWARNING  C:\\Users\\Mehmet\\Desktop\\new_splited_wheat_dataset\\tmp_val\\images\\Delabrad2Vitreous\\20220427_122534.jpg: corrupt JPEG restored and saved\n",
      "\u001b[34m\u001b[1mval: \u001b[0mWARNING  C:\\Users\\Mehmet\\Desktop\\new_splited_wheat_dataset\\tmp_val\\images\\Delabrad2Vitreous\\20220427_122538.jpg: corrupt JPEG restored and saved\n",
      "\u001b[34m\u001b[1mval: \u001b[0mWARNING  C:\\Users\\Mehmet\\Desktop\\new_splited_wheat_dataset\\tmp_val\\images\\Delabrad2Vitreous\\20220427_122551.jpg: corrupt JPEG restored and saved\n",
      "\u001b[34m\u001b[1mval: \u001b[0mWARNING  C:\\Users\\Mehmet\\Desktop\\new_splited_wheat_dataset\\tmp_val\\images\\Delabrad2Vitreous\\20220427_122613.jpg: corrupt JPEG restored and saved\n",
      "\u001b[34m\u001b[1mval: \u001b[0mWARNING  C:\\Users\\Mehmet\\Desktop\\new_splited_wheat_dataset\\tmp_val\\images\\Delabrad2Vitreous\\20220427_122615.jpg: corrupt JPEG restored and saved\n",
      "\u001b[34m\u001b[1mval: \u001b[0mWARNING  C:\\Users\\Mehmet\\Desktop\\new_splited_wheat_dataset\\tmp_val\\images\\EkizVitreous\\20220426_163544.jpg: corrupt JPEG restored and saved\n",
      "\u001b[34m\u001b[1mval: \u001b[0mWARNING  C:\\Users\\Mehmet\\Desktop\\new_splited_wheat_dataset\\tmp_val\\images\\EkizVitreous\\20220426_163607.jpg: corrupt JPEG restored and saved\n",
      "\u001b[34m\u001b[1mval: \u001b[0mWARNING  C:\\Users\\Mehmet\\Desktop\\new_splited_wheat_dataset\\tmp_val\\images\\EkizVitreous\\20220426_163613.jpg: corrupt JPEG restored and saved\n",
      "\u001b[34m\u001b[1mval: \u001b[0mWARNING  C:\\Users\\Mehmet\\Desktop\\new_splited_wheat_dataset\\tmp_val\\images\\EkizVitreous\\20220426_163637.jpg: corrupt JPEG restored and saved\n",
      "\u001b[34m\u001b[1mval: \u001b[0mWARNING  C:\\Users\\Mehmet\\Desktop\\new_splited_wheat_dataset\\tmp_val\\images\\EkizVitreous\\20220426_163700.jpg: corrupt JPEG restored and saved\n",
      "\u001b[34m\u001b[1mval: \u001b[0mWARNING  C:\\Users\\Mehmet\\Desktop\\new_splited_wheat_dataset\\tmp_val\\images\\EkizVitreous\\20220426_163748.jpg: corrupt JPEG restored and saved\n",
      "\u001b[34m\u001b[1mval: \u001b[0mWARNING  C:\\Users\\Mehmet\\Desktop\\new_splited_wheat_dataset\\tmp_val\\images\\EkizVitreous\\20220426_163847.jpg: corrupt JPEG restored and saved\n",
      "\u001b[34m\u001b[1mval: \u001b[0mWARNING  C:\\Users\\Mehmet\\Desktop\\new_splited_wheat_dataset\\tmp_val\\images\\EkizVitreous\\20220426_163856.jpg: corrupt JPEG restored and saved\n",
      "\u001b[34m\u001b[1mval: \u001b[0mWARNING  C:\\Users\\Mehmet\\Desktop\\new_splited_wheat_dataset\\tmp_val\\images\\EkizVitreous\\20220426_163909.jpg: corrupt JPEG restored and saved\n",
      "\u001b[34m\u001b[1mval: \u001b[0mWARNING  C:\\Users\\Mehmet\\Desktop\\new_splited_wheat_dataset\\tmp_val\\images\\EkizVitreous\\20220426_163921.jpg: corrupt JPEG restored and saved\n",
      "\u001b[34m\u001b[1mval: \u001b[0mWARNING  C:\\Users\\Mehmet\\Desktop\\new_splited_wheat_dataset\\tmp_val\\images\\EkizVitreous\\20220426_163943.jpg: corrupt JPEG restored and saved\n",
      "\u001b[34m\u001b[1mval: \u001b[0mWARNING  C:\\Users\\Mehmet\\Desktop\\new_splited_wheat_dataset\\tmp_val\\images\\EkizVitreous\\20220426_163953.jpg: corrupt JPEG restored and saved\n",
      "\u001b[34m\u001b[1mval: \u001b[0mWARNING  C:\\Users\\Mehmet\\Desktop\\new_splited_wheat_dataset\\tmp_val\\images\\EkizVitreous\\20220426_164004.jpg: corrupt JPEG restored and saved\n",
      "\u001b[34m\u001b[1mval: \u001b[0mWARNING  C:\\Users\\Mehmet\\Desktop\\new_splited_wheat_dataset\\tmp_val\\images\\EkizVitreous\\20220426_164009.jpg: corrupt JPEG restored and saved\n",
      "\u001b[34m\u001b[1mval: \u001b[0mWARNING  C:\\Users\\Mehmet\\Desktop\\new_splited_wheat_dataset\\tmp_val\\images\\EkizVitreous\\20220426_164103.jpg: corrupt JPEG restored and saved\n",
      "\u001b[34m\u001b[1mval: \u001b[0mWARNING  C:\\Users\\Mehmet\\Desktop\\new_splited_wheat_dataset\\tmp_val\\images\\EkizVitreous\\20220426_164128.jpg: corrupt JPEG restored and saved\n",
      "\u001b[34m\u001b[1mval: \u001b[0mWARNING  C:\\Users\\Mehmet\\Desktop\\new_splited_wheat_dataset\\tmp_val\\images\\EkizVitreous\\20220426_164137.jpg: corrupt JPEG restored and saved\n",
      "\u001b[34m\u001b[1mval: \u001b[0mWARNING  C:\\Users\\Mehmet\\Desktop\\new_splited_wheat_dataset\\tmp_val\\images\\EsperiaVitreous\\20220425_171113.jpg: corrupt JPEG restored and saved\n",
      "\u001b[34m\u001b[1mval: \u001b[0mWARNING  C:\\Users\\Mehmet\\Desktop\\new_splited_wheat_dataset\\tmp_val\\images\\EsperiaVitreous\\20220425_171117.jpg: corrupt JPEG restored and saved\n",
      "\u001b[34m\u001b[1mval: \u001b[0mWARNING  C:\\Users\\Mehmet\\Desktop\\new_splited_wheat_dataset\\tmp_val\\images\\EsperiaVitreous\\20220425_171201.jpg: corrupt JPEG restored and saved\n",
      "\u001b[34m\u001b[1mval: \u001b[0mWARNING  C:\\Users\\Mehmet\\Desktop\\new_splited_wheat_dataset\\tmp_val\\images\\EsperiaVitreous\\20220425_171208.jpg: corrupt JPEG restored and saved\n",
      "\u001b[34m\u001b[1mval: \u001b[0mWARNING  C:\\Users\\Mehmet\\Desktop\\new_splited_wheat_dataset\\tmp_val\\images\\EsperiaVitreous\\20220425_171234.jpg: corrupt JPEG restored and saved\n",
      "\u001b[34m\u001b[1mval: \u001b[0mWARNING  C:\\Users\\Mehmet\\Desktop\\new_splited_wheat_dataset\\tmp_val\\images\\EsperiaVitreous\\20220425_171314.jpg: corrupt JPEG restored and saved\n",
      "\u001b[34m\u001b[1mval: \u001b[0mWARNING  C:\\Users\\Mehmet\\Desktop\\new_splited_wheat_dataset\\tmp_val\\images\\EsperiaVitreous\\20220425_171317.jpg: corrupt JPEG restored and saved\n",
      "\u001b[34m\u001b[1mval: \u001b[0mWARNING  C:\\Users\\Mehmet\\Desktop\\new_splited_wheat_dataset\\tmp_val\\images\\EsperiaVitreous\\20220425_171329.jpg: corrupt JPEG restored and saved\n",
      "\u001b[34m\u001b[1mval: \u001b[0mWARNING  C:\\Users\\Mehmet\\Desktop\\new_splited_wheat_dataset\\tmp_val\\images\\EsperiaVitreous\\20220425_171354.jpg: corrupt JPEG restored and saved\n",
      "\u001b[34m\u001b[1mval: \u001b[0mWARNING  C:\\Users\\Mehmet\\Desktop\\new_splited_wheat_dataset\\tmp_val\\images\\EsperiaVitreous\\20220425_171359.jpg: corrupt JPEG restored and saved\n",
      "\u001b[34m\u001b[1mval: \u001b[0mWARNING  C:\\Users\\Mehmet\\Desktop\\new_splited_wheat_dataset\\tmp_val\\images\\EsperiaVitreous\\20220425_171440.jpg: corrupt JPEG restored and saved\n",
      "\u001b[34m\u001b[1mval: \u001b[0mWARNING  C:\\Users\\Mehmet\\Desktop\\new_splited_wheat_dataset\\tmp_val\\images\\EsperiaVitreous\\20220425_171445.jpg: corrupt JPEG restored and saved\n",
      "\u001b[34m\u001b[1mval: \u001b[0mWARNING  C:\\Users\\Mehmet\\Desktop\\new_splited_wheat_dataset\\tmp_val\\images\\EsperiaVitreous\\20220425_171450.jpg: corrupt JPEG restored and saved\n",
      "\u001b[34m\u001b[1mval: \u001b[0mWARNING  C:\\Users\\Mehmet\\Desktop\\new_splited_wheat_dataset\\tmp_val\\images\\EsperiaVitreous\\20220425_171513.jpg: corrupt JPEG restored and saved\n",
      "\u001b[34m\u001b[1mval: \u001b[0mWARNING  C:\\Users\\Mehmet\\Desktop\\new_splited_wheat_dataset\\tmp_val\\images\\KiziltanVitreous\\20220426_154719.jpg: corrupt JPEG restored and saved\n",
      "\u001b[34m\u001b[1mval: \u001b[0mWARNING  C:\\Users\\Mehmet\\Desktop\\new_splited_wheat_dataset\\tmp_val\\images\\KiziltanVitreous\\20220426_154724.jpg: corrupt JPEG restored and saved\n",
      "\u001b[34m\u001b[1mval: \u001b[0mWARNING  C:\\Users\\Mehmet\\Desktop\\new_splited_wheat_dataset\\tmp_val\\images\\KiziltanVitreous\\20220426_154740.jpg: corrupt JPEG restored and saved\n",
      "\u001b[34m\u001b[1mval: \u001b[0mWARNING  C:\\Users\\Mehmet\\Desktop\\new_splited_wheat_dataset\\tmp_val\\images\\KiziltanVitreous\\20220426_154746.jpg: corrupt JPEG restored and saved\n",
      "\u001b[34m\u001b[1mval: \u001b[0mWARNING  C:\\Users\\Mehmet\\Desktop\\new_splited_wheat_dataset\\tmp_val\\images\\KiziltanVitreous\\20220426_154920.jpg: corrupt JPEG restored and saved\n",
      "\u001b[34m\u001b[1mval: \u001b[0mWARNING  C:\\Users\\Mehmet\\Desktop\\new_splited_wheat_dataset\\tmp_val\\images\\KiziltanVitreous\\20220426_154929.jpg: corrupt JPEG restored and saved\n",
      "\u001b[34m\u001b[1mval: \u001b[0mWARNING  C:\\Users\\Mehmet\\Desktop\\new_splited_wheat_dataset\\tmp_val\\images\\KiziltanVitreous\\20220426_154937.jpg: corrupt JPEG restored and saved\n",
      "\u001b[34m\u001b[1mval: \u001b[0mWARNING  C:\\Users\\Mehmet\\Desktop\\new_splited_wheat_dataset\\tmp_val\\images\\KiziltanVitreous\\20220426_155025.jpg: corrupt JPEG restored and saved\n",
      "\u001b[34m\u001b[1mval: \u001b[0mWARNING  C:\\Users\\Mehmet\\Desktop\\new_splited_wheat_dataset\\tmp_val\\images\\KiziltanVitreous\\20220426_160330.jpg: corrupt JPEG restored and saved\n",
      "\u001b[34m\u001b[1mval: \u001b[0mWARNING  C:\\Users\\Mehmet\\Desktop\\new_splited_wheat_dataset\\tmp_val\\images\\KiziltanVitreous\\20220426_160349.jpg: corrupt JPEG restored and saved\n",
      "\u001b[34m\u001b[1mval: \u001b[0mWARNING  C:\\Users\\Mehmet\\Desktop\\new_splited_wheat_dataset\\tmp_val\\images\\KiziltanVitreous\\20220426_160356.jpg: corrupt JPEG restored and saved\n",
      "\u001b[34m\u001b[1mval: \u001b[0mWARNING  C:\\Users\\Mehmet\\Desktop\\new_splited_wheat_dataset\\tmp_val\\images\\KiziltanVitreous\\20220426_160501.jpg: corrupt JPEG restored and saved\n",
      "\u001b[34m\u001b[1mval: \u001b[0mWARNING  C:\\Users\\Mehmet\\Desktop\\new_splited_wheat_dataset\\tmp_val\\images\\KiziltanVitreous\\20220426_160525.jpg: corrupt JPEG restored and saved\n",
      "\u001b[34m\u001b[1mval: \u001b[0mWARNING  C:\\Users\\Mehmet\\Desktop\\new_splited_wheat_dataset\\tmp_val\\images\\KiziltanVitreous\\20220426_160600.jpg: corrupt JPEG restored and saved\n",
      "\u001b[34m\u001b[1mval: \u001b[0mWARNING  C:\\Users\\Mehmet\\Desktop\\new_splited_wheat_dataset\\tmp_val\\images\\LucillaVitreous\\20220426_175139.jpg: corrupt JPEG restored and saved\n",
      "\u001b[34m\u001b[1mval: \u001b[0mWARNING  C:\\Users\\Mehmet\\Desktop\\new_splited_wheat_dataset\\tmp_val\\images\\LucillaVitreous\\20220426_175143.jpg: corrupt JPEG restored and saved\n",
      "\u001b[34m\u001b[1mval: \u001b[0mWARNING  C:\\Users\\Mehmet\\Desktop\\new_splited_wheat_dataset\\tmp_val\\images\\LucillaVitreous\\20220426_175154.jpg: corrupt JPEG restored and saved\n",
      "\u001b[34m\u001b[1mval: \u001b[0mWARNING  C:\\Users\\Mehmet\\Desktop\\new_splited_wheat_dataset\\tmp_val\\images\\LucillaVitreous\\20220426_175158.jpg: corrupt JPEG restored and saved\n",
      "\u001b[34m\u001b[1mval: \u001b[0mWARNING  C:\\Users\\Mehmet\\Desktop\\new_splited_wheat_dataset\\tmp_val\\images\\LucillaVitreous\\20220426_175206.jpg: corrupt JPEG restored and saved\n",
      "\u001b[34m\u001b[1mval: \u001b[0mWARNING  C:\\Users\\Mehmet\\Desktop\\new_splited_wheat_dataset\\tmp_val\\images\\LucillaVitreous\\20220426_175216.jpg: corrupt JPEG restored and saved\n",
      "\u001b[34m\u001b[1mval: \u001b[0mWARNING  C:\\Users\\Mehmet\\Desktop\\new_splited_wheat_dataset\\tmp_val\\images\\LucillaVitreous\\20220426_175259.jpg: corrupt JPEG restored and saved\n",
      "\u001b[34m\u001b[1mval: \u001b[0mWARNING  C:\\Users\\Mehmet\\Desktop\\new_splited_wheat_dataset\\tmp_val\\images\\LucillaVitreous\\20220426_175304.jpg: corrupt JPEG restored and saved\n",
      "\u001b[34m\u001b[1mval: \u001b[0mWARNING  C:\\Users\\Mehmet\\Desktop\\new_splited_wheat_dataset\\tmp_val\\images\\LucillaVitreous\\20220426_175403.jpg: corrupt JPEG restored and saved\n",
      "\u001b[34m\u001b[1mval: \u001b[0mWARNING  C:\\Users\\Mehmet\\Desktop\\new_splited_wheat_dataset\\tmp_val\\images\\LucillaVitreous\\20220426_175510.jpg: corrupt JPEG restored and saved\n",
      "\u001b[34m\u001b[1mval: \u001b[0mWARNING  C:\\Users\\Mehmet\\Desktop\\new_splited_wheat_dataset\\tmp_val\\images\\LucillaVitreous\\20220426_175524.jpg: corrupt JPEG restored and saved\n",
      "\u001b[34m\u001b[1mval: \u001b[0mWARNING  C:\\Users\\Mehmet\\Desktop\\new_splited_wheat_dataset\\tmp_val\\images\\LucillaVitreous\\20220426_175557.jpg: corrupt JPEG restored and saved\n",
      "\u001b[34m\u001b[1mval: \u001b[0mWARNING  C:\\Users\\Mehmet\\Desktop\\new_splited_wheat_dataset\\tmp_val\\images\\OdeskaVitreous\\20220426_172203.jpg: corrupt JPEG restored and saved\n",
      "\u001b[34m\u001b[1mval: \u001b[0mWARNING  C:\\Users\\Mehmet\\Desktop\\new_splited_wheat_dataset\\tmp_val\\images\\OdeskaVitreous\\20220426_172206.jpg: corrupt JPEG restored and saved\n",
      "\u001b[34m\u001b[1mval: \u001b[0mWARNING  C:\\Users\\Mehmet\\Desktop\\new_splited_wheat_dataset\\tmp_val\\images\\OdeskaVitreous\\20220426_172208.jpg: corrupt JPEG restored and saved\n",
      "\u001b[34m\u001b[1mval: \u001b[0mWARNING  C:\\Users\\Mehmet\\Desktop\\new_splited_wheat_dataset\\tmp_val\\images\\OdeskaVitreous\\20220426_172246.jpg: corrupt JPEG restored and saved\n",
      "\u001b[34m\u001b[1mval: \u001b[0mWARNING  C:\\Users\\Mehmet\\Desktop\\new_splited_wheat_dataset\\tmp_val\\images\\OdeskaVitreous\\20220426_172326.jpg: corrupt JPEG restored and saved\n",
      "\u001b[34m\u001b[1mval: \u001b[0mWARNING  C:\\Users\\Mehmet\\Desktop\\new_splited_wheat_dataset\\tmp_val\\images\\OdeskaVitreous\\20220426_172329.jpg: corrupt JPEG restored and saved\n",
      "\u001b[34m\u001b[1mval: \u001b[0mWARNING  C:\\Users\\Mehmet\\Desktop\\new_splited_wheat_dataset\\tmp_val\\images\\OdeskaVitreous\\20220426_172331.jpg: corrupt JPEG restored and saved\n",
      "\u001b[34m\u001b[1mval: \u001b[0mWARNING  C:\\Users\\Mehmet\\Desktop\\new_splited_wheat_dataset\\tmp_val\\images\\OdeskaVitreous\\20220426_172334.jpg: corrupt JPEG restored and saved\n",
      "\u001b[34m\u001b[1mval: \u001b[0mWARNING  C:\\Users\\Mehmet\\Desktop\\new_splited_wheat_dataset\\tmp_val\\images\\OdeskaVitreous\\20220426_172348.jpg: corrupt JPEG restored and saved\n",
      "\u001b[34m\u001b[1mval: \u001b[0mWARNING  C:\\Users\\Mehmet\\Desktop\\new_splited_wheat_dataset\\tmp_val\\images\\OdeskaVitreous\\20220426_172351.jpg: corrupt JPEG restored and saved\n",
      "\u001b[34m\u001b[1mval: \u001b[0mWARNING  C:\\Users\\Mehmet\\Desktop\\new_splited_wheat_dataset\\tmp_val\\images\\OdeskaVitreous\\20220426_172417.jpg: corrupt JPEG restored and saved\n",
      "\u001b[34m\u001b[1mval: \u001b[0mWARNING  C:\\Users\\Mehmet\\Desktop\\new_splited_wheat_dataset\\tmp_val\\images\\OdeskaVitreous\\20220426_172423.jpg: corrupt JPEG restored and saved\n",
      "\u001b[34m\u001b[1mval: \u001b[0mWARNING  C:\\Users\\Mehmet\\Desktop\\new_splited_wheat_dataset\\tmp_val\\images\\OdeskaVitreous\\20220426_172433.jpg: corrupt JPEG restored and saved\n",
      "\u001b[34m\u001b[1mval: \u001b[0mWARNING  C:\\Users\\Mehmet\\Desktop\\new_splited_wheat_dataset\\tmp_val\\images\\OdeskaVitreous\\20220426_172453.jpg: corrupt JPEG restored and saved\n",
      "\u001b[34m\u001b[1mval: \u001b[0mWARNING  C:\\Users\\Mehmet\\Desktop\\new_splited_wheat_dataset\\tmp_val\\images\\OdeskaVitreous\\20220426_172457.jpg: corrupt JPEG restored and saved\n",
      "\u001b[34m\u001b[1mval: \u001b[0mWARNING  C:\\Users\\Mehmet\\Desktop\\new_splited_wheat_dataset\\tmp_val\\images\\OdeskaVitreous\\20220426_172502.jpg: corrupt JPEG restored and saved\n",
      "\u001b[34m\u001b[1mval: \u001b[0mWARNING  C:\\Users\\Mehmet\\Desktop\\new_splited_wheat_dataset\\tmp_val\\images\\OdeskaVitreous\\20220426_172505.jpg: corrupt JPEG restored and saved\n",
      "\u001b[34m\u001b[1mval: \u001b[0mWARNING  C:\\Users\\Mehmet\\Desktop\\new_splited_wheat_dataset\\tmp_val\\images\\OdeskaVitreous\\20220426_172532.jpg: corrupt JPEG restored and saved\n",
      "\u001b[34m\u001b[1mval: \u001b[0mWARNING  C:\\Users\\Mehmet\\Desktop\\new_splited_wheat_dataset\\tmp_val\\images\\OdeskaVitreous\\20220426_172535.jpg: corrupt JPEG restored and saved\n",
      "\u001b[34m\u001b[1mval: \u001b[0mWARNING  C:\\Users\\Mehmet\\Desktop\\new_splited_wheat_dataset\\tmp_val\\images\\OdeskaVitreous\\20220426_172552.jpg: corrupt JPEG restored and saved\n",
      "\u001b[34m\u001b[1mval: \u001b[0mWARNING  C:\\Users\\Mehmet\\Desktop\\new_splited_wheat_dataset\\tmp_val\\images\\OdeskaVitreous\\20220426_172606.jpg: corrupt JPEG restored and saved\n",
      "\u001b[34m\u001b[1mval: \u001b[0mWARNING  C:\\Users\\Mehmet\\Desktop\\new_splited_wheat_dataset\\tmp_val\\images\\OdeskaVitreous\\20220426_172610.jpg: corrupt JPEG restored and saved\n",
      "\u001b[34m\u001b[1mval: \u001b[0mWARNING  C:\\Users\\Mehmet\\Desktop\\new_splited_wheat_dataset\\tmp_val\\images\\OdeskaVitreous\\20220426_172638.jpg: corrupt JPEG restored and saved\n",
      "\u001b[34m\u001b[1mval: \u001b[0mWARNING  C:\\Users\\Mehmet\\Desktop\\new_splited_wheat_dataset\\tmp_val\\images\\OdeskaVitreous\\20220426_172706.jpg: corrupt JPEG restored and saved\n",
      "\u001b[34m\u001b[1mval: \u001b[0mWARNING  C:\\Users\\Mehmet\\Desktop\\new_splited_wheat_dataset\\tmp_val\\images\\OdeskaVitreous\\20220426_172708.jpg: corrupt JPEG restored and saved\n",
      "\u001b[34m\u001b[1mval: \u001b[0mWARNING  C:\\Users\\Mehmet\\Desktop\\new_splited_wheat_dataset\\tmp_val\\images\\OdeskaVitreous\\20220426_172718.jpg: corrupt JPEG restored and saved\n",
      "\u001b[34m\u001b[1mval: \u001b[0mWARNING  C:\\Users\\Mehmet\\Desktop\\new_splited_wheat_dataset\\tmp_val\\images\\RumeliVitreous\\20220427_120153.jpg: corrupt JPEG restored and saved\n",
      "\u001b[34m\u001b[1mval: \u001b[0mWARNING  C:\\Users\\Mehmet\\Desktop\\new_splited_wheat_dataset\\tmp_val\\images\\RumeliVitreous\\20220427_120214.jpg: corrupt JPEG restored and saved\n",
      "\u001b[34m\u001b[1mval: \u001b[0mWARNING  C:\\Users\\Mehmet\\Desktop\\new_splited_wheat_dataset\\tmp_val\\images\\RumeliVitreous\\20220427_120223.jpg: corrupt JPEG restored and saved\n",
      "\u001b[34m\u001b[1mval: \u001b[0mWARNING  C:\\Users\\Mehmet\\Desktop\\new_splited_wheat_dataset\\tmp_val\\images\\RumeliVitreous\\20220427_120247.jpg: corrupt JPEG restored and saved\n",
      "\u001b[34m\u001b[1mval: \u001b[0mWARNING  C:\\Users\\Mehmet\\Desktop\\new_splited_wheat_dataset\\tmp_val\\images\\RumeliVitreous\\20220427_120258.jpg: corrupt JPEG restored and saved\n",
      "\u001b[34m\u001b[1mval: \u001b[0mWARNING  C:\\Users\\Mehmet\\Desktop\\new_splited_wheat_dataset\\tmp_val\\images\\RumeliVitreous\\20220427_120314.jpg: corrupt JPEG restored and saved\n",
      "\u001b[34m\u001b[1mval: \u001b[0mWARNING  C:\\Users\\Mehmet\\Desktop\\new_splited_wheat_dataset\\tmp_val\\images\\RumeliVitreous\\20220427_120341.jpg: corrupt JPEG restored and saved\n",
      "\u001b[34m\u001b[1mval: \u001b[0mWARNING  C:\\Users\\Mehmet\\Desktop\\new_splited_wheat_dataset\\tmp_val\\images\\RumeliVitreous\\20220427_120417.jpg: corrupt JPEG restored and saved\n",
      "\u001b[34m\u001b[1mval: \u001b[0mWARNING  C:\\Users\\Mehmet\\Desktop\\new_splited_wheat_dataset\\tmp_val\\images\\RumeliVitreous\\20220427_120423.jpg: corrupt JPEG restored and saved\n",
      "\u001b[34m\u001b[1mval: \u001b[0mWARNING  C:\\Users\\Mehmet\\Desktop\\new_splited_wheat_dataset\\tmp_val\\images\\RumeliVitreous\\20220427_120437.jpg: corrupt JPEG restored and saved\n",
      "\u001b[34m\u001b[1mval: \u001b[0mWARNING  C:\\Users\\Mehmet\\Desktop\\new_splited_wheat_dataset\\tmp_val\\images\\RumeliVitreous\\20220427_120452.jpg: corrupt JPEG restored and saved\n",
      "\u001b[34m\u001b[1mval: \u001b[0mWARNING  C:\\Users\\Mehmet\\Desktop\\new_splited_wheat_dataset\\tmp_val\\images\\RumeliVitreous\\20220427_120544.jpg: corrupt JPEG restored and saved\n",
      "\u001b[34m\u001b[1mval: \u001b[0mWARNING  C:\\Users\\Mehmet\\Desktop\\new_splited_wheat_dataset\\tmp_val\\images\\RumeliVitreous\\20220427_120555.jpg: corrupt JPEG restored and saved\n",
      "\u001b[34m\u001b[1mval: \u001b[0mWARNING  C:\\Users\\Mehmet\\Desktop\\new_splited_wheat_dataset\\tmp_val\\images\\RumeliVitreous\\20220427_120630.jpg: corrupt JPEG restored and saved\n",
      "\u001b[34m\u001b[1mval: \u001b[0mWARNING  C:\\Users\\Mehmet\\Desktop\\new_splited_wheat_dataset\\tmp_val\\images\\RumeliVitreous\\20220427_120634.jpg: corrupt JPEG restored and saved\n",
      "\u001b[34m\u001b[1mval: \u001b[0mWARNING  C:\\Users\\Mehmet\\Desktop\\new_splited_wheat_dataset\\tmp_val\\images\\SelimiyeVitreous\\20220425_165113.jpg: corrupt JPEG restored and saved\n",
      "\u001b[34m\u001b[1mval: \u001b[0mWARNING  C:\\Users\\Mehmet\\Desktop\\new_splited_wheat_dataset\\tmp_val\\images\\SelimiyeVitreous\\20220425_165126.jpg: corrupt JPEG restored and saved\n",
      "\u001b[34m\u001b[1mval: \u001b[0mWARNING  C:\\Users\\Mehmet\\Desktop\\new_splited_wheat_dataset\\tmp_val\\images\\SelimiyeVitreous\\20220425_165130.jpg: corrupt JPEG restored and saved\n",
      "\u001b[34m\u001b[1mval: \u001b[0mWARNING  C:\\Users\\Mehmet\\Desktop\\new_splited_wheat_dataset\\tmp_val\\images\\SelimiyeVitreous\\20220425_165139.jpg: corrupt JPEG restored and saved\n",
      "\u001b[34m\u001b[1mval: \u001b[0mWARNING  C:\\Users\\Mehmet\\Desktop\\new_splited_wheat_dataset\\tmp_val\\images\\SelimiyeVitreous\\20220425_165143.jpg: corrupt JPEG restored and saved\n",
      "\u001b[34m\u001b[1mval: \u001b[0mWARNING  C:\\Users\\Mehmet\\Desktop\\new_splited_wheat_dataset\\tmp_val\\images\\SelimiyeVitreous\\20220425_165148.jpg: corrupt JPEG restored and saved\n",
      "\u001b[34m\u001b[1mval: \u001b[0mWARNING  C:\\Users\\Mehmet\\Desktop\\new_splited_wheat_dataset\\tmp_val\\images\\SelimiyeVitreous\\20220425_165204.jpg: corrupt JPEG restored and saved\n",
      "\u001b[34m\u001b[1mval: \u001b[0mWARNING  C:\\Users\\Mehmet\\Desktop\\new_splited_wheat_dataset\\tmp_val\\images\\SelimiyeVitreous\\20220425_165245.jpg: corrupt JPEG restored and saved\n",
      "\u001b[34m\u001b[1mval: \u001b[0mWARNING  C:\\Users\\Mehmet\\Desktop\\new_splited_wheat_dataset\\tmp_val\\images\\SelimiyeVitreous\\20220425_165248.jpg: corrupt JPEG restored and saved\n",
      "\u001b[34m\u001b[1mval: \u001b[0mWARNING  C:\\Users\\Mehmet\\Desktop\\new_splited_wheat_dataset\\tmp_val\\images\\SelimiyeVitreous\\20220425_165313.jpg: corrupt JPEG restored and saved\n",
      "\u001b[34m\u001b[1mval: \u001b[0mWARNING  C:\\Users\\Mehmet\\Desktop\\new_splited_wheat_dataset\\tmp_val\\images\\SelimiyeVitreous\\20220425_165346.jpg: corrupt JPEG restored and saved\n",
      "\u001b[34m\u001b[1mval: \u001b[0mWARNING  C:\\Users\\Mehmet\\Desktop\\new_splited_wheat_dataset\\tmp_val\\images\\SelimiyeVitreous\\20220425_165402.jpg: corrupt JPEG restored and saved\n",
      "\u001b[34m\u001b[1mval: \u001b[0mWARNING  C:\\Users\\Mehmet\\Desktop\\new_splited_wheat_dataset\\tmp_val\\images\\SelimiyeVitreous\\20220425_165416.jpg: corrupt JPEG restored and saved\n",
      "\u001b[34m\u001b[1mval: \u001b[0mWARNING  C:\\Users\\Mehmet\\Desktop\\new_splited_wheat_dataset\\tmp_val\\images\\SelimiyeVitreous\\20220425_165418.jpg: corrupt JPEG restored and saved\n",
      "\u001b[34m\u001b[1mval: \u001b[0mWARNING  C:\\Users\\Mehmet\\Desktop\\new_splited_wheat_dataset\\tmp_val\\images\\SelimiyeVitreous\\20220425_165438.jpg: corrupt JPEG restored and saved\n",
      "\u001b[34m\u001b[1mval: \u001b[0mWARNING  C:\\Users\\Mehmet\\Desktop\\new_splited_wheat_dataset\\tmp_val\\images\\SelimiyeVitreous\\20220425_165457.jpg: corrupt JPEG restored and saved\n",
      "\u001b[34m\u001b[1mval: \u001b[0mWARNING  C:\\Users\\Mehmet\\Desktop\\new_splited_wheat_dataset\\tmp_val\\images\\SelimiyeVitreous\\20220425_165500.jpg: corrupt JPEG restored and saved\n",
      "\u001b[34m\u001b[1mval: \u001b[0mWARNING  C:\\Users\\Mehmet\\Desktop\\new_splited_wheat_dataset\\tmp_val\\images\\SelimiyeVitreous\\20220425_165503.jpg: corrupt JPEG restored and saved\n",
      "\u001b[34m\u001b[1mval: \u001b[0mWARNING  C:\\Users\\Mehmet\\Desktop\\new_splited_wheat_dataset\\tmp_val\\images\\SelimiyeVitreous\\20220425_165507.jpg: corrupt JPEG restored and saved\n",
      "\u001b[34m\u001b[1mval: \u001b[0mWARNING  C:\\Users\\Mehmet\\Desktop\\new_splited_wheat_dataset\\tmp_val\\images\\SelimiyeVitreous\\20220425_165510.jpg: corrupt JPEG restored and saved\n",
      "\u001b[34m\u001b[1mval: \u001b[0mWARNING  C:\\Users\\Mehmet\\Desktop\\new_splited_wheat_dataset\\tmp_val\\images\\SelimiyeVitreous\\20220425_165512.jpg: corrupt JPEG restored and saved\n",
      "\u001b[34m\u001b[1mval: \u001b[0mWARNING  C:\\Users\\Mehmet\\Desktop\\new_splited_wheat_dataset\\tmp_val\\images\\SelimiyeVitreous\\20220425_165514.jpg: corrupt JPEG restored and saved\n",
      "\u001b[34m\u001b[1mval: \u001b[0mWARNING  C:\\Users\\Mehmet\\Desktop\\new_splited_wheat_dataset\\tmp_val\\images\\SelimiyeVitreous\\20220425_165518.jpg: corrupt JPEG restored and saved\n",
      "\u001b[34m\u001b[1mval: \u001b[0mWARNING  C:\\Users\\Mehmet\\Desktop\\new_splited_wheat_dataset\\tmp_val\\images\\SelimiyeVitreous\\20220425_165609.jpg: corrupt JPEG restored and saved\n",
      "\u001b[34m\u001b[1mval: \u001b[0mWARNING  C:\\Users\\Mehmet\\Desktop\\new_splited_wheat_dataset\\tmp_val\\images\\SelimiyeVitreous\\20220425_165618.jpg: corrupt JPEG restored and saved\n",
      "\u001b[34m\u001b[1mval: \u001b[0mWARNING  C:\\Users\\Mehmet\\Desktop\\new_splited_wheat_dataset\\tmp_val\\images\\SelimiyeVitreous\\20220425_165637.jpg: corrupt JPEG restored and saved\n",
      "\u001b[34m\u001b[1mval: \u001b[0mWARNING  C:\\Users\\Mehmet\\Desktop\\new_splited_wheat_dataset\\tmp_val\\images\\SelimiyeVitreous\\20220425_165702.jpg: corrupt JPEG restored and saved\n",
      "\u001b[34m\u001b[1mval: \u001b[0mNew cache created: C:\\Users\\Mehmet\\Desktop\\new_splited_wheat_dataset\\tmp_val\\labels\\Bayraktar2000Vitreous.cache\n"
     ]
    },
    {
     "name": "stderr",
     "output_type": "stream",
     "text": [
      "\n"
     ]
    },
    {
     "name": "stdout",
     "output_type": "stream",
     "text": [
      "Plotting labels to C:\\Users\\Mehmet\\Desktop\\whead_dataset\\results\\train9\\labels.jpg... \n",
      "\u001b[34m\u001b[1moptimizer:\u001b[0m 'optimizer=auto' found, ignoring 'lr0=0.01' and 'momentum=0.937' and determining best 'optimizer', 'lr0' and 'momentum' automatically... \n",
      "\u001b[34m\u001b[1moptimizer:\u001b[0m AdamW(lr=0.000714, momentum=0.9) with parameter groups 81 weight(decay=0.0), 88 weight(decay=0.0005), 87 bias(decay=0.0)\n",
      "Image sizes 640 train, 640 val\n",
      "Using 8 dataloader workers\n",
      "Logging results to \u001b[1mC:\\Users\\Mehmet\\Desktop\\whead_dataset\\results\\train9\u001b[0m\n",
      "Starting training for 20 epochs...\n",
      "\n",
      "      Epoch    GPU_mem   box_loss   cls_loss   dfl_loss  Instances       Size\n"
     ]
    },
    {
     "name": "stderr",
     "output_type": "stream",
     "text": [
      "       1/20     0.724G      1.102      4.265     0.9776         12        640: 100%|██████████| 169/169 [00:30<00:00,  5.46it/s]\n",
      "                 Class     Images  Instances      Box(P          R      mAP50  mAP50-95): 100%|██████████| 22/22 [00:02<00:00,  8.52it/s]"
     ]
    },
    {
     "name": "stdout",
     "output_type": "stream",
     "text": [
      "                   all        169        189       0.12      0.351      0.157      0.122\n"
     ]
    },
    {
     "name": "stderr",
     "output_type": "stream",
     "text": [
      "\n"
     ]
    },
    {
     "name": "stdout",
     "output_type": "stream",
     "text": [
      "\n",
      "      Epoch    GPU_mem   box_loss   cls_loss   dfl_loss  Instances       Size\n"
     ]
    },
    {
     "name": "stderr",
     "output_type": "stream",
     "text": [
      "       2/20     0.711G     0.9017      3.405     0.9332          4        640: 100%|██████████| 169/169 [00:23<00:00,  7.19it/s]\n",
      "                 Class     Images  Instances      Box(P          R      mAP50  mAP50-95): 100%|██████████| 22/22 [00:02<00:00,  7.93it/s]\n"
     ]
    },
    {
     "name": "stdout",
     "output_type": "stream",
     "text": [
      "                   all        169        189      0.183      0.656      0.244      0.196\n",
      "\n",
      "      Epoch    GPU_mem   box_loss   cls_loss   dfl_loss  Instances       Size\n"
     ]
    },
    {
     "name": "stderr",
     "output_type": "stream",
     "text": [
      "       3/20     0.696G     0.8689      2.995     0.9251          8        640: 100%|██████████| 169/169 [00:24<00:00,  7.00it/s]\n",
      "                 Class     Images  Instances      Box(P          R      mAP50  mAP50-95): 100%|██████████| 22/22 [00:02<00:00,  7.62it/s]\n"
     ]
    },
    {
     "name": "stdout",
     "output_type": "stream",
     "text": [
      "                   all        169        189      0.234      0.705      0.334      0.271\n",
      "\n",
      "      Epoch    GPU_mem   box_loss   cls_loss   dfl_loss  Instances       Size\n"
     ]
    },
    {
     "name": "stderr",
     "output_type": "stream",
     "text": [
      "       4/20     0.696G      0.868      2.773     0.9312          9        640: 100%|██████████| 169/169 [00:25<00:00,  6.67it/s]\n",
      "                 Class     Images  Instances      Box(P          R      mAP50  mAP50-95): 100%|██████████| 22/22 [00:02<00:00,  7.94it/s]"
     ]
    },
    {
     "name": "stdout",
     "output_type": "stream",
     "text": [
      "                   all        169        189      0.284      0.794      0.377      0.305\n"
     ]
    },
    {
     "name": "stderr",
     "output_type": "stream",
     "text": [
      "\n"
     ]
    },
    {
     "name": "stdout",
     "output_type": "stream",
     "text": [
      "\n",
      "      Epoch    GPU_mem   box_loss   cls_loss   dfl_loss  Instances       Size\n"
     ]
    },
    {
     "name": "stderr",
     "output_type": "stream",
     "text": [
      "       5/20     0.696G     0.8035      2.557     0.9092          8        640: 100%|██████████| 169/169 [00:25<00:00,  6.63it/s]\n",
      "                 Class     Images  Instances      Box(P          R      mAP50  mAP50-95): 100%|██████████| 22/22 [00:02<00:00,  8.47it/s]"
     ]
    },
    {
     "name": "stdout",
     "output_type": "stream",
     "text": [
      "                   all        169        189      0.315      0.828       0.42      0.341\n"
     ]
    },
    {
     "name": "stderr",
     "output_type": "stream",
     "text": [
      "\n"
     ]
    },
    {
     "name": "stdout",
     "output_type": "stream",
     "text": [
      "\n",
      "      Epoch    GPU_mem   box_loss   cls_loss   dfl_loss  Instances       Size\n"
     ]
    },
    {
     "name": "stderr",
     "output_type": "stream",
     "text": [
      "       6/20     0.694G     0.8113       2.31     0.9202          4        640: 100%|██████████| 169/169 [00:26<00:00,  6.35it/s]\n",
      "                 Class     Images  Instances      Box(P          R      mAP50  mAP50-95): 100%|██████████| 22/22 [00:02<00:00,  8.61it/s]\n"
     ]
    },
    {
     "name": "stdout",
     "output_type": "stream",
     "text": [
      "                   all        169        189      0.319      0.946      0.458      0.386\n",
      "\n",
      "      Epoch    GPU_mem   box_loss   cls_loss   dfl_loss  Instances       Size\n"
     ]
    },
    {
     "name": "stderr",
     "output_type": "stream",
     "text": [
      "       7/20     0.696G     0.7951      2.191     0.9182          8        640: 100%|██████████| 169/169 [00:25<00:00,  6.57it/s]\n",
      "                 Class     Images  Instances      Box(P          R      mAP50  mAP50-95): 100%|██████████| 22/22 [00:02<00:00,  7.49it/s]\n"
     ]
    },
    {
     "name": "stdout",
     "output_type": "stream",
     "text": [
      "                   all        169        189      0.396      0.788      0.542      0.451\n",
      "\n",
      "      Epoch    GPU_mem   box_loss   cls_loss   dfl_loss  Instances       Size\n"
     ]
    },
    {
     "name": "stderr",
     "output_type": "stream",
     "text": [
      "       8/20     0.694G     0.7566      2.053      0.912          7        640: 100%|██████████| 169/169 [00:26<00:00,  6.48it/s]\n",
      "                 Class     Images  Instances      Box(P          R      mAP50  mAP50-95): 100%|██████████| 22/22 [00:02<00:00,  7.74it/s]"
     ]
    },
    {
     "name": "stdout",
     "output_type": "stream",
     "text": [
      "                   all        169        189      0.449      0.925      0.592      0.496\n"
     ]
    },
    {
     "name": "stderr",
     "output_type": "stream",
     "text": [
      "\n"
     ]
    },
    {
     "name": "stdout",
     "output_type": "stream",
     "text": [
      "\n",
      "      Epoch    GPU_mem   box_loss   cls_loss   dfl_loss  Instances       Size\n"
     ]
    },
    {
     "name": "stderr",
     "output_type": "stream",
     "text": [
      "       9/20     0.694G      0.775      1.938     0.9163         10        640: 100%|██████████| 169/169 [00:26<00:00,  6.39it/s]\n",
      "                 Class     Images  Instances      Box(P          R      mAP50  mAP50-95): 100%|██████████| 22/22 [00:02<00:00,  7.66it/s]\n"
     ]
    },
    {
     "name": "stdout",
     "output_type": "stream",
     "text": [
      "                   all        169        189      0.492      0.947      0.589      0.492\n",
      "\n",
      "      Epoch    GPU_mem   box_loss   cls_loss   dfl_loss  Instances       Size\n"
     ]
    },
    {
     "name": "stderr",
     "output_type": "stream",
     "text": [
      "      10/20     0.694G     0.7439      1.769     0.9056         13        640: 100%|██████████| 169/169 [00:26<00:00,  6.47it/s]\n",
      "                 Class     Images  Instances      Box(P          R      mAP50  mAP50-95): 100%|██████████| 22/22 [00:03<00:00,  7.33it/s]\n"
     ]
    },
    {
     "name": "stdout",
     "output_type": "stream",
     "text": [
      "                   all        169        189      0.505      0.911      0.588      0.491\n",
      "Closing dataloader mosaic\n",
      "\n",
      "      Epoch    GPU_mem   box_loss   cls_loss   dfl_loss  Instances       Size\n"
     ]
    },
    {
     "name": "stderr",
     "output_type": "stream",
     "text": [
      "      11/20     0.692G     0.6963      1.967     0.9122          8        640: 100%|██████████| 169/169 [00:25<00:00,  6.67it/s]\n",
      "                 Class     Images  Instances      Box(P          R      mAP50  mAP50-95): 100%|██████████| 22/22 [00:02<00:00,  8.88it/s]\n"
     ]
    },
    {
     "name": "stdout",
     "output_type": "stream",
     "text": [
      "                   all        169        189      0.426      0.908      0.616      0.521\n",
      "\n",
      "      Epoch    GPU_mem   box_loss   cls_loss   dfl_loss  Instances       Size\n"
     ]
    },
    {
     "name": "stderr",
     "output_type": "stream",
     "text": [
      "      12/20     0.692G     0.6888      1.894     0.9092          4        640: 100%|██████████| 169/169 [00:25<00:00,  6.66it/s]\n",
      "                 Class     Images  Instances      Box(P          R      mAP50  mAP50-95): 100%|██████████| 22/22 [00:03<00:00,  6.77it/s]\n"
     ]
    },
    {
     "name": "stdout",
     "output_type": "stream",
     "text": [
      "                   all        169        189      0.502      0.946       0.69      0.592\n",
      "\n",
      "      Epoch    GPU_mem   box_loss   cls_loss   dfl_loss  Instances       Size\n"
     ]
    },
    {
     "name": "stderr",
     "output_type": "stream",
     "text": [
      "      13/20     0.692G     0.6753      1.768     0.9014          8        640: 100%|██████████| 169/169 [00:25<00:00,  6.65it/s]\n",
      "                 Class     Images  Instances      Box(P          R      mAP50  mAP50-95): 100%|██████████| 22/22 [00:03<00:00,  7.27it/s]"
     ]
    },
    {
     "name": "stdout",
     "output_type": "stream",
     "text": [
      "                   all        169        189       0.52      0.966       0.69      0.588\n"
     ]
    },
    {
     "name": "stderr",
     "output_type": "stream",
     "text": [
      "\n"
     ]
    },
    {
     "name": "stdout",
     "output_type": "stream",
     "text": [
      "\n",
      "      Epoch    GPU_mem   box_loss   cls_loss   dfl_loss  Instances       Size\n"
     ]
    },
    {
     "name": "stderr",
     "output_type": "stream",
     "text": [
      "      14/20     0.692G     0.6643      1.701     0.8988          4        640: 100%|██████████| 169/169 [00:26<00:00,  6.46it/s]\n",
      "                 Class     Images  Instances      Box(P          R      mAP50  mAP50-95): 100%|██████████| 22/22 [00:02<00:00,  8.92it/s]"
     ]
    },
    {
     "name": "stdout",
     "output_type": "stream",
     "text": [
      "                   all        169        189      0.589      0.889      0.701      0.596\n"
     ]
    },
    {
     "name": "stderr",
     "output_type": "stream",
     "text": [
      "\n"
     ]
    },
    {
     "name": "stdout",
     "output_type": "stream",
     "text": [
      "\n",
      "      Epoch    GPU_mem   box_loss   cls_loss   dfl_loss  Instances       Size\n"
     ]
    },
    {
     "name": "stderr",
     "output_type": "stream",
     "text": [
      "      15/20     0.692G     0.6596      1.662     0.8908          4        640: 100%|██████████| 169/169 [00:25<00:00,  6.56it/s]\n",
      "                 Class     Images  Instances      Box(P          R      mAP50  mAP50-95): 100%|██████████| 22/22 [00:03<00:00,  7.11it/s]"
     ]
    },
    {
     "name": "stdout",
     "output_type": "stream",
     "text": [
      "                   all        169        189      0.539      0.944       0.69      0.593\n"
     ]
    },
    {
     "name": "stderr",
     "output_type": "stream",
     "text": [
      "\n"
     ]
    },
    {
     "name": "stdout",
     "output_type": "stream",
     "text": [
      "\n",
      "      Epoch    GPU_mem   box_loss   cls_loss   dfl_loss  Instances       Size\n"
     ]
    },
    {
     "name": "stderr",
     "output_type": "stream",
     "text": [
      "      16/20     0.692G     0.6515       1.61     0.9023          4        640: 100%|██████████| 169/169 [00:26<00:00,  6.40it/s]\n",
      "                 Class     Images  Instances      Box(P          R      mAP50  mAP50-95): 100%|██████████| 22/22 [00:02<00:00,  8.44it/s]"
     ]
    },
    {
     "name": "stdout",
     "output_type": "stream",
     "text": [
      "                   all        169        189      0.555      0.862      0.697      0.598\n"
     ]
    },
    {
     "name": "stderr",
     "output_type": "stream",
     "text": [
      "\n"
     ]
    },
    {
     "name": "stdout",
     "output_type": "stream",
     "text": [
      "\n",
      "      Epoch    GPU_mem   box_loss   cls_loss   dfl_loss  Instances       Size\n"
     ]
    },
    {
     "name": "stderr",
     "output_type": "stream",
     "text": [
      "      17/20     0.707G     0.6439      1.502     0.8833          4        640: 100%|██████████| 169/169 [00:26<00:00,  6.41it/s]\n",
      "                 Class     Images  Instances      Box(P          R      mAP50  mAP50-95): 100%|██████████| 22/22 [00:02<00:00,  7.64it/s]"
     ]
    },
    {
     "name": "stdout",
     "output_type": "stream",
     "text": [
      "                   all        169        189       0.55      0.966      0.739      0.642\n"
     ]
    },
    {
     "name": "stderr",
     "output_type": "stream",
     "text": [
      "\n"
     ]
    },
    {
     "name": "stdout",
     "output_type": "stream",
     "text": [
      "\n",
      "      Epoch    GPU_mem   box_loss   cls_loss   dfl_loss  Instances       Size\n"
     ]
    },
    {
     "name": "stderr",
     "output_type": "stream",
     "text": [
      "      18/20     0.692G     0.6408      1.454     0.8877          4        640: 100%|██████████| 169/169 [00:26<00:00,  6.40it/s]\n",
      "                 Class     Images  Instances      Box(P          R      mAP50  mAP50-95): 100%|██████████| 22/22 [00:02<00:00,  7.62it/s]"
     ]
    },
    {
     "name": "stdout",
     "output_type": "stream",
     "text": [
      "                   all        169        189      0.528       0.95       0.76       0.66\n"
     ]
    },
    {
     "name": "stderr",
     "output_type": "stream",
     "text": [
      "\n"
     ]
    },
    {
     "name": "stdout",
     "output_type": "stream",
     "text": [
      "\n",
      "      Epoch    GPU_mem   box_loss   cls_loss   dfl_loss  Instances       Size\n"
     ]
    },
    {
     "name": "stderr",
     "output_type": "stream",
     "text": [
      "      19/20     0.694G     0.6202      1.426     0.8904          8        640: 100%|██████████| 169/169 [00:25<00:00,  6.51it/s]\n",
      "                 Class     Images  Instances      Box(P          R      mAP50  mAP50-95): 100%|██████████| 22/22 [00:03<00:00,  7.06it/s]"
     ]
    },
    {
     "name": "stdout",
     "output_type": "stream",
     "text": [
      "                   all        169        189      0.624       0.89      0.794      0.688\n"
     ]
    },
    {
     "name": "stderr",
     "output_type": "stream",
     "text": [
      "\n"
     ]
    },
    {
     "name": "stdout",
     "output_type": "stream",
     "text": [
      "\n",
      "      Epoch    GPU_mem   box_loss   cls_loss   dfl_loss  Instances       Size\n"
     ]
    },
    {
     "name": "stderr",
     "output_type": "stream",
     "text": [
      "      20/20     0.692G     0.6209      1.398      0.881          8        640: 100%|██████████| 169/169 [00:26<00:00,  6.49it/s]\n",
      "                 Class     Images  Instances      Box(P          R      mAP50  mAP50-95): 100%|██████████| 22/22 [00:03<00:00,  6.59it/s]\n"
     ]
    },
    {
     "name": "stdout",
     "output_type": "stream",
     "text": [
      "                   all        169        189      0.569      0.905      0.755      0.656\n",
      "\n",
      "20 epochs completed in 0.177 hours.\n",
      "Optimizer stripped from C:\\Users\\Mehmet\\Desktop\\whead_dataset\\results\\train9\\weights\\last.pt, 5.5MB\n",
      "Optimizer stripped from C:\\Users\\Mehmet\\Desktop\\whead_dataset\\results\\train9\\weights\\best.pt, 5.5MB\n",
      "\n",
      "Validating C:\\Users\\Mehmet\\Desktop\\whead_dataset\\results\\train9\\weights\\best.pt...\n",
      "Ultralytics 8.3.5  Python-3.9.20 torch-2.4.1+cu121 CUDA:0 (NVIDIA GeForce RTX 3050 Laptop GPU, 4096MiB)\n",
      "YOLO11n summary (fused): 238 layers, 2,584,102 parameters, 0 gradients, 6.3 GFLOPs\n"
     ]
    },
    {
     "name": "stderr",
     "output_type": "stream",
     "text": [
      "                 Class     Images  Instances      Box(P          R      mAP50  mAP50-95): 100%|██████████| 22/22 [00:02<00:00,  9.77it/s]\n"
     ]
    },
    {
     "name": "stdout",
     "output_type": "stream",
     "text": [
      "                   all        169        189       0.64      0.888      0.795       0.69\n",
      " Bayraktar2000Vitreous          9          9       0.66          1      0.995      0.876\n",
      "    Bezostaja1Vitreous         18         30      0.623      0.967      0.703      0.571\n",
      "     Delabrad2Vitreous         17         17      0.537      0.765      0.631      0.504\n",
      "          EkizVitreous         17         17      0.964          1      0.995      0.746\n",
      "       EsperiaVitreous         14         14      0.546          1       0.99      0.878\n",
      "      KiziltanVitreous         14         18      0.998          1      0.995      0.947\n",
      "       LucillaVitreous         12         16      0.366          1      0.595      0.486\n",
      "        OdeskaVitreous         26         26      0.567      0.403      0.692      0.658\n",
      "        RumeliVitreous         15         15      0.694      0.933      0.893      0.818\n",
      "      SelimiyeVitreous         27         27      0.446      0.815      0.456      0.419\n",
      "Speed: 0.9ms preprocess, 4.9ms inference, 0.0ms loss, 1.6ms postprocess per image\n",
      "Results saved to \u001b[1mC:\\Users\\Mehmet\\Desktop\\whead_dataset\\results\\train9\u001b[0m\n",
      "4.Eğitim bitti\n",
      "Bellek temizlendi\n",
      "5.Eğitim başlıyor\n",
      "New https://pypi.org/project/ultralytics/8.3.40 available  Update with 'pip install -U ultralytics'\n",
      "Ultralytics 8.3.5  Python-3.9.20 torch-2.4.1+cu121 CUDA:0 (NVIDIA GeForce RTX 3050 Laptop GPU, 4096MiB)\n",
      "\u001b[34m\u001b[1mengine\\trainer: \u001b[0mtask=detect, mode=train, model=D:\\tarimda_yapay_zeka\\yolo11n.pt, data=C:\\Users\\Mehmet\\Desktop\\splited_wheat_dataset\\wheat_dataset_yaml.yaml, epochs=20, time=None, patience=100, batch=4, imgsz=640, save=True, save_period=-1, cache=False, device=None, workers=8, project=C:\\Users\\Mehmet\\Desktop\\whead_dataset\\results, name=train10, exist_ok=False, pretrained=True, optimizer=auto, verbose=True, seed=0, deterministic=True, single_cls=False, rect=False, cos_lr=False, close_mosaic=10, resume=False, amp=True, fraction=1.0, profile=False, freeze=None, multi_scale=False, overlap_mask=True, mask_ratio=4, dropout=0.0, val=True, split=val, save_json=False, save_hybrid=False, conf=None, iou=0.7, max_det=300, half=False, dnn=False, plots=True, source=None, vid_stride=1, stream_buffer=False, visualize=False, augment=False, agnostic_nms=False, classes=None, retina_masks=False, embed=None, show=False, save_frames=False, save_txt=False, save_conf=False, save_crop=False, show_labels=True, show_conf=True, show_boxes=True, line_width=None, format=torchscript, keras=False, optimize=False, int8=False, dynamic=False, simplify=True, opset=None, workspace=4, nms=False, lr0=0.01, lrf=0.01, momentum=0.937, weight_decay=0.0005, warmup_epochs=3.0, warmup_momentum=0.8, warmup_bias_lr=0.1, box=7.5, cls=0.5, dfl=1.5, pose=12.0, kobj=1.0, label_smoothing=0.0, nbs=64, hsv_h=0.015, hsv_s=0.7, hsv_v=0.4, degrees=0.0, translate=0.1, scale=0.5, shear=0.0, perspective=0.0, flipud=0.0, fliplr=0.5, bgr=0.0, mosaic=1.0, mixup=0.0, copy_paste=0.0, copy_paste_mode=flip, auto_augment=randaugment, erasing=0.4, crop_fraction=1.0, cfg=None, tracker=botsort.yaml, save_dir=C:\\Users\\Mehmet\\Desktop\\whead_dataset\\results\\train10\n",
      "Overriding model.yaml nc=80 with nc=10\n",
      "\n",
      "                   from  n    params  module                                       arguments                     \n",
      "  0                  -1  1       464  ultralytics.nn.modules.conv.Conv             [3, 16, 3, 2]                 \n",
      "  1                  -1  1      4672  ultralytics.nn.modules.conv.Conv             [16, 32, 3, 2]                \n",
      "  2                  -1  1      6640  ultralytics.nn.modules.block.C3k2            [32, 64, 1, False, 0.25]      \n",
      "  3                  -1  1     36992  ultralytics.nn.modules.conv.Conv             [64, 64, 3, 2]                \n",
      "  4                  -1  1     26080  ultralytics.nn.modules.block.C3k2            [64, 128, 1, False, 0.25]     \n",
      "  5                  -1  1    147712  ultralytics.nn.modules.conv.Conv             [128, 128, 3, 2]              \n",
      "  6                  -1  1     87040  ultralytics.nn.modules.block.C3k2            [128, 128, 1, True]           \n",
      "  7                  -1  1    295424  ultralytics.nn.modules.conv.Conv             [128, 256, 3, 2]              \n",
      "  8                  -1  1    346112  ultralytics.nn.modules.block.C3k2            [256, 256, 1, True]           \n",
      "  9                  -1  1    164608  ultralytics.nn.modules.block.SPPF            [256, 256, 5]                 \n",
      " 10                  -1  1    249728  ultralytics.nn.modules.block.C2PSA           [256, 256, 1]                 \n",
      " 11                  -1  1         0  torch.nn.modules.upsampling.Upsample         [None, 2, 'nearest']          \n",
      " 12             [-1, 6]  1         0  ultralytics.nn.modules.conv.Concat           [1]                           \n",
      " 13                  -1  1    111296  ultralytics.nn.modules.block.C3k2            [384, 128, 1, False]          \n",
      " 14                  -1  1         0  torch.nn.modules.upsampling.Upsample         [None, 2, 'nearest']          \n",
      " 15             [-1, 4]  1         0  ultralytics.nn.modules.conv.Concat           [1]                           \n",
      " 16                  -1  1     32096  ultralytics.nn.modules.block.C3k2            [256, 64, 1, False]           \n",
      " 17                  -1  1     36992  ultralytics.nn.modules.conv.Conv             [64, 64, 3, 2]                \n",
      " 18            [-1, 13]  1         0  ultralytics.nn.modules.conv.Concat           [1]                           \n",
      " 19                  -1  1     86720  ultralytics.nn.modules.block.C3k2            [192, 128, 1, False]          \n",
      " 20                  -1  1    147712  ultralytics.nn.modules.conv.Conv             [128, 128, 3, 2]              \n",
      " 21            [-1, 10]  1         0  ultralytics.nn.modules.conv.Concat           [1]                           \n",
      " 22                  -1  1    378880  ultralytics.nn.modules.block.C3k2            [384, 256, 1, True]           \n",
      " 23        [16, 19, 22]  1    432622  ultralytics.nn.modules.head.Detect           [10, [64, 128, 256]]          \n",
      "YOLO11n summary: 319 layers, 2,591,790 parameters, 2,591,774 gradients, 6.5 GFLOPs\n",
      "\n",
      "Transferred 448/499 items from pretrained weights\n",
      "Freezing layer 'model.23.dfl.conv.weight'\n",
      "\u001b[34m\u001b[1mAMP: \u001b[0mrunning Automatic Mixed Precision (AMP) checks with YOLO11n...\n",
      "\u001b[34m\u001b[1mAMP: \u001b[0mchecks passed \n"
     ]
    },
    {
     "name": "stderr",
     "output_type": "stream",
     "text": [
      "\u001b[34m\u001b[1mtrain: \u001b[0mScanning C:\\Users\\Mehmet\\Desktop\\new_splited_wheat_dataset\\tmp_train\\labels\\Bayraktar2000Vitreous... 676 images, 0 backgrounds, 0 corrupt: 100%|██████████| 676/676 [01:24<00:00,  8.04it/s]"
     ]
    },
    {
     "name": "stdout",
     "output_type": "stream",
     "text": [
      "\u001b[34m\u001b[1mtrain: \u001b[0mWARNING  C:\\Users\\Mehmet\\Desktop\\new_splited_wheat_dataset\\tmp_train\\images\\Bayraktar2000Vitreous\\20220426_144726.jpg: corrupt JPEG restored and saved\n",
      "\u001b[34m\u001b[1mtrain: \u001b[0mWARNING  C:\\Users\\Mehmet\\Desktop\\new_splited_wheat_dataset\\tmp_train\\images\\Bayraktar2000Vitreous\\20220426_144735.jpg: corrupt JPEG restored and saved\n",
      "\u001b[34m\u001b[1mtrain: \u001b[0mWARNING  C:\\Users\\Mehmet\\Desktop\\new_splited_wheat_dataset\\tmp_train\\images\\Bayraktar2000Vitreous\\20220426_144737.jpg: corrupt JPEG restored and saved\n",
      "\u001b[34m\u001b[1mtrain: \u001b[0mWARNING  C:\\Users\\Mehmet\\Desktop\\new_splited_wheat_dataset\\tmp_train\\images\\Bayraktar2000Vitreous\\20220426_144744.jpg: corrupt JPEG restored and saved\n",
      "\u001b[34m\u001b[1mtrain: \u001b[0mWARNING  C:\\Users\\Mehmet\\Desktop\\new_splited_wheat_dataset\\tmp_train\\images\\Bayraktar2000Vitreous\\20220426_144746.jpg: corrupt JPEG restored and saved\n",
      "\u001b[34m\u001b[1mtrain: \u001b[0mWARNING  C:\\Users\\Mehmet\\Desktop\\new_splited_wheat_dataset\\tmp_train\\images\\Bayraktar2000Vitreous\\20220426_144748.jpg: corrupt JPEG restored and saved\n",
      "\u001b[34m\u001b[1mtrain: \u001b[0mWARNING  C:\\Users\\Mehmet\\Desktop\\new_splited_wheat_dataset\\tmp_train\\images\\Bayraktar2000Vitreous\\20220426_144753.jpg: corrupt JPEG restored and saved\n",
      "\u001b[34m\u001b[1mtrain: \u001b[0mWARNING  C:\\Users\\Mehmet\\Desktop\\new_splited_wheat_dataset\\tmp_train\\images\\Bayraktar2000Vitreous\\20220426_144759.jpg: corrupt JPEG restored and saved\n",
      "\u001b[34m\u001b[1mtrain: \u001b[0mWARNING  C:\\Users\\Mehmet\\Desktop\\new_splited_wheat_dataset\\tmp_train\\images\\Bayraktar2000Vitreous\\20220426_144801.jpg: corrupt JPEG restored and saved\n",
      "\u001b[34m\u001b[1mtrain: \u001b[0mWARNING  C:\\Users\\Mehmet\\Desktop\\new_splited_wheat_dataset\\tmp_train\\images\\Bayraktar2000Vitreous\\20220426_144804.jpg: corrupt JPEG restored and saved\n",
      "\u001b[34m\u001b[1mtrain: \u001b[0mWARNING  C:\\Users\\Mehmet\\Desktop\\new_splited_wheat_dataset\\tmp_train\\images\\Bayraktar2000Vitreous\\20220426_144806.jpg: corrupt JPEG restored and saved\n",
      "\u001b[34m\u001b[1mtrain: \u001b[0mWARNING  C:\\Users\\Mehmet\\Desktop\\new_splited_wheat_dataset\\tmp_train\\images\\Bayraktar2000Vitreous\\20220426_144814.jpg: corrupt JPEG restored and saved\n",
      "\u001b[34m\u001b[1mtrain: \u001b[0mWARNING  C:\\Users\\Mehmet\\Desktop\\new_splited_wheat_dataset\\tmp_train\\images\\Bayraktar2000Vitreous\\20220426_144824.jpg: corrupt JPEG restored and saved\n",
      "\u001b[34m\u001b[1mtrain: \u001b[0mWARNING  C:\\Users\\Mehmet\\Desktop\\new_splited_wheat_dataset\\tmp_train\\images\\Bayraktar2000Vitreous\\20220426_144826.jpg: corrupt JPEG restored and saved\n",
      "\u001b[34m\u001b[1mtrain: \u001b[0mWARNING  C:\\Users\\Mehmet\\Desktop\\new_splited_wheat_dataset\\tmp_train\\images\\Bayraktar2000Vitreous\\20220426_144828.jpg: corrupt JPEG restored and saved\n",
      "\u001b[34m\u001b[1mtrain: \u001b[0mWARNING  C:\\Users\\Mehmet\\Desktop\\new_splited_wheat_dataset\\tmp_train\\images\\Bayraktar2000Vitreous\\20220426_144834.jpg: corrupt JPEG restored and saved\n",
      "\u001b[34m\u001b[1mtrain: \u001b[0mWARNING  C:\\Users\\Mehmet\\Desktop\\new_splited_wheat_dataset\\tmp_train\\images\\Bayraktar2000Vitreous\\20220426_144844.jpg: corrupt JPEG restored and saved\n",
      "\u001b[34m\u001b[1mtrain: \u001b[0mWARNING  C:\\Users\\Mehmet\\Desktop\\new_splited_wheat_dataset\\tmp_train\\images\\Bayraktar2000Vitreous\\20220426_144846.jpg: corrupt JPEG restored and saved\n",
      "\u001b[34m\u001b[1mtrain: \u001b[0mWARNING  C:\\Users\\Mehmet\\Desktop\\new_splited_wheat_dataset\\tmp_train\\images\\Bayraktar2000Vitreous\\20220426_144853.jpg: corrupt JPEG restored and saved\n",
      "\u001b[34m\u001b[1mtrain: \u001b[0mWARNING  C:\\Users\\Mehmet\\Desktop\\new_splited_wheat_dataset\\tmp_train\\images\\Bayraktar2000Vitreous\\20220426_144856.jpg: corrupt JPEG restored and saved\n",
      "\u001b[34m\u001b[1mtrain: \u001b[0mWARNING  C:\\Users\\Mehmet\\Desktop\\new_splited_wheat_dataset\\tmp_train\\images\\Bayraktar2000Vitreous\\20220426_144858.jpg: corrupt JPEG restored and saved\n",
      "\u001b[34m\u001b[1mtrain: \u001b[0mWARNING  C:\\Users\\Mehmet\\Desktop\\new_splited_wheat_dataset\\tmp_train\\images\\Bayraktar2000Vitreous\\20220426_144902.jpg: corrupt JPEG restored and saved\n",
      "\u001b[34m\u001b[1mtrain: \u001b[0mWARNING  C:\\Users\\Mehmet\\Desktop\\new_splited_wheat_dataset\\tmp_train\\images\\Bayraktar2000Vitreous\\20220426_144905.jpg: corrupt JPEG restored and saved\n",
      "\u001b[34m\u001b[1mtrain: \u001b[0mWARNING  C:\\Users\\Mehmet\\Desktop\\new_splited_wheat_dataset\\tmp_train\\images\\Bayraktar2000Vitreous\\20220426_144919.jpg: corrupt JPEG restored and saved\n",
      "\u001b[34m\u001b[1mtrain: \u001b[0mWARNING  C:\\Users\\Mehmet\\Desktop\\new_splited_wheat_dataset\\tmp_train\\images\\Bayraktar2000Vitreous\\20220426_144935.jpg: corrupt JPEG restored and saved\n",
      "\u001b[34m\u001b[1mtrain: \u001b[0mWARNING  C:\\Users\\Mehmet\\Desktop\\new_splited_wheat_dataset\\tmp_train\\images\\Bayraktar2000Vitreous\\20220426_144944.jpg: corrupt JPEG restored and saved\n",
      "\u001b[34m\u001b[1mtrain: \u001b[0mWARNING  C:\\Users\\Mehmet\\Desktop\\new_splited_wheat_dataset\\tmp_train\\images\\Bayraktar2000Vitreous\\20220426_145003.jpg: corrupt JPEG restored and saved\n",
      "\u001b[34m\u001b[1mtrain: \u001b[0mWARNING  C:\\Users\\Mehmet\\Desktop\\new_splited_wheat_dataset\\tmp_train\\images\\Bayraktar2000Vitreous\\20220426_145005.jpg: corrupt JPEG restored and saved\n",
      "\u001b[34m\u001b[1mtrain: \u001b[0mWARNING  C:\\Users\\Mehmet\\Desktop\\new_splited_wheat_dataset\\tmp_train\\images\\Bayraktar2000Vitreous\\20220426_145008.jpg: corrupt JPEG restored and saved\n",
      "\u001b[34m\u001b[1mtrain: \u001b[0mWARNING  C:\\Users\\Mehmet\\Desktop\\new_splited_wheat_dataset\\tmp_train\\images\\Bayraktar2000Vitreous\\20220426_145029.jpg: corrupt JPEG restored and saved\n",
      "\u001b[34m\u001b[1mtrain: \u001b[0mWARNING  C:\\Users\\Mehmet\\Desktop\\new_splited_wheat_dataset\\tmp_train\\images\\Bayraktar2000Vitreous\\20220426_145034.jpg: corrupt JPEG restored and saved\n",
      "\u001b[34m\u001b[1mtrain: \u001b[0mWARNING  C:\\Users\\Mehmet\\Desktop\\new_splited_wheat_dataset\\tmp_train\\images\\Bayraktar2000Vitreous\\20220426_145037.jpg: corrupt JPEG restored and saved\n",
      "\u001b[34m\u001b[1mtrain: \u001b[0mWARNING  C:\\Users\\Mehmet\\Desktop\\new_splited_wheat_dataset\\tmp_train\\images\\Bayraktar2000Vitreous\\20220426_145055.jpg: corrupt JPEG restored and saved\n",
      "\u001b[34m\u001b[1mtrain: \u001b[0mWARNING  C:\\Users\\Mehmet\\Desktop\\new_splited_wheat_dataset\\tmp_train\\images\\Bayraktar2000Vitreous\\20220426_145058.jpg: corrupt JPEG restored and saved\n",
      "\u001b[34m\u001b[1mtrain: \u001b[0mWARNING  C:\\Users\\Mehmet\\Desktop\\new_splited_wheat_dataset\\tmp_train\\images\\Bayraktar2000Vitreous\\20220426_145115.jpg: corrupt JPEG restored and saved\n",
      "\u001b[34m\u001b[1mtrain: \u001b[0mWARNING  C:\\Users\\Mehmet\\Desktop\\new_splited_wheat_dataset\\tmp_train\\images\\Bayraktar2000Vitreous\\20220426_145119.jpg: corrupt JPEG restored and saved\n",
      "\u001b[34m\u001b[1mtrain: \u001b[0mWARNING  C:\\Users\\Mehmet\\Desktop\\new_splited_wheat_dataset\\tmp_train\\images\\Bayraktar2000Vitreous\\20220426_145127.jpg: corrupt JPEG restored and saved\n",
      "\u001b[34m\u001b[1mtrain: \u001b[0mWARNING  C:\\Users\\Mehmet\\Desktop\\new_splited_wheat_dataset\\tmp_train\\images\\Bayraktar2000Vitreous\\20220426_145129.jpg: corrupt JPEG restored and saved\n",
      "\u001b[34m\u001b[1mtrain: \u001b[0mWARNING  C:\\Users\\Mehmet\\Desktop\\new_splited_wheat_dataset\\tmp_train\\images\\Bayraktar2000Vitreous\\20220426_145137.jpg: corrupt JPEG restored and saved\n",
      "\u001b[34m\u001b[1mtrain: \u001b[0mWARNING  C:\\Users\\Mehmet\\Desktop\\new_splited_wheat_dataset\\tmp_train\\images\\Bayraktar2000Vitreous\\20220426_145140.jpg: corrupt JPEG restored and saved\n",
      "\u001b[34m\u001b[1mtrain: \u001b[0mWARNING  C:\\Users\\Mehmet\\Desktop\\new_splited_wheat_dataset\\tmp_train\\images\\Bayraktar2000Vitreous\\20220426_145157.jpg: corrupt JPEG restored and saved\n",
      "\u001b[34m\u001b[1mtrain: \u001b[0mWARNING  C:\\Users\\Mehmet\\Desktop\\new_splited_wheat_dataset\\tmp_train\\images\\Bayraktar2000Vitreous\\20220426_145200.jpg: corrupt JPEG restored and saved\n",
      "\u001b[34m\u001b[1mtrain: \u001b[0mWARNING  C:\\Users\\Mehmet\\Desktop\\new_splited_wheat_dataset\\tmp_train\\images\\Bayraktar2000Vitreous\\20220426_145203.jpg: corrupt JPEG restored and saved\n",
      "\u001b[34m\u001b[1mtrain: \u001b[0mWARNING  C:\\Users\\Mehmet\\Desktop\\new_splited_wheat_dataset\\tmp_train\\images\\Bayraktar2000Vitreous\\20220426_145209.jpg: corrupt JPEG restored and saved\n",
      "\u001b[34m\u001b[1mtrain: \u001b[0mWARNING  C:\\Users\\Mehmet\\Desktop\\new_splited_wheat_dataset\\tmp_train\\images\\Bayraktar2000Vitreous\\20220426_145215.jpg: corrupt JPEG restored and saved\n",
      "\u001b[34m\u001b[1mtrain: \u001b[0mWARNING  C:\\Users\\Mehmet\\Desktop\\new_splited_wheat_dataset\\tmp_train\\images\\Bayraktar2000Vitreous\\20220426_145237.jpg: corrupt JPEG restored and saved\n",
      "\u001b[34m\u001b[1mtrain: \u001b[0mWARNING  C:\\Users\\Mehmet\\Desktop\\new_splited_wheat_dataset\\tmp_train\\images\\Bayraktar2000Vitreous\\20220426_145239.jpg: corrupt JPEG restored and saved\n",
      "\u001b[34m\u001b[1mtrain: \u001b[0mWARNING  C:\\Users\\Mehmet\\Desktop\\new_splited_wheat_dataset\\tmp_train\\images\\Bayraktar2000Vitreous\\20220426_145244.jpg: corrupt JPEG restored and saved\n",
      "\u001b[34m\u001b[1mtrain: \u001b[0mWARNING  C:\\Users\\Mehmet\\Desktop\\new_splited_wheat_dataset\\tmp_train\\images\\Bayraktar2000Vitreous\\20220426_145249.jpg: corrupt JPEG restored and saved\n",
      "\u001b[34m\u001b[1mtrain: \u001b[0mWARNING  C:\\Users\\Mehmet\\Desktop\\new_splited_wheat_dataset\\tmp_train\\images\\Bayraktar2000Vitreous\\20220426_145259.jpg: corrupt JPEG restored and saved\n",
      "\u001b[34m\u001b[1mtrain: \u001b[0mWARNING  C:\\Users\\Mehmet\\Desktop\\new_splited_wheat_dataset\\tmp_train\\images\\Bayraktar2000Vitreous\\20220426_145301.jpg: corrupt JPEG restored and saved\n",
      "\u001b[34m\u001b[1mtrain: \u001b[0mWARNING  C:\\Users\\Mehmet\\Desktop\\new_splited_wheat_dataset\\tmp_train\\images\\Bayraktar2000Vitreous\\20220426_145304.jpg: corrupt JPEG restored and saved\n",
      "\u001b[34m\u001b[1mtrain: \u001b[0mWARNING  C:\\Users\\Mehmet\\Desktop\\new_splited_wheat_dataset\\tmp_train\\images\\Bayraktar2000Vitreous\\20220426_145306.jpg: corrupt JPEG restored and saved\n",
      "\u001b[34m\u001b[1mtrain: \u001b[0mWARNING  C:\\Users\\Mehmet\\Desktop\\new_splited_wheat_dataset\\tmp_train\\images\\Bayraktar2000Vitreous\\20220426_145309.jpg: corrupt JPEG restored and saved\n",
      "\u001b[34m\u001b[1mtrain: \u001b[0mWARNING  C:\\Users\\Mehmet\\Desktop\\new_splited_wheat_dataset\\tmp_train\\images\\Bayraktar2000Vitreous\\20220426_145312.jpg: corrupt JPEG restored and saved\n",
      "\u001b[34m\u001b[1mtrain: \u001b[0mWARNING  C:\\Users\\Mehmet\\Desktop\\new_splited_wheat_dataset\\tmp_train\\images\\Bayraktar2000Vitreous\\20220426_145321.jpg: corrupt JPEG restored and saved\n",
      "\u001b[34m\u001b[1mtrain: \u001b[0mWARNING  C:\\Users\\Mehmet\\Desktop\\new_splited_wheat_dataset\\tmp_train\\images\\Bayraktar2000Vitreous\\20220426_145324.jpg: corrupt JPEG restored and saved\n",
      "\u001b[34m\u001b[1mtrain: \u001b[0mWARNING  C:\\Users\\Mehmet\\Desktop\\new_splited_wheat_dataset\\tmp_train\\images\\Bayraktar2000Vitreous\\20220426_145348.jpg: corrupt JPEG restored and saved\n",
      "\u001b[34m\u001b[1mtrain: \u001b[0mWARNING  C:\\Users\\Mehmet\\Desktop\\new_splited_wheat_dataset\\tmp_train\\images\\Bayraktar2000Vitreous\\20220426_145353.jpg: corrupt JPEG restored and saved\n",
      "\u001b[34m\u001b[1mtrain: \u001b[0mWARNING  C:\\Users\\Mehmet\\Desktop\\new_splited_wheat_dataset\\tmp_train\\images\\Bayraktar2000Vitreous\\20220426_145404.jpg: corrupt JPEG restored and saved\n",
      "\u001b[34m\u001b[1mtrain: \u001b[0mWARNING  C:\\Users\\Mehmet\\Desktop\\new_splited_wheat_dataset\\tmp_train\\images\\Bezostaja1Vitreous\\20220425_152222.jpg: corrupt JPEG restored and saved\n",
      "\u001b[34m\u001b[1mtrain: \u001b[0mWARNING  C:\\Users\\Mehmet\\Desktop\\new_splited_wheat_dataset\\tmp_train\\images\\Bezostaja1Vitreous\\20220425_152232.jpg: corrupt JPEG restored and saved\n",
      "\u001b[34m\u001b[1mtrain: \u001b[0mWARNING  C:\\Users\\Mehmet\\Desktop\\new_splited_wheat_dataset\\tmp_train\\images\\Bezostaja1Vitreous\\20220425_152239.jpg: corrupt JPEG restored and saved\n",
      "\u001b[34m\u001b[1mtrain: \u001b[0mWARNING  C:\\Users\\Mehmet\\Desktop\\new_splited_wheat_dataset\\tmp_train\\images\\Bezostaja1Vitreous\\20220425_152247.jpg: corrupt JPEG restored and saved\n",
      "\u001b[34m\u001b[1mtrain: \u001b[0mWARNING  C:\\Users\\Mehmet\\Desktop\\new_splited_wheat_dataset\\tmp_train\\images\\Bezostaja1Vitreous\\20220425_152301.jpg: corrupt JPEG restored and saved\n",
      "\u001b[34m\u001b[1mtrain: \u001b[0mWARNING  C:\\Users\\Mehmet\\Desktop\\new_splited_wheat_dataset\\tmp_train\\images\\Bezostaja1Vitreous\\20220425_152305.jpg: corrupt JPEG restored and saved\n",
      "\u001b[34m\u001b[1mtrain: \u001b[0mWARNING  C:\\Users\\Mehmet\\Desktop\\new_splited_wheat_dataset\\tmp_train\\images\\Bezostaja1Vitreous\\20220425_152310.jpg: corrupt JPEG restored and saved\n",
      "\u001b[34m\u001b[1mtrain: \u001b[0mWARNING  C:\\Users\\Mehmet\\Desktop\\new_splited_wheat_dataset\\tmp_train\\images\\Bezostaja1Vitreous\\20220425_152330.jpg: corrupt JPEG restored and saved\n",
      "\u001b[34m\u001b[1mtrain: \u001b[0mWARNING  C:\\Users\\Mehmet\\Desktop\\new_splited_wheat_dataset\\tmp_train\\images\\Bezostaja1Vitreous\\20220425_152340.jpg: corrupt JPEG restored and saved\n",
      "\u001b[34m\u001b[1mtrain: \u001b[0mWARNING  C:\\Users\\Mehmet\\Desktop\\new_splited_wheat_dataset\\tmp_train\\images\\Bezostaja1Vitreous\\20220425_152343.jpg: corrupt JPEG restored and saved\n",
      "\u001b[34m\u001b[1mtrain: \u001b[0mWARNING  C:\\Users\\Mehmet\\Desktop\\new_splited_wheat_dataset\\tmp_train\\images\\Bezostaja1Vitreous\\20220425_152346.jpg: corrupt JPEG restored and saved\n",
      "\u001b[34m\u001b[1mtrain: \u001b[0mWARNING  C:\\Users\\Mehmet\\Desktop\\new_splited_wheat_dataset\\tmp_train\\images\\Bezostaja1Vitreous\\20220425_152404.jpg: corrupt JPEG restored and saved\n",
      "\u001b[34m\u001b[1mtrain: \u001b[0mWARNING  C:\\Users\\Mehmet\\Desktop\\new_splited_wheat_dataset\\tmp_train\\images\\Bezostaja1Vitreous\\20220425_152407.jpg: corrupt JPEG restored and saved\n",
      "\u001b[34m\u001b[1mtrain: \u001b[0mWARNING  C:\\Users\\Mehmet\\Desktop\\new_splited_wheat_dataset\\tmp_train\\images\\Bezostaja1Vitreous\\20220425_152409.jpg: corrupt JPEG restored and saved\n",
      "\u001b[34m\u001b[1mtrain: \u001b[0mWARNING  C:\\Users\\Mehmet\\Desktop\\new_splited_wheat_dataset\\tmp_train\\images\\Bezostaja1Vitreous\\20220425_152417.jpg: corrupt JPEG restored and saved\n",
      "\u001b[34m\u001b[1mtrain: \u001b[0mWARNING  C:\\Users\\Mehmet\\Desktop\\new_splited_wheat_dataset\\tmp_train\\images\\Bezostaja1Vitreous\\20220425_152420.jpg: corrupt JPEG restored and saved\n",
      "\u001b[34m\u001b[1mtrain: \u001b[0mWARNING  C:\\Users\\Mehmet\\Desktop\\new_splited_wheat_dataset\\tmp_train\\images\\Bezostaja1Vitreous\\20220425_152429.jpg: corrupt JPEG restored and saved\n",
      "\u001b[34m\u001b[1mtrain: \u001b[0mWARNING  C:\\Users\\Mehmet\\Desktop\\new_splited_wheat_dataset\\tmp_train\\images\\Bezostaja1Vitreous\\20220425_152438.jpg: corrupt JPEG restored and saved\n",
      "\u001b[34m\u001b[1mtrain: \u001b[0mWARNING  C:\\Users\\Mehmet\\Desktop\\new_splited_wheat_dataset\\tmp_train\\images\\Bezostaja1Vitreous\\20220425_152446.jpg: corrupt JPEG restored and saved\n",
      "\u001b[34m\u001b[1mtrain: \u001b[0mWARNING  C:\\Users\\Mehmet\\Desktop\\new_splited_wheat_dataset\\tmp_train\\images\\Bezostaja1Vitreous\\20220425_152449.jpg: corrupt JPEG restored and saved\n",
      "\u001b[34m\u001b[1mtrain: \u001b[0mWARNING  C:\\Users\\Mehmet\\Desktop\\new_splited_wheat_dataset\\tmp_train\\images\\Bezostaja1Vitreous\\20220425_152522.jpg: corrupt JPEG restored and saved\n",
      "\u001b[34m\u001b[1mtrain: \u001b[0mWARNING  C:\\Users\\Mehmet\\Desktop\\new_splited_wheat_dataset\\tmp_train\\images\\Bezostaja1Vitreous\\20220425_152531.jpg: corrupt JPEG restored and saved\n",
      "\u001b[34m\u001b[1mtrain: \u001b[0mWARNING  C:\\Users\\Mehmet\\Desktop\\new_splited_wheat_dataset\\tmp_train\\images\\Bezostaja1Vitreous\\20220425_152534.jpg: corrupt JPEG restored and saved\n",
      "\u001b[34m\u001b[1mtrain: \u001b[0mWARNING  C:\\Users\\Mehmet\\Desktop\\new_splited_wheat_dataset\\tmp_train\\images\\Bezostaja1Vitreous\\20220425_152538.jpg: corrupt JPEG restored and saved\n",
      "\u001b[34m\u001b[1mtrain: \u001b[0mWARNING  C:\\Users\\Mehmet\\Desktop\\new_splited_wheat_dataset\\tmp_train\\images\\Bezostaja1Vitreous\\20220425_152541.jpg: corrupt JPEG restored and saved\n",
      "\u001b[34m\u001b[1mtrain: \u001b[0mWARNING  C:\\Users\\Mehmet\\Desktop\\new_splited_wheat_dataset\\tmp_train\\images\\Bezostaja1Vitreous\\20220425_152545.jpg: corrupt JPEG restored and saved\n",
      "\u001b[34m\u001b[1mtrain: \u001b[0mWARNING  C:\\Users\\Mehmet\\Desktop\\new_splited_wheat_dataset\\tmp_train\\images\\Bezostaja1Vitreous\\20220425_152548.jpg: corrupt JPEG restored and saved\n",
      "\u001b[34m\u001b[1mtrain: \u001b[0mWARNING  C:\\Users\\Mehmet\\Desktop\\new_splited_wheat_dataset\\tmp_train\\images\\Bezostaja1Vitreous\\20220425_152551.jpg: corrupt JPEG restored and saved\n",
      "\u001b[34m\u001b[1mtrain: \u001b[0mWARNING  C:\\Users\\Mehmet\\Desktop\\new_splited_wheat_dataset\\tmp_train\\images\\Bezostaja1Vitreous\\20220425_152553.jpg: corrupt JPEG restored and saved\n",
      "\u001b[34m\u001b[1mtrain: \u001b[0mWARNING  C:\\Users\\Mehmet\\Desktop\\new_splited_wheat_dataset\\tmp_train\\images\\Bezostaja1Vitreous\\20220425_152557.jpg: corrupt JPEG restored and saved\n",
      "\u001b[34m\u001b[1mtrain: \u001b[0mWARNING  C:\\Users\\Mehmet\\Desktop\\new_splited_wheat_dataset\\tmp_train\\images\\Bezostaja1Vitreous\\20220425_152601.jpg: corrupt JPEG restored and saved\n",
      "\u001b[34m\u001b[1mtrain: \u001b[0mWARNING  C:\\Users\\Mehmet\\Desktop\\new_splited_wheat_dataset\\tmp_train\\images\\Bezostaja1Vitreous\\20220425_152619.jpg: corrupt JPEG restored and saved\n",
      "\u001b[34m\u001b[1mtrain: \u001b[0mWARNING  C:\\Users\\Mehmet\\Desktop\\new_splited_wheat_dataset\\tmp_train\\images\\Bezostaja1Vitreous\\20220425_152623.jpg: corrupt JPEG restored and saved\n",
      "\u001b[34m\u001b[1mtrain: \u001b[0mWARNING  C:\\Users\\Mehmet\\Desktop\\new_splited_wheat_dataset\\tmp_train\\images\\Bezostaja1Vitreous\\20220425_152626.jpg: corrupt JPEG restored and saved\n",
      "\u001b[34m\u001b[1mtrain: \u001b[0mWARNING  C:\\Users\\Mehmet\\Desktop\\new_splited_wheat_dataset\\tmp_train\\images\\Bezostaja1Vitreous\\20220425_152638.jpg: corrupt JPEG restored and saved\n",
      "\u001b[34m\u001b[1mtrain: \u001b[0mWARNING  C:\\Users\\Mehmet\\Desktop\\new_splited_wheat_dataset\\tmp_train\\images\\Bezostaja1Vitreous\\20220425_152641.jpg: corrupt JPEG restored and saved\n",
      "\u001b[34m\u001b[1mtrain: \u001b[0mWARNING  C:\\Users\\Mehmet\\Desktop\\new_splited_wheat_dataset\\tmp_train\\images\\Bezostaja1Vitreous\\20220425_152645.jpg: corrupt JPEG restored and saved\n",
      "\u001b[34m\u001b[1mtrain: \u001b[0mWARNING  C:\\Users\\Mehmet\\Desktop\\new_splited_wheat_dataset\\tmp_train\\images\\Bezostaja1Vitreous\\20220425_152647.jpg: corrupt JPEG restored and saved\n",
      "\u001b[34m\u001b[1mtrain: \u001b[0mWARNING  C:\\Users\\Mehmet\\Desktop\\new_splited_wheat_dataset\\tmp_train\\images\\Bezostaja1Vitreous\\20220425_152650.jpg: corrupt JPEG restored and saved\n",
      "\u001b[34m\u001b[1mtrain: \u001b[0mWARNING  C:\\Users\\Mehmet\\Desktop\\new_splited_wheat_dataset\\tmp_train\\images\\Bezostaja1Vitreous\\20220425_154529.jpg: corrupt JPEG restored and saved\n",
      "\u001b[34m\u001b[1mtrain: \u001b[0mWARNING  C:\\Users\\Mehmet\\Desktop\\new_splited_wheat_dataset\\tmp_train\\images\\Bezostaja1Vitreous\\20220425_154534.jpg: corrupt JPEG restored and saved\n",
      "\u001b[34m\u001b[1mtrain: \u001b[0mWARNING  C:\\Users\\Mehmet\\Desktop\\new_splited_wheat_dataset\\tmp_train\\images\\Bezostaja1Vitreous\\20220425_154540.jpg: corrupt JPEG restored and saved\n",
      "\u001b[34m\u001b[1mtrain: \u001b[0mWARNING  C:\\Users\\Mehmet\\Desktop\\new_splited_wheat_dataset\\tmp_train\\images\\Bezostaja1Vitreous\\20220425_154542.jpg: corrupt JPEG restored and saved\n",
      "\u001b[34m\u001b[1mtrain: \u001b[0mWARNING  C:\\Users\\Mehmet\\Desktop\\new_splited_wheat_dataset\\tmp_train\\images\\Bezostaja1Vitreous\\20220425_154544.jpg: corrupt JPEG restored and saved\n",
      "\u001b[34m\u001b[1mtrain: \u001b[0mWARNING  C:\\Users\\Mehmet\\Desktop\\new_splited_wheat_dataset\\tmp_train\\images\\Bezostaja1Vitreous\\20220425_154548.jpg: corrupt JPEG restored and saved\n",
      "\u001b[34m\u001b[1mtrain: \u001b[0mWARNING  C:\\Users\\Mehmet\\Desktop\\new_splited_wheat_dataset\\tmp_train\\images\\Bezostaja1Vitreous\\20220425_154552.jpg: corrupt JPEG restored and saved\n",
      "\u001b[34m\u001b[1mtrain: \u001b[0mWARNING  C:\\Users\\Mehmet\\Desktop\\new_splited_wheat_dataset\\tmp_train\\images\\Bezostaja1Vitreous\\20220425_154554.jpg: corrupt JPEG restored and saved\n",
      "\u001b[34m\u001b[1mtrain: \u001b[0mWARNING  C:\\Users\\Mehmet\\Desktop\\new_splited_wheat_dataset\\tmp_train\\images\\Bezostaja1Vitreous\\20220425_154603.jpg: corrupt JPEG restored and saved\n",
      "\u001b[34m\u001b[1mtrain: \u001b[0mWARNING  C:\\Users\\Mehmet\\Desktop\\new_splited_wheat_dataset\\tmp_train\\images\\Bezostaja1Vitreous\\20220425_154604.jpg: corrupt JPEG restored and saved\n",
      "\u001b[34m\u001b[1mtrain: \u001b[0mWARNING  C:\\Users\\Mehmet\\Desktop\\new_splited_wheat_dataset\\tmp_train\\images\\Bezostaja1Vitreous\\20220425_154606.jpg: corrupt JPEG restored and saved\n",
      "\u001b[34m\u001b[1mtrain: \u001b[0mWARNING  C:\\Users\\Mehmet\\Desktop\\new_splited_wheat_dataset\\tmp_train\\images\\Bezostaja1Vitreous\\20220425_154612.jpg: corrupt JPEG restored and saved\n",
      "\u001b[34m\u001b[1mtrain: \u001b[0mWARNING  C:\\Users\\Mehmet\\Desktop\\new_splited_wheat_dataset\\tmp_train\\images\\Bezostaja1Vitreous\\20220425_154622.jpg: corrupt JPEG restored and saved\n",
      "\u001b[34m\u001b[1mtrain: \u001b[0mWARNING  C:\\Users\\Mehmet\\Desktop\\new_splited_wheat_dataset\\tmp_train\\images\\Bezostaja1Vitreous\\20220425_154628.jpg: corrupt JPEG restored and saved\n",
      "\u001b[34m\u001b[1mtrain: \u001b[0mWARNING  C:\\Users\\Mehmet\\Desktop\\new_splited_wheat_dataset\\tmp_train\\images\\Bezostaja1Vitreous\\20220425_154630.jpg: corrupt JPEG restored and saved\n",
      "\u001b[34m\u001b[1mtrain: \u001b[0mWARNING  C:\\Users\\Mehmet\\Desktop\\new_splited_wheat_dataset\\tmp_train\\images\\Bezostaja1Vitreous\\20220425_154632.jpg: corrupt JPEG restored and saved\n",
      "\u001b[34m\u001b[1mtrain: \u001b[0mWARNING  C:\\Users\\Mehmet\\Desktop\\new_splited_wheat_dataset\\tmp_train\\images\\Bezostaja1Vitreous\\20220425_154635.jpg: corrupt JPEG restored and saved\n",
      "\u001b[34m\u001b[1mtrain: \u001b[0mWARNING  C:\\Users\\Mehmet\\Desktop\\new_splited_wheat_dataset\\tmp_train\\images\\Bezostaja1Vitreous\\20220425_154637.jpg: corrupt JPEG restored and saved\n",
      "\u001b[34m\u001b[1mtrain: \u001b[0mWARNING  C:\\Users\\Mehmet\\Desktop\\new_splited_wheat_dataset\\tmp_train\\images\\Bezostaja1Vitreous\\20220425_154640.jpg: corrupt JPEG restored and saved\n",
      "\u001b[34m\u001b[1mtrain: \u001b[0mWARNING  C:\\Users\\Mehmet\\Desktop\\new_splited_wheat_dataset\\tmp_train\\images\\Bezostaja1Vitreous\\20220425_154642.jpg: corrupt JPEG restored and saved\n",
      "\u001b[34m\u001b[1mtrain: \u001b[0mWARNING  C:\\Users\\Mehmet\\Desktop\\new_splited_wheat_dataset\\tmp_train\\images\\Bezostaja1Vitreous\\20220425_154647.jpg: corrupt JPEG restored and saved\n",
      "\u001b[34m\u001b[1mtrain: \u001b[0mWARNING  C:\\Users\\Mehmet\\Desktop\\new_splited_wheat_dataset\\tmp_train\\images\\Bezostaja1Vitreous\\20220425_154649.jpg: corrupt JPEG restored and saved\n",
      "\u001b[34m\u001b[1mtrain: \u001b[0mWARNING  C:\\Users\\Mehmet\\Desktop\\new_splited_wheat_dataset\\tmp_train\\images\\Bezostaja1Vitreous\\20220425_154652.jpg: corrupt JPEG restored and saved\n",
      "\u001b[34m\u001b[1mtrain: \u001b[0mWARNING  C:\\Users\\Mehmet\\Desktop\\new_splited_wheat_dataset\\tmp_train\\images\\Bezostaja1Vitreous\\20220425_154654.jpg: corrupt JPEG restored and saved\n",
      "\u001b[34m\u001b[1mtrain: \u001b[0mWARNING  C:\\Users\\Mehmet\\Desktop\\new_splited_wheat_dataset\\tmp_train\\images\\Bezostaja1Vitreous\\20220425_154656.jpg: corrupt JPEG restored and saved\n",
      "\u001b[34m\u001b[1mtrain: \u001b[0mWARNING  C:\\Users\\Mehmet\\Desktop\\new_splited_wheat_dataset\\tmp_train\\images\\Bezostaja1Vitreous\\20220425_154707.jpg: corrupt JPEG restored and saved\n",
      "\u001b[34m\u001b[1mtrain: \u001b[0mWARNING  C:\\Users\\Mehmet\\Desktop\\new_splited_wheat_dataset\\tmp_train\\images\\Bezostaja1Vitreous\\20220425_154709.jpg: corrupt JPEG restored and saved\n",
      "\u001b[34m\u001b[1mtrain: \u001b[0mWARNING  C:\\Users\\Mehmet\\Desktop\\new_splited_wheat_dataset\\tmp_train\\images\\Bezostaja1Vitreous\\20220425_154718.jpg: corrupt JPEG restored and saved\n",
      "\u001b[34m\u001b[1mtrain: \u001b[0mWARNING  C:\\Users\\Mehmet\\Desktop\\new_splited_wheat_dataset\\tmp_train\\images\\Bezostaja1Vitreous\\20220425_154720.jpg: corrupt JPEG restored and saved\n",
      "\u001b[34m\u001b[1mtrain: \u001b[0mWARNING  C:\\Users\\Mehmet\\Desktop\\new_splited_wheat_dataset\\tmp_train\\images\\Bezostaja1Vitreous\\20220425_154724.jpg: corrupt JPEG restored and saved\n",
      "\u001b[34m\u001b[1mtrain: \u001b[0mWARNING  C:\\Users\\Mehmet\\Desktop\\new_splited_wheat_dataset\\tmp_train\\images\\Bezostaja1Vitreous\\20220425_154728.jpg: corrupt JPEG restored and saved\n",
      "\u001b[34m\u001b[1mtrain: \u001b[0mWARNING  C:\\Users\\Mehmet\\Desktop\\new_splited_wheat_dataset\\tmp_train\\images\\Bezostaja1Vitreous\\Bezostaja V.jpg: corrupt JPEG restored and saved\n",
      "\u001b[34m\u001b[1mtrain: \u001b[0mWARNING  C:\\Users\\Mehmet\\Desktop\\new_splited_wheat_dataset\\tmp_train\\images\\Delabrad2Vitreous\\20220427_122113.jpg: corrupt JPEG restored and saved\n",
      "\u001b[34m\u001b[1mtrain: \u001b[0mWARNING  C:\\Users\\Mehmet\\Desktop\\new_splited_wheat_dataset\\tmp_train\\images\\Delabrad2Vitreous\\20220427_122116.jpg: corrupt JPEG restored and saved\n",
      "\u001b[34m\u001b[1mtrain: \u001b[0mWARNING  C:\\Users\\Mehmet\\Desktop\\new_splited_wheat_dataset\\tmp_train\\images\\Delabrad2Vitreous\\20220427_122127.jpg: corrupt JPEG restored and saved\n",
      "\u001b[34m\u001b[1mtrain: \u001b[0mWARNING  C:\\Users\\Mehmet\\Desktop\\new_splited_wheat_dataset\\tmp_train\\images\\Delabrad2Vitreous\\20220427_122129.jpg: corrupt JPEG restored and saved\n",
      "\u001b[34m\u001b[1mtrain: \u001b[0mWARNING  C:\\Users\\Mehmet\\Desktop\\new_splited_wheat_dataset\\tmp_train\\images\\Delabrad2Vitreous\\20220427_122201.jpg: corrupt JPEG restored and saved\n",
      "\u001b[34m\u001b[1mtrain: \u001b[0mWARNING  C:\\Users\\Mehmet\\Desktop\\new_splited_wheat_dataset\\tmp_train\\images\\Delabrad2Vitreous\\20220427_122204.jpg: corrupt JPEG restored and saved\n",
      "\u001b[34m\u001b[1mtrain: \u001b[0mWARNING  C:\\Users\\Mehmet\\Desktop\\new_splited_wheat_dataset\\tmp_train\\images\\Delabrad2Vitreous\\20220427_122206.jpg: corrupt JPEG restored and saved\n",
      "\u001b[34m\u001b[1mtrain: \u001b[0mWARNING  C:\\Users\\Mehmet\\Desktop\\new_splited_wheat_dataset\\tmp_train\\images\\Delabrad2Vitreous\\20220427_122209.jpg: corrupt JPEG restored and saved\n",
      "\u001b[34m\u001b[1mtrain: \u001b[0mWARNING  C:\\Users\\Mehmet\\Desktop\\new_splited_wheat_dataset\\tmp_train\\images\\Delabrad2Vitreous\\20220427_122212.jpg: corrupt JPEG restored and saved\n",
      "\u001b[34m\u001b[1mtrain: \u001b[0mWARNING  C:\\Users\\Mehmet\\Desktop\\new_splited_wheat_dataset\\tmp_train\\images\\Delabrad2Vitreous\\20220427_122214.jpg: corrupt JPEG restored and saved\n",
      "\u001b[34m\u001b[1mtrain: \u001b[0mWARNING  C:\\Users\\Mehmet\\Desktop\\new_splited_wheat_dataset\\tmp_train\\images\\Delabrad2Vitreous\\20220427_122216.jpg: corrupt JPEG restored and saved\n",
      "\u001b[34m\u001b[1mtrain: \u001b[0mWARNING  C:\\Users\\Mehmet\\Desktop\\new_splited_wheat_dataset\\tmp_train\\images\\Delabrad2Vitreous\\20220427_122229.jpg: corrupt JPEG restored and saved\n",
      "\u001b[34m\u001b[1mtrain: \u001b[0mWARNING  C:\\Users\\Mehmet\\Desktop\\new_splited_wheat_dataset\\tmp_train\\images\\Delabrad2Vitreous\\20220427_122232.jpg: corrupt JPEG restored and saved\n",
      "\u001b[34m\u001b[1mtrain: \u001b[0mWARNING  C:\\Users\\Mehmet\\Desktop\\new_splited_wheat_dataset\\tmp_train\\images\\Delabrad2Vitreous\\20220427_122242.jpg: corrupt JPEG restored and saved\n",
      "\u001b[34m\u001b[1mtrain: \u001b[0mWARNING  C:\\Users\\Mehmet\\Desktop\\new_splited_wheat_dataset\\tmp_train\\images\\Delabrad2Vitreous\\20220427_122245.jpg: corrupt JPEG restored and saved\n",
      "\u001b[34m\u001b[1mtrain: \u001b[0mWARNING  C:\\Users\\Mehmet\\Desktop\\new_splited_wheat_dataset\\tmp_train\\images\\Delabrad2Vitreous\\20220427_122251.jpg: corrupt JPEG restored and saved\n",
      "\u001b[34m\u001b[1mtrain: \u001b[0mWARNING  C:\\Users\\Mehmet\\Desktop\\new_splited_wheat_dataset\\tmp_train\\images\\Delabrad2Vitreous\\20220427_122311.jpg: corrupt JPEG restored and saved\n",
      "\u001b[34m\u001b[1mtrain: \u001b[0mWARNING  C:\\Users\\Mehmet\\Desktop\\new_splited_wheat_dataset\\tmp_train\\images\\Delabrad2Vitreous\\20220427_122315.jpg: corrupt JPEG restored and saved\n",
      "\u001b[34m\u001b[1mtrain: \u001b[0mWARNING  C:\\Users\\Mehmet\\Desktop\\new_splited_wheat_dataset\\tmp_train\\images\\Delabrad2Vitreous\\20220427_122319.jpg: corrupt JPEG restored and saved\n",
      "\u001b[34m\u001b[1mtrain: \u001b[0mWARNING  C:\\Users\\Mehmet\\Desktop\\new_splited_wheat_dataset\\tmp_train\\images\\Delabrad2Vitreous\\20220427_122326.jpg: corrupt JPEG restored and saved\n",
      "\u001b[34m\u001b[1mtrain: \u001b[0mWARNING  C:\\Users\\Mehmet\\Desktop\\new_splited_wheat_dataset\\tmp_train\\images\\Delabrad2Vitreous\\20220427_122334.jpg: corrupt JPEG restored and saved\n",
      "\u001b[34m\u001b[1mtrain: \u001b[0mWARNING  C:\\Users\\Mehmet\\Desktop\\new_splited_wheat_dataset\\tmp_train\\images\\Delabrad2Vitreous\\20220427_122340.jpg: corrupt JPEG restored and saved\n",
      "\u001b[34m\u001b[1mtrain: \u001b[0mWARNING  C:\\Users\\Mehmet\\Desktop\\new_splited_wheat_dataset\\tmp_train\\images\\Delabrad2Vitreous\\20220427_122342.jpg: corrupt JPEG restored and saved\n",
      "\u001b[34m\u001b[1mtrain: \u001b[0mWARNING  C:\\Users\\Mehmet\\Desktop\\new_splited_wheat_dataset\\tmp_train\\images\\Delabrad2Vitreous\\20220427_122346.jpg: corrupt JPEG restored and saved\n",
      "\u001b[34m\u001b[1mtrain: \u001b[0mWARNING  C:\\Users\\Mehmet\\Desktop\\new_splited_wheat_dataset\\tmp_train\\images\\Delabrad2Vitreous\\20220427_122348.jpg: corrupt JPEG restored and saved\n",
      "\u001b[34m\u001b[1mtrain: \u001b[0mWARNING  C:\\Users\\Mehmet\\Desktop\\new_splited_wheat_dataset\\tmp_train\\images\\Delabrad2Vitreous\\20220427_122350.jpg: corrupt JPEG restored and saved\n",
      "\u001b[34m\u001b[1mtrain: \u001b[0mWARNING  C:\\Users\\Mehmet\\Desktop\\new_splited_wheat_dataset\\tmp_train\\images\\Delabrad2Vitreous\\20220427_122357.jpg: corrupt JPEG restored and saved\n",
      "\u001b[34m\u001b[1mtrain: \u001b[0mWARNING  C:\\Users\\Mehmet\\Desktop\\new_splited_wheat_dataset\\tmp_train\\images\\Delabrad2Vitreous\\20220427_122400.jpg: corrupt JPEG restored and saved\n",
      "\u001b[34m\u001b[1mtrain: \u001b[0mWARNING  C:\\Users\\Mehmet\\Desktop\\new_splited_wheat_dataset\\tmp_train\\images\\Delabrad2Vitreous\\20220427_122415.jpg: corrupt JPEG restored and saved\n",
      "\u001b[34m\u001b[1mtrain: \u001b[0mWARNING  C:\\Users\\Mehmet\\Desktop\\new_splited_wheat_dataset\\tmp_train\\images\\Delabrad2Vitreous\\20220427_122420.jpg: corrupt JPEG restored and saved\n",
      "\u001b[34m\u001b[1mtrain: \u001b[0mWARNING  C:\\Users\\Mehmet\\Desktop\\new_splited_wheat_dataset\\tmp_train\\images\\Delabrad2Vitreous\\20220427_122422.jpg: corrupt JPEG restored and saved\n",
      "\u001b[34m\u001b[1mtrain: \u001b[0mWARNING  C:\\Users\\Mehmet\\Desktop\\new_splited_wheat_dataset\\tmp_train\\images\\Delabrad2Vitreous\\20220427_122431.jpg: corrupt JPEG restored and saved\n",
      "\u001b[34m\u001b[1mtrain: \u001b[0mWARNING  C:\\Users\\Mehmet\\Desktop\\new_splited_wheat_dataset\\tmp_train\\images\\Delabrad2Vitreous\\20220427_122433.jpg: corrupt JPEG restored and saved\n",
      "\u001b[34m\u001b[1mtrain: \u001b[0mWARNING  C:\\Users\\Mehmet\\Desktop\\new_splited_wheat_dataset\\tmp_train\\images\\Delabrad2Vitreous\\20220427_122435.jpg: corrupt JPEG restored and saved\n",
      "\u001b[34m\u001b[1mtrain: \u001b[0mWARNING  C:\\Users\\Mehmet\\Desktop\\new_splited_wheat_dataset\\tmp_train\\images\\Delabrad2Vitreous\\20220427_122439.jpg: corrupt JPEG restored and saved\n",
      "\u001b[34m\u001b[1mtrain: \u001b[0mWARNING  C:\\Users\\Mehmet\\Desktop\\new_splited_wheat_dataset\\tmp_train\\images\\Delabrad2Vitreous\\20220427_122442.jpg: corrupt JPEG restored and saved\n",
      "\u001b[34m\u001b[1mtrain: \u001b[0mWARNING  C:\\Users\\Mehmet\\Desktop\\new_splited_wheat_dataset\\tmp_train\\images\\Delabrad2Vitreous\\20220427_122444.jpg: corrupt JPEG restored and saved\n",
      "\u001b[34m\u001b[1mtrain: \u001b[0mWARNING  C:\\Users\\Mehmet\\Desktop\\new_splited_wheat_dataset\\tmp_train\\images\\Delabrad2Vitreous\\20220427_122449.jpg: corrupt JPEG restored and saved\n",
      "\u001b[34m\u001b[1mtrain: \u001b[0mWARNING  C:\\Users\\Mehmet\\Desktop\\new_splited_wheat_dataset\\tmp_train\\images\\Delabrad2Vitreous\\20220427_122455.jpg: corrupt JPEG restored and saved\n",
      "\u001b[34m\u001b[1mtrain: \u001b[0mWARNING  C:\\Users\\Mehmet\\Desktop\\new_splited_wheat_dataset\\tmp_train\\images\\Delabrad2Vitreous\\20220427_122503.jpg: corrupt JPEG restored and saved\n",
      "\u001b[34m\u001b[1mtrain: \u001b[0mWARNING  C:\\Users\\Mehmet\\Desktop\\new_splited_wheat_dataset\\tmp_train\\images\\Delabrad2Vitreous\\20220427_122511.jpg: corrupt JPEG restored and saved\n",
      "\u001b[34m\u001b[1mtrain: \u001b[0mWARNING  C:\\Users\\Mehmet\\Desktop\\new_splited_wheat_dataset\\tmp_train\\images\\Delabrad2Vitreous\\20220427_122514.jpg: corrupt JPEG restored and saved\n",
      "\u001b[34m\u001b[1mtrain: \u001b[0mWARNING  C:\\Users\\Mehmet\\Desktop\\new_splited_wheat_dataset\\tmp_train\\images\\Delabrad2Vitreous\\20220427_122517.jpg: corrupt JPEG restored and saved\n",
      "\u001b[34m\u001b[1mtrain: \u001b[0mWARNING  C:\\Users\\Mehmet\\Desktop\\new_splited_wheat_dataset\\tmp_train\\images\\Delabrad2Vitreous\\20220427_122521.jpg: corrupt JPEG restored and saved\n",
      "\u001b[34m\u001b[1mtrain: \u001b[0mWARNING  C:\\Users\\Mehmet\\Desktop\\new_splited_wheat_dataset\\tmp_train\\images\\Delabrad2Vitreous\\20220427_122527.jpg: corrupt JPEG restored and saved\n",
      "\u001b[34m\u001b[1mtrain: \u001b[0mWARNING  C:\\Users\\Mehmet\\Desktop\\new_splited_wheat_dataset\\tmp_train\\images\\Delabrad2Vitreous\\20220427_122529.jpg: corrupt JPEG restored and saved\n",
      "\u001b[34m\u001b[1mtrain: \u001b[0mWARNING  C:\\Users\\Mehmet\\Desktop\\new_splited_wheat_dataset\\tmp_train\\images\\Delabrad2Vitreous\\20220427_122534.jpg: corrupt JPEG restored and saved\n",
      "\u001b[34m\u001b[1mtrain: \u001b[0mWARNING  C:\\Users\\Mehmet\\Desktop\\new_splited_wheat_dataset\\tmp_train\\images\\Delabrad2Vitreous\\20220427_122538.jpg: corrupt JPEG restored and saved\n",
      "\u001b[34m\u001b[1mtrain: \u001b[0mWARNING  C:\\Users\\Mehmet\\Desktop\\new_splited_wheat_dataset\\tmp_train\\images\\Delabrad2Vitreous\\20220427_122543.jpg: corrupt JPEG restored and saved\n",
      "\u001b[34m\u001b[1mtrain: \u001b[0mWARNING  C:\\Users\\Mehmet\\Desktop\\new_splited_wheat_dataset\\tmp_train\\images\\Delabrad2Vitreous\\20220427_122545.jpg: corrupt JPEG restored and saved\n",
      "\u001b[34m\u001b[1mtrain: \u001b[0mWARNING  C:\\Users\\Mehmet\\Desktop\\new_splited_wheat_dataset\\tmp_train\\images\\Delabrad2Vitreous\\20220427_122551.jpg: corrupt JPEG restored and saved\n",
      "\u001b[34m\u001b[1mtrain: \u001b[0mWARNING  C:\\Users\\Mehmet\\Desktop\\new_splited_wheat_dataset\\tmp_train\\images\\Delabrad2Vitreous\\20220427_122608.jpg: corrupt JPEG restored and saved\n",
      "\u001b[34m\u001b[1mtrain: \u001b[0mWARNING  C:\\Users\\Mehmet\\Desktop\\new_splited_wheat_dataset\\tmp_train\\images\\Delabrad2Vitreous\\20220427_122613.jpg: corrupt JPEG restored and saved\n",
      "\u001b[34m\u001b[1mtrain: \u001b[0mWARNING  C:\\Users\\Mehmet\\Desktop\\new_splited_wheat_dataset\\tmp_train\\images\\Delabrad2Vitreous\\20220427_122615.jpg: corrupt JPEG restored and saved\n",
      "\u001b[34m\u001b[1mtrain: \u001b[0mWARNING  C:\\Users\\Mehmet\\Desktop\\new_splited_wheat_dataset\\tmp_train\\images\\Delabrad2Vitreous\\20220427_122619.jpg: corrupt JPEG restored and saved\n",
      "\u001b[34m\u001b[1mtrain: \u001b[0mWARNING  C:\\Users\\Mehmet\\Desktop\\new_splited_wheat_dataset\\tmp_train\\images\\Delabrad2Vitreous\\20220427_122621.jpg: corrupt JPEG restored and saved\n",
      "\u001b[34m\u001b[1mtrain: \u001b[0mWARNING  C:\\Users\\Mehmet\\Desktop\\new_splited_wheat_dataset\\tmp_train\\images\\Delabrad2Vitreous\\20220427_122623.jpg: corrupt JPEG restored and saved\n",
      "\u001b[34m\u001b[1mtrain: \u001b[0mWARNING  C:\\Users\\Mehmet\\Desktop\\new_splited_wheat_dataset\\tmp_train\\images\\Delabrad2Vitreous\\20220427_122625.jpg: corrupt JPEG restored and saved\n",
      "\u001b[34m\u001b[1mtrain: \u001b[0mWARNING  C:\\Users\\Mehmet\\Desktop\\new_splited_wheat_dataset\\tmp_train\\images\\Delabrad2Vitreous\\20220427_122627.jpg: corrupt JPEG restored and saved\n",
      "\u001b[34m\u001b[1mtrain: \u001b[0mWARNING  C:\\Users\\Mehmet\\Desktop\\new_splited_wheat_dataset\\tmp_train\\images\\Delabrad2Vitreous\\20220427_122642.jpg: corrupt JPEG restored and saved\n",
      "\u001b[34m\u001b[1mtrain: \u001b[0mWARNING  C:\\Users\\Mehmet\\Desktop\\new_splited_wheat_dataset\\tmp_train\\images\\Delabrad2Vitreous\\20220427_122702.jpg: corrupt JPEG restored and saved\n",
      "\u001b[34m\u001b[1mtrain: \u001b[0mWARNING  C:\\Users\\Mehmet\\Desktop\\new_splited_wheat_dataset\\tmp_train\\images\\Delabrad2Vitreous\\20220427_122704.jpg: corrupt JPEG restored and saved\n",
      "\u001b[34m\u001b[1mtrain: \u001b[0mWARNING  C:\\Users\\Mehmet\\Desktop\\new_splited_wheat_dataset\\tmp_train\\images\\EkizVitreous\\20220426_163544.jpg: corrupt JPEG restored and saved\n",
      "\u001b[34m\u001b[1mtrain: \u001b[0mWARNING  C:\\Users\\Mehmet\\Desktop\\new_splited_wheat_dataset\\tmp_train\\images\\EkizVitreous\\20220426_163549.jpg: corrupt JPEG restored and saved\n",
      "\u001b[34m\u001b[1mtrain: \u001b[0mWARNING  C:\\Users\\Mehmet\\Desktop\\new_splited_wheat_dataset\\tmp_train\\images\\EkizVitreous\\20220426_163552.jpg: corrupt JPEG restored and saved\n",
      "\u001b[34m\u001b[1mtrain: \u001b[0mWARNING  C:\\Users\\Mehmet\\Desktop\\new_splited_wheat_dataset\\tmp_train\\images\\EkizVitreous\\20220426_163555.jpg: corrupt JPEG restored and saved\n",
      "\u001b[34m\u001b[1mtrain: \u001b[0mWARNING  C:\\Users\\Mehmet\\Desktop\\new_splited_wheat_dataset\\tmp_train\\images\\EkizVitreous\\20220426_163558.jpg: corrupt JPEG restored and saved\n",
      "\u001b[34m\u001b[1mtrain: \u001b[0mWARNING  C:\\Users\\Mehmet\\Desktop\\new_splited_wheat_dataset\\tmp_train\\images\\EkizVitreous\\20220426_163607.jpg: corrupt JPEG restored and saved\n",
      "\u001b[34m\u001b[1mtrain: \u001b[0mWARNING  C:\\Users\\Mehmet\\Desktop\\new_splited_wheat_dataset\\tmp_train\\images\\EkizVitreous\\20220426_163611.jpg: corrupt JPEG restored and saved\n",
      "\u001b[34m\u001b[1mtrain: \u001b[0mWARNING  C:\\Users\\Mehmet\\Desktop\\new_splited_wheat_dataset\\tmp_train\\images\\EkizVitreous\\20220426_163613.jpg: corrupt JPEG restored and saved\n",
      "\u001b[34m\u001b[1mtrain: \u001b[0mWARNING  C:\\Users\\Mehmet\\Desktop\\new_splited_wheat_dataset\\tmp_train\\images\\EkizVitreous\\20220426_163631.jpg: corrupt JPEG restored and saved\n",
      "\u001b[34m\u001b[1mtrain: \u001b[0mWARNING  C:\\Users\\Mehmet\\Desktop\\new_splited_wheat_dataset\\tmp_train\\images\\EkizVitreous\\20220426_163634.jpg: corrupt JPEG restored and saved\n",
      "\u001b[34m\u001b[1mtrain: \u001b[0mWARNING  C:\\Users\\Mehmet\\Desktop\\new_splited_wheat_dataset\\tmp_train\\images\\EkizVitreous\\20220426_163637.jpg: corrupt JPEG restored and saved\n",
      "\u001b[34m\u001b[1mtrain: \u001b[0mWARNING  C:\\Users\\Mehmet\\Desktop\\new_splited_wheat_dataset\\tmp_train\\images\\EkizVitreous\\20220426_163640.jpg: corrupt JPEG restored and saved\n",
      "\u001b[34m\u001b[1mtrain: \u001b[0mWARNING  C:\\Users\\Mehmet\\Desktop\\new_splited_wheat_dataset\\tmp_train\\images\\EkizVitreous\\20220426_163646.jpg: corrupt JPEG restored and saved\n",
      "\u001b[34m\u001b[1mtrain: \u001b[0mWARNING  C:\\Users\\Mehmet\\Desktop\\new_splited_wheat_dataset\\tmp_train\\images\\EkizVitreous\\20220426_163658.jpg: corrupt JPEG restored and saved\n",
      "\u001b[34m\u001b[1mtrain: \u001b[0mWARNING  C:\\Users\\Mehmet\\Desktop\\new_splited_wheat_dataset\\tmp_train\\images\\EkizVitreous\\20220426_163700.jpg: corrupt JPEG restored and saved\n",
      "\u001b[34m\u001b[1mtrain: \u001b[0mWARNING  C:\\Users\\Mehmet\\Desktop\\new_splited_wheat_dataset\\tmp_train\\images\\EkizVitreous\\20220426_163703.jpg: corrupt JPEG restored and saved\n",
      "\u001b[34m\u001b[1mtrain: \u001b[0mWARNING  C:\\Users\\Mehmet\\Desktop\\new_splited_wheat_dataset\\tmp_train\\images\\EkizVitreous\\20220426_163705.jpg: corrupt JPEG restored and saved\n",
      "\u001b[34m\u001b[1mtrain: \u001b[0mWARNING  C:\\Users\\Mehmet\\Desktop\\new_splited_wheat_dataset\\tmp_train\\images\\EkizVitreous\\20220426_163724.jpg: corrupt JPEG restored and saved\n",
      "\u001b[34m\u001b[1mtrain: \u001b[0mWARNING  C:\\Users\\Mehmet\\Desktop\\new_splited_wheat_dataset\\tmp_train\\images\\EkizVitreous\\20220426_163744.jpg: corrupt JPEG restored and saved\n",
      "\u001b[34m\u001b[1mtrain: \u001b[0mWARNING  C:\\Users\\Mehmet\\Desktop\\new_splited_wheat_dataset\\tmp_train\\images\\EkizVitreous\\20220426_163748.jpg: corrupt JPEG restored and saved\n",
      "\u001b[34m\u001b[1mtrain: \u001b[0mWARNING  C:\\Users\\Mehmet\\Desktop\\new_splited_wheat_dataset\\tmp_train\\images\\EkizVitreous\\20220426_163751.jpg: corrupt JPEG restored and saved\n",
      "\u001b[34m\u001b[1mtrain: \u001b[0mWARNING  C:\\Users\\Mehmet\\Desktop\\new_splited_wheat_dataset\\tmp_train\\images\\EkizVitreous\\20220426_163813.jpg: corrupt JPEG restored and saved\n",
      "\u001b[34m\u001b[1mtrain: \u001b[0mWARNING  C:\\Users\\Mehmet\\Desktop\\new_splited_wheat_dataset\\tmp_train\\images\\EkizVitreous\\20220426_163818.jpg: corrupt JPEG restored and saved\n",
      "\u001b[34m\u001b[1mtrain: \u001b[0mWARNING  C:\\Users\\Mehmet\\Desktop\\new_splited_wheat_dataset\\tmp_train\\images\\EkizVitreous\\20220426_163832.jpg: corrupt JPEG restored and saved\n",
      "\u001b[34m\u001b[1mtrain: \u001b[0mWARNING  C:\\Users\\Mehmet\\Desktop\\new_splited_wheat_dataset\\tmp_train\\images\\EkizVitreous\\20220426_163836.jpg: corrupt JPEG restored and saved\n",
      "\u001b[34m\u001b[1mtrain: \u001b[0mWARNING  C:\\Users\\Mehmet\\Desktop\\new_splited_wheat_dataset\\tmp_train\\images\\EkizVitreous\\20220426_163841.jpg: corrupt JPEG restored and saved\n",
      "\u001b[34m\u001b[1mtrain: \u001b[0mWARNING  C:\\Users\\Mehmet\\Desktop\\new_splited_wheat_dataset\\tmp_train\\images\\EkizVitreous\\20220426_163844.jpg: corrupt JPEG restored and saved\n",
      "\u001b[34m\u001b[1mtrain: \u001b[0mWARNING  C:\\Users\\Mehmet\\Desktop\\new_splited_wheat_dataset\\tmp_train\\images\\EkizVitreous\\20220426_163847.jpg: corrupt JPEG restored and saved\n",
      "\u001b[34m\u001b[1mtrain: \u001b[0mWARNING  C:\\Users\\Mehmet\\Desktop\\new_splited_wheat_dataset\\tmp_train\\images\\EkizVitreous\\20220426_163851.jpg: corrupt JPEG restored and saved\n",
      "\u001b[34m\u001b[1mtrain: \u001b[0mWARNING  C:\\Users\\Mehmet\\Desktop\\new_splited_wheat_dataset\\tmp_train\\images\\EkizVitreous\\20220426_163854.jpg: corrupt JPEG restored and saved\n",
      "\u001b[34m\u001b[1mtrain: \u001b[0mWARNING  C:\\Users\\Mehmet\\Desktop\\new_splited_wheat_dataset\\tmp_train\\images\\EkizVitreous\\20220426_163856.jpg: corrupt JPEG restored and saved\n",
      "\u001b[34m\u001b[1mtrain: \u001b[0mWARNING  C:\\Users\\Mehmet\\Desktop\\new_splited_wheat_dataset\\tmp_train\\images\\EkizVitreous\\20220426_163909.jpg: corrupt JPEG restored and saved\n",
      "\u001b[34m\u001b[1mtrain: \u001b[0mWARNING  C:\\Users\\Mehmet\\Desktop\\new_splited_wheat_dataset\\tmp_train\\images\\EkizVitreous\\20220426_163912.jpg: corrupt JPEG restored and saved\n",
      "\u001b[34m\u001b[1mtrain: \u001b[0mWARNING  C:\\Users\\Mehmet\\Desktop\\new_splited_wheat_dataset\\tmp_train\\images\\EkizVitreous\\20220426_163915.jpg: corrupt JPEG restored and saved\n",
      "\u001b[34m\u001b[1mtrain: \u001b[0mWARNING  C:\\Users\\Mehmet\\Desktop\\new_splited_wheat_dataset\\tmp_train\\images\\EkizVitreous\\20220426_163918.jpg: corrupt JPEG restored and saved\n",
      "\u001b[34m\u001b[1mtrain: \u001b[0mWARNING  C:\\Users\\Mehmet\\Desktop\\new_splited_wheat_dataset\\tmp_train\\images\\EkizVitreous\\20220426_163921.jpg: corrupt JPEG restored and saved\n",
      "\u001b[34m\u001b[1mtrain: \u001b[0mWARNING  C:\\Users\\Mehmet\\Desktop\\new_splited_wheat_dataset\\tmp_train\\images\\EkizVitreous\\20220426_163926.jpg: corrupt JPEG restored and saved\n",
      "\u001b[34m\u001b[1mtrain: \u001b[0mWARNING  C:\\Users\\Mehmet\\Desktop\\new_splited_wheat_dataset\\tmp_train\\images\\EkizVitreous\\20220426_163930.jpg: corrupt JPEG restored and saved\n",
      "\u001b[34m\u001b[1mtrain: \u001b[0mWARNING  C:\\Users\\Mehmet\\Desktop\\new_splited_wheat_dataset\\tmp_train\\images\\EkizVitreous\\20220426_163939.jpg: corrupt JPEG restored and saved\n",
      "\u001b[34m\u001b[1mtrain: \u001b[0mWARNING  C:\\Users\\Mehmet\\Desktop\\new_splited_wheat_dataset\\tmp_train\\images\\EkizVitreous\\20220426_163941.jpg: corrupt JPEG restored and saved\n",
      "\u001b[34m\u001b[1mtrain: \u001b[0mWARNING  C:\\Users\\Mehmet\\Desktop\\new_splited_wheat_dataset\\tmp_train\\images\\EkizVitreous\\20220426_163943.jpg: corrupt JPEG restored and saved\n",
      "\u001b[34m\u001b[1mtrain: \u001b[0mWARNING  C:\\Users\\Mehmet\\Desktop\\new_splited_wheat_dataset\\tmp_train\\images\\EkizVitreous\\20220426_163945.jpg: corrupt JPEG restored and saved\n",
      "\u001b[34m\u001b[1mtrain: \u001b[0mWARNING  C:\\Users\\Mehmet\\Desktop\\new_splited_wheat_dataset\\tmp_train\\images\\EkizVitreous\\20220426_163950.jpg: corrupt JPEG restored and saved\n",
      "\u001b[34m\u001b[1mtrain: \u001b[0mWARNING  C:\\Users\\Mehmet\\Desktop\\new_splited_wheat_dataset\\tmp_train\\images\\EkizVitreous\\20220426_163953.jpg: corrupt JPEG restored and saved\n",
      "\u001b[34m\u001b[1mtrain: \u001b[0mWARNING  C:\\Users\\Mehmet\\Desktop\\new_splited_wheat_dataset\\tmp_train\\images\\EkizVitreous\\20220426_163955.jpg: corrupt JPEG restored and saved\n",
      "\u001b[34m\u001b[1mtrain: \u001b[0mWARNING  C:\\Users\\Mehmet\\Desktop\\new_splited_wheat_dataset\\tmp_train\\images\\EkizVitreous\\20220426_163957.jpg: corrupt JPEG restored and saved\n",
      "\u001b[34m\u001b[1mtrain: \u001b[0mWARNING  C:\\Users\\Mehmet\\Desktop\\new_splited_wheat_dataset\\tmp_train\\images\\EkizVitreous\\20220426_164001.jpg: corrupt JPEG restored and saved\n",
      "\u001b[34m\u001b[1mtrain: \u001b[0mWARNING  C:\\Users\\Mehmet\\Desktop\\new_splited_wheat_dataset\\tmp_train\\images\\EkizVitreous\\20220426_164004.jpg: corrupt JPEG restored and saved\n",
      "\u001b[34m\u001b[1mtrain: \u001b[0mWARNING  C:\\Users\\Mehmet\\Desktop\\new_splited_wheat_dataset\\tmp_train\\images\\EkizVitreous\\20220426_164006.jpg: corrupt JPEG restored and saved\n",
      "\u001b[34m\u001b[1mtrain: \u001b[0mWARNING  C:\\Users\\Mehmet\\Desktop\\new_splited_wheat_dataset\\tmp_train\\images\\EkizVitreous\\20220426_164009.jpg: corrupt JPEG restored and saved\n",
      "\u001b[34m\u001b[1mtrain: \u001b[0mWARNING  C:\\Users\\Mehmet\\Desktop\\new_splited_wheat_dataset\\tmp_train\\images\\EkizVitreous\\20220426_164011.jpg: corrupt JPEG restored and saved\n",
      "\u001b[34m\u001b[1mtrain: \u001b[0mWARNING  C:\\Users\\Mehmet\\Desktop\\new_splited_wheat_dataset\\tmp_train\\images\\EkizVitreous\\20220426_164013.jpg: corrupt JPEG restored and saved\n",
      "\u001b[34m\u001b[1mtrain: \u001b[0mWARNING  C:\\Users\\Mehmet\\Desktop\\new_splited_wheat_dataset\\tmp_train\\images\\EkizVitreous\\20220426_164016.jpg: corrupt JPEG restored and saved\n",
      "\u001b[34m\u001b[1mtrain: \u001b[0mWARNING  C:\\Users\\Mehmet\\Desktop\\new_splited_wheat_dataset\\tmp_train\\images\\EkizVitreous\\20220426_164019.jpg: corrupt JPEG restored and saved\n",
      "\u001b[34m\u001b[1mtrain: \u001b[0mWARNING  C:\\Users\\Mehmet\\Desktop\\new_splited_wheat_dataset\\tmp_train\\images\\EkizVitreous\\20220426_164031.jpg: corrupt JPEG restored and saved\n",
      "\u001b[34m\u001b[1mtrain: \u001b[0mWARNING  C:\\Users\\Mehmet\\Desktop\\new_splited_wheat_dataset\\tmp_train\\images\\EkizVitreous\\20220426_164038.jpg: corrupt JPEG restored and saved\n",
      "\u001b[34m\u001b[1mtrain: \u001b[0mWARNING  C:\\Users\\Mehmet\\Desktop\\new_splited_wheat_dataset\\tmp_train\\images\\EkizVitreous\\20220426_164040.jpg: corrupt JPEG restored and saved\n",
      "\u001b[34m\u001b[1mtrain: \u001b[0mWARNING  C:\\Users\\Mehmet\\Desktop\\new_splited_wheat_dataset\\tmp_train\\images\\EkizVitreous\\20220426_164049.jpg: corrupt JPEG restored and saved\n",
      "\u001b[34m\u001b[1mtrain: \u001b[0mWARNING  C:\\Users\\Mehmet\\Desktop\\new_splited_wheat_dataset\\tmp_train\\images\\EkizVitreous\\20220426_164054.jpg: corrupt JPEG restored and saved\n",
      "\u001b[34m\u001b[1mtrain: \u001b[0mWARNING  C:\\Users\\Mehmet\\Desktop\\new_splited_wheat_dataset\\tmp_train\\images\\EkizVitreous\\20220426_164100.jpg: corrupt JPEG restored and saved\n",
      "\u001b[34m\u001b[1mtrain: \u001b[0mWARNING  C:\\Users\\Mehmet\\Desktop\\new_splited_wheat_dataset\\tmp_train\\images\\EkizVitreous\\20220426_164103.jpg: corrupt JPEG restored and saved\n",
      "\u001b[34m\u001b[1mtrain: \u001b[0mWARNING  C:\\Users\\Mehmet\\Desktop\\new_splited_wheat_dataset\\tmp_train\\images\\EkizVitreous\\20220426_164111.jpg: corrupt JPEG restored and saved\n",
      "\u001b[34m\u001b[1mtrain: \u001b[0mWARNING  C:\\Users\\Mehmet\\Desktop\\new_splited_wheat_dataset\\tmp_train\\images\\EkizVitreous\\20220426_164121.jpg: corrupt JPEG restored and saved\n",
      "\u001b[34m\u001b[1mtrain: \u001b[0mWARNING  C:\\Users\\Mehmet\\Desktop\\new_splited_wheat_dataset\\tmp_train\\images\\EkizVitreous\\20220426_164123.jpg: corrupt JPEG restored and saved\n",
      "\u001b[34m\u001b[1mtrain: \u001b[0mWARNING  C:\\Users\\Mehmet\\Desktop\\new_splited_wheat_dataset\\tmp_train\\images\\EkizVitreous\\20220426_164126.jpg: corrupt JPEG restored and saved\n",
      "\u001b[34m\u001b[1mtrain: \u001b[0mWARNING  C:\\Users\\Mehmet\\Desktop\\new_splited_wheat_dataset\\tmp_train\\images\\EkizVitreous\\20220426_164128.jpg: corrupt JPEG restored and saved\n",
      "\u001b[34m\u001b[1mtrain: \u001b[0mWARNING  C:\\Users\\Mehmet\\Desktop\\new_splited_wheat_dataset\\tmp_train\\images\\EkizVitreous\\20220426_164131.jpg: corrupt JPEG restored and saved\n",
      "\u001b[34m\u001b[1mtrain: \u001b[0mWARNING  C:\\Users\\Mehmet\\Desktop\\new_splited_wheat_dataset\\tmp_train\\images\\EkizVitreous\\20220426_164135.jpg: corrupt JPEG restored and saved\n",
      "\u001b[34m\u001b[1mtrain: \u001b[0mWARNING  C:\\Users\\Mehmet\\Desktop\\new_splited_wheat_dataset\\tmp_train\\images\\EkizVitreous\\20220426_164137.jpg: corrupt JPEG restored and saved\n",
      "\u001b[34m\u001b[1mtrain: \u001b[0mWARNING  C:\\Users\\Mehmet\\Desktop\\new_splited_wheat_dataset\\tmp_train\\images\\EkizVitreous\\20220426_164140.jpg: corrupt JPEG restored and saved\n",
      "\u001b[34m\u001b[1mtrain: \u001b[0mWARNING  C:\\Users\\Mehmet\\Desktop\\new_splited_wheat_dataset\\tmp_train\\images\\EkizVitreous\\20220426_164148.jpg: corrupt JPEG restored and saved\n",
      "\u001b[34m\u001b[1mtrain: \u001b[0mWARNING  C:\\Users\\Mehmet\\Desktop\\new_splited_wheat_dataset\\tmp_train\\images\\EkizVitreous\\20220426_164154.jpg: corrupt JPEG restored and saved\n",
      "\u001b[34m\u001b[1mtrain: \u001b[0mWARNING  C:\\Users\\Mehmet\\Desktop\\new_splited_wheat_dataset\\tmp_train\\images\\EkizVitreous\\20220426_164158.jpg: corrupt JPEG restored and saved\n",
      "\u001b[34m\u001b[1mtrain: \u001b[0mWARNING  C:\\Users\\Mehmet\\Desktop\\new_splited_wheat_dataset\\tmp_train\\images\\EsperiaVitreous\\20220425_170958.jpg: corrupt JPEG restored and saved\n",
      "\u001b[34m\u001b[1mtrain: \u001b[0mWARNING  C:\\Users\\Mehmet\\Desktop\\new_splited_wheat_dataset\\tmp_train\\images\\EsperiaVitreous\\20220425_171001.jpg: corrupt JPEG restored and saved\n",
      "\u001b[34m\u001b[1mtrain: \u001b[0mWARNING  C:\\Users\\Mehmet\\Desktop\\new_splited_wheat_dataset\\tmp_train\\images\\EsperiaVitreous\\20220425_171011.jpg: corrupt JPEG restored and saved\n",
      "\u001b[34m\u001b[1mtrain: \u001b[0mWARNING  C:\\Users\\Mehmet\\Desktop\\new_splited_wheat_dataset\\tmp_train\\images\\EsperiaVitreous\\20220425_171015.jpg: corrupt JPEG restored and saved\n",
      "\u001b[34m\u001b[1mtrain: \u001b[0mWARNING  C:\\Users\\Mehmet\\Desktop\\new_splited_wheat_dataset\\tmp_train\\images\\EsperiaVitreous\\20220425_171017.jpg: corrupt JPEG restored and saved\n",
      "\u001b[34m\u001b[1mtrain: \u001b[0mWARNING  C:\\Users\\Mehmet\\Desktop\\new_splited_wheat_dataset\\tmp_train\\images\\EsperiaVitreous\\20220425_171020.jpg: corrupt JPEG restored and saved\n",
      "\u001b[34m\u001b[1mtrain: \u001b[0mWARNING  C:\\Users\\Mehmet\\Desktop\\new_splited_wheat_dataset\\tmp_train\\images\\EsperiaVitreous\\20220425_171027.jpg: corrupt JPEG restored and saved\n",
      "\u001b[34m\u001b[1mtrain: \u001b[0mWARNING  C:\\Users\\Mehmet\\Desktop\\new_splited_wheat_dataset\\tmp_train\\images\\EsperiaVitreous\\20220425_171033.jpg: corrupt JPEG restored and saved\n",
      "\u001b[34m\u001b[1mtrain: \u001b[0mWARNING  C:\\Users\\Mehmet\\Desktop\\new_splited_wheat_dataset\\tmp_train\\images\\EsperiaVitreous\\20220425_171038.jpg: corrupt JPEG restored and saved\n",
      "\u001b[34m\u001b[1mtrain: \u001b[0mWARNING  C:\\Users\\Mehmet\\Desktop\\new_splited_wheat_dataset\\tmp_train\\images\\EsperiaVitreous\\20220425_171041.jpg: corrupt JPEG restored and saved\n",
      "\u001b[34m\u001b[1mtrain: \u001b[0mWARNING  C:\\Users\\Mehmet\\Desktop\\new_splited_wheat_dataset\\tmp_train\\images\\EsperiaVitreous\\20220425_171051.jpg: corrupt JPEG restored and saved\n",
      "\u001b[34m\u001b[1mtrain: \u001b[0mWARNING  C:\\Users\\Mehmet\\Desktop\\new_splited_wheat_dataset\\tmp_train\\images\\EsperiaVitreous\\20220425_171103.jpg: corrupt JPEG restored and saved\n",
      "\u001b[34m\u001b[1mtrain: \u001b[0mWARNING  C:\\Users\\Mehmet\\Desktop\\new_splited_wheat_dataset\\tmp_train\\images\\EsperiaVitreous\\20220425_171113.jpg: corrupt JPEG restored and saved\n",
      "\u001b[34m\u001b[1mtrain: \u001b[0mWARNING  C:\\Users\\Mehmet\\Desktop\\new_splited_wheat_dataset\\tmp_train\\images\\EsperiaVitreous\\20220425_171117.jpg: corrupt JPEG restored and saved\n",
      "\u001b[34m\u001b[1mtrain: \u001b[0mWARNING  C:\\Users\\Mehmet\\Desktop\\new_splited_wheat_dataset\\tmp_train\\images\\EsperiaVitreous\\20220425_171120.jpg: corrupt JPEG restored and saved\n",
      "\u001b[34m\u001b[1mtrain: \u001b[0mWARNING  C:\\Users\\Mehmet\\Desktop\\new_splited_wheat_dataset\\tmp_train\\images\\EsperiaVitreous\\20220425_171122.jpg: corrupt JPEG restored and saved\n",
      "\u001b[34m\u001b[1mtrain: \u001b[0mWARNING  C:\\Users\\Mehmet\\Desktop\\new_splited_wheat_dataset\\tmp_train\\images\\EsperiaVitreous\\20220425_171135.jpg: corrupt JPEG restored and saved\n",
      "\u001b[34m\u001b[1mtrain: \u001b[0mWARNING  C:\\Users\\Mehmet\\Desktop\\new_splited_wheat_dataset\\tmp_train\\images\\EsperiaVitreous\\20220425_171144.jpg: corrupt JPEG restored and saved\n",
      "\u001b[34m\u001b[1mtrain: \u001b[0mWARNING  C:\\Users\\Mehmet\\Desktop\\new_splited_wheat_dataset\\tmp_train\\images\\EsperiaVitreous\\20220425_171146.jpg: corrupt JPEG restored and saved\n",
      "\u001b[34m\u001b[1mtrain: \u001b[0mWARNING  C:\\Users\\Mehmet\\Desktop\\new_splited_wheat_dataset\\tmp_train\\images\\EsperiaVitreous\\20220425_171149.jpg: corrupt JPEG restored and saved\n",
      "\u001b[34m\u001b[1mtrain: \u001b[0mWARNING  C:\\Users\\Mehmet\\Desktop\\new_splited_wheat_dataset\\tmp_train\\images\\EsperiaVitreous\\20220425_171155.jpg: corrupt JPEG restored and saved\n",
      "\u001b[34m\u001b[1mtrain: \u001b[0mWARNING  C:\\Users\\Mehmet\\Desktop\\new_splited_wheat_dataset\\tmp_train\\images\\EsperiaVitreous\\20220425_171157.jpg: corrupt JPEG restored and saved\n",
      "\u001b[34m\u001b[1mtrain: \u001b[0mWARNING  C:\\Users\\Mehmet\\Desktop\\new_splited_wheat_dataset\\tmp_train\\images\\EsperiaVitreous\\20220425_171159.jpg: corrupt JPEG restored and saved\n",
      "\u001b[34m\u001b[1mtrain: \u001b[0mWARNING  C:\\Users\\Mehmet\\Desktop\\new_splited_wheat_dataset\\tmp_train\\images\\EsperiaVitreous\\20220425_171201.jpg: corrupt JPEG restored and saved\n",
      "\u001b[34m\u001b[1mtrain: \u001b[0mWARNING  C:\\Users\\Mehmet\\Desktop\\new_splited_wheat_dataset\\tmp_train\\images\\EsperiaVitreous\\20220425_171208.jpg: corrupt JPEG restored and saved\n",
      "\u001b[34m\u001b[1mtrain: \u001b[0mWARNING  C:\\Users\\Mehmet\\Desktop\\new_splited_wheat_dataset\\tmp_train\\images\\EsperiaVitreous\\20220425_171225.jpg: corrupt JPEG restored and saved\n",
      "\u001b[34m\u001b[1mtrain: \u001b[0mWARNING  C:\\Users\\Mehmet\\Desktop\\new_splited_wheat_dataset\\tmp_train\\images\\EsperiaVitreous\\20220425_171227.jpg: corrupt JPEG restored and saved\n",
      "\u001b[34m\u001b[1mtrain: \u001b[0mWARNING  C:\\Users\\Mehmet\\Desktop\\new_splited_wheat_dataset\\tmp_train\\images\\EsperiaVitreous\\20220425_171230.jpg: corrupt JPEG restored and saved\n",
      "\u001b[34m\u001b[1mtrain: \u001b[0mWARNING  C:\\Users\\Mehmet\\Desktop\\new_splited_wheat_dataset\\tmp_train\\images\\EsperiaVitreous\\20220425_171232.jpg: corrupt JPEG restored and saved\n",
      "\u001b[34m\u001b[1mtrain: \u001b[0mWARNING  C:\\Users\\Mehmet\\Desktop\\new_splited_wheat_dataset\\tmp_train\\images\\EsperiaVitreous\\20220425_171234.jpg: corrupt JPEG restored and saved\n",
      "\u001b[34m\u001b[1mtrain: \u001b[0mWARNING  C:\\Users\\Mehmet\\Desktop\\new_splited_wheat_dataset\\tmp_train\\images\\EsperiaVitreous\\20220425_171236.jpg: corrupt JPEG restored and saved\n",
      "\u001b[34m\u001b[1mtrain: \u001b[0mWARNING  C:\\Users\\Mehmet\\Desktop\\new_splited_wheat_dataset\\tmp_train\\images\\EsperiaVitreous\\20220425_171241.jpg: corrupt JPEG restored and saved\n",
      "\u001b[34m\u001b[1mtrain: \u001b[0mWARNING  C:\\Users\\Mehmet\\Desktop\\new_splited_wheat_dataset\\tmp_train\\images\\EsperiaVitreous\\20220425_171244.jpg: corrupt JPEG restored and saved\n",
      "\u001b[34m\u001b[1mtrain: \u001b[0mWARNING  C:\\Users\\Mehmet\\Desktop\\new_splited_wheat_dataset\\tmp_train\\images\\EsperiaVitreous\\20220425_171258.jpg: corrupt JPEG restored and saved\n",
      "\u001b[34m\u001b[1mtrain: \u001b[0mWARNING  C:\\Users\\Mehmet\\Desktop\\new_splited_wheat_dataset\\tmp_train\\images\\EsperiaVitreous\\20220425_171301.jpg: corrupt JPEG restored and saved\n",
      "\u001b[34m\u001b[1mtrain: \u001b[0mWARNING  C:\\Users\\Mehmet\\Desktop\\new_splited_wheat_dataset\\tmp_train\\images\\EsperiaVitreous\\20220425_171303.jpg: corrupt JPEG restored and saved\n",
      "\u001b[34m\u001b[1mtrain: \u001b[0mWARNING  C:\\Users\\Mehmet\\Desktop\\new_splited_wheat_dataset\\tmp_train\\images\\EsperiaVitreous\\20220425_171314.jpg: corrupt JPEG restored and saved\n",
      "\u001b[34m\u001b[1mtrain: \u001b[0mWARNING  C:\\Users\\Mehmet\\Desktop\\new_splited_wheat_dataset\\tmp_train\\images\\EsperiaVitreous\\20220425_171317.jpg: corrupt JPEG restored and saved\n",
      "\u001b[34m\u001b[1mtrain: \u001b[0mWARNING  C:\\Users\\Mehmet\\Desktop\\new_splited_wheat_dataset\\tmp_train\\images\\EsperiaVitreous\\20220425_171320.jpg: corrupt JPEG restored and saved\n",
      "\u001b[34m\u001b[1mtrain: \u001b[0mWARNING  C:\\Users\\Mehmet\\Desktop\\new_splited_wheat_dataset\\tmp_train\\images\\EsperiaVitreous\\20220425_171329.jpg: corrupt JPEG restored and saved\n",
      "\u001b[34m\u001b[1mtrain: \u001b[0mWARNING  C:\\Users\\Mehmet\\Desktop\\new_splited_wheat_dataset\\tmp_train\\images\\EsperiaVitreous\\20220425_171332.jpg: corrupt JPEG restored and saved\n",
      "\u001b[34m\u001b[1mtrain: \u001b[0mWARNING  C:\\Users\\Mehmet\\Desktop\\new_splited_wheat_dataset\\tmp_train\\images\\EsperiaVitreous\\20220425_171339.jpg: corrupt JPEG restored and saved\n",
      "\u001b[34m\u001b[1mtrain: \u001b[0mWARNING  C:\\Users\\Mehmet\\Desktop\\new_splited_wheat_dataset\\tmp_train\\images\\EsperiaVitreous\\20220425_171342.jpg: corrupt JPEG restored and saved\n",
      "\u001b[34m\u001b[1mtrain: \u001b[0mWARNING  C:\\Users\\Mehmet\\Desktop\\new_splited_wheat_dataset\\tmp_train\\images\\EsperiaVitreous\\20220425_171347.jpg: corrupt JPEG restored and saved\n",
      "\u001b[34m\u001b[1mtrain: \u001b[0mWARNING  C:\\Users\\Mehmet\\Desktop\\new_splited_wheat_dataset\\tmp_train\\images\\EsperiaVitreous\\20220425_171350.jpg: corrupt JPEG restored and saved\n",
      "\u001b[34m\u001b[1mtrain: \u001b[0mWARNING  C:\\Users\\Mehmet\\Desktop\\new_splited_wheat_dataset\\tmp_train\\images\\EsperiaVitreous\\20220425_171354.jpg: corrupt JPEG restored and saved\n",
      "\u001b[34m\u001b[1mtrain: \u001b[0mWARNING  C:\\Users\\Mehmet\\Desktop\\new_splited_wheat_dataset\\tmp_train\\images\\EsperiaVitreous\\20220425_171359.jpg: corrupt JPEG restored and saved\n",
      "\u001b[34m\u001b[1mtrain: \u001b[0mWARNING  C:\\Users\\Mehmet\\Desktop\\new_splited_wheat_dataset\\tmp_train\\images\\EsperiaVitreous\\20220425_171404.jpg: corrupt JPEG restored and saved\n",
      "\u001b[34m\u001b[1mtrain: \u001b[0mWARNING  C:\\Users\\Mehmet\\Desktop\\new_splited_wheat_dataset\\tmp_train\\images\\EsperiaVitreous\\20220425_171411.jpg: corrupt JPEG restored and saved\n",
      "\u001b[34m\u001b[1mtrain: \u001b[0mWARNING  C:\\Users\\Mehmet\\Desktop\\new_splited_wheat_dataset\\tmp_train\\images\\EsperiaVitreous\\20220425_171418.jpg: corrupt JPEG restored and saved\n",
      "\u001b[34m\u001b[1mtrain: \u001b[0mWARNING  C:\\Users\\Mehmet\\Desktop\\new_splited_wheat_dataset\\tmp_train\\images\\EsperiaVitreous\\20220425_171421.jpg: corrupt JPEG restored and saved\n",
      "\u001b[34m\u001b[1mtrain: \u001b[0mWARNING  C:\\Users\\Mehmet\\Desktop\\new_splited_wheat_dataset\\tmp_train\\images\\EsperiaVitreous\\20220425_171427.jpg: corrupt JPEG restored and saved\n",
      "\u001b[34m\u001b[1mtrain: \u001b[0mWARNING  C:\\Users\\Mehmet\\Desktop\\new_splited_wheat_dataset\\tmp_train\\images\\EsperiaVitreous\\20220425_171429.jpg: corrupt JPEG restored and saved\n",
      "\u001b[34m\u001b[1mtrain: \u001b[0mWARNING  C:\\Users\\Mehmet\\Desktop\\new_splited_wheat_dataset\\tmp_train\\images\\EsperiaVitreous\\20220425_171436.jpg: corrupt JPEG restored and saved\n",
      "\u001b[34m\u001b[1mtrain: \u001b[0mWARNING  C:\\Users\\Mehmet\\Desktop\\new_splited_wheat_dataset\\tmp_train\\images\\EsperiaVitreous\\20220425_171438.jpg: corrupt JPEG restored and saved\n",
      "\u001b[34m\u001b[1mtrain: \u001b[0mWARNING  C:\\Users\\Mehmet\\Desktop\\new_splited_wheat_dataset\\tmp_train\\images\\EsperiaVitreous\\20220425_171440.jpg: corrupt JPEG restored and saved\n",
      "\u001b[34m\u001b[1mtrain: \u001b[0mWARNING  C:\\Users\\Mehmet\\Desktop\\new_splited_wheat_dataset\\tmp_train\\images\\EsperiaVitreous\\20220425_171445.jpg: corrupt JPEG restored and saved\n",
      "\u001b[34m\u001b[1mtrain: \u001b[0mWARNING  C:\\Users\\Mehmet\\Desktop\\new_splited_wheat_dataset\\tmp_train\\images\\EsperiaVitreous\\20220425_171450.jpg: corrupt JPEG restored and saved\n",
      "\u001b[34m\u001b[1mtrain: \u001b[0mWARNING  C:\\Users\\Mehmet\\Desktop\\new_splited_wheat_dataset\\tmp_train\\images\\EsperiaVitreous\\20220425_171455.jpg: corrupt JPEG restored and saved\n",
      "\u001b[34m\u001b[1mtrain: \u001b[0mWARNING  C:\\Users\\Mehmet\\Desktop\\new_splited_wheat_dataset\\tmp_train\\images\\EsperiaVitreous\\20220425_171457.jpg: corrupt JPEG restored and saved\n",
      "\u001b[34m\u001b[1mtrain: \u001b[0mWARNING  C:\\Users\\Mehmet\\Desktop\\new_splited_wheat_dataset\\tmp_train\\images\\EsperiaVitreous\\20220425_171504.jpg: corrupt JPEG restored and saved\n",
      "\u001b[34m\u001b[1mtrain: \u001b[0mWARNING  C:\\Users\\Mehmet\\Desktop\\new_splited_wheat_dataset\\tmp_train\\images\\EsperiaVitreous\\20220425_171507.jpg: corrupt JPEG restored and saved\n",
      "\u001b[34m\u001b[1mtrain: \u001b[0mWARNING  C:\\Users\\Mehmet\\Desktop\\new_splited_wheat_dataset\\tmp_train\\images\\EsperiaVitreous\\20220425_171510.jpg: corrupt JPEG restored and saved\n",
      "\u001b[34m\u001b[1mtrain: \u001b[0mWARNING  C:\\Users\\Mehmet\\Desktop\\new_splited_wheat_dataset\\tmp_train\\images\\EsperiaVitreous\\20220425_171513.jpg: corrupt JPEG restored and saved\n",
      "\u001b[34m\u001b[1mtrain: \u001b[0mWARNING  C:\\Users\\Mehmet\\Desktop\\new_splited_wheat_dataset\\tmp_train\\images\\EsperiaVitreous\\20220425_171520.jpg: corrupt JPEG restored and saved\n",
      "\u001b[34m\u001b[1mtrain: \u001b[0mWARNING  C:\\Users\\Mehmet\\Desktop\\new_splited_wheat_dataset\\tmp_train\\images\\EsperiaVitreous\\20220425_171524.jpg: corrupt JPEG restored and saved\n",
      "\u001b[34m\u001b[1mtrain: \u001b[0mWARNING  C:\\Users\\Mehmet\\Desktop\\new_splited_wheat_dataset\\tmp_train\\images\\KiziltanVitreous\\20220426_154719.jpg: corrupt JPEG restored and saved\n",
      "\u001b[34m\u001b[1mtrain: \u001b[0mWARNING  C:\\Users\\Mehmet\\Desktop\\new_splited_wheat_dataset\\tmp_train\\images\\KiziltanVitreous\\20220426_154724.jpg: corrupt JPEG restored and saved\n",
      "\u001b[34m\u001b[1mtrain: \u001b[0mWARNING  C:\\Users\\Mehmet\\Desktop\\new_splited_wheat_dataset\\tmp_train\\images\\KiziltanVitreous\\20220426_154726.jpg: corrupt JPEG restored and saved\n",
      "\u001b[34m\u001b[1mtrain: \u001b[0mWARNING  C:\\Users\\Mehmet\\Desktop\\new_splited_wheat_dataset\\tmp_train\\images\\KiziltanVitreous\\20220426_154735.jpg: corrupt JPEG restored and saved\n",
      "\u001b[34m\u001b[1mtrain: \u001b[0mWARNING  C:\\Users\\Mehmet\\Desktop\\new_splited_wheat_dataset\\tmp_train\\images\\KiziltanVitreous\\20220426_154740.jpg: corrupt JPEG restored and saved\n",
      "\u001b[34m\u001b[1mtrain: \u001b[0mWARNING  C:\\Users\\Mehmet\\Desktop\\new_splited_wheat_dataset\\tmp_train\\images\\KiziltanVitreous\\20220426_154743.jpg: corrupt JPEG restored and saved\n",
      "\u001b[34m\u001b[1mtrain: \u001b[0mWARNING  C:\\Users\\Mehmet\\Desktop\\new_splited_wheat_dataset\\tmp_train\\images\\KiziltanVitreous\\20220426_154746.jpg: corrupt JPEG restored and saved\n",
      "\u001b[34m\u001b[1mtrain: \u001b[0mWARNING  C:\\Users\\Mehmet\\Desktop\\new_splited_wheat_dataset\\tmp_train\\images\\KiziltanVitreous\\20220426_154748.jpg: corrupt JPEG restored and saved\n",
      "\u001b[34m\u001b[1mtrain: \u001b[0mWARNING  C:\\Users\\Mehmet\\Desktop\\new_splited_wheat_dataset\\tmp_train\\images\\KiziltanVitreous\\20220426_154751.jpg: corrupt JPEG restored and saved\n",
      "\u001b[34m\u001b[1mtrain: \u001b[0mWARNING  C:\\Users\\Mehmet\\Desktop\\new_splited_wheat_dataset\\tmp_train\\images\\KiziltanVitreous\\20220426_154753.jpg: corrupt JPEG restored and saved\n",
      "\u001b[34m\u001b[1mtrain: \u001b[0mWARNING  C:\\Users\\Mehmet\\Desktop\\new_splited_wheat_dataset\\tmp_train\\images\\KiziltanVitreous\\20220426_154758.jpg: corrupt JPEG restored and saved\n",
      "\u001b[34m\u001b[1mtrain: \u001b[0mWARNING  C:\\Users\\Mehmet\\Desktop\\new_splited_wheat_dataset\\tmp_train\\images\\KiziltanVitreous\\20220426_154804.jpg: corrupt JPEG restored and saved\n",
      "\u001b[34m\u001b[1mtrain: \u001b[0mWARNING  C:\\Users\\Mehmet\\Desktop\\new_splited_wheat_dataset\\tmp_train\\images\\KiziltanVitreous\\20220426_154833.jpg: corrupt JPEG restored and saved\n",
      "\u001b[34m\u001b[1mtrain: \u001b[0mWARNING  C:\\Users\\Mehmet\\Desktop\\new_splited_wheat_dataset\\tmp_train\\images\\KiziltanVitreous\\20220426_154846.jpg: corrupt JPEG restored and saved\n",
      "\u001b[34m\u001b[1mtrain: \u001b[0mWARNING  C:\\Users\\Mehmet\\Desktop\\new_splited_wheat_dataset\\tmp_train\\images\\KiziltanVitreous\\20220426_154854.jpg: corrupt JPEG restored and saved\n",
      "\u001b[34m\u001b[1mtrain: \u001b[0mWARNING  C:\\Users\\Mehmet\\Desktop\\new_splited_wheat_dataset\\tmp_train\\images\\KiziltanVitreous\\20220426_154857.jpg: corrupt JPEG restored and saved\n",
      "\u001b[34m\u001b[1mtrain: \u001b[0mWARNING  C:\\Users\\Mehmet\\Desktop\\new_splited_wheat_dataset\\tmp_train\\images\\KiziltanVitreous\\20220426_154902.jpg: corrupt JPEG restored and saved\n",
      "\u001b[34m\u001b[1mtrain: \u001b[0mWARNING  C:\\Users\\Mehmet\\Desktop\\new_splited_wheat_dataset\\tmp_train\\images\\KiziltanVitreous\\20220426_154904.jpg: corrupt JPEG restored and saved\n",
      "\u001b[34m\u001b[1mtrain: \u001b[0mWARNING  C:\\Users\\Mehmet\\Desktop\\new_splited_wheat_dataset\\tmp_train\\images\\KiziltanVitreous\\20220426_154906.jpg: corrupt JPEG restored and saved\n",
      "\u001b[34m\u001b[1mtrain: \u001b[0mWARNING  C:\\Users\\Mehmet\\Desktop\\new_splited_wheat_dataset\\tmp_train\\images\\KiziltanVitreous\\20220426_154911.jpg: corrupt JPEG restored and saved\n",
      "\u001b[34m\u001b[1mtrain: \u001b[0mWARNING  C:\\Users\\Mehmet\\Desktop\\new_splited_wheat_dataset\\tmp_train\\images\\KiziltanVitreous\\20220426_154920.jpg: corrupt JPEG restored and saved\n",
      "\u001b[34m\u001b[1mtrain: \u001b[0mWARNING  C:\\Users\\Mehmet\\Desktop\\new_splited_wheat_dataset\\tmp_train\\images\\KiziltanVitreous\\20220426_154929.jpg: corrupt JPEG restored and saved\n",
      "\u001b[34m\u001b[1mtrain: \u001b[0mWARNING  C:\\Users\\Mehmet\\Desktop\\new_splited_wheat_dataset\\tmp_train\\images\\KiziltanVitreous\\20220426_154932.jpg: corrupt JPEG restored and saved\n",
      "\u001b[34m\u001b[1mtrain: \u001b[0mWARNING  C:\\Users\\Mehmet\\Desktop\\new_splited_wheat_dataset\\tmp_train\\images\\KiziltanVitreous\\20220426_154935.jpg: corrupt JPEG restored and saved\n",
      "\u001b[34m\u001b[1mtrain: \u001b[0mWARNING  C:\\Users\\Mehmet\\Desktop\\new_splited_wheat_dataset\\tmp_train\\images\\KiziltanVitreous\\20220426_154937.jpg: corrupt JPEG restored and saved\n",
      "\u001b[34m\u001b[1mtrain: \u001b[0mWARNING  C:\\Users\\Mehmet\\Desktop\\new_splited_wheat_dataset\\tmp_train\\images\\KiziltanVitreous\\20220426_154940.jpg: corrupt JPEG restored and saved\n",
      "\u001b[34m\u001b[1mtrain: \u001b[0mWARNING  C:\\Users\\Mehmet\\Desktop\\new_splited_wheat_dataset\\tmp_train\\images\\KiziltanVitreous\\20220426_154942.jpg: corrupt JPEG restored and saved\n",
      "\u001b[34m\u001b[1mtrain: \u001b[0mWARNING  C:\\Users\\Mehmet\\Desktop\\new_splited_wheat_dataset\\tmp_train\\images\\KiziltanVitreous\\20220426_154946.jpg: corrupt JPEG restored and saved\n",
      "\u001b[34m\u001b[1mtrain: \u001b[0mWARNING  C:\\Users\\Mehmet\\Desktop\\new_splited_wheat_dataset\\tmp_train\\images\\KiziltanVitreous\\20220426_154950.jpg: corrupt JPEG restored and saved\n",
      "\u001b[34m\u001b[1mtrain: \u001b[0mWARNING  C:\\Users\\Mehmet\\Desktop\\new_splited_wheat_dataset\\tmp_train\\images\\KiziltanVitreous\\20220426_155000.jpg: corrupt JPEG restored and saved\n",
      "\u001b[34m\u001b[1mtrain: \u001b[0mWARNING  C:\\Users\\Mehmet\\Desktop\\new_splited_wheat_dataset\\tmp_train\\images\\KiziltanVitreous\\20220426_155008.jpg: corrupt JPEG restored and saved\n",
      "\u001b[34m\u001b[1mtrain: \u001b[0mWARNING  C:\\Users\\Mehmet\\Desktop\\new_splited_wheat_dataset\\tmp_train\\images\\KiziltanVitreous\\20220426_155010.jpg: corrupt JPEG restored and saved\n",
      "\u001b[34m\u001b[1mtrain: \u001b[0mWARNING  C:\\Users\\Mehmet\\Desktop\\new_splited_wheat_dataset\\tmp_train\\images\\KiziltanVitreous\\20220426_155015.jpg: corrupt JPEG restored and saved\n",
      "\u001b[34m\u001b[1mtrain: \u001b[0mWARNING  C:\\Users\\Mehmet\\Desktop\\new_splited_wheat_dataset\\tmp_train\\images\\KiziltanVitreous\\20220426_155018.jpg: corrupt JPEG restored and saved\n",
      "\u001b[34m\u001b[1mtrain: \u001b[0mWARNING  C:\\Users\\Mehmet\\Desktop\\new_splited_wheat_dataset\\tmp_train\\images\\KiziltanVitreous\\20220426_155020.jpg: corrupt JPEG restored and saved\n",
      "\u001b[34m\u001b[1mtrain: \u001b[0mWARNING  C:\\Users\\Mehmet\\Desktop\\new_splited_wheat_dataset\\tmp_train\\images\\KiziltanVitreous\\20220426_155025.jpg: corrupt JPEG restored and saved\n",
      "\u001b[34m\u001b[1mtrain: \u001b[0mWARNING  C:\\Users\\Mehmet\\Desktop\\new_splited_wheat_dataset\\tmp_train\\images\\KiziltanVitreous\\20220426_155028.jpg: corrupt JPEG restored and saved\n",
      "\u001b[34m\u001b[1mtrain: \u001b[0mWARNING  C:\\Users\\Mehmet\\Desktop\\new_splited_wheat_dataset\\tmp_train\\images\\KiziltanVitreous\\20220426_155040.jpg: corrupt JPEG restored and saved\n",
      "\u001b[34m\u001b[1mtrain: \u001b[0mWARNING  C:\\Users\\Mehmet\\Desktop\\new_splited_wheat_dataset\\tmp_train\\images\\KiziltanVitreous\\20220426_155043.jpg: corrupt JPEG restored and saved\n",
      "\u001b[34m\u001b[1mtrain: \u001b[0mWARNING  C:\\Users\\Mehmet\\Desktop\\new_splited_wheat_dataset\\tmp_train\\images\\KiziltanVitreous\\20220426_160328.jpg: corrupt JPEG restored and saved\n",
      "\u001b[34m\u001b[1mtrain: \u001b[0mWARNING  C:\\Users\\Mehmet\\Desktop\\new_splited_wheat_dataset\\tmp_train\\images\\KiziltanVitreous\\20220426_160330.jpg: corrupt JPEG restored and saved\n",
      "\u001b[34m\u001b[1mtrain: \u001b[0mWARNING  C:\\Users\\Mehmet\\Desktop\\new_splited_wheat_dataset\\tmp_train\\images\\KiziltanVitreous\\20220426_160333.jpg: corrupt JPEG restored and saved\n",
      "\u001b[34m\u001b[1mtrain: \u001b[0mWARNING  C:\\Users\\Mehmet\\Desktop\\new_splited_wheat_dataset\\tmp_train\\images\\KiziltanVitreous\\20220426_160335.jpg: corrupt JPEG restored and saved\n",
      "\u001b[34m\u001b[1mtrain: \u001b[0mWARNING  C:\\Users\\Mehmet\\Desktop\\new_splited_wheat_dataset\\tmp_train\\images\\KiziltanVitreous\\20220426_160340.jpg: corrupt JPEG restored and saved\n",
      "\u001b[34m\u001b[1mtrain: \u001b[0mWARNING  C:\\Users\\Mehmet\\Desktop\\new_splited_wheat_dataset\\tmp_train\\images\\KiziltanVitreous\\20220426_160343.jpg: corrupt JPEG restored and saved\n",
      "\u001b[34m\u001b[1mtrain: \u001b[0mWARNING  C:\\Users\\Mehmet\\Desktop\\new_splited_wheat_dataset\\tmp_train\\images\\KiziltanVitreous\\20220426_160349.jpg: corrupt JPEG restored and saved\n",
      "\u001b[34m\u001b[1mtrain: \u001b[0mWARNING  C:\\Users\\Mehmet\\Desktop\\new_splited_wheat_dataset\\tmp_train\\images\\KiziltanVitreous\\20220426_160352.jpg: corrupt JPEG restored and saved\n",
      "\u001b[34m\u001b[1mtrain: \u001b[0mWARNING  C:\\Users\\Mehmet\\Desktop\\new_splited_wheat_dataset\\tmp_train\\images\\KiziltanVitreous\\20220426_160356.jpg: corrupt JPEG restored and saved\n",
      "\u001b[34m\u001b[1mtrain: \u001b[0mWARNING  C:\\Users\\Mehmet\\Desktop\\new_splited_wheat_dataset\\tmp_train\\images\\KiziltanVitreous\\20220426_160358.jpg: corrupt JPEG restored and saved\n",
      "\u001b[34m\u001b[1mtrain: \u001b[0mWARNING  C:\\Users\\Mehmet\\Desktop\\new_splited_wheat_dataset\\tmp_train\\images\\KiziltanVitreous\\20220426_160448.jpg: corrupt JPEG restored and saved\n",
      "\u001b[34m\u001b[1mtrain: \u001b[0mWARNING  C:\\Users\\Mehmet\\Desktop\\new_splited_wheat_dataset\\tmp_train\\images\\KiziltanVitreous\\20220426_160456.jpg: corrupt JPEG restored and saved\n",
      "\u001b[34m\u001b[1mtrain: \u001b[0mWARNING  C:\\Users\\Mehmet\\Desktop\\new_splited_wheat_dataset\\tmp_train\\images\\KiziltanVitreous\\20220426_160459.jpg: corrupt JPEG restored and saved\n",
      "\u001b[34m\u001b[1mtrain: \u001b[0mWARNING  C:\\Users\\Mehmet\\Desktop\\new_splited_wheat_dataset\\tmp_train\\images\\KiziltanVitreous\\20220426_160501.jpg: corrupt JPEG restored and saved\n",
      "\u001b[34m\u001b[1mtrain: \u001b[0mWARNING  C:\\Users\\Mehmet\\Desktop\\new_splited_wheat_dataset\\tmp_train\\images\\KiziltanVitreous\\20220426_160503.jpg: corrupt JPEG restored and saved\n",
      "\u001b[34m\u001b[1mtrain: \u001b[0mWARNING  C:\\Users\\Mehmet\\Desktop\\new_splited_wheat_dataset\\tmp_train\\images\\KiziltanVitreous\\20220426_160507.jpg: corrupt JPEG restored and saved\n",
      "\u001b[34m\u001b[1mtrain: \u001b[0mWARNING  C:\\Users\\Mehmet\\Desktop\\new_splited_wheat_dataset\\tmp_train\\images\\KiziltanVitreous\\20220426_160512.jpg: corrupt JPEG restored and saved\n",
      "\u001b[34m\u001b[1mtrain: \u001b[0mWARNING  C:\\Users\\Mehmet\\Desktop\\new_splited_wheat_dataset\\tmp_train\\images\\KiziltanVitreous\\20220426_160518.jpg: corrupt JPEG restored and saved\n",
      "\u001b[34m\u001b[1mtrain: \u001b[0mWARNING  C:\\Users\\Mehmet\\Desktop\\new_splited_wheat_dataset\\tmp_train\\images\\KiziltanVitreous\\20220426_160520.jpg: corrupt JPEG restored and saved\n",
      "\u001b[34m\u001b[1mtrain: \u001b[0mWARNING  C:\\Users\\Mehmet\\Desktop\\new_splited_wheat_dataset\\tmp_train\\images\\KiziltanVitreous\\20220426_160523.jpg: corrupt JPEG restored and saved\n",
      "\u001b[34m\u001b[1mtrain: \u001b[0mWARNING  C:\\Users\\Mehmet\\Desktop\\new_splited_wheat_dataset\\tmp_train\\images\\KiziltanVitreous\\20220426_160525.jpg: corrupt JPEG restored and saved\n",
      "\u001b[34m\u001b[1mtrain: \u001b[0mWARNING  C:\\Users\\Mehmet\\Desktop\\new_splited_wheat_dataset\\tmp_train\\images\\KiziltanVitreous\\20220426_160531.jpg: corrupt JPEG restored and saved\n",
      "\u001b[34m\u001b[1mtrain: \u001b[0mWARNING  C:\\Users\\Mehmet\\Desktop\\new_splited_wheat_dataset\\tmp_train\\images\\KiziltanVitreous\\20220426_160545.jpg: corrupt JPEG restored and saved\n",
      "\u001b[34m\u001b[1mtrain: \u001b[0mWARNING  C:\\Users\\Mehmet\\Desktop\\new_splited_wheat_dataset\\tmp_train\\images\\KiziltanVitreous\\20220426_160547.jpg: corrupt JPEG restored and saved\n",
      "\u001b[34m\u001b[1mtrain: \u001b[0mWARNING  C:\\Users\\Mehmet\\Desktop\\new_splited_wheat_dataset\\tmp_train\\images\\KiziltanVitreous\\20220426_160550.jpg: corrupt JPEG restored and saved\n",
      "\u001b[34m\u001b[1mtrain: \u001b[0mWARNING  C:\\Users\\Mehmet\\Desktop\\new_splited_wheat_dataset\\tmp_train\\images\\KiziltanVitreous\\20220426_160600.jpg: corrupt JPEG restored and saved\n",
      "\u001b[34m\u001b[1mtrain: \u001b[0mWARNING  C:\\Users\\Mehmet\\Desktop\\new_splited_wheat_dataset\\tmp_train\\images\\KiziltanVitreous\\20220426_160606.jpg: corrupt JPEG restored and saved\n",
      "\u001b[34m\u001b[1mtrain: \u001b[0mWARNING  C:\\Users\\Mehmet\\Desktop\\new_splited_wheat_dataset\\tmp_train\\images\\KiziltanVitreous\\20220426_160617.jpg: corrupt JPEG restored and saved\n",
      "\u001b[34m\u001b[1mtrain: \u001b[0mWARNING  C:\\Users\\Mehmet\\Desktop\\new_splited_wheat_dataset\\tmp_train\\images\\LucillaVitreous\\20220426_175132.jpg: corrupt JPEG restored and saved\n",
      "\u001b[34m\u001b[1mtrain: \u001b[0mWARNING  C:\\Users\\Mehmet\\Desktop\\new_splited_wheat_dataset\\tmp_train\\images\\LucillaVitreous\\20220426_175135.jpg: corrupt JPEG restored and saved\n",
      "\u001b[34m\u001b[1mtrain: \u001b[0mWARNING  C:\\Users\\Mehmet\\Desktop\\new_splited_wheat_dataset\\tmp_train\\images\\LucillaVitreous\\20220426_175139.jpg: corrupt JPEG restored and saved\n",
      "\u001b[34m\u001b[1mtrain: \u001b[0mWARNING  C:\\Users\\Mehmet\\Desktop\\new_splited_wheat_dataset\\tmp_train\\images\\LucillaVitreous\\20220426_175143.jpg: corrupt JPEG restored and saved\n",
      "\u001b[34m\u001b[1mtrain: \u001b[0mWARNING  C:\\Users\\Mehmet\\Desktop\\new_splited_wheat_dataset\\tmp_train\\images\\LucillaVitreous\\20220426_175145.jpg: corrupt JPEG restored and saved\n",
      "\u001b[34m\u001b[1mtrain: \u001b[0mWARNING  C:\\Users\\Mehmet\\Desktop\\new_splited_wheat_dataset\\tmp_train\\images\\LucillaVitreous\\20220426_175147.jpg: corrupt JPEG restored and saved\n",
      "\u001b[34m\u001b[1mtrain: \u001b[0mWARNING  C:\\Users\\Mehmet\\Desktop\\new_splited_wheat_dataset\\tmp_train\\images\\LucillaVitreous\\20220426_175154.jpg: corrupt JPEG restored and saved\n",
      "\u001b[34m\u001b[1mtrain: \u001b[0mWARNING  C:\\Users\\Mehmet\\Desktop\\new_splited_wheat_dataset\\tmp_train\\images\\LucillaVitreous\\20220426_175158.jpg: corrupt JPEG restored and saved\n",
      "\u001b[34m\u001b[1mtrain: \u001b[0mWARNING  C:\\Users\\Mehmet\\Desktop\\new_splited_wheat_dataset\\tmp_train\\images\\LucillaVitreous\\20220426_175200.jpg: corrupt JPEG restored and saved\n",
      "\u001b[34m\u001b[1mtrain: \u001b[0mWARNING  C:\\Users\\Mehmet\\Desktop\\new_splited_wheat_dataset\\tmp_train\\images\\LucillaVitreous\\20220426_175202.jpg: corrupt JPEG restored and saved\n",
      "\u001b[34m\u001b[1mtrain: \u001b[0mWARNING  C:\\Users\\Mehmet\\Desktop\\new_splited_wheat_dataset\\tmp_train\\images\\LucillaVitreous\\20220426_175204.jpg: corrupt JPEG restored and saved\n",
      "\u001b[34m\u001b[1mtrain: \u001b[0mWARNING  C:\\Users\\Mehmet\\Desktop\\new_splited_wheat_dataset\\tmp_train\\images\\LucillaVitreous\\20220426_175206.jpg: corrupt JPEG restored and saved\n",
      "\u001b[34m\u001b[1mtrain: \u001b[0mWARNING  C:\\Users\\Mehmet\\Desktop\\new_splited_wheat_dataset\\tmp_train\\images\\LucillaVitreous\\20220426_175208.jpg: corrupt JPEG restored and saved\n",
      "\u001b[34m\u001b[1mtrain: \u001b[0mWARNING  C:\\Users\\Mehmet\\Desktop\\new_splited_wheat_dataset\\tmp_train\\images\\LucillaVitreous\\20220426_175216.jpg: corrupt JPEG restored and saved\n",
      "\u001b[34m\u001b[1mtrain: \u001b[0mWARNING  C:\\Users\\Mehmet\\Desktop\\new_splited_wheat_dataset\\tmp_train\\images\\LucillaVitreous\\20220426_175224.jpg: corrupt JPEG restored and saved\n",
      "\u001b[34m\u001b[1mtrain: \u001b[0mWARNING  C:\\Users\\Mehmet\\Desktop\\new_splited_wheat_dataset\\tmp_train\\images\\LucillaVitreous\\20220426_175231.jpg: corrupt JPEG restored and saved\n",
      "\u001b[34m\u001b[1mtrain: \u001b[0mWARNING  C:\\Users\\Mehmet\\Desktop\\new_splited_wheat_dataset\\tmp_train\\images\\LucillaVitreous\\20220426_175236.jpg: corrupt JPEG restored and saved\n",
      "\u001b[34m\u001b[1mtrain: \u001b[0mWARNING  C:\\Users\\Mehmet\\Desktop\\new_splited_wheat_dataset\\tmp_train\\images\\LucillaVitreous\\20220426_175244.jpg: corrupt JPEG restored and saved\n",
      "\u001b[34m\u001b[1mtrain: \u001b[0mWARNING  C:\\Users\\Mehmet\\Desktop\\new_splited_wheat_dataset\\tmp_train\\images\\LucillaVitreous\\20220426_175246.jpg: corrupt JPEG restored and saved\n",
      "\u001b[34m\u001b[1mtrain: \u001b[0mWARNING  C:\\Users\\Mehmet\\Desktop\\new_splited_wheat_dataset\\tmp_train\\images\\LucillaVitreous\\20220426_175257.jpg: corrupt JPEG restored and saved\n",
      "\u001b[34m\u001b[1mtrain: \u001b[0mWARNING  C:\\Users\\Mehmet\\Desktop\\new_splited_wheat_dataset\\tmp_train\\images\\LucillaVitreous\\20220426_175259.jpg: corrupt JPEG restored and saved\n",
      "\u001b[34m\u001b[1mtrain: \u001b[0mWARNING  C:\\Users\\Mehmet\\Desktop\\new_splited_wheat_dataset\\tmp_train\\images\\LucillaVitreous\\20220426_175302.jpg: corrupt JPEG restored and saved\n",
      "\u001b[34m\u001b[1mtrain: \u001b[0mWARNING  C:\\Users\\Mehmet\\Desktop\\new_splited_wheat_dataset\\tmp_train\\images\\LucillaVitreous\\20220426_175304.jpg: corrupt JPEG restored and saved\n",
      "\u001b[34m\u001b[1mtrain: \u001b[0mWARNING  C:\\Users\\Mehmet\\Desktop\\new_splited_wheat_dataset\\tmp_train\\images\\LucillaVitreous\\20220426_175306.jpg: corrupt JPEG restored and saved\n",
      "\u001b[34m\u001b[1mtrain: \u001b[0mWARNING  C:\\Users\\Mehmet\\Desktop\\new_splited_wheat_dataset\\tmp_train\\images\\LucillaVitreous\\20220426_175308.jpg: corrupt JPEG restored and saved\n",
      "\u001b[34m\u001b[1mtrain: \u001b[0mWARNING  C:\\Users\\Mehmet\\Desktop\\new_splited_wheat_dataset\\tmp_train\\images\\LucillaVitreous\\20220426_175310.jpg: corrupt JPEG restored and saved\n",
      "\u001b[34m\u001b[1mtrain: \u001b[0mWARNING  C:\\Users\\Mehmet\\Desktop\\new_splited_wheat_dataset\\tmp_train\\images\\LucillaVitreous\\20220426_175316.jpg: corrupt JPEG restored and saved\n",
      "\u001b[34m\u001b[1mtrain: \u001b[0mWARNING  C:\\Users\\Mehmet\\Desktop\\new_splited_wheat_dataset\\tmp_train\\images\\LucillaVitreous\\20220426_175319.jpg: corrupt JPEG restored and saved\n",
      "\u001b[34m\u001b[1mtrain: \u001b[0mWARNING  C:\\Users\\Mehmet\\Desktop\\new_splited_wheat_dataset\\tmp_train\\images\\LucillaVitreous\\20220426_175325.jpg: corrupt JPEG restored and saved\n",
      "\u001b[34m\u001b[1mtrain: \u001b[0mWARNING  C:\\Users\\Mehmet\\Desktop\\new_splited_wheat_dataset\\tmp_train\\images\\LucillaVitreous\\20220426_175327.jpg: corrupt JPEG restored and saved\n",
      "\u001b[34m\u001b[1mtrain: \u001b[0mWARNING  C:\\Users\\Mehmet\\Desktop\\new_splited_wheat_dataset\\tmp_train\\images\\LucillaVitreous\\20220426_175329.jpg: corrupt JPEG restored and saved\n",
      "\u001b[34m\u001b[1mtrain: \u001b[0mWARNING  C:\\Users\\Mehmet\\Desktop\\new_splited_wheat_dataset\\tmp_train\\images\\LucillaVitreous\\20220426_175333.jpg: corrupt JPEG restored and saved\n",
      "\u001b[34m\u001b[1mtrain: \u001b[0mWARNING  C:\\Users\\Mehmet\\Desktop\\new_splited_wheat_dataset\\tmp_train\\images\\LucillaVitreous\\20220426_175335.jpg: corrupt JPEG restored and saved\n",
      "\u001b[34m\u001b[1mtrain: \u001b[0mWARNING  C:\\Users\\Mehmet\\Desktop\\new_splited_wheat_dataset\\tmp_train\\images\\LucillaVitreous\\20220426_175338.jpg: corrupt JPEG restored and saved\n",
      "\u001b[34m\u001b[1mtrain: \u001b[0mWARNING  C:\\Users\\Mehmet\\Desktop\\new_splited_wheat_dataset\\tmp_train\\images\\LucillaVitreous\\20220426_175342.jpg: corrupt JPEG restored and saved\n",
      "\u001b[34m\u001b[1mtrain: \u001b[0mWARNING  C:\\Users\\Mehmet\\Desktop\\new_splited_wheat_dataset\\tmp_train\\images\\LucillaVitreous\\20220426_175344.jpg: corrupt JPEG restored and saved\n",
      "\u001b[34m\u001b[1mtrain: \u001b[0mWARNING  C:\\Users\\Mehmet\\Desktop\\new_splited_wheat_dataset\\tmp_train\\images\\LucillaVitreous\\20220426_175346.jpg: corrupt JPEG restored and saved\n",
      "\u001b[34m\u001b[1mtrain: \u001b[0mWARNING  C:\\Users\\Mehmet\\Desktop\\new_splited_wheat_dataset\\tmp_train\\images\\LucillaVitreous\\20220426_175348.jpg: corrupt JPEG restored and saved\n",
      "\u001b[34m\u001b[1mtrain: \u001b[0mWARNING  C:\\Users\\Mehmet\\Desktop\\new_splited_wheat_dataset\\tmp_train\\images\\LucillaVitreous\\20220426_175350.jpg: corrupt JPEG restored and saved\n",
      "\u001b[34m\u001b[1mtrain: \u001b[0mWARNING  C:\\Users\\Mehmet\\Desktop\\new_splited_wheat_dataset\\tmp_train\\images\\LucillaVitreous\\20220426_175357.jpg: corrupt JPEG restored and saved\n",
      "\u001b[34m\u001b[1mtrain: \u001b[0mWARNING  C:\\Users\\Mehmet\\Desktop\\new_splited_wheat_dataset\\tmp_train\\images\\LucillaVitreous\\20220426_175359.jpg: corrupt JPEG restored and saved\n",
      "\u001b[34m\u001b[1mtrain: \u001b[0mWARNING  C:\\Users\\Mehmet\\Desktop\\new_splited_wheat_dataset\\tmp_train\\images\\LucillaVitreous\\20220426_175401.jpg: corrupt JPEG restored and saved\n",
      "\u001b[34m\u001b[1mtrain: \u001b[0mWARNING  C:\\Users\\Mehmet\\Desktop\\new_splited_wheat_dataset\\tmp_train\\images\\LucillaVitreous\\20220426_175403.jpg: corrupt JPEG restored and saved\n",
      "\u001b[34m\u001b[1mtrain: \u001b[0mWARNING  C:\\Users\\Mehmet\\Desktop\\new_splited_wheat_dataset\\tmp_train\\images\\LucillaVitreous\\20220426_175412.jpg: corrupt JPEG restored and saved\n",
      "\u001b[34m\u001b[1mtrain: \u001b[0mWARNING  C:\\Users\\Mehmet\\Desktop\\new_splited_wheat_dataset\\tmp_train\\images\\LucillaVitreous\\20220426_175414.jpg: corrupt JPEG restored and saved\n",
      "\u001b[34m\u001b[1mtrain: \u001b[0mWARNING  C:\\Users\\Mehmet\\Desktop\\new_splited_wheat_dataset\\tmp_train\\images\\LucillaVitreous\\20220426_175417.jpg: corrupt JPEG restored and saved\n",
      "\u001b[34m\u001b[1mtrain: \u001b[0mWARNING  C:\\Users\\Mehmet\\Desktop\\new_splited_wheat_dataset\\tmp_train\\images\\LucillaVitreous\\20220426_175427.jpg: corrupt JPEG restored and saved\n",
      "\u001b[34m\u001b[1mtrain: \u001b[0mWARNING  C:\\Users\\Mehmet\\Desktop\\new_splited_wheat_dataset\\tmp_train\\images\\LucillaVitreous\\20220426_175430.jpg: corrupt JPEG restored and saved\n",
      "\u001b[34m\u001b[1mtrain: \u001b[0mWARNING  C:\\Users\\Mehmet\\Desktop\\new_splited_wheat_dataset\\tmp_train\\images\\LucillaVitreous\\20220426_175432.jpg: corrupt JPEG restored and saved\n",
      "\u001b[34m\u001b[1mtrain: \u001b[0mWARNING  C:\\Users\\Mehmet\\Desktop\\new_splited_wheat_dataset\\tmp_train\\images\\LucillaVitreous\\20220426_175508.jpg: corrupt JPEG restored and saved\n",
      "\u001b[34m\u001b[1mtrain: \u001b[0mWARNING  C:\\Users\\Mehmet\\Desktop\\new_splited_wheat_dataset\\tmp_train\\images\\LucillaVitreous\\20220426_175510.jpg: corrupt JPEG restored and saved\n",
      "\u001b[34m\u001b[1mtrain: \u001b[0mWARNING  C:\\Users\\Mehmet\\Desktop\\new_splited_wheat_dataset\\tmp_train\\images\\LucillaVitreous\\20220426_175514.jpg: corrupt JPEG restored and saved\n",
      "\u001b[34m\u001b[1mtrain: \u001b[0mWARNING  C:\\Users\\Mehmet\\Desktop\\new_splited_wheat_dataset\\tmp_train\\images\\LucillaVitreous\\20220426_175516.jpg: corrupt JPEG restored and saved\n",
      "\u001b[34m\u001b[1mtrain: \u001b[0mWARNING  C:\\Users\\Mehmet\\Desktop\\new_splited_wheat_dataset\\tmp_train\\images\\LucillaVitreous\\20220426_175524.jpg: corrupt JPEG restored and saved\n",
      "\u001b[34m\u001b[1mtrain: \u001b[0mWARNING  C:\\Users\\Mehmet\\Desktop\\new_splited_wheat_dataset\\tmp_train\\images\\LucillaVitreous\\20220426_175526.jpg: corrupt JPEG restored and saved\n",
      "\u001b[34m\u001b[1mtrain: \u001b[0mWARNING  C:\\Users\\Mehmet\\Desktop\\new_splited_wheat_dataset\\tmp_train\\images\\LucillaVitreous\\20220426_175533.jpg: corrupt JPEG restored and saved\n",
      "\u001b[34m\u001b[1mtrain: \u001b[0mWARNING  C:\\Users\\Mehmet\\Desktop\\new_splited_wheat_dataset\\tmp_train\\images\\LucillaVitreous\\20220426_175535.jpg: corrupt JPEG restored and saved\n",
      "\u001b[34m\u001b[1mtrain: \u001b[0mWARNING  C:\\Users\\Mehmet\\Desktop\\new_splited_wheat_dataset\\tmp_train\\images\\LucillaVitreous\\20220426_175541.jpg: corrupt JPEG restored and saved\n",
      "\u001b[34m\u001b[1mtrain: \u001b[0mWARNING  C:\\Users\\Mehmet\\Desktop\\new_splited_wheat_dataset\\tmp_train\\images\\LucillaVitreous\\20220426_175544.jpg: corrupt JPEG restored and saved\n",
      "\u001b[34m\u001b[1mtrain: \u001b[0mWARNING  C:\\Users\\Mehmet\\Desktop\\new_splited_wheat_dataset\\tmp_train\\images\\LucillaVitreous\\20220426_175546.jpg: corrupt JPEG restored and saved\n",
      "\u001b[34m\u001b[1mtrain: \u001b[0mWARNING  C:\\Users\\Mehmet\\Desktop\\new_splited_wheat_dataset\\tmp_train\\images\\LucillaVitreous\\20220426_175548.jpg: corrupt JPEG restored and saved\n",
      "\u001b[34m\u001b[1mtrain: \u001b[0mWARNING  C:\\Users\\Mehmet\\Desktop\\new_splited_wheat_dataset\\tmp_train\\images\\LucillaVitreous\\20220426_175550.jpg: corrupt JPEG restored and saved\n",
      "\u001b[34m\u001b[1mtrain: \u001b[0mWARNING  C:\\Users\\Mehmet\\Desktop\\new_splited_wheat_dataset\\tmp_train\\images\\LucillaVitreous\\20220426_175557.jpg: corrupt JPEG restored and saved\n",
      "\u001b[34m\u001b[1mtrain: \u001b[0mWARNING  C:\\Users\\Mehmet\\Desktop\\new_splited_wheat_dataset\\tmp_train\\images\\LucillaVitreous\\20220426_175600.jpg: corrupt JPEG restored and saved\n",
      "\u001b[34m\u001b[1mtrain: \u001b[0mWARNING  C:\\Users\\Mehmet\\Desktop\\new_splited_wheat_dataset\\tmp_train\\images\\LucillaVitreous\\20220426_175603.jpg: corrupt JPEG restored and saved\n",
      "\u001b[34m\u001b[1mtrain: \u001b[0mWARNING  C:\\Users\\Mehmet\\Desktop\\new_splited_wheat_dataset\\tmp_train\\images\\OdeskaVitreous\\20220426_172201.jpg: corrupt JPEG restored and saved\n",
      "\u001b[34m\u001b[1mtrain: \u001b[0mWARNING  C:\\Users\\Mehmet\\Desktop\\new_splited_wheat_dataset\\tmp_train\\images\\OdeskaVitreous\\20220426_172203.jpg: corrupt JPEG restored and saved\n",
      "\u001b[34m\u001b[1mtrain: \u001b[0mWARNING  C:\\Users\\Mehmet\\Desktop\\new_splited_wheat_dataset\\tmp_train\\images\\OdeskaVitreous\\20220426_172206.jpg: corrupt JPEG restored and saved\n",
      "\u001b[34m\u001b[1mtrain: \u001b[0mWARNING  C:\\Users\\Mehmet\\Desktop\\new_splited_wheat_dataset\\tmp_train\\images\\OdeskaVitreous\\20220426_172208.jpg: corrupt JPEG restored and saved\n",
      "\u001b[34m\u001b[1mtrain: \u001b[0mWARNING  C:\\Users\\Mehmet\\Desktop\\new_splited_wheat_dataset\\tmp_train\\images\\OdeskaVitreous\\20220426_172211.jpg: corrupt JPEG restored and saved\n",
      "\u001b[34m\u001b[1mtrain: \u001b[0mWARNING  C:\\Users\\Mehmet\\Desktop\\new_splited_wheat_dataset\\tmp_train\\images\\OdeskaVitreous\\20220426_172213.jpg: corrupt JPEG restored and saved\n",
      "\u001b[34m\u001b[1mtrain: \u001b[0mWARNING  C:\\Users\\Mehmet\\Desktop\\new_splited_wheat_dataset\\tmp_train\\images\\OdeskaVitreous\\20220426_172229.jpg: corrupt JPEG restored and saved\n",
      "\u001b[34m\u001b[1mtrain: \u001b[0mWARNING  C:\\Users\\Mehmet\\Desktop\\new_splited_wheat_dataset\\tmp_train\\images\\OdeskaVitreous\\20220426_172232.jpg: corrupt JPEG restored and saved\n",
      "\u001b[34m\u001b[1mtrain: \u001b[0mWARNING  C:\\Users\\Mehmet\\Desktop\\new_splited_wheat_dataset\\tmp_train\\images\\OdeskaVitreous\\20220426_172234.jpg: corrupt JPEG restored and saved\n",
      "\u001b[34m\u001b[1mtrain: \u001b[0mWARNING  C:\\Users\\Mehmet\\Desktop\\new_splited_wheat_dataset\\tmp_train\\images\\OdeskaVitreous\\20220426_172236.jpg: corrupt JPEG restored and saved\n",
      "\u001b[34m\u001b[1mtrain: \u001b[0mWARNING  C:\\Users\\Mehmet\\Desktop\\new_splited_wheat_dataset\\tmp_train\\images\\OdeskaVitreous\\20220426_172241.jpg: corrupt JPEG restored and saved\n",
      "\u001b[34m\u001b[1mtrain: \u001b[0mWARNING  C:\\Users\\Mehmet\\Desktop\\new_splited_wheat_dataset\\tmp_train\\images\\OdeskaVitreous\\20220426_172243.jpg: corrupt JPEG restored and saved\n",
      "\u001b[34m\u001b[1mtrain: \u001b[0mWARNING  C:\\Users\\Mehmet\\Desktop\\new_splited_wheat_dataset\\tmp_train\\images\\OdeskaVitreous\\20220426_172246.jpg: corrupt JPEG restored and saved\n",
      "\u001b[34m\u001b[1mtrain: \u001b[0mWARNING  C:\\Users\\Mehmet\\Desktop\\new_splited_wheat_dataset\\tmp_train\\images\\OdeskaVitreous\\20220426_172251.jpg: corrupt JPEG restored and saved\n",
      "\u001b[34m\u001b[1mtrain: \u001b[0mWARNING  C:\\Users\\Mehmet\\Desktop\\new_splited_wheat_dataset\\tmp_train\\images\\OdeskaVitreous\\20220426_172309.jpg: corrupt JPEG restored and saved\n",
      "\u001b[34m\u001b[1mtrain: \u001b[0mWARNING  C:\\Users\\Mehmet\\Desktop\\new_splited_wheat_dataset\\tmp_train\\images\\OdeskaVitreous\\20220426_172317.jpg: corrupt JPEG restored and saved\n",
      "\u001b[34m\u001b[1mtrain: \u001b[0mWARNING  C:\\Users\\Mehmet\\Desktop\\new_splited_wheat_dataset\\tmp_train\\images\\OdeskaVitreous\\20220426_172319.jpg: corrupt JPEG restored and saved\n",
      "\u001b[34m\u001b[1mtrain: \u001b[0mWARNING  C:\\Users\\Mehmet\\Desktop\\new_splited_wheat_dataset\\tmp_train\\images\\OdeskaVitreous\\20220426_172321.jpg: corrupt JPEG restored and saved\n",
      "\u001b[34m\u001b[1mtrain: \u001b[0mWARNING  C:\\Users\\Mehmet\\Desktop\\new_splited_wheat_dataset\\tmp_train\\images\\OdeskaVitreous\\20220426_172326.jpg: corrupt JPEG restored and saved\n",
      "\u001b[34m\u001b[1mtrain: \u001b[0mWARNING  C:\\Users\\Mehmet\\Desktop\\new_splited_wheat_dataset\\tmp_train\\images\\OdeskaVitreous\\20220426_172329.jpg: corrupt JPEG restored and saved\n",
      "\u001b[34m\u001b[1mtrain: \u001b[0mWARNING  C:\\Users\\Mehmet\\Desktop\\new_splited_wheat_dataset\\tmp_train\\images\\OdeskaVitreous\\20220426_172331.jpg: corrupt JPEG restored and saved\n",
      "\u001b[34m\u001b[1mtrain: \u001b[0mWARNING  C:\\Users\\Mehmet\\Desktop\\new_splited_wheat_dataset\\tmp_train\\images\\OdeskaVitreous\\20220426_172334.jpg: corrupt JPEG restored and saved\n",
      "\u001b[34m\u001b[1mtrain: \u001b[0mWARNING  C:\\Users\\Mehmet\\Desktop\\new_splited_wheat_dataset\\tmp_train\\images\\OdeskaVitreous\\20220426_172336.jpg: corrupt JPEG restored and saved\n",
      "\u001b[34m\u001b[1mtrain: \u001b[0mWARNING  C:\\Users\\Mehmet\\Desktop\\new_splited_wheat_dataset\\tmp_train\\images\\OdeskaVitreous\\20220426_172339.jpg: corrupt JPEG restored and saved\n",
      "\u001b[34m\u001b[1mtrain: \u001b[0mWARNING  C:\\Users\\Mehmet\\Desktop\\new_splited_wheat_dataset\\tmp_train\\images\\OdeskaVitreous\\20220426_172343.jpg: corrupt JPEG restored and saved\n",
      "\u001b[34m\u001b[1mtrain: \u001b[0mWARNING  C:\\Users\\Mehmet\\Desktop\\new_splited_wheat_dataset\\tmp_train\\images\\OdeskaVitreous\\20220426_172348.jpg: corrupt JPEG restored and saved\n",
      "\u001b[34m\u001b[1mtrain: \u001b[0mWARNING  C:\\Users\\Mehmet\\Desktop\\new_splited_wheat_dataset\\tmp_train\\images\\OdeskaVitreous\\20220426_172351.jpg: corrupt JPEG restored and saved\n",
      "\u001b[34m\u001b[1mtrain: \u001b[0mWARNING  C:\\Users\\Mehmet\\Desktop\\new_splited_wheat_dataset\\tmp_train\\images\\OdeskaVitreous\\20220426_172354.jpg: corrupt JPEG restored and saved\n",
      "\u001b[34m\u001b[1mtrain: \u001b[0mWARNING  C:\\Users\\Mehmet\\Desktop\\new_splited_wheat_dataset\\tmp_train\\images\\OdeskaVitreous\\20220426_172356.jpg: corrupt JPEG restored and saved\n",
      "\u001b[34m\u001b[1mtrain: \u001b[0mWARNING  C:\\Users\\Mehmet\\Desktop\\new_splited_wheat_dataset\\tmp_train\\images\\OdeskaVitreous\\20220426_172401.jpg: corrupt JPEG restored and saved\n",
      "\u001b[34m\u001b[1mtrain: \u001b[0mWARNING  C:\\Users\\Mehmet\\Desktop\\new_splited_wheat_dataset\\tmp_train\\images\\OdeskaVitreous\\20220426_172417.jpg: corrupt JPEG restored and saved\n",
      "\u001b[34m\u001b[1mtrain: \u001b[0mWARNING  C:\\Users\\Mehmet\\Desktop\\new_splited_wheat_dataset\\tmp_train\\images\\OdeskaVitreous\\20220426_172419.jpg: corrupt JPEG restored and saved\n",
      "\u001b[34m\u001b[1mtrain: \u001b[0mWARNING  C:\\Users\\Mehmet\\Desktop\\new_splited_wheat_dataset\\tmp_train\\images\\OdeskaVitreous\\20220426_172421.jpg: corrupt JPEG restored and saved\n",
      "\u001b[34m\u001b[1mtrain: \u001b[0mWARNING  C:\\Users\\Mehmet\\Desktop\\new_splited_wheat_dataset\\tmp_train\\images\\OdeskaVitreous\\20220426_172423.jpg: corrupt JPEG restored and saved\n",
      "\u001b[34m\u001b[1mtrain: \u001b[0mWARNING  C:\\Users\\Mehmet\\Desktop\\new_splited_wheat_dataset\\tmp_train\\images\\OdeskaVitreous\\20220426_172425.jpg: corrupt JPEG restored and saved\n",
      "\u001b[34m\u001b[1mtrain: \u001b[0mWARNING  C:\\Users\\Mehmet\\Desktop\\new_splited_wheat_dataset\\tmp_train\\images\\OdeskaVitreous\\20220426_172429.jpg: corrupt JPEG restored and saved\n",
      "\u001b[34m\u001b[1mtrain: \u001b[0mWARNING  C:\\Users\\Mehmet\\Desktop\\new_splited_wheat_dataset\\tmp_train\\images\\OdeskaVitreous\\20220426_172433.jpg: corrupt JPEG restored and saved\n",
      "\u001b[34m\u001b[1mtrain: \u001b[0mWARNING  C:\\Users\\Mehmet\\Desktop\\new_splited_wheat_dataset\\tmp_train\\images\\OdeskaVitreous\\20220426_172436.jpg: corrupt JPEG restored and saved\n",
      "\u001b[34m\u001b[1mtrain: \u001b[0mWARNING  C:\\Users\\Mehmet\\Desktop\\new_splited_wheat_dataset\\tmp_train\\images\\OdeskaVitreous\\20220426_172451.jpg: corrupt JPEG restored and saved\n",
      "\u001b[34m\u001b[1mtrain: \u001b[0mWARNING  C:\\Users\\Mehmet\\Desktop\\new_splited_wheat_dataset\\tmp_train\\images\\OdeskaVitreous\\20220426_172453.jpg: corrupt JPEG restored and saved\n",
      "\u001b[34m\u001b[1mtrain: \u001b[0mWARNING  C:\\Users\\Mehmet\\Desktop\\new_splited_wheat_dataset\\tmp_train\\images\\OdeskaVitreous\\20220426_172455.jpg: corrupt JPEG restored and saved\n",
      "\u001b[34m\u001b[1mtrain: \u001b[0mWARNING  C:\\Users\\Mehmet\\Desktop\\new_splited_wheat_dataset\\tmp_train\\images\\OdeskaVitreous\\20220426_172457.jpg: corrupt JPEG restored and saved\n",
      "\u001b[34m\u001b[1mtrain: \u001b[0mWARNING  C:\\Users\\Mehmet\\Desktop\\new_splited_wheat_dataset\\tmp_train\\images\\OdeskaVitreous\\20220426_172500.jpg: corrupt JPEG restored and saved\n",
      "\u001b[34m\u001b[1mtrain: \u001b[0mWARNING  C:\\Users\\Mehmet\\Desktop\\new_splited_wheat_dataset\\tmp_train\\images\\OdeskaVitreous\\20220426_172502.jpg: corrupt JPEG restored and saved\n",
      "\u001b[34m\u001b[1mtrain: \u001b[0mWARNING  C:\\Users\\Mehmet\\Desktop\\new_splited_wheat_dataset\\tmp_train\\images\\OdeskaVitreous\\20220426_172505.jpg: corrupt JPEG restored and saved\n",
      "\u001b[34m\u001b[1mtrain: \u001b[0mWARNING  C:\\Users\\Mehmet\\Desktop\\new_splited_wheat_dataset\\tmp_train\\images\\OdeskaVitreous\\20220426_172507.jpg: corrupt JPEG restored and saved\n",
      "\u001b[34m\u001b[1mtrain: \u001b[0mWARNING  C:\\Users\\Mehmet\\Desktop\\new_splited_wheat_dataset\\tmp_train\\images\\OdeskaVitreous\\20220426_172509.jpg: corrupt JPEG restored and saved\n",
      "\u001b[34m\u001b[1mtrain: \u001b[0mWARNING  C:\\Users\\Mehmet\\Desktop\\new_splited_wheat_dataset\\tmp_train\\images\\OdeskaVitreous\\20220426_172528.jpg: corrupt JPEG restored and saved\n",
      "\u001b[34m\u001b[1mtrain: \u001b[0mWARNING  C:\\Users\\Mehmet\\Desktop\\new_splited_wheat_dataset\\tmp_train\\images\\OdeskaVitreous\\20220426_172532.jpg: corrupt JPEG restored and saved\n",
      "\u001b[34m\u001b[1mtrain: \u001b[0mWARNING  C:\\Users\\Mehmet\\Desktop\\new_splited_wheat_dataset\\tmp_train\\images\\OdeskaVitreous\\20220426_172535.jpg: corrupt JPEG restored and saved\n",
      "\u001b[34m\u001b[1mtrain: \u001b[0mWARNING  C:\\Users\\Mehmet\\Desktop\\new_splited_wheat_dataset\\tmp_train\\images\\OdeskaVitreous\\20220426_172537.jpg: corrupt JPEG restored and saved\n",
      "\u001b[34m\u001b[1mtrain: \u001b[0mWARNING  C:\\Users\\Mehmet\\Desktop\\new_splited_wheat_dataset\\tmp_train\\images\\OdeskaVitreous\\20220426_172552.jpg: corrupt JPEG restored and saved\n",
      "\u001b[34m\u001b[1mtrain: \u001b[0mWARNING  C:\\Users\\Mehmet\\Desktop\\new_splited_wheat_dataset\\tmp_train\\images\\OdeskaVitreous\\20220426_172556.jpg: corrupt JPEG restored and saved\n",
      "\u001b[34m\u001b[1mtrain: \u001b[0mWARNING  C:\\Users\\Mehmet\\Desktop\\new_splited_wheat_dataset\\tmp_train\\images\\OdeskaVitreous\\20220426_172606.jpg: corrupt JPEG restored and saved\n",
      "\u001b[34m\u001b[1mtrain: \u001b[0mWARNING  C:\\Users\\Mehmet\\Desktop\\new_splited_wheat_dataset\\tmp_train\\images\\OdeskaVitreous\\20220426_172610.jpg: corrupt JPEG restored and saved\n",
      "\u001b[34m\u001b[1mtrain: \u001b[0mWARNING  C:\\Users\\Mehmet\\Desktop\\new_splited_wheat_dataset\\tmp_train\\images\\OdeskaVitreous\\20220426_172613.jpg: corrupt JPEG restored and saved\n",
      "\u001b[34m\u001b[1mtrain: \u001b[0mWARNING  C:\\Users\\Mehmet\\Desktop\\new_splited_wheat_dataset\\tmp_train\\images\\OdeskaVitreous\\20220426_172617.jpg: corrupt JPEG restored and saved\n",
      "\u001b[34m\u001b[1mtrain: \u001b[0mWARNING  C:\\Users\\Mehmet\\Desktop\\new_splited_wheat_dataset\\tmp_train\\images\\OdeskaVitreous\\20220426_172620.jpg: corrupt JPEG restored and saved\n",
      "\u001b[34m\u001b[1mtrain: \u001b[0mWARNING  C:\\Users\\Mehmet\\Desktop\\new_splited_wheat_dataset\\tmp_train\\images\\OdeskaVitreous\\20220426_172623.jpg: corrupt JPEG restored and saved\n",
      "\u001b[34m\u001b[1mtrain: \u001b[0mWARNING  C:\\Users\\Mehmet\\Desktop\\new_splited_wheat_dataset\\tmp_train\\images\\OdeskaVitreous\\20220426_172635.jpg: corrupt JPEG restored and saved\n",
      "\u001b[34m\u001b[1mtrain: \u001b[0mWARNING  C:\\Users\\Mehmet\\Desktop\\new_splited_wheat_dataset\\tmp_train\\images\\OdeskaVitreous\\20220426_172638.jpg: corrupt JPEG restored and saved\n",
      "\u001b[34m\u001b[1mtrain: \u001b[0mWARNING  C:\\Users\\Mehmet\\Desktop\\new_splited_wheat_dataset\\tmp_train\\images\\OdeskaVitreous\\20220426_172640.jpg: corrupt JPEG restored and saved\n",
      "\u001b[34m\u001b[1mtrain: \u001b[0mWARNING  C:\\Users\\Mehmet\\Desktop\\new_splited_wheat_dataset\\tmp_train\\images\\OdeskaVitreous\\20220426_172642.jpg: corrupt JPEG restored and saved\n",
      "\u001b[34m\u001b[1mtrain: \u001b[0mWARNING  C:\\Users\\Mehmet\\Desktop\\new_splited_wheat_dataset\\tmp_train\\images\\OdeskaVitreous\\20220426_172645.jpg: corrupt JPEG restored and saved\n",
      "\u001b[34m\u001b[1mtrain: \u001b[0mWARNING  C:\\Users\\Mehmet\\Desktop\\new_splited_wheat_dataset\\tmp_train\\images\\OdeskaVitreous\\20220426_172647.jpg: corrupt JPEG restored and saved\n",
      "\u001b[34m\u001b[1mtrain: \u001b[0mWARNING  C:\\Users\\Mehmet\\Desktop\\new_splited_wheat_dataset\\tmp_train\\images\\OdeskaVitreous\\20220426_172651.jpg: corrupt JPEG restored and saved\n",
      "\u001b[34m\u001b[1mtrain: \u001b[0mWARNING  C:\\Users\\Mehmet\\Desktop\\new_splited_wheat_dataset\\tmp_train\\images\\OdeskaVitreous\\20220426_172701.jpg: corrupt JPEG restored and saved\n",
      "\u001b[34m\u001b[1mtrain: \u001b[0mWARNING  C:\\Users\\Mehmet\\Desktop\\new_splited_wheat_dataset\\tmp_train\\images\\OdeskaVitreous\\20220426_172706.jpg: corrupt JPEG restored and saved\n",
      "\u001b[34m\u001b[1mtrain: \u001b[0mWARNING  C:\\Users\\Mehmet\\Desktop\\new_splited_wheat_dataset\\tmp_train\\images\\OdeskaVitreous\\20220426_172708.jpg: corrupt JPEG restored and saved\n",
      "\u001b[34m\u001b[1mtrain: \u001b[0mWARNING  C:\\Users\\Mehmet\\Desktop\\new_splited_wheat_dataset\\tmp_train\\images\\OdeskaVitreous\\20220426_172711.jpg: corrupt JPEG restored and saved\n",
      "\u001b[34m\u001b[1mtrain: \u001b[0mWARNING  C:\\Users\\Mehmet\\Desktop\\new_splited_wheat_dataset\\tmp_train\\images\\OdeskaVitreous\\20220426_172713.jpg: corrupt JPEG restored and saved\n",
      "\u001b[34m\u001b[1mtrain: \u001b[0mWARNING  C:\\Users\\Mehmet\\Desktop\\new_splited_wheat_dataset\\tmp_train\\images\\OdeskaVitreous\\20220426_172718.jpg: corrupt JPEG restored and saved\n",
      "\u001b[34m\u001b[1mtrain: \u001b[0mWARNING  C:\\Users\\Mehmet\\Desktop\\new_splited_wheat_dataset\\tmp_train\\images\\OdeskaVitreous\\20220426_172724.jpg: corrupt JPEG restored and saved\n",
      "\u001b[34m\u001b[1mtrain: \u001b[0mWARNING  C:\\Users\\Mehmet\\Desktop\\new_splited_wheat_dataset\\tmp_train\\images\\OdeskaVitreous\\20220426_172732.jpg: corrupt JPEG restored and saved\n",
      "\u001b[34m\u001b[1mtrain: \u001b[0mWARNING  C:\\Users\\Mehmet\\Desktop\\new_splited_wheat_dataset\\tmp_train\\images\\OdeskaVitreous\\20220426_172737.jpg: corrupt JPEG restored and saved\n",
      "\u001b[34m\u001b[1mtrain: \u001b[0mWARNING  C:\\Users\\Mehmet\\Desktop\\new_splited_wheat_dataset\\tmp_train\\images\\RumeliVitreous\\20220427_120143.jpg: corrupt JPEG restored and saved\n",
      "\u001b[34m\u001b[1mtrain: \u001b[0mWARNING  C:\\Users\\Mehmet\\Desktop\\new_splited_wheat_dataset\\tmp_train\\images\\RumeliVitreous\\20220427_120151.jpg: corrupt JPEG restored and saved\n",
      "\u001b[34m\u001b[1mtrain: \u001b[0mWARNING  C:\\Users\\Mehmet\\Desktop\\new_splited_wheat_dataset\\tmp_train\\images\\RumeliVitreous\\20220427_120153.jpg: corrupt JPEG restored and saved\n",
      "\u001b[34m\u001b[1mtrain: \u001b[0mWARNING  C:\\Users\\Mehmet\\Desktop\\new_splited_wheat_dataset\\tmp_train\\images\\RumeliVitreous\\20220427_120155.jpg: corrupt JPEG restored and saved\n",
      "\u001b[34m\u001b[1mtrain: \u001b[0mWARNING  C:\\Users\\Mehmet\\Desktop\\new_splited_wheat_dataset\\tmp_train\\images\\RumeliVitreous\\20220427_120159.jpg: corrupt JPEG restored and saved\n",
      "\u001b[34m\u001b[1mtrain: \u001b[0mWARNING  C:\\Users\\Mehmet\\Desktop\\new_splited_wheat_dataset\\tmp_train\\images\\RumeliVitreous\\20220427_120201.jpg: corrupt JPEG restored and saved\n",
      "\u001b[34m\u001b[1mtrain: \u001b[0mWARNING  C:\\Users\\Mehmet\\Desktop\\new_splited_wheat_dataset\\tmp_train\\images\\RumeliVitreous\\20220427_120203.jpg: corrupt JPEG restored and saved\n",
      "\u001b[34m\u001b[1mtrain: \u001b[0mWARNING  C:\\Users\\Mehmet\\Desktop\\new_splited_wheat_dataset\\tmp_train\\images\\RumeliVitreous\\20220427_120207.jpg: corrupt JPEG restored and saved\n",
      "\u001b[34m\u001b[1mtrain: \u001b[0mWARNING  C:\\Users\\Mehmet\\Desktop\\new_splited_wheat_dataset\\tmp_train\\images\\RumeliVitreous\\20220427_120212.jpg: corrupt JPEG restored and saved\n",
      "\u001b[34m\u001b[1mtrain: \u001b[0mWARNING  C:\\Users\\Mehmet\\Desktop\\new_splited_wheat_dataset\\tmp_train\\images\\RumeliVitreous\\20220427_120214.jpg: corrupt JPEG restored and saved\n",
      "\u001b[34m\u001b[1mtrain: \u001b[0mWARNING  C:\\Users\\Mehmet\\Desktop\\new_splited_wheat_dataset\\tmp_train\\images\\RumeliVitreous\\20220427_120218.jpg: corrupt JPEG restored and saved\n",
      "\u001b[34m\u001b[1mtrain: \u001b[0mWARNING  C:\\Users\\Mehmet\\Desktop\\new_splited_wheat_dataset\\tmp_train\\images\\RumeliVitreous\\20220427_120223.jpg: corrupt JPEG restored and saved\n",
      "\u001b[34m\u001b[1mtrain: \u001b[0mWARNING  C:\\Users\\Mehmet\\Desktop\\new_splited_wheat_dataset\\tmp_train\\images\\RumeliVitreous\\20220427_120229.jpg: corrupt JPEG restored and saved\n",
      "\u001b[34m\u001b[1mtrain: \u001b[0mWARNING  C:\\Users\\Mehmet\\Desktop\\new_splited_wheat_dataset\\tmp_train\\images\\RumeliVitreous\\20220427_120247.jpg: corrupt JPEG restored and saved\n",
      "\u001b[34m\u001b[1mtrain: \u001b[0mWARNING  C:\\Users\\Mehmet\\Desktop\\new_splited_wheat_dataset\\tmp_train\\images\\RumeliVitreous\\20220427_120253.jpg: corrupt JPEG restored and saved\n",
      "\u001b[34m\u001b[1mtrain: \u001b[0mWARNING  C:\\Users\\Mehmet\\Desktop\\new_splited_wheat_dataset\\tmp_train\\images\\RumeliVitreous\\20220427_120254.jpg: corrupt JPEG restored and saved\n",
      "\u001b[34m\u001b[1mtrain: \u001b[0mWARNING  C:\\Users\\Mehmet\\Desktop\\new_splited_wheat_dataset\\tmp_train\\images\\RumeliVitreous\\20220427_120256.jpg: corrupt JPEG restored and saved\n",
      "\u001b[34m\u001b[1mtrain: \u001b[0mWARNING  C:\\Users\\Mehmet\\Desktop\\new_splited_wheat_dataset\\tmp_train\\images\\RumeliVitreous\\20220427_120258.jpg: corrupt JPEG restored and saved\n",
      "\u001b[34m\u001b[1mtrain: \u001b[0mWARNING  C:\\Users\\Mehmet\\Desktop\\new_splited_wheat_dataset\\tmp_train\\images\\RumeliVitreous\\20220427_120307.jpg: corrupt JPEG restored and saved\n",
      "\u001b[34m\u001b[1mtrain: \u001b[0mWARNING  C:\\Users\\Mehmet\\Desktop\\new_splited_wheat_dataset\\tmp_train\\images\\RumeliVitreous\\20220427_120309.jpg: corrupt JPEG restored and saved\n",
      "\u001b[34m\u001b[1mtrain: \u001b[0mWARNING  C:\\Users\\Mehmet\\Desktop\\new_splited_wheat_dataset\\tmp_train\\images\\RumeliVitreous\\20220427_120314.jpg: corrupt JPEG restored and saved\n",
      "\u001b[34m\u001b[1mtrain: \u001b[0mWARNING  C:\\Users\\Mehmet\\Desktop\\new_splited_wheat_dataset\\tmp_train\\images\\RumeliVitreous\\20220427_120339.jpg: corrupt JPEG restored and saved\n",
      "\u001b[34m\u001b[1mtrain: \u001b[0mWARNING  C:\\Users\\Mehmet\\Desktop\\new_splited_wheat_dataset\\tmp_train\\images\\RumeliVitreous\\20220427_120341.jpg: corrupt JPEG restored and saved\n",
      "\u001b[34m\u001b[1mtrain: \u001b[0mWARNING  C:\\Users\\Mehmet\\Desktop\\new_splited_wheat_dataset\\tmp_train\\images\\RumeliVitreous\\20220427_120352.jpg: corrupt JPEG restored and saved\n",
      "\u001b[34m\u001b[1mtrain: \u001b[0mWARNING  C:\\Users\\Mehmet\\Desktop\\new_splited_wheat_dataset\\tmp_train\\images\\RumeliVitreous\\20220427_120359.jpg: corrupt JPEG restored and saved\n",
      "\u001b[34m\u001b[1mtrain: \u001b[0mWARNING  C:\\Users\\Mehmet\\Desktop\\new_splited_wheat_dataset\\tmp_train\\images\\RumeliVitreous\\20220427_120404.jpg: corrupt JPEG restored and saved\n",
      "\u001b[34m\u001b[1mtrain: \u001b[0mWARNING  C:\\Users\\Mehmet\\Desktop\\new_splited_wheat_dataset\\tmp_train\\images\\RumeliVitreous\\20220427_120407.jpg: corrupt JPEG restored and saved\n",
      "\u001b[34m\u001b[1mtrain: \u001b[0mWARNING  C:\\Users\\Mehmet\\Desktop\\new_splited_wheat_dataset\\tmp_train\\images\\RumeliVitreous\\20220427_120410.jpg: corrupt JPEG restored and saved\n",
      "\u001b[34m\u001b[1mtrain: \u001b[0mWARNING  C:\\Users\\Mehmet\\Desktop\\new_splited_wheat_dataset\\tmp_train\\images\\RumeliVitreous\\20220427_120417.jpg: corrupt JPEG restored and saved\n",
      "\u001b[34m\u001b[1mtrain: \u001b[0mWARNING  C:\\Users\\Mehmet\\Desktop\\new_splited_wheat_dataset\\tmp_train\\images\\RumeliVitreous\\20220427_120419.jpg: corrupt JPEG restored and saved\n",
      "\u001b[34m\u001b[1mtrain: \u001b[0mWARNING  C:\\Users\\Mehmet\\Desktop\\new_splited_wheat_dataset\\tmp_train\\images\\RumeliVitreous\\20220427_120421.jpg: corrupt JPEG restored and saved\n",
      "\u001b[34m\u001b[1mtrain: \u001b[0mWARNING  C:\\Users\\Mehmet\\Desktop\\new_splited_wheat_dataset\\tmp_train\\images\\RumeliVitreous\\20220427_120423.jpg: corrupt JPEG restored and saved\n",
      "\u001b[34m\u001b[1mtrain: \u001b[0mWARNING  C:\\Users\\Mehmet\\Desktop\\new_splited_wheat_dataset\\tmp_train\\images\\RumeliVitreous\\20220427_120435.jpg: corrupt JPEG restored and saved\n",
      "\u001b[34m\u001b[1mtrain: \u001b[0mWARNING  C:\\Users\\Mehmet\\Desktop\\new_splited_wheat_dataset\\tmp_train\\images\\RumeliVitreous\\20220427_120437.jpg: corrupt JPEG restored and saved\n",
      "\u001b[34m\u001b[1mtrain: \u001b[0mWARNING  C:\\Users\\Mehmet\\Desktop\\new_splited_wheat_dataset\\tmp_train\\images\\RumeliVitreous\\20220427_120452.jpg: corrupt JPEG restored and saved\n",
      "\u001b[34m\u001b[1mtrain: \u001b[0mWARNING  C:\\Users\\Mehmet\\Desktop\\new_splited_wheat_dataset\\tmp_train\\images\\RumeliVitreous\\20220427_120459.jpg: corrupt JPEG restored and saved\n",
      "\u001b[34m\u001b[1mtrain: \u001b[0mWARNING  C:\\Users\\Mehmet\\Desktop\\new_splited_wheat_dataset\\tmp_train\\images\\RumeliVitreous\\20220427_120511.jpg: corrupt JPEG restored and saved\n",
      "\u001b[34m\u001b[1mtrain: \u001b[0mWARNING  C:\\Users\\Mehmet\\Desktop\\new_splited_wheat_dataset\\tmp_train\\images\\RumeliVitreous\\20220427_120521.jpg: corrupt JPEG restored and saved\n",
      "\u001b[34m\u001b[1mtrain: \u001b[0mWARNING  C:\\Users\\Mehmet\\Desktop\\new_splited_wheat_dataset\\tmp_train\\images\\RumeliVitreous\\20220427_120524.jpg: corrupt JPEG restored and saved\n",
      "\u001b[34m\u001b[1mtrain: \u001b[0mWARNING  C:\\Users\\Mehmet\\Desktop\\new_splited_wheat_dataset\\tmp_train\\images\\RumeliVitreous\\20220427_120532.jpg: corrupt JPEG restored and saved\n",
      "\u001b[34m\u001b[1mtrain: \u001b[0mWARNING  C:\\Users\\Mehmet\\Desktop\\new_splited_wheat_dataset\\tmp_train\\images\\RumeliVitreous\\20220427_120535.jpg: corrupt JPEG restored and saved\n",
      "\u001b[34m\u001b[1mtrain: \u001b[0mWARNING  C:\\Users\\Mehmet\\Desktop\\new_splited_wheat_dataset\\tmp_train\\images\\RumeliVitreous\\20220427_120537.jpg: corrupt JPEG restored and saved\n",
      "\u001b[34m\u001b[1mtrain: \u001b[0mWARNING  C:\\Users\\Mehmet\\Desktop\\new_splited_wheat_dataset\\tmp_train\\images\\RumeliVitreous\\20220427_120539.jpg: corrupt JPEG restored and saved\n",
      "\u001b[34m\u001b[1mtrain: \u001b[0mWARNING  C:\\Users\\Mehmet\\Desktop\\new_splited_wheat_dataset\\tmp_train\\images\\RumeliVitreous\\20220427_120544.jpg: corrupt JPEG restored and saved\n",
      "\u001b[34m\u001b[1mtrain: \u001b[0mWARNING  C:\\Users\\Mehmet\\Desktop\\new_splited_wheat_dataset\\tmp_train\\images\\RumeliVitreous\\20220427_120555.jpg: corrupt JPEG restored and saved\n",
      "\u001b[34m\u001b[1mtrain: \u001b[0mWARNING  C:\\Users\\Mehmet\\Desktop\\new_splited_wheat_dataset\\tmp_train\\images\\RumeliVitreous\\20220427_120557.jpg: corrupt JPEG restored and saved\n",
      "\u001b[34m\u001b[1mtrain: \u001b[0mWARNING  C:\\Users\\Mehmet\\Desktop\\new_splited_wheat_dataset\\tmp_train\\images\\RumeliVitreous\\20220427_120601.jpg: corrupt JPEG restored and saved\n",
      "\u001b[34m\u001b[1mtrain: \u001b[0mWARNING  C:\\Users\\Mehmet\\Desktop\\new_splited_wheat_dataset\\tmp_train\\images\\RumeliVitreous\\20220427_120603.jpg: corrupt JPEG restored and saved\n",
      "\u001b[34m\u001b[1mtrain: \u001b[0mWARNING  C:\\Users\\Mehmet\\Desktop\\new_splited_wheat_dataset\\tmp_train\\images\\RumeliVitreous\\20220427_120606.jpg: corrupt JPEG restored and saved\n",
      "\u001b[34m\u001b[1mtrain: \u001b[0mWARNING  C:\\Users\\Mehmet\\Desktop\\new_splited_wheat_dataset\\tmp_train\\images\\RumeliVitreous\\20220427_120610.jpg: corrupt JPEG restored and saved\n",
      "\u001b[34m\u001b[1mtrain: \u001b[0mWARNING  C:\\Users\\Mehmet\\Desktop\\new_splited_wheat_dataset\\tmp_train\\images\\RumeliVitreous\\20220427_120615.jpg: corrupt JPEG restored and saved\n",
      "\u001b[34m\u001b[1mtrain: \u001b[0mWARNING  C:\\Users\\Mehmet\\Desktop\\new_splited_wheat_dataset\\tmp_train\\images\\RumeliVitreous\\20220427_120617.jpg: corrupt JPEG restored and saved\n",
      "\u001b[34m\u001b[1mtrain: \u001b[0mWARNING  C:\\Users\\Mehmet\\Desktop\\new_splited_wheat_dataset\\tmp_train\\images\\RumeliVitreous\\20220427_120619.jpg: corrupt JPEG restored and saved\n",
      "\u001b[34m\u001b[1mtrain: \u001b[0mWARNING  C:\\Users\\Mehmet\\Desktop\\new_splited_wheat_dataset\\tmp_train\\images\\RumeliVitreous\\20220427_120621.jpg: corrupt JPEG restored and saved\n",
      "\u001b[34m\u001b[1mtrain: \u001b[0mWARNING  C:\\Users\\Mehmet\\Desktop\\new_splited_wheat_dataset\\tmp_train\\images\\RumeliVitreous\\20220427_120630.jpg: corrupt JPEG restored and saved\n",
      "\u001b[34m\u001b[1mtrain: \u001b[0mWARNING  C:\\Users\\Mehmet\\Desktop\\new_splited_wheat_dataset\\tmp_train\\images\\RumeliVitreous\\20220427_120634.jpg: corrupt JPEG restored and saved\n",
      "\u001b[34m\u001b[1mtrain: \u001b[0mWARNING  C:\\Users\\Mehmet\\Desktop\\new_splited_wheat_dataset\\tmp_train\\images\\RumeliVitreous\\20220427_120645.jpg: corrupt JPEG restored and saved\n",
      "\u001b[34m\u001b[1mtrain: \u001b[0mWARNING  C:\\Users\\Mehmet\\Desktop\\new_splited_wheat_dataset\\tmp_train\\images\\RumeliVitreous\\20220427_120650.jpg: corrupt JPEG restored and saved\n",
      "\u001b[34m\u001b[1mtrain: \u001b[0mWARNING  C:\\Users\\Mehmet\\Desktop\\new_splited_wheat_dataset\\tmp_train\\images\\RumeliVitreous\\20220427_120654.jpg: corrupt JPEG restored and saved\n",
      "\u001b[34m\u001b[1mtrain: \u001b[0mWARNING  C:\\Users\\Mehmet\\Desktop\\new_splited_wheat_dataset\\tmp_train\\images\\SelimiyeVitreous\\20220425_165106.jpg: corrupt JPEG restored and saved\n",
      "\u001b[34m\u001b[1mtrain: \u001b[0mWARNING  C:\\Users\\Mehmet\\Desktop\\new_splited_wheat_dataset\\tmp_train\\images\\SelimiyeVitreous\\20220425_165109.jpg: corrupt JPEG restored and saved\n",
      "\u001b[34m\u001b[1mtrain: \u001b[0mWARNING  C:\\Users\\Mehmet\\Desktop\\new_splited_wheat_dataset\\tmp_train\\images\\SelimiyeVitreous\\20220425_165113.jpg: corrupt JPEG restored and saved\n",
      "\u001b[34m\u001b[1mtrain: \u001b[0mWARNING  C:\\Users\\Mehmet\\Desktop\\new_splited_wheat_dataset\\tmp_train\\images\\SelimiyeVitreous\\20220425_165115.jpg: corrupt JPEG restored and saved\n",
      "\u001b[34m\u001b[1mtrain: \u001b[0mWARNING  C:\\Users\\Mehmet\\Desktop\\new_splited_wheat_dataset\\tmp_train\\images\\SelimiyeVitreous\\20220425_165117.jpg: corrupt JPEG restored and saved\n",
      "\u001b[34m\u001b[1mtrain: \u001b[0mWARNING  C:\\Users\\Mehmet\\Desktop\\new_splited_wheat_dataset\\tmp_train\\images\\SelimiyeVitreous\\20220425_165121.jpg: corrupt JPEG restored and saved\n",
      "\u001b[34m\u001b[1mtrain: \u001b[0mWARNING  C:\\Users\\Mehmet\\Desktop\\new_splited_wheat_dataset\\tmp_train\\images\\SelimiyeVitreous\\20220425_165124.jpg: corrupt JPEG restored and saved\n",
      "\u001b[34m\u001b[1mtrain: \u001b[0mWARNING  C:\\Users\\Mehmet\\Desktop\\new_splited_wheat_dataset\\tmp_train\\images\\SelimiyeVitreous\\20220425_165126.jpg: corrupt JPEG restored and saved\n",
      "\u001b[34m\u001b[1mtrain: \u001b[0mWARNING  C:\\Users\\Mehmet\\Desktop\\new_splited_wheat_dataset\\tmp_train\\images\\SelimiyeVitreous\\20220425_165130.jpg: corrupt JPEG restored and saved\n",
      "\u001b[34m\u001b[1mtrain: \u001b[0mWARNING  C:\\Users\\Mehmet\\Desktop\\new_splited_wheat_dataset\\tmp_train\\images\\SelimiyeVitreous\\20220425_165133.jpg: corrupt JPEG restored and saved\n",
      "\u001b[34m\u001b[1mtrain: \u001b[0mWARNING  C:\\Users\\Mehmet\\Desktop\\new_splited_wheat_dataset\\tmp_train\\images\\SelimiyeVitreous\\20220425_165135.jpg: corrupt JPEG restored and saved\n",
      "\u001b[34m\u001b[1mtrain: \u001b[0mWARNING  C:\\Users\\Mehmet\\Desktop\\new_splited_wheat_dataset\\tmp_train\\images\\SelimiyeVitreous\\20220425_165139.jpg: corrupt JPEG restored and saved\n",
      "\u001b[34m\u001b[1mtrain: \u001b[0mWARNING  C:\\Users\\Mehmet\\Desktop\\new_splited_wheat_dataset\\tmp_train\\images\\SelimiyeVitreous\\20220425_165141.jpg: corrupt JPEG restored and saved\n",
      "\u001b[34m\u001b[1mtrain: \u001b[0mWARNING  C:\\Users\\Mehmet\\Desktop\\new_splited_wheat_dataset\\tmp_train\\images\\SelimiyeVitreous\\20220425_165143.jpg: corrupt JPEG restored and saved\n",
      "\u001b[34m\u001b[1mtrain: \u001b[0mWARNING  C:\\Users\\Mehmet\\Desktop\\new_splited_wheat_dataset\\tmp_train\\images\\SelimiyeVitreous\\20220425_165148.jpg: corrupt JPEG restored and saved\n",
      "\u001b[34m\u001b[1mtrain: \u001b[0mWARNING  C:\\Users\\Mehmet\\Desktop\\new_splited_wheat_dataset\\tmp_train\\images\\SelimiyeVitreous\\20220425_165157.jpg: corrupt JPEG restored and saved\n",
      "\u001b[34m\u001b[1mtrain: \u001b[0mWARNING  C:\\Users\\Mehmet\\Desktop\\new_splited_wheat_dataset\\tmp_train\\images\\SelimiyeVitreous\\20220425_165202.jpg: corrupt JPEG restored and saved\n",
      "\u001b[34m\u001b[1mtrain: \u001b[0mWARNING  C:\\Users\\Mehmet\\Desktop\\new_splited_wheat_dataset\\tmp_train\\images\\SelimiyeVitreous\\20220425_165204.jpg: corrupt JPEG restored and saved\n",
      "\u001b[34m\u001b[1mtrain: \u001b[0mWARNING  C:\\Users\\Mehmet\\Desktop\\new_splited_wheat_dataset\\tmp_train\\images\\SelimiyeVitreous\\20220425_165208.jpg: corrupt JPEG restored and saved\n",
      "\u001b[34m\u001b[1mtrain: \u001b[0mWARNING  C:\\Users\\Mehmet\\Desktop\\new_splited_wheat_dataset\\tmp_train\\images\\SelimiyeVitreous\\20220425_165228.jpg: corrupt JPEG restored and saved\n",
      "\u001b[34m\u001b[1mtrain: \u001b[0mWARNING  C:\\Users\\Mehmet\\Desktop\\new_splited_wheat_dataset\\tmp_train\\images\\SelimiyeVitreous\\20220425_165231.jpg: corrupt JPEG restored and saved\n",
      "\u001b[34m\u001b[1mtrain: \u001b[0mWARNING  C:\\Users\\Mehmet\\Desktop\\new_splited_wheat_dataset\\tmp_train\\images\\SelimiyeVitreous\\20220425_165233.jpg: corrupt JPEG restored and saved\n",
      "\u001b[34m\u001b[1mtrain: \u001b[0mWARNING  C:\\Users\\Mehmet\\Desktop\\new_splited_wheat_dataset\\tmp_train\\images\\SelimiyeVitreous\\20220425_165236.jpg: corrupt JPEG restored and saved\n",
      "\u001b[34m\u001b[1mtrain: \u001b[0mWARNING  C:\\Users\\Mehmet\\Desktop\\new_splited_wheat_dataset\\tmp_train\\images\\SelimiyeVitreous\\20220425_165238.jpg: corrupt JPEG restored and saved\n",
      "\u001b[34m\u001b[1mtrain: \u001b[0mWARNING  C:\\Users\\Mehmet\\Desktop\\new_splited_wheat_dataset\\tmp_train\\images\\SelimiyeVitreous\\20220425_165245.jpg: corrupt JPEG restored and saved\n",
      "\u001b[34m\u001b[1mtrain: \u001b[0mWARNING  C:\\Users\\Mehmet\\Desktop\\new_splited_wheat_dataset\\tmp_train\\images\\SelimiyeVitreous\\20220425_165248.jpg: corrupt JPEG restored and saved\n",
      "\u001b[34m\u001b[1mtrain: \u001b[0mWARNING  C:\\Users\\Mehmet\\Desktop\\new_splited_wheat_dataset\\tmp_train\\images\\SelimiyeVitreous\\20220425_165305.jpg: corrupt JPEG restored and saved\n",
      "\u001b[34m\u001b[1mtrain: \u001b[0mWARNING  C:\\Users\\Mehmet\\Desktop\\new_splited_wheat_dataset\\tmp_train\\images\\SelimiyeVitreous\\20220425_165307.jpg: corrupt JPEG restored and saved\n",
      "\u001b[34m\u001b[1mtrain: \u001b[0mWARNING  C:\\Users\\Mehmet\\Desktop\\new_splited_wheat_dataset\\tmp_train\\images\\SelimiyeVitreous\\20220425_165309.jpg: corrupt JPEG restored and saved\n",
      "\u001b[34m\u001b[1mtrain: \u001b[0mWARNING  C:\\Users\\Mehmet\\Desktop\\new_splited_wheat_dataset\\tmp_train\\images\\SelimiyeVitreous\\20220425_165311.jpg: corrupt JPEG restored and saved\n",
      "\u001b[34m\u001b[1mtrain: \u001b[0mWARNING  C:\\Users\\Mehmet\\Desktop\\new_splited_wheat_dataset\\tmp_train\\images\\SelimiyeVitreous\\20220425_165313.jpg: corrupt JPEG restored and saved\n",
      "\u001b[34m\u001b[1mtrain: \u001b[0mWARNING  C:\\Users\\Mehmet\\Desktop\\new_splited_wheat_dataset\\tmp_train\\images\\SelimiyeVitreous\\20220425_165319.jpg: corrupt JPEG restored and saved\n",
      "\u001b[34m\u001b[1mtrain: \u001b[0mWARNING  C:\\Users\\Mehmet\\Desktop\\new_splited_wheat_dataset\\tmp_train\\images\\SelimiyeVitreous\\20220425_165321.jpg: corrupt JPEG restored and saved\n",
      "\u001b[34m\u001b[1mtrain: \u001b[0mWARNING  C:\\Users\\Mehmet\\Desktop\\new_splited_wheat_dataset\\tmp_train\\images\\SelimiyeVitreous\\20220425_165326.jpg: corrupt JPEG restored and saved\n",
      "\u001b[34m\u001b[1mtrain: \u001b[0mWARNING  C:\\Users\\Mehmet\\Desktop\\new_splited_wheat_dataset\\tmp_train\\images\\SelimiyeVitreous\\20220425_165332.jpg: corrupt JPEG restored and saved\n",
      "\u001b[34m\u001b[1mtrain: \u001b[0mWARNING  C:\\Users\\Mehmet\\Desktop\\new_splited_wheat_dataset\\tmp_train\\images\\SelimiyeVitreous\\20220425_165346.jpg: corrupt JPEG restored and saved\n",
      "\u001b[34m\u001b[1mtrain: \u001b[0mWARNING  C:\\Users\\Mehmet\\Desktop\\new_splited_wheat_dataset\\tmp_train\\images\\SelimiyeVitreous\\20220425_165348.jpg: corrupt JPEG restored and saved\n",
      "\u001b[34m\u001b[1mtrain: \u001b[0mWARNING  C:\\Users\\Mehmet\\Desktop\\new_splited_wheat_dataset\\tmp_train\\images\\SelimiyeVitreous\\20220425_165353.jpg: corrupt JPEG restored and saved\n",
      "\u001b[34m\u001b[1mtrain: \u001b[0mWARNING  C:\\Users\\Mehmet\\Desktop\\new_splited_wheat_dataset\\tmp_train\\images\\SelimiyeVitreous\\20220425_165357.jpg: corrupt JPEG restored and saved\n",
      "\u001b[34m\u001b[1mtrain: \u001b[0mWARNING  C:\\Users\\Mehmet\\Desktop\\new_splited_wheat_dataset\\tmp_train\\images\\SelimiyeVitreous\\20220425_165402.jpg: corrupt JPEG restored and saved\n",
      "\u001b[34m\u001b[1mtrain: \u001b[0mWARNING  C:\\Users\\Mehmet\\Desktop\\new_splited_wheat_dataset\\tmp_train\\images\\SelimiyeVitreous\\20220425_165407.jpg: corrupt JPEG restored and saved\n",
      "\u001b[34m\u001b[1mtrain: \u001b[0mWARNING  C:\\Users\\Mehmet\\Desktop\\new_splited_wheat_dataset\\tmp_train\\images\\SelimiyeVitreous\\20220425_165416.jpg: corrupt JPEG restored and saved\n",
      "\u001b[34m\u001b[1mtrain: \u001b[0mWARNING  C:\\Users\\Mehmet\\Desktop\\new_splited_wheat_dataset\\tmp_train\\images\\SelimiyeVitreous\\20220425_165418.jpg: corrupt JPEG restored and saved\n",
      "\u001b[34m\u001b[1mtrain: \u001b[0mWARNING  C:\\Users\\Mehmet\\Desktop\\new_splited_wheat_dataset\\tmp_train\\images\\SelimiyeVitreous\\20220425_165420.jpg: corrupt JPEG restored and saved\n",
      "\u001b[34m\u001b[1mtrain: \u001b[0mWARNING  C:\\Users\\Mehmet\\Desktop\\new_splited_wheat_dataset\\tmp_train\\images\\SelimiyeVitreous\\20220425_165438.jpg: corrupt JPEG restored and saved\n",
      "\u001b[34m\u001b[1mtrain: \u001b[0mWARNING  C:\\Users\\Mehmet\\Desktop\\new_splited_wheat_dataset\\tmp_train\\images\\SelimiyeVitreous\\20220425_165441.jpg: corrupt JPEG restored and saved\n",
      "\u001b[34m\u001b[1mtrain: \u001b[0mWARNING  C:\\Users\\Mehmet\\Desktop\\new_splited_wheat_dataset\\tmp_train\\images\\SelimiyeVitreous\\20220425_165451.jpg: corrupt JPEG restored and saved\n",
      "\u001b[34m\u001b[1mtrain: \u001b[0mWARNING  C:\\Users\\Mehmet\\Desktop\\new_splited_wheat_dataset\\tmp_train\\images\\SelimiyeVitreous\\20220425_165454.jpg: corrupt JPEG restored and saved\n",
      "\u001b[34m\u001b[1mtrain: \u001b[0mWARNING  C:\\Users\\Mehmet\\Desktop\\new_splited_wheat_dataset\\tmp_train\\images\\SelimiyeVitreous\\20220425_165457.jpg: corrupt JPEG restored and saved\n",
      "\u001b[34m\u001b[1mtrain: \u001b[0mWARNING  C:\\Users\\Mehmet\\Desktop\\new_splited_wheat_dataset\\tmp_train\\images\\SelimiyeVitreous\\20220425_165500.jpg: corrupt JPEG restored and saved\n",
      "\u001b[34m\u001b[1mtrain: \u001b[0mWARNING  C:\\Users\\Mehmet\\Desktop\\new_splited_wheat_dataset\\tmp_train\\images\\SelimiyeVitreous\\20220425_165503.jpg: corrupt JPEG restored and saved\n",
      "\u001b[34m\u001b[1mtrain: \u001b[0mWARNING  C:\\Users\\Mehmet\\Desktop\\new_splited_wheat_dataset\\tmp_train\\images\\SelimiyeVitreous\\20220425_165505.jpg: corrupt JPEG restored and saved\n",
      "\u001b[34m\u001b[1mtrain: \u001b[0mWARNING  C:\\Users\\Mehmet\\Desktop\\new_splited_wheat_dataset\\tmp_train\\images\\SelimiyeVitreous\\20220425_165507.jpg: corrupt JPEG restored and saved\n",
      "\u001b[34m\u001b[1mtrain: \u001b[0mWARNING  C:\\Users\\Mehmet\\Desktop\\new_splited_wheat_dataset\\tmp_train\\images\\SelimiyeVitreous\\20220425_165510.jpg: corrupt JPEG restored and saved\n",
      "\u001b[34m\u001b[1mtrain: \u001b[0mWARNING  C:\\Users\\Mehmet\\Desktop\\new_splited_wheat_dataset\\tmp_train\\images\\SelimiyeVitreous\\20220425_165512.jpg: corrupt JPEG restored and saved\n",
      "\u001b[34m\u001b[1mtrain: \u001b[0mWARNING  C:\\Users\\Mehmet\\Desktop\\new_splited_wheat_dataset\\tmp_train\\images\\SelimiyeVitreous\\20220425_165514.jpg: corrupt JPEG restored and saved\n",
      "\u001b[34m\u001b[1mtrain: \u001b[0mWARNING  C:\\Users\\Mehmet\\Desktop\\new_splited_wheat_dataset\\tmp_train\\images\\SelimiyeVitreous\\20220425_165518.jpg: corrupt JPEG restored and saved\n",
      "\u001b[34m\u001b[1mtrain: \u001b[0mWARNING  C:\\Users\\Mehmet\\Desktop\\new_splited_wheat_dataset\\tmp_train\\images\\SelimiyeVitreous\\20220425_165522.jpg: corrupt JPEG restored and saved\n",
      "\u001b[34m\u001b[1mtrain: \u001b[0mWARNING  C:\\Users\\Mehmet\\Desktop\\new_splited_wheat_dataset\\tmp_train\\images\\SelimiyeVitreous\\20220425_165525.jpg: corrupt JPEG restored and saved\n",
      "\u001b[34m\u001b[1mtrain: \u001b[0mWARNING  C:\\Users\\Mehmet\\Desktop\\new_splited_wheat_dataset\\tmp_train\\images\\SelimiyeVitreous\\20220425_165542.jpg: corrupt JPEG restored and saved\n",
      "\u001b[34m\u001b[1mtrain: \u001b[0mWARNING  C:\\Users\\Mehmet\\Desktop\\new_splited_wheat_dataset\\tmp_train\\images\\SelimiyeVitreous\\20220425_165550.jpg: corrupt JPEG restored and saved\n",
      "\u001b[34m\u001b[1mtrain: \u001b[0mWARNING  C:\\Users\\Mehmet\\Desktop\\new_splited_wheat_dataset\\tmp_train\\images\\SelimiyeVitreous\\20220425_165553.jpg: corrupt JPEG restored and saved\n",
      "\u001b[34m\u001b[1mtrain: \u001b[0mWARNING  C:\\Users\\Mehmet\\Desktop\\new_splited_wheat_dataset\\tmp_train\\images\\SelimiyeVitreous\\20220425_165559.jpg: corrupt JPEG restored and saved\n",
      "\u001b[34m\u001b[1mtrain: \u001b[0mWARNING  C:\\Users\\Mehmet\\Desktop\\new_splited_wheat_dataset\\tmp_train\\images\\SelimiyeVitreous\\20220425_165609.jpg: corrupt JPEG restored and saved\n",
      "\u001b[34m\u001b[1mtrain: \u001b[0mWARNING  C:\\Users\\Mehmet\\Desktop\\new_splited_wheat_dataset\\tmp_train\\images\\SelimiyeVitreous\\20220425_165612.jpg: corrupt JPEG restored and saved\n",
      "\u001b[34m\u001b[1mtrain: \u001b[0mWARNING  C:\\Users\\Mehmet\\Desktop\\new_splited_wheat_dataset\\tmp_train\\images\\SelimiyeVitreous\\20220425_165618.jpg: corrupt JPEG restored and saved\n",
      "\u001b[34m\u001b[1mtrain: \u001b[0mWARNING  C:\\Users\\Mehmet\\Desktop\\new_splited_wheat_dataset\\tmp_train\\images\\SelimiyeVitreous\\20220425_165631.jpg: corrupt JPEG restored and saved\n",
      "\u001b[34m\u001b[1mtrain: \u001b[0mWARNING  C:\\Users\\Mehmet\\Desktop\\new_splited_wheat_dataset\\tmp_train\\images\\SelimiyeVitreous\\20220425_165635.jpg: corrupt JPEG restored and saved\n",
      "\u001b[34m\u001b[1mtrain: \u001b[0mWARNING  C:\\Users\\Mehmet\\Desktop\\new_splited_wheat_dataset\\tmp_train\\images\\SelimiyeVitreous\\20220425_165637.jpg: corrupt JPEG restored and saved\n",
      "\u001b[34m\u001b[1mtrain: \u001b[0mWARNING  C:\\Users\\Mehmet\\Desktop\\new_splited_wheat_dataset\\tmp_train\\images\\SelimiyeVitreous\\20220425_165639.jpg: corrupt JPEG restored and saved\n",
      "\u001b[34m\u001b[1mtrain: \u001b[0mWARNING  C:\\Users\\Mehmet\\Desktop\\new_splited_wheat_dataset\\tmp_train\\images\\SelimiyeVitreous\\20220425_165643.jpg: corrupt JPEG restored and saved\n",
      "\u001b[34m\u001b[1mtrain: \u001b[0mWARNING  C:\\Users\\Mehmet\\Desktop\\new_splited_wheat_dataset\\tmp_train\\images\\SelimiyeVitreous\\20220425_165649.jpg: corrupt JPEG restored and saved\n",
      "\u001b[34m\u001b[1mtrain: \u001b[0mWARNING  C:\\Users\\Mehmet\\Desktop\\new_splited_wheat_dataset\\tmp_train\\images\\SelimiyeVitreous\\20220425_165702.jpg: corrupt JPEG restored and saved\n",
      "\u001b[34m\u001b[1mtrain: \u001b[0mWARNING  C:\\Users\\Mehmet\\Desktop\\new_splited_wheat_dataset\\tmp_train\\images\\SelimiyeVitreous\\20220425_165707.jpg: corrupt JPEG restored and saved\n",
      "\u001b[34m\u001b[1mtrain: \u001b[0mWARNING  C:\\Users\\Mehmet\\Desktop\\new_splited_wheat_dataset\\tmp_train\\images\\SelimiyeVitreous\\20220425_165730.jpg: corrupt JPEG restored and saved\n",
      "\u001b[34m\u001b[1mtrain: \u001b[0mWARNING  C:\\Users\\Mehmet\\Desktop\\new_splited_wheat_dataset\\tmp_train\\images\\SelimiyeVitreous\\20220425_165733.jpg: corrupt JPEG restored and saved\n",
      "\u001b[34m\u001b[1mtrain: \u001b[0mWARNING  C:\\Users\\Mehmet\\Desktop\\new_splited_wheat_dataset\\tmp_train\\images\\SelimiyeVitreous\\20220425_165742.jpg: corrupt JPEG restored and saved\n",
      "\u001b[34m\u001b[1mtrain: \u001b[0mWARNING  C:\\Users\\Mehmet\\Desktop\\new_splited_wheat_dataset\\tmp_train\\images\\SelimiyeVitreous\\20220425_165759.jpg: corrupt JPEG restored and saved\n",
      "\u001b[34m\u001b[1mtrain: \u001b[0mNew cache created: C:\\Users\\Mehmet\\Desktop\\new_splited_wheat_dataset\\tmp_train\\labels\\Bayraktar2000Vitreous.cache\n"
     ]
    },
    {
     "name": "stderr",
     "output_type": "stream",
     "text": [
      "\n",
      "\u001b[34m\u001b[1mval: \u001b[0mScanning C:\\Users\\Mehmet\\Desktop\\new_splited_wheat_dataset\\tmp_val\\labels\\Bayraktar2000Vitreous... 169 images, 0 backgrounds, 0 corrupt: 100%|██████████| 169/169 [00:08<00:00, 19.10it/s]"
     ]
    },
    {
     "name": "stdout",
     "output_type": "stream",
     "text": [
      "\u001b[34m\u001b[1mval: \u001b[0mWARNING  C:\\Users\\Mehmet\\Desktop\\new_splited_wheat_dataset\\tmp_val\\images\\Bayraktar2000Vitreous\\20220426_144729.jpg: corrupt JPEG restored and saved\n",
      "\u001b[34m\u001b[1mval: \u001b[0mWARNING  C:\\Users\\Mehmet\\Desktop\\new_splited_wheat_dataset\\tmp_val\\images\\Bayraktar2000Vitreous\\20220426_144740.jpg: corrupt JPEG restored and saved\n",
      "\u001b[34m\u001b[1mval: \u001b[0mWARNING  C:\\Users\\Mehmet\\Desktop\\new_splited_wheat_dataset\\tmp_val\\images\\Bayraktar2000Vitreous\\20220426_144809.jpg: corrupt JPEG restored and saved\n",
      "\u001b[34m\u001b[1mval: \u001b[0mWARNING  C:\\Users\\Mehmet\\Desktop\\new_splited_wheat_dataset\\tmp_val\\images\\Bayraktar2000Vitreous\\20220426_144811.jpg: corrupt JPEG restored and saved\n",
      "\u001b[34m\u001b[1mval: \u001b[0mWARNING  C:\\Users\\Mehmet\\Desktop\\new_splited_wheat_dataset\\tmp_val\\images\\Bayraktar2000Vitreous\\20220426_144838.jpg: corrupt JPEG restored and saved\n",
      "\u001b[34m\u001b[1mval: \u001b[0mWARNING  C:\\Users\\Mehmet\\Desktop\\new_splited_wheat_dataset\\tmp_val\\images\\Bayraktar2000Vitreous\\20220426_144841.jpg: corrupt JPEG restored and saved\n",
      "\u001b[34m\u001b[1mval: \u001b[0mWARNING  C:\\Users\\Mehmet\\Desktop\\new_splited_wheat_dataset\\tmp_val\\images\\Bayraktar2000Vitreous\\20220426_144900.jpg: corrupt JPEG restored and saved\n",
      "\u001b[34m\u001b[1mval: \u001b[0mWARNING  C:\\Users\\Mehmet\\Desktop\\new_splited_wheat_dataset\\tmp_val\\images\\Bayraktar2000Vitreous\\20220426_144937.jpg: corrupt JPEG restored and saved\n",
      "\u001b[34m\u001b[1mval: \u001b[0mWARNING  C:\\Users\\Mehmet\\Desktop\\new_splited_wheat_dataset\\tmp_val\\images\\Bayraktar2000Vitreous\\20220426_144956.jpg: corrupt JPEG restored and saved\n",
      "\u001b[34m\u001b[1mval: \u001b[0mWARNING  C:\\Users\\Mehmet\\Desktop\\new_splited_wheat_dataset\\tmp_val\\images\\Bayraktar2000Vitreous\\20220426_145001.jpg: corrupt JPEG restored and saved\n",
      "\u001b[34m\u001b[1mval: \u001b[0mWARNING  C:\\Users\\Mehmet\\Desktop\\new_splited_wheat_dataset\\tmp_val\\images\\Bayraktar2000Vitreous\\20220426_145032.jpg: corrupt JPEG restored and saved\n",
      "\u001b[34m\u001b[1mval: \u001b[0mWARNING  C:\\Users\\Mehmet\\Desktop\\new_splited_wheat_dataset\\tmp_val\\images\\Bayraktar2000Vitreous\\20220426_145122.jpg: corrupt JPEG restored and saved\n",
      "\u001b[34m\u001b[1mval: \u001b[0mWARNING  C:\\Users\\Mehmet\\Desktop\\new_splited_wheat_dataset\\tmp_val\\images\\Bayraktar2000Vitreous\\20220426_145151.jpg: corrupt JPEG restored and saved\n",
      "\u001b[34m\u001b[1mval: \u001b[0mWARNING  C:\\Users\\Mehmet\\Desktop\\new_splited_wheat_dataset\\tmp_val\\images\\Bayraktar2000Vitreous\\20220426_145234.jpg: corrupt JPEG restored and saved\n",
      "\u001b[34m\u001b[1mval: \u001b[0mWARNING  C:\\Users\\Mehmet\\Desktop\\new_splited_wheat_dataset\\tmp_val\\images\\Bayraktar2000Vitreous\\20220426_145246.jpg: corrupt JPEG restored and saved\n",
      "\u001b[34m\u001b[1mval: \u001b[0mWARNING  C:\\Users\\Mehmet\\Desktop\\new_splited_wheat_dataset\\tmp_val\\images\\Bayraktar2000Vitreous\\20220426_145256.jpg: corrupt JPEG restored and saved\n",
      "\u001b[34m\u001b[1mval: \u001b[0mWARNING  C:\\Users\\Mehmet\\Desktop\\new_splited_wheat_dataset\\tmp_val\\images\\Bayraktar2000Vitreous\\20220426_145317.jpg: corrupt JPEG restored and saved\n",
      "\u001b[34m\u001b[1mval: \u001b[0mWARNING  C:\\Users\\Mehmet\\Desktop\\new_splited_wheat_dataset\\tmp_val\\images\\Bezostaja1Vitreous\\20220425_152244.jpg: corrupt JPEG restored and saved\n",
      "\u001b[34m\u001b[1mval: \u001b[0mWARNING  C:\\Users\\Mehmet\\Desktop\\new_splited_wheat_dataset\\tmp_val\\images\\Bezostaja1Vitreous\\20220425_152313.jpg: corrupt JPEG restored and saved\n",
      "\u001b[34m\u001b[1mval: \u001b[0mWARNING  C:\\Users\\Mehmet\\Desktop\\new_splited_wheat_dataset\\tmp_val\\images\\Bezostaja1Vitreous\\20220425_152334.jpg: corrupt JPEG restored and saved\n",
      "\u001b[34m\u001b[1mval: \u001b[0mWARNING  C:\\Users\\Mehmet\\Desktop\\new_splited_wheat_dataset\\tmp_val\\images\\Bezostaja1Vitreous\\20220425_152358.jpg: corrupt JPEG restored and saved\n",
      "\u001b[34m\u001b[1mval: \u001b[0mWARNING  C:\\Users\\Mehmet\\Desktop\\new_splited_wheat_dataset\\tmp_val\\images\\Bezostaja1Vitreous\\20220425_152414.jpg: corrupt JPEG restored and saved\n",
      "\u001b[34m\u001b[1mval: \u001b[0mWARNING  C:\\Users\\Mehmet\\Desktop\\new_splited_wheat_dataset\\tmp_val\\images\\Bezostaja1Vitreous\\20220425_152423.jpg: corrupt JPEG restored and saved\n",
      "\u001b[34m\u001b[1mval: \u001b[0mWARNING  C:\\Users\\Mehmet\\Desktop\\new_splited_wheat_dataset\\tmp_val\\images\\Bezostaja1Vitreous\\20220425_152426.jpg: corrupt JPEG restored and saved\n",
      "\u001b[34m\u001b[1mval: \u001b[0mWARNING  C:\\Users\\Mehmet\\Desktop\\new_splited_wheat_dataset\\tmp_val\\images\\Bezostaja1Vitreous\\20220425_152502.jpg: corrupt JPEG restored and saved\n",
      "\u001b[34m\u001b[1mval: \u001b[0mWARNING  C:\\Users\\Mehmet\\Desktop\\new_splited_wheat_dataset\\tmp_val\\images\\Bezostaja1Vitreous\\20220425_152509.jpg: corrupt JPEG restored and saved\n",
      "\u001b[34m\u001b[1mval: \u001b[0mWARNING  C:\\Users\\Mehmet\\Desktop\\new_splited_wheat_dataset\\tmp_val\\images\\Bezostaja1Vitreous\\20220425_152632.jpg: corrupt JPEG restored and saved\n",
      "\u001b[34m\u001b[1mval: \u001b[0mWARNING  C:\\Users\\Mehmet\\Desktop\\new_splited_wheat_dataset\\tmp_val\\images\\Bezostaja1Vitreous\\20220425_154532.jpg: corrupt JPEG restored and saved\n",
      "\u001b[34m\u001b[1mval: \u001b[0mWARNING  C:\\Users\\Mehmet\\Desktop\\new_splited_wheat_dataset\\tmp_val\\images\\Bezostaja1Vitreous\\20220425_154536.jpg: corrupt JPEG restored and saved\n",
      "\u001b[34m\u001b[1mval: \u001b[0mWARNING  C:\\Users\\Mehmet\\Desktop\\new_splited_wheat_dataset\\tmp_val\\images\\Bezostaja1Vitreous\\20220425_154546.jpg: corrupt JPEG restored and saved\n",
      "\u001b[34m\u001b[1mval: \u001b[0mWARNING  C:\\Users\\Mehmet\\Desktop\\new_splited_wheat_dataset\\tmp_val\\images\\Bezostaja1Vitreous\\20220425_154558.jpg: corrupt JPEG restored and saved\n",
      "\u001b[34m\u001b[1mval: \u001b[0mWARNING  C:\\Users\\Mehmet\\Desktop\\new_splited_wheat_dataset\\tmp_val\\images\\Bezostaja1Vitreous\\20220425_154705.jpg: corrupt JPEG restored and saved\n",
      "\u001b[34m\u001b[1mval: \u001b[0mWARNING  C:\\Users\\Mehmet\\Desktop\\new_splited_wheat_dataset\\tmp_val\\images\\Bezostaja1Vitreous\\20220425_154711.jpg: corrupt JPEG restored and saved\n",
      "\u001b[34m\u001b[1mval: \u001b[0mWARNING  C:\\Users\\Mehmet\\Desktop\\new_splited_wheat_dataset\\tmp_val\\images\\Bezostaja1Vitreous\\20220425_154713.jpg: corrupt JPEG restored and saved\n",
      "\u001b[34m\u001b[1mval: \u001b[0mWARNING  C:\\Users\\Mehmet\\Desktop\\new_splited_wheat_dataset\\tmp_val\\images\\Bezostaja1Vitreous\\20220425_154716.jpg: corrupt JPEG restored and saved\n",
      "\u001b[34m\u001b[1mval: \u001b[0mWARNING  C:\\Users\\Mehmet\\Desktop\\new_splited_wheat_dataset\\tmp_val\\images\\Bezostaja1Vitreous\\20220425_154730.jpg: corrupt JPEG restored and saved\n",
      "\u001b[34m\u001b[1mval: \u001b[0mWARNING  C:\\Users\\Mehmet\\Desktop\\new_splited_wheat_dataset\\tmp_val\\images\\Delabrad2Vitreous\\20220427_122125.jpg: corrupt JPEG restored and saved\n",
      "\u001b[34m\u001b[1mval: \u001b[0mWARNING  C:\\Users\\Mehmet\\Desktop\\new_splited_wheat_dataset\\tmp_val\\images\\Delabrad2Vitreous\\20220427_122317.jpg: corrupt JPEG restored and saved\n",
      "\u001b[34m\u001b[1mval: \u001b[0mWARNING  C:\\Users\\Mehmet\\Desktop\\new_splited_wheat_dataset\\tmp_val\\images\\Delabrad2Vitreous\\20220427_122323.jpg: corrupt JPEG restored and saved\n",
      "\u001b[34m\u001b[1mval: \u001b[0mWARNING  C:\\Users\\Mehmet\\Desktop\\new_splited_wheat_dataset\\tmp_val\\images\\Delabrad2Vitreous\\20220427_122330.jpg: corrupt JPEG restored and saved\n",
      "\u001b[34m\u001b[1mval: \u001b[0mWARNING  C:\\Users\\Mehmet\\Desktop\\new_splited_wheat_dataset\\tmp_val\\images\\Delabrad2Vitreous\\20220427_122403.jpg: corrupt JPEG restored and saved\n",
      "\u001b[34m\u001b[1mval: \u001b[0mWARNING  C:\\Users\\Mehmet\\Desktop\\new_splited_wheat_dataset\\tmp_val\\images\\Delabrad2Vitreous\\20220427_122407.jpg: corrupt JPEG restored and saved\n",
      "\u001b[34m\u001b[1mval: \u001b[0mWARNING  C:\\Users\\Mehmet\\Desktop\\new_splited_wheat_dataset\\tmp_val\\images\\Delabrad2Vitreous\\20220427_122424.jpg: corrupt JPEG restored and saved\n",
      "\u001b[34m\u001b[1mval: \u001b[0mWARNING  C:\\Users\\Mehmet\\Desktop\\new_splited_wheat_dataset\\tmp_val\\images\\Delabrad2Vitreous\\20220427_122428.jpg: corrupt JPEG restored and saved\n",
      "\u001b[34m\u001b[1mval: \u001b[0mWARNING  C:\\Users\\Mehmet\\Desktop\\new_splited_wheat_dataset\\tmp_val\\images\\Delabrad2Vitreous\\20220427_122453.jpg: corrupt JPEG restored and saved\n",
      "\u001b[34m\u001b[1mval: \u001b[0mWARNING  C:\\Users\\Mehmet\\Desktop\\new_splited_wheat_dataset\\tmp_val\\images\\Delabrad2Vitreous\\20220427_122458.jpg: corrupt JPEG restored and saved\n",
      "\u001b[34m\u001b[1mval: \u001b[0mWARNING  C:\\Users\\Mehmet\\Desktop\\new_splited_wheat_dataset\\tmp_val\\images\\Delabrad2Vitreous\\20220427_122500.jpg: corrupt JPEG restored and saved\n",
      "\u001b[34m\u001b[1mval: \u001b[0mWARNING  C:\\Users\\Mehmet\\Desktop\\new_splited_wheat_dataset\\tmp_val\\images\\Delabrad2Vitreous\\20220427_122555.jpg: corrupt JPEG restored and saved\n",
      "\u001b[34m\u001b[1mval: \u001b[0mWARNING  C:\\Users\\Mehmet\\Desktop\\new_splited_wheat_dataset\\tmp_val\\images\\Delabrad2Vitreous\\20220427_122644.jpg: corrupt JPEG restored and saved\n",
      "\u001b[34m\u001b[1mval: \u001b[0mWARNING  C:\\Users\\Mehmet\\Desktop\\new_splited_wheat_dataset\\tmp_val\\images\\Delabrad2Vitreous\\20220427_122648.jpg: corrupt JPEG restored and saved\n",
      "\u001b[34m\u001b[1mval: \u001b[0mWARNING  C:\\Users\\Mehmet\\Desktop\\new_splited_wheat_dataset\\tmp_val\\images\\Delabrad2Vitreous\\20220427_122651.jpg: corrupt JPEG restored and saved\n",
      "\u001b[34m\u001b[1mval: \u001b[0mWARNING  C:\\Users\\Mehmet\\Desktop\\new_splited_wheat_dataset\\tmp_val\\images\\Delabrad2Vitreous\\20220427_122658.jpg: corrupt JPEG restored and saved\n",
      "\u001b[34m\u001b[1mval: \u001b[0mWARNING  C:\\Users\\Mehmet\\Desktop\\new_splited_wheat_dataset\\tmp_val\\images\\EkizVitreous\\20220426_163602.jpg: corrupt JPEG restored and saved\n",
      "\u001b[34m\u001b[1mval: \u001b[0mWARNING  C:\\Users\\Mehmet\\Desktop\\new_splited_wheat_dataset\\tmp_val\\images\\EkizVitreous\\20220426_163605.jpg: corrupt JPEG restored and saved\n",
      "\u001b[34m\u001b[1mval: \u001b[0mWARNING  C:\\Users\\Mehmet\\Desktop\\new_splited_wheat_dataset\\tmp_val\\images\\EkizVitreous\\20220426_163801.jpg: corrupt JPEG restored and saved\n",
      "\u001b[34m\u001b[1mval: \u001b[0mWARNING  C:\\Users\\Mehmet\\Desktop\\new_splited_wheat_dataset\\tmp_val\\images\\EkizVitreous\\20220426_163804.jpg: corrupt JPEG restored and saved\n",
      "\u001b[34m\u001b[1mval: \u001b[0mWARNING  C:\\Users\\Mehmet\\Desktop\\new_splited_wheat_dataset\\tmp_val\\images\\EkizVitreous\\20220426_163821.jpg: corrupt JPEG restored and saved\n",
      "\u001b[34m\u001b[1mval: \u001b[0mWARNING  C:\\Users\\Mehmet\\Desktop\\new_splited_wheat_dataset\\tmp_val\\images\\EkizVitreous\\20220426_163839.jpg: corrupt JPEG restored and saved\n",
      "\u001b[34m\u001b[1mval: \u001b[0mWARNING  C:\\Users\\Mehmet\\Desktop\\new_splited_wheat_dataset\\tmp_val\\images\\EkizVitreous\\20220426_163924.jpg: corrupt JPEG restored and saved\n",
      "\u001b[34m\u001b[1mval: \u001b[0mWARNING  C:\\Users\\Mehmet\\Desktop\\new_splited_wheat_dataset\\tmp_val\\images\\EkizVitreous\\20220426_163948.jpg: corrupt JPEG restored and saved\n",
      "\u001b[34m\u001b[1mval: \u001b[0mWARNING  C:\\Users\\Mehmet\\Desktop\\new_splited_wheat_dataset\\tmp_val\\images\\EkizVitreous\\20220426_164023.jpg: corrupt JPEG restored and saved\n",
      "\u001b[34m\u001b[1mval: \u001b[0mWARNING  C:\\Users\\Mehmet\\Desktop\\new_splited_wheat_dataset\\tmp_val\\images\\EkizVitreous\\20220426_164052.jpg: corrupt JPEG restored and saved\n",
      "\u001b[34m\u001b[1mval: \u001b[0mWARNING  C:\\Users\\Mehmet\\Desktop\\new_splited_wheat_dataset\\tmp_val\\images\\EkizVitreous\\20220426_164058.jpg: corrupt JPEG restored and saved\n",
      "\u001b[34m\u001b[1mval: \u001b[0mWARNING  C:\\Users\\Mehmet\\Desktop\\new_splited_wheat_dataset\\tmp_val\\images\\EsperiaVitreous\\20220425_170955.jpg: corrupt JPEG restored and saved\n",
      "\u001b[34m\u001b[1mval: \u001b[0mWARNING  C:\\Users\\Mehmet\\Desktop\\new_splited_wheat_dataset\\tmp_val\\images\\EsperiaVitreous\\20220425_171023.jpg: corrupt JPEG restored and saved\n",
      "\u001b[34m\u001b[1mval: \u001b[0mWARNING  C:\\Users\\Mehmet\\Desktop\\new_splited_wheat_dataset\\tmp_val\\images\\EsperiaVitreous\\20220425_171030.jpg: corrupt JPEG restored and saved\n",
      "\u001b[34m\u001b[1mval: \u001b[0mWARNING  C:\\Users\\Mehmet\\Desktop\\new_splited_wheat_dataset\\tmp_val\\images\\EsperiaVitreous\\20220425_171043.jpg: corrupt JPEG restored and saved\n",
      "\u001b[34m\u001b[1mval: \u001b[0mWARNING  C:\\Users\\Mehmet\\Desktop\\new_splited_wheat_dataset\\tmp_val\\images\\EsperiaVitreous\\20220425_171100.jpg: corrupt JPEG restored and saved\n",
      "\u001b[34m\u001b[1mval: \u001b[0mWARNING  C:\\Users\\Mehmet\\Desktop\\new_splited_wheat_dataset\\tmp_val\\images\\EsperiaVitreous\\20220425_171239.jpg: corrupt JPEG restored and saved\n",
      "\u001b[34m\u001b[1mval: \u001b[0mWARNING  C:\\Users\\Mehmet\\Desktop\\new_splited_wheat_dataset\\tmp_val\\images\\EsperiaVitreous\\20220425_171309.jpg: corrupt JPEG restored and saved\n",
      "\u001b[34m\u001b[1mval: \u001b[0mWARNING  C:\\Users\\Mehmet\\Desktop\\new_splited_wheat_dataset\\tmp_val\\images\\EsperiaVitreous\\20220425_171335.jpg: corrupt JPEG restored and saved\n",
      "\u001b[34m\u001b[1mval: \u001b[0mWARNING  C:\\Users\\Mehmet\\Desktop\\new_splited_wheat_dataset\\tmp_val\\images\\EsperiaVitreous\\20220425_171337.jpg: corrupt JPEG restored and saved\n",
      "\u001b[34m\u001b[1mval: \u001b[0mWARNING  C:\\Users\\Mehmet\\Desktop\\new_splited_wheat_dataset\\tmp_val\\images\\EsperiaVitreous\\20220425_171356.jpg: corrupt JPEG restored and saved\n",
      "\u001b[34m\u001b[1mval: \u001b[0mWARNING  C:\\Users\\Mehmet\\Desktop\\new_splited_wheat_dataset\\tmp_val\\images\\EsperiaVitreous\\20220425_171402.jpg: corrupt JPEG restored and saved\n",
      "\u001b[34m\u001b[1mval: \u001b[0mWARNING  C:\\Users\\Mehmet\\Desktop\\new_splited_wheat_dataset\\tmp_val\\images\\EsperiaVitreous\\20220425_171407.jpg: corrupt JPEG restored and saved\n",
      "\u001b[34m\u001b[1mval: \u001b[0mWARNING  C:\\Users\\Mehmet\\Desktop\\new_splited_wheat_dataset\\tmp_val\\images\\EsperiaVitreous\\20220425_171414.jpg: corrupt JPEG restored and saved\n",
      "\u001b[34m\u001b[1mval: \u001b[0mWARNING  C:\\Users\\Mehmet\\Desktop\\new_splited_wheat_dataset\\tmp_val\\images\\EsperiaVitreous\\20220425_171416.jpg: corrupt JPEG restored and saved\n",
      "\u001b[34m\u001b[1mval: \u001b[0mWARNING  C:\\Users\\Mehmet\\Desktop\\new_splited_wheat_dataset\\tmp_val\\images\\EsperiaVitreous\\20220425_171433.jpg: corrupt JPEG restored and saved\n",
      "\u001b[34m\u001b[1mval: \u001b[0mWARNING  C:\\Users\\Mehmet\\Desktop\\new_splited_wheat_dataset\\tmp_val\\images\\EsperiaVitreous\\20220425_171443.jpg: corrupt JPEG restored and saved\n",
      "\u001b[34m\u001b[1mval: \u001b[0mWARNING  C:\\Users\\Mehmet\\Desktop\\new_splited_wheat_dataset\\tmp_val\\images\\EsperiaVitreous\\20220425_171502.jpg: corrupt JPEG restored and saved\n",
      "\u001b[34m\u001b[1mval: \u001b[0mWARNING  C:\\Users\\Mehmet\\Desktop\\new_splited_wheat_dataset\\tmp_val\\images\\EsperiaVitreous\\20220425_171531.jpg: corrupt JPEG restored and saved\n",
      "\u001b[34m\u001b[1mval: \u001b[0mWARNING  C:\\Users\\Mehmet\\Desktop\\new_splited_wheat_dataset\\tmp_val\\images\\KiziltanVitreous\\20220426_154738.jpg: corrupt JPEG restored and saved\n",
      "\u001b[34m\u001b[1mval: \u001b[0mWARNING  C:\\Users\\Mehmet\\Desktop\\new_splited_wheat_dataset\\tmp_val\\images\\KiziltanVitreous\\20220426_154806.jpg: corrupt JPEG restored and saved\n",
      "\u001b[34m\u001b[1mval: \u001b[0mWARNING  C:\\Users\\Mehmet\\Desktop\\new_splited_wheat_dataset\\tmp_val\\images\\KiziltanVitreous\\20220426_154909.jpg: corrupt JPEG restored and saved\n",
      "\u001b[34m\u001b[1mval: \u001b[0mWARNING  C:\\Users\\Mehmet\\Desktop\\new_splited_wheat_dataset\\tmp_val\\images\\KiziltanVitreous\\20220426_155031.jpg: corrupt JPEG restored and saved\n",
      "\u001b[34m\u001b[1mval: \u001b[0mWARNING  C:\\Users\\Mehmet\\Desktop\\new_splited_wheat_dataset\\tmp_val\\images\\KiziltanVitreous\\20220426_155038.jpg: corrupt JPEG restored and saved\n",
      "\u001b[34m\u001b[1mval: \u001b[0mWARNING  C:\\Users\\Mehmet\\Desktop\\new_splited_wheat_dataset\\tmp_val\\images\\KiziltanVitreous\\20220426_155046.jpg: corrupt JPEG restored and saved\n",
      "\u001b[34m\u001b[1mval: \u001b[0mWARNING  C:\\Users\\Mehmet\\Desktop\\new_splited_wheat_dataset\\tmp_val\\images\\KiziltanVitreous\\20220426_155048.jpg: corrupt JPEG restored and saved\n",
      "\u001b[34m\u001b[1mval: \u001b[0mWARNING  C:\\Users\\Mehmet\\Desktop\\new_splited_wheat_dataset\\tmp_val\\images\\KiziltanVitreous\\20220426_155051.jpg: corrupt JPEG restored and saved\n",
      "\u001b[34m\u001b[1mval: \u001b[0mWARNING  C:\\Users\\Mehmet\\Desktop\\new_splited_wheat_dataset\\tmp_val\\images\\KiziltanVitreous\\20220426_160323.jpg: corrupt JPEG restored and saved\n",
      "\u001b[34m\u001b[1mval: \u001b[0mWARNING  C:\\Users\\Mehmet\\Desktop\\new_splited_wheat_dataset\\tmp_val\\images\\KiziltanVitreous\\20220426_160338.jpg: corrupt JPEG restored and saved\n",
      "\u001b[34m\u001b[1mval: \u001b[0mWARNING  C:\\Users\\Mehmet\\Desktop\\new_splited_wheat_dataset\\tmp_val\\images\\KiziltanVitreous\\20220426_160354.jpg: corrupt JPEG restored and saved\n",
      "\u001b[34m\u001b[1mval: \u001b[0mWARNING  C:\\Users\\Mehmet\\Desktop\\new_splited_wheat_dataset\\tmp_val\\images\\KiziltanVitreous\\20220426_160429.jpg: corrupt JPEG restored and saved\n",
      "\u001b[34m\u001b[1mval: \u001b[0mWARNING  C:\\Users\\Mehmet\\Desktop\\new_splited_wheat_dataset\\tmp_val\\images\\KiziltanVitreous\\20220426_160433.jpg: corrupt JPEG restored and saved\n",
      "\u001b[34m\u001b[1mval: \u001b[0mWARNING  C:\\Users\\Mehmet\\Desktop\\new_splited_wheat_dataset\\tmp_val\\images\\KiziltanVitreous\\20220426_160437.jpg: corrupt JPEG restored and saved\n",
      "\u001b[34m\u001b[1mval: \u001b[0mWARNING  C:\\Users\\Mehmet\\Desktop\\new_splited_wheat_dataset\\tmp_val\\images\\KiziltanVitreous\\20220426_160516.jpg: corrupt JPEG restored and saved\n",
      "\u001b[34m\u001b[1mval: \u001b[0mWARNING  C:\\Users\\Mehmet\\Desktop\\new_splited_wheat_dataset\\tmp_val\\images\\KiziltanVitreous\\20220426_160528.jpg: corrupt JPEG restored and saved\n",
      "\u001b[34m\u001b[1mval: \u001b[0mWARNING  C:\\Users\\Mehmet\\Desktop\\new_splited_wheat_dataset\\tmp_val\\images\\KiziltanVitreous\\20220426_160539.jpg: corrupt JPEG restored and saved\n",
      "\u001b[34m\u001b[1mval: \u001b[0mWARNING  C:\\Users\\Mehmet\\Desktop\\new_splited_wheat_dataset\\tmp_val\\images\\KiziltanVitreous\\20220426_160542.jpg: corrupt JPEG restored and saved\n",
      "\u001b[34m\u001b[1mval: \u001b[0mWARNING  C:\\Users\\Mehmet\\Desktop\\new_splited_wheat_dataset\\tmp_val\\images\\KiziltanVitreous\\20220426_160613.jpg: corrupt JPEG restored and saved\n",
      "\u001b[34m\u001b[1mval: \u001b[0mWARNING  C:\\Users\\Mehmet\\Desktop\\new_splited_wheat_dataset\\tmp_val\\images\\LucillaVitreous\\20220426_175137.jpg: corrupt JPEG restored and saved\n",
      "\u001b[34m\u001b[1mval: \u001b[0mWARNING  C:\\Users\\Mehmet\\Desktop\\new_splited_wheat_dataset\\tmp_val\\images\\LucillaVitreous\\20220426_175141.jpg: corrupt JPEG restored and saved\n",
      "\u001b[34m\u001b[1mval: \u001b[0mWARNING  C:\\Users\\Mehmet\\Desktop\\new_splited_wheat_dataset\\tmp_val\\images\\LucillaVitreous\\20220426_175149.jpg: corrupt JPEG restored and saved\n",
      "\u001b[34m\u001b[1mval: \u001b[0mWARNING  C:\\Users\\Mehmet\\Desktop\\new_splited_wheat_dataset\\tmp_val\\images\\LucillaVitreous\\20220426_175156.jpg: corrupt JPEG restored and saved\n",
      "\u001b[34m\u001b[1mval: \u001b[0mWARNING  C:\\Users\\Mehmet\\Desktop\\new_splited_wheat_dataset\\tmp_val\\images\\LucillaVitreous\\20220426_175233.jpg: corrupt JPEG restored and saved\n",
      "\u001b[34m\u001b[1mval: \u001b[0mWARNING  C:\\Users\\Mehmet\\Desktop\\new_splited_wheat_dataset\\tmp_val\\images\\LucillaVitreous\\20220426_175254.jpg: corrupt JPEG restored and saved\n",
      "\u001b[34m\u001b[1mval: \u001b[0mWARNING  C:\\Users\\Mehmet\\Desktop\\new_splited_wheat_dataset\\tmp_val\\images\\LucillaVitreous\\20220426_175341.jpg: corrupt JPEG restored and saved\n",
      "\u001b[34m\u001b[1mval: \u001b[0mWARNING  C:\\Users\\Mehmet\\Desktop\\new_splited_wheat_dataset\\tmp_val\\images\\LucillaVitreous\\20220426_175353.jpg: corrupt JPEG restored and saved\n",
      "\u001b[34m\u001b[1mval: \u001b[0mWARNING  C:\\Users\\Mehmet\\Desktop\\new_splited_wheat_dataset\\tmp_val\\images\\LucillaVitreous\\20220426_175415.jpg: corrupt JPEG restored and saved\n",
      "\u001b[34m\u001b[1mval: \u001b[0mWARNING  C:\\Users\\Mehmet\\Desktop\\new_splited_wheat_dataset\\tmp_val\\images\\LucillaVitreous\\20220426_175419.jpg: corrupt JPEG restored and saved\n",
      "\u001b[34m\u001b[1mval: \u001b[0mWARNING  C:\\Users\\Mehmet\\Desktop\\new_splited_wheat_dataset\\tmp_val\\images\\LucillaVitreous\\20220426_175424.jpg: corrupt JPEG restored and saved\n",
      "\u001b[34m\u001b[1mval: \u001b[0mWARNING  C:\\Users\\Mehmet\\Desktop\\new_splited_wheat_dataset\\tmp_val\\images\\LucillaVitreous\\20220426_175435.jpg: corrupt JPEG restored and saved\n",
      "\u001b[34m\u001b[1mval: \u001b[0mWARNING  C:\\Users\\Mehmet\\Desktop\\new_splited_wheat_dataset\\tmp_val\\images\\LucillaVitreous\\20220426_175441.jpg: corrupt JPEG restored and saved\n",
      "\u001b[34m\u001b[1mval: \u001b[0mWARNING  C:\\Users\\Mehmet\\Desktop\\new_splited_wheat_dataset\\tmp_val\\images\\LucillaVitreous\\20220426_175449.jpg: corrupt JPEG restored and saved\n",
      "\u001b[34m\u001b[1mval: \u001b[0mWARNING  C:\\Users\\Mehmet\\Desktop\\new_splited_wheat_dataset\\tmp_val\\images\\LucillaVitreous\\20220426_175451.jpg: corrupt JPEG restored and saved\n",
      "\u001b[34m\u001b[1mval: \u001b[0mWARNING  C:\\Users\\Mehmet\\Desktop\\new_splited_wheat_dataset\\tmp_val\\images\\LucillaVitreous\\20220426_175458.jpg: corrupt JPEG restored and saved\n",
      "\u001b[34m\u001b[1mval: \u001b[0mWARNING  C:\\Users\\Mehmet\\Desktop\\new_splited_wheat_dataset\\tmp_val\\images\\LucillaVitreous\\20220426_175500.jpg: corrupt JPEG restored and saved\n",
      "\u001b[34m\u001b[1mval: \u001b[0mWARNING  C:\\Users\\Mehmet\\Desktop\\new_splited_wheat_dataset\\tmp_val\\images\\LucillaVitreous\\20220426_175502.jpg: corrupt JPEG restored and saved\n",
      "\u001b[34m\u001b[1mval: \u001b[0mWARNING  C:\\Users\\Mehmet\\Desktop\\new_splited_wheat_dataset\\tmp_val\\images\\LucillaVitreous\\20220426_175529.jpg: corrupt JPEG restored and saved\n",
      "\u001b[34m\u001b[1mval: \u001b[0mWARNING  C:\\Users\\Mehmet\\Desktop\\new_splited_wheat_dataset\\tmp_val\\images\\LucillaVitreous\\20220426_175531.jpg: corrupt JPEG restored and saved\n",
      "\u001b[34m\u001b[1mval: \u001b[0mWARNING  C:\\Users\\Mehmet\\Desktop\\new_splited_wheat_dataset\\tmp_val\\images\\LucillaVitreous\\20220426_175537.jpg: corrupt JPEG restored and saved\n",
      "\u001b[34m\u001b[1mval: \u001b[0mWARNING  C:\\Users\\Mehmet\\Desktop\\new_splited_wheat_dataset\\tmp_val\\images\\OdeskaVitreous\\20220426_172227.jpg: corrupt JPEG restored and saved\n",
      "\u001b[34m\u001b[1mval: \u001b[0mWARNING  C:\\Users\\Mehmet\\Desktop\\new_splited_wheat_dataset\\tmp_val\\images\\OdeskaVitreous\\20220426_172248.jpg: corrupt JPEG restored and saved\n",
      "\u001b[34m\u001b[1mval: \u001b[0mWARNING  C:\\Users\\Mehmet\\Desktop\\new_splited_wheat_dataset\\tmp_val\\images\\OdeskaVitreous\\20220426_172341.jpg: corrupt JPEG restored and saved\n",
      "\u001b[34m\u001b[1mval: \u001b[0mWARNING  C:\\Users\\Mehmet\\Desktop\\new_splited_wheat_dataset\\tmp_val\\images\\OdeskaVitreous\\20220426_172345.jpg: corrupt JPEG restored and saved\n",
      "\u001b[34m\u001b[1mval: \u001b[0mWARNING  C:\\Users\\Mehmet\\Desktop\\new_splited_wheat_dataset\\tmp_val\\images\\OdeskaVitreous\\20220426_172359.jpg: corrupt JPEG restored and saved\n",
      "\u001b[34m\u001b[1mval: \u001b[0mWARNING  C:\\Users\\Mehmet\\Desktop\\new_splited_wheat_dataset\\tmp_val\\images\\OdeskaVitreous\\20220426_172540.jpg: corrupt JPEG restored and saved\n",
      "\u001b[34m\u001b[1mval: \u001b[0mWARNING  C:\\Users\\Mehmet\\Desktop\\new_splited_wheat_dataset\\tmp_val\\images\\OdeskaVitreous\\20220426_172559.jpg: corrupt JPEG restored and saved\n",
      "\u001b[34m\u001b[1mval: \u001b[0mWARNING  C:\\Users\\Mehmet\\Desktop\\new_splited_wheat_dataset\\tmp_val\\images\\OdeskaVitreous\\20220426_172601.jpg: corrupt JPEG restored and saved\n",
      "\u001b[34m\u001b[1mval: \u001b[0mWARNING  C:\\Users\\Mehmet\\Desktop\\new_splited_wheat_dataset\\tmp_val\\images\\OdeskaVitreous\\20220426_172603.jpg: corrupt JPEG restored and saved\n",
      "\u001b[34m\u001b[1mval: \u001b[0mWARNING  C:\\Users\\Mehmet\\Desktop\\new_splited_wheat_dataset\\tmp_val\\images\\OdeskaVitreous\\20220426_172631.jpg: corrupt JPEG restored and saved\n",
      "\u001b[34m\u001b[1mval: \u001b[0mWARNING  C:\\Users\\Mehmet\\Desktop\\new_splited_wheat_dataset\\tmp_val\\images\\OdeskaVitreous\\20220426_172649.jpg: corrupt JPEG restored and saved\n",
      "\u001b[34m\u001b[1mval: \u001b[0mWARNING  C:\\Users\\Mehmet\\Desktop\\new_splited_wheat_dataset\\tmp_val\\images\\OdeskaVitreous\\20220426_172659.jpg: corrupt JPEG restored and saved\n",
      "\u001b[34m\u001b[1mval: \u001b[0mWARNING  C:\\Users\\Mehmet\\Desktop\\new_splited_wheat_dataset\\tmp_val\\images\\RumeliVitreous\\20220427_120149.jpg: corrupt JPEG restored and saved\n",
      "\u001b[34m\u001b[1mval: \u001b[0mWARNING  C:\\Users\\Mehmet\\Desktop\\new_splited_wheat_dataset\\tmp_val\\images\\RumeliVitreous\\20220427_120205.jpg: corrupt JPEG restored and saved\n",
      "\u001b[34m\u001b[1mval: \u001b[0mWARNING  C:\\Users\\Mehmet\\Desktop\\new_splited_wheat_dataset\\tmp_val\\images\\RumeliVitreous\\20220427_120209.jpg: corrupt JPEG restored and saved\n",
      "\u001b[34m\u001b[1mval: \u001b[0mWARNING  C:\\Users\\Mehmet\\Desktop\\new_splited_wheat_dataset\\tmp_val\\images\\RumeliVitreous\\20220427_120216.jpg: corrupt JPEG restored and saved\n",
      "\u001b[34m\u001b[1mval: \u001b[0mWARNING  C:\\Users\\Mehmet\\Desktop\\new_splited_wheat_dataset\\tmp_val\\images\\RumeliVitreous\\20220427_120233.jpg: corrupt JPEG restored and saved\n",
      "\u001b[34m\u001b[1mval: \u001b[0mWARNING  C:\\Users\\Mehmet\\Desktop\\new_splited_wheat_dataset\\tmp_val\\images\\RumeliVitreous\\20220427_120317.jpg: corrupt JPEG restored and saved\n",
      "\u001b[34m\u001b[1mval: \u001b[0mWARNING  C:\\Users\\Mehmet\\Desktop\\new_splited_wheat_dataset\\tmp_val\\images\\RumeliVitreous\\20220427_120329.jpg: corrupt JPEG restored and saved\n",
      "\u001b[34m\u001b[1mval: \u001b[0mWARNING  C:\\Users\\Mehmet\\Desktop\\new_splited_wheat_dataset\\tmp_val\\images\\RumeliVitreous\\20220427_120332.jpg: corrupt JPEG restored and saved\n",
      "\u001b[34m\u001b[1mval: \u001b[0mWARNING  C:\\Users\\Mehmet\\Desktop\\new_splited_wheat_dataset\\tmp_val\\images\\RumeliVitreous\\20220427_120336.jpg: corrupt JPEG restored and saved\n",
      "\u001b[34m\u001b[1mval: \u001b[0mWARNING  C:\\Users\\Mehmet\\Desktop\\new_splited_wheat_dataset\\tmp_val\\images\\RumeliVitreous\\20220427_120425.jpg: corrupt JPEG restored and saved\n",
      "\u001b[34m\u001b[1mval: \u001b[0mWARNING  C:\\Users\\Mehmet\\Desktop\\new_splited_wheat_dataset\\tmp_val\\images\\RumeliVitreous\\20220427_120428.jpg: corrupt JPEG restored and saved\n",
      "\u001b[34m\u001b[1mval: \u001b[0mWARNING  C:\\Users\\Mehmet\\Desktop\\new_splited_wheat_dataset\\tmp_val\\images\\RumeliVitreous\\20220427_120430.jpg: corrupt JPEG restored and saved\n",
      "\u001b[34m\u001b[1mval: \u001b[0mWARNING  C:\\Users\\Mehmet\\Desktop\\new_splited_wheat_dataset\\tmp_val\\images\\RumeliVitreous\\20220427_120450.jpg: corrupt JPEG restored and saved\n",
      "\u001b[34m\u001b[1mval: \u001b[0mWARNING  C:\\Users\\Mehmet\\Desktop\\new_splited_wheat_dataset\\tmp_val\\images\\RumeliVitreous\\20220427_120457.jpg: corrupt JPEG restored and saved\n",
      "\u001b[34m\u001b[1mval: \u001b[0mWARNING  C:\\Users\\Mehmet\\Desktop\\new_splited_wheat_dataset\\tmp_val\\images\\RumeliVitreous\\20220427_120504.jpg: corrupt JPEG restored and saved\n",
      "\u001b[34m\u001b[1mval: \u001b[0mWARNING  C:\\Users\\Mehmet\\Desktop\\new_splited_wheat_dataset\\tmp_val\\images\\RumeliVitreous\\20220427_120508.jpg: corrupt JPEG restored and saved\n",
      "\u001b[34m\u001b[1mval: \u001b[0mWARNING  C:\\Users\\Mehmet\\Desktop\\new_splited_wheat_dataset\\tmp_val\\images\\RumeliVitreous\\20220427_120513.jpg: corrupt JPEG restored and saved\n",
      "\u001b[34m\u001b[1mval: \u001b[0mWARNING  C:\\Users\\Mehmet\\Desktop\\new_splited_wheat_dataset\\tmp_val\\images\\RumeliVitreous\\20220427_120526.jpg: corrupt JPEG restored and saved\n",
      "\u001b[34m\u001b[1mval: \u001b[0mWARNING  C:\\Users\\Mehmet\\Desktop\\new_splited_wheat_dataset\\tmp_val\\images\\RumeliVitreous\\20220427_120607.jpg: corrupt JPEG restored and saved\n",
      "\u001b[34m\u001b[1mval: \u001b[0mWARNING  C:\\Users\\Mehmet\\Desktop\\new_splited_wheat_dataset\\tmp_val\\images\\RumeliVitreous\\20220427_120613.jpg: corrupt JPEG restored and saved\n",
      "\u001b[34m\u001b[1mval: \u001b[0mWARNING  C:\\Users\\Mehmet\\Desktop\\new_splited_wheat_dataset\\tmp_val\\images\\RumeliVitreous\\20220427_120626.jpg: corrupt JPEG restored and saved\n",
      "\u001b[34m\u001b[1mval: \u001b[0mWARNING  C:\\Users\\Mehmet\\Desktop\\new_splited_wheat_dataset\\tmp_val\\images\\RumeliVitreous\\20220427_120628.jpg: corrupt JPEG restored and saved\n",
      "\u001b[34m\u001b[1mval: \u001b[0mWARNING  C:\\Users\\Mehmet\\Desktop\\new_splited_wheat_dataset\\tmp_val\\images\\SelimiyeVitreous\\20220425_165111.jpg: corrupt JPEG restored and saved\n",
      "\u001b[34m\u001b[1mval: \u001b[0mWARNING  C:\\Users\\Mehmet\\Desktop\\new_splited_wheat_dataset\\tmp_val\\images\\SelimiyeVitreous\\20220425_165145.jpg: corrupt JPEG restored and saved\n",
      "\u001b[34m\u001b[1mval: \u001b[0mWARNING  C:\\Users\\Mehmet\\Desktop\\new_splited_wheat_dataset\\tmp_val\\images\\SelimiyeVitreous\\20220425_165210.jpg: corrupt JPEG restored and saved\n",
      "\u001b[34m\u001b[1mval: \u001b[0mWARNING  C:\\Users\\Mehmet\\Desktop\\new_splited_wheat_dataset\\tmp_val\\images\\SelimiyeVitreous\\20220425_165216.jpg: corrupt JPEG restored and saved\n",
      "\u001b[34m\u001b[1mval: \u001b[0mWARNING  C:\\Users\\Mehmet\\Desktop\\new_splited_wheat_dataset\\tmp_val\\images\\SelimiyeVitreous\\20220425_165242.jpg: corrupt JPEG restored and saved\n",
      "\u001b[34m\u001b[1mval: \u001b[0mWARNING  C:\\Users\\Mehmet\\Desktop\\new_splited_wheat_dataset\\tmp_val\\images\\SelimiyeVitreous\\20220425_165316.jpg: corrupt JPEG restored and saved\n",
      "\u001b[34m\u001b[1mval: \u001b[0mWARNING  C:\\Users\\Mehmet\\Desktop\\new_splited_wheat_dataset\\tmp_val\\images\\SelimiyeVitreous\\20220425_165340.jpg: corrupt JPEG restored and saved\n",
      "\u001b[34m\u001b[1mval: \u001b[0mWARNING  C:\\Users\\Mehmet\\Desktop\\new_splited_wheat_dataset\\tmp_val\\images\\SelimiyeVitreous\\20220425_165427.jpg: corrupt JPEG restored and saved\n",
      "\u001b[34m\u001b[1mval: \u001b[0mWARNING  C:\\Users\\Mehmet\\Desktop\\new_splited_wheat_dataset\\tmp_val\\images\\SelimiyeVitreous\\20220425_165433.jpg: corrupt JPEG restored and saved\n",
      "\u001b[34m\u001b[1mval: \u001b[0mWARNING  C:\\Users\\Mehmet\\Desktop\\new_splited_wheat_dataset\\tmp_val\\images\\SelimiyeVitreous\\20220425_165544.jpg: corrupt JPEG restored and saved\n",
      "\u001b[34m\u001b[1mval: \u001b[0mWARNING  C:\\Users\\Mehmet\\Desktop\\new_splited_wheat_dataset\\tmp_val\\images\\SelimiyeVitreous\\20220425_165602.jpg: corrupt JPEG restored and saved\n",
      "\u001b[34m\u001b[1mval: \u001b[0mWARNING  C:\\Users\\Mehmet\\Desktop\\new_splited_wheat_dataset\\tmp_val\\images\\SelimiyeVitreous\\20220425_165705.jpg: corrupt JPEG restored and saved\n",
      "\u001b[34m\u001b[1mval: \u001b[0mWARNING  C:\\Users\\Mehmet\\Desktop\\new_splited_wheat_dataset\\tmp_val\\images\\SelimiyeVitreous\\20220425_165736.jpg: corrupt JPEG restored and saved\n",
      "\u001b[34m\u001b[1mval: \u001b[0mNew cache created: C:\\Users\\Mehmet\\Desktop\\new_splited_wheat_dataset\\tmp_val\\labels\\Bayraktar2000Vitreous.cache\n"
     ]
    },
    {
     "name": "stderr",
     "output_type": "stream",
     "text": [
      "\n"
     ]
    },
    {
     "name": "stdout",
     "output_type": "stream",
     "text": [
      "Plotting labels to C:\\Users\\Mehmet\\Desktop\\whead_dataset\\results\\train10\\labels.jpg... \n",
      "\u001b[34m\u001b[1moptimizer:\u001b[0m 'optimizer=auto' found, ignoring 'lr0=0.01' and 'momentum=0.937' and determining best 'optimizer', 'lr0' and 'momentum' automatically... \n",
      "\u001b[34m\u001b[1moptimizer:\u001b[0m AdamW(lr=0.000714, momentum=0.9) with parameter groups 81 weight(decay=0.0), 88 weight(decay=0.0005), 87 bias(decay=0.0)\n",
      "Image sizes 640 train, 640 val\n",
      "Using 8 dataloader workers\n",
      "Logging results to \u001b[1mC:\\Users\\Mehmet\\Desktop\\whead_dataset\\results\\train10\u001b[0m\n",
      "Starting training for 20 epochs...\n",
      "\n",
      "      Epoch    GPU_mem   box_loss   cls_loss   dfl_loss  Instances       Size\n"
     ]
    },
    {
     "name": "stderr",
     "output_type": "stream",
     "text": [
      "       1/20     0.726G       1.07      4.221     0.9706          8        640: 100%|██████████| 169/169 [00:24<00:00,  6.78it/s]\n",
      "                 Class     Images  Instances      Box(P          R      mAP50  mAP50-95): 100%|██████████| 22/22 [00:03<00:00,  6.85it/s]"
     ]
    },
    {
     "name": "stdout",
     "output_type": "stream",
     "text": [
      "                   all        169        189       0.14      0.473      0.165      0.132\n"
     ]
    },
    {
     "name": "stderr",
     "output_type": "stream",
     "text": [
      "\n"
     ]
    },
    {
     "name": "stdout",
     "output_type": "stream",
     "text": [
      "\n",
      "      Epoch    GPU_mem   box_loss   cls_loss   dfl_loss  Instances       Size\n"
     ]
    },
    {
     "name": "stderr",
     "output_type": "stream",
     "text": [
      "       2/20     0.711G     0.8863      3.352     0.9351          6        640: 100%|██████████| 169/169 [00:25<00:00,  6.71it/s]\n",
      "                 Class     Images  Instances      Box(P          R      mAP50  mAP50-95): 100%|██████████| 22/22 [00:03<00:00,  7.26it/s]\n"
     ]
    },
    {
     "name": "stdout",
     "output_type": "stream",
     "text": [
      "                   all        169        189      0.154      0.583      0.239      0.187\n",
      "\n",
      "      Epoch    GPU_mem   box_loss   cls_loss   dfl_loss  Instances       Size\n"
     ]
    },
    {
     "name": "stderr",
     "output_type": "stream",
     "text": [
      "       3/20     0.717G     0.8695      3.043      0.925          8        640: 100%|██████████| 169/169 [00:26<00:00,  6.44it/s]\n",
      "                 Class     Images  Instances      Box(P          R      mAP50  mAP50-95): 100%|██████████| 22/22 [00:03<00:00,  7.09it/s]"
     ]
    },
    {
     "name": "stdout",
     "output_type": "stream",
     "text": [
      "                   all        169        189      0.257      0.677      0.344       0.27\n"
     ]
    },
    {
     "name": "stderr",
     "output_type": "stream",
     "text": [
      "\n"
     ]
    },
    {
     "name": "stdout",
     "output_type": "stream",
     "text": [
      "\n",
      "      Epoch    GPU_mem   box_loss   cls_loss   dfl_loss  Instances       Size\n"
     ]
    },
    {
     "name": "stderr",
     "output_type": "stream",
     "text": [
      "       4/20     0.717G     0.8434      2.752     0.9242          6        640: 100%|██████████| 169/169 [00:26<00:00,  6.32it/s]\n",
      "                 Class     Images  Instances      Box(P          R      mAP50  mAP50-95): 100%|██████████| 22/22 [00:03<00:00,  6.84it/s]"
     ]
    },
    {
     "name": "stdout",
     "output_type": "stream",
     "text": [
      "                   all        169        189      0.277      0.732       0.42      0.334\n"
     ]
    },
    {
     "name": "stderr",
     "output_type": "stream",
     "text": [
      "\n"
     ]
    },
    {
     "name": "stdout",
     "output_type": "stream",
     "text": [
      "\n",
      "      Epoch    GPU_mem   box_loss   cls_loss   dfl_loss  Instances       Size\n"
     ]
    },
    {
     "name": "stderr",
     "output_type": "stream",
     "text": [
      "       5/20     0.717G     0.8148      2.558     0.9267          7        640: 100%|██████████| 169/169 [00:27<00:00,  6.25it/s]\n",
      "                 Class     Images  Instances      Box(P          R      mAP50  mAP50-95): 100%|██████████| 22/22 [00:03<00:00,  7.29it/s]"
     ]
    },
    {
     "name": "stdout",
     "output_type": "stream",
     "text": [
      "                   all        169        189      0.337      0.703      0.459      0.368\n"
     ]
    },
    {
     "name": "stderr",
     "output_type": "stream",
     "text": [
      "\n"
     ]
    },
    {
     "name": "stdout",
     "output_type": "stream",
     "text": [
      "\n",
      "      Epoch    GPU_mem   box_loss   cls_loss   dfl_loss  Instances       Size\n"
     ]
    },
    {
     "name": "stderr",
     "output_type": "stream",
     "text": [
      "       6/20     0.715G     0.7672      2.239     0.9144          4        640: 100%|██████████| 169/169 [00:28<00:00,  6.02it/s]\n",
      "                 Class     Images  Instances      Box(P          R      mAP50  mAP50-95): 100%|██████████| 22/22 [00:02<00:00,  8.34it/s]\n"
     ]
    },
    {
     "name": "stdout",
     "output_type": "stream",
     "text": [
      "                   all        169        189      0.388      0.915      0.505      0.413\n",
      "\n",
      "      Epoch    GPU_mem   box_loss   cls_loss   dfl_loss  Instances       Size\n"
     ]
    },
    {
     "name": "stderr",
     "output_type": "stream",
     "text": [
      "       7/20     0.715G     0.7988      2.128     0.9347          9        640: 100%|██████████| 169/169 [00:27<00:00,  6.16it/s]\n",
      "                 Class     Images  Instances      Box(P          R      mAP50  mAP50-95): 100%|██████████| 22/22 [00:02<00:00,  7.78it/s]"
     ]
    },
    {
     "name": "stdout",
     "output_type": "stream",
     "text": [
      "                   all        169        189      0.391      0.864      0.623      0.506\n"
     ]
    },
    {
     "name": "stderr",
     "output_type": "stream",
     "text": [
      "\n"
     ]
    },
    {
     "name": "stdout",
     "output_type": "stream",
     "text": [
      "\n",
      "      Epoch    GPU_mem   box_loss   cls_loss   dfl_loss  Instances       Size\n"
     ]
    },
    {
     "name": "stderr",
     "output_type": "stream",
     "text": [
      "       8/20     0.715G     0.7459      1.985     0.9137          8        640: 100%|██████████| 169/169 [00:27<00:00,  6.22it/s]\n",
      "                 Class     Images  Instances      Box(P          R      mAP50  mAP50-95): 100%|██████████| 22/22 [00:03<00:00,  7.32it/s]"
     ]
    },
    {
     "name": "stdout",
     "output_type": "stream",
     "text": [
      "                   all        169        189      0.427      0.863      0.608      0.497\n"
     ]
    },
    {
     "name": "stderr",
     "output_type": "stream",
     "text": [
      "\n"
     ]
    },
    {
     "name": "stdout",
     "output_type": "stream",
     "text": [
      "\n",
      "      Epoch    GPU_mem   box_loss   cls_loss   dfl_loss  Instances       Size\n"
     ]
    },
    {
     "name": "stderr",
     "output_type": "stream",
     "text": [
      "       9/20     0.715G     0.7255      1.877     0.9148          5        640: 100%|██████████| 169/169 [00:27<00:00,  6.20it/s]\n",
      "                 Class     Images  Instances      Box(P          R      mAP50  mAP50-95): 100%|██████████| 22/22 [00:03<00:00,  6.55it/s]"
     ]
    },
    {
     "name": "stdout",
     "output_type": "stream",
     "text": [
      "                   all        169        189      0.468      0.925       0.67      0.552\n"
     ]
    },
    {
     "name": "stderr",
     "output_type": "stream",
     "text": [
      "\n"
     ]
    },
    {
     "name": "stdout",
     "output_type": "stream",
     "text": [
      "\n",
      "      Epoch    GPU_mem   box_loss   cls_loss   dfl_loss  Instances       Size\n"
     ]
    },
    {
     "name": "stderr",
     "output_type": "stream",
     "text": [
      "      10/20     0.715G     0.7271      1.765     0.9063          9        640: 100%|██████████| 169/169 [00:27<00:00,  6.16it/s]\n",
      "                 Class     Images  Instances      Box(P          R      mAP50  mAP50-95): 100%|██████████| 22/22 [00:03<00:00,  6.90it/s]\n"
     ]
    },
    {
     "name": "stdout",
     "output_type": "stream",
     "text": [
      "                   all        169        189      0.516       0.89       0.67      0.543\n",
      "Closing dataloader mosaic\n",
      "\n",
      "      Epoch    GPU_mem   box_loss   cls_loss   dfl_loss  Instances       Size\n"
     ]
    },
    {
     "name": "stderr",
     "output_type": "stream",
     "text": [
      "      11/20     0.713G      0.696      2.028     0.9152          4        640: 100%|██████████| 169/169 [00:25<00:00,  6.57it/s]\n",
      "                 Class     Images  Instances      Box(P          R      mAP50  mAP50-95): 100%|██████████| 22/22 [00:02<00:00,  8.78it/s]"
     ]
    },
    {
     "name": "stdout",
     "output_type": "stream",
     "text": [
      "                   all        169        189       0.52      0.842      0.657      0.536\n"
     ]
    },
    {
     "name": "stderr",
     "output_type": "stream",
     "text": [
      "\n"
     ]
    },
    {
     "name": "stdout",
     "output_type": "stream",
     "text": [
      "\n",
      "      Epoch    GPU_mem   box_loss   cls_loss   dfl_loss  Instances       Size\n"
     ]
    },
    {
     "name": "stderr",
     "output_type": "stream",
     "text": [
      "      12/20     0.713G     0.6699      1.877     0.8997          4        640: 100%|██████████| 169/169 [00:26<00:00,  6.44it/s]\n",
      "                 Class     Images  Instances      Box(P          R      mAP50  mAP50-95): 100%|██████████| 22/22 [00:02<00:00,  7.57it/s]"
     ]
    },
    {
     "name": "stdout",
     "output_type": "stream",
     "text": [
      "                   all        169        189      0.565      0.777      0.727      0.598\n"
     ]
    },
    {
     "name": "stderr",
     "output_type": "stream",
     "text": [
      "\n"
     ]
    },
    {
     "name": "stdout",
     "output_type": "stream",
     "text": [
      "\n",
      "      Epoch    GPU_mem   box_loss   cls_loss   dfl_loss  Instances       Size\n"
     ]
    },
    {
     "name": "stderr",
     "output_type": "stream",
     "text": [
      "      13/20     0.715G     0.6438      1.727      0.901          4        640: 100%|██████████| 169/169 [00:27<00:00,  6.07it/s]\n",
      "                 Class     Images  Instances      Box(P          R      mAP50  mAP50-95): 100%|██████████| 22/22 [00:02<00:00,  9.41it/s]\n"
     ]
    },
    {
     "name": "stdout",
     "output_type": "stream",
     "text": [
      "                   all        169        189      0.654       0.79      0.794      0.664\n",
      "\n",
      "      Epoch    GPU_mem   box_loss   cls_loss   dfl_loss  Instances       Size\n"
     ]
    },
    {
     "name": "stderr",
     "output_type": "stream",
     "text": [
      "      14/20     0.713G     0.6549       1.67     0.8993          4        640: 100%|██████████| 169/169 [00:27<00:00,  6.15it/s]\n",
      "                 Class     Images  Instances      Box(P          R      mAP50  mAP50-95): 100%|██████████| 22/22 [00:02<00:00,  7.82it/s]"
     ]
    },
    {
     "name": "stdout",
     "output_type": "stream",
     "text": [
      "                   all        169        189      0.606      0.758      0.772      0.639\n"
     ]
    },
    {
     "name": "stderr",
     "output_type": "stream",
     "text": [
      "\n"
     ]
    },
    {
     "name": "stdout",
     "output_type": "stream",
     "text": [
      "\n",
      "      Epoch    GPU_mem   box_loss   cls_loss   dfl_loss  Instances       Size\n"
     ]
    },
    {
     "name": "stderr",
     "output_type": "stream",
     "text": [
      "      15/20     0.713G     0.6628      1.636     0.9031          4        640: 100%|██████████| 169/169 [00:27<00:00,  6.14it/s]\n",
      "                 Class     Images  Instances      Box(P          R      mAP50  mAP50-95): 100%|██████████| 22/22 [00:03<00:00,  7.08it/s]"
     ]
    },
    {
     "name": "stdout",
     "output_type": "stream",
     "text": [
      "                   all        169        189       0.61      0.919      0.741      0.603\n"
     ]
    },
    {
     "name": "stderr",
     "output_type": "stream",
     "text": [
      "\n"
     ]
    },
    {
     "name": "stdout",
     "output_type": "stream",
     "text": [
      "\n",
      "      Epoch    GPU_mem   box_loss   cls_loss   dfl_loss  Instances       Size\n"
     ]
    },
    {
     "name": "stderr",
     "output_type": "stream",
     "text": [
      "      16/20     0.713G     0.6287      1.535     0.8966          8        640: 100%|██████████| 169/169 [00:27<00:00,  6.13it/s]\n",
      "                 Class     Images  Instances      Box(P          R      mAP50  mAP50-95): 100%|██████████| 22/22 [00:02<00:00,  9.83it/s]\n"
     ]
    },
    {
     "name": "stdout",
     "output_type": "stream",
     "text": [
      "                   all        169        189      0.801      0.765      0.791      0.652\n",
      "\n",
      "      Epoch    GPU_mem   box_loss   cls_loss   dfl_loss  Instances       Size\n"
     ]
    },
    {
     "name": "stderr",
     "output_type": "stream",
     "text": [
      "      17/20     0.713G     0.6175      1.441     0.8788          4        640: 100%|██████████| 169/169 [00:28<00:00,  5.99it/s]\n",
      "                 Class     Images  Instances      Box(P          R      mAP50  mAP50-95): 100%|██████████| 22/22 [00:03<00:00,  7.12it/s]\n"
     ]
    },
    {
     "name": "stdout",
     "output_type": "stream",
     "text": [
      "                   all        169        189      0.628      0.903      0.803      0.667\n",
      "\n",
      "      Epoch    GPU_mem   box_loss   cls_loss   dfl_loss  Instances       Size\n"
     ]
    },
    {
     "name": "stderr",
     "output_type": "stream",
     "text": [
      "      18/20     0.715G     0.6187      1.433     0.8871          4        640: 100%|██████████| 169/169 [00:27<00:00,  6.07it/s]\n",
      "                 Class     Images  Instances      Box(P          R      mAP50  mAP50-95): 100%|██████████| 22/22 [00:02<00:00,  8.25it/s]"
     ]
    },
    {
     "name": "stdout",
     "output_type": "stream",
     "text": [
      "                   all        169        189      0.734      0.799      0.798      0.661\n"
     ]
    },
    {
     "name": "stderr",
     "output_type": "stream",
     "text": [
      "\n"
     ]
    },
    {
     "name": "stdout",
     "output_type": "stream",
     "text": [
      "\n",
      "      Epoch    GPU_mem   box_loss   cls_loss   dfl_loss  Instances       Size\n"
     ]
    },
    {
     "name": "stderr",
     "output_type": "stream",
     "text": [
      "      19/20     0.715G     0.6079      1.355     0.8806          4        640: 100%|██████████| 169/169 [00:27<00:00,  6.17it/s]\n",
      "                 Class     Images  Instances      Box(P          R      mAP50  mAP50-95): 100%|██████████| 22/22 [00:02<00:00,  8.15it/s]\n"
     ]
    },
    {
     "name": "stdout",
     "output_type": "stream",
     "text": [
      "                   all        169        189      0.659      0.938      0.805      0.672\n",
      "\n",
      "      Epoch    GPU_mem   box_loss   cls_loss   dfl_loss  Instances       Size\n"
     ]
    },
    {
     "name": "stderr",
     "output_type": "stream",
     "text": [
      "      20/20     0.713G     0.5976      1.331     0.8714          4        640: 100%|██████████| 169/169 [00:28<00:00,  5.90it/s]\n",
      "                 Class     Images  Instances      Box(P          R      mAP50  mAP50-95): 100%|██████████| 22/22 [00:02<00:00,  7.65it/s]"
     ]
    },
    {
     "name": "stdout",
     "output_type": "stream",
     "text": [
      "                   all        169        189      0.619      0.845      0.799      0.662\n"
     ]
    },
    {
     "name": "stderr",
     "output_type": "stream",
     "text": [
      "\n"
     ]
    },
    {
     "name": "stdout",
     "output_type": "stream",
     "text": [
      "\n",
      "20 epochs completed in 0.184 hours.\n",
      "Optimizer stripped from C:\\Users\\Mehmet\\Desktop\\whead_dataset\\results\\train10\\weights\\last.pt, 5.5MB\n",
      "Optimizer stripped from C:\\Users\\Mehmet\\Desktop\\whead_dataset\\results\\train10\\weights\\best.pt, 5.5MB\n",
      "\n",
      "Validating C:\\Users\\Mehmet\\Desktop\\whead_dataset\\results\\train10\\weights\\best.pt...\n",
      "Ultralytics 8.3.5  Python-3.9.20 torch-2.4.1+cu121 CUDA:0 (NVIDIA GeForce RTX 3050 Laptop GPU, 4096MiB)\n",
      "YOLO11n summary (fused): 238 layers, 2,584,102 parameters, 0 gradients, 6.3 GFLOPs\n"
     ]
    },
    {
     "name": "stderr",
     "output_type": "stream",
     "text": [
      "                 Class     Images  Instances      Box(P          R      mAP50  mAP50-95): 100%|██████████| 22/22 [00:02<00:00,  8.40it/s]\n"
     ]
    },
    {
     "name": "stdout",
     "output_type": "stream",
     "text": [
      "                   all        169        189      0.666      0.927      0.805      0.673\n",
      " Bayraktar2000Vitreous         17         17      0.786          1      0.989      0.782\n",
      "    Bezostaja1Vitreous         20         24      0.524          1      0.668      0.549\n",
      "     Delabrad2Vitreous         16         20      0.681       0.96      0.871      0.658\n",
      "          EkizVitreous         11         11      0.933          1      0.995      0.762\n",
      "       EsperiaVitreous         18         22      0.868      0.773      0.903      0.781\n",
      "      KiziltanVitreous         19         23      0.897          1      0.995      0.833\n",
      "       LucillaVitreous         21         21      0.582          1      0.801      0.736\n",
      "        OdeskaVitreous         12         12      0.468      0.735      0.566      0.478\n",
      "        RumeliVitreous         22         22      0.578      0.955       0.71      0.645\n",
      "      SelimiyeVitreous         13         17      0.348       0.85      0.547      0.507\n",
      "Speed: 1.2ms preprocess, 5.1ms inference, 0.0ms loss, 1.9ms postprocess per image\n",
      "Results saved to \u001b[1mC:\\Users\\Mehmet\\Desktop\\whead_dataset\\results\\train10\u001b[0m\n",
      "5.Eğitim bitti\n",
      "Bellek temizlendi\n"
     ]
    }
   ],
   "source": [
    "dataset_path = \"C:\\\\Users\\\\Mehmet\\\\Desktop\\\\splited_wheat_dataset\"\n",
    "new_path=\"C:\\\\Users\\\\Mehmet\\\\Desktop\\\\new_splited_wheat_dataset\"\n",
    "image_files=[]\n",
    "for f in os.listdir(dataset_path+\"\\\\train\\\\images\"):\n",
    "    for image in os.listdir(dataset_path+\"\\\\train\\\\images\\\\\"+f):\n",
    "         image_files.append(dataset_path+\"\\\\train\\\\images\\\\\"+f+\"\\\\\"+image)\n",
    "\n",
    "label_files = [f.replace('.jpg', '.txt').replace('.png', '.txt').replace('images','labels') for f in image_files]\n",
    "\n",
    "k_folds = 5\n",
    "kf = KFold(n_splits=k_folds, shuffle=True, random_state=42)\n",
    "\n",
    "#YAML DOSYASI OLUŞTURMA EKSİK\n",
    "\n",
    "if not os.path.exists(new_path):\n",
    "        os.makedirs(new_path)\n",
    "results=[]\n",
    "for fold, (train_idx, val_idx) in enumerate(kf.split(image_files)):\n",
    "    model = YOLO(\"yolo11n.yaml\")\n",
    "    model = YOLO(\"D:\\\\tarimda_yapay_zeka\\\\yolo11n.pt\")\n",
    "    model.model.to(device)\n",
    "    tmp_train_path=new_path+\"\\\\tmp_train\"\n",
    "    tmp_val_path=new_path+\"\\\\tmp_val\"\n",
    "\n",
    "    if not os.path.exists(tmp_train_path):\n",
    "        os.makedirs(tmp_train_path)\n",
    "    if not os.path.exists(tmp_val_path):\n",
    "        os.makedirs(tmp_val_path)\n",
    "\n",
    "    tmp_train_image=path=tmp_train_path+\"\\\\images\"\n",
    "    tmp_train_label=path=tmp_train_path+\"\\\\labels\"\n",
    "\n",
    "    if not os.path.exists(tmp_train_image):\n",
    "        os.makedirs(tmp_train_image)\n",
    "    if not os.path.exists(tmp_train_label):\n",
    "        os.makedirs(tmp_train_label)\n",
    "\n",
    "    tmp_val_image=path=tmp_val_path+\"\\\\images\"\n",
    "    tmp_val_label=path=tmp_val_path+\"\\\\labels\"\n",
    "\n",
    "    if not os.path.exists(tmp_val_image):\n",
    "        os.makedirs(tmp_val_image)\n",
    "    if not os.path.exists(tmp_val_label):\n",
    "        os.makedirs(tmp_val_label)\n",
    "    train_images = [image_files[i] for i in train_idx]\n",
    "    val_images = [image_files[i] for i in val_idx]\n",
    "\n",
    "    for image in train_images:\n",
    "        tmp_path1=tmp_train_path+\"\\\\images\\\\\"+\"\\\\\".join(image.split(\"\\\\\")[7:8])\n",
    "        tmp_path2=tmp_train_path+\"\\\\labels\\\\\"+\"\\\\\".join(image.split(\"\\\\\")[7:8])\n",
    "\n",
    "        if not os.path.exists(tmp_path1):\n",
    "            os.makedirs(tmp_path1)\n",
    "        if not os.path.exists(tmp_path2):\n",
    "            os.makedirs(tmp_path2)\n",
    "\n",
    "        shutil.copy(image,tmp_path1)\n",
    "        label = image.replace('.jpg', '.txt').replace('.jpeg', '.txt').replace('.png', '.txt').replace('images','labels')\n",
    "        shutil.copy(label,tmp_path2)\n",
    "\n",
    "    for image in val_images:\n",
    "        tmp_path1=tmp_val_path+\"\\\\images\\\\\"+\"\\\\\".join(image.split(\"\\\\\")[7:8])\n",
    "        tmp_path2=tmp_val_path+\"\\\\labels\\\\\"+\"\\\\\".join(image.split(\"\\\\\")[7:8])\n",
    "\n",
    "        if not os.path.exists(tmp_path1):\n",
    "            os.makedirs(tmp_path1)\n",
    "        if not os.path.exists(tmp_path2):\n",
    "            os.makedirs(tmp_path2)\n",
    "        shutil.copy(image,tmp_path1)\n",
    "        label = image.replace('.jpg', '.txt').replace('.jpeg', '.txt').replace('.png', '.txt').replace('images','labels')\n",
    "        shutil.copy(label,tmp_path2)\n",
    "\n",
    "    print(f\"{fold+1}.Eğitim başlıyor\")\n",
    "    results.append(model.train(data=\"C:\\\\Users\\\\Mehmet\\\\Desktop\\\\splited_wheat_dataset\\\\wheat_dataset_yaml.yaml\",batch=4,epochs=20,imgsz=640,project=\"C:\\\\Users\\\\Mehmet\\\\Desktop\\\\whead_dataset\\\\results\"))\n",
    "    print(f\"{fold+1}.Eğitim bitti\")\n",
    "    del train_images\n",
    "    del val_images\n",
    "    del model\n",
    "    gc.collect()\n",
    "    torch.cuda.empty_cache()\n",
    "    print(\"Bellek temizlendi\")\n",
    "    shutil.rmtree(tmp_train_path)\n",
    "    shutil.rmtree(tmp_val_path)\n",
    "    "
   ]
  }
 ],
 "metadata": {
  "kernelspec": {
   "display_name": "pytorch",
   "language": "python",
   "name": "python3"
  },
  "language_info": {
   "codemirror_mode": {
    "name": "ipython",
    "version": 3
   },
   "file_extension": ".py",
   "mimetype": "text/x-python",
   "name": "python",
   "nbconvert_exporter": "python",
   "pygments_lexer": "ipython3",
   "version": "3.9.20"
  }
 },
 "nbformat": 4,
 "nbformat_minor": 5
}
