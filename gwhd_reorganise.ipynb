{
 "cells": [
  {
   "cell_type": "code",
   "execution_count": 3,
   "id": "7242f51e",
   "metadata": {},
   "outputs": [],
   "source": [
    "import numpy as np\n",
    "import os\n",
    "import shutil\n",
    "from sklearn.model_selection import train_test_split\n",
    "dataset_path = \"C:\\\\Users\\\\Mehmet\\\\Desktop\\\\whead_dataset\"\n",
    "new_path = (\"\\\\\").join(dataset_path.split(\"\\\\\")[0:4]) + \"\\\\splited_wheat_dataset\"\n",
    "\n",
    "if not os.path.exists(new_path):\n",
    "    os.makedirs(new_path)\n",
    "y=[]\n",
    "files=[\"train\",\"test\"]\n",
    "for file in files:\n",
    "    f=os.path.join(new_path,file)\n",
    "    if not os.path.exists(f):\n",
    "        os.makedirs(f)\n",
    "    ty=os.listdir(dataset_path)\n",
    "    for t in ty:\n",
    "        tf=f+\"\\\\\"+t\n",
    "        y.append(tf)\n",
    "\n",
    "        if not os.path.exists(tf):\n",
    "            os.makedirs(tf)\n",
    "        classes=os.listdir(dataset_path+\"\\\\images\")\n",
    "        for classs in classes:\n",
    "            ctf=tf+\"\\\\\"+classs\n",
    "            if not os.path.exists(ctf):\n",
    "                os.makedirs(ctf)\n",
    "all_images=[]\n",
    "\n",
    "for f in os.listdir(dataset_path+\"\\\\images\"):\n",
    "    for i in os.listdir(dataset_path+\"\\\\images\\\\\"+f):\n",
    "        all_images.append(dataset_path+\"\\\\images\\\\\"+f+\"\\\\\"+i)\n",
    "train_images, test_images = train_test_split(all_images, test_size=0.2, random_state=42)\n",
    "for img_file in train_images:\n",
    "    shutil.copy(img_file,(y[0]+\"\\\\\"+\"\\\\\".join(img_file.split(\"\\\\\")[6:7])))\n",
    "    label_file = img_file.replace('.jpg', '.txt').replace('.jpeg', '.txt').replace('.png', '.txt').replace('images','labels')\n",
    "    shutil.copy(label_file,y[1]+\"\\\\\"+\"\\\\\".join(label_file.split(\"\\\\\")[6:7]))\n",
    "\n",
    "for img_file in test_images:\n",
    "    shutil.copy(img_file,y[2]+\"\\\\\"+\"\\\\\".join(img_file.split(\"\\\\\")[6:7]))\n",
    "    label_file = img_file.replace('.jpg', '.txt').replace('.jpeg', '.txt').replace('.png', '.txt').replace('images','labels')\n",
    "    shutil.copy(label_file,y[3]+\"\\\\\"+\"\\\\\".join(label_file.split(\"\\\\\")[6:7]))\n"
   ]
  }
 ],
 "metadata": {
  "kernelspec": {
   "display_name": "Python 3 (ipykernel)",
   "language": "python",
   "name": "python3"
  },
  "language_info": {
   "codemirror_mode": {
    "name": "ipython",
    "version": 3
   },
   "file_extension": ".py",
   "mimetype": "text/x-python",
   "name": "python",
   "nbconvert_exporter": "python",
   "pygments_lexer": "ipython3",
   "version": "3.9.20"
  }
 },
 "nbformat": 4,
 "nbformat_minor": 5
}
